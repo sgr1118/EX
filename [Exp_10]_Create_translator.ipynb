{
  "nbformat": 4,
  "nbformat_minor": 0,
  "metadata": {
    "colab": {
      "name": "[Exp-10] Create translator.ipynb",
      "provenance": [],
      "collapsed_sections": [],
      "machine_shape": "hm",
      "mount_file_id": "1AmVyjNTBwOGMRNo0tlIYrTeKvCvAh_RM",
      "authorship_tag": "ABX9TyOBbRR7QnuRIuP8IrIxCJhG",
      "include_colab_link": true
    },
    "kernelspec": {
      "name": "python3",
      "display_name": "Python 3"
    },
    "language_info": {
      "name": "python"
    },
    "accelerator": "GPU",
    "gpuClass": "standard"
  },
  "cells": [
    {
      "cell_type": "markdown",
      "metadata": {
        "id": "view-in-github",
        "colab_type": "text"
      },
      "source": [
        "<a href=\"https://colab.research.google.com/github/sgr1118/EX/blob/main/%5BExp_10%5D_Create_translator.ipynb\" target=\"_parent\"><img src=\"https://colab.research.google.com/assets/colab-badge.svg\" alt=\"Open In Colab\"/></a>"
      ]
    },
    {
      "cell_type": "markdown",
      "source": [
        "# 10-10. 프로젝트 : 단어 Level로 번역기 업그레이드하기\n",
        "\n",
        "- 동일한 데이터셋을 사용하면서 글자 단위와는 다른 전처리와 임베딩 층(Embedding layer)를 추가하여 단어 단위의 번역기를 완성\n",
        "\n",
        "- 단어 단위로 할 경우에는 단어의 개수가 글자 단위로 했을 경우와 비교하여 단어장의 크기(Vocabulary) 크기도 커지고, 학습 속도도 좀 더 느려집니다.\n",
        "\n",
        "- 학습과 테스트 시의 원활한 진행을 위해서 데이터에서 상위 33,000개의 샘플\n",
        "\n",
        "- 33000개 중 3000개는 테스트 데이터로 분리하여 사용"
      ],
      "metadata": {
        "id": "so3eWspn-loP"
      }
    },
    {
      "cell_type": "code",
      "source": [
        "from google.colab import drive\n",
        "drive.mount('/content/drive')"
      ],
      "metadata": {
        "colab": {
          "base_uri": "https://localhost:8080/"
        },
        "id": "caSuGkvJv7bI",
        "outputId": "f40e0dbb-45e8-4413-d8bf-ca9c68849583"
      },
      "execution_count": null,
      "outputs": [
        {
          "output_type": "stream",
          "name": "stdout",
          "text": [
            "Mounted at /content/drive\n"
          ]
        }
      ]
    },
    {
      "cell_type": "code",
      "source": [
        "# 영구적인 라이브러리 설치하기위한 경로 지정\n",
        "import os, sys\n",
        "\n",
        "my_path = '/content/notebooks'\n",
        "# Colab Notebooks 안에 my_env 폴더에 패키지 저장\n",
        "os.symlink('/content/drive/MyDrive/Colab Notebooks/my_env2', my_path)\n",
        "sys.path.insert(0, my_path)"
      ],
      "metadata": {
        "id": "RYZojn_Mo2YF"
      },
      "execution_count": 1,
      "outputs": []
    },
    {
      "cell_type": "code",
      "source": [
        "!apt install --allow-change-held-packages libcudnn8=8.1.0.77-1+cuda11.2\n",
        "!pip install --target=$my_path--upgrade tensorflow"
      ],
      "metadata": {
        "id": "jh8mh_OZo1vb"
      },
      "execution_count": null,
      "outputs": []
    },
    {
      "cell_type": "code",
      "execution_count": 2,
      "metadata": {
        "id": "Uw765SDy-OJc"
      },
      "outputs": [],
      "source": [
        "# 필요한 라이브러리 불러오기\n",
        "import pandas as pd\n",
        "from tensorflow.keras.preprocessing.text import Tokenizer\n",
        "from tensorflow.keras.preprocessing.sequence import pad_sequences\n",
        "from tensorflow.keras.utils import to_categorical\n",
        "import numpy as np"
      ]
    },
    {
      "cell_type": "code",
      "source": [
        "# 데이터 불러오기\n",
        "file_path = '/content/drive/MyDrive/Aiffel/EX/EX10_txt/fra.txt'\n",
        "lines = pd.read_csv(file_path, names=['eng', 'fra', 'cc'], sep = '\\t')\n",
        "print('전체 샘플의 수 :', len(lines))\n",
        "lines.sample(3)"
      ],
      "metadata": {
        "colab": {
          "base_uri": "https://localhost:8080/",
          "height": 162
        },
        "id": "rCg7fuIWwoos",
        "outputId": "9bd9f725-854e-4a6d-a97b-8bd0356d9959"
      },
      "execution_count": 3,
      "outputs": [
        {
          "output_type": "stream",
          "name": "stdout",
          "text": [
            "전체 샘플의 수 : 194513\n"
          ]
        },
        {
          "output_type": "execute_result",
          "data": {
            "text/plain": [
              "                                           eng  \\\n",
              "142688    Are you telling me how to do my job?   \n",
              "151465  Do you regularly experience dry mouth?   \n",
              "64882                 Jump as high as you can.   \n",
              "\n",
              "                                                      fra  \\\n",
              "142688  Es-tu en train de me dire comment faire mon bo...   \n",
              "151465          Avez-vous régulièrement la bouche sèche ?   \n",
              "64882                     Saute le plus haut que tu peux.   \n",
              "\n",
              "                                                       cc  \n",
              "142688  CC-BY 2.0 (France) Attribution: tatoeba.org #1...  \n",
              "151465  CC-BY 2.0 (France) Attribution: tatoeba.org #9...  \n",
              "64882   CC-BY 2.0 (France) Attribution: tatoeba.org #4...  "
            ],
            "text/html": [
              "\n",
              "  <div id=\"df-c7247377-bb8d-41ff-8ce0-7d72a9b6e369\">\n",
              "    <div class=\"colab-df-container\">\n",
              "      <div>\n",
              "<style scoped>\n",
              "    .dataframe tbody tr th:only-of-type {\n",
              "        vertical-align: middle;\n",
              "    }\n",
              "\n",
              "    .dataframe tbody tr th {\n",
              "        vertical-align: top;\n",
              "    }\n",
              "\n",
              "    .dataframe thead th {\n",
              "        text-align: right;\n",
              "    }\n",
              "</style>\n",
              "<table border=\"1\" class=\"dataframe\">\n",
              "  <thead>\n",
              "    <tr style=\"text-align: right;\">\n",
              "      <th></th>\n",
              "      <th>eng</th>\n",
              "      <th>fra</th>\n",
              "      <th>cc</th>\n",
              "    </tr>\n",
              "  </thead>\n",
              "  <tbody>\n",
              "    <tr>\n",
              "      <th>142688</th>\n",
              "      <td>Are you telling me how to do my job?</td>\n",
              "      <td>Es-tu en train de me dire comment faire mon bo...</td>\n",
              "      <td>CC-BY 2.0 (France) Attribution: tatoeba.org #1...</td>\n",
              "    </tr>\n",
              "    <tr>\n",
              "      <th>151465</th>\n",
              "      <td>Do you regularly experience dry mouth?</td>\n",
              "      <td>Avez-vous régulièrement la bouche sèche ?</td>\n",
              "      <td>CC-BY 2.0 (France) Attribution: tatoeba.org #9...</td>\n",
              "    </tr>\n",
              "    <tr>\n",
              "      <th>64882</th>\n",
              "      <td>Jump as high as you can.</td>\n",
              "      <td>Saute le plus haut que tu peux.</td>\n",
              "      <td>CC-BY 2.0 (France) Attribution: tatoeba.org #4...</td>\n",
              "    </tr>\n",
              "  </tbody>\n",
              "</table>\n",
              "</div>\n",
              "      <button class=\"colab-df-convert\" onclick=\"convertToInteractive('df-c7247377-bb8d-41ff-8ce0-7d72a9b6e369')\"\n",
              "              title=\"Convert this dataframe to an interactive table.\"\n",
              "              style=\"display:none;\">\n",
              "        \n",
              "  <svg xmlns=\"http://www.w3.org/2000/svg\" height=\"24px\"viewBox=\"0 0 24 24\"\n",
              "       width=\"24px\">\n",
              "    <path d=\"M0 0h24v24H0V0z\" fill=\"none\"/>\n",
              "    <path d=\"M18.56 5.44l.94 2.06.94-2.06 2.06-.94-2.06-.94-.94-2.06-.94 2.06-2.06.94zm-11 1L8.5 8.5l.94-2.06 2.06-.94-2.06-.94L8.5 2.5l-.94 2.06-2.06.94zm10 10l.94 2.06.94-2.06 2.06-.94-2.06-.94-.94-2.06-.94 2.06-2.06.94z\"/><path d=\"M17.41 7.96l-1.37-1.37c-.4-.4-.92-.59-1.43-.59-.52 0-1.04.2-1.43.59L10.3 9.45l-7.72 7.72c-.78.78-.78 2.05 0 2.83L4 21.41c.39.39.9.59 1.41.59.51 0 1.02-.2 1.41-.59l7.78-7.78 2.81-2.81c.8-.78.8-2.07 0-2.86zM5.41 20L4 18.59l7.72-7.72 1.47 1.35L5.41 20z\"/>\n",
              "  </svg>\n",
              "      </button>\n",
              "      \n",
              "  <style>\n",
              "    .colab-df-container {\n",
              "      display:flex;\n",
              "      flex-wrap:wrap;\n",
              "      gap: 12px;\n",
              "    }\n",
              "\n",
              "    .colab-df-convert {\n",
              "      background-color: #E8F0FE;\n",
              "      border: none;\n",
              "      border-radius: 50%;\n",
              "      cursor: pointer;\n",
              "      display: none;\n",
              "      fill: #1967D2;\n",
              "      height: 32px;\n",
              "      padding: 0 0 0 0;\n",
              "      width: 32px;\n",
              "    }\n",
              "\n",
              "    .colab-df-convert:hover {\n",
              "      background-color: #E2EBFA;\n",
              "      box-shadow: 0px 1px 2px rgba(60, 64, 67, 0.3), 0px 1px 3px 1px rgba(60, 64, 67, 0.15);\n",
              "      fill: #174EA6;\n",
              "    }\n",
              "\n",
              "    [theme=dark] .colab-df-convert {\n",
              "      background-color: #3B4455;\n",
              "      fill: #D2E3FC;\n",
              "    }\n",
              "\n",
              "    [theme=dark] .colab-df-convert:hover {\n",
              "      background-color: #434B5C;\n",
              "      box-shadow: 0px 1px 3px 1px rgba(0, 0, 0, 0.15);\n",
              "      filter: drop-shadow(0px 1px 2px rgba(0, 0, 0, 0.3));\n",
              "      fill: #FFFFFF;\n",
              "    }\n",
              "  </style>\n",
              "\n",
              "      <script>\n",
              "        const buttonEl =\n",
              "          document.querySelector('#df-c7247377-bb8d-41ff-8ce0-7d72a9b6e369 button.colab-df-convert');\n",
              "        buttonEl.style.display =\n",
              "          google.colab.kernel.accessAllowed ? 'block' : 'none';\n",
              "\n",
              "        async function convertToInteractive(key) {\n",
              "          const element = document.querySelector('#df-c7247377-bb8d-41ff-8ce0-7d72a9b6e369');\n",
              "          const dataTable =\n",
              "            await google.colab.kernel.invokeFunction('convertToInteractive',\n",
              "                                                     [key], {});\n",
              "          if (!dataTable) return;\n",
              "\n",
              "          const docLinkHtml = 'Like what you see? Visit the ' +\n",
              "            '<a target=\"_blank\" href=https://colab.research.google.com/notebooks/data_table.ipynb>data table notebook</a>'\n",
              "            + ' to learn more about interactive tables.';\n",
              "          element.innerHTML = '';\n",
              "          dataTable['output_type'] = 'display_data';\n",
              "          await google.colab.output.renderOutput(dataTable, element);\n",
              "          const docLink = document.createElement('div');\n",
              "          docLink.innerHTML = docLinkHtml;\n",
              "          element.appendChild(docLink);\n",
              "        }\n",
              "      </script>\n",
              "    </div>\n",
              "  </div>\n",
              "  "
            ]
          },
          "metadata": {},
          "execution_count": 3
        }
      ]
    },
    {
      "cell_type": "code",
      "source": [
        "# train 데이터는 조간에 따라 33000개만 사용\n",
        "lines = lines[['eng', 'fra']][:33000]\n",
        "lines_c = lines.copy()\n",
        "# 분석에 문제가 생길경우를 대비라여 copy파일 생성\n",
        "lines_c.sample(5)"
      ],
      "metadata": {
        "colab": {
          "base_uri": "https://localhost:8080/",
          "height": 206
        },
        "id": "pVm9x5Tz5Cft",
        "outputId": "a547a6a2-ebda-4fce-a7d4-7cdf4011e027"
      },
      "execution_count": 4,
      "outputs": [
        {
          "output_type": "execute_result",
          "data": {
            "text/plain": [
              "                       eng                             fra\n",
              "12812      You're invited.              Vous êtes invitée.\n",
              "15928     This is so hard.                   C'est si dur.\n",
              "13580     He is a student.              C'est un étudiant.\n",
              "28407  Don't ask me again.  Ne me repose pas la question !\n",
              "26039   They'll eat those.          Ils mangeront ceux-là."
            ],
            "text/html": [
              "\n",
              "  <div id=\"df-e987fda9-bbbe-42e8-9927-4b0b7bcb0881\">\n",
              "    <div class=\"colab-df-container\">\n",
              "      <div>\n",
              "<style scoped>\n",
              "    .dataframe tbody tr th:only-of-type {\n",
              "        vertical-align: middle;\n",
              "    }\n",
              "\n",
              "    .dataframe tbody tr th {\n",
              "        vertical-align: top;\n",
              "    }\n",
              "\n",
              "    .dataframe thead th {\n",
              "        text-align: right;\n",
              "    }\n",
              "</style>\n",
              "<table border=\"1\" class=\"dataframe\">\n",
              "  <thead>\n",
              "    <tr style=\"text-align: right;\">\n",
              "      <th></th>\n",
              "      <th>eng</th>\n",
              "      <th>fra</th>\n",
              "    </tr>\n",
              "  </thead>\n",
              "  <tbody>\n",
              "    <tr>\n",
              "      <th>12812</th>\n",
              "      <td>You're invited.</td>\n",
              "      <td>Vous êtes invitée.</td>\n",
              "    </tr>\n",
              "    <tr>\n",
              "      <th>15928</th>\n",
              "      <td>This is so hard.</td>\n",
              "      <td>C'est si dur.</td>\n",
              "    </tr>\n",
              "    <tr>\n",
              "      <th>13580</th>\n",
              "      <td>He is a student.</td>\n",
              "      <td>C'est un étudiant.</td>\n",
              "    </tr>\n",
              "    <tr>\n",
              "      <th>28407</th>\n",
              "      <td>Don't ask me again.</td>\n",
              "      <td>Ne me repose pas la question !</td>\n",
              "    </tr>\n",
              "    <tr>\n",
              "      <th>26039</th>\n",
              "      <td>They'll eat those.</td>\n",
              "      <td>Ils mangeront ceux-là.</td>\n",
              "    </tr>\n",
              "  </tbody>\n",
              "</table>\n",
              "</div>\n",
              "      <button class=\"colab-df-convert\" onclick=\"convertToInteractive('df-e987fda9-bbbe-42e8-9927-4b0b7bcb0881')\"\n",
              "              title=\"Convert this dataframe to an interactive table.\"\n",
              "              style=\"display:none;\">\n",
              "        \n",
              "  <svg xmlns=\"http://www.w3.org/2000/svg\" height=\"24px\"viewBox=\"0 0 24 24\"\n",
              "       width=\"24px\">\n",
              "    <path d=\"M0 0h24v24H0V0z\" fill=\"none\"/>\n",
              "    <path d=\"M18.56 5.44l.94 2.06.94-2.06 2.06-.94-2.06-.94-.94-2.06-.94 2.06-2.06.94zm-11 1L8.5 8.5l.94-2.06 2.06-.94-2.06-.94L8.5 2.5l-.94 2.06-2.06.94zm10 10l.94 2.06.94-2.06 2.06-.94-2.06-.94-.94-2.06-.94 2.06-2.06.94z\"/><path d=\"M17.41 7.96l-1.37-1.37c-.4-.4-.92-.59-1.43-.59-.52 0-1.04.2-1.43.59L10.3 9.45l-7.72 7.72c-.78.78-.78 2.05 0 2.83L4 21.41c.39.39.9.59 1.41.59.51 0 1.02-.2 1.41-.59l7.78-7.78 2.81-2.81c.8-.78.8-2.07 0-2.86zM5.41 20L4 18.59l7.72-7.72 1.47 1.35L5.41 20z\"/>\n",
              "  </svg>\n",
              "      </button>\n",
              "      \n",
              "  <style>\n",
              "    .colab-df-container {\n",
              "      display:flex;\n",
              "      flex-wrap:wrap;\n",
              "      gap: 12px;\n",
              "    }\n",
              "\n",
              "    .colab-df-convert {\n",
              "      background-color: #E8F0FE;\n",
              "      border: none;\n",
              "      border-radius: 50%;\n",
              "      cursor: pointer;\n",
              "      display: none;\n",
              "      fill: #1967D2;\n",
              "      height: 32px;\n",
              "      padding: 0 0 0 0;\n",
              "      width: 32px;\n",
              "    }\n",
              "\n",
              "    .colab-df-convert:hover {\n",
              "      background-color: #E2EBFA;\n",
              "      box-shadow: 0px 1px 2px rgba(60, 64, 67, 0.3), 0px 1px 3px 1px rgba(60, 64, 67, 0.15);\n",
              "      fill: #174EA6;\n",
              "    }\n",
              "\n",
              "    [theme=dark] .colab-df-convert {\n",
              "      background-color: #3B4455;\n",
              "      fill: #D2E3FC;\n",
              "    }\n",
              "\n",
              "    [theme=dark] .colab-df-convert:hover {\n",
              "      background-color: #434B5C;\n",
              "      box-shadow: 0px 1px 3px 1px rgba(0, 0, 0, 0.15);\n",
              "      filter: drop-shadow(0px 1px 2px rgba(0, 0, 0, 0.3));\n",
              "      fill: #FFFFFF;\n",
              "    }\n",
              "  </style>\n",
              "\n",
              "      <script>\n",
              "        const buttonEl =\n",
              "          document.querySelector('#df-e987fda9-bbbe-42e8-9927-4b0b7bcb0881 button.colab-df-convert');\n",
              "        buttonEl.style.display =\n",
              "          google.colab.kernel.accessAllowed ? 'block' : 'none';\n",
              "\n",
              "        async function convertToInteractive(key) {\n",
              "          const element = document.querySelector('#df-e987fda9-bbbe-42e8-9927-4b0b7bcb0881');\n",
              "          const dataTable =\n",
              "            await google.colab.kernel.invokeFunction('convertToInteractive',\n",
              "                                                     [key], {});\n",
              "          if (!dataTable) return;\n",
              "\n",
              "          const docLinkHtml = 'Like what you see? Visit the ' +\n",
              "            '<a target=\"_blank\" href=https://colab.research.google.com/notebooks/data_table.ipynb>data table notebook</a>'\n",
              "            + ' to learn more about interactive tables.';\n",
              "          element.innerHTML = '';\n",
              "          dataTable['output_type'] = 'display_data';\n",
              "          await google.colab.output.renderOutput(dataTable, element);\n",
              "          const docLink = document.createElement('div');\n",
              "          docLink.innerHTML = docLinkHtml;\n",
              "          element.appendChild(docLink);\n",
              "        }\n",
              "      </script>\n",
              "    </div>\n",
              "  </div>\n",
              "  "
            ]
          },
          "metadata": {},
          "execution_count": 4
        }
      ]
    },
    {
      "cell_type": "markdown",
      "source": [
        "# Step2. 디코더의 문장에 시작 토큰과 종료 토큰을 넣어주세요.\n",
        "- 원래는 2단계이지만 미리 토큰을 삽입하고 전처리를 수행"
      ],
      "metadata": {
        "id": "bL4G7B-S0VYy"
      }
    },
    {
      "cell_type": "code",
      "source": [
        "# 시작 토큰<sos>와 종료 토큰<eos>만들기\n",
        "sos_token = '<sos>' # tap키\n",
        "eos_token = '<eos>' # 줄바꿈\n",
        "lines_c.fra = lines_c.fra.apply(lambda x: '<sos> ' + x + ' <eos>')\n",
        "print('전체 샘플의 수:', len(lines))\n",
        "lines_c.sample(3)"
      ],
      "metadata": {
        "colab": {
          "base_uri": "https://localhost:8080/",
          "height": 162
        },
        "id": "1OZW1Ayu5mxP",
        "outputId": "c84638d1-2805-4456-c2aa-cf17e76ff844"
      },
      "execution_count": 5,
      "outputs": [
        {
          "output_type": "stream",
          "name": "stdout",
          "text": [
            "전체 샘플의 수: 33000\n"
          ]
        },
        {
          "output_type": "execute_result",
          "data": {
            "text/plain": [
              "                       eng                                          fra\n",
              "30504  Is breakfast ready?  <sos> Le petit-déjeuner est-il prêt ? <eos>\n",
              "22248    You're too tense.           <sos> Vous êtes trop tendus. <eos>\n",
              "18879    I really need it.         <sos> J'en ai vraiment besoin. <eos>"
            ],
            "text/html": [
              "\n",
              "  <div id=\"df-8f4b8de0-81bd-4a04-ba77-16a2b3f4d60b\">\n",
              "    <div class=\"colab-df-container\">\n",
              "      <div>\n",
              "<style scoped>\n",
              "    .dataframe tbody tr th:only-of-type {\n",
              "        vertical-align: middle;\n",
              "    }\n",
              "\n",
              "    .dataframe tbody tr th {\n",
              "        vertical-align: top;\n",
              "    }\n",
              "\n",
              "    .dataframe thead th {\n",
              "        text-align: right;\n",
              "    }\n",
              "</style>\n",
              "<table border=\"1\" class=\"dataframe\">\n",
              "  <thead>\n",
              "    <tr style=\"text-align: right;\">\n",
              "      <th></th>\n",
              "      <th>eng</th>\n",
              "      <th>fra</th>\n",
              "    </tr>\n",
              "  </thead>\n",
              "  <tbody>\n",
              "    <tr>\n",
              "      <th>30504</th>\n",
              "      <td>Is breakfast ready?</td>\n",
              "      <td>&lt;sos&gt; Le petit-déjeuner est-il prêt ? &lt;eos&gt;</td>\n",
              "    </tr>\n",
              "    <tr>\n",
              "      <th>22248</th>\n",
              "      <td>You're too tense.</td>\n",
              "      <td>&lt;sos&gt; Vous êtes trop tendus. &lt;eos&gt;</td>\n",
              "    </tr>\n",
              "    <tr>\n",
              "      <th>18879</th>\n",
              "      <td>I really need it.</td>\n",
              "      <td>&lt;sos&gt; J'en ai vraiment besoin. &lt;eos&gt;</td>\n",
              "    </tr>\n",
              "  </tbody>\n",
              "</table>\n",
              "</div>\n",
              "      <button class=\"colab-df-convert\" onclick=\"convertToInteractive('df-8f4b8de0-81bd-4a04-ba77-16a2b3f4d60b')\"\n",
              "              title=\"Convert this dataframe to an interactive table.\"\n",
              "              style=\"display:none;\">\n",
              "        \n",
              "  <svg xmlns=\"http://www.w3.org/2000/svg\" height=\"24px\"viewBox=\"0 0 24 24\"\n",
              "       width=\"24px\">\n",
              "    <path d=\"M0 0h24v24H0V0z\" fill=\"none\"/>\n",
              "    <path d=\"M18.56 5.44l.94 2.06.94-2.06 2.06-.94-2.06-.94-.94-2.06-.94 2.06-2.06.94zm-11 1L8.5 8.5l.94-2.06 2.06-.94-2.06-.94L8.5 2.5l-.94 2.06-2.06.94zm10 10l.94 2.06.94-2.06 2.06-.94-2.06-.94-.94-2.06-.94 2.06-2.06.94z\"/><path d=\"M17.41 7.96l-1.37-1.37c-.4-.4-.92-.59-1.43-.59-.52 0-1.04.2-1.43.59L10.3 9.45l-7.72 7.72c-.78.78-.78 2.05 0 2.83L4 21.41c.39.39.9.59 1.41.59.51 0 1.02-.2 1.41-.59l7.78-7.78 2.81-2.81c.8-.78.8-2.07 0-2.86zM5.41 20L4 18.59l7.72-7.72 1.47 1.35L5.41 20z\"/>\n",
              "  </svg>\n",
              "      </button>\n",
              "      \n",
              "  <style>\n",
              "    .colab-df-container {\n",
              "      display:flex;\n",
              "      flex-wrap:wrap;\n",
              "      gap: 12px;\n",
              "    }\n",
              "\n",
              "    .colab-df-convert {\n",
              "      background-color: #E8F0FE;\n",
              "      border: none;\n",
              "      border-radius: 50%;\n",
              "      cursor: pointer;\n",
              "      display: none;\n",
              "      fill: #1967D2;\n",
              "      height: 32px;\n",
              "      padding: 0 0 0 0;\n",
              "      width: 32px;\n",
              "    }\n",
              "\n",
              "    .colab-df-convert:hover {\n",
              "      background-color: #E2EBFA;\n",
              "      box-shadow: 0px 1px 2px rgba(60, 64, 67, 0.3), 0px 1px 3px 1px rgba(60, 64, 67, 0.15);\n",
              "      fill: #174EA6;\n",
              "    }\n",
              "\n",
              "    [theme=dark] .colab-df-convert {\n",
              "      background-color: #3B4455;\n",
              "      fill: #D2E3FC;\n",
              "    }\n",
              "\n",
              "    [theme=dark] .colab-df-convert:hover {\n",
              "      background-color: #434B5C;\n",
              "      box-shadow: 0px 1px 3px 1px rgba(0, 0, 0, 0.15);\n",
              "      filter: drop-shadow(0px 1px 2px rgba(0, 0, 0, 0.3));\n",
              "      fill: #FFFFFF;\n",
              "    }\n",
              "  </style>\n",
              "\n",
              "      <script>\n",
              "        const buttonEl =\n",
              "          document.querySelector('#df-8f4b8de0-81bd-4a04-ba77-16a2b3f4d60b button.colab-df-convert');\n",
              "        buttonEl.style.display =\n",
              "          google.colab.kernel.accessAllowed ? 'block' : 'none';\n",
              "\n",
              "        async function convertToInteractive(key) {\n",
              "          const element = document.querySelector('#df-8f4b8de0-81bd-4a04-ba77-16a2b3f4d60b');\n",
              "          const dataTable =\n",
              "            await google.colab.kernel.invokeFunction('convertToInteractive',\n",
              "                                                     [key], {});\n",
              "          if (!dataTable) return;\n",
              "\n",
              "          const docLinkHtml = 'Like what you see? Visit the ' +\n",
              "            '<a target=\"_blank\" href=https://colab.research.google.com/notebooks/data_table.ipynb>data table notebook</a>'\n",
              "            + ' to learn more about interactive tables.';\n",
              "          element.innerHTML = '';\n",
              "          dataTable['output_type'] = 'display_data';\n",
              "          await google.colab.output.renderOutput(dataTable, element);\n",
              "          const docLink = document.createElement('div');\n",
              "          docLink.innerHTML = docLinkHtml;\n",
              "          element.appendChild(docLink);\n",
              "        }\n",
              "      </script>\n",
              "    </div>\n",
              "  </div>\n",
              "  "
            ]
          },
          "metadata": {},
          "execution_count": 5
        }
      ]
    },
    {
      "cell_type": "code",
      "source": [
        "lines_c.iloc[:5]\n",
        "# 다음 전처리에서 주의해야할 부문은 구두점의 띄어쓰기인것으로 판단된다.\n",
        "# fra에서 어떤 구두점은 띄어쓰기가 되어있고 아닌것도 있다."
      ],
      "metadata": {
        "colab": {
          "base_uri": "https://localhost:8080/",
          "height": 206
        },
        "id": "0DqShvxdTfNd",
        "outputId": "ed91d156-69b6-45ad-ced9-fe89f89b3b79"
      },
      "execution_count": 6,
      "outputs": [
        {
          "output_type": "execute_result",
          "data": {
            "text/plain": [
              "   eng                  fra\n",
              "0  Go.     <sos> Va ! <eos>\n",
              "1  Go.  <sos> Marche. <eos>\n",
              "2  Go.  <sos> Bouge ! <eos>\n",
              "3  Hi.  <sos> Salut ! <eos>\n",
              "4  Hi.   <sos> Salut. <eos>"
            ],
            "text/html": [
              "\n",
              "  <div id=\"df-4223af2f-5fdf-4534-aec1-27774e5e93f6\">\n",
              "    <div class=\"colab-df-container\">\n",
              "      <div>\n",
              "<style scoped>\n",
              "    .dataframe tbody tr th:only-of-type {\n",
              "        vertical-align: middle;\n",
              "    }\n",
              "\n",
              "    .dataframe tbody tr th {\n",
              "        vertical-align: top;\n",
              "    }\n",
              "\n",
              "    .dataframe thead th {\n",
              "        text-align: right;\n",
              "    }\n",
              "</style>\n",
              "<table border=\"1\" class=\"dataframe\">\n",
              "  <thead>\n",
              "    <tr style=\"text-align: right;\">\n",
              "      <th></th>\n",
              "      <th>eng</th>\n",
              "      <th>fra</th>\n",
              "    </tr>\n",
              "  </thead>\n",
              "  <tbody>\n",
              "    <tr>\n",
              "      <th>0</th>\n",
              "      <td>Go.</td>\n",
              "      <td>&lt;sos&gt; Va ! &lt;eos&gt;</td>\n",
              "    </tr>\n",
              "    <tr>\n",
              "      <th>1</th>\n",
              "      <td>Go.</td>\n",
              "      <td>&lt;sos&gt; Marche. &lt;eos&gt;</td>\n",
              "    </tr>\n",
              "    <tr>\n",
              "      <th>2</th>\n",
              "      <td>Go.</td>\n",
              "      <td>&lt;sos&gt; Bouge ! &lt;eos&gt;</td>\n",
              "    </tr>\n",
              "    <tr>\n",
              "      <th>3</th>\n",
              "      <td>Hi.</td>\n",
              "      <td>&lt;sos&gt; Salut ! &lt;eos&gt;</td>\n",
              "    </tr>\n",
              "    <tr>\n",
              "      <th>4</th>\n",
              "      <td>Hi.</td>\n",
              "      <td>&lt;sos&gt; Salut. &lt;eos&gt;</td>\n",
              "    </tr>\n",
              "  </tbody>\n",
              "</table>\n",
              "</div>\n",
              "      <button class=\"colab-df-convert\" onclick=\"convertToInteractive('df-4223af2f-5fdf-4534-aec1-27774e5e93f6')\"\n",
              "              title=\"Convert this dataframe to an interactive table.\"\n",
              "              style=\"display:none;\">\n",
              "        \n",
              "  <svg xmlns=\"http://www.w3.org/2000/svg\" height=\"24px\"viewBox=\"0 0 24 24\"\n",
              "       width=\"24px\">\n",
              "    <path d=\"M0 0h24v24H0V0z\" fill=\"none\"/>\n",
              "    <path d=\"M18.56 5.44l.94 2.06.94-2.06 2.06-.94-2.06-.94-.94-2.06-.94 2.06-2.06.94zm-11 1L8.5 8.5l.94-2.06 2.06-.94-2.06-.94L8.5 2.5l-.94 2.06-2.06.94zm10 10l.94 2.06.94-2.06 2.06-.94-2.06-.94-.94-2.06-.94 2.06-2.06.94z\"/><path d=\"M17.41 7.96l-1.37-1.37c-.4-.4-.92-.59-1.43-.59-.52 0-1.04.2-1.43.59L10.3 9.45l-7.72 7.72c-.78.78-.78 2.05 0 2.83L4 21.41c.39.39.9.59 1.41.59.51 0 1.02-.2 1.41-.59l7.78-7.78 2.81-2.81c.8-.78.8-2.07 0-2.86zM5.41 20L4 18.59l7.72-7.72 1.47 1.35L5.41 20z\"/>\n",
              "  </svg>\n",
              "      </button>\n",
              "      \n",
              "  <style>\n",
              "    .colab-df-container {\n",
              "      display:flex;\n",
              "      flex-wrap:wrap;\n",
              "      gap: 12px;\n",
              "    }\n",
              "\n",
              "    .colab-df-convert {\n",
              "      background-color: #E8F0FE;\n",
              "      border: none;\n",
              "      border-radius: 50%;\n",
              "      cursor: pointer;\n",
              "      display: none;\n",
              "      fill: #1967D2;\n",
              "      height: 32px;\n",
              "      padding: 0 0 0 0;\n",
              "      width: 32px;\n",
              "    }\n",
              "\n",
              "    .colab-df-convert:hover {\n",
              "      background-color: #E2EBFA;\n",
              "      box-shadow: 0px 1px 2px rgba(60, 64, 67, 0.3), 0px 1px 3px 1px rgba(60, 64, 67, 0.15);\n",
              "      fill: #174EA6;\n",
              "    }\n",
              "\n",
              "    [theme=dark] .colab-df-convert {\n",
              "      background-color: #3B4455;\n",
              "      fill: #D2E3FC;\n",
              "    }\n",
              "\n",
              "    [theme=dark] .colab-df-convert:hover {\n",
              "      background-color: #434B5C;\n",
              "      box-shadow: 0px 1px 3px 1px rgba(0, 0, 0, 0.15);\n",
              "      filter: drop-shadow(0px 1px 2px rgba(0, 0, 0, 0.3));\n",
              "      fill: #FFFFFF;\n",
              "    }\n",
              "  </style>\n",
              "\n",
              "      <script>\n",
              "        const buttonEl =\n",
              "          document.querySelector('#df-4223af2f-5fdf-4534-aec1-27774e5e93f6 button.colab-df-convert');\n",
              "        buttonEl.style.display =\n",
              "          google.colab.kernel.accessAllowed ? 'block' : 'none';\n",
              "\n",
              "        async function convertToInteractive(key) {\n",
              "          const element = document.querySelector('#df-4223af2f-5fdf-4534-aec1-27774e5e93f6');\n",
              "          const dataTable =\n",
              "            await google.colab.kernel.invokeFunction('convertToInteractive',\n",
              "                                                     [key], {});\n",
              "          if (!dataTable) return;\n",
              "\n",
              "          const docLinkHtml = 'Like what you see? Visit the ' +\n",
              "            '<a target=\"_blank\" href=https://colab.research.google.com/notebooks/data_table.ipynb>data table notebook</a>'\n",
              "            + ' to learn more about interactive tables.';\n",
              "          element.innerHTML = '';\n",
              "          dataTable['output_type'] = 'display_data';\n",
              "          await google.colab.output.renderOutput(dataTable, element);\n",
              "          const docLink = document.createElement('div');\n",
              "          docLink.innerHTML = docLinkHtml;\n",
              "          element.appendChild(docLink);\n",
              "        }\n",
              "      </script>\n",
              "    </div>\n",
              "  </div>\n",
              "  "
            ]
          },
          "metadata": {},
          "execution_count": 6
        }
      ]
    },
    {
      "cell_type": "markdown",
      "source": [
        "# Step 1. 정제, 정규화, 전처리 (영어, 프랑스어 모두!)"
      ],
      "metadata": {
        "id": "ax6V-w9X0gEH"
      }
    },
    {
      "cell_type": "code",
      "source": [
        "# 문장 전처리 시작\n",
        "\n",
        "# 전처리 기준\n",
        "# 구두점(Punctuation)을 단어와 분리해주세요.\n",
        "lines_c['eng'] = lines_c['eng'].str.replace(pat=r'([?.!,¿])', repl=r' \\1', regex=True)\n",
        "lines_c['fra'] = lines_c['fra'].str.replace(pat=r'([?.!,¿])', repl=r' \\1', regex=True)\n",
        "\n",
        "# 소문자로 바꿔주세요.\n",
        "lines_c['eng'] = lines_c['eng'].str.lower()\n",
        "lines_c['fra'] = lines_c['fra'].str.lower()\n",
        "\n",
        "# 띄어쓰기 단위로 토큰를 수행하세요.\n",
        "lines_c['eng'] = lines_c['eng'].str.split()\n",
        "lines_c['fra'] = lines_c['fra'].str.split()"
      ],
      "metadata": {
        "id": "IUViWLd6J-zF"
      },
      "execution_count": 7,
      "outputs": []
    },
    {
      "cell_type": "code",
      "source": [
        "lines_c"
      ],
      "metadata": {
        "colab": {
          "base_uri": "https://localhost:8080/",
          "height": 424
        },
        "id": "LSv5bnmYO3iG",
        "outputId": "60844b3f-abb8-43ce-a000-ccebdbc60068"
      },
      "execution_count": null,
      "outputs": [
        {
          "output_type": "execute_result",
          "data": {
            "text/plain": [
              "                              eng  \\\n",
              "0                         [go, .]   \n",
              "1                         [go, .]   \n",
              "2                         [go, .]   \n",
              "3                         [hi, .]   \n",
              "4                         [hi, .]   \n",
              "...                           ...   \n",
              "32995  [what, did, tom, steal, ?]   \n",
              "32996  [what, did, tom, write, ?]   \n",
              "32997  [what, did, they, want, ?]   \n",
              "32998  [what, did, they, want, ?]   \n",
              "32999  [what, did, you, drink, ?]   \n",
              "\n",
              "                                                    fra  \n",
              "0                                 [<sos>, va, !, <eos>]  \n",
              "1                             [<sos>, marche, ., <eos>]  \n",
              "2                              [<sos>, bouge, !, <eos>]  \n",
              "3                              [<sos>, salut, !, <eos>]  \n",
              "4                              [<sos>, salut, ., <eos>]  \n",
              "...                                                 ...  \n",
              "32995   [<sos>, qu'est-ce, que, tom, a, volé, ?, <eos>]  \n",
              "32996  [<sos>, qu'est-ce, que, tom, a, écrit, ?, <eos>]  \n",
              "32997             [<sos>, que, voulaient-ils, ?, <eos>]  \n",
              "32998           [<sos>, que, voulaient-elles, ?, <eos>]  \n",
              "32999                   [<sos>, qu'as-tu, bu, ?, <eos>]  \n",
              "\n",
              "[33000 rows x 2 columns]"
            ],
            "text/html": [
              "\n",
              "  <div id=\"df-37f7977a-5bb4-463a-b2d8-6972b99d5629\">\n",
              "    <div class=\"colab-df-container\">\n",
              "      <div>\n",
              "<style scoped>\n",
              "    .dataframe tbody tr th:only-of-type {\n",
              "        vertical-align: middle;\n",
              "    }\n",
              "\n",
              "    .dataframe tbody tr th {\n",
              "        vertical-align: top;\n",
              "    }\n",
              "\n",
              "    .dataframe thead th {\n",
              "        text-align: right;\n",
              "    }\n",
              "</style>\n",
              "<table border=\"1\" class=\"dataframe\">\n",
              "  <thead>\n",
              "    <tr style=\"text-align: right;\">\n",
              "      <th></th>\n",
              "      <th>eng</th>\n",
              "      <th>fra</th>\n",
              "    </tr>\n",
              "  </thead>\n",
              "  <tbody>\n",
              "    <tr>\n",
              "      <th>0</th>\n",
              "      <td>[go, .]</td>\n",
              "      <td>[&lt;sos&gt;, va, !, &lt;eos&gt;]</td>\n",
              "    </tr>\n",
              "    <tr>\n",
              "      <th>1</th>\n",
              "      <td>[go, .]</td>\n",
              "      <td>[&lt;sos&gt;, marche, ., &lt;eos&gt;]</td>\n",
              "    </tr>\n",
              "    <tr>\n",
              "      <th>2</th>\n",
              "      <td>[go, .]</td>\n",
              "      <td>[&lt;sos&gt;, bouge, !, &lt;eos&gt;]</td>\n",
              "    </tr>\n",
              "    <tr>\n",
              "      <th>3</th>\n",
              "      <td>[hi, .]</td>\n",
              "      <td>[&lt;sos&gt;, salut, !, &lt;eos&gt;]</td>\n",
              "    </tr>\n",
              "    <tr>\n",
              "      <th>4</th>\n",
              "      <td>[hi, .]</td>\n",
              "      <td>[&lt;sos&gt;, salut, ., &lt;eos&gt;]</td>\n",
              "    </tr>\n",
              "    <tr>\n",
              "      <th>...</th>\n",
              "      <td>...</td>\n",
              "      <td>...</td>\n",
              "    </tr>\n",
              "    <tr>\n",
              "      <th>32995</th>\n",
              "      <td>[what, did, tom, steal, ?]</td>\n",
              "      <td>[&lt;sos&gt;, qu'est-ce, que, tom, a, volé, ?, &lt;eos&gt;]</td>\n",
              "    </tr>\n",
              "    <tr>\n",
              "      <th>32996</th>\n",
              "      <td>[what, did, tom, write, ?]</td>\n",
              "      <td>[&lt;sos&gt;, qu'est-ce, que, tom, a, écrit, ?, &lt;eos&gt;]</td>\n",
              "    </tr>\n",
              "    <tr>\n",
              "      <th>32997</th>\n",
              "      <td>[what, did, they, want, ?]</td>\n",
              "      <td>[&lt;sos&gt;, que, voulaient-ils, ?, &lt;eos&gt;]</td>\n",
              "    </tr>\n",
              "    <tr>\n",
              "      <th>32998</th>\n",
              "      <td>[what, did, they, want, ?]</td>\n",
              "      <td>[&lt;sos&gt;, que, voulaient-elles, ?, &lt;eos&gt;]</td>\n",
              "    </tr>\n",
              "    <tr>\n",
              "      <th>32999</th>\n",
              "      <td>[what, did, you, drink, ?]</td>\n",
              "      <td>[&lt;sos&gt;, qu'as-tu, bu, ?, &lt;eos&gt;]</td>\n",
              "    </tr>\n",
              "  </tbody>\n",
              "</table>\n",
              "<p>33000 rows × 2 columns</p>\n",
              "</div>\n",
              "      <button class=\"colab-df-convert\" onclick=\"convertToInteractive('df-37f7977a-5bb4-463a-b2d8-6972b99d5629')\"\n",
              "              title=\"Convert this dataframe to an interactive table.\"\n",
              "              style=\"display:none;\">\n",
              "        \n",
              "  <svg xmlns=\"http://www.w3.org/2000/svg\" height=\"24px\"viewBox=\"0 0 24 24\"\n",
              "       width=\"24px\">\n",
              "    <path d=\"M0 0h24v24H0V0z\" fill=\"none\"/>\n",
              "    <path d=\"M18.56 5.44l.94 2.06.94-2.06 2.06-.94-2.06-.94-.94-2.06-.94 2.06-2.06.94zm-11 1L8.5 8.5l.94-2.06 2.06-.94-2.06-.94L8.5 2.5l-.94 2.06-2.06.94zm10 10l.94 2.06.94-2.06 2.06-.94-2.06-.94-.94-2.06-.94 2.06-2.06.94z\"/><path d=\"M17.41 7.96l-1.37-1.37c-.4-.4-.92-.59-1.43-.59-.52 0-1.04.2-1.43.59L10.3 9.45l-7.72 7.72c-.78.78-.78 2.05 0 2.83L4 21.41c.39.39.9.59 1.41.59.51 0 1.02-.2 1.41-.59l7.78-7.78 2.81-2.81c.8-.78.8-2.07 0-2.86zM5.41 20L4 18.59l7.72-7.72 1.47 1.35L5.41 20z\"/>\n",
              "  </svg>\n",
              "      </button>\n",
              "      \n",
              "  <style>\n",
              "    .colab-df-container {\n",
              "      display:flex;\n",
              "      flex-wrap:wrap;\n",
              "      gap: 12px;\n",
              "    }\n",
              "\n",
              "    .colab-df-convert {\n",
              "      background-color: #E8F0FE;\n",
              "      border: none;\n",
              "      border-radius: 50%;\n",
              "      cursor: pointer;\n",
              "      display: none;\n",
              "      fill: #1967D2;\n",
              "      height: 32px;\n",
              "      padding: 0 0 0 0;\n",
              "      width: 32px;\n",
              "    }\n",
              "\n",
              "    .colab-df-convert:hover {\n",
              "      background-color: #E2EBFA;\n",
              "      box-shadow: 0px 1px 2px rgba(60, 64, 67, 0.3), 0px 1px 3px 1px rgba(60, 64, 67, 0.15);\n",
              "      fill: #174EA6;\n",
              "    }\n",
              "\n",
              "    [theme=dark] .colab-df-convert {\n",
              "      background-color: #3B4455;\n",
              "      fill: #D2E3FC;\n",
              "    }\n",
              "\n",
              "    [theme=dark] .colab-df-convert:hover {\n",
              "      background-color: #434B5C;\n",
              "      box-shadow: 0px 1px 3px 1px rgba(0, 0, 0, 0.15);\n",
              "      filter: drop-shadow(0px 1px 2px rgba(0, 0, 0, 0.3));\n",
              "      fill: #FFFFFF;\n",
              "    }\n",
              "  </style>\n",
              "\n",
              "      <script>\n",
              "        const buttonEl =\n",
              "          document.querySelector('#df-37f7977a-5bb4-463a-b2d8-6972b99d5629 button.colab-df-convert');\n",
              "        buttonEl.style.display =\n",
              "          google.colab.kernel.accessAllowed ? 'block' : 'none';\n",
              "\n",
              "        async function convertToInteractive(key) {\n",
              "          const element = document.querySelector('#df-37f7977a-5bb4-463a-b2d8-6972b99d5629');\n",
              "          const dataTable =\n",
              "            await google.colab.kernel.invokeFunction('convertToInteractive',\n",
              "                                                     [key], {});\n",
              "          if (!dataTable) return;\n",
              "\n",
              "          const docLinkHtml = 'Like what you see? Visit the ' +\n",
              "            '<a target=\"_blank\" href=https://colab.research.google.com/notebooks/data_table.ipynb>data table notebook</a>'\n",
              "            + ' to learn more about interactive tables.';\n",
              "          element.innerHTML = '';\n",
              "          dataTable['output_type'] = 'display_data';\n",
              "          await google.colab.output.renderOutput(dataTable, element);\n",
              "          const docLink = document.createElement('div');\n",
              "          docLink.innerHTML = docLinkHtml;\n",
              "          element.appendChild(docLink);\n",
              "        }\n",
              "      </script>\n",
              "    </div>\n",
              "  </div>\n",
              "  "
            ]
          },
          "metadata": {},
          "execution_count": 74
        }
      ]
    },
    {
      "cell_type": "code",
      "source": [
        "# 특정행을 추출하여 전처리 결과 확인\n",
        "lines_c.iloc[22248]\n",
        "# 토큰화 전 : 'he is a good boy !'\n",
        "# 토큰화 후 : ['he', 'is', 'a', 'good', 'boy', '!']\n",
        "# 예시에 맞게 전처리가 잘 수행되었다."
      ],
      "metadata": {
        "colab": {
          "base_uri": "https://localhost:8080/"
        },
        "id": "o3BmBNLcO_CL",
        "outputId": "4263a577-0eeb-4eb1-9de1-4ca701208a12"
      },
      "execution_count": 9,
      "outputs": [
        {
          "output_type": "execute_result",
          "data": {
            "text/plain": [
              "eng                        [you're, too, tense, .]\n",
              "fra    [<sos>, vous, êtes, trop, tendus, ., <eos>]\n",
              "Name: 22248, dtype: object"
            ]
          },
          "metadata": {},
          "execution_count": 9
        }
      ]
    },
    {
      "cell_type": "markdown",
      "source": [
        "# Step 3. 케라스의 토크나이저로 텍스트를 숫자로 바꿔보세요.\n",
        "\n",
        "- [위키독스](https://wikidocs.net/31766)\n",
        "\n",
        "- 토크나이저는 이 문서를 참고하여 진행하였습니다.\n",
        "- 영어, 프랑스어 전부 토크나이저를 각각 생성한다.\n",
        "- 임베딩 층에 사용 할 단어장, 인코더, 디코더, 패딩, validation data 준비"
      ],
      "metadata": {
        "id": "86Vkbtg00m1S"
      }
    },
    {
      "cell_type": "code",
      "source": [
        "# tokenizer.texts_to_sequences()를 사용한 정수 시퀀스 변환 - 영어\n",
        "\n",
        "eng_tokenizer = Tokenizer(char_level=False) # 단어 단위로 Tokenizer를 생성합니다.\n",
        "eng_tokenizer.fit_on_texts(lines_c.eng) # 33000개의 행을 가진 eng의 각 행에 토큰화를 수행\n",
        "input_text = eng_tokenizer.texts_to_sequences(lines_c.eng) # 단어를 숫자값 인덱스로 변환하여 저장\n",
        "input_text[:3]"
      ],
      "metadata": {
        "colab": {
          "base_uri": "https://localhost:8080/"
        },
        "id": "bO611WVa09N8",
        "outputId": "e0c626a6-9abb-4d72-ec02-f9dcb2149a1a"
      },
      "execution_count": null,
      "outputs": [
        {
          "output_type": "execute_result",
          "data": {
            "text/plain": [
              "[[26, 1], [26, 1], [26, 1]]"
            ]
          },
          "metadata": {},
          "execution_count": 75
        }
      ]
    },
    {
      "cell_type": "code",
      "source": [
        "# tokenizer.texts_to_sequences()를 사용한 정수 시퀀스 변환 - 불어\n",
        "\n",
        "fra_tokenizer = Tokenizer(char_level=True)   # 단어 단위로 Tokenizer를 생성합니다. \n",
        "fra_tokenizer.fit_on_texts(lines_c.fra)        # 33000개의 행을 가진 fra의 각 행에 토큰화를 수행\n",
        "target_text = fra_tokenizer.texts_to_sequences(lines_c.fra)     # 단어를 숫자값 인덱스로 변환하여 저장\n",
        "target_text[:3]"
      ],
      "metadata": {
        "colab": {
          "base_uri": "https://localhost:8080/"
        },
        "id": "xpcfX8jBKZLg",
        "outputId": "6de841a8-b7fb-4913-b2cf-491b7d38583a"
      },
      "execution_count": null,
      "outputs": [
        {
          "output_type": "execute_result",
          "data": {
            "text/plain": [
              "[[1, 63, 7, 2], [1, 360, 3, 2], [1, 710, 7, 2]]"
            ]
          },
          "metadata": {},
          "execution_count": 76
        }
      ]
    },
    {
      "cell_type": "code",
      "source": [
        "# 단어장의 크기를 변수로 저장 0번 토큰을 고려하려 +1을 하고 저장\n",
        "eng_vocab_size = len(eng_tokenizer.word_index) + 1\n",
        "fra_vocab_size = len(fra_tokenizer.word_index) + 1\n",
        "print('영어 단어장의 크기 :', eng_vocab_size)\n",
        "print('프랑스어 단어장의 크기 :', fra_vocab_size)"
      ],
      "metadata": {
        "colab": {
          "base_uri": "https://localhost:8080/"
        },
        "id": "1Kb4tMmuM3zT",
        "outputId": "54650160-052a-4b44-d5be-ce1f68a9d380"
      },
      "execution_count": null,
      "outputs": [
        {
          "output_type": "stream",
          "name": "stdout",
          "text": [
            "영어 단어장의 크기 : 4810\n",
            "프랑스어 단어장의 크기 : 9990\n"
          ]
        }
      ]
    },
    {
      "cell_type": "code",
      "source": [
        "# 각 단어 데이터의 최대 길이 구하기\n",
        "# 패딩을 하기 위한 작업\n",
        "\n",
        "max_eng_seq_len = max([len(line) for line in input_text])\n",
        "max_fra_seq_len = max([len(line) for line in target_text])\n",
        "print('영어 시퀀스의 최대 길이', max_eng_seq_len)\n",
        "print('프랑스어 시퀀스의 최대 길이', max_fra_seq_len)\n",
        "\n",
        "# 시퀀스 길이 차이가 약 2배이다."
      ],
      "metadata": {
        "colab": {
          "base_uri": "https://localhost:8080/"
        },
        "id": "KGh0ASsPM3tm",
        "outputId": "56b55869-d273-4234-f470-dad211cf867b"
      },
      "execution_count": null,
      "outputs": [
        {
          "output_type": "stream",
          "name": "stdout",
          "text": [
            "영어 시퀀스의 최대 길이 7\n",
            "프랑스어 시퀀스의 최대 길이 15\n"
          ]
        }
      ]
    },
    {
      "cell_type": "code",
      "source": [
        "print('전체 샘플의 수 :',len(lines_c))\n",
        "print('영어 단어장의 크기 :', eng_vocab_size)\n",
        "print('프랑스어 단어장의 크기 :', fra_vocab_size)\n",
        "print('영어 시퀀스의 최대 길이', max_eng_seq_len)\n",
        "print('프랑스어 시퀀스의 최대 길이', max_fra_seq_len)"
      ],
      "metadata": {
        "colab": {
          "base_uri": "https://localhost:8080/"
        },
        "id": "nP7l1dWbM3rJ",
        "outputId": "350131cd-c9cb-4f12-ea69-50664d0f96d0"
      },
      "execution_count": null,
      "outputs": [
        {
          "output_type": "stream",
          "name": "stdout",
          "text": [
            "전체 샘플의 수 : 33000\n",
            "영어 단어장의 크기 : 4810\n",
            "프랑스어 단어장의 크기 : 9990\n",
            "영어 시퀀스의 최대 길이 7\n",
            "프랑스어 시퀀스의 최대 길이 15\n"
          ]
        }
      ]
    },
    {
      "cell_type": "code",
      "source": [
        "# 언어별 인코더 디코더 준비하기\n",
        "# 프랑스어 시퀀스는 2가지 버젼으로 나눈다.\n",
        "# 하나는 디코더의 출력과 비교해야 할 정답 데이터로 사용해야 할 원래 목적에 따른 것입니다. \n",
        "# 그리고 다른 하나는 이전 스텝에서 언급했던 교사 강요(Teacher forcing)을 위해 디코더의 입력으로 사용하기 위한 것\n",
        "\n",
        "# 디코더의 입력으로 사용할 시퀀스는 < eos >토큰이 필요가 없고, 디코더의 출력과 비교할 시퀀스는 < sos >가 필요가 없기 때문입니다. \n",
        "\n",
        "encoder_input = input_text\n",
        "# 종료 토큰 제거\n",
        "decoder_input = [[word for word in line if word != fra_tokenizer.word_index[eos_token] ] for line in target_text]\n",
        "# != 는 같지 않다는 뜻\n",
        "# 즉 코드를 해석하면 target_text에 있는 line에서 프랑스 토크나이즈 word_index가 종료 토큰을 가지지 않는 char를 추출한다.\n",
        "# 시작 토큰 제거\n",
        "decoder_target = [[ word for word in line if word != fra_tokenizer.word_index[sos_token] ] for line in target_text]\n",
        "# 즉 코드를 해석하면 target_text에 있는 line에서 프랑스 토크나이즈 word_index가 시작 토큰을 가지지 않는 char를 추출한다"
      ],
      "metadata": {
        "id": "lU1ftXYxM3ov"
      },
      "execution_count": null,
      "outputs": []
    },
    {
      "cell_type": "code",
      "source": [
        "# 디코더의 입력과 출력을 각각 출력해봅시다.\n",
        "print(decoder_input[:3])\n",
        "print(decoder_target[:3])"
      ],
      "metadata": {
        "colab": {
          "base_uri": "https://localhost:8080/"
        },
        "id": "SbLQsSM5M3mR",
        "outputId": "aa6baf60-e518-490c-d861-212894261c57"
      },
      "execution_count": null,
      "outputs": [
        {
          "output_type": "stream",
          "name": "stdout",
          "text": [
            "[[1, 63, 7], [1, 360, 3], [1, 710, 7]]\n",
            "[[63, 7, 2], [360, 3, 2], [710, 7, 2]]\n"
          ]
        }
      ]
    },
    {
      "cell_type": "code",
      "source": [
        "# 패딩 진행하기\n",
        "encoder_input = pad_sequences(encoder_input, maxlen = max_eng_seq_len, padding='post')\n",
        "decoder_input = pad_sequences(decoder_input, maxlen = max_fra_seq_len, padding='post')\n",
        "decoder_target = pad_sequences(decoder_target, maxlen = max_fra_seq_len, padding='post')\n",
        "print('영어 데이터의 크기(shape) :',np.shape(encoder_input))\n",
        "print('프랑스어 입력데이터의 크기(shape) :',np.shape(decoder_input))\n",
        "print('프랑스어 출력데이터의 크기(shape) :',np.shape(decoder_target))\n",
        "\n",
        "# 정상적으로 패딩이 수행되었다."
      ],
      "metadata": {
        "colab": {
          "base_uri": "https://localhost:8080/"
        },
        "id": "heq6ymtZN5Bl",
        "outputId": "291dfb4c-d478-4f8d-ffa2-bc7eb42b2faa"
      },
      "execution_count": null,
      "outputs": [
        {
          "output_type": "stream",
          "name": "stdout",
          "text": [
            "영어 데이터의 크기(shape) : (33000, 7)\n",
            "프랑스어 입력데이터의 크기(shape) : (33000, 15)\n",
            "프랑스어 출력데이터의 크기(shape) : (33000, 15)\n"
          ]
        }
      ]
    },
    {
      "cell_type": "code",
      "source": [
        "# 인코딩 샘플을 출력해서 확인해보기\n",
        "print((encoder_input[:5]))"
      ],
      "metadata": {
        "colab": {
          "base_uri": "https://localhost:8080/"
        },
        "id": "wKKIubJkN4-o",
        "outputId": "24103ec9-13c1-49b6-8231-6ae332370dc9"
      },
      "execution_count": null,
      "outputs": [
        {
          "output_type": "stream",
          "name": "stdout",
          "text": [
            "[[ 26   1   0   0   0   0   0]\n",
            " [ 26   1   0   0   0   0   0]\n",
            " [ 26   1   0   0   0   0   0]\n",
            " [785   1   0   0   0   0   0]\n",
            " [785   1   0   0   0   0   0]]\n"
          ]
        }
      ]
    },
    {
      "cell_type": "code",
      "source": [
        "#  validation data 생성\n",
        "\n",
        "n_of_val = 3000\n",
        "\n",
        "encoder_input_train = encoder_input[:-n_of_val]\n",
        "decoder_input_train = decoder_input[:-n_of_val]\n",
        "decoder_target_train = decoder_target[:-n_of_val]\n",
        "\n",
        "encoder_input_test = encoder_input[-n_of_val:]\n",
        "decoder_input_test = decoder_input[-n_of_val:]\n",
        "decoder_target_test = decoder_target[-n_of_val:]\n",
        "\n",
        "print('영어 학습데이터의 크기(shape) :',np.shape(encoder_input_train))\n",
        "print('프랑스어 학습 입력데이터의 크기(shape) :',np.shape(decoder_input_train))\n",
        "print('프랑스어 학습 출력데이터의 크기(shape) :',np.shape(decoder_target_train))\n",
        "print('영어 테스트데이터의 크기(shape) :',np.shape(encoder_input_test))\n",
        "print('프랑스어 테스트 입력데이터의 크기(shape) :',np.shape(decoder_input_test))\n",
        "print('프랑스어 테스트 출력데이터의 크기(shape) :',np.shape(decoder_target_test))\n",
        "\n",
        "# 데이터 셋 분리가 성공적으로 이루어졌다."
      ],
      "metadata": {
        "colab": {
          "base_uri": "https://localhost:8080/"
        },
        "id": "IbnKRKw9N456",
        "outputId": "640aa3d5-4261-4b25-f47e-d1fa39c2d6ed"
      },
      "execution_count": null,
      "outputs": [
        {
          "output_type": "stream",
          "name": "stdout",
          "text": [
            "영어 학습데이터의 크기(shape) : (30000, 7)\n",
            "프랑스어 학습 입력데이터의 크기(shape) : (30000, 15)\n",
            "프랑스어 학습 출력데이터의 크기(shape) : (30000, 15)\n",
            "영어 테스트데이터의 크기(shape) : (3000, 7)\n",
            "프랑스어 테스트 입력데이터의 크기(shape) : (3000, 15)\n",
            "프랑스어 테스트 출력데이터의 크기(shape) : (3000, 15)\n"
          ]
        }
      ]
    },
    {
      "cell_type": "markdown",
      "source": [
        "# Step 4. 임베딩 층(Embedding layer) 사용하기\n",
        "\n",
        "- [위키독스](https://wikidocs.net/33793)\n",
        "- 인코더, 디코더 구현은 이 문서를 참고하여 진행하였습니다."
      ],
      "metadata": {
        "id": "o40wo76pK5Mn"
      }
    },
    {
      "cell_type": "code",
      "source": [
        "# 필요한 라이브러리 불러오기\n",
        "from tensorflow.keras.layers import Input, LSTM, Embedding, Dense, Masking\n",
        "from tensorflow.keras.models import Model"
      ],
      "metadata": {
        "id": "Q2P4_1oOJLrO"
      },
      "execution_count": null,
      "outputs": []
    },
    {
      "cell_type": "code",
      "source": [
        "# 임베딩 벡터의 차원과 은닉 상태의 크기 지정\n",
        "embedding_dim = 64\n",
        "hidden_units = 64"
      ],
      "metadata": {
        "id": "I9DHkTgWU-1h"
      },
      "execution_count": null,
      "outputs": []
    },
    {
      "cell_type": "code",
      "source": [
        "#전체 샘플의 수 : 33000\n",
        "#영어 단어장의 크기 : 4810\n",
        "#프랑스어 단어장의 크기 : 9990\n",
        "#영어 시퀀스의 최대 길이 7\n",
        "#프랑스어 시퀀스의 최대 길이 15"
      ],
      "metadata": {
        "id": "XzpgdNa7VMeP"
      },
      "execution_count": null,
      "outputs": []
    },
    {
      "cell_type": "code",
      "source": [
        "# 인코더 구성\n",
        "\n",
        "# 인코더에서 사용할 임베딩 층\n",
        "\n",
        "# 입력 텐서 생성\n",
        "encoder_inputs = Input(shape=(None,))\n",
        "\n",
        "# 임베딩 층\n",
        "enc_emb =  Embedding(eng_vocab_size, embedding_dim)(encoder_inputs)\n",
        "\n",
        "# 패딩 0은 연산에서 제외\n",
        "enc_masking = Masking(mask_value=0.0)(enc_emb) \n",
        "\n",
        "# 상태값 리턴을 위해 return_state는 True\n",
        "encoder_lstm = LSTM(hidden_units, return_state=True)\n",
        "\n",
        "# 은닉 상태와 셀 상태를 리턴\n",
        "encoder_outputs, state_h, state_c = encoder_lstm(enc_masking)\n",
        "\n",
        "# 인코더의 은닉 상태와 셀 상태를 저장\n",
        "encoder_states = [state_h, state_c] "
      ],
      "metadata": {
        "id": "yL4poTYnMEgF"
      },
      "execution_count": null,
      "outputs": []
    },
    {
      "cell_type": "code",
      "source": [
        "# 디코더 구성\n",
        "\n",
        "# 디코더에서 사용할 임베딩 층\n",
        "\n",
        "decoder_inputs = Input(shape=(None,))\n",
        "\n",
        "# 임베딩 층\n",
        "dec_emb_layer = Embedding(fra_vocab_size, hidden_units) \n",
        "\n",
        "# 패딩 0은 연산에서 제외\n",
        "dec_emb = dec_emb_layer(decoder_inputs) \n",
        "\n",
        "dec_masking = Masking(mask_value=0.0)(dec_emb)"
      ],
      "metadata": {
        "id": "sYVoe7lnMEdN"
      },
      "execution_count": null,
      "outputs": []
    },
    {
      "cell_type": "code",
      "source": [
        "# 상태값 리턴을 위해 return_state는 True, 모든 시점에 대해서 단어를 예측하기 위해 return_sequences는 True\n",
        "decoder_lstm = LSTM(hidden_units, return_sequences= True, return_state= True)\n",
        "\n",
        "# decoder_outputs는 모든 time step의 hidden state\n",
        "decoder_outputs, _, _= decoder_lstm(dec_masking, initial_state = encoder_states)\n",
        "\n",
        "# 디코더 출력층 설계\n",
        "decoder_softmax_layer = Dense(fra_vocab_size, activation='softmax')\n",
        "decoder_outputs = decoder_softmax_layer(decoder_outputs)\n",
        "\n",
        "model = Model([encoder_inputs, decoder_inputs], decoder_outputs)\n",
        "\n",
        "model.compile(optimizer='rmsprop', loss='sparse_categorical_crossentropy', metrics=['accuracy'])\n",
        "\n",
        "model.summary()\n",
        "\n",
        "# loss 기준을 바꾼 이유는 decoder_outputs의 경우에는 원-핫 인코딩을 하지않았습니다.\n",
        "# 원-핫 인코딩을 하지 않은 상태에서는 다중 클래스 분류를 할때는 sparse_categorical_crossentropy로 설정해야합니다."
      ],
      "metadata": {
        "colab": {
          "base_uri": "https://localhost:8080/"
        },
        "id": "JLAxfSOcckHs",
        "outputId": "692374f1-0403-4ba5-9e0e-0123dc3d984f"
      },
      "execution_count": null,
      "outputs": [
        {
          "output_type": "stream",
          "name": "stdout",
          "text": [
            "Model: \"model_9\"\n",
            "__________________________________________________________________________________________________\n",
            " Layer (type)                   Output Shape         Param #     Connected to                     \n",
            "==================================================================================================\n",
            " input_17 (InputLayer)          [(None, None)]       0           []                               \n",
            "                                                                                                  \n",
            " input_18 (InputLayer)          [(None, None)]       0           []                               \n",
            "                                                                                                  \n",
            " embedding_4 (Embedding)        (None, None, 64)     307840      ['input_17[0][0]']               \n",
            "                                                                                                  \n",
            " embedding_5 (Embedding)        (None, None, 64)     639360      ['input_18[0][0]']               \n",
            "                                                                                                  \n",
            " masking_2 (Masking)            (None, None, 64)     0           ['embedding_4[0][0]']            \n",
            "                                                                                                  \n",
            " masking_3 (Masking)            (None, None, 64)     0           ['embedding_5[0][0]']            \n",
            "                                                                                                  \n",
            " lstm_4 (LSTM)                  [(None, 64),         33024       ['masking_2[0][0]']              \n",
            "                                 (None, 64),                                                      \n",
            "                                 (None, 64)]                                                      \n",
            "                                                                                                  \n",
            " lstm_5 (LSTM)                  [(None, None, 64),   33024       ['masking_3[0][0]',              \n",
            "                                 (None, 64),                      'lstm_4[0][1]',                 \n",
            "                                 (None, 64)]                      'lstm_4[0][2]']                 \n",
            "                                                                                                  \n",
            " dense_2 (Dense)                (None, None, 9990)   649350      ['lstm_5[0][0]']                 \n",
            "                                                                                                  \n",
            "==================================================================================================\n",
            "Total params: 1,662,598\n",
            "Trainable params: 1,662,598\n",
            "Non-trainable params: 0\n",
            "__________________________________________________________________________________________________\n"
          ]
        }
      ]
    },
    {
      "cell_type": "code",
      "source": [
        "# 모델 학습\n",
        "history = model.fit(x=[encoder_input_train, decoder_input_train], y=decoder_target_train, \\\n",
        "          validation_data = ([encoder_input_test, decoder_input_test], decoder_target_test),\n",
        "          batch_size=128, epochs=50)"
      ],
      "metadata": {
        "colab": {
          "base_uri": "https://localhost:8080/"
        },
        "id": "h3mL2dOgMEa6",
        "outputId": "11cd462e-7e02-4f8a-8725-a1c0d8e81db3"
      },
      "execution_count": null,
      "outputs": [
        {
          "output_type": "stream",
          "name": "stdout",
          "text": [
            "Epoch 1/50\n",
            "235/235 [==============================] - 17s 42ms/step - loss: 2.8165 - accuracy: 0.6479 - val_loss: 2.0761 - val_accuracy: 0.6929\n",
            "Epoch 2/50\n",
            "235/235 [==============================] - 7s 31ms/step - loss: 1.6233 - accuracy: 0.7569 - val_loss: 1.8621 - val_accuracy: 0.7274\n",
            "Epoch 3/50\n",
            "235/235 [==============================] - 8s 33ms/step - loss: 1.4700 - accuracy: 0.7737 - val_loss: 1.7600 - val_accuracy: 0.7466\n",
            "Epoch 4/50\n",
            "235/235 [==============================] - 7s 32ms/step - loss: 1.3523 - accuracy: 0.7931 - val_loss: 1.6549 - val_accuracy: 0.7623\n",
            "Epoch 5/50\n",
            "235/235 [==============================] - 7s 31ms/step - loss: 1.2631 - accuracy: 0.8061 - val_loss: 1.5911 - val_accuracy: 0.7699\n",
            "Epoch 6/50\n",
            "235/235 [==============================] - 7s 31ms/step - loss: 1.1979 - accuracy: 0.8144 - val_loss: 1.5245 - val_accuracy: 0.7768\n",
            "Epoch 7/50\n",
            "235/235 [==============================] - 7s 31ms/step - loss: 1.1454 - accuracy: 0.8209 - val_loss: 1.4858 - val_accuracy: 0.7807\n",
            "Epoch 8/50\n",
            "235/235 [==============================] - 7s 31ms/step - loss: 1.1024 - accuracy: 0.8265 - val_loss: 1.4702 - val_accuracy: 0.7874\n",
            "Epoch 9/50\n",
            "235/235 [==============================] - 7s 31ms/step - loss: 1.0646 - accuracy: 0.8315 - val_loss: 1.4349 - val_accuracy: 0.7907\n",
            "Epoch 10/50\n",
            "235/235 [==============================] - 7s 31ms/step - loss: 1.0314 - accuracy: 0.8354 - val_loss: 1.4117 - val_accuracy: 0.7953\n",
            "Epoch 11/50\n",
            "235/235 [==============================] - 7s 31ms/step - loss: 1.0028 - accuracy: 0.8389 - val_loss: 1.3930 - val_accuracy: 0.7976\n",
            "Epoch 12/50\n",
            "235/235 [==============================] - 8s 32ms/step - loss: 0.9776 - accuracy: 0.8421 - val_loss: 1.3719 - val_accuracy: 0.7994\n",
            "Epoch 13/50\n",
            "235/235 [==============================] - 7s 31ms/step - loss: 0.9539 - accuracy: 0.8449 - val_loss: 1.3588 - val_accuracy: 0.8023\n",
            "Epoch 14/50\n",
            "235/235 [==============================] - 7s 31ms/step - loss: 0.9327 - accuracy: 0.8478 - val_loss: 1.3425 - val_accuracy: 0.8040\n",
            "Epoch 15/50\n",
            "235/235 [==============================] - 7s 31ms/step - loss: 0.9133 - accuracy: 0.8506 - val_loss: 1.3302 - val_accuracy: 0.8045\n",
            "Epoch 16/50\n",
            "235/235 [==============================] - 7s 31ms/step - loss: 0.8956 - accuracy: 0.8528 - val_loss: 1.3240 - val_accuracy: 0.8061\n",
            "Epoch 17/50\n",
            "235/235 [==============================] - 7s 31ms/step - loss: 0.8792 - accuracy: 0.8554 - val_loss: 1.3197 - val_accuracy: 0.8065\n",
            "Epoch 18/50\n",
            "235/235 [==============================] - 7s 31ms/step - loss: 0.8644 - accuracy: 0.8574 - val_loss: 1.3175 - val_accuracy: 0.8087\n",
            "Epoch 19/50\n",
            "235/235 [==============================] - 7s 31ms/step - loss: 0.8503 - accuracy: 0.8593 - val_loss: 1.3039 - val_accuracy: 0.8092\n",
            "Epoch 20/50\n",
            "235/235 [==============================] - 7s 31ms/step - loss: 0.8369 - accuracy: 0.8611 - val_loss: 1.2986 - val_accuracy: 0.8102\n",
            "Epoch 21/50\n",
            "235/235 [==============================] - 7s 32ms/step - loss: 0.8238 - accuracy: 0.8634 - val_loss: 1.2955 - val_accuracy: 0.8111\n",
            "Epoch 22/50\n",
            "235/235 [==============================] - 7s 31ms/step - loss: 0.8103 - accuracy: 0.8655 - val_loss: 1.2856 - val_accuracy: 0.8119\n",
            "Epoch 23/50\n",
            "235/235 [==============================] - 7s 31ms/step - loss: 0.7973 - accuracy: 0.8673 - val_loss: 1.2839 - val_accuracy: 0.8122\n",
            "Epoch 24/50\n",
            "235/235 [==============================] - 7s 31ms/step - loss: 0.7857 - accuracy: 0.8691 - val_loss: 1.2798 - val_accuracy: 0.8126\n",
            "Epoch 25/50\n",
            "235/235 [==============================] - 7s 31ms/step - loss: 0.7748 - accuracy: 0.8710 - val_loss: 1.2727 - val_accuracy: 0.8144\n",
            "Epoch 26/50\n",
            "235/235 [==============================] - 7s 31ms/step - loss: 0.7636 - accuracy: 0.8727 - val_loss: 1.2685 - val_accuracy: 0.8139\n",
            "Epoch 27/50\n",
            "235/235 [==============================] - 7s 31ms/step - loss: 0.7534 - accuracy: 0.8744 - val_loss: 1.2667 - val_accuracy: 0.8158\n",
            "Epoch 28/50\n",
            "235/235 [==============================] - 7s 31ms/step - loss: 0.7437 - accuracy: 0.8763 - val_loss: 1.2628 - val_accuracy: 0.8168\n",
            "Epoch 29/50\n",
            "235/235 [==============================] - 7s 32ms/step - loss: 0.7352 - accuracy: 0.8780 - val_loss: 1.2608 - val_accuracy: 0.8178\n",
            "Epoch 30/50\n",
            "235/235 [==============================] - 7s 31ms/step - loss: 0.7270 - accuracy: 0.8798 - val_loss: 1.2619 - val_accuracy: 0.8173\n",
            "Epoch 31/50\n",
            "235/235 [==============================] - 7s 32ms/step - loss: 0.7193 - accuracy: 0.8812 - val_loss: 1.2628 - val_accuracy: 0.8185\n",
            "Epoch 32/50\n",
            "235/235 [==============================] - 7s 31ms/step - loss: 0.7117 - accuracy: 0.8827 - val_loss: 1.2685 - val_accuracy: 0.8174\n",
            "Epoch 33/50\n",
            "235/235 [==============================] - 7s 31ms/step - loss: 0.7047 - accuracy: 0.8842 - val_loss: 1.2658 - val_accuracy: 0.8189\n",
            "Epoch 34/50\n",
            "235/235 [==============================] - 7s 31ms/step - loss: 0.6976 - accuracy: 0.8856 - val_loss: 1.2630 - val_accuracy: 0.8200\n",
            "Epoch 35/50\n",
            "235/235 [==============================] - 7s 31ms/step - loss: 0.6912 - accuracy: 0.8869 - val_loss: 1.2658 - val_accuracy: 0.8190\n",
            "Epoch 36/50\n",
            "235/235 [==============================] - 7s 31ms/step - loss: 0.6845 - accuracy: 0.8884 - val_loss: 1.2696 - val_accuracy: 0.8193\n",
            "Epoch 37/50\n",
            "235/235 [==============================] - 8s 32ms/step - loss: 0.6772 - accuracy: 0.8896 - val_loss: 1.2710 - val_accuracy: 0.8198\n",
            "Epoch 38/50\n",
            "235/235 [==============================] - 8s 32ms/step - loss: 0.6700 - accuracy: 0.8907 - val_loss: 1.2666 - val_accuracy: 0.8198\n",
            "Epoch 39/50\n",
            "235/235 [==============================] - 7s 32ms/step - loss: 0.6634 - accuracy: 0.8922 - val_loss: 1.2696 - val_accuracy: 0.8190\n",
            "Epoch 40/50\n",
            "235/235 [==============================] - 7s 31ms/step - loss: 0.6571 - accuracy: 0.8936 - val_loss: 1.2721 - val_accuracy: 0.8191\n",
            "Epoch 41/50\n",
            "235/235 [==============================] - 7s 31ms/step - loss: 0.6516 - accuracy: 0.8944 - val_loss: 1.2691 - val_accuracy: 0.8201\n",
            "Epoch 42/50\n",
            "235/235 [==============================] - 7s 31ms/step - loss: 0.6461 - accuracy: 0.8956 - val_loss: 1.2727 - val_accuracy: 0.8194\n",
            "Epoch 43/50\n",
            "235/235 [==============================] - 7s 31ms/step - loss: 0.6404 - accuracy: 0.8966 - val_loss: 1.2714 - val_accuracy: 0.8213\n",
            "Epoch 44/50\n",
            "235/235 [==============================] - 7s 31ms/step - loss: 0.6352 - accuracy: 0.8976 - val_loss: 1.2748 - val_accuracy: 0.8203\n",
            "Epoch 45/50\n",
            "235/235 [==============================] - 7s 31ms/step - loss: 0.6300 - accuracy: 0.8984 - val_loss: 1.2752 - val_accuracy: 0.8199\n",
            "Epoch 46/50\n",
            "235/235 [==============================] - 7s 32ms/step - loss: 0.6247 - accuracy: 0.8994 - val_loss: 1.2718 - val_accuracy: 0.8210\n",
            "Epoch 47/50\n",
            "235/235 [==============================] - 8s 32ms/step - loss: 0.6199 - accuracy: 0.9002 - val_loss: 1.2813 - val_accuracy: 0.8204\n",
            "Epoch 48/50\n",
            "235/235 [==============================] - 7s 31ms/step - loss: 0.6150 - accuracy: 0.9014 - val_loss: 1.2760 - val_accuracy: 0.8205\n",
            "Epoch 49/50\n",
            "235/235 [==============================] - 7s 31ms/step - loss: 0.6103 - accuracy: 0.9019 - val_loss: 1.2807 - val_accuracy: 0.8197\n",
            "Epoch 50/50\n",
            "235/235 [==============================] - 7s 31ms/step - loss: 0.6055 - accuracy: 0.9028 - val_loss: 1.2814 - val_accuracy: 0.8197\n"
          ]
        }
      ]
    },
    {
      "cell_type": "code",
      "source": [
        "history_dict = history.history\n",
        "print(history_dict.keys()) # epoch에 따른 그래프를 그려볼 수 있는 항목들"
      ],
      "metadata": {
        "colab": {
          "base_uri": "https://localhost:8080/"
        },
        "id": "UDsceAkai19x",
        "outputId": "3f02e073-a407-463a-fd2b-d22b37a9d845"
      },
      "execution_count": null,
      "outputs": [
        {
          "output_type": "stream",
          "name": "stdout",
          "text": [
            "dict_keys(['loss', 'accuracy', 'val_loss', 'val_accuracy'])\n"
          ]
        }
      ]
    },
    {
      "cell_type": "code",
      "source": [
        "# Loss, Accuracy 그래프 시각화 \n",
        "\n",
        "import matplotlib.pyplot as plt\n",
        "\n",
        "acc = history_dict['accuracy']\n",
        "val_acc = history_dict['val_accuracy']\n",
        "loss = history_dict['loss']\n",
        "val_loss = history_dict['val_loss']\n",
        "\n",
        "epochs = range(1, len(acc) + 1)\n",
        "\n",
        "# \"ro\"는 \"빨간색 점\"입니다\n",
        "plt.plot(epochs, loss, 'ro', label='Training loss')\n",
        "# r는 \"빨간 실선\"입니다\n",
        "plt.plot(epochs, val_loss, 'r', label='Validation loss')\n",
        "plt.title('Training and validation loss')\n",
        "plt.xlabel('Epochs')\n",
        "plt.ylabel('Loss')\n",
        "plt.legend()\n",
        "\n",
        "plt.show()"
      ],
      "metadata": {
        "colab": {
          "base_uri": "https://localhost:8080/",
          "height": 295
        },
        "id": "NaiphZ6Ai4hE",
        "outputId": "6a44c5b6-9b19-4b15-a5eb-c385fc46c690"
      },
      "execution_count": null,
      "outputs": [
        {
          "output_type": "display_data",
          "data": {
            "text/plain": [
              "<Figure size 432x288 with 1 Axes>"
            ],
            "image/png": "[encoded data removed]"
          },
          "metadata": {
            "needs_background": "light"
          }
        }
      ]
    },
    {
      "cell_type": "code",
      "source": [
        "plt.clf()   # 그림을 초기화합니다\n",
        "# \"bo\"는 \"파란색 점\"입니다\n",
        "plt.plot(epochs, acc, 'bo', label='Training acc')\n",
        "# b는 \"파란 실선\"입니다\n",
        "plt.plot(epochs, val_acc, 'b', label='Validation acc')\n",
        "plt.title('Training and validation accuracy')\n",
        "plt.xlabel('Epochs')\n",
        "plt.ylabel('Accuracy')\n",
        "plt.legend()\n",
        "\n",
        "plt.show()"
      ],
      "metadata": {
        "colab": {
          "base_uri": "https://localhost:8080/",
          "height": 295
        },
        "id": "rPcnbY41jA36",
        "outputId": "b7e29a9f-99fb-479b-8b41-0123fe84a111"
      },
      "execution_count": null,
      "outputs": [
        {
          "output_type": "display_data",
          "data": {
            "text/plain": [
              "<Figure size 432x288 with 1 Axes>"
            ],
            "image/png": "[encoded data removed]"
          },
          "metadata": {
            "needs_background": "light"
          }
        }
      ]
    },
    {
      "cell_type": "markdown",
      "source": [
        "# Step 5. 모델 구현하기\n",
        "\n",
        "- seq2seq는 교사 강요가 테스트 과정에서 동작이 다르다\n",
        "- 그러므로 테스트 과정에서 모델을 다시 설계할 필요가있다."
      ],
      "metadata": {
        "id": "a6AY7xRLf5eR"
      }
    },
    {
      "cell_type": "code",
      "source": [
        "# 인코더 모델\n",
        "encoder_model = Model(inputs = encoder_inputs, outputs = encoder_states)\n",
        "\n",
        "# 이전 time step의 hidden state를 저장하는 텐서\n",
        "decoder_state_input_h = Input(shape=(hidden_units,))\n",
        "\n",
        "# 이전 time step의 cell state를 저장하는 텐서\n",
        "decoder_state_input_c = Input(shape=(hidden_units,))\n",
        "\n",
        "# 이전 time step의 hidden state와 cell state를 하나의 변수에 저장\n",
        "decoder_states_inputs = [decoder_state_input_h, decoder_state_input_c]\n",
        "\n",
        "# 훈련 때 사용했던 임베딩 층을 재사용\n",
        "dec_emb2 = dec_emb_layer(decoder_inputs)\n",
        "\n",
        "# 구체적인 동작 자체는 def decode_sequence()에 구현.\n",
        "decoder_outputs2, state_h2, state_c2 = decoder_lstm(dec_emb2, initial_state=decoder_states_inputs)\n",
        "decoder_states2 = [state_h2, state_c2]\n",
        "\n",
        "# 디코더 출력층 재설계\n",
        "decoder_outputs2  = decoder_softmax_layer(decoder_outputs2)\n",
        "decoder_model = Model(inputs=[decoder_inputs] + decoder_states_inputs, outputs=[decoder_outputs2 ] + decoder_states2)"
      ],
      "metadata": {
        "id": "a6xGfdUZf7L3"
      },
      "execution_count": null,
      "outputs": []
    },
    {
      "cell_type": "code",
      "source": [
        "decoder_model.summary()"
      ],
      "metadata": {
        "colab": {
          "base_uri": "https://localhost:8080/"
        },
        "id": "ZWI3b7sNmnPZ",
        "outputId": "dcf9910b-7221-4ea6-9ac9-9cbeda15657e"
      },
      "execution_count": null,
      "outputs": [
        {
          "output_type": "stream",
          "name": "stdout",
          "text": [
            "Model: \"model_13\"\n",
            "__________________________________________________________________________________________________\n",
            " Layer (type)                   Output Shape         Param #     Connected to                     \n",
            "==================================================================================================\n",
            " input_18 (InputLayer)          [(None, None)]       0           []                               \n",
            "                                                                                                  \n",
            " embedding_5 (Embedding)        (None, None, 64)     639360      ['input_18[0][0]']               \n",
            "                                                                                                  \n",
            " input_21 (InputLayer)          [(None, 64)]         0           []                               \n",
            "                                                                                                  \n",
            " input_22 (InputLayer)          [(None, 64)]         0           []                               \n",
            "                                                                                                  \n",
            " lstm_5 (LSTM)                  [(None, None, 64),   33024       ['embedding_5[2][0]',            \n",
            "                                 (None, 64),                      'input_21[0][0]',               \n",
            "                                 (None, 64)]                      'input_22[0][0]']               \n",
            "                                                                                                  \n",
            " dense_2 (Dense)                (None, None, 9990)   649350      ['lstm_5[2][0]']                 \n",
            "                                                                                                  \n",
            "==================================================================================================\n",
            "Total params: 1,321,734\n",
            "Trainable params: 1,321,734\n",
            "Non-trainable params: 0\n",
            "__________________________________________________________________________________________________\n"
          ]
        }
      ]
    },
    {
      "cell_type": "code",
      "source": [
        "# 단어 사전 준비하기\n",
        "eng2idx = eng_tokenizer.word_index\n",
        "idx2eng = eng_tokenizer.index_word\n",
        "fra2idx = fra_tokenizer.word_index\n",
        "idx2fra = fra_tokenizer.index_word"
      ],
      "metadata": {
        "id": "GJFvdASPmyZn"
      },
      "execution_count": null,
      "outputs": []
    },
    {
      "cell_type": "code",
      "source": [
        "# decode_sequence() 구현\n",
        "\n",
        "def decode_sequence(input_seq):\n",
        "  # 입력으로부터 인코더의 상태를 얻음\n",
        "  states_value = encoder_model.predict(input_seq)\n",
        "  \n",
        "  target_seq = np.zeros((1, 1))\n",
        "  target_seq[0, 0] = fra_tokenizer.word_index[sos_token]\n",
        "\n",
        "  stop_condition = False\n",
        "  decoded_sentence = \"\"\n",
        "\n",
        "  # stop_condition이 True가 될 때까지 루프 반복\n",
        "  while not stop_condition:\n",
        "      # 이점 시점의 상태 states_value를 현 시점의 초기 상태로 사용\n",
        "      output_tokens, h, c = decoder_model.predict([target_seq] + states_value)\n",
        "\n",
        "      # 예측 결과를 문자로 변환\n",
        "      sampled_token_index = np.argmax(output_tokens[0, -1, :])\n",
        "      sampled_char = fra_tokenizer.index_word[sampled_token_index]\n",
        "\n",
        "      # 현재 시점의 예측 문자를 예측 문장에 추가\n",
        "      decoded_sentence += sampled_char\n",
        "\n",
        "      # <eos>에 도달하거나 최대 길이를 넘으면 중단.\n",
        "      if (sampled_char == eos_token or\n",
        "          len(decoded_sentence) > max_fra_seq_len):\n",
        "          stop_condition = True\n",
        "\n",
        "      # 현재 시점의 예측 결과를 다음 시점의 입력으로 사용하기 위해 저장\n",
        "      target_seq = np.zeros((1, 1))\n",
        "      target_seq[0, 0] =  sampled_token_index\n",
        "\n",
        "      # 현재 시점의 상태를 다음 시점의 상태로 사용하기 위해 저장\n",
        "      states_value = [h, c]\n",
        "\n",
        "  return decoded_sentence"
      ],
      "metadata": {
        "id": "CtrrGBj6MEYm"
      },
      "execution_count": null,
      "outputs": []
    },
    {
      "cell_type": "code",
      "source": [
        "# 원문의 정수 시퀀스를 텍스트 시퀀스로 변환\n",
        "def seq_to_src(input_seq):\n",
        "  sentence = ''\n",
        "  for encoded_word in input_seq:\n",
        "    if(encoded_word != 0):\n",
        "      sentence = sentence + idx2eng[encoded_word] + ' '\n",
        "  return sentence\n",
        "\n",
        "# 번역문의 정수 시퀀스를 텍스트 시퀀스로 변환\n",
        "def seq_to_tar(input_seq):\n",
        "  sentence = ''\n",
        "  for encoded_word in input_seq:\n",
        "    if(encoded_word != 0 and encoded_word != fra2idx['<sos>'] and encoded_word != fra2idx['<eos>']):\n",
        "      sentence = sentence + idx2fra[encoded_word] + ' '\n",
        "  return sentence"
      ],
      "metadata": {
        "id": "XT75eMt95cEd"
      },
      "execution_count": null,
      "outputs": []
    },
    {
      "cell_type": "code",
      "source": [
        "# 출력 결과 테스트하기\n",
        "import numpy as np\n",
        "\n",
        "for seq_index in [3,50,100,300,1001]:\n",
        "  input_seq = encoder_input_train[seq_index: seq_index + 1]\n",
        "  decoded_sentence = decode_sequence(input_seq)\n",
        "  print(\"입력문장 :\",seq_to_src(encoder_input_train[seq_index]))\n",
        "  print(\"정답문장 :\",seq_to_tar(decoder_input_train[seq_index]))\n",
        "  print(\"번역문장 :\",decoded_sentence[1:-5])\n",
        "  print(\"-\"*50)"
      ],
      "metadata": {
        "colab": {
          "base_uri": "https://localhost:8080/"
        },
        "id": "qOyKqF1y5fa8",
        "outputId": "d75b845e-571d-4f9b-acd0-765e52941e38"
      },
      "execution_count": null,
      "outputs": [
        {
          "output_type": "stream",
          "name": "stdout",
          "text": [
            "입력문장 : hi . \n",
            "정답문장 : salut ! \n",
            "번역문장 : alut!\n",
            "--------------------------------------------------\n",
            "입력문장 : hello ! \n",
            "정답문장 : salut ! \n",
            "번역문장 : alut!\n",
            "--------------------------------------------------\n",
            "입력문장 : hop in . \n",
            "정답문장 : montez . \n",
            "번역문장 : renezleyeux.\n",
            "--------------------------------------------------\n",
            "입력문장 : help me ! \n",
            "정답문장 : aide-moi ! \n",
            "번역문장 : \n",
            "--------------------------------------------------\n",
            "입력문장 : humor tom . \n",
            "정답문장 : mettez tom de bonne humeur . \n",
            "번역문장 : omauncoupd\n",
            "--------------------------------------------------\n"
          ]
        }
      ]
    },
    {
      "cell_type": "code",
      "source": [
        "# 출력 결과 테스트하기\n",
        "import numpy as np\n",
        "\n",
        "for seq_index in [3,50,100,300,1001]:\n",
        "  input_seq = encoder_input_train[seq_index: seq_index + 1]\n",
        "  decoded_sentence = decode_sequence(input_seq)\n",
        "  print(35*'-')\n",
        "  print('입력 문장:', lines_c.eng[seq_index])\n",
        "  print('정답 문장:', lines_c.fra[seq_index][1:len(lines_c.fra[seq_index])-1]) # '\\t'와 '\\n'을 빼고 출력\n",
        "  print('번역기가 번역한 문장:', decoded_sentence[:len(decoded_sentence)-1]) # '\\n'을 빼고 출력"
      ],
      "metadata": {
        "colab": {
          "base_uri": "https://localhost:8080/"
        },
        "id": "2KHOK1vkm8-y",
        "outputId": "924f718f-3937-4b34-a0cb-3cf35bdc561e"
      },
      "execution_count": null,
      "outputs": [
        {
          "output_type": "stream",
          "name": "stdout",
          "text": [
            "-----------------------------------\n",
            "입력 문장: ['hi', '.']\n",
            "정답 문장: ['salut', '!']\n",
            "번역기가 번역한 문장: salut!<eos\n",
            "-----------------------------------\n",
            "입력 문장: ['hello', '!']\n",
            "정답 문장: ['salut', '!']\n",
            "번역기가 번역한 문장: salut!<eos\n",
            "-----------------------------------\n",
            "입력 문장: ['hop', 'in', '.']\n",
            "정답 문장: ['montez', '.']\n",
            "번역기가 번역한 문장: prenezleyeux.<eos\n",
            "-----------------------------------\n",
            "입력 문장: ['help', 'me', '!']\n",
            "정답 문장: ['aide-moi', '!']\n",
            "번역기가 번역한 문장: ?<eos\n",
            "-----------------------------------\n",
            "입력 문장: ['humor', 'tom', '.']\n",
            "정답 문장: ['mettez', 'tom', 'de', 'bonne', 'humeur', '.']\n",
            "번역기가 번역한 문장: tomauncoupdepie\n"
          ]
        }
      ]
    },
    {
      "cell_type": "code",
      "source": [
        "# 출력 결과 테스트하기\n",
        "import numpy as np\n",
        "\n",
        "for seq_index in [3,50,100,300,1001]:\n",
        "  input_seq = encoder_input_test[seq_index: seq_index + 1]\n",
        "  decoded_sentence = decode_sequence(input_seq)\n",
        "  print(35*'-')\n",
        "  print('입력 문장:', lines_c.eng[seq_index])\n",
        "  print('정답 문장:', lines_c.fra[seq_index][1:len(lines_c.fra[seq_index])-1]) # '\\t'와 '\\n'을 빼고 출력\n",
        "  print('번역기가 번역한 문장:', decoded_sentence[:len(decoded_sentence)-1]) # '\\n'을 빼고 출력"
      ],
      "metadata": {
        "colab": {
          "base_uri": "https://localhost:8080/"
        },
        "id": "oa5jUhaD5AwG",
        "outputId": "31e9cec4-12d7-42fa-d260-bd991e826aec"
      },
      "execution_count": null,
      "outputs": [
        {
          "output_type": "stream",
          "name": "stdout",
          "text": [
            "-----------------------------------\n",
            "입력 문장: ['hi', '.']\n",
            "정답 문장: ['salut', '!']\n",
            "번역기가 번역한 문장: jeveuxbesoindej'ador\n",
            "-----------------------------------\n",
            "입력 문장: ['hello', '!']\n",
            "정답 문장: ['salut', '!']\n",
            "번역기가 번역한 문장: j'étaistoutàparle\n",
            "-----------------------------------\n",
            "입력 문장: ['hop', 'in', '.']\n",
            "정답 문장: ['montez', '.']\n",
            "번역기가 번역한 문장: j'étaistrèsoccup\n",
            "-----------------------------------\n",
            "입력 문장: ['help', 'me', '!']\n",
            "정답 문장: ['aide-moi', '!']\n",
            "번역기가 번역한 문장: jevaispayer.<eos\n",
            "-----------------------------------\n",
            "입력 문장: ['humor', 'tom', '.']\n",
            "정답 문장: ['mettez', 'tom', 'de', 'bonne', 'humeur', '.']\n",
            "번역기가 번역한 문장: tuasl'airdetravai\n"
          ]
        }
      ]
    }
  ]
}