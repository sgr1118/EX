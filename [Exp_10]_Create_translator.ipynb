{
  "nbformat": 4,
  "nbformat_minor": 0,
  "metadata": {
    "colab": {
      "name": "[Exp-10] Create translator.ipynb",
      "provenance": [],
      "collapsed_sections": [],
      "machine_shape": "hm",
      "mount_file_id": "1AmVyjNTBwOGMRNo0tlIYrTeKvCvAh_RM",
      "authorship_tag": "ABX9TyNzeVdrOjqdE66VHmRIobEA",
      "include_colab_link": true
    },
    "kernelspec": {
      "name": "python3",
      "display_name": "Python 3"
    },
    "language_info": {
      "name": "python"
    },
    "accelerator": "GPU",
    "gpuClass": "standard"
  },
  "cells": [
    {
      "cell_type": "markdown",
      "metadata": {
        "id": "view-in-github",
        "colab_type": "text"
      },
      "source": [
        "<a href=\"https://colab.research.google.com/github/sgr1118/EX/blob/main/%5BExp_10%5D_Create_translator.ipynb\" target=\"_parent\"><img src=\"https://colab.research.google.com/assets/colab-badge.svg\" alt=\"Open In Colab\"/></a>"
      ]
    },
    {
      "cell_type": "markdown",
      "source": [
        "# 10-10. 프로젝트 : 단어 Level로 번역기 업그레이드하기\n",
        "\n",
        "- 동일한 데이터셋을 사용하면서 글자 단위와는 다른 전처리와 임베딩 층(Embedding layer)를 추가하여 단어 단위의 번역기를 완성\n",
        "\n",
        "- 단어 단위로 할 경우에는 단어의 개수가 글자 단위로 했을 경우와 비교하여 단어장의 크기(Vocabulary) 크기도 커지고, 학습 속도도 좀 더 느려집니다.\n",
        "\n",
        "- 학습과 테스트 시의 원활한 진행을 위해서 데이터에서 상위 33,000개의 샘플\n",
        "\n",
        "- 33000개 중 3000개는 테스트 데이터로 분리하여 사용"
      ],
      "metadata": {
        "id": "so3eWspn-loP"
      }
    },
    {
      "cell_type": "code",
      "source": [
        "from google.colab import drive\n",
        "drive.mount('/content/drive')"
      ],
      "metadata": {
        "colab": {
          "base_uri": "https://localhost:8080/"
        },
        "id": "caSuGkvJv7bI",
        "outputId": "161cd2af-37fc-4d2a-bc67-ad157db53d4d"
      },
      "execution_count": null,
      "outputs": [
        {
          "output_type": "stream",
          "name": "stdout",
          "text": [
            "Drive already mounted at /content/drive; to attempt to forcibly remount, call drive.mount(\"/content/drive\", force_remount=True).\n"
          ]
        }
      ]
    },
    {
      "cell_type": "code",
      "source": [
        "# 영구적인 라이브러리 설치하기위한 경로 지정\n",
        "import os, sys\n",
        "\n",
        "my_path = '/content/notebooks'\n",
        "# Colab Notebooks 안에 my_env 폴더에 패키지 저장\n",
        "os.symlink('/content/drive/MyDrive/Colab Notebooks/my_env2', my_path)\n",
        "sys.path.insert(0, my_path)"
      ],
      "metadata": {
        "id": "RYZojn_Mo2YF"
      },
      "execution_count": null,
      "outputs": []
    },
    {
      "cell_type": "code",
      "source": [
        "!apt install --allow-change-held-packages libcudnn8=8.1.0.77-1+cuda11.2\n",
        "!pip install --target=$my_path--upgrade tensorflow"
      ],
      "metadata": {
        "id": "jh8mh_OZo1vb"
      },
      "execution_count": null,
      "outputs": []
    },
    {
      "cell_type": "code",
      "execution_count": 2,
      "metadata": {
        "id": "Uw765SDy-OJc"
      },
      "outputs": [],
      "source": [
        "# 필요한 라이브러리 불러오기\n",
        "import pandas as pd\n",
        "from tensorflow.keras.preprocessing.text import Tokenizer\n",
        "from tensorflow.keras.preprocessing.sequence import pad_sequences\n",
        "from tensorflow.keras.utils import to_categorical\n",
        "import numpy as np"
      ]
    },
    {
      "cell_type": "code",
      "source": [
        "# 데이터 불러오기\n",
        "file_path = '/content/drive/MyDrive/Aiffel/EX/EX10_txt/fra.txt'\n",
        "lines = pd.read_csv(file_path, names=['eng', 'fra', 'cc'], sep = '\\t')\n",
        "print('전체 샘플의 수 :', len(lines))\n",
        "lines.sample(3)"
      ],
      "metadata": {
        "colab": {
          "base_uri": "https://localhost:8080/",
          "height": 162
        },
        "id": "rCg7fuIWwoos",
        "outputId": "da3d0eae-aee7-4cc5-e95f-ed35cc6ad53d"
      },
      "execution_count": 3,
      "outputs": [
        {
          "output_type": "stream",
          "name": "stdout",
          "text": [
            "전체 샘플의 수 : 194513\n"
          ]
        },
        {
          "output_type": "execute_result",
          "data": {
            "text/plain": [
              "                                       eng  \\\n",
              "92197         Do you want some cherry pie?   \n",
              "134392  I won't be able to help you today.   \n",
              "79830           I'm not doing this for me.   \n",
              "\n",
              "                                              fra  \\\n",
              "92197       Voulez-vous de la tarte aux cerises ?   \n",
              "134392  Je ne pourrai pas vous aider aujourd'hui.   \n",
              "79830               Je ne fais pas ceci pour moi.   \n",
              "\n",
              "                                                       cc  \n",
              "92197   CC-BY 2.0 (France) Attribution: tatoeba.org #6...  \n",
              "134392  CC-BY 2.0 (France) Attribution: tatoeba.org #5...  \n",
              "79830   CC-BY 2.0 (France) Attribution: tatoeba.org #2...  "
            ],
            "text/html": [
              "\n",
              "  <div id=\"df-9122f00c-4aab-499f-a276-4cee5b283b03\">\n",
              "    <div class=\"colab-df-container\">\n",
              "      <div>\n",
              "<style scoped>\n",
              "    .dataframe tbody tr th:only-of-type {\n",
              "        vertical-align: middle;\n",
              "    }\n",
              "\n",
              "    .dataframe tbody tr th {\n",
              "        vertical-align: top;\n",
              "    }\n",
              "\n",
              "    .dataframe thead th {\n",
              "        text-align: right;\n",
              "    }\n",
              "</style>\n",
              "<table border=\"1\" class=\"dataframe\">\n",
              "  <thead>\n",
              "    <tr style=\"text-align: right;\">\n",
              "      <th></th>\n",
              "      <th>eng</th>\n",
              "      <th>fra</th>\n",
              "      <th>cc</th>\n",
              "    </tr>\n",
              "  </thead>\n",
              "  <tbody>\n",
              "    <tr>\n",
              "      <th>92197</th>\n",
              "      <td>Do you want some cherry pie?</td>\n",
              "      <td>Voulez-vous de la tarte aux cerises ?</td>\n",
              "      <td>CC-BY 2.0 (France) Attribution: tatoeba.org #6...</td>\n",
              "    </tr>\n",
              "    <tr>\n",
              "      <th>134392</th>\n",
              "      <td>I won't be able to help you today.</td>\n",
              "      <td>Je ne pourrai pas vous aider aujourd'hui.</td>\n",
              "      <td>CC-BY 2.0 (France) Attribution: tatoeba.org #5...</td>\n",
              "    </tr>\n",
              "    <tr>\n",
              "      <th>79830</th>\n",
              "      <td>I'm not doing this for me.</td>\n",
              "      <td>Je ne fais pas ceci pour moi.</td>\n",
              "      <td>CC-BY 2.0 (France) Attribution: tatoeba.org #2...</td>\n",
              "    </tr>\n",
              "  </tbody>\n",
              "</table>\n",
              "</div>\n",
              "      <button class=\"colab-df-convert\" onclick=\"convertToInteractive('df-9122f00c-4aab-499f-a276-4cee5b283b03')\"\n",
              "              title=\"Convert this dataframe to an interactive table.\"\n",
              "              style=\"display:none;\">\n",
              "        \n",
              "  <svg xmlns=\"http://www.w3.org/2000/svg\" height=\"24px\"viewBox=\"0 0 24 24\"\n",
              "       width=\"24px\">\n",
              "    <path d=\"M0 0h24v24H0V0z\" fill=\"none\"/>\n",
              "    <path d=\"M18.56 5.44l.94 2.06.94-2.06 2.06-.94-2.06-.94-.94-2.06-.94 2.06-2.06.94zm-11 1L8.5 8.5l.94-2.06 2.06-.94-2.06-.94L8.5 2.5l-.94 2.06-2.06.94zm10 10l.94 2.06.94-2.06 2.06-.94-2.06-.94-.94-2.06-.94 2.06-2.06.94z\"/><path d=\"M17.41 7.96l-1.37-1.37c-.4-.4-.92-.59-1.43-.59-.52 0-1.04.2-1.43.59L10.3 9.45l-7.72 7.72c-.78.78-.78 2.05 0 2.83L4 21.41c.39.39.9.59 1.41.59.51 0 1.02-.2 1.41-.59l7.78-7.78 2.81-2.81c.8-.78.8-2.07 0-2.86zM5.41 20L4 18.59l7.72-7.72 1.47 1.35L5.41 20z\"/>\n",
              "  </svg>\n",
              "      </button>\n",
              "      \n",
              "  <style>\n",
              "    .colab-df-container {\n",
              "      display:flex;\n",
              "      flex-wrap:wrap;\n",
              "      gap: 12px;\n",
              "    }\n",
              "\n",
              "    .colab-df-convert {\n",
              "      background-color: #E8F0FE;\n",
              "      border: none;\n",
              "      border-radius: 50%;\n",
              "      cursor: pointer;\n",
              "      display: none;\n",
              "      fill: #1967D2;\n",
              "      height: 32px;\n",
              "      padding: 0 0 0 0;\n",
              "      width: 32px;\n",
              "    }\n",
              "\n",
              "    .colab-df-convert:hover {\n",
              "      background-color: #E2EBFA;\n",
              "      box-shadow: 0px 1px 2px rgba(60, 64, 67, 0.3), 0px 1px 3px 1px rgba(60, 64, 67, 0.15);\n",
              "      fill: #174EA6;\n",
              "    }\n",
              "\n",
              "    [theme=dark] .colab-df-convert {\n",
              "      background-color: #3B4455;\n",
              "      fill: #D2E3FC;\n",
              "    }\n",
              "\n",
              "    [theme=dark] .colab-df-convert:hover {\n",
              "      background-color: #434B5C;\n",
              "      box-shadow: 0px 1px 3px 1px rgba(0, 0, 0, 0.15);\n",
              "      filter: drop-shadow(0px 1px 2px rgba(0, 0, 0, 0.3));\n",
              "      fill: #FFFFFF;\n",
              "    }\n",
              "  </style>\n",
              "\n",
              "      <script>\n",
              "        const buttonEl =\n",
              "          document.querySelector('#df-9122f00c-4aab-499f-a276-4cee5b283b03 button.colab-df-convert');\n",
              "        buttonEl.style.display =\n",
              "          google.colab.kernel.accessAllowed ? 'block' : 'none';\n",
              "\n",
              "        async function convertToInteractive(key) {\n",
              "          const element = document.querySelector('#df-9122f00c-4aab-499f-a276-4cee5b283b03');\n",
              "          const dataTable =\n",
              "            await google.colab.kernel.invokeFunction('convertToInteractive',\n",
              "                                                     [key], {});\n",
              "          if (!dataTable) return;\n",
              "\n",
              "          const docLinkHtml = 'Like what you see? Visit the ' +\n",
              "            '<a target=\"_blank\" href=https://colab.research.google.com/notebooks/data_table.ipynb>data table notebook</a>'\n",
              "            + ' to learn more about interactive tables.';\n",
              "          element.innerHTML = '';\n",
              "          dataTable['output_type'] = 'display_data';\n",
              "          await google.colab.output.renderOutput(dataTable, element);\n",
              "          const docLink = document.createElement('div');\n",
              "          docLink.innerHTML = docLinkHtml;\n",
              "          element.appendChild(docLink);\n",
              "        }\n",
              "      </script>\n",
              "    </div>\n",
              "  </div>\n",
              "  "
            ]
          },
          "metadata": {},
          "execution_count": 3
        }
      ]
    },
    {
      "cell_type": "code",
      "source": [
        "# train 데이터는 조간에 따라 33000개만 사용\n",
        "lines = lines[['eng', 'fra']][:33000]\n",
        "lines_c = lines.copy()\n",
        "# 분석에 문제가 생길경우를 대비라여 copy파일 생성\n",
        "lines_c.sample(5)"
      ],
      "metadata": {
        "colab": {
          "base_uri": "https://localhost:8080/",
          "height": 206
        },
        "id": "pVm9x5Tz5Cft",
        "outputId": "aba735f2-8fd4-4628-b357-c2b7410118c0"
      },
      "execution_count": 4,
      "outputs": [
        {
          "output_type": "execute_result",
          "data": {
            "text/plain": [
              "                       eng                            fra\n",
              "21656    What woke you up?  Qu'est-ce qui t'a réveillée ?\n",
              "11320      Let's be frank.                 Soyons francs.\n",
              "14499     I won't risk it.     Je ne vais pas le risquer.\n",
              "11359      Look after Tom.            Prends soin de Tom.\n",
              "31092  No one is to leave.     Personne ne va s’en aller."
            ],
            "text/html": [
              "\n",
              "  <div id=\"df-2365e872-a09c-4a87-afe4-7f36255f0f0b\">\n",
              "    <div class=\"colab-df-container\">\n",
              "      <div>\n",
              "<style scoped>\n",
              "    .dataframe tbody tr th:only-of-type {\n",
              "        vertical-align: middle;\n",
              "    }\n",
              "\n",
              "    .dataframe tbody tr th {\n",
              "        vertical-align: top;\n",
              "    }\n",
              "\n",
              "    .dataframe thead th {\n",
              "        text-align: right;\n",
              "    }\n",
              "</style>\n",
              "<table border=\"1\" class=\"dataframe\">\n",
              "  <thead>\n",
              "    <tr style=\"text-align: right;\">\n",
              "      <th></th>\n",
              "      <th>eng</th>\n",
              "      <th>fra</th>\n",
              "    </tr>\n",
              "  </thead>\n",
              "  <tbody>\n",
              "    <tr>\n",
              "      <th>21656</th>\n",
              "      <td>What woke you up?</td>\n",
              "      <td>Qu'est-ce qui t'a réveillée ?</td>\n",
              "    </tr>\n",
              "    <tr>\n",
              "      <th>11320</th>\n",
              "      <td>Let's be frank.</td>\n",
              "      <td>Soyons francs.</td>\n",
              "    </tr>\n",
              "    <tr>\n",
              "      <th>14499</th>\n",
              "      <td>I won't risk it.</td>\n",
              "      <td>Je ne vais pas le risquer.</td>\n",
              "    </tr>\n",
              "    <tr>\n",
              "      <th>11359</th>\n",
              "      <td>Look after Tom.</td>\n",
              "      <td>Prends soin de Tom.</td>\n",
              "    </tr>\n",
              "    <tr>\n",
              "      <th>31092</th>\n",
              "      <td>No one is to leave.</td>\n",
              "      <td>Personne ne va s’en aller.</td>\n",
              "    </tr>\n",
              "  </tbody>\n",
              "</table>\n",
              "</div>\n",
              "      <button class=\"colab-df-convert\" onclick=\"convertToInteractive('df-2365e872-a09c-4a87-afe4-7f36255f0f0b')\"\n",
              "              title=\"Convert this dataframe to an interactive table.\"\n",
              "              style=\"display:none;\">\n",
              "        \n",
              "  <svg xmlns=\"http://www.w3.org/2000/svg\" height=\"24px\"viewBox=\"0 0 24 24\"\n",
              "       width=\"24px\">\n",
              "    <path d=\"M0 0h24v24H0V0z\" fill=\"none\"/>\n",
              "    <path d=\"M18.56 5.44l.94 2.06.94-2.06 2.06-.94-2.06-.94-.94-2.06-.94 2.06-2.06.94zm-11 1L8.5 8.5l.94-2.06 2.06-.94-2.06-.94L8.5 2.5l-.94 2.06-2.06.94zm10 10l.94 2.06.94-2.06 2.06-.94-2.06-.94-.94-2.06-.94 2.06-2.06.94z\"/><path d=\"M17.41 7.96l-1.37-1.37c-.4-.4-.92-.59-1.43-.59-.52 0-1.04.2-1.43.59L10.3 9.45l-7.72 7.72c-.78.78-.78 2.05 0 2.83L4 21.41c.39.39.9.59 1.41.59.51 0 1.02-.2 1.41-.59l7.78-7.78 2.81-2.81c.8-.78.8-2.07 0-2.86zM5.41 20L4 18.59l7.72-7.72 1.47 1.35L5.41 20z\"/>\n",
              "  </svg>\n",
              "      </button>\n",
              "      \n",
              "  <style>\n",
              "    .colab-df-container {\n",
              "      display:flex;\n",
              "      flex-wrap:wrap;\n",
              "      gap: 12px;\n",
              "    }\n",
              "\n",
              "    .colab-df-convert {\n",
              "      background-color: #E8F0FE;\n",
              "      border: none;\n",
              "      border-radius: 50%;\n",
              "      cursor: pointer;\n",
              "      display: none;\n",
              "      fill: #1967D2;\n",
              "      height: 32px;\n",
              "      padding: 0 0 0 0;\n",
              "      width: 32px;\n",
              "    }\n",
              "\n",
              "    .colab-df-convert:hover {\n",
              "      background-color: #E2EBFA;\n",
              "      box-shadow: 0px 1px 2px rgba(60, 64, 67, 0.3), 0px 1px 3px 1px rgba(60, 64, 67, 0.15);\n",
              "      fill: #174EA6;\n",
              "    }\n",
              "\n",
              "    [theme=dark] .colab-df-convert {\n",
              "      background-color: #3B4455;\n",
              "      fill: #D2E3FC;\n",
              "    }\n",
              "\n",
              "    [theme=dark] .colab-df-convert:hover {\n",
              "      background-color: #434B5C;\n",
              "      box-shadow: 0px 1px 3px 1px rgba(0, 0, 0, 0.15);\n",
              "      filter: drop-shadow(0px 1px 2px rgba(0, 0, 0, 0.3));\n",
              "      fill: #FFFFFF;\n",
              "    }\n",
              "  </style>\n",
              "\n",
              "      <script>\n",
              "        const buttonEl =\n",
              "          document.querySelector('#df-2365e872-a09c-4a87-afe4-7f36255f0f0b button.colab-df-convert');\n",
              "        buttonEl.style.display =\n",
              "          google.colab.kernel.accessAllowed ? 'block' : 'none';\n",
              "\n",
              "        async function convertToInteractive(key) {\n",
              "          const element = document.querySelector('#df-2365e872-a09c-4a87-afe4-7f36255f0f0b');\n",
              "          const dataTable =\n",
              "            await google.colab.kernel.invokeFunction('convertToInteractive',\n",
              "                                                     [key], {});\n",
              "          if (!dataTable) return;\n",
              "\n",
              "          const docLinkHtml = 'Like what you see? Visit the ' +\n",
              "            '<a target=\"_blank\" href=https://colab.research.google.com/notebooks/data_table.ipynb>data table notebook</a>'\n",
              "            + ' to learn more about interactive tables.';\n",
              "          element.innerHTML = '';\n",
              "          dataTable['output_type'] = 'display_data';\n",
              "          await google.colab.output.renderOutput(dataTable, element);\n",
              "          const docLink = document.createElement('div');\n",
              "          docLink.innerHTML = docLinkHtml;\n",
              "          element.appendChild(docLink);\n",
              "        }\n",
              "      </script>\n",
              "    </div>\n",
              "  </div>\n",
              "  "
            ]
          },
          "metadata": {},
          "execution_count": 4
        }
      ]
    },
    {
      "cell_type": "code",
      "source": [
        "lines_c.iloc[:5]\n",
        "# 다음 전처리에서 주의해야할 부문은 구두점의 띄어쓰기인것으로 판단된다.\n",
        "# fra에서 어떤 구두점은 띄어쓰기가 되어있고 아닌것도 있다."
      ],
      "metadata": {
        "colab": {
          "base_uri": "https://localhost:8080/",
          "height": 206
        },
        "id": "ur7qgyw1Mcgg",
        "outputId": "37ae7e6e-639e-41b4-92d7-4d918226f1d7"
      },
      "execution_count": 5,
      "outputs": [
        {
          "output_type": "execute_result",
          "data": {
            "text/plain": [
              "   eng      fra\n",
              "0  Go.     Va !\n",
              "1  Go.  Marche.\n",
              "2  Go.  Bouge !\n",
              "3  Hi.  Salut !\n",
              "4  Hi.   Salut."
            ],
            "text/html": [
              "\n",
              "  <div id=\"df-163f9eb3-37f9-4a1c-9309-c4e129875929\">\n",
              "    <div class=\"colab-df-container\">\n",
              "      <div>\n",
              "<style scoped>\n",
              "    .dataframe tbody tr th:only-of-type {\n",
              "        vertical-align: middle;\n",
              "    }\n",
              "\n",
              "    .dataframe tbody tr th {\n",
              "        vertical-align: top;\n",
              "    }\n",
              "\n",
              "    .dataframe thead th {\n",
              "        text-align: right;\n",
              "    }\n",
              "</style>\n",
              "<table border=\"1\" class=\"dataframe\">\n",
              "  <thead>\n",
              "    <tr style=\"text-align: right;\">\n",
              "      <th></th>\n",
              "      <th>eng</th>\n",
              "      <th>fra</th>\n",
              "    </tr>\n",
              "  </thead>\n",
              "  <tbody>\n",
              "    <tr>\n",
              "      <th>0</th>\n",
              "      <td>Go.</td>\n",
              "      <td>Va !</td>\n",
              "    </tr>\n",
              "    <tr>\n",
              "      <th>1</th>\n",
              "      <td>Go.</td>\n",
              "      <td>Marche.</td>\n",
              "    </tr>\n",
              "    <tr>\n",
              "      <th>2</th>\n",
              "      <td>Go.</td>\n",
              "      <td>Bouge !</td>\n",
              "    </tr>\n",
              "    <tr>\n",
              "      <th>3</th>\n",
              "      <td>Hi.</td>\n",
              "      <td>Salut !</td>\n",
              "    </tr>\n",
              "    <tr>\n",
              "      <th>4</th>\n",
              "      <td>Hi.</td>\n",
              "      <td>Salut.</td>\n",
              "    </tr>\n",
              "  </tbody>\n",
              "</table>\n",
              "</div>\n",
              "      <button class=\"colab-df-convert\" onclick=\"convertToInteractive('df-163f9eb3-37f9-4a1c-9309-c4e129875929')\"\n",
              "              title=\"Convert this dataframe to an interactive table.\"\n",
              "              style=\"display:none;\">\n",
              "        \n",
              "  <svg xmlns=\"http://www.w3.org/2000/svg\" height=\"24px\"viewBox=\"0 0 24 24\"\n",
              "       width=\"24px\">\n",
              "    <path d=\"M0 0h24v24H0V0z\" fill=\"none\"/>\n",
              "    <path d=\"M18.56 5.44l.94 2.06.94-2.06 2.06-.94-2.06-.94-.94-2.06-.94 2.06-2.06.94zm-11 1L8.5 8.5l.94-2.06 2.06-.94-2.06-.94L8.5 2.5l-.94 2.06-2.06.94zm10 10l.94 2.06.94-2.06 2.06-.94-2.06-.94-.94-2.06-.94 2.06-2.06.94z\"/><path d=\"M17.41 7.96l-1.37-1.37c-.4-.4-.92-.59-1.43-.59-.52 0-1.04.2-1.43.59L10.3 9.45l-7.72 7.72c-.78.78-.78 2.05 0 2.83L4 21.41c.39.39.9.59 1.41.59.51 0 1.02-.2 1.41-.59l7.78-7.78 2.81-2.81c.8-.78.8-2.07 0-2.86zM5.41 20L4 18.59l7.72-7.72 1.47 1.35L5.41 20z\"/>\n",
              "  </svg>\n",
              "      </button>\n",
              "      \n",
              "  <style>\n",
              "    .colab-df-container {\n",
              "      display:flex;\n",
              "      flex-wrap:wrap;\n",
              "      gap: 12px;\n",
              "    }\n",
              "\n",
              "    .colab-df-convert {\n",
              "      background-color: #E8F0FE;\n",
              "      border: none;\n",
              "      border-radius: 50%;\n",
              "      cursor: pointer;\n",
              "      display: none;\n",
              "      fill: #1967D2;\n",
              "      height: 32px;\n",
              "      padding: 0 0 0 0;\n",
              "      width: 32px;\n",
              "    }\n",
              "\n",
              "    .colab-df-convert:hover {\n",
              "      background-color: #E2EBFA;\n",
              "      box-shadow: 0px 1px 2px rgba(60, 64, 67, 0.3), 0px 1px 3px 1px rgba(60, 64, 67, 0.15);\n",
              "      fill: #174EA6;\n",
              "    }\n",
              "\n",
              "    [theme=dark] .colab-df-convert {\n",
              "      background-color: #3B4455;\n",
              "      fill: #D2E3FC;\n",
              "    }\n",
              "\n",
              "    [theme=dark] .colab-df-convert:hover {\n",
              "      background-color: #434B5C;\n",
              "      box-shadow: 0px 1px 3px 1px rgba(0, 0, 0, 0.15);\n",
              "      filter: drop-shadow(0px 1px 2px rgba(0, 0, 0, 0.3));\n",
              "      fill: #FFFFFF;\n",
              "    }\n",
              "  </style>\n",
              "\n",
              "      <script>\n",
              "        const buttonEl =\n",
              "          document.querySelector('#df-163f9eb3-37f9-4a1c-9309-c4e129875929 button.colab-df-convert');\n",
              "        buttonEl.style.display =\n",
              "          google.colab.kernel.accessAllowed ? 'block' : 'none';\n",
              "\n",
              "        async function convertToInteractive(key) {\n",
              "          const element = document.querySelector('#df-163f9eb3-37f9-4a1c-9309-c4e129875929');\n",
              "          const dataTable =\n",
              "            await google.colab.kernel.invokeFunction('convertToInteractive',\n",
              "                                                     [key], {});\n",
              "          if (!dataTable) return;\n",
              "\n",
              "          const docLinkHtml = 'Like what you see? Visit the ' +\n",
              "            '<a target=\"_blank\" href=https://colab.research.google.com/notebooks/data_table.ipynb>data table notebook</a>'\n",
              "            + ' to learn more about interactive tables.';\n",
              "          element.innerHTML = '';\n",
              "          dataTable['output_type'] = 'display_data';\n",
              "          await google.colab.output.renderOutput(dataTable, element);\n",
              "          const docLink = document.createElement('div');\n",
              "          docLink.innerHTML = docLinkHtml;\n",
              "          element.appendChild(docLink);\n",
              "        }\n",
              "      </script>\n",
              "    </div>\n",
              "  </div>\n",
              "  "
            ]
          },
          "metadata": {},
          "execution_count": 5
        }
      ]
    },
    {
      "cell_type": "markdown",
      "source": [
        "# Step 1. 정제, 정규화, 전처리 (영어, 프랑스어 모두!)"
      ],
      "metadata": {
        "id": "ax6V-w9X0gEH"
      }
    },
    {
      "cell_type": "code",
      "source": [
        "# 정규표현식을 사용한 데이터 전처리 \n",
        "# 본 분석에서는 최종적으로 이 방법을 사용하였다.\n",
        "# 이유는 회고에 작성\n",
        "import re\n",
        "def preprocess_sentence(sentence):\n",
        "  sentence = sentence.str.replace(pat= r'([?.!,¿])', repl=r' \\1', regex=True) #  구두점 분리\n",
        "  sentence = sentence.str.lower() #  소문자로 바꿔준다.\n",
        "  sentence = sentence.str.replace(pat=r\"[^a-zA-Z!.?]+\", repl =\" \",regex=True) # -zA-Z?.!,¿가 아닌 모든 문자를 하나의 공백으로 바꿉니다\n",
        "  sentence = sentence.str.replace(pat= r'[\" \"]+',repl=r\" \", regex=True) # 여러개의 공백은 하나의 공백으로 바꿉니다\n",
        "  sentence = sentence.str.split() # 띄어쓰기 적용\n",
        "  return sentence"
      ],
      "metadata": {
        "id": "YsULhh4lM5gn"
      },
      "execution_count": 5,
      "outputs": []
    },
    {
      "cell_type": "code",
      "source": [
        "# 다른 데이터 전처리 방식\n",
        "\n",
        "# 전처리 기준\n",
        "# 구두점(Punctuation)을 단어와 분리해주세요.\n",
        "lines_c['eng'] = lines_c['eng'].str.replace(pat=r'([?.!,¿])', repl=r' \\1', regex=True)\n",
        "lines_c['fra'] = lines_c['fra'].str.replace(pat=r'([?.!,¿])', repl=r' \\1', regex=True)\n",
        "\n",
        "# 소문자로 바꿔주세요.\n",
        "lines_c['eng'] = lines_c['eng'].str.lower()\n",
        "lines_c['fra'] = lines_c['fra'].str.lower()\n",
        "\n",
        "# 띄어쓰기 단위로 토큰를 수행하세요.\n",
        "lines_c['eng'] = lines_c['eng'].str.split()\n",
        "lines_c['fra'] = lines_c['fra'].str.split()"
      ],
      "metadata": {
        "id": "IUViWLd6J-zF"
      },
      "execution_count": null,
      "outputs": []
    },
    {
      "cell_type": "code",
      "source": [
        "# Step1 전처리 적용\n",
        "lines_c['eng'] = preprocess_sentence(lines_c['eng'])\n",
        "lines_c['fra'] = preprocess_sentence(lines_c['fra'])"
      ],
      "metadata": {
        "id": "Vs3s3LAMM_yj"
      },
      "execution_count": 6,
      "outputs": []
    },
    {
      "cell_type": "code",
      "source": [
        "# 전처리 결과 확인\n",
        "lines_c.iloc[:10]"
      ],
      "metadata": {
        "colab": {
          "base_uri": "https://localhost:8080/",
          "height": 363
        },
        "id": "Z61Y3spUNA7f",
        "outputId": "067e8ffd-321d-4b7a-b2fe-775ebbdde4db"
      },
      "execution_count": 7,
      "outputs": [
        {
          "output_type": "execute_result",
          "data": {
            "text/plain": [
              "        eng                                  fra\n",
              "0   [go, .]                              [va, !]\n",
              "1   [go, .]                          [marche, .]\n",
              "2   [go, .]                           [bouge, !]\n",
              "3   [hi, .]                           [salut, !]\n",
              "4   [hi, .]                           [salut, .]\n",
              "5  [run, !]                           [cours, !]\n",
              "6  [run, !]                          [courez, !]\n",
              "7  [run, !]  [prenez, vos, jambes, vos, cous, !]\n",
              "8  [run, !]                            [file, !]\n",
              "9  [run, !]                           [filez, !]"
            ],
            "text/html": [
              "\n",
              "  <div id=\"df-9dd4b0fa-f1cd-4bd7-aa74-a4d4aa636d65\">\n",
              "    <div class=\"colab-df-container\">\n",
              "      <div>\n",
              "<style scoped>\n",
              "    .dataframe tbody tr th:only-of-type {\n",
              "        vertical-align: middle;\n",
              "    }\n",
              "\n",
              "    .dataframe tbody tr th {\n",
              "        vertical-align: top;\n",
              "    }\n",
              "\n",
              "    .dataframe thead th {\n",
              "        text-align: right;\n",
              "    }\n",
              "</style>\n",
              "<table border=\"1\" class=\"dataframe\">\n",
              "  <thead>\n",
              "    <tr style=\"text-align: right;\">\n",
              "      <th></th>\n",
              "      <th>eng</th>\n",
              "      <th>fra</th>\n",
              "    </tr>\n",
              "  </thead>\n",
              "  <tbody>\n",
              "    <tr>\n",
              "      <th>0</th>\n",
              "      <td>[go, .]</td>\n",
              "      <td>[va, !]</td>\n",
              "    </tr>\n",
              "    <tr>\n",
              "      <th>1</th>\n",
              "      <td>[go, .]</td>\n",
              "      <td>[marche, .]</td>\n",
              "    </tr>\n",
              "    <tr>\n",
              "      <th>2</th>\n",
              "      <td>[go, .]</td>\n",
              "      <td>[bouge, !]</td>\n",
              "    </tr>\n",
              "    <tr>\n",
              "      <th>3</th>\n",
              "      <td>[hi, .]</td>\n",
              "      <td>[salut, !]</td>\n",
              "    </tr>\n",
              "    <tr>\n",
              "      <th>4</th>\n",
              "      <td>[hi, .]</td>\n",
              "      <td>[salut, .]</td>\n",
              "    </tr>\n",
              "    <tr>\n",
              "      <th>5</th>\n",
              "      <td>[run, !]</td>\n",
              "      <td>[cours, !]</td>\n",
              "    </tr>\n",
              "    <tr>\n",
              "      <th>6</th>\n",
              "      <td>[run, !]</td>\n",
              "      <td>[courez, !]</td>\n",
              "    </tr>\n",
              "    <tr>\n",
              "      <th>7</th>\n",
              "      <td>[run, !]</td>\n",
              "      <td>[prenez, vos, jambes, vos, cous, !]</td>\n",
              "    </tr>\n",
              "    <tr>\n",
              "      <th>8</th>\n",
              "      <td>[run, !]</td>\n",
              "      <td>[file, !]</td>\n",
              "    </tr>\n",
              "    <tr>\n",
              "      <th>9</th>\n",
              "      <td>[run, !]</td>\n",
              "      <td>[filez, !]</td>\n",
              "    </tr>\n",
              "  </tbody>\n",
              "</table>\n",
              "</div>\n",
              "      <button class=\"colab-df-convert\" onclick=\"convertToInteractive('df-9dd4b0fa-f1cd-4bd7-aa74-a4d4aa636d65')\"\n",
              "              title=\"Convert this dataframe to an interactive table.\"\n",
              "              style=\"display:none;\">\n",
              "        \n",
              "  <svg xmlns=\"http://www.w3.org/2000/svg\" height=\"24px\"viewBox=\"0 0 24 24\"\n",
              "       width=\"24px\">\n",
              "    <path d=\"M0 0h24v24H0V0z\" fill=\"none\"/>\n",
              "    <path d=\"M18.56 5.44l.94 2.06.94-2.06 2.06-.94-2.06-.94-.94-2.06-.94 2.06-2.06.94zm-11 1L8.5 8.5l.94-2.06 2.06-.94-2.06-.94L8.5 2.5l-.94 2.06-2.06.94zm10 10l.94 2.06.94-2.06 2.06-.94-2.06-.94-.94-2.06-.94 2.06-2.06.94z\"/><path d=\"M17.41 7.96l-1.37-1.37c-.4-.4-.92-.59-1.43-.59-.52 0-1.04.2-1.43.59L10.3 9.45l-7.72 7.72c-.78.78-.78 2.05 0 2.83L4 21.41c.39.39.9.59 1.41.59.51 0 1.02-.2 1.41-.59l7.78-7.78 2.81-2.81c.8-.78.8-2.07 0-2.86zM5.41 20L4 18.59l7.72-7.72 1.47 1.35L5.41 20z\"/>\n",
              "  </svg>\n",
              "      </button>\n",
              "      \n",
              "  <style>\n",
              "    .colab-df-container {\n",
              "      display:flex;\n",
              "      flex-wrap:wrap;\n",
              "      gap: 12px;\n",
              "    }\n",
              "\n",
              "    .colab-df-convert {\n",
              "      background-color: #E8F0FE;\n",
              "      border: none;\n",
              "      border-radius: 50%;\n",
              "      cursor: pointer;\n",
              "      display: none;\n",
              "      fill: #1967D2;\n",
              "      height: 32px;\n",
              "      padding: 0 0 0 0;\n",
              "      width: 32px;\n",
              "    }\n",
              "\n",
              "    .colab-df-convert:hover {\n",
              "      background-color: #E2EBFA;\n",
              "      box-shadow: 0px 1px 2px rgba(60, 64, 67, 0.3), 0px 1px 3px 1px rgba(60, 64, 67, 0.15);\n",
              "      fill: #174EA6;\n",
              "    }\n",
              "\n",
              "    [theme=dark] .colab-df-convert {\n",
              "      background-color: #3B4455;\n",
              "      fill: #D2E3FC;\n",
              "    }\n",
              "\n",
              "    [theme=dark] .colab-df-convert:hover {\n",
              "      background-color: #434B5C;\n",
              "      box-shadow: 0px 1px 3px 1px rgba(0, 0, 0, 0.15);\n",
              "      filter: drop-shadow(0px 1px 2px rgba(0, 0, 0, 0.3));\n",
              "      fill: #FFFFFF;\n",
              "    }\n",
              "  </style>\n",
              "\n",
              "      <script>\n",
              "        const buttonEl =\n",
              "          document.querySelector('#df-9dd4b0fa-f1cd-4bd7-aa74-a4d4aa636d65 button.colab-df-convert');\n",
              "        buttonEl.style.display =\n",
              "          google.colab.kernel.accessAllowed ? 'block' : 'none';\n",
              "\n",
              "        async function convertToInteractive(key) {\n",
              "          const element = document.querySelector('#df-9dd4b0fa-f1cd-4bd7-aa74-a4d4aa636d65');\n",
              "          const dataTable =\n",
              "            await google.colab.kernel.invokeFunction('convertToInteractive',\n",
              "                                                     [key], {});\n",
              "          if (!dataTable) return;\n",
              "\n",
              "          const docLinkHtml = 'Like what you see? Visit the ' +\n",
              "            '<a target=\"_blank\" href=https://colab.research.google.com/notebooks/data_table.ipynb>data table notebook</a>'\n",
              "            + ' to learn more about interactive tables.';\n",
              "          element.innerHTML = '';\n",
              "          dataTable['output_type'] = 'display_data';\n",
              "          await google.colab.output.renderOutput(dataTable, element);\n",
              "          const docLink = document.createElement('div');\n",
              "          docLink.innerHTML = docLinkHtml;\n",
              "          element.appendChild(docLink);\n",
              "        }\n",
              "      </script>\n",
              "    </div>\n",
              "  </div>\n",
              "  "
            ]
          },
          "metadata": {},
          "execution_count": 7
        }
      ]
    },
    {
      "cell_type": "code",
      "source": [
        "# DF내부에 자료 형태 확인\n",
        "type(lines_c['fra'][0])"
      ],
      "metadata": {
        "colab": {
          "base_uri": "https://localhost:8080/"
        },
        "id": "OMqkzdthNKYp",
        "outputId": "dc342854-807a-422c-9270-2e8fb3d59255"
      },
      "execution_count": 8,
      "outputs": [
        {
          "output_type": "execute_result",
          "data": {
            "text/plain": [
              "list"
            ]
          },
          "metadata": {},
          "execution_count": 8
        }
      ]
    },
    {
      "cell_type": "markdown",
      "source": [
        "# Step2. 디코더의 문장에 시작 토큰과 종료 토큰을 넣어주세요.\n",
        "- 원래는 2단계이지만 미리 토큰을 삽입하고 전처리를 수행"
      ],
      "metadata": {
        "id": "bL4G7B-S0VYy"
      }
    },
    {
      "cell_type": "code",
      "source": [
        "# 시작 토큰<\\t>와 종료 토큰<\\n>만들기\n",
        "sos_token = '\\t '\n",
        "eos_token = ' \\n' \n",
        "for sen in lines_c['fra']:\n",
        "  sen.insert(0, sos_token)\n",
        "  sen.append(eos_token)\n",
        "print('전체 샘플의 수:', len(lines_c))\n",
        "lines_c.head(3)\n",
        "\n",
        "# 전처리 함수에서 마지막에 띄어쓰기를 적용하면서 각 index에 존재하는 데이터가 list가 되었다.\n",
        "# 그러므로 for문을 사용하여 각 fra 컬럼에 시작 토큰과 종료 토큰을 삽입하였다."
      ],
      "metadata": {
        "colab": {
          "base_uri": "https://localhost:8080/",
          "height": 162
        },
        "id": "1OZW1Ayu5mxP",
        "outputId": "a35fd878-5209-47bf-ae46-bd98b7be65f1"
      },
      "execution_count": 9,
      "outputs": [
        {
          "output_type": "stream",
          "name": "stdout",
          "text": [
            "전체 샘플의 수: 33000\n"
          ]
        },
        {
          "output_type": "execute_result",
          "data": {
            "text/plain": [
              "       eng                    fra\n",
              "0  [go, .]      [\\t , va, !,  \\n]\n",
              "1  [go, .]  [\\t , marche, .,  \\n]\n",
              "2  [go, .]   [\\t , bouge, !,  \\n]"
            ],
            "text/html": [
              "\n",
              "  <div id=\"df-91d400b2-4317-4282-b898-112c25e52f29\">\n",
              "    <div class=\"colab-df-container\">\n",
              "      <div>\n",
              "<style scoped>\n",
              "    .dataframe tbody tr th:only-of-type {\n",
              "        vertical-align: middle;\n",
              "    }\n",
              "\n",
              "    .dataframe tbody tr th {\n",
              "        vertical-align: top;\n",
              "    }\n",
              "\n",
              "    .dataframe thead th {\n",
              "        text-align: right;\n",
              "    }\n",
              "</style>\n",
              "<table border=\"1\" class=\"dataframe\">\n",
              "  <thead>\n",
              "    <tr style=\"text-align: right;\">\n",
              "      <th></th>\n",
              "      <th>eng</th>\n",
              "      <th>fra</th>\n",
              "    </tr>\n",
              "  </thead>\n",
              "  <tbody>\n",
              "    <tr>\n",
              "      <th>0</th>\n",
              "      <td>[go, .]</td>\n",
              "      <td>[\\t , va, !,  \\n]</td>\n",
              "    </tr>\n",
              "    <tr>\n",
              "      <th>1</th>\n",
              "      <td>[go, .]</td>\n",
              "      <td>[\\t , marche, .,  \\n]</td>\n",
              "    </tr>\n",
              "    <tr>\n",
              "      <th>2</th>\n",
              "      <td>[go, .]</td>\n",
              "      <td>[\\t , bouge, !,  \\n]</td>\n",
              "    </tr>\n",
              "  </tbody>\n",
              "</table>\n",
              "</div>\n",
              "      <button class=\"colab-df-convert\" onclick=\"convertToInteractive('df-91d400b2-4317-4282-b898-112c25e52f29')\"\n",
              "              title=\"Convert this dataframe to an interactive table.\"\n",
              "              style=\"display:none;\">\n",
              "        \n",
              "  <svg xmlns=\"http://www.w3.org/2000/svg\" height=\"24px\"viewBox=\"0 0 24 24\"\n",
              "       width=\"24px\">\n",
              "    <path d=\"M0 0h24v24H0V0z\" fill=\"none\"/>\n",
              "    <path d=\"M18.56 5.44l.94 2.06.94-2.06 2.06-.94-2.06-.94-.94-2.06-.94 2.06-2.06.94zm-11 1L8.5 8.5l.94-2.06 2.06-.94-2.06-.94L8.5 2.5l-.94 2.06-2.06.94zm10 10l.94 2.06.94-2.06 2.06-.94-2.06-.94-.94-2.06-.94 2.06-2.06.94z\"/><path d=\"M17.41 7.96l-1.37-1.37c-.4-.4-.92-.59-1.43-.59-.52 0-1.04.2-1.43.59L10.3 9.45l-7.72 7.72c-.78.78-.78 2.05 0 2.83L4 21.41c.39.39.9.59 1.41.59.51 0 1.02-.2 1.41-.59l7.78-7.78 2.81-2.81c.8-.78.8-2.07 0-2.86zM5.41 20L4 18.59l7.72-7.72 1.47 1.35L5.41 20z\"/>\n",
              "  </svg>\n",
              "      </button>\n",
              "      \n",
              "  <style>\n",
              "    .colab-df-container {\n",
              "      display:flex;\n",
              "      flex-wrap:wrap;\n",
              "      gap: 12px;\n",
              "    }\n",
              "\n",
              "    .colab-df-convert {\n",
              "      background-color: #E8F0FE;\n",
              "      border: none;\n",
              "      border-radius: 50%;\n",
              "      cursor: pointer;\n",
              "      display: none;\n",
              "      fill: #1967D2;\n",
              "      height: 32px;\n",
              "      padding: 0 0 0 0;\n",
              "      width: 32px;\n",
              "    }\n",
              "\n",
              "    .colab-df-convert:hover {\n",
              "      background-color: #E2EBFA;\n",
              "      box-shadow: 0px 1px 2px rgba(60, 64, 67, 0.3), 0px 1px 3px 1px rgba(60, 64, 67, 0.15);\n",
              "      fill: #174EA6;\n",
              "    }\n",
              "\n",
              "    [theme=dark] .colab-df-convert {\n",
              "      background-color: #3B4455;\n",
              "      fill: #D2E3FC;\n",
              "    }\n",
              "\n",
              "    [theme=dark] .colab-df-convert:hover {\n",
              "      background-color: #434B5C;\n",
              "      box-shadow: 0px 1px 3px 1px rgba(0, 0, 0, 0.15);\n",
              "      filter: drop-shadow(0px 1px 2px rgba(0, 0, 0, 0.3));\n",
              "      fill: #FFFFFF;\n",
              "    }\n",
              "  </style>\n",
              "\n",
              "      <script>\n",
              "        const buttonEl =\n",
              "          document.querySelector('#df-91d400b2-4317-4282-b898-112c25e52f29 button.colab-df-convert');\n",
              "        buttonEl.style.display =\n",
              "          google.colab.kernel.accessAllowed ? 'block' : 'none';\n",
              "\n",
              "        async function convertToInteractive(key) {\n",
              "          const element = document.querySelector('#df-91d400b2-4317-4282-b898-112c25e52f29');\n",
              "          const dataTable =\n",
              "            await google.colab.kernel.invokeFunction('convertToInteractive',\n",
              "                                                     [key], {});\n",
              "          if (!dataTable) return;\n",
              "\n",
              "          const docLinkHtml = 'Like what you see? Visit the ' +\n",
              "            '<a target=\"_blank\" href=https://colab.research.google.com/notebooks/data_table.ipynb>data table notebook</a>'\n",
              "            + ' to learn more about interactive tables.';\n",
              "          element.innerHTML = '';\n",
              "          dataTable['output_type'] = 'display_data';\n",
              "          await google.colab.output.renderOutput(dataTable, element);\n",
              "          const docLink = document.createElement('div');\n",
              "          docLink.innerHTML = docLinkHtml;\n",
              "          element.appendChild(docLink);\n",
              "        }\n",
              "      </script>\n",
              "    </div>\n",
              "  </div>\n",
              "  "
            ]
          },
          "metadata": {},
          "execution_count": 9
        }
      ]
    },
    {
      "cell_type": "code",
      "source": [
        "# 특정행을 추출하여 전처리 결과 확인\n",
        "lines_c.iloc[22248]\n",
        "# 토큰화 전 : 'he is a good boy !'\n",
        "# 토큰화 후 : ['he', 'is', 'a', 'good', 'boy', '!']\n",
        "# 예시에 맞게 전처리가 잘 수행되었다."
      ],
      "metadata": {
        "colab": {
          "base_uri": "https://localhost:8080/"
        },
        "id": "o3BmBNLcO_CL",
        "outputId": "8f827022-4c81-413b-e6df-25b90bae6a1d"
      },
      "execution_count": 10,
      "outputs": [
        {
          "output_type": "execute_result",
          "data": {
            "text/plain": [
              "eng                  [you, re, too, tense, .]\n",
              "fra    [\\t , vous, tes, trop, tendus, .,  \\n]\n",
              "Name: 22248, dtype: object"
            ]
          },
          "metadata": {},
          "execution_count": 10
        }
      ]
    },
    {
      "cell_type": "markdown",
      "source": [
        "# Step 3. 케라스의 토크나이저로 텍스트를 숫자로 바꿔보세요.\n",
        "\n",
        "- [위키독스](https://wikidocs.net/31766)\n",
        "\n",
        "- 토크나이저는 이 문서를 참고하여 진행하였습니다.\n",
        "- 영어, 프랑스어 전부 토크나이저를 각각 생성한다.\n",
        "- 임베딩 층에 사용 할 단어장, 인코더, 디코더, 패딩, validation data 준비"
      ],
      "metadata": {
        "id": "86Vkbtg00m1S"
      }
    },
    {
      "cell_type": "code",
      "source": [
        "# tokenizer.texts_to_sequences()를 사용한 정수 시퀀스 변환 - 영어\n",
        "\n",
        "eng_tokenizer = Tokenizer(split = '', filters= '') # 단어 단위로 Tokenizer를 생성합니다.\n",
        "eng_tokenizer.fit_on_texts(lines_c.eng) # 33000개의 행을 가진 eng의 각 행에 토큰화를 수행\n",
        "input_text = eng_tokenizer.texts_to_sequences(lines_c.eng) # 단어를 숫자값 인덱스로 변환하여 저장\n",
        "input_text[:3]"
      ],
      "metadata": {
        "colab": {
          "base_uri": "https://localhost:8080/"
        },
        "id": "bO611WVa09N8",
        "outputId": "d873b2a1-be30-4502-dbd1-1643fd727437"
      },
      "execution_count": 10,
      "outputs": [
        {
          "output_type": "execute_result",
          "data": {
            "text/plain": [
              "[[29, 1], [29, 1], [29, 1]]"
            ]
          },
          "metadata": {},
          "execution_count": 10
        }
      ]
    },
    {
      "cell_type": "code",
      "source": [
        "# tokenizer.texts_to_sequences()를 사용한 정수 시퀀스 변환 - 불어\n",
        "\n",
        "fra_tokenizer = Tokenizer(split = ' ', filters= '')   # 단어 단위로 Tokenizer를 생성합니다. \n",
        "fra_tokenizer.fit_on_texts(lines_c.fra)        # 33000개의 행을 가진 fra의 각 행에 토큰화를 수행\n",
        "target_text = fra_tokenizer.texts_to_sequences(lines_c.fra)     # 단어를 숫자값 인덱스로 변환하여 저장\n",
        "target_text[:3]"
      ],
      "metadata": {
        "colab": {
          "base_uri": "https://localhost:8080/"
        },
        "id": "xpcfX8jBKZLg",
        "outputId": "150f092c-aa05-40d8-c4fb-a9be7321a9c8"
      },
      "execution_count": 11,
      "outputs": [
        {
          "output_type": "execute_result",
          "data": {
            "text/plain": [
              "[[1, 75, 8, 2], [1, 378, 3, 2], [1, 718, 8, 2]]"
            ]
          },
          "metadata": {},
          "execution_count": 11
        }
      ]
    },
    {
      "cell_type": "code",
      "source": [
        "# 단어장의 크기를 변수로 저장 0번 토큰을 고려하려 +1을 하고 저장\n",
        "# 기존에 사용하던 전처리방식보다 더 작은 단어장을 만들어 내는데 성공하였다!\n",
        "# 기존 단어장 개수 eng : 4900, fra : 9900\n",
        "eng_vocab_size = len(eng_tokenizer.word_index) + 1\n",
        "fra_vocab_size = len(fra_tokenizer.word_index) + 1\n",
        "print('영어 단어장의 크기 :', eng_vocab_size)\n",
        "print('프랑스어 단어장의 크기 :', fra_vocab_size)"
      ],
      "metadata": {
        "colab": {
          "base_uri": "https://localhost:8080/"
        },
        "id": "1Kb4tMmuM3zT",
        "outputId": "bceb9b3c-9eda-4623-f9b1-ac6b29fa4b92"
      },
      "execution_count": 12,
      "outputs": [
        {
          "output_type": "stream",
          "name": "stdout",
          "text": [
            "영어 단어장의 크기 : 4673\n",
            "프랑스어 단어장의 크기 : 7462\n"
          ]
        }
      ]
    },
    {
      "cell_type": "code",
      "source": [
        "# 각 단어 데이터의 최대 길이 구하기\n",
        "# 패딩을 하기 위한 작업\n",
        "\n",
        "max_eng_seq_len = max([len(line) for line in input_text])\n",
        "max_fra_seq_len = max([len(line) for line in target_text])\n",
        "print('영어 시퀀스의 최대 길이', max_eng_seq_len)\n",
        "print('프랑스어 시퀀스의 최대 길이', max_fra_seq_len)\n",
        "\n",
        "# 시퀀스 길이 차이가 약 2배이다."
      ],
      "metadata": {
        "colab": {
          "base_uri": "https://localhost:8080/"
        },
        "id": "KGh0ASsPM3tm",
        "outputId": "8926e320-5a41-4bfd-a914-d1366f36e8d1"
      },
      "execution_count": 14,
      "outputs": [
        {
          "output_type": "stream",
          "name": "stdout",
          "text": [
            "영어 시퀀스의 최대 길이 8\n",
            "프랑스어 시퀀스의 최대 길이 17\n"
          ]
        }
      ]
    },
    {
      "cell_type": "code",
      "source": [
        "print('전체 샘플의 수 :',len(lines_c))\n",
        "print('영어 단어장의 크기 :', eng_vocab_size)\n",
        "print('프랑스어 단어장의 크기 :', fra_vocab_size)\n",
        "print('영어 시퀀스의 최대 길이', max_eng_seq_len)\n",
        "print('프랑스어 시퀀스의 최대 길이', max_fra_seq_len)"
      ],
      "metadata": {
        "colab": {
          "base_uri": "https://localhost:8080/"
        },
        "id": "nP7l1dWbM3rJ",
        "outputId": "3f40e06b-a220-4beb-ea82-6cead3f5978f"
      },
      "execution_count": 15,
      "outputs": [
        {
          "output_type": "stream",
          "name": "stdout",
          "text": [
            "전체 샘플의 수 : 33000\n",
            "영어 단어장의 크기 : 4673\n",
            "프랑스어 단어장의 크기 : 7462\n",
            "영어 시퀀스의 최대 길이 8\n",
            "프랑스어 시퀀스의 최대 길이 17\n"
          ]
        }
      ]
    },
    {
      "cell_type": "code",
      "source": [
        "# 언어별 인코더 디코더 준비하기\n",
        "# 프랑스어 시퀀스는 2가지 버젼으로 나눈다.\n",
        "# 하나는 디코더의 출력과 비교해야 할 정답 데이터로 사용해야 할 원래 목적에 따른 것입니다. \n",
        "# 그리고 다른 하나는 이전 스텝에서 언급했던 교사 강요(Teacher forcing)을 위해 디코더의 입력으로 사용하기 위한 것\n",
        "\n",
        "# 디코더의 입력으로 사용할 시퀀스는 < eos >토큰이 필요가 없고, 디코더의 출력과 비교할 시퀀스는 < sos >가 필요가 없기 때문입니다. \n",
        "\n",
        "encoder_input = input_text\n",
        "# 종료 토큰 제거\n",
        "decoder_input = [[word for word in line if word != fra_tokenizer.word_index[eos_token]] for line in target_text]\n",
        "# != 는 같지 않다는 뜻\n",
        "# 즉 코드를 해석하면 target_text에 있는 line에서 프랑스 토크나이즈 word_index가 종료 토큰을 가지지 않는 word를 추출한다.\n",
        "# 시작 토큰 제거\n",
        "decoder_target = [[word for word in line if word != fra_tokenizer.word_index[sos_token]] for line in target_text]\n",
        "# 즉 코드를 해석하면 target_text에 있는 line에서 프랑스 토크나이즈 word_index가 시작 토큰을 가지지 않는 word를 추출한다"
      ],
      "metadata": {
        "id": "lU1ftXYxM3ov"
      },
      "execution_count": 16,
      "outputs": []
    },
    {
      "cell_type": "code",
      "source": [
        "# 디코더의 입력과 출력을 각각 출력해봅시다.\n",
        "print(decoder_input[:3])\n",
        "print(decoder_target[:3])"
      ],
      "metadata": {
        "colab": {
          "base_uri": "https://localhost:8080/"
        },
        "id": "SbLQsSM5M3mR",
        "outputId": "45bc75eb-e7eb-42c3-b036-7bbc162723b3"
      },
      "execution_count": 17,
      "outputs": [
        {
          "output_type": "stream",
          "name": "stdout",
          "text": [
            "[[1, 75, 8], [1, 378, 3], [1, 718, 8]]\n",
            "[[75, 8, 2], [378, 3, 2], [718, 8, 2]]\n"
          ]
        }
      ]
    },
    {
      "cell_type": "code",
      "source": [
        "# 패딩 진행하기\n",
        "encoder_input = pad_sequences(encoder_input, maxlen = max_eng_seq_len, padding='post')\n",
        "decoder_input = pad_sequences(decoder_input, maxlen = max_fra_seq_len, padding='post')\n",
        "decoder_target = pad_sequences(decoder_target, maxlen = max_fra_seq_len, padding='post')\n",
        "print('영어 데이터의 크기(shape) :',np.shape(encoder_input))\n",
        "print('프랑스어 입력데이터의 크기(shape) :',np.shape(decoder_input))\n",
        "print('프랑스어 출력데이터의 크기(shape) :',np.shape(decoder_target))\n",
        "\n",
        "# 정상적으로 패딩이 수행되었다."
      ],
      "metadata": {
        "colab": {
          "base_uri": "https://localhost:8080/"
        },
        "id": "heq6ymtZN5Bl",
        "outputId": "1f800b7d-4390-4e67-80d1-b415e742d3ea"
      },
      "execution_count": 18,
      "outputs": [
        {
          "output_type": "stream",
          "name": "stdout",
          "text": [
            "영어 데이터의 크기(shape) : (33000, 8)\n",
            "프랑스어 입력데이터의 크기(shape) : (33000, 17)\n",
            "프랑스어 출력데이터의 크기(shape) : (33000, 17)\n"
          ]
        }
      ]
    },
    {
      "cell_type": "code",
      "source": [
        "# encoder_input 샘플을 출력해서 확인해보기\n",
        "print((encoder_input[:5]))"
      ],
      "metadata": {
        "colab": {
          "base_uri": "https://localhost:8080/"
        },
        "id": "wKKIubJkN4-o",
        "outputId": "1d5aec2d-5fc0-4de5-ff0d-0f7c9a813847"
      },
      "execution_count": 19,
      "outputs": [
        {
          "output_type": "stream",
          "name": "stdout",
          "text": [
            "[[ 29   1   0   0   0   0   0   0]\n",
            " [ 29   1   0   0   0   0   0   0]\n",
            " [ 29   1   0   0   0   0   0   0]\n",
            " [764   1   0   0   0   0   0   0]\n",
            " [764   1   0   0   0   0   0   0]]\n"
          ]
        }
      ]
    },
    {
      "cell_type": "code",
      "source": [
        "# decoder_input 샘플을 출력해서 확인해보기\n",
        "print(decoder_input[:5])"
      ],
      "metadata": {
        "colab": {
          "base_uri": "https://localhost:8080/"
        },
        "id": "mU5FP3FDcVJF",
        "outputId": "abcb0071-8968-46fb-e0ba-808306fd2608"
      },
      "execution_count": 20,
      "outputs": [
        {
          "output_type": "stream",
          "name": "stdout",
          "text": [
            "[[  1  75   8   0   0   0   0   0   0   0   0   0   0   0   0   0   0]\n",
            " [  1 378   3   0   0   0   0   0   0   0   0   0   0   0   0   0   0]\n",
            " [  1 718   8   0   0   0   0   0   0   0   0   0   0   0   0   0   0]\n",
            " [  1 747   8   0   0   0   0   0   0   0   0   0   0   0   0   0   0]\n",
            " [  1 747   3   0   0   0   0   0   0   0   0   0   0   0   0   0   0]]\n"
          ]
        }
      ]
    },
    {
      "cell_type": "code",
      "source": [
        "# decoder_target 샘플을 출력해서 확인해보기\n",
        "print(decoder_target[:5])"
      ],
      "metadata": {
        "colab": {
          "base_uri": "https://localhost:8080/"
        },
        "id": "wW9uS4-QckVF",
        "outputId": "37edd6a4-ad3a-4517-da8b-0f839f975bc1"
      },
      "execution_count": 21,
      "outputs": [
        {
          "output_type": "stream",
          "name": "stdout",
          "text": [
            "[[ 75   8   2   0   0   0   0   0   0   0   0   0   0   0   0   0   0]\n",
            " [378   3   2   0   0   0   0   0   0   0   0   0   0   0   0   0   0]\n",
            " [718   8   2   0   0   0   0   0   0   0   0   0   0   0   0   0   0]\n",
            " [747   8   2   0   0   0   0   0   0   0   0   0   0   0   0   0   0]\n",
            " [747   3   2   0   0   0   0   0   0   0   0   0   0   0   0   0   0]]\n"
          ]
        }
      ]
    },
    {
      "cell_type": "code",
      "source": [
        "#  validation data 생성\n",
        "\n",
        "n_of_val = 3000\n",
        "\n",
        "encoder_input_train = encoder_input[:-n_of_val]\n",
        "decoder_input_train = decoder_input[:-n_of_val]\n",
        "decoder_target_train = decoder_target[:-n_of_val]\n",
        "\n",
        "encoder_input_test = encoder_input[-n_of_val:]\n",
        "decoder_input_test = decoder_input[-n_of_val:]\n",
        "decoder_target_test = decoder_target[-n_of_val:]\n",
        "\n",
        "print('영어 학습데이터의 크기(shape) :',np.shape(encoder_input_train))\n",
        "print('프랑스어 학습 입력데이터의 크기(shape) :',np.shape(decoder_input_train))\n",
        "print('프랑스어 학습 출력데이터의 크기(shape) :',np.shape(decoder_target_train))\n",
        "print('영어 테스트데이터의 크기(shape) :',np.shape(encoder_input_test))\n",
        "print('프랑스어 테스트 입력데이터의 크기(shape) :',np.shape(decoder_input_test))\n",
        "print('프랑스어 테스트 출력데이터의 크기(shape) :',np.shape(decoder_target_test))\n",
        "\n",
        "# 데이터 셋 분리가 성공적으로 이루어졌다."
      ],
      "metadata": {
        "colab": {
          "base_uri": "https://localhost:8080/"
        },
        "id": "IbnKRKw9N456",
        "outputId": "cb39c3cd-1054-45f5-ba4f-d9bd4333acfd"
      },
      "execution_count": 19,
      "outputs": [
        {
          "output_type": "stream",
          "name": "stdout",
          "text": [
            "영어 학습데이터의 크기(shape) : (30000, 8)\n",
            "프랑스어 학습 입력데이터의 크기(shape) : (30000, 17)\n",
            "프랑스어 학습 출력데이터의 크기(shape) : (30000, 17)\n",
            "영어 테스트데이터의 크기(shape) : (3000, 8)\n",
            "프랑스어 테스트 입력데이터의 크기(shape) : (3000, 17)\n",
            "프랑스어 테스트 출력데이터의 크기(shape) : (3000, 17)\n"
          ]
        }
      ]
    },
    {
      "cell_type": "markdown",
      "source": [
        "# Step 4. 임베딩 층(Embedding layer) 사용하기\n",
        "\n",
        "- [위키독스](https://wikidocs.net/33793)\n",
        "- 인코더, 디코더 구현은 이 문서를 참고하여 진행하였습니다."
      ],
      "metadata": {
        "id": "o40wo76pK5Mn"
      }
    },
    {
      "cell_type": "code",
      "source": [
        "# 필요한 라이브러리 불러오기\n",
        "from tensorflow.keras.layers import Input, LSTM, Embedding, Dense, Masking\n",
        "from tensorflow.keras.models import Model"
      ],
      "metadata": {
        "id": "Q2P4_1oOJLrO"
      },
      "execution_count": 20,
      "outputs": []
    },
    {
      "cell_type": "code",
      "source": [
        "# 임베딩 벡터의 차원과 은닉 상태의 크기 지정\n",
        "embedding_dim = 256\n",
        "hidden_units = 256"
      ],
      "metadata": {
        "id": "I9DHkTgWU-1h"
      },
      "execution_count": 21,
      "outputs": []
    },
    {
      "cell_type": "code",
      "source": [
        "# 인코더 구성\n",
        "\n",
        "# 인코더에서 사용할 임베딩 층\n",
        "\n",
        "# 입력 텐서 생성\n",
        "encoder_inputs = Input(shape=(None,))\n",
        "\n",
        "# 임베딩 층\n",
        "enc_emb =  Embedding(eng_vocab_size, embedding_dim)(encoder_inputs)\n",
        "\n",
        "# 패딩 0은 연산에서 제외\n",
        "enc_masking = Masking(mask_value=0.0)(enc_emb) \n",
        "\n",
        "# 상태값 리턴을 위해 return_state는 True\n",
        "encoder_lstm = LSTM(hidden_units, return_state=True)\n",
        "\n",
        "# 은닉 상태와 셀 상태를 리턴\n",
        "encoder_outputs, state_h, state_c = encoder_lstm(enc_masking)\n",
        "\n",
        "# 인코더의 은닉 상태와 셀 상태를 저장\n",
        "encoder_states = [state_h, state_c] "
      ],
      "metadata": {
        "id": "yL4poTYnMEgF"
      },
      "execution_count": 22,
      "outputs": []
    },
    {
      "cell_type": "code",
      "source": [
        "# 디코더 구성\n",
        "\n",
        "# 디코더에서 사용할 임베딩 층\n",
        "\n",
        "decoder_inputs = Input(shape=(None,))\n",
        "\n",
        "# 임베딩 층\n",
        "dec_emb_layer = Embedding(fra_vocab_size, hidden_units) \n",
        "\n",
        "# 패딩 0은 연산에서 제외\n",
        "dec_emb = dec_emb_layer(decoder_inputs) \n",
        "\n",
        "dec_masking = Masking(mask_value=0.0)(dec_emb)"
      ],
      "metadata": {
        "id": "sYVoe7lnMEdN"
      },
      "execution_count": 23,
      "outputs": []
    },
    {
      "cell_type": "code",
      "source": [
        "# 상태값 리턴을 위해 return_state는 True, 모든 시점에 대해서 단어를 예측하기 위해 return_sequences는 True\n",
        "decoder_lstm = LSTM(hidden_units, return_sequences= True, return_state= True)\n",
        "\n",
        "# decoder_outputs는 모든 time step의 hidden state\n",
        "decoder_outputs, _, _= decoder_lstm(dec_masking, initial_state = encoder_states)\n",
        "\n",
        "# 디코더 출력층 설계\n",
        "decoder_softmax_layer = Dense(fra_vocab_size, activation='softmax')\n",
        "decoder_outputs = decoder_softmax_layer(decoder_outputs)"
      ],
      "metadata": {
        "id": "JLAxfSOcckHs"
      },
      "execution_count": 24,
      "outputs": []
    },
    {
      "cell_type": "code",
      "source": [
        "model = Model([encoder_inputs, decoder_inputs], decoder_outputs)\n",
        "\n",
        "model.compile(optimizer='rmsprop', loss='sparse_categorical_crossentropy', metrics=['accuracy'])\n",
        "\n",
        "model.summary()\n",
        "\n",
        "# loss 기준을 바꾼 이유는 decoder_outputs의 경우에는 원-핫 인코딩을 하지않았습니다.\n",
        "# 원-핫 인코딩을 하지 않은 상태에서는 다중 클래스 분류를 할때는 sparse_categorical_crossentropy로 설정해야합니다."
      ],
      "metadata": {
        "colab": {
          "base_uri": "https://localhost:8080/"
        },
        "id": "WE6kjb32U-Lw",
        "outputId": "854940f5-7589-432c-e70e-f72a322604cf"
      },
      "execution_count": 25,
      "outputs": [
        {
          "output_type": "stream",
          "name": "stdout",
          "text": [
            "Model: \"model\"\n",
            "__________________________________________________________________________________________________\n",
            " Layer (type)                   Output Shape         Param #     Connected to                     \n",
            "==================================================================================================\n",
            " input_1 (InputLayer)           [(None, None)]       0           []                               \n",
            "                                                                                                  \n",
            " input_2 (InputLayer)           [(None, None)]       0           []                               \n",
            "                                                                                                  \n",
            " embedding (Embedding)          (None, None, 256)    1196288     ['input_1[0][0]']                \n",
            "                                                                                                  \n",
            " embedding_1 (Embedding)        (None, None, 256)    1910272     ['input_2[0][0]']                \n",
            "                                                                                                  \n",
            " masking (Masking)              (None, None, 256)    0           ['embedding[0][0]']              \n",
            "                                                                                                  \n",
            " masking_1 (Masking)            (None, None, 256)    0           ['embedding_1[0][0]']            \n",
            "                                                                                                  \n",
            " lstm (LSTM)                    [(None, 256),        525312      ['masking[0][0]']                \n",
            "                                 (None, 256),                                                     \n",
            "                                 (None, 256)]                                                     \n",
            "                                                                                                  \n",
            " lstm_1 (LSTM)                  [(None, None, 256),  525312      ['masking_1[0][0]',              \n",
            "                                 (None, 256),                     'lstm[0][1]',                   \n",
            "                                 (None, 256)]                     'lstm[0][2]']                   \n",
            "                                                                                                  \n",
            " dense (Dense)                  (None, None, 7462)   1917734     ['lstm_1[0][0]']                 \n",
            "                                                                                                  \n",
            "==================================================================================================\n",
            "Total params: 6,074,918\n",
            "Trainable params: 6,074,918\n",
            "Non-trainable params: 0\n",
            "__________________________________________________________________________________________________\n"
          ]
        }
      ]
    },
    {
      "cell_type": "code",
      "source": [
        "# 모델 학습\n",
        "history = model.fit(x=[encoder_input_train, decoder_input_train], y=decoder_target_train, \\\n",
        "          validation_data = ([encoder_input_test, decoder_input_test], decoder_target_test),\n",
        "          batch_size=128, epochs=30)"
      ],
      "metadata": {
        "colab": {
          "base_uri": "https://localhost:8080/"
        },
        "id": "h3mL2dOgMEa6",
        "outputId": "e30a2574-1da1-44a1-e43d-54b02489f385"
      },
      "execution_count": 26,
      "outputs": [
        {
          "output_type": "stream",
          "name": "stdout",
          "text": [
            "Epoch 1/30\n",
            "235/235 [==============================] - 19s 48ms/step - loss: 1.8120 - accuracy: 0.7220 - val_loss: 1.7218 - val_accuracy: 0.7390\n",
            "Epoch 2/30\n",
            "235/235 [==============================] - 9s 38ms/step - loss: 1.3021 - accuracy: 0.7856 - val_loss: 1.4820 - val_accuracy: 0.7678\n",
            "Epoch 3/30\n",
            "235/235 [==============================] - 9s 38ms/step - loss: 1.1147 - accuracy: 0.8141 - val_loss: 1.3586 - val_accuracy: 0.7871\n",
            "Epoch 4/30\n",
            "235/235 [==============================] - 9s 37ms/step - loss: 0.9997 - accuracy: 0.8302 - val_loss: 1.2773 - val_accuracy: 0.7989\n",
            "Epoch 5/30\n",
            "235/235 [==============================] - 9s 37ms/step - loss: 0.9107 - accuracy: 0.8422 - val_loss: 1.2090 - val_accuracy: 0.8084\n",
            "Epoch 6/30\n",
            "235/235 [==============================] - 9s 36ms/step - loss: 0.8391 - accuracy: 0.8514 - val_loss: 1.1614 - val_accuracy: 0.8154\n",
            "Epoch 7/30\n",
            "235/235 [==============================] - 9s 36ms/step - loss: 0.7802 - accuracy: 0.8590 - val_loss: 1.1302 - val_accuracy: 0.8173\n",
            "Epoch 8/30\n",
            "235/235 [==============================] - 8s 36ms/step - loss: 0.7298 - accuracy: 0.8654 - val_loss: 1.1106 - val_accuracy: 0.8229\n",
            "Epoch 9/30\n",
            "235/235 [==============================] - 9s 37ms/step - loss: 0.6848 - accuracy: 0.8718 - val_loss: 1.0763 - val_accuracy: 0.8242\n",
            "Epoch 10/30\n",
            "235/235 [==============================] - 9s 37ms/step - loss: 0.6439 - accuracy: 0.8777 - val_loss: 1.0608 - val_accuracy: 0.8283\n",
            "Epoch 11/30\n",
            "235/235 [==============================] - 9s 36ms/step - loss: 0.6075 - accuracy: 0.8838 - val_loss: 1.0521 - val_accuracy: 0.8316\n",
            "Epoch 12/30\n",
            "235/235 [==============================] - 8s 36ms/step - loss: 0.5734 - accuracy: 0.8893 - val_loss: 1.0484 - val_accuracy: 0.8320\n",
            "Epoch 13/30\n",
            "235/235 [==============================] - 8s 36ms/step - loss: 0.5430 - accuracy: 0.8946 - val_loss: 1.0329 - val_accuracy: 0.8346\n",
            "Epoch 14/30\n",
            "235/235 [==============================] - 9s 36ms/step - loss: 0.5148 - accuracy: 0.8995 - val_loss: 1.0224 - val_accuracy: 0.8357\n",
            "Epoch 15/30\n",
            "235/235 [==============================] - 9s 36ms/step - loss: 0.4887 - accuracy: 0.9044 - val_loss: 1.0155 - val_accuracy: 0.8363\n",
            "Epoch 16/30\n",
            "235/235 [==============================] - 9s 37ms/step - loss: 0.4653 - accuracy: 0.9087 - val_loss: 1.0163 - val_accuracy: 0.8374\n",
            "Epoch 17/30\n",
            "235/235 [==============================] - 9s 37ms/step - loss: 0.4440 - accuracy: 0.9121 - val_loss: 1.0077 - val_accuracy: 0.8397\n",
            "Epoch 18/30\n",
            "235/235 [==============================] - 9s 36ms/step - loss: 0.4246 - accuracy: 0.9161 - val_loss: 1.0156 - val_accuracy: 0.8391\n",
            "Epoch 19/30\n",
            "235/235 [==============================] - 9s 36ms/step - loss: 0.4069 - accuracy: 0.9196 - val_loss: 1.0119 - val_accuracy: 0.8417\n",
            "Epoch 20/30\n",
            "235/235 [==============================] - 9s 36ms/step - loss: 0.3903 - accuracy: 0.9228 - val_loss: 1.0215 - val_accuracy: 0.8385\n",
            "Epoch 21/30\n",
            "235/235 [==============================] - 9s 37ms/step - loss: 0.3744 - accuracy: 0.9258 - val_loss: 1.0164 - val_accuracy: 0.8402\n",
            "Epoch 22/30\n",
            "235/235 [==============================] - 9s 36ms/step - loss: 0.3594 - accuracy: 0.9286 - val_loss: 1.0148 - val_accuracy: 0.8415\n",
            "Epoch 23/30\n",
            "235/235 [==============================] - 9s 36ms/step - loss: 0.3459 - accuracy: 0.9311 - val_loss: 1.0164 - val_accuracy: 0.8416\n",
            "Epoch 24/30\n",
            "235/235 [==============================] - 9s 36ms/step - loss: 0.3340 - accuracy: 0.9335 - val_loss: 1.0273 - val_accuracy: 0.8399\n",
            "Epoch 25/30\n",
            "235/235 [==============================] - 8s 36ms/step - loss: 0.3226 - accuracy: 0.9357 - val_loss: 1.0305 - val_accuracy: 0.8414\n",
            "Epoch 26/30\n",
            "235/235 [==============================] - 8s 36ms/step - loss: 0.3124 - accuracy: 0.9378 - val_loss: 1.0280 - val_accuracy: 0.8402\n",
            "Epoch 27/30\n",
            "235/235 [==============================] - 9s 36ms/step - loss: 0.3031 - accuracy: 0.9396 - val_loss: 1.0371 - val_accuracy: 0.8416\n",
            "Epoch 28/30\n",
            "235/235 [==============================] - 9s 36ms/step - loss: 0.2938 - accuracy: 0.9411 - val_loss: 1.0394 - val_accuracy: 0.8406\n",
            "Epoch 29/30\n",
            "235/235 [==============================] - 9s 36ms/step - loss: 0.2853 - accuracy: 0.9425 - val_loss: 1.0432 - val_accuracy: 0.8405\n",
            "Epoch 30/30\n",
            "235/235 [==============================] - 8s 36ms/step - loss: 0.2778 - accuracy: 0.9439 - val_loss: 1.0476 - val_accuracy: 0.8400\n"
          ]
        }
      ]
    },
    {
      "cell_type": "code",
      "source": [
        "history_dict = history.history\n",
        "print(history_dict.keys()) # epoch에 따른 그래프를 그려볼 수 있는 항목들"
      ],
      "metadata": {
        "colab": {
          "base_uri": "https://localhost:8080/"
        },
        "id": "UDsceAkai19x",
        "outputId": "6cabcdf2-f388-4518-c957-6897060962f1"
      },
      "execution_count": 27,
      "outputs": [
        {
          "output_type": "stream",
          "name": "stdout",
          "text": [
            "dict_keys(['loss', 'accuracy', 'val_loss', 'val_accuracy'])\n"
          ]
        }
      ]
    },
    {
      "cell_type": "code",
      "source": [
        "# Loss, Accuracy 그래프 시각화 \n",
        "\n",
        "import matplotlib.pyplot as plt\n",
        "\n",
        "acc = history_dict['accuracy']\n",
        "val_acc = history_dict['val_accuracy']\n",
        "loss = history_dict['loss']\n",
        "val_loss = history_dict['val_loss']\n",
        "\n",
        "epochs = range(1, len(acc) + 1)\n",
        "\n",
        "# \"b\"는 \"파란색 실선\"입니다\n",
        "plt.plot(epochs, loss, 'b', label='Training loss')\n",
        "# r는 \"빨간 실선\"입니다\n",
        "plt.plot(epochs, val_loss, 'r', label='Validation loss')\n",
        "plt.title('Training and validation loss')\n",
        "plt.xlabel('Epochs')\n",
        "plt.ylabel('Loss')\n",
        "plt.legend()\n",
        "\n",
        "plt.show()\n",
        "\n",
        "# 학습과 검증의 loss가 전부 안정적으로 감소하고있다."
      ],
      "metadata": {
        "colab": {
          "base_uri": "https://localhost:8080/",
          "height": 295
        },
        "id": "NaiphZ6Ai4hE",
        "outputId": "af6c150e-83cb-4eaa-c9bf-8b274552d554"
      },
      "execution_count": 32,
      "outputs": [
        {
          "output_type": "display_data",
          "data": {
            "text/plain": [
              "<Figure size 432x288 with 1 Axes>"
            ],
            "image/png": "[encoded data removed]"
          },
          "metadata": {
            "needs_background": "light"
          }
        }
      ]
    },
    {
      "cell_type": "code",
      "source": [
        "plt.clf()   # 그림을 초기화합니다\n",
        "# \"r\"는 \"빨간색 실선\"입니다\n",
        "plt.plot(epochs, acc, 'r', label='Training acc')\n",
        "# b는 \"파란 실선\"입니다\n",
        "plt.plot(epochs, val_acc, 'b', label='Validation acc')\n",
        "plt.title('Training and validation accuracy')\n",
        "plt.xlabel('Epochs')\n",
        "plt.ylabel('Accuracy')\n",
        "plt.legend()\n",
        "\n",
        "plt.show()\n",
        "\n",
        "# 학습과 검증의 accuracy가 전부 안정적으로 증가하고있다."
      ],
      "metadata": {
        "colab": {
          "base_uri": "https://localhost:8080/",
          "height": 295
        },
        "id": "rPcnbY41jA36",
        "outputId": "10dc50d8-ede5-4680-be6b-e2458eedc72f"
      },
      "execution_count": 33,
      "outputs": [
        {
          "output_type": "display_data",
          "data": {
            "text/plain": [
              "<Figure size 432x288 with 1 Axes>"
            ],
            "image/png": "[encoded data removed]"
          },
          "metadata": {
            "needs_background": "light"
          }
        }
      ]
    },
    {
      "cell_type": "markdown",
      "source": [
        "# Step 5. 모델 구현하기\n",
        "\n",
        "- seq2seq는 교사 강요가 테스트 과정에서 동작이 다르다\n",
        "- 그러므로 테스트 과정에서 모델을 다시 설계할 필요가있다."
      ],
      "metadata": {
        "id": "a6AY7xRLf5eR"
      }
    },
    {
      "cell_type": "code",
      "source": [
        "# 인코더 모델\n",
        "encoder_model = Model(inputs = encoder_inputs, outputs = encoder_states)\n",
        "encoder_model.summary()"
      ],
      "metadata": {
        "colab": {
          "base_uri": "https://localhost:8080/"
        },
        "id": "RKwqS93GTS8C",
        "outputId": "50cfc576-ebd1-4ee9-d412-6db909b1d607"
      },
      "execution_count": 28,
      "outputs": [
        {
          "output_type": "stream",
          "name": "stdout",
          "text": [
            "Model: \"model_1\"\n",
            "_________________________________________________________________\n",
            " Layer (type)                Output Shape              Param #   \n",
            "=================================================================\n",
            " input_1 (InputLayer)        [(None, None)]            0         \n",
            "                                                                 \n",
            " embedding (Embedding)       (None, None, 256)         1196288   \n",
            "                                                                 \n",
            " masking (Masking)           (None, None, 256)         0         \n",
            "                                                                 \n",
            " lstm (LSTM)                 [(None, 256),             525312    \n",
            "                              (None, 256),                       \n",
            "                              (None, 256)]                       \n",
            "                                                                 \n",
            "=================================================================\n",
            "Total params: 1,721,600\n",
            "Trainable params: 1,721,600\n",
            "Non-trainable params: 0\n",
            "_________________________________________________________________\n"
          ]
        }
      ]
    },
    {
      "cell_type": "code",
      "source": [
        "# 디코더 설계\n",
        "# 이전 time step의 hidden state를 저장하는 텐서\n",
        "decoder_state_input_h = Input(shape=(hidden_units,))\n",
        "\n",
        "# 이전 time step의 cell state를 저장하는 텐서\n",
        "decoder_state_input_c = Input(shape=(hidden_units,))\n",
        "\n",
        "# 이전 time step의 hidden state와 cell state를 하나의 변수에 저장\n",
        "decoder_states_inputs = [decoder_state_input_h, decoder_state_input_c]\n",
        "\n",
        "# 훈련 때 사용했던 임베딩 층을 재사용\n",
        "dec_emb2 = dec_emb_layer(decoder_inputs)\n",
        "\n",
        "# 구체적인 동작 자체는 def decode_sequence()에 구현.\n",
        "decoder_outputs2, state_h2, state_c2 = decoder_lstm(dec_emb2, initial_state=decoder_states_inputs)\n",
        "decoder_states2 = [state_h2, state_c2]"
      ],
      "metadata": {
        "id": "a6xGfdUZf7L3"
      },
      "execution_count": 29,
      "outputs": []
    },
    {
      "cell_type": "code",
      "source": [
        "# 디코더 출력층 재설계\n",
        "decoder_outputs2  = decoder_softmax_layer(decoder_outputs2)\n",
        "decoder_model = Model(inputs=[decoder_inputs] + decoder_states_inputs, outputs=[decoder_outputs2 ] + decoder_states2)\n",
        "decoder_model.summary()"
      ],
      "metadata": {
        "colab": {
          "base_uri": "https://localhost:8080/"
        },
        "id": "ZWI3b7sNmnPZ",
        "outputId": "1945df7e-18d5-4085-c299-49ea1388f7db"
      },
      "execution_count": 30,
      "outputs": [
        {
          "output_type": "stream",
          "name": "stdout",
          "text": [
            "Model: \"model_2\"\n",
            "__________________________________________________________________________________________________\n",
            " Layer (type)                   Output Shape         Param #     Connected to                     \n",
            "==================================================================================================\n",
            " input_2 (InputLayer)           [(None, None)]       0           []                               \n",
            "                                                                                                  \n",
            " embedding_1 (Embedding)        (None, None, 256)    1910272     ['input_2[0][0]']                \n",
            "                                                                                                  \n",
            " input_3 (InputLayer)           [(None, 256)]        0           []                               \n",
            "                                                                                                  \n",
            " input_4 (InputLayer)           [(None, 256)]        0           []                               \n",
            "                                                                                                  \n",
            " lstm_1 (LSTM)                  [(None, None, 256),  525312      ['embedding_1[1][0]',            \n",
            "                                 (None, 256),                     'input_3[0][0]',                \n",
            "                                 (None, 256)]                     'input_4[0][0]']                \n",
            "                                                                                                  \n",
            " dense (Dense)                  (None, None, 7462)   1917734     ['lstm_1[1][0]']                 \n",
            "                                                                                                  \n",
            "==================================================================================================\n",
            "Total params: 4,353,318\n",
            "Trainable params: 4,353,318\n",
            "Non-trainable params: 0\n",
            "__________________________________________________________________________________________________\n"
          ]
        }
      ]
    },
    {
      "cell_type": "code",
      "source": [
        "# 단어 사전 준비하기\n",
        "eng2idx = eng_tokenizer.word_index\n",
        "idx2eng = eng_tokenizer.index_word\n",
        "fra2idx = fra_tokenizer.word_index\n",
        "idx2fra = fra_tokenizer.index_word"
      ],
      "metadata": {
        "id": "GJFvdASPmyZn"
      },
      "execution_count": 31,
      "outputs": []
    },
    {
      "cell_type": "code",
      "source": [],
      "metadata": {
        "colab": {
          "base_uri": "https://localhost:8080/",
          "height": 172
        },
        "id": "lfRMMntBcWNO",
        "outputId": "f81b2af2-c8e8-4059-fa27-c581eb085207"
      },
      "execution_count": 59,
      "outputs": [
        {
          "output_type": "error",
          "ename": "NameError",
          "evalue": "ignored",
          "traceback": [
            "\u001b[0;31m---------------------------------------------------------------------------\u001b[0m",
            "\u001b[0;31mNameError\u001b[0m                                 Traceback (most recent call last)",
            "\u001b[0;32m<ipython-input-59-da4de110a829>\u001b[0m in \u001b[0;36m<module>\u001b[0;34m\u001b[0m\n\u001b[0;32m----> 1\u001b[0;31m \u001b[0mfra2idx_keys\u001b[0m\u001b[0;34m(\u001b[0m\u001b[0;34m'\\t '\u001b[0m\u001b[0;34m)\u001b[0m\u001b[0;34m\u001b[0m\u001b[0;34m\u001b[0m\u001b[0m\n\u001b[0m",
            "\u001b[0;31mNameError\u001b[0m: name 'fra2idx_keys' is not defined"
          ]
        }
      ]
    },
    {
      "cell_type": "code",
      "source": [
        "# decode_sequence() 구현\n",
        "\n",
        "def decode_sequence(input_seq):\n",
        "  # 입력으로부터 인코더의 마지막 시점의 상태(은닉 상태, 셀 상태)를 얻음\n",
        "  states_value = encoder_model.predict(input_seq)\n",
        "\n",
        "  # <SOS>에 해당하는 정수 생성\n",
        "  target_seq = np.zeros((1,1))\n",
        "  target_seq[0, 0] = fra2idx[sos_token]\n",
        "\n",
        "  stop_condition = False\n",
        "  decoded_sentence = ''\n",
        "\n",
        "  # stop_condition이 True가 될 때까지 루프 반복\n",
        "  # 구현의 간소화를 위해서 이 함수는 배치 크기를 1로 가정합니다.\n",
        "  while not stop_condition:\n",
        "    # 이점 시점의 상태 states_value를 현 시점의 초기 상태로 사용\n",
        "    output_tokens, h, c = decoder_model.predict([target_seq] + states_value)\n",
        "\n",
        "    # 예측 결과를 단어로 변환\n",
        "    sampled_token_index = np.argmax(output_tokens[0, -1, :])\n",
        "    sampled_char = idx2fra[sampled_token_index]\n",
        "\n",
        "    # 현재 시점의 예측 단어를 예측 문장에 추가\n",
        "    decoded_sentence += ' '+sampled_char\n",
        "\n",
        "    # <eos>에 도달하거나 정해진 길이를 넘으면 중단.\n",
        "    if (sampled_char == eos_token or\n",
        "        len(decoded_sentence) > 50):\n",
        "        stop_condition = True\n",
        "\n",
        "    # 현재 시점의 예측 결과를 다음 시점의 입력으로 사용하기 위해 저장\n",
        "    target_seq = np.zeros((1,1))\n",
        "    target_seq[0, 0] = sampled_token_index\n",
        "\n",
        "    # 현재 시점의 상태를 다음 시점의 상태로 사용하기 위해 저장\n",
        "    states_value = [h, c]\n",
        "\n",
        "  return decoded_sentence\n",
        "\n",
        "  # 이 부분은 토큰은 전부 sos_token, eos_token으로 넣어주었다.\n",
        "  # 그 이유는 '\\t' key error가 발생하였는데 알고보니 word_index에 '\\t '공란이 추가된 채 삽입되어있었다."
      ],
      "metadata": {
        "id": "CtrrGBj6MEYm"
      },
      "execution_count": 47,
      "outputs": []
    },
    {
      "cell_type": "code",
      "source": [
        "# 원문의 정수 시퀀스를 텍스트 시퀀스로 변환\n",
        "def seq_to_src(input_seq):\n",
        "  sentence = ''\n",
        "  for encoded_word in input_seq:\n",
        "    if(encoded_word != 0):\n",
        "      sentence = sentence + idx2eng[encoded_word] + ' '\n",
        "  return sentence\n",
        "\n",
        "# 번역문의 정수 시퀀스를 텍스트 시퀀스로 변환\n",
        "def seq_to_tar(input_seq):\n",
        "  sentence = ''\n",
        "  for encoded_word in input_seq:\n",
        "    if(encoded_word != 0 and encoded_word != fra2idx[sos_token] and encoded_word != fra2idx[eos_token]):\n",
        "      sentence = sentence + idx2fra[encoded_word] + ' '\n",
        "  return sentence"
      ],
      "metadata": {
        "id": "XT75eMt95cEd"
      },
      "execution_count": 50,
      "outputs": []
    },
    {
      "cell_type": "markdown",
      "source": [
        "# Step 6. 모델 평가하기"
      ],
      "metadata": {
        "id": "voWHSvn9Vbxv"
      }
    },
    {
      "cell_type": "code",
      "source": [
        "# 출력 결과 테스트하기 (train data set)\n",
        "import numpy as np\n",
        "\n",
        "for seq_index in [3,50,250,300,2501]:\n",
        "  input_seq = encoder_input_train[seq_index: seq_index + 1]\n",
        "  decoded_sentence = decode_sequence(input_seq)\n",
        "\n",
        "  print(\"입력문장 :\",seq_to_src(encoder_input_train[seq_index]))\n",
        "  print(\"정답문장 :\",seq_to_tar(decoder_input_train[seq_index]))\n",
        "  print(\"번역문장 :\",decoded_sentence[1:-1])\n",
        "  print(\"-\"*50)"
      ],
      "metadata": {
        "colab": {
          "base_uri": "https://localhost:8080/"
        },
        "id": "qOyKqF1y5fa8",
        "outputId": "8fcbb8e5-7940-4943-b839-39f9be4d4d91"
      },
      "execution_count": 55,
      "outputs": [
        {
          "output_type": "stream",
          "name": "stdout",
          "text": [
            "입력문장 : hi . \n",
            "정답문장 : salut ! \n",
            "번역문장 : salut .  \n",
            "--------------------------------------------------\n",
            "입력문장 : hello ! \n",
            "정답문장 : salut ! \n",
            "번역문장 : salut !  \n",
            "--------------------------------------------------\n",
            "입력문장 : get out . \n",
            "정답문장 : d gagez ! \n",
            "번역문장 : sortez .  \n",
            "--------------------------------------------------\n",
            "입력문장 : help me ! \n",
            "정답문장 : aide moi ! \n",
            "번역문장 : aide moi !  \n",
            "--------------------------------------------------\n",
            "입력문장 : tom saw us . \n",
            "정답문장 : tom nous voyait . \n",
            "번역문장 : tom nous a vu .  \n",
            "--------------------------------------------------\n"
          ]
        }
      ]
    },
    {
      "cell_type": "code",
      "source": [
        "# 출력 결과 테스트하기 (test data set)\n",
        "import numpy as np\n",
        "\n",
        "for seq_index in [3,50,250,300,2501]:\n",
        "  input_seq = encoder_input_test[seq_index: seq_index + 1]\n",
        "  decoded_sentence = decode_sequence(input_seq)\n",
        "\n",
        "  print(\"입력문장 :\",seq_to_src(encoder_input_test[seq_index]))\n",
        "  print(\"정답문장 :\",seq_to_tar(decoder_input_test[seq_index]))\n",
        "  print(\"번역문장 :\",decoded_sentence[1:-1])\n",
        "  print(\"-\"*50)"
      ],
      "metadata": {
        "colab": {
          "base_uri": "https://localhost:8080/"
        },
        "id": "KTo4xs13N8BN",
        "outputId": "2469d954-a4c5-4218-99b0-23c06fd0fb02"
      },
      "execution_count": 56,
      "outputs": [
        {
          "output_type": "stream",
          "name": "stdout",
          "text": [
            "입력문장 : i want my key back . \n",
            "정답문장 : je veux que vous me rendiez ma cl . \n",
            "번역문장 : je veux ma famille .  \n",
            "--------------------------------------------------\n",
            "입력문장 : i was almost right . \n",
            "정답문장 : j avais presque raison . \n",
            "번역문장 : j ai t heureuse .  \n",
            "--------------------------------------------------\n",
            "입력문장 : i m always careful . \n",
            "정답문장 : je suis toujours prudent . \n",
            "번역문장 : je suis toujours ici .  \n",
            "--------------------------------------------------\n",
            "입력문장 : i m going to flunk . \n",
            "정답문장 : je vais me planter . \n",
            "번역문장 : je vais y aller .  \n",
            "--------------------------------------------------\n",
            "입력문장 : tom skipped school . \n",
            "정답문장 : tom a s ch les cours . \n",
            "번역문장 : tom semble ais a gagn .  \n",
            "--------------------------------------------------\n"
          ]
        }
      ]
    },
    {
      "cell_type": "markdown",
      "source": [
        "# 회고"
      ],
      "metadata": {
        "id": "lX7qGW4XKysW"
      }
    },
    {
      "cell_type": "markdown",
      "source": [
        "1. 이번 프로젝트에서 어려웠던 점\n",
        " \n",
        " (1) 첫 번째 시도에서 test 번역결과가 너무 좋지 않았습니다. 다른 사람과 비교하였을때 저의 단어장의 크기가 약 1500개가 더 많았습니다. 동일한 전처리 후 이렇게 단어장 크기가 달라질수있을까? 라는 의문이 들었습니다. 그래서 전처리 방식을 바꿔보았습니다.\n",
        "\n",
        " (2) 프랑스어 악센트는 제거해야하는가?\n",
        " - 이 부분이 궁금하여 퍼실님께 질문을 드려보았다. 프랑스어는 악센트를 문자에 표현하기때문에 지우면 안된다고하셨다. 나중에 다른 언어를 이용하여 번역기를 만들어본다면 이런 디테일을 챙기는것이 중요하다고 생각했다.\n",
        "\n",
        " (3) 출력결과 테스트에서 키 에러가 발생하여 해결하기 위하여 word_index를 확인해보니 토큰의 공백이 포함되어있었다. 전처리를 다시하기는 힘들어서 함수안에 토큰을 토큰명으로 전부 수정하니 정상적으로 잘 작동되었다.\n",
        " "
      ],
      "metadata": {
        "id": "ojmxzLRyK1cS"
      }
    },
    {
      "cell_type": "markdown",
      "source": [
        "2. 프로젝트를 진행하면서 알게된 부분 또는 아직 이해하지 못한 부분\n",
        "\n",
        "(1) 단어장의 개수에 따른 번역 결과 품질 차이가 많이 난다는 것을 알게되었습니다.\n",
        "- 첫번째 전처리 시도에서는 fra 단어장 크기가 9900이었습니다. 테스트 데이터 셋에서 번역 결과가 너무 엉망이었습니다. 그래서 다른 자연어처리 프로젝트에서 사용한 전처리 방법을 더 추가해보았고 fra 단어장 크기를 약 7600개까지 줄이는데 성공했습니다.\n",
        "\n",
        "(2) DataFrame 안에 data가 전부 List일때 data를 추가하는 방법을 알게되었습니다.\n",
        "- 루브릭의 전처리 기준으로 맞추다보니 전체적인 data 형태를 DataFrame으로 나왔으나 각각의 data는 List 형태였습니다. 물론 토큰을 먼저 넣어서 전처리를 하는 방법도 있었지만 토큰을 먼저 넣게된다면 토큰이 계속 사라지는 문제를 겪었습니다.\n",
        "그래서 저는 리스트에 insert와 append를 for문을 사용해서 넣어보자고 생각히였습니다. 결과는 예상과 일치하게 잘 수행됐습니다. 기본적인 파이썬 문법을 이렇게 활용할 수 있어서 더 기억에 남을거같습니다.\n",
        "\n",
        "\n",
        "\n"
      ],
      "metadata": {
        "id": "cMgNvnfQLhyy"
      }
    },
    {
      "cell_type": "markdown",
      "source": [
        "참조\n",
        "\n",
        "(1) [위키북스 자연어처리 입문 : word-level 번역기 만들기](https://wikidocs.net/86900)\n",
        "\n",
        "(2) [seq2seq 이론 복습 자료](https://wikidocs.net/24996)\n"
      ],
      "metadata": {
        "id": "xWtviva-f2gG"
      }
    }
  ]
}