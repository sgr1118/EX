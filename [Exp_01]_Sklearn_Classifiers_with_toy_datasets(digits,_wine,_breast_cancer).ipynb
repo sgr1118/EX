{
  "nbformat": 4,
  "nbformat_minor": 0,
  "metadata": {
    "colab": {
      "name": "[Exp-01] Sklearn Classifiers with toy datasets(digits, wine, breast cancer).ipynb",
      "provenance": [],
      "collapsed_sections": [],
      "authorship_tag": "ABX9TyN64i16vc1B+N+tm4KYr8ch",
      "include_colab_link": true
    },
    "kernelspec": {
      "name": "python3",
      "display_name": "Python 3"
    },
    "language_info": {
      "name": "python"
    }
  },
  "cells": [
    {
      "cell_type": "markdown",
      "metadata": {
        "id": "view-in-github",
        "colab_type": "text"
      },
      "source": [
        "<a href=\"https://colab.research.google.com/github/sgr1118/sgr1118/blob/main/%5BExp_01%5D_Sklearn_Classifiers_with_toy_datasets(digits%2C_wine%2C_breast_cancer).ipynb\" target=\"_parent\"><img src=\"https://colab.research.google.com/assets/colab-badge.svg\" alt=\"Open In Colab\"/></a>"
      ]
    },
    {
      "cell_type": "markdown",
      "source": [
        "# 1-11. 프로젝트 (1) load_digits : 손글씨를 분류해 봅시다"
      ],
      "metadata": {
        "id": "dRIe6JGDP4CG"
      }
    },
    {
      "cell_type": "code",
      "source": [
        "# (1) 필요한 모듈 import\n",
        "import pandas as pd\n",
        "from sklearn.datasets import load_digits\n",
        "from sklearn.model_selection import train_test_split\n",
        "from sklearn.metrics import classification_report\n",
        "from sklearn.metrics import accuracy_score\n",
        "from sklearn.tree import DecisionTreeClassifier\n",
        "from sklearn.ensemble import RandomForestClassifier\n",
        "from sklearn import svm\n",
        "from sklearn.linear_model import SGDClassifier\n",
        "from sklearn.linear_model import LogisticRegression\n",
        "pd.set_option('max_rows',500)\n",
        "pd.set_option('max_columns',30)"
      ],
      "metadata": {
        "id": "TW7Fy078PH3e"
      },
      "execution_count": 4,
      "outputs": []
    },
    {
      "cell_type": "code",
      "source": [
        " # (2) 데이터 준비 - 데이터셋에서 변수와 라벨을 분리하고 하나의 DataFrame 형태로 만들기\n",
        "dataset = load_digits()\n",
        "feature = dataset.data\n",
        "labels = dataset.target\n",
        "digits_df = pd.DataFrame(data=feature, columns = dataset.feature_names)\n",
        "digits_df['target'] = labels"
      ],
      "metadata": {
        "id": "IOXU4gc2PdDI"
      },
      "execution_count": 5,
      "outputs": []
    },
    {
      "cell_type": "code",
      "source": [
        "# (3)데이터 이해하기\n",
        "# Target Names 출력해 보기\n",
        "dataset.target_names # array([0, 1, 2, 3, 4, 5, 6, 7, 8, 9])\n",
        "print(digits_df['target'].value_counts()) \n",
        "\n",
        "# 데이터 Describe 해 보기\n",
        "#print(digits.DESCR)"
      ],
      "metadata": {
        "colab": {
          "base_uri": "https://localhost:8080/"
        },
        "id": "j2n0_C88QdE4",
        "outputId": "cc8673cb-c482-48b3-da82-2a8484a6b88b"
      },
      "execution_count": 6,
      "outputs": [
        {
          "output_type": "stream",
          "name": "stdout",
          "text": [
            "3    183\n",
            "1    182\n",
            "5    182\n",
            "4    181\n",
            "6    181\n",
            "9    180\n",
            "7    179\n",
            "0    178\n",
            "2    177\n",
            "8    174\n",
            "Name: target, dtype: int64\n"
          ]
        }
      ]
    },
    {
      "cell_type": "code",
      "source": [
        "# (4) train, test 데이터 분리\n",
        "X = digits_df.iloc[:, :-1] # 변수 데이터만 X에 저장\n",
        "Y = digits_df.iloc[:,-1] # 라벻 데이터만 Y에 저장\n",
        "\n",
        "# train, test  8:2 분할, random_state=10 적용\n",
        "x_train, x_test, y_train, y_test = train_test_split(X, Y, \n",
        "                                                   test_size = 0.2,\n",
        "                                                   random_state=10)\n",
        "\n",
        "print(x_train.shape, x_test.shape, y_train.shape, y_test.shape)\n",
        "# (1437, 64) (360, 64) (1437,) (360,) 분할이 잘 됐음을 확인"
      ],
      "metadata": {
        "colab": {
          "base_uri": "https://localhost:8080/"
        },
        "id": "6E-xadrkQ06-",
        "outputId": "07381b86-b6b6-4584-a9c9-b3bfc0760456"
      },
      "execution_count": 8,
      "outputs": [
        {
          "output_type": "stream",
          "name": "stdout",
          "text": [
            "(1437, 64) (360, 64) (1437,) (360,)\n"
          ]
        }
      ]
    },
    {
      "cell_type": "code",
      "source": [
        "# (5) 모델 학습 및 예측 - model = DecisionTreeClassifier(max_depth=5, random_state=10)\n",
        "model1 = DecisionTreeClassifier(random_state=10)\n",
        "model1.fit(x_train, y_train)\n",
        "y_pred1 = model1.predict(x_test)"
      ],
      "metadata": {
        "id": "56-Jo4u3SP3F"
      },
      "execution_count": 22,
      "outputs": []
    },
    {
      "cell_type": "code",
      "source": [
        "# (5) 모델 학습 및 예측 - model = LogisticRegression()\n",
        "model2 = LogisticRegression() \n",
        "model2.fit(x_train, y_train)\n",
        "y_pred2 = model2.predict(x_test)"
      ],
      "metadata": {
        "colab": {
          "base_uri": "https://localhost:8080/"
        },
        "id": "FQA-PRoxS7Dh",
        "outputId": "975163b8-6024-4147-c022-bc61fbc29d2b"
      },
      "execution_count": 17,
      "outputs": [
        {
          "output_type": "stream",
          "name": "stderr",
          "text": [
            "/usr/local/lib/python3.7/dist-packages/sklearn/linear_model/_logistic.py:818: ConvergenceWarning: lbfgs failed to converge (status=1):\n",
            "STOP: TOTAL NO. of ITERATIONS REACHED LIMIT.\n",
            "\n",
            "Increase the number of iterations (max_iter) or scale the data as shown in:\n",
            "    https://scikit-learn.org/stable/modules/preprocessing.html\n",
            "Please also refer to the documentation for alternative solver options:\n",
            "    https://scikit-learn.org/stable/modules/linear_model.html#logistic-regression\n",
            "  extra_warning_msg=_LOGISTIC_SOLVER_CONVERGENCE_MSG,\n"
          ]
        }
      ]
    },
    {
      "cell_type": "code",
      "source": [
        "# (5) 모델 학습 및 예측 - model = RandomForestClassifier(max_depth=5, random_state=10)\n",
        "model3 = RandomForestClassifier(max_depth=5, random_state=10)\n",
        "model3.fit(x_train, y_train)\n",
        "y_pred3 = model3.predict(x_test)"
      ],
      "metadata": {
        "id": "Ibu_n8b3S67W"
      },
      "execution_count": 18,
      "outputs": []
    },
    {
      "cell_type": "code",
      "source": [
        "# (5) 모델 학습 및 예측 - model =svm.SVC()\n",
        "model4 = svm.SVC()\n",
        "model4.fit(x_train, y_train)\n",
        "y_pred4 = model4.predict(x_test)"
      ],
      "metadata": {
        "id": "zZlu2EYQS60j"
      },
      "execution_count": 19,
      "outputs": []
    },
    {
      "cell_type": "code",
      "source": [
        "# (5) 모델 학습 및 예측 - model = SGDClassifier()\n",
        "model5 = SGDClassifier()\n",
        "model5.fit(x_train, y_train)\n",
        "y_pred5 = model5.predict(x_test)"
      ],
      "metadata": {
        "id": "YchRzArqS6rY"
      },
      "execution_count": 20,
      "outputs": []
    },
    {
      "cell_type": "markdown",
      "source": [
        "# 모델별 스코어 점수 출력하기\n",
        "평가지표 중 정확도를 사용한 이유 \n",
        ": 모델별로 예측한 데이터 중 예측결과가 정답인 경우를 출력해보기로 함"
      ],
      "metadata": {
        "id": "uK51TD4uUQkV"
      }
    },
    {
      "cell_type": "code",
      "source": [
        "score1 = accuracy_score(y_test, y_pred1)\n",
        "score2 = accuracy_score(y_test, y_pred2)\n",
        "score3 = accuracy_score(y_test, y_pred3)\n",
        "score4 = accuracy_score(y_test, y_pred4)\n",
        "score5 = accuracy_score(y_test, y_pred5)\n",
        "print(score1, score2, score3, score4, score5)\n",
        "print(classification_report(y_test, y_pred1))\n",
        "print('-----'*15)\n",
        "print(classification_report(y_test, y_pred2))\n",
        "print('-----'*15)\n",
        "print(classification_report(y_test, y_pred3))\n",
        "print('-----'*15)\n",
        "print(classification_report(y_test, y_pred4))\n",
        "print('-----'*15)\n",
        "print(classification_report(y_test, y_pred5))"
      ],
      "metadata": {
        "colab": {
          "base_uri": "https://localhost:8080/"
        },
        "id": "oc-J9dO6UQBW",
        "outputId": "e209ef37-0861-4e70-8839-e21894dba6e8"
      },
      "execution_count": 33,
      "outputs": [
        {
          "output_type": "stream",
          "name": "stdout",
          "text": [
            "0.8527777777777777 0.95 0.9305555555555556 0.9833333333333333 0.9305555555555556\n",
            "              precision    recall  f1-score   support\n",
            "\n",
            "           0       0.94      0.92      0.93        37\n",
            "           1       0.91      0.91      0.91        34\n",
            "           2       0.81      0.88      0.85        34\n",
            "           3       0.79      0.85      0.82        40\n",
            "           4       0.73      0.79      0.76        34\n",
            "           5       0.91      0.91      0.91        32\n",
            "           6       0.94      0.92      0.93        37\n",
            "           7       0.95      0.88      0.91        40\n",
            "           8       0.74      0.70      0.72        33\n",
            "           9       0.81      0.77      0.79        39\n",
            "\n",
            "    accuracy                           0.85       360\n",
            "   macro avg       0.85      0.85      0.85       360\n",
            "weighted avg       0.86      0.85      0.85       360\n",
            "\n",
            "---------------------------------------------------------------------------\n",
            "              precision    recall  f1-score   support\n",
            "\n",
            "           0       0.97      1.00      0.99        37\n",
            "           1       0.91      0.91      0.91        34\n",
            "           2       0.92      1.00      0.96        34\n",
            "           3       1.00      0.95      0.97        40\n",
            "           4       0.94      0.91      0.93        34\n",
            "           5       0.94      0.94      0.94        32\n",
            "           6       0.97      0.97      0.97        37\n",
            "           7       0.97      0.95      0.96        40\n",
            "           8       0.89      0.94      0.91        33\n",
            "           9       0.97      0.92      0.95        39\n",
            "\n",
            "    accuracy                           0.95       360\n",
            "   macro avg       0.95      0.95      0.95       360\n",
            "weighted avg       0.95      0.95      0.95       360\n",
            "\n",
            "---------------------------------------------------------------------------\n",
            "              precision    recall  f1-score   support\n",
            "\n",
            "           0       1.00      0.97      0.99        37\n",
            "           1       0.91      0.91      0.91        34\n",
            "           2       0.89      1.00      0.94        34\n",
            "           3       0.91      0.97      0.94        40\n",
            "           4       0.91      0.91      0.91        34\n",
            "           5       0.94      1.00      0.97        32\n",
            "           6       1.00      0.97      0.99        37\n",
            "           7       0.90      0.95      0.93        40\n",
            "           8       0.88      0.85      0.86        33\n",
            "           9       0.97      0.77      0.86        39\n",
            "\n",
            "    accuracy                           0.93       360\n",
            "   macro avg       0.93      0.93      0.93       360\n",
            "weighted avg       0.93      0.93      0.93       360\n",
            "\n",
            "---------------------------------------------------------------------------\n",
            "              precision    recall  f1-score   support\n",
            "\n",
            "           0       1.00      1.00      1.00        37\n",
            "           1       0.97      1.00      0.99        34\n",
            "           2       0.97      1.00      0.99        34\n",
            "           3       1.00      0.97      0.99        40\n",
            "           4       1.00      0.94      0.97        34\n",
            "           5       0.97      1.00      0.98        32\n",
            "           6       1.00      1.00      1.00        37\n",
            "           7       1.00      1.00      1.00        40\n",
            "           8       0.91      0.97      0.94        33\n",
            "           9       1.00      0.95      0.97        39\n",
            "\n",
            "    accuracy                           0.98       360\n",
            "   macro avg       0.98      0.98      0.98       360\n",
            "weighted avg       0.98      0.98      0.98       360\n",
            "\n",
            "---------------------------------------------------------------------------\n",
            "              precision    recall  f1-score   support\n",
            "\n",
            "           0       0.97      0.97      0.97        37\n",
            "           1       0.96      0.71      0.81        34\n",
            "           2       0.94      1.00      0.97        34\n",
            "           3       0.91      0.97      0.94        40\n",
            "           4       0.97      0.91      0.94        34\n",
            "           5       0.97      0.94      0.95        32\n",
            "           6       1.00      1.00      1.00        37\n",
            "           7       1.00      0.95      0.97        40\n",
            "           8       0.70      0.94      0.81        33\n",
            "           9       0.95      0.90      0.92        39\n",
            "\n",
            "    accuracy                           0.93       360\n",
            "   macro avg       0.94      0.93      0.93       360\n",
            "weighted avg       0.94      0.93      0.93       360\n",
            "\n"
          ]
        }
      ]
    },
    {
      "cell_type": "markdown",
      "source": [
        "# 1-12. 프로젝트 (2) load_wine : 와인을 분류해 봅시다"
      ],
      "metadata": {
        "id": "cJRg37SRV2FZ"
      }
    },
    {
      "cell_type": "code",
      "source": [
        "# (1) 필요한 모듈 import\n",
        "import pandas as pd\n",
        "from sklearn.datasets import load_wine\n",
        "from sklearn.model_selection import train_test_split\n",
        "from sklearn.metrics import classification_report\n",
        "from sklearn.metrics import accuracy_score\n",
        "from sklearn.tree import DecisionTreeClassifier\n",
        "from sklearn.ensemble import RandomForestClassifier\n",
        "from sklearn import svm\n",
        "from sklearn.linear_model import SGDClassifier\n",
        "from sklearn.linear_model import LogisticRegression\n",
        "pd.set_option('max_rows',500)\n",
        "pd.set_option('max_columns',30)"
      ],
      "metadata": {
        "id": "GLC7ho0HV_z2"
      },
      "execution_count": 34,
      "outputs": []
    },
    {
      "cell_type": "code",
      "source": [
        " # (2) 데이터 준비 - 데이터셋에서 변수와 라벨을 분리하고 하나의 DataFrame 형태로 만들기\n",
        "dataset = load_wine()\n",
        "feature = dataset.data\n",
        "labels = dataset.target\n",
        "wine_df = pd.DataFrame(data=feature, columns = dataset.feature_names)\n",
        "wine_df['target'] = labels"
      ],
      "metadata": {
        "id": "FTBDDJ3JWIjQ"
      },
      "execution_count": 37,
      "outputs": []
    },
    {
      "cell_type": "code",
      "source": [
        "# (3)데이터 이해하기\n",
        "# Target Names 출력해 보기\n",
        "dataset.target_names # array([0, 1, 2]])\n",
        "print(digits_df['target'].value_counts()) \n",
        "\n",
        "# 데이터 Describe 해 보기\n",
        "#print(digits.DESCR)"
      ],
      "metadata": {
        "colab": {
          "base_uri": "https://localhost:8080/"
        },
        "outputId": "b14f220f-0fd2-453e-ef46-1e809aa4bc56",
        "id": "VkE7RrnJXR7M"
      },
      "execution_count": 38,
      "outputs": [
        {
          "output_type": "stream",
          "name": "stdout",
          "text": [
            "1    71\n",
            "0    59\n",
            "2    48\n",
            "Name: target, dtype: int64\n"
          ]
        }
      ]
    },
    {
      "cell_type": "code",
      "source": [
        "# (4) train, test 데이터 분리\n",
        "X = wine_df.iloc[:, :-1] # 변수 데이터만 X에 저장\n",
        "Y = wine_df.iloc[:,-1] # 라벻 데이터만 Y에 저장\n",
        "\n",
        "# train, test  8:2 분할, random_state=10 적용\n",
        "x_train, x_test, y_train, y_test = train_test_split(X, Y, \n",
        "                                                   test_size = 0.2,\n",
        "                                                   random_state=10)\n",
        "\n",
        "print(x_train.shape, x_test.shape, y_train.shape, y_test.shape)\n",
        "# (142, 13) (36, 13) (142,) (36,) 분할이 잘 됐음을 확인"
      ],
      "metadata": {
        "colab": {
          "base_uri": "https://localhost:8080/"
        },
        "outputId": "a905db2d-7dea-464f-918c-fa0334353b7a",
        "id": "sOE8BrWiXWhj"
      },
      "execution_count": 39,
      "outputs": [
        {
          "output_type": "stream",
          "name": "stdout",
          "text": [
            "(142, 13) (36, 13) (142,) (36,)\n"
          ]
        }
      ]
    },
    {
      "cell_type": "code",
      "source": [
        "# (5) 모델 학습 및 예측 - model = DecisionTreeClassifier(random_state=10)\n",
        "model1 = DecisionTreeClassifier(random_state=10)\n",
        "model1.fit(x_train, y_train)\n",
        "y_pred1 = model1.predict(x_test)"
      ],
      "metadata": {
        "id": "Sgg3K97IXaiw"
      },
      "execution_count": 40,
      "outputs": []
    },
    {
      "cell_type": "code",
      "source": [
        "# (5) 모델 학습 및 예측 - model = LogisticRegression()\n",
        "model2 = LogisticRegression() \n",
        "model2.fit(x_train, y_train)\n",
        "y_pred2 = model2.predict(x_test)"
      ],
      "metadata": {
        "colab": {
          "base_uri": "https://localhost:8080/"
        },
        "outputId": "fad691f6-9537-4d78-8c9b-75fd8f0bc391",
        "id": "k7-sz_G3Xai3"
      },
      "execution_count": 41,
      "outputs": [
        {
          "output_type": "stream",
          "name": "stderr",
          "text": [
            "/usr/local/lib/python3.7/dist-packages/sklearn/linear_model/_logistic.py:818: ConvergenceWarning: lbfgs failed to converge (status=1):\n",
            "STOP: TOTAL NO. of ITERATIONS REACHED LIMIT.\n",
            "\n",
            "Increase the number of iterations (max_iter) or scale the data as shown in:\n",
            "    https://scikit-learn.org/stable/modules/preprocessing.html\n",
            "Please also refer to the documentation for alternative solver options:\n",
            "    https://scikit-learn.org/stable/modules/linear_model.html#logistic-regression\n",
            "  extra_warning_msg=_LOGISTIC_SOLVER_CONVERGENCE_MSG,\n"
          ]
        }
      ]
    },
    {
      "cell_type": "code",
      "source": [
        "# (5) 모델 학습 및 예측 - model = RandomForestClassifier(max_depth=5, random_state=10)\n",
        "model3 = RandomForestClassifier(max_depth=5, random_state=10)\n",
        "model3.fit(x_train, y_train)\n",
        "y_pred3 = model3.predict(x_test)"
      ],
      "metadata": {
        "id": "zDvmRjVMXai4"
      },
      "execution_count": 42,
      "outputs": []
    },
    {
      "cell_type": "code",
      "source": [
        "# (5) 모델 학습 및 예측 - model =svm.SVC()\n",
        "model4 = svm.SVC()\n",
        "model4.fit(x_train, y_train)\n",
        "y_pred4 = model4.predict(x_test)"
      ],
      "metadata": {
        "id": "a9GTUnktXai4"
      },
      "execution_count": 43,
      "outputs": []
    },
    {
      "cell_type": "code",
      "source": [
        "# (5) 모델 학습 및 예측 - model = SGDClassifier()\n",
        "model5 = SGDClassifier()\n",
        "model5.fit(x_train, y_train)\n",
        "y_pred5 = model5.predict(x_test)"
      ],
      "metadata": {
        "id": "2aQvmczwXai4"
      },
      "execution_count": 44,
      "outputs": []
    },
    {
      "cell_type": "markdown",
      "source": [
        "# 모델별 스코어 점수 출력하기\n",
        "평가지표 중 정확도를 사용한 이유 \n",
        ": 모델별로 예측한 데이터 중 예측결과가 정답인 경우를 출력해보기로 함"
      ],
      "metadata": {
        "id": "eUMVizNQX-Sq"
      }
    },
    {
      "cell_type": "code",
      "source": [
        "score1 = accuracy_score(y_test, y_pred1)\n",
        "score2 = accuracy_score(y_test, y_pred2)\n",
        "score3 = accuracy_score(y_test, y_pred3)\n",
        "score4 = accuracy_score(y_test, y_pred4)\n",
        "score5 = accuracy_score(y_test, y_pred5)\n",
        "print(score1, score2, score3, score4, score5)\n",
        "print(classification_report(y_test, y_pred1))\n",
        "print('-----'*15)\n",
        "print(classification_report(y_test, y_pred2))\n",
        "print('-----'*15)\n",
        "print(classification_report(y_test, y_pred3))\n",
        "print('-----'*15)\n",
        "print(classification_report(y_test, y_pred4))\n",
        "print('-----'*15)\n",
        "print(classification_report(y_test, y_pred5))"
      ],
      "metadata": {
        "colab": {
          "base_uri": "https://localhost:8080/"
        },
        "outputId": "06171489-63e4-4c5e-f075-fcf43ae27e3e",
        "id": "_UTqWJ3dX1Ua"
      },
      "execution_count": 45,
      "outputs": [
        {
          "output_type": "stream",
          "name": "stdout",
          "text": [
            "0.9444444444444444 0.9166666666666666 0.9444444444444444 0.6944444444444444 0.5833333333333334\n",
            "              precision    recall  f1-score   support\n",
            "\n",
            "           0       1.00      1.00      1.00        10\n",
            "           1       1.00      0.89      0.94        18\n",
            "           2       0.80      1.00      0.89         8\n",
            "\n",
            "    accuracy                           0.94        36\n",
            "   macro avg       0.93      0.96      0.94        36\n",
            "weighted avg       0.96      0.94      0.95        36\n",
            "\n",
            "---------------------------------------------------------------------------\n",
            "              precision    recall  f1-score   support\n",
            "\n",
            "           0       0.91      1.00      0.95        10\n",
            "           1       1.00      0.83      0.91        18\n",
            "           2       0.80      1.00      0.89         8\n",
            "\n",
            "    accuracy                           0.92        36\n",
            "   macro avg       0.90      0.94      0.92        36\n",
            "weighted avg       0.93      0.92      0.92        36\n",
            "\n",
            "---------------------------------------------------------------------------\n",
            "              precision    recall  f1-score   support\n",
            "\n",
            "           0       1.00      1.00      1.00        10\n",
            "           1       1.00      0.89      0.94        18\n",
            "           2       0.80      1.00      0.89         8\n",
            "\n",
            "    accuracy                           0.94        36\n",
            "   macro avg       0.93      0.96      0.94        36\n",
            "weighted avg       0.96      0.94      0.95        36\n",
            "\n",
            "---------------------------------------------------------------------------\n",
            "              precision    recall  f1-score   support\n",
            "\n",
            "           0       0.88      0.70      0.78        10\n",
            "           1       0.81      0.72      0.76        18\n",
            "           2       0.42      0.62      0.50         8\n",
            "\n",
            "    accuracy                           0.69        36\n",
            "   macro avg       0.70      0.68      0.68        36\n",
            "weighted avg       0.74      0.69      0.71        36\n",
            "\n",
            "---------------------------------------------------------------------------\n",
            "              precision    recall  f1-score   support\n",
            "\n",
            "           0       0.57      0.80      0.67        10\n",
            "           1       1.00      0.44      0.62        18\n",
            "           2       0.36      0.62      0.45         8\n",
            "\n",
            "    accuracy                           0.58        36\n",
            "   macro avg       0.64      0.62      0.58        36\n",
            "weighted avg       0.74      0.58      0.59        36\n",
            "\n"
          ]
        }
      ]
    },
    {
      "cell_type": "markdown",
      "source": [
        "# 1-13. 프로젝트 (3) load_breast_cancer : 유방암 여부를 진단해 봅시다\n",
        "# 마지막 프로젝트는 앞에 있던 프로젝트와 약간 다른 방식으로 score를 구현할 것입니다."
      ],
      "metadata": {
        "id": "StNAbEtHYJme"
      }
    },
    {
      "cell_type": "code",
      "source": [
        "# (1) 필요한 모듈 import\n",
        "import pandas as pd\n",
        "from sklearn.datasets import load_breast_cancer\n",
        "from sklearn.model_selection import train_test_split\n",
        "from sklearn.tree import DecisionTreeClassifier\n",
        "from sklearn.ensemble import RandomForestClassifier\n",
        "from sklearn.svm import SVC\n",
        "from sklearn.linear_model import SGDClassifier\n",
        "from sklearn.linear_model import LogisticRegression\n",
        "from sklearn.metrics import roc_auc_score\n",
        "from sklearn.metrics import classification_report\n",
        "from sklearn.model_selection import GridSearchCV\n",
        "pd.set_option('max_rows',500)\n",
        "pd.set_option('max_columns',30)"
      ],
      "metadata": {
        "id": "9u0_bhiuYOhU"
      },
      "execution_count": 46,
      "outputs": []
    },
    {
      "cell_type": "code",
      "source": [
        "# (2) 데이터 준비 - 데이터셋에서 변수와 라벨을 분리하고 하나의 DataFrame 형태로 만들기\n",
        "dataset = load_breast_cancer()\n",
        "feature = dataset.data\n",
        "labels = dataset.target\n",
        "cancer_df = pd.DataFrame(data=feature, columns = dataset.feature_names)\n",
        "cancer_df['target'] = labels"
      ],
      "metadata": {
        "id": "lUcXQrJ4YTzv"
      },
      "execution_count": 47,
      "outputs": []
    },
    {
      "cell_type": "code",
      "source": [
        "# (3)데이터 이해하기\n",
        "print(dataset.target_names) # ['malignant' : 0,  'benign' : 1]\n",
        "print(cancer_df['target'].value_counts()) # 1: 357, 0: 212"
      ],
      "metadata": {
        "colab": {
          "base_uri": "https://localhost:8080/"
        },
        "id": "nMP0Qa8_a-NS",
        "outputId": "877a31fd-4eab-49a3-991d-b82dc3c50df2"
      },
      "execution_count": 49,
      "outputs": [
        {
          "output_type": "stream",
          "name": "stdout",
          "text": [
            "['malignant' 'benign']\n",
            "1    357\n",
            "0    212\n",
            "Name: target, dtype: int64\n"
          ]
        }
      ]
    },
    {
      "cell_type": "markdown",
      "source": [
        "# score 및 모델 학습 함수 구현"
      ],
      "metadata": {
        "id": "LAnTI20sbYua"
      }
    },
    {
      "cell_type": "markdown",
      "source": [
        "roc_auc_score를 선택한 이유 : 유방암 여부 진단이 이진 분류로 나뉘기 때문에 정확도(Acurracy)보다는 roc_auc_score가 더 적합하다고 생각하여 사용해봤습니다."
      ],
      "metadata": {
        "id": "hRFQOxUbjECO"
      }
    },
    {
      "cell_type": "code",
      "source": [
        "def get_scores(model, xtrain, xtest, ytrain, ytest):\n",
        "    A = model.score(xtrain, ytrain)\n",
        "    B = model.score(xtest, ytest)\n",
        "    ypred = model.predict_proba(xtest)[:, 1]\n",
        "    C = roc_auc_score(ytest, ypred)  \n",
        "    return '{:.4f} {:.4f} {:.4f}'.format(A, B, C)\n",
        "\n",
        "def make_models(xtrain, xtest, ytrain, ytest):\n",
        "  model1 = LogisticRegression(max_iter=5000).fit(xtrain, ytrain)\n",
        "  print('model1', get_scores(model1, xtrain, xtest, ytrain, ytest))\n",
        "\n",
        "  model2 = DecisionTreeClassifier(random_state=10).fit(xtrain, ytrain)\n",
        "  print('model2', get_scores(model2, xtrain, xtest, ytrain, ytest))\n",
        "  \n",
        "  # overfitting 해결\n",
        "  for d in range(3, 8):\n",
        "      model2 = DecisionTreeClassifier(max_depth=d,random_state=10).fit(xtrain, ytrain)\n",
        "      print('model2', d, get_scores(model2, xtrain, xtest, ytrain, ytest))\n",
        "\n",
        "  model3 = RandomForestClassifier(500, random_state=0).fit(xtrain, ytrain)\n",
        "  print('model3', get_scores(model3, xtrain, xtest, ytrain, ytest))\n",
        "\n",
        "  # overfitting 해결\n",
        "  for d in range(3, 8):\n",
        "      model3 = RandomForestClassifier(500, max_depth=d, random_state=10).fit(xtrain, ytrain)\n",
        "      print('model3', d, get_scores(model3, xtrain, xtest, ytrain, ytest))\n",
        "\n",
        "  model4 = SVC(kernel = 'linear', C=1.0, random_state=0, probability=True).fit(xtrain, ytrain)      \n",
        "  print('model4', get_scores(model4, xtrain, xtest, ytrain, ytest))\n",
        "\n",
        "  model5 = SGDClassifier(loss='modified_huber', max_iter=100).fit(xtrain, ytrain)\n",
        "  print('model5', get_scores(model5, xtrain, xtest, ytrain, ytest))\n"
      ],
      "metadata": {
        "id": "_A6hYCoHbEch"
      },
      "execution_count": 55,
      "outputs": []
    },
    {
      "cell_type": "code",
      "source": [
        "# (4) train, test 데이터 분리\n",
        "X = cancer_df.iloc[:, :-1]\n",
        "Y = cancer_df.iloc[:,-1]\n",
        "\n",
        "# train, test  8:2 분할, random_state=10 적용\n",
        "xtrain1, xtest1, ytrain1, ytest1 = train_test_split(X, Y, \n",
        "                                                   test_size = 0.2,\n",
        "                                                   random_state=10)\n",
        "\n",
        "print(xtrain1.shape, xtest1.shape, ytrain1.shape, ytest1.shape)\n",
        "# (455, 30) (114, 30) (455,) (114,) 분할이 잘 됐음을 확인"
      ],
      "metadata": {
        "colab": {
          "base_uri": "https://localhost:8080/"
        },
        "id": "8z4XeTU7blXC",
        "outputId": "bfe2b1df-7661-43cf-8e3d-bed94e21ed3d"
      },
      "execution_count": 52,
      "outputs": [
        {
          "output_type": "stream",
          "name": "stdout",
          "text": [
            "(455, 30) (114, 30) (455,) (114,)\n"
          ]
        }
      ]
    },
    {
      "cell_type": "markdown",
      "source": [
        "# 최적의 파라미터를 찾는 GridSerchCV 사용하기"
      ],
      "metadata": {
        "id": "DZoi4Ijjcysh"
      }
    },
    {
      "cell_type": "code",
      "source": [
        "# 최적의 파라미터 찾기 (max_depth)\n",
        "params = {'max_depth': range(3, 10)}\n",
        "model = RandomForestClassifier(500, random_state=10)\n",
        "gs = GridSearchCV(model, params, cv=5)\n",
        "gs.fit(X, Y)\n",
        "result = pd.DataFrame(gs.cv_results_)\n",
        "print(result)\n",
        "#model = gs.best_estimator_\n",
        "#print(model.score(xtest1, ytest1), gs.score(xtest1, ytest1), gs.best_params_)\n",
        "# 확인해본 결과 max_depth = 7 일때 최적의 파라미터인것을 확인할 수 있다"
      ],
      "metadata": {
        "colab": {
          "base_uri": "https://localhost:8080/",
          "height": 454
        },
        "id": "h_MpKLYEdGBa",
        "outputId": "a9b4306e-4b25-427a-e9e5-de052758927f"
      },
      "execution_count": 56,
      "outputs": [
        {
          "output_type": "execute_result",
          "data": {
            "text/plain": [
              "   mean_fit_time  std_fit_time  mean_score_time  std_score_time  \\\n",
              "0       1.205327      0.463976         0.068291        0.032634   \n",
              "1       0.929720      0.009443         0.052093        0.002495   \n",
              "2       0.954182      0.008547         0.070524        0.031109   \n",
              "3       0.982823      0.021748         0.052822        0.002453   \n",
              "4       0.974039      0.010555         0.052840        0.002493   \n",
              "5       1.442069      0.257795         0.099603        0.024261   \n",
              "6       1.274887      0.423318         0.072270        0.025492   \n",
              "\n",
              "  param_max_depth            params  split0_test_score  split1_test_score  \\\n",
              "0               3  {'max_depth': 3}           0.912281           0.938596   \n",
              "1               4  {'max_depth': 4}           0.929825           0.947368   \n",
              "2               5  {'max_depth': 5}           0.921053           0.947368   \n",
              "3               6  {'max_depth': 6}           0.921053           0.947368   \n",
              "4               7  {'max_depth': 7}           0.929825           0.947368   \n",
              "5               8  {'max_depth': 8}           0.929825           0.947368   \n",
              "6               9  {'max_depth': 9}           0.929825           0.947368   \n",
              "\n",
              "   split2_test_score  split3_test_score  split4_test_score  mean_test_score  \\\n",
              "0           0.982456           0.964912           0.964602         0.952569   \n",
              "1           0.982456           0.973684           0.964602         0.959587   \n",
              "2           0.982456           0.973684           0.973451         0.959603   \n",
              "3           0.982456           0.973684           0.973451         0.959603   \n",
              "4           0.991228           0.973684           0.973451         0.963111   \n",
              "5           0.991228           0.973684           0.973451         0.963111   \n",
              "6           0.991228           0.973684           0.973451         0.963111   \n",
              "\n",
              "   std_test_score  rank_test_score  \n",
              "0        0.024531                7  \n",
              "1        0.018878                6  \n",
              "2        0.022575                4  \n",
              "3        0.022575                4  \n",
              "4        0.021749                1  \n",
              "5        0.021749                1  \n",
              "6        0.021749                1  "
            ],
            "text/html": [
              "\n",
              "  <div id=\"df-82dbfb74-2df4-442d-a7df-fea6e09de832\">\n",
              "    <div class=\"colab-df-container\">\n",
              "      <div>\n",
              "<style scoped>\n",
              "    .dataframe tbody tr th:only-of-type {\n",
              "        vertical-align: middle;\n",
              "    }\n",
              "\n",
              "    .dataframe tbody tr th {\n",
              "        vertical-align: top;\n",
              "    }\n",
              "\n",
              "    .dataframe thead th {\n",
              "        text-align: right;\n",
              "    }\n",
              "</style>\n",
              "<table border=\"1\" class=\"dataframe\">\n",
              "  <thead>\n",
              "    <tr style=\"text-align: right;\">\n",
              "      <th></th>\n",
              "      <th>mean_fit_time</th>\n",
              "      <th>std_fit_time</th>\n",
              "      <th>mean_score_time</th>\n",
              "      <th>std_score_time</th>\n",
              "      <th>param_max_depth</th>\n",
              "      <th>params</th>\n",
              "      <th>split0_test_score</th>\n",
              "      <th>split1_test_score</th>\n",
              "      <th>split2_test_score</th>\n",
              "      <th>split3_test_score</th>\n",
              "      <th>split4_test_score</th>\n",
              "      <th>mean_test_score</th>\n",
              "      <th>std_test_score</th>\n",
              "      <th>rank_test_score</th>\n",
              "    </tr>\n",
              "  </thead>\n",
              "  <tbody>\n",
              "    <tr>\n",
              "      <th>0</th>\n",
              "      <td>1.205327</td>\n",
              "      <td>0.463976</td>\n",
              "      <td>0.068291</td>\n",
              "      <td>0.032634</td>\n",
              "      <td>3</td>\n",
              "      <td>{'max_depth': 3}</td>\n",
              "      <td>0.912281</td>\n",
              "      <td>0.938596</td>\n",
              "      <td>0.982456</td>\n",
              "      <td>0.964912</td>\n",
              "      <td>0.964602</td>\n",
              "      <td>0.952569</td>\n",
              "      <td>0.024531</td>\n",
              "      <td>7</td>\n",
              "    </tr>\n",
              "    <tr>\n",
              "      <th>1</th>\n",
              "      <td>0.929720</td>\n",
              "      <td>0.009443</td>\n",
              "      <td>0.052093</td>\n",
              "      <td>0.002495</td>\n",
              "      <td>4</td>\n",
              "      <td>{'max_depth': 4}</td>\n",
              "      <td>0.929825</td>\n",
              "      <td>0.947368</td>\n",
              "      <td>0.982456</td>\n",
              "      <td>0.973684</td>\n",
              "      <td>0.964602</td>\n",
              "      <td>0.959587</td>\n",
              "      <td>0.018878</td>\n",
              "      <td>6</td>\n",
              "    </tr>\n",
              "    <tr>\n",
              "      <th>2</th>\n",
              "      <td>0.954182</td>\n",
              "      <td>0.008547</td>\n",
              "      <td>0.070524</td>\n",
              "      <td>0.031109</td>\n",
              "      <td>5</td>\n",
              "      <td>{'max_depth': 5}</td>\n",
              "      <td>0.921053</td>\n",
              "      <td>0.947368</td>\n",
              "      <td>0.982456</td>\n",
              "      <td>0.973684</td>\n",
              "      <td>0.973451</td>\n",
              "      <td>0.959603</td>\n",
              "      <td>0.022575</td>\n",
              "      <td>4</td>\n",
              "    </tr>\n",
              "    <tr>\n",
              "      <th>3</th>\n",
              "      <td>0.982823</td>\n",
              "      <td>0.021748</td>\n",
              "      <td>0.052822</td>\n",
              "      <td>0.002453</td>\n",
              "      <td>6</td>\n",
              "      <td>{'max_depth': 6}</td>\n",
              "      <td>0.921053</td>\n",
              "      <td>0.947368</td>\n",
              "      <td>0.982456</td>\n",
              "      <td>0.973684</td>\n",
              "      <td>0.973451</td>\n",
              "      <td>0.959603</td>\n",
              "      <td>0.022575</td>\n",
              "      <td>4</td>\n",
              "    </tr>\n",
              "    <tr>\n",
              "      <th>4</th>\n",
              "      <td>0.974039</td>\n",
              "      <td>0.010555</td>\n",
              "      <td>0.052840</td>\n",
              "      <td>0.002493</td>\n",
              "      <td>7</td>\n",
              "      <td>{'max_depth': 7}</td>\n",
              "      <td>0.929825</td>\n",
              "      <td>0.947368</td>\n",
              "      <td>0.991228</td>\n",
              "      <td>0.973684</td>\n",
              "      <td>0.973451</td>\n",
              "      <td>0.963111</td>\n",
              "      <td>0.021749</td>\n",
              "      <td>1</td>\n",
              "    </tr>\n",
              "    <tr>\n",
              "      <th>5</th>\n",
              "      <td>1.442069</td>\n",
              "      <td>0.257795</td>\n",
              "      <td>0.099603</td>\n",
              "      <td>0.024261</td>\n",
              "      <td>8</td>\n",
              "      <td>{'max_depth': 8}</td>\n",
              "      <td>0.929825</td>\n",
              "      <td>0.947368</td>\n",
              "      <td>0.991228</td>\n",
              "      <td>0.973684</td>\n",
              "      <td>0.973451</td>\n",
              "      <td>0.963111</td>\n",
              "      <td>0.021749</td>\n",
              "      <td>1</td>\n",
              "    </tr>\n",
              "    <tr>\n",
              "      <th>6</th>\n",
              "      <td>1.274887</td>\n",
              "      <td>0.423318</td>\n",
              "      <td>0.072270</td>\n",
              "      <td>0.025492</td>\n",
              "      <td>9</td>\n",
              "      <td>{'max_depth': 9}</td>\n",
              "      <td>0.929825</td>\n",
              "      <td>0.947368</td>\n",
              "      <td>0.991228</td>\n",
              "      <td>0.973684</td>\n",
              "      <td>0.973451</td>\n",
              "      <td>0.963111</td>\n",
              "      <td>0.021749</td>\n",
              "      <td>1</td>\n",
              "    </tr>\n",
              "  </tbody>\n",
              "</table>\n",
              "</div>\n",
              "      <button class=\"colab-df-convert\" onclick=\"convertToInteractive('df-82dbfb74-2df4-442d-a7df-fea6e09de832')\"\n",
              "              title=\"Convert this dataframe to an interactive table.\"\n",
              "              style=\"display:none;\">\n",
              "        \n",
              "  <svg xmlns=\"http://www.w3.org/2000/svg\" height=\"24px\"viewBox=\"0 0 24 24\"\n",
              "       width=\"24px\">\n",
              "    <path d=\"M0 0h24v24H0V0z\" fill=\"none\"/>\n",
              "    <path d=\"M18.56 5.44l.94 2.06.94-2.06 2.06-.94-2.06-.94-.94-2.06-.94 2.06-2.06.94zm-11 1L8.5 8.5l.94-2.06 2.06-.94-2.06-.94L8.5 2.5l-.94 2.06-2.06.94zm10 10l.94 2.06.94-2.06 2.06-.94-2.06-.94-.94-2.06-.94 2.06-2.06.94z\"/><path d=\"M17.41 7.96l-1.37-1.37c-.4-.4-.92-.59-1.43-.59-.52 0-1.04.2-1.43.59L10.3 9.45l-7.72 7.72c-.78.78-.78 2.05 0 2.83L4 21.41c.39.39.9.59 1.41.59.51 0 1.02-.2 1.41-.59l7.78-7.78 2.81-2.81c.8-.78.8-2.07 0-2.86zM5.41 20L4 18.59l7.72-7.72 1.47 1.35L5.41 20z\"/>\n",
              "  </svg>\n",
              "      </button>\n",
              "      \n",
              "  <style>\n",
              "    .colab-df-container {\n",
              "      display:flex;\n",
              "      flex-wrap:wrap;\n",
              "      gap: 12px;\n",
              "    }\n",
              "\n",
              "    .colab-df-convert {\n",
              "      background-color: #E8F0FE;\n",
              "      border: none;\n",
              "      border-radius: 50%;\n",
              "      cursor: pointer;\n",
              "      display: none;\n",
              "      fill: #1967D2;\n",
              "      height: 32px;\n",
              "      padding: 0 0 0 0;\n",
              "      width: 32px;\n",
              "    }\n",
              "\n",
              "    .colab-df-convert:hover {\n",
              "      background-color: #E2EBFA;\n",
              "      box-shadow: 0px 1px 2px rgba(60, 64, 67, 0.3), 0px 1px 3px 1px rgba(60, 64, 67, 0.15);\n",
              "      fill: #174EA6;\n",
              "    }\n",
              "\n",
              "    [theme=dark] .colab-df-convert {\n",
              "      background-color: #3B4455;\n",
              "      fill: #D2E3FC;\n",
              "    }\n",
              "\n",
              "    [theme=dark] .colab-df-convert:hover {\n",
              "      background-color: #434B5C;\n",
              "      box-shadow: 0px 1px 3px 1px rgba(0, 0, 0, 0.15);\n",
              "      filter: drop-shadow(0px 1px 2px rgba(0, 0, 0, 0.3));\n",
              "      fill: #FFFFFF;\n",
              "    }\n",
              "  </style>\n",
              "\n",
              "      <script>\n",
              "        const buttonEl =\n",
              "          document.querySelector('#df-82dbfb74-2df4-442d-a7df-fea6e09de832 button.colab-df-convert');\n",
              "        buttonEl.style.display =\n",
              "          google.colab.kernel.accessAllowed ? 'block' : 'none';\n",
              "\n",
              "        async function convertToInteractive(key) {\n",
              "          const element = document.querySelector('#df-82dbfb74-2df4-442d-a7df-fea6e09de832');\n",
              "          const dataTable =\n",
              "            await google.colab.kernel.invokeFunction('convertToInteractive',\n",
              "                                                     [key], {});\n",
              "          if (!dataTable) return;\n",
              "\n",
              "          const docLinkHtml = 'Like what you see? Visit the ' +\n",
              "            '<a target=\"_blank\" href=https://colab.research.google.com/notebooks/data_table.ipynb>data table notebook</a>'\n",
              "            + ' to learn more about interactive tables.';\n",
              "          element.innerHTML = '';\n",
              "          dataTable['output_type'] = 'display_data';\n",
              "          await google.colab.output.renderOutput(dataTable, element);\n",
              "          const docLink = document.createElement('div');\n",
              "          docLink.innerHTML = docLinkHtml;\n",
              "          element.appendChild(docLink);\n",
              "        }\n",
              "      </script>\n",
              "    </div>\n",
              "  </div>\n",
              "  "
            ]
          },
          "metadata": {},
          "execution_count": 56
        }
      ]
    },
    {
      "cell_type": "markdown",
      "source": [
        "# 모델별 스코어 점수 출력하기\n",
        "평가지표 중 ROC_AUC_SCORE를 사용한 이유 \n",
        ": "
      ],
      "metadata": {
        "id": "W8wLzxXQeAnF"
      }
    },
    {
      "cell_type": "code",
      "source": [
        "# (5) score 출력\n",
        "make_models(xtrain1, xtest1, ytrain1, ytest1)\n",
        "# model3 7 0.9978 0.9825 0.9973"
      ],
      "metadata": {
        "colab": {
          "base_uri": "https://localhost:8080/"
        },
        "id": "U0XtL08bd9es",
        "outputId": "aa2164fe-1ed5-44dd-98dd-22a197809bcf"
      },
      "execution_count": 57,
      "outputs": [
        {
          "output_type": "stream",
          "name": "stdout",
          "text": [
            "model1 0.9626 0.9561 0.9925\n",
            "model2 1.0000 0.8596 0.8749\n",
            "model2 3 0.9626 0.9386 0.9328\n",
            "model2 4 0.9758 0.9474 0.9720\n",
            "model2 5 0.9868 0.9386 0.9574\n",
            "model2 6 0.9912 0.9474 0.9658\n",
            "model2 7 0.9934 0.9211 0.9328\n",
            "model3 1.0000 0.9825 0.9969\n",
            "model3 3 0.9736 0.9649 0.9959\n",
            "model3 4 0.9846 0.9649 0.9956\n",
            "model3 5 0.9912 0.9737 0.9973\n",
            "model3 6 0.9956 0.9737 0.9973\n",
            "model3 7 0.9978 0.9825 0.9973\n",
            "model4 0.9626 0.9474 0.9956\n",
            "model5 0.9231 0.9298 0.9097\n"
          ]
        }
      ]
    },
    {
      "cell_type": "markdown",
      "source": [
        "# 회고"
      ],
      "metadata": {
        "id": "lX7qGW4XKysW"
      }
    },
    {
      "cell_type": "markdown",
      "source": [
        "1. 이번 프로젝트에서 어려웠던 점\n",
        " \n",
        " (1) 여러 모델을 한번에 비교하기위하여 함수를 작성했지만 모델의 작동 원리에 대한 이해가 아직은 부족하여 하이퍼 파라미터 설정 등 함수를 작동시키는 것이 쉽지 않았다.\n",
        "\n",
        " (2) svm과 SGDClassifier는 함수로 auc_roc_score로 구현해보려했으나 점수가 매우 낮게 나오는 현상이 프로젝트(1)과 (2)번에서 발견되었습니다. 정확한 원인은 아직 분석이므로 향후 해결하는 것이 과제라고 생각합니다."
      ],
      "metadata": {
        "id": "ojmxzLRyK1cS"
      }
    },
    {
      "cell_type": "markdown",
      "source": [
        "2. 프로젝트를 진행하면서 알게된 부분 또는 아직 이해하지 못한 부분\n",
        "\n",
        "(1) 프로젝트(3) 결과를 2가지로 출력하는 경우 모델 학습이 잘 이루어지지만 (1)과 (2) 같은 경우는 왜 학습률이 저조한지 이해하지 못하였습니다. 앞으로 더 나은 모델을 만들 수 있도록 원리를 더 자세하게 공부해야 할 거 같습니다.\n",
        "\n",
        "(2) roc_auc를 사용하기위해 y_pred를 model.predict_proba로 설정하였고 이것이 svm의 score를 구할 때 문제가 되는 것으로 알게됐습니다. 그래서 svm 모델 생성시 \n",
        "probalility=True을 설정하여 score 값을 구할 수 있게 됐습니다.\n",
        "\n",
        "(3)"
      ],
      "metadata": {
        "id": "cMgNvnfQLhyy"
      }
    },
    {
      "cell_type": "markdown",
      "source": [
        "참조\n",
        "\n",
        "(1) https://beausty23.tistory.com/146 : svc 모델 학습 오류 해결\n",
        "(2) https://bkshin.tistory.com/entry/%EB%A8%B8%EC%8B%A0%EB%9F%AC%EB%8B%9D-3%EC%84%9C%ED%8F%AC%ED%8A%B8-%EB%B2%A1%ED%84%B0-%EB%A8%B8%EC%8B%A0-SVM-%EC%8B%A4%EC%8A%B5 : svc 모델 하이퍼 파라미터 참조\n",
        "(3) https://neos518.tistory.com/149: SGDClassifier 모델 학습 오류 해결"
      ],
      "metadata": {
        "id": "xWtviva-f2gG"
      }
    }
  ]
}