{
  "nbformat": 4,
  "nbformat_minor": 0,
  "metadata": {
    "colab": {
      "provenance": [],
      "collapsed_sections": [],
      "machine_shape": "hm",
      "authorship_tag": "ABX9TyPBEj3z+4HwbE1mwt3pNDLK",
      "include_colab_link": true
    },
    "kernelspec": {
      "name": "python3",
      "display_name": "Python 3"
    },
    "language_info": {
      "name": "python"
    },
    "accelerator": "GPU",
    "gpuClass": "standard"
  },
  "cells": [
    {
      "cell_type": "markdown",
      "metadata": {
        "id": "view-in-github",
        "colab_type": "text"
      },
      "source": [
        "<a href=\"https://colab.research.google.com/github/sgr1118/EX/blob/main/%5BExp_12%5D_Abstractive_summarization.ipynb\" target=\"_parent\"><img src=\"https://colab.research.google.com/assets/colab-badge.svg\" alt=\"Open In Colab\"/></a>"
      ]
    },
    {
      "cell_type": "markdown",
      "source": [
        "# 12-13. 프로젝트: 뉴스기사 요약해보기"
      ],
      "metadata": {
        "id": "BX4jc0TsCG6-"
      }
    },
    {
      "cell_type": "code",
      "source": [
        "# 필요한 라이브러리 불러오기\n",
        "import nltk\n",
        "nltk.download('stopwords')\n",
        "\n",
        "import numpy as np\n",
        "import pandas as pd\n",
        "import os\n",
        "import re\n",
        "import matplotlib.pyplot as plt\n",
        "from nltk.corpus import stopwords\n",
        "from bs4 import BeautifulSoup \n",
        "from tensorflow.keras.preprocessing.text import Tokenizer \n",
        "from tensorflow.keras.preprocessing.sequence import pad_sequences\n",
        "import urllib.request\n",
        "import warnings\n",
        "warnings.filterwarnings(\"ignore\", category=UserWarning, module='bs4')"
      ],
      "metadata": {
        "colab": {
          "base_uri": "https://localhost:8080/"
        },
        "id": "Y3fq-wViCNQ5",
        "outputId": "51e2809b-4fb5-4842-cc94-4e312ad48595"
      },
      "execution_count": 1,
      "outputs": [
        {
          "output_type": "stream",
          "name": "stderr",
          "text": [
            "[nltk_data] Downloading package stopwords to /root/nltk_data...\n",
            "[nltk_data]   Package stopwords is already up-to-date!\n"
          ]
        }
      ]
    },
    {
      "cell_type": "markdown",
      "source": [
        "# Step 1. 데이터 수집하기\n",
        "\n",
        "- 뉴스 기사 링크 불러오기"
      ],
      "metadata": {
        "id": "i14TZEa2Ci4Q"
      }
    },
    {
      "cell_type": "code",
      "execution_count": 2,
      "metadata": {
        "id": "KQgMe3RpI3DA"
      },
      "outputs": [],
      "source": [
        "# 데이터 불러오기\n",
        "import urllib.request\n",
        "urllib.request.urlretrieve(\"https://raw.githubusercontent.com/sunnysai12345/News_Summary/master/news_summary_more.csv\", filename=\"news_summary_more.csv\")\n",
        "data = pd.read_csv('news_summary_more.csv', encoding='iso-8859-1')"
      ]
    },
    {
      "cell_type": "code",
      "source": [
        "# 데이터 확인\n",
        "print(data.shape)\n",
        "data.sample(10)\n",
        "\n",
        "# 98401개의 row와 2개의 columns를 가짐\n",
        "# 데이터의 columns는 'headlines'과 'text'로 되었이다. 제목과 본문으로 생각하면 될거같다.\n",
        "# 추상적 요약을 하는경우 text를 본문, headline을 요약된 데이터로 삼아서 학습\n",
        "# 추출적 요약을 하는경우 오직 text열만을 사용"
      ],
      "metadata": {
        "colab": {
          "base_uri": "https://localhost:8080/",
          "height": 381
        },
        "id": "bIOgGplMDDCZ",
        "outputId": "c3978daf-14e4-4c8b-f1ed-f45403e5aaac"
      },
      "execution_count": 3,
      "outputs": [
        {
          "output_type": "stream",
          "name": "stdout",
          "text": [
            "(98401, 2)\n"
          ]
        },
        {
          "output_type": "execute_result",
          "data": {
            "text/plain": [
              "                                               headlines  \\\n",
              "47822  Most cryptocurrencies will go to zero: Ripple CEO   \n",
              "3394   Nearby galaxy to collide with Milky Way in 2.5...   \n",
              "84071  Ma in Upma doesn't make it national dish, twee...   \n",
              "25108  Ã¢ÂÂ¹100 crore needed to make ATMs ready for ...   \n",
              "26724  Let paparazzi guess if papa is raazi:Ã¢ÂÂMah...   \n",
              "2923   I thank Satan for inspiration: Bale on playing...   \n",
              "30124  Almost 200 athletes seek asylum in Australia a...   \n",
              "13679  Congress' Chhattisgarh working Prez joins BJP ...   \n",
              "81774  Chinese zoo builds monument for live donkey fe...   \n",
              "56029  Suarez, Paulinho score braces in Barcelona's 4...   \n",
              "\n",
              "                                                    text  \n",
              "47822  Brad Garlinghouse, the CEO of the company behi...  \n",
              "3394   Durham University astrophysicists have suggest...  \n",
              "84071  After Tamil movie director Radhakrishnan Parth...  \n",
              "25108  The ATM operations industry on Friday said an ...  \n",
              "26724  Filmmaker Mahesh Bhatt, while commenting on hi...  \n",
              "2923   While accepting Golden Globe award for 'Best a...  \n",
              "30124  Almost 200 athletes have sought asylum in Aust...  \n",
              "13679  Congress' Chhattisgarh working President Ramda...  \n",
              "81774  A Chinese zoo has erected a monument in the me...  \n",
              "56029  Uruguay's Luis Suarez and Brazil's Paulinho sc...  "
            ],
            "text/html": [
              "\n",
              "  <div id=\"df-d562010d-56be-4046-b6b0-25ce9efb3509\">\n",
              "    <div class=\"colab-df-container\">\n",
              "      <div>\n",
              "<style scoped>\n",
              "    .dataframe tbody tr th:only-of-type {\n",
              "        vertical-align: middle;\n",
              "    }\n",
              "\n",
              "    .dataframe tbody tr th {\n",
              "        vertical-align: top;\n",
              "    }\n",
              "\n",
              "    .dataframe thead th {\n",
              "        text-align: right;\n",
              "    }\n",
              "</style>\n",
              "<table border=\"1\" class=\"dataframe\">\n",
              "  <thead>\n",
              "    <tr style=\"text-align: right;\">\n",
              "      <th></th>\n",
              "      <th>headlines</th>\n",
              "      <th>text</th>\n",
              "    </tr>\n",
              "  </thead>\n",
              "  <tbody>\n",
              "    <tr>\n",
              "      <th>47822</th>\n",
              "      <td>Most cryptocurrencies will go to zero: Ripple CEO</td>\n",
              "      <td>Brad Garlinghouse, the CEO of the company behi...</td>\n",
              "    </tr>\n",
              "    <tr>\n",
              "      <th>3394</th>\n",
              "      <td>Nearby galaxy to collide with Milky Way in 2.5...</td>\n",
              "      <td>Durham University astrophysicists have suggest...</td>\n",
              "    </tr>\n",
              "    <tr>\n",
              "      <th>84071</th>\n",
              "      <td>Ma in Upma doesn't make it national dish, twee...</td>\n",
              "      <td>After Tamil movie director Radhakrishnan Parth...</td>\n",
              "    </tr>\n",
              "    <tr>\n",
              "      <th>25108</th>\n",
              "      <td>Ã¢ÂÂ¹100 crore needed to make ATMs ready for ...</td>\n",
              "      <td>The ATM operations industry on Friday said an ...</td>\n",
              "    </tr>\n",
              "    <tr>\n",
              "      <th>26724</th>\n",
              "      <td>Let paparazzi guess if papa is raazi:Ã¢ÂÂMah...</td>\n",
              "      <td>Filmmaker Mahesh Bhatt, while commenting on hi...</td>\n",
              "    </tr>\n",
              "    <tr>\n",
              "      <th>2923</th>\n",
              "      <td>I thank Satan for inspiration: Bale on playing...</td>\n",
              "      <td>While accepting Golden Globe award for 'Best a...</td>\n",
              "    </tr>\n",
              "    <tr>\n",
              "      <th>30124</th>\n",
              "      <td>Almost 200 athletes seek asylum in Australia a...</td>\n",
              "      <td>Almost 200 athletes have sought asylum in Aust...</td>\n",
              "    </tr>\n",
              "    <tr>\n",
              "      <th>13679</th>\n",
              "      <td>Congress' Chhattisgarh working Prez joins BJP ...</td>\n",
              "      <td>Congress' Chhattisgarh working President Ramda...</td>\n",
              "    </tr>\n",
              "    <tr>\n",
              "      <th>81774</th>\n",
              "      <td>Chinese zoo builds monument for live donkey fe...</td>\n",
              "      <td>A Chinese zoo has erected a monument in the me...</td>\n",
              "    </tr>\n",
              "    <tr>\n",
              "      <th>56029</th>\n",
              "      <td>Suarez, Paulinho score braces in Barcelona's 4...</td>\n",
              "      <td>Uruguay's Luis Suarez and Brazil's Paulinho sc...</td>\n",
              "    </tr>\n",
              "  </tbody>\n",
              "</table>\n",
              "</div>\n",
              "      <button class=\"colab-df-convert\" onclick=\"convertToInteractive('df-d562010d-56be-4046-b6b0-25ce9efb3509')\"\n",
              "              title=\"Convert this dataframe to an interactive table.\"\n",
              "              style=\"display:none;\">\n",
              "        \n",
              "  <svg xmlns=\"http://www.w3.org/2000/svg\" height=\"24px\"viewBox=\"0 0 24 24\"\n",
              "       width=\"24px\">\n",
              "    <path d=\"M0 0h24v24H0V0z\" fill=\"none\"/>\n",
              "    <path d=\"M18.56 5.44l.94 2.06.94-2.06 2.06-.94-2.06-.94-.94-2.06-.94 2.06-2.06.94zm-11 1L8.5 8.5l.94-2.06 2.06-.94-2.06-.94L8.5 2.5l-.94 2.06-2.06.94zm10 10l.94 2.06.94-2.06 2.06-.94-2.06-.94-.94-2.06-.94 2.06-2.06.94z\"/><path d=\"M17.41 7.96l-1.37-1.37c-.4-.4-.92-.59-1.43-.59-.52 0-1.04.2-1.43.59L10.3 9.45l-7.72 7.72c-.78.78-.78 2.05 0 2.83L4 21.41c.39.39.9.59 1.41.59.51 0 1.02-.2 1.41-.59l7.78-7.78 2.81-2.81c.8-.78.8-2.07 0-2.86zM5.41 20L4 18.59l7.72-7.72 1.47 1.35L5.41 20z\"/>\n",
              "  </svg>\n",
              "      </button>\n",
              "      \n",
              "  <style>\n",
              "    .colab-df-container {\n",
              "      display:flex;\n",
              "      flex-wrap:wrap;\n",
              "      gap: 12px;\n",
              "    }\n",
              "\n",
              "    .colab-df-convert {\n",
              "      background-color: #E8F0FE;\n",
              "      border: none;\n",
              "      border-radius: 50%;\n",
              "      cursor: pointer;\n",
              "      display: none;\n",
              "      fill: #1967D2;\n",
              "      height: 32px;\n",
              "      padding: 0 0 0 0;\n",
              "      width: 32px;\n",
              "    }\n",
              "\n",
              "    .colab-df-convert:hover {\n",
              "      background-color: #E2EBFA;\n",
              "      box-shadow: 0px 1px 2px rgba(60, 64, 67, 0.3), 0px 1px 3px 1px rgba(60, 64, 67, 0.15);\n",
              "      fill: #174EA6;\n",
              "    }\n",
              "\n",
              "    [theme=dark] .colab-df-convert {\n",
              "      background-color: #3B4455;\n",
              "      fill: #D2E3FC;\n",
              "    }\n",
              "\n",
              "    [theme=dark] .colab-df-convert:hover {\n",
              "      background-color: #434B5C;\n",
              "      box-shadow: 0px 1px 3px 1px rgba(0, 0, 0, 0.15);\n",
              "      filter: drop-shadow(0px 1px 2px rgba(0, 0, 0, 0.3));\n",
              "      fill: #FFFFFF;\n",
              "    }\n",
              "  </style>\n",
              "\n",
              "      <script>\n",
              "        const buttonEl =\n",
              "          document.querySelector('#df-d562010d-56be-4046-b6b0-25ce9efb3509 button.colab-df-convert');\n",
              "        buttonEl.style.display =\n",
              "          google.colab.kernel.accessAllowed ? 'block' : 'none';\n",
              "\n",
              "        async function convertToInteractive(key) {\n",
              "          const element = document.querySelector('#df-d562010d-56be-4046-b6b0-25ce9efb3509');\n",
              "          const dataTable =\n",
              "            await google.colab.kernel.invokeFunction('convertToInteractive',\n",
              "                                                     [key], {});\n",
              "          if (!dataTable) return;\n",
              "\n",
              "          const docLinkHtml = 'Like what you see? Visit the ' +\n",
              "            '<a target=\"_blank\" href=https://colab.research.google.com/notebooks/data_table.ipynb>data table notebook</a>'\n",
              "            + ' to learn more about interactive tables.';\n",
              "          element.innerHTML = '';\n",
              "          dataTable['output_type'] = 'display_data';\n",
              "          await google.colab.output.renderOutput(dataTable, element);\n",
              "          const docLink = document.createElement('div');\n",
              "          docLink.innerHTML = docLinkHtml;\n",
              "          element.appendChild(docLink);\n",
              "        }\n",
              "      </script>\n",
              "    </div>\n",
              "  </div>\n",
              "  "
            ]
          },
          "metadata": {},
          "execution_count": 3
        }
      ]
    },
    {
      "cell_type": "markdown",
      "source": [
        "# Step 2. 데이터 전처리하기 (추상적 요약)\n",
        "\n",
        "- 실습에 사용된 전처리 이외에 더 필요한 전처리를 수행하여 텍스트를 정규화 or 정제한다.\n",
        "\n",
        "- 불용어 제거를 선택한다면 길이가 짧은 요약 데이터에 대해서도 불용어를 제거할 것인지 고민해보기"
      ],
      "metadata": {
        "id": "QsCsMslQDqc7"
      }
    },
    {
      "cell_type": "code",
      "source": [
        "# 중복과 null 값 확인 후 제거하기\n",
        "print('text 열에서 중복을 배제한 유일한 샘플의 수 :', data['text'].nunique())\n",
        "print('headlines 열에서 중복을 배제한 유일한 샘플의 수 :', data['headlines'].nunique())\n",
        "\n",
        "# text열은 총 row개수에서 41개를 배제하고, headlines열은 총 row개수에서 121개를 배제한다."
      ],
      "metadata": {
        "colab": {
          "base_uri": "https://localhost:8080/"
        },
        "id": "-ie5YD_REhMZ",
        "outputId": "2eee2059-2dfc-4882-8291-9a5b11040961"
      },
      "execution_count": 4,
      "outputs": [
        {
          "output_type": "stream",
          "name": "stdout",
          "text": [
            "text 열에서 중복을 배제한 유일한 샘플의 수 : 98360\n",
            "headlines 열에서 중복을 배제한 유일한 샘플의 수 : 98280\n"
          ]
        }
      ]
    },
    {
      "cell_type": "code",
      "source": [
        "# 중복제거 시행\n",
        "data.drop_duplicates(subset=['text'], inplace=True)\n",
        "print('전체 샘플수 :', (len(data)))\n",
        "\n",
        "# 위에서 배제한 결과와 똑같이 처리되었다."
      ],
      "metadata": {
        "colab": {
          "base_uri": "https://localhost:8080/"
        },
        "id": "qtp22pJPFv3b",
        "outputId": "189ac320-7d95-41f6-8984-9ddecc64568d"
      },
      "execution_count": 5,
      "outputs": [
        {
          "output_type": "stream",
          "name": "stdout",
          "text": [
            "전체 샘플수 : 98360\n"
          ]
        }
      ]
    },
    {
      "cell_type": "code",
      "source": [
        "# 결측값 확인하기\n",
        "data.isnull().sum()\n",
        "\n",
        "# 다행히 두 컬럼에는 결측치는 존재하지않았다."
      ],
      "metadata": {
        "colab": {
          "base_uri": "https://localhost:8080/"
        },
        "id": "gWd8dQv8GkkU",
        "outputId": "e0150f5e-891b-4c33-b0ff-8636077e1c7b"
      },
      "execution_count": 6,
      "outputs": [
        {
          "output_type": "execute_result",
          "data": {
            "text/plain": [
              "headlines    0\n",
              "text         0\n",
              "dtype: int64"
            ]
          },
          "metadata": {},
          "execution_count": 6
        }
      ]
    },
    {
      "cell_type": "code",
      "source": [
        "# 텍스트 정규화 수행\n",
        "# 같은 의미지만 다른 표현으로 쓰이는 경우도 있다. 연산량을 줄이기 위해 정규화 과정이 필요하다.\n",
        "\n",
        "contractions = {\"ain't\": \"is not\", \"aren't\": \"are not\",\"can't\": \"cannot\", \"'cause\": \"because\", \"could've\": \"could have\", \"couldn't\": \"could not\",\n",
        "                           \"didn't\": \"did not\",  \"doesn't\": \"does not\", \"don't\": \"do not\", \"hadn't\": \"had not\", \"hasn't\": \"has not\", \"haven't\": \"have not\",\n",
        "                           \"he'd\": \"he would\",\"he'll\": \"he will\", \"he's\": \"he is\", \"how'd\": \"how did\", \"how'd'y\": \"how do you\", \"how'll\": \"how will\", \"how's\": \"how is\",\n",
        "                           \"I'd\": \"I would\", \"I'd've\": \"I would have\", \"I'll\": \"I will\", \"I'll've\": \"I will have\",\"I'm\": \"I am\", \"I've\": \"I have\", \"i'd\": \"i would\",\n",
        "                           \"i'd've\": \"i would have\", \"i'll\": \"i will\",  \"i'll've\": \"i will have\",\"i'm\": \"i am\", \"i've\": \"i have\", \"isn't\": \"is not\", \"it'd\": \"it would\",\n",
        "                           \"it'd've\": \"it would have\", \"it'll\": \"it will\", \"it'll've\": \"it will have\",\"it's\": \"it is\", \"let's\": \"let us\", \"ma'am\": \"madam\",\n",
        "                           \"mayn't\": \"may not\", \"might've\": \"might have\",\"mightn't\": \"might not\",\"mightn't've\": \"might not have\", \"must've\": \"must have\",\n",
        "                           \"mustn't\": \"must not\", \"mustn't've\": \"must not have\", \"needn't\": \"need not\", \"needn't've\": \"need not have\",\"o'clock\": \"of the clock\",\n",
        "                           \"oughtn't\": \"ought not\", \"oughtn't've\": \"ought not have\", \"shan't\": \"shall not\", \"sha'n't\": \"shall not\", \"shan't've\": \"shall not have\",\n",
        "                           \"she'd\": \"she would\", \"she'd've\": \"she would have\", \"she'll\": \"she will\", \"she'll've\": \"she will have\", \"she's\": \"she is\",\n",
        "                           \"should've\": \"should have\", \"shouldn't\": \"should not\", \"shouldn't've\": \"should not have\", \"so've\": \"so have\",\"so's\": \"so as\",\n",
        "                           \"this's\": \"this is\",\"that'd\": \"that would\", \"that'd've\": \"that would have\", \"that's\": \"that is\", \"there'd\": \"there would\",\n",
        "                           \"there'd've\": \"there would have\", \"there's\": \"there is\", \"here's\": \"here is\",\"they'd\": \"they would\", \"they'd've\": \"they would have\",\n",
        "                           \"they'll\": \"they will\", \"they'll've\": \"they will have\", \"they're\": \"they are\", \"they've\": \"they have\", \"to've\": \"to have\",\n",
        "                           \"wasn't\": \"was not\", \"we'd\": \"we would\", \"we'd've\": \"we would have\", \"we'll\": \"we will\", \"we'll've\": \"we will have\", \"we're\": \"we are\",\n",
        "                           \"we've\": \"we have\", \"weren't\": \"were not\", \"what'll\": \"what will\", \"what'll've\": \"what will have\", \"what're\": \"what are\",\n",
        "                           \"what's\": \"what is\", \"what've\": \"what have\", \"when's\": \"when is\", \"when've\": \"when have\", \"where'd\": \"where did\", \"where's\": \"where is\",\n",
        "                           \"where've\": \"where have\", \"who'll\": \"who will\", \"who'll've\": \"who will have\", \"who's\": \"who is\", \"who've\": \"who have\",\n",
        "                           \"why's\": \"why is\", \"why've\": \"why have\", \"will've\": \"will have\", \"won't\": \"will not\", \"won't've\": \"will not have\",\n",
        "                           \"would've\": \"would have\", \"wouldn't\": \"would not\", \"wouldn't've\": \"would not have\", \"y'all\": \"you all\",\n",
        "                           \"y'all'd\": \"you all would\",\"y'all'd've\": \"you all would have\",\"y'all're\": \"you all are\",\"y'all've\": \"you all have\",\n",
        "                           \"you'd\": \"you would\", \"you'd've\": \"you would have\", \"you'll\": \"you will\", \"you'll've\": \"you will have\",\n",
        "                           \"you're\": \"you are\", \"you've\": \"you have\"}\n",
        "\n",
        "print(\"정규화 사전의 수: \", len(contractions))"
      ],
      "metadata": {
        "colab": {
          "base_uri": "https://localhost:8080/"
        },
        "id": "zhudpgp_Hdys",
        "outputId": "f320bc03-da09-4f92-9f7d-5a38c98d6286"
      },
      "execution_count": 7,
      "outputs": [
        {
          "output_type": "stream",
          "name": "stdout",
          "text": [
            "정규화 사전의 수:  120\n"
          ]
        }
      ]
    },
    {
      "cell_type": "code",
      "source": [
        "# 불용어 확인\n",
        "# NLTK에서 미리 정의하여 제공하고 있는 불용어는 총 179개\n",
        "print('불용어 개수 :', len(stopwords.words('english')))\n",
        "print(stopwords.words('english'))"
      ],
      "metadata": {
        "colab": {
          "base_uri": "https://localhost:8080/"
        },
        "id": "7JN8qWnrISLb",
        "outputId": "c572e6ba-e76a-487f-8f0d-17229c410c54"
      },
      "execution_count": 8,
      "outputs": [
        {
          "output_type": "stream",
          "name": "stdout",
          "text": [
            "불용어 개수 : 179\n",
            "['i', 'me', 'my', 'myself', 'we', 'our', 'ours', 'ourselves', 'you', \"you're\", \"you've\", \"you'll\", \"you'd\", 'your', 'yours', 'yourself', 'yourselves', 'he', 'him', 'his', 'himself', 'she', \"she's\", 'her', 'hers', 'herself', 'it', \"it's\", 'its', 'itself', 'they', 'them', 'their', 'theirs', 'themselves', 'what', 'which', 'who', 'whom', 'this', 'that', \"that'll\", 'these', 'those', 'am', 'is', 'are', 'was', 'were', 'be', 'been', 'being', 'have', 'has', 'had', 'having', 'do', 'does', 'did', 'doing', 'a', 'an', 'the', 'and', 'but', 'if', 'or', 'because', 'as', 'until', 'while', 'of', 'at', 'by', 'for', 'with', 'about', 'against', 'between', 'into', 'through', 'during', 'before', 'after', 'above', 'below', 'to', 'from', 'up', 'down', 'in', 'out', 'on', 'off', 'over', 'under', 'again', 'further', 'then', 'once', 'here', 'there', 'when', 'where', 'why', 'how', 'all', 'any', 'both', 'each', 'few', 'more', 'most', 'other', 'some', 'such', 'no', 'nor', 'not', 'only', 'own', 'same', 'so', 'than', 'too', 'very', 's', 't', 'can', 'will', 'just', 'don', \"don't\", 'should', \"should've\", 'now', 'd', 'll', 'm', 'o', 're', 've', 'y', 'ain', 'aren', \"aren't\", 'couldn', \"couldn't\", 'didn', \"didn't\", 'doesn', \"doesn't\", 'hadn', \"hadn't\", 'hasn', \"hasn't\", 'haven', \"haven't\", 'isn', \"isn't\", 'ma', 'mightn', \"mightn't\", 'mustn', \"mustn't\", 'needn', \"needn't\", 'shan', \"shan't\", 'shouldn', \"shouldn't\", 'wasn', \"wasn't\", 'weren', \"weren't\", 'won', \"won't\", 'wouldn', \"wouldn't\"]\n"
          ]
        }
      ]
    },
    {
      "cell_type": "code",
      "source": [
        "# 데이터 전처리 함수 구현\n",
        "def preprocess_sentence(sentence, remove_stopwords=True):\n",
        "    sentence = sentence.lower() # 텍스트 소문자화\n",
        "    sentence = BeautifulSoup(sentence, \"lxml\").text # <br />, <a href = ...> 등의 html 태그 제거\n",
        "    sentence = re.sub(r'\\([^)]*\\)', '', sentence) # 괄호로 닫힌 문자열 (...) 제거 Ex) my husband (and myself!) for => my husband for\n",
        "    sentence = re.sub('\"','', sentence) # 쌍따옴표 \" 제거\n",
        "    sentence = ' '.join([contractions[t] if t in contractions else t for t in sentence.split(\" \")]) # 약어 정규화\n",
        "    sentence = re.sub(r\"'s\\b\",\"\", sentence) # 소유격 제거. Ex) roland's -> roland\n",
        "    sentence = re.sub(\"[^a-zA-Z]\", \" \", sentence) # 영어 외 문자(숫자, 특수문자 등) 공백으로 변환\n",
        "    sentence = re.sub('[m]{2,}', 'mm', sentence) # m이 3개 이상이면 2개로 변경. Ex) ummmmmmm yeah -> umm yeah\n",
        "    \n",
        "    # 불용어 제거 (Text)\n",
        "    if remove_stopwords:\n",
        "        tokens = ' '.join(word for word in sentence.split() if not word in stopwords.words('english') if len(word) > 1)\n",
        "    # 불용어 미제거 (Summary)\n",
        "    else:\n",
        "        tokens = ' '.join(word for word in sentence.split() if len(word) > 1)\n",
        "    return tokens"
      ],
      "metadata": {
        "id": "71r0kpA9IpwB"
      },
      "execution_count": 9,
      "outputs": []
    },
    {
      "cell_type": "code",
      "source": [
        "# 전처리 전, 후의 결과 확인\n",
        "temp_text = 'Everything I bought was great, infact I ordered twice and the third ordered was<br />for my mother and father.'\n",
        "temp_summary = 'our Great way to start (or finish) the day!!!'\n",
        "\n",
        "print(\"text: \", preprocess_sentence(temp_text))\n",
        "print(\"headlines:\", preprocess_sentence(temp_summary, False))  # 불용어를 제거하지 않습니다.\n",
        "\n",
        "# 결과를 보면 불용어를 제거하지 않은 것이 확인된다."
      ],
      "metadata": {
        "colab": {
          "base_uri": "https://localhost:8080/"
        },
        "id": "A37vg8VKI07P",
        "outputId": "fd9aea27-a0f0-4e55-eaec-935a7bddf4e0"
      },
      "execution_count": 10,
      "outputs": [
        {
          "output_type": "stream",
          "name": "stdout",
          "text": [
            "text:  everything bought great infact ordered twice third ordered wasfor mother father\n",
            "headlines: our great way to start the day\n"
          ]
        }
      ]
    },
    {
      "cell_type": "code",
      "source": [
        "# 전체 Text 데이터에 대한 전처리\n",
        "from tqdm import tqdm\n",
        "clean_text = []\n",
        "\n",
        "for s in tqdm(data['text']):\n",
        "  clean_text.append(preprocess_sentence(s))\n",
        "\n",
        "# 전처리 후 출력\n",
        "print(\"text 전처리 후 결과: \", clean_text[:5])"
      ],
      "metadata": {
        "colab": {
          "base_uri": "https://localhost:8080/"
        },
        "id": "_WSDsZEjJSJ7",
        "outputId": "98065911-43b6-43cf-d3a2-f29ae042b7f1"
      },
      "execution_count": 11,
      "outputs": [
        {
          "output_type": "stream",
          "name": "stderr",
          "text": [
            "100%|██████████| 98360/98360 [09:02<00:00, 181.39it/s]"
          ]
        },
        {
          "output_type": "stream",
          "name": "stdout",
          "text": [
            "text 전처리 후 결과:  ['saurav kant alumnus upgrad iiit pg program machine learning artificial intelligence sr systems engineer infosys almost years work experience program upgrad degree career support helped transition data scientist tech mahindra salary hike upgrad online power learning powered lakh careers', 'kunal shah credit card bill payment platform cred gave users chance win free food swiggy one year pranav kaushik delhi techie bagged reward spending cred coins users get one cred coin per rupee bill paid used avail rewards brands like ixigo bookmyshow ubereats cult fit', 'new zealand defeated india wickets fourth odi hamilton thursday win first match five match odi series india lost international match rohit sharma captaincy consecutive victories dating back march match witnessed india getting seventh lowest total odi cricket history', 'aegon life iterm insurance plan customers enjoy tax benefits premiums paid save taxes plan provides life cover age years also customers options insure critical illnesses disability accidental death benefit rider life cover age years', 'speaking sexual harassment allegations rajkumar hirani sonam kapoor said known hirani many years true metoo movement get derailed metoo movement always believe woman case need reserve judgment added hirani accused assistant worked sanju']\n"
          ]
        },
        {
          "output_type": "stream",
          "name": "stderr",
          "text": [
            "\n"
          ]
        }
      ]
    },
    {
      "cell_type": "code",
      "source": [
        "# 전체 headlines 데이터에 대한 전처리 \n",
        "clean_headlines = []\n",
        "\n",
        "for s in tqdm(data['headlines']):\n",
        "  clean_headlines.append(preprocess_sentence(s, False))\n",
        "\n",
        "print(\"headlines 전처리 후 결과: \", clean_headlines[:5])"
      ],
      "metadata": {
        "colab": {
          "base_uri": "https://localhost:8080/"
        },
        "id": "knrCnTefLjlA",
        "outputId": "5f3b505c-81d7-4390-d8a6-70cf900ebcb7"
      },
      "execution_count": 12,
      "outputs": [
        {
          "output_type": "stream",
          "name": "stderr",
          "text": [
            "100%|██████████| 98360/98360 [00:17<00:00, 5522.91it/s]"
          ]
        },
        {
          "output_type": "stream",
          "name": "stdout",
          "text": [
            "headlines 전처리 후 결과:  ['upgrad learner switches to career in ml al with salary hike', 'delhi techie wins free food from swiggy for one year on cred', 'new zealand end rohit sharma led india match winning streak', 'aegon life iterm insurance plan helps customers save tax', 'have known hirani for yrs what if metoo claims are not true sonam']\n"
          ]
        },
        {
          "output_type": "stream",
          "name": "stderr",
          "text": [
            "\n"
          ]
        }
      ]
    },
    {
      "cell_type": "code",
      "source": [
        "# 빈 샘플이 있는지 재확인\n",
        "# 전처리 후의 결과를 다시 데이터프레임에 저장\n",
        "data['text'] = clean_text\n",
        "data['headlines'] = clean_headlines\n",
        "\n",
        "# 빈 값은 ''으로 변환\n",
        "data.replace('', np.nan, inplace=True)"
      ],
      "metadata": {
        "id": "vkC5FXDJMdlC"
      },
      "execution_count": 13,
      "outputs": []
    },
    {
      "cell_type": "code",
      "source": [
        "# # 결측치 확인\n",
        "data.isnull().sum()\n",
        "\n",
        "# 결측치 없는 것으로 확인됨."
      ],
      "metadata": {
        "colab": {
          "base_uri": "https://localhost:8080/"
        },
        "id": "YyaHk3tEMmGz",
        "outputId": "1931051e-66b8-439b-fb3d-caad3208bfa4"
      },
      "execution_count": 14,
      "outputs": [
        {
          "output_type": "execute_result",
          "data": {
            "text/plain": [
              "headlines    0\n",
              "text         0\n",
              "dtype: int64"
            ]
          },
          "metadata": {},
          "execution_count": 14
        }
      ]
    },
    {
      "cell_type": "code",
      "source": [
        "# 데이터 분리를 위한 sample의 최대 길이 정하기\n",
        "\n",
        "# 길이 분포 출력\n",
        "import matplotlib.pyplot as plt\n",
        "\n",
        "text_len = [len(s.split()) for s in data['text']]\n",
        "headlines_len = [len(s.split()) for s in data['headlines']]\n",
        "\n",
        "print('텍스트의 최소 길이 : {}'.format(np.min(text_len)))\n",
        "print('텍스트의 최대 길이 : {}'.format(np.max(text_len)))\n",
        "print('텍스트의 평균 길이 : {}'.format(np.mean(text_len)))\n",
        "print('헤드라인의 최소 길이 : {}'.format(np.min(headlines_len)))\n",
        "print('헤드라인의 최대 길이 : {}'.format(np.max(headlines_len)))\n",
        "print('헤드라인의 평균 길이 : {}'.format(np.mean(headlines_len)))\n",
        "\n",
        "plt.subplot(1,2,1)\n",
        "plt.boxplot(text_len)\n",
        "plt.title('text')\n",
        "plt.subplot(1,2,2)\n",
        "plt.boxplot(headlines_len)\n",
        "plt.title('headlines')\n",
        "plt.tight_layout()\n",
        "plt.show()\n",
        "\n",
        "plt.title('text')\n",
        "plt.hist(text_len, bins = 40)\n",
        "plt.xlabel('length of samples')\n",
        "plt.ylabel('number of samples')\n",
        "plt.show()\n",
        "\n",
        "plt.title('headlines')\n",
        "plt.hist(headlines_len, bins = 40)\n",
        "plt.xlabel('length of samples')\n",
        "plt.ylabel('number of samples')\n",
        "plt.show()\n",
        "\n",
        "# 본문과 헤드라인의 길이 분포를 확인하고 적절한 max_len을 지정해야한다."
      ],
      "metadata": {
        "colab": {
          "base_uri": "https://localhost:8080/",
          "height": 961
        },
        "id": "mRGAVmNTMwx2",
        "outputId": "9c90e330-aabf-4d2f-eb95-944738fcb578"
      },
      "execution_count": 15,
      "outputs": [
        {
          "output_type": "stream",
          "name": "stdout",
          "text": [
            "텍스트의 최소 길이 : 1\n",
            "텍스트의 최대 길이 : 60\n",
            "텍스트의 평균 길이 : 35.09968483123221\n",
            "헤드라인의 최소 길이 : 1\n",
            "헤드라인의 최대 길이 : 16\n",
            "헤드라인의 평균 길이 : 9.299532330215534\n"
          ]
        },
        {
          "output_type": "display_data",
          "data": {
            "text/plain": [
              "<Figure size 432x288 with 2 Axes>"
            ],
            "image/png": "[encoded data removed]"
          },
          "metadata": {
            "needs_background": "light"
          }
        },
        {
          "output_type": "display_data",
          "data": {
            "text/plain": [
              "<Figure size 432x288 with 1 Axes>"
            ],
            "image/png": "[encoded data removed]"
          },
          "metadata": {
            "needs_background": "light"
          }
        },
        {
          "output_type": "display_data",
          "data": {
            "text/plain": [
              "<Figure size 432x288 with 1 Axes>"
            ],
            "image/png": "[encoded data removed]"
          },
          "metadata": {
            "needs_background": "light"
          }
        }
      ]
    },
    {
      "cell_type": "code",
      "source": [
        "# 첫 번째 시도\n",
        "# Text 최대 길이\n",
        "# 위 그래프를 참고할때 본문은 45, 헤드라인은 12로 결정하였다\n",
        "text_max_len = 45\n",
        "headlines_max_len = 12"
      ],
      "metadata": {
        "id": "jhdiDvENOXq0"
      },
      "execution_count": null,
      "outputs": []
    },
    {
      "cell_type": "code",
      "source": [
        "# 두 번째 시도\n",
        "# Text 최대 길이\n",
        "# 위 그래프를 참고할때 본문은 45, 헤드라인은 12로 결정하였다\n",
        "text_max_len = 40\n",
        "headlines_max_len = 11"
      ],
      "metadata": {
        "id": "2F0mqVVS026z"
      },
      "execution_count": null,
      "outputs": []
    },
    {
      "cell_type": "code",
      "source": [
        "# 세 번째 시도\n",
        "# Text 최대 길이\n",
        "# 위 그래프를 참고할때 본문은 45, 헤드라인은 12로 결정하였다\n",
        "text_max_len = 38\n",
        "headlines_max_len = 11"
      ],
      "metadata": {
        "id": "lgxypE3EjUBM"
      },
      "execution_count": 16,
      "outputs": []
    },
    {
      "cell_type": "code",
      "source": [
        "# 샘플 길이에따른 데이터 분포 확인\n",
        "def below_threshold_len(max_len, nested_list):\n",
        "  cnt = 0\n",
        "  for s in nested_list:\n",
        "    if(len(s.split()) <= max_len):\n",
        "      cnt = cnt + 1\n",
        "  print('전체 샘플 중 길이가 %s 이하인 샘플의 비율: %s'%(max_len, (cnt / len(nested_list))))"
      ],
      "metadata": {
        "id": "wz4LFYEROm57"
      },
      "execution_count": 17,
      "outputs": []
    },
    {
      "cell_type": "code",
      "source": [
        "# 세 번째 시도\n",
        "below_threshold_len(text_max_len, data['text'])\n",
        "below_threshold_len(headlines_max_len, data['headlines'])\n",
        "\n",
        "# 각각 45과 11로 패딩을 하게 되면 해당 길이보다 긴 샘플들은 내용이 잘리게 되는데, \n",
        "# Text 열의 경우에는 약 19%의 샘플들이 내용이 망가지게 된다고 한다."
      ],
      "metadata": {
        "colab": {
          "base_uri": "https://localhost:8080/"
        },
        "id": "wXbxy58qOpJq",
        "outputId": "2b9f96a8-ad78-47f3-aa3a-d2e8bf951cbe"
      },
      "execution_count": 18,
      "outputs": [
        {
          "output_type": "stream",
          "name": "stdout",
          "text": [
            "전체 샘플 중 길이가 38 이하인 샘플의 비율: 0.8163379422529483\n",
            "전체 샘플 중 길이가 11 이하인 샘플의 비율: 0.9449877999186661\n"
          ]
        }
      ]
    },
    {
      "cell_type": "code",
      "source": [
        "# max_len 길이를 초과하는 데이터 제외시키기\n",
        "data = data[data['text'].apply(lambda x: len(x.split()) <= text_max_len)]\n",
        "data = data[data['headlines'].apply(lambda x: len(x.split()) <= headlines_max_len)]\n",
        "print('전체 샘플수 :', (len(data)))\n",
        "\n",
        "# 첫 번째 시도에서 기존의 98360 sample에서 96871개로 줄어들었다.\n",
        "# 두 번째 시도에서 기존의 98360 sample에서 85843개로 줄어들었다.\n",
        "# 세 번째 시도에서 기존의 98360 sample에서 75754개로 줄어들었다."
      ],
      "metadata": {
        "colab": {
          "base_uri": "https://localhost:8080/"
        },
        "id": "Ojy3fkv1QJEq",
        "outputId": "7fd01db3-122f-43ae-d412-af76fd4e8e87"
      },
      "execution_count": 19,
      "outputs": [
        {
          "output_type": "stream",
          "name": "stdout",
          "text": [
            "전체 샘플수 : 75754\n"
          ]
        }
      ]
    },
    {
      "cell_type": "code",
      "source": [
        "# data sample 확인\n",
        "data.sample(5)"
      ],
      "metadata": {
        "colab": {
          "base_uri": "https://localhost:8080/",
          "height": 206
        },
        "id": "c1HArk-kQgR0",
        "outputId": "fbbcf8a9-85a5-40d0-a271-7cbec4e80fa9"
      },
      "execution_count": 20,
      "outputs": [
        {
          "output_type": "execute_result",
          "data": {
            "text/plain": [
              "                                               headlines  \\\n",
              "61697  mla commenting on pm job twitter users troll a...   \n",
              "94717  soldiers trapped in avalanches in batalik rescued   \n",
              "57389  stokes named in england odi squad months after...   \n",
              "76105  us transgender troops sue trump over military ban   \n",
              "94801  lakh withdrawal limit will not apply to banks ...   \n",
              "\n",
              "                                                    text  \n",
              "61697  reacting ajit agarkar comments india must repl...  \n",
              "94717  five soldiers trapped army post thursday snowf...  \n",
              "57389  england ben stokes alex hales named england sq...  \n",
              "76105  five transgender members us military sued pres...  \n",
              "94801  ban cash transactions excess lakh applicable w...  "
            ],
            "text/html": [
              "\n",
              "  <div id=\"df-b4ad1ab2-4ba2-43a2-99e6-4a1dfff1d0ec\">\n",
              "    <div class=\"colab-df-container\">\n",
              "      <div>\n",
              "<style scoped>\n",
              "    .dataframe tbody tr th:only-of-type {\n",
              "        vertical-align: middle;\n",
              "    }\n",
              "\n",
              "    .dataframe tbody tr th {\n",
              "        vertical-align: top;\n",
              "    }\n",
              "\n",
              "    .dataframe thead th {\n",
              "        text-align: right;\n",
              "    }\n",
              "</style>\n",
              "<table border=\"1\" class=\"dataframe\">\n",
              "  <thead>\n",
              "    <tr style=\"text-align: right;\">\n",
              "      <th></th>\n",
              "      <th>headlines</th>\n",
              "      <th>text</th>\n",
              "    </tr>\n",
              "  </thead>\n",
              "  <tbody>\n",
              "    <tr>\n",
              "      <th>61697</th>\n",
              "      <td>mla commenting on pm job twitter users troll a...</td>\n",
              "      <td>reacting ajit agarkar comments india must repl...</td>\n",
              "    </tr>\n",
              "    <tr>\n",
              "      <th>94717</th>\n",
              "      <td>soldiers trapped in avalanches in batalik rescued</td>\n",
              "      <td>five soldiers trapped army post thursday snowf...</td>\n",
              "    </tr>\n",
              "    <tr>\n",
              "      <th>57389</th>\n",
              "      <td>stokes named in england odi squad months after...</td>\n",
              "      <td>england ben stokes alex hales named england sq...</td>\n",
              "    </tr>\n",
              "    <tr>\n",
              "      <th>76105</th>\n",
              "      <td>us transgender troops sue trump over military ban</td>\n",
              "      <td>five transgender members us military sued pres...</td>\n",
              "    </tr>\n",
              "    <tr>\n",
              "      <th>94801</th>\n",
              "      <td>lakh withdrawal limit will not apply to banks ...</td>\n",
              "      <td>ban cash transactions excess lakh applicable w...</td>\n",
              "    </tr>\n",
              "  </tbody>\n",
              "</table>\n",
              "</div>\n",
              "      <button class=\"colab-df-convert\" onclick=\"convertToInteractive('df-b4ad1ab2-4ba2-43a2-99e6-4a1dfff1d0ec')\"\n",
              "              title=\"Convert this dataframe to an interactive table.\"\n",
              "              style=\"display:none;\">\n",
              "        \n",
              "  <svg xmlns=\"http://www.w3.org/2000/svg\" height=\"24px\"viewBox=\"0 0 24 24\"\n",
              "       width=\"24px\">\n",
              "    <path d=\"M0 0h24v24H0V0z\" fill=\"none\"/>\n",
              "    <path d=\"M18.56 5.44l.94 2.06.94-2.06 2.06-.94-2.06-.94-.94-2.06-.94 2.06-2.06.94zm-11 1L8.5 8.5l.94-2.06 2.06-.94-2.06-.94L8.5 2.5l-.94 2.06-2.06.94zm10 10l.94 2.06.94-2.06 2.06-.94-2.06-.94-.94-2.06-.94 2.06-2.06.94z\"/><path d=\"M17.41 7.96l-1.37-1.37c-.4-.4-.92-.59-1.43-.59-.52 0-1.04.2-1.43.59L10.3 9.45l-7.72 7.72c-.78.78-.78 2.05 0 2.83L4 21.41c.39.39.9.59 1.41.59.51 0 1.02-.2 1.41-.59l7.78-7.78 2.81-2.81c.8-.78.8-2.07 0-2.86zM5.41 20L4 18.59l7.72-7.72 1.47 1.35L5.41 20z\"/>\n",
              "  </svg>\n",
              "      </button>\n",
              "      \n",
              "  <style>\n",
              "    .colab-df-container {\n",
              "      display:flex;\n",
              "      flex-wrap:wrap;\n",
              "      gap: 12px;\n",
              "    }\n",
              "\n",
              "    .colab-df-convert {\n",
              "      background-color: #E8F0FE;\n",
              "      border: none;\n",
              "      border-radius: 50%;\n",
              "      cursor: pointer;\n",
              "      display: none;\n",
              "      fill: #1967D2;\n",
              "      height: 32px;\n",
              "      padding: 0 0 0 0;\n",
              "      width: 32px;\n",
              "    }\n",
              "\n",
              "    .colab-df-convert:hover {\n",
              "      background-color: #E2EBFA;\n",
              "      box-shadow: 0px 1px 2px rgba(60, 64, 67, 0.3), 0px 1px 3px 1px rgba(60, 64, 67, 0.15);\n",
              "      fill: #174EA6;\n",
              "    }\n",
              "\n",
              "    [theme=dark] .colab-df-convert {\n",
              "      background-color: #3B4455;\n",
              "      fill: #D2E3FC;\n",
              "    }\n",
              "\n",
              "    [theme=dark] .colab-df-convert:hover {\n",
              "      background-color: #434B5C;\n",
              "      box-shadow: 0px 1px 3px 1px rgba(0, 0, 0, 0.15);\n",
              "      filter: drop-shadow(0px 1px 2px rgba(0, 0, 0, 0.3));\n",
              "      fill: #FFFFFF;\n",
              "    }\n",
              "  </style>\n",
              "\n",
              "      <script>\n",
              "        const buttonEl =\n",
              "          document.querySelector('#df-b4ad1ab2-4ba2-43a2-99e6-4a1dfff1d0ec button.colab-df-convert');\n",
              "        buttonEl.style.display =\n",
              "          google.colab.kernel.accessAllowed ? 'block' : 'none';\n",
              "\n",
              "        async function convertToInteractive(key) {\n",
              "          const element = document.querySelector('#df-b4ad1ab2-4ba2-43a2-99e6-4a1dfff1d0ec');\n",
              "          const dataTable =\n",
              "            await google.colab.kernel.invokeFunction('convertToInteractive',\n",
              "                                                     [key], {});\n",
              "          if (!dataTable) return;\n",
              "\n",
              "          const docLinkHtml = 'Like what you see? Visit the ' +\n",
              "            '<a target=\"_blank\" href=https://colab.research.google.com/notebooks/data_table.ipynb>data table notebook</a>'\n",
              "            + ' to learn more about interactive tables.';\n",
              "          element.innerHTML = '';\n",
              "          dataTable['output_type'] = 'display_data';\n",
              "          await google.colab.output.renderOutput(dataTable, element);\n",
              "          const docLink = document.createElement('div');\n",
              "          docLink.innerHTML = docLinkHtml;\n",
              "          element.appendChild(docLink);\n",
              "        }\n",
              "      </script>\n",
              "    </div>\n",
              "  </div>\n",
              "  "
            ]
          },
          "metadata": {},
          "execution_count": 20
        }
      ]
    },
    {
      "cell_type": "code",
      "source": [
        "# 시작 토큰과 종료 토큰 추가하기\n",
        "\n",
        "data['decoder_input'] = data['headlines'].apply(lambda x: 'sostoken ' + x)\n",
        "data['decoder_target'] = data['headlines'].apply(lambda x: x + ' eostoken')\n",
        "data.head()"
      ],
      "metadata": {
        "colab": {
          "base_uri": "https://localhost:8080/",
          "height": 337
        },
        "id": "HXLTcZUXQpDp",
        "outputId": "f09b5a01-3c11-4fc2-d051-f3ec8f17e6e7"
      },
      "execution_count": 21,
      "outputs": [
        {
          "output_type": "execute_result",
          "data": {
            "text/plain": [
              "                                           headlines  \\\n",
              "2  new zealand end rohit sharma led india match w...   \n",
              "3  aegon life iterm insurance plan helps customer...   \n",
              "5  rahat fateh ali khan denies getting notice for...   \n",
              "7  govt directs alok verma to join work day befor...   \n",
              "8  called pm modi sir times to satisfy his ego an...   \n",
              "\n",
              "                                                text  \\\n",
              "2  new zealand defeated india wickets fourth odi ...   \n",
              "3  aegon life iterm insurance plan customers enjo...   \n",
              "5  pakistani singer rahat fateh ali khan denied r...   \n",
              "7  weeks ex cbi director alok verma told departme...   \n",
              "8  andhra pradesh cm chandrababu naidu said met u...   \n",
              "\n",
              "                                       decoder_input  \\\n",
              "2  sostoken new zealand end rohit sharma led indi...   \n",
              "3  sostoken aegon life iterm insurance plan helps...   \n",
              "5  sostoken rahat fateh ali khan denies getting n...   \n",
              "7  sostoken govt directs alok verma to join work ...   \n",
              "8  sostoken called pm modi sir times to satisfy h...   \n",
              "\n",
              "                                      decoder_target  \n",
              "2  new zealand end rohit sharma led india match w...  \n",
              "3  aegon life iterm insurance plan helps customer...  \n",
              "5  rahat fateh ali khan denies getting notice for...  \n",
              "7  govt directs alok verma to join work day befor...  \n",
              "8  called pm modi sir times to satisfy his ego an...  "
            ],
            "text/html": [
              "\n",
              "  <div id=\"df-5e3cd5f8-2947-4712-b35e-35520b5a82b0\">\n",
              "    <div class=\"colab-df-container\">\n",
              "      <div>\n",
              "<style scoped>\n",
              "    .dataframe tbody tr th:only-of-type {\n",
              "        vertical-align: middle;\n",
              "    }\n",
              "\n",
              "    .dataframe tbody tr th {\n",
              "        vertical-align: top;\n",
              "    }\n",
              "\n",
              "    .dataframe thead th {\n",
              "        text-align: right;\n",
              "    }\n",
              "</style>\n",
              "<table border=\"1\" class=\"dataframe\">\n",
              "  <thead>\n",
              "    <tr style=\"text-align: right;\">\n",
              "      <th></th>\n",
              "      <th>headlines</th>\n",
              "      <th>text</th>\n",
              "      <th>decoder_input</th>\n",
              "      <th>decoder_target</th>\n",
              "    </tr>\n",
              "  </thead>\n",
              "  <tbody>\n",
              "    <tr>\n",
              "      <th>2</th>\n",
              "      <td>new zealand end rohit sharma led india match w...</td>\n",
              "      <td>new zealand defeated india wickets fourth odi ...</td>\n",
              "      <td>sostoken new zealand end rohit sharma led indi...</td>\n",
              "      <td>new zealand end rohit sharma led india match w...</td>\n",
              "    </tr>\n",
              "    <tr>\n",
              "      <th>3</th>\n",
              "      <td>aegon life iterm insurance plan helps customer...</td>\n",
              "      <td>aegon life iterm insurance plan customers enjo...</td>\n",
              "      <td>sostoken aegon life iterm insurance plan helps...</td>\n",
              "      <td>aegon life iterm insurance plan helps customer...</td>\n",
              "    </tr>\n",
              "    <tr>\n",
              "      <th>5</th>\n",
              "      <td>rahat fateh ali khan denies getting notice for...</td>\n",
              "      <td>pakistani singer rahat fateh ali khan denied r...</td>\n",
              "      <td>sostoken rahat fateh ali khan denies getting n...</td>\n",
              "      <td>rahat fateh ali khan denies getting notice for...</td>\n",
              "    </tr>\n",
              "    <tr>\n",
              "      <th>7</th>\n",
              "      <td>govt directs alok verma to join work day befor...</td>\n",
              "      <td>weeks ex cbi director alok verma told departme...</td>\n",
              "      <td>sostoken govt directs alok verma to join work ...</td>\n",
              "      <td>govt directs alok verma to join work day befor...</td>\n",
              "    </tr>\n",
              "    <tr>\n",
              "      <th>8</th>\n",
              "      <td>called pm modi sir times to satisfy his ego an...</td>\n",
              "      <td>andhra pradesh cm chandrababu naidu said met u...</td>\n",
              "      <td>sostoken called pm modi sir times to satisfy h...</td>\n",
              "      <td>called pm modi sir times to satisfy his ego an...</td>\n",
              "    </tr>\n",
              "  </tbody>\n",
              "</table>\n",
              "</div>\n",
              "      <button class=\"colab-df-convert\" onclick=\"convertToInteractive('df-5e3cd5f8-2947-4712-b35e-35520b5a82b0')\"\n",
              "              title=\"Convert this dataframe to an interactive table.\"\n",
              "              style=\"display:none;\">\n",
              "        \n",
              "  <svg xmlns=\"http://www.w3.org/2000/svg\" height=\"24px\"viewBox=\"0 0 24 24\"\n",
              "       width=\"24px\">\n",
              "    <path d=\"M0 0h24v24H0V0z\" fill=\"none\"/>\n",
              "    <path d=\"M18.56 5.44l.94 2.06.94-2.06 2.06-.94-2.06-.94-.94-2.06-.94 2.06-2.06.94zm-11 1L8.5 8.5l.94-2.06 2.06-.94-2.06-.94L8.5 2.5l-.94 2.06-2.06.94zm10 10l.94 2.06.94-2.06 2.06-.94-2.06-.94-.94-2.06-.94 2.06-2.06.94z\"/><path d=\"M17.41 7.96l-1.37-1.37c-.4-.4-.92-.59-1.43-.59-.52 0-1.04.2-1.43.59L10.3 9.45l-7.72 7.72c-.78.78-.78 2.05 0 2.83L4 21.41c.39.39.9.59 1.41.59.51 0 1.02-.2 1.41-.59l7.78-7.78 2.81-2.81c.8-.78.8-2.07 0-2.86zM5.41 20L4 18.59l7.72-7.72 1.47 1.35L5.41 20z\"/>\n",
              "  </svg>\n",
              "      </button>\n",
              "      \n",
              "  <style>\n",
              "    .colab-df-container {\n",
              "      display:flex;\n",
              "      flex-wrap:wrap;\n",
              "      gap: 12px;\n",
              "    }\n",
              "\n",
              "    .colab-df-convert {\n",
              "      background-color: #E8F0FE;\n",
              "      border: none;\n",
              "      border-radius: 50%;\n",
              "      cursor: pointer;\n",
              "      display: none;\n",
              "      fill: #1967D2;\n",
              "      height: 32px;\n",
              "      padding: 0 0 0 0;\n",
              "      width: 32px;\n",
              "    }\n",
              "\n",
              "    .colab-df-convert:hover {\n",
              "      background-color: #E2EBFA;\n",
              "      box-shadow: 0px 1px 2px rgba(60, 64, 67, 0.3), 0px 1px 3px 1px rgba(60, 64, 67, 0.15);\n",
              "      fill: #174EA6;\n",
              "    }\n",
              "\n",
              "    [theme=dark] .colab-df-convert {\n",
              "      background-color: #3B4455;\n",
              "      fill: #D2E3FC;\n",
              "    }\n",
              "\n",
              "    [theme=dark] .colab-df-convert:hover {\n",
              "      background-color: #434B5C;\n",
              "      box-shadow: 0px 1px 3px 1px rgba(0, 0, 0, 0.15);\n",
              "      filter: drop-shadow(0px 1px 2px rgba(0, 0, 0, 0.3));\n",
              "      fill: #FFFFFF;\n",
              "    }\n",
              "  </style>\n",
              "\n",
              "      <script>\n",
              "        const buttonEl =\n",
              "          document.querySelector('#df-5e3cd5f8-2947-4712-b35e-35520b5a82b0 button.colab-df-convert');\n",
              "        buttonEl.style.display =\n",
              "          google.colab.kernel.accessAllowed ? 'block' : 'none';\n",
              "\n",
              "        async function convertToInteractive(key) {\n",
              "          const element = document.querySelector('#df-5e3cd5f8-2947-4712-b35e-35520b5a82b0');\n",
              "          const dataTable =\n",
              "            await google.colab.kernel.invokeFunction('convertToInteractive',\n",
              "                                                     [key], {});\n",
              "          if (!dataTable) return;\n",
              "\n",
              "          const docLinkHtml = 'Like what you see? Visit the ' +\n",
              "            '<a target=\"_blank\" href=https://colab.research.google.com/notebooks/data_table.ipynb>data table notebook</a>'\n",
              "            + ' to learn more about interactive tables.';\n",
              "          element.innerHTML = '';\n",
              "          dataTable['output_type'] = 'display_data';\n",
              "          await google.colab.output.renderOutput(dataTable, element);\n",
              "          const docLink = document.createElement('div');\n",
              "          docLink.innerHTML = docLinkHtml;\n",
              "          element.appendChild(docLink);\n",
              "        }\n",
              "      </script>\n",
              "    </div>\n",
              "  </div>\n",
              "  "
            ]
          },
          "metadata": {},
          "execution_count": 21
        }
      ]
    },
    {
      "cell_type": "code",
      "source": [
        "# numpy 타입 변환\n",
        "encoder_input = np.array(data['text']) # 인코더의 입력\n",
        "decoder_input = np.array(data['decoder_input']) # 디코더의 입력\n",
        "decoder_target = np.array(data['decoder_target']) # 디코더의 레이블"
      ],
      "metadata": {
        "id": "NMmBz8mNRCXj"
      },
      "execution_count": 22,
      "outputs": []
    },
    {
      "cell_type": "code",
      "source": [
        "# 데이터 분리\n",
        "# 순서가 섞인 정수 시퀀스를 만들어줍니다.\n",
        "indices = np.arange(encoder_input.shape[0])\n",
        "np.random.shuffle(indices)\n",
        "print(indices)"
      ],
      "metadata": {
        "colab": {
          "base_uri": "https://localhost:8080/"
        },
        "id": "1tOgwYGSRlsR",
        "outputId": "1b775e8a-0d76-42b8-892b-9d9b15eb873a"
      },
      "execution_count": 23,
      "outputs": [
        {
          "output_type": "stream",
          "name": "stdout",
          "text": [
            "[22942 65789 35817 ... 55460 15993 13748]\n"
          ]
        }
      ]
    },
    {
      "cell_type": "code",
      "source": [
        "# 정수시퀀스를 사용하여 샘플 순서 정의\n",
        "encoder_input = encoder_input[indices]\n",
        "decoder_input = decoder_input[indices]\n",
        "decoder_target = decoder_target[indices]"
      ],
      "metadata": {
        "id": "6kT3rBQmRs4U"
      },
      "execution_count": 24,
      "outputs": []
    },
    {
      "cell_type": "code",
      "source": [
        "# 훈련 / 테스트 데이터 분리\n",
        "n_of_val = int(len(encoder_input)*0.2)\n",
        "print('테스트 데이터의 수 :', n_of_val)"
      ],
      "metadata": {
        "colab": {
          "base_uri": "https://localhost:8080/"
        },
        "id": "KL13DnYjRvk-",
        "outputId": "0dcbf55d-598c-4516-9c3a-4387ef4a42eb"
      },
      "execution_count": 25,
      "outputs": [
        {
          "output_type": "stream",
          "name": "stdout",
          "text": [
            "테스트 데이터의 수 : 15150\n"
          ]
        }
      ]
    },
    {
      "cell_type": "code",
      "source": [
        "encoder_input_train = encoder_input[:-n_of_val]\n",
        "decoder_input_train = decoder_input[:-n_of_val]\n",
        "decoder_target_train = decoder_target[:-n_of_val]\n",
        "\n",
        "encoder_input_test = encoder_input[-n_of_val:]\n",
        "decoder_input_test = decoder_input[-n_of_val:]\n",
        "decoder_target_test = decoder_target[-n_of_val:]\n",
        "\n",
        "print('훈련 데이터의 개수 :', len(encoder_input_train))\n",
        "print('훈련 레이블의 개수 :', len(decoder_input_train))\n",
        "print('테스트 데이터의 개수 :', len(encoder_input_test))\n",
        "print('테스트 레이블의 개수 :', len(decoder_input_test))"
      ],
      "metadata": {
        "colab": {
          "base_uri": "https://localhost:8080/"
        },
        "id": "P16CLhQ9RzJ-",
        "outputId": "208cbf16-059e-400d-9161-580bf4918cec"
      },
      "execution_count": 26,
      "outputs": [
        {
          "output_type": "stream",
          "name": "stdout",
          "text": [
            "훈련 데이터의 개수 : 60604\n",
            "훈련 레이블의 개수 : 60604\n",
            "테스트 데이터의 개수 : 15150\n",
            "테스트 레이블의 개수 : 15150\n"
          ]
        }
      ]
    },
    {
      "cell_type": "code",
      "source": [
        "# 단어 집합(vocabulary) 만들기 및 정수 인코딩\n",
        "# 훈련 / 테스트 데이터의 단어들을 모두 정수로 바꿔주고 각 단어에 고유한 정수를 맵핑\n",
        "# 이 과정을 단어 집합을 만든다고 표현\n",
        "\n",
        "src_tokenizer = Tokenizer() # 토크나이저 정의\n",
        "src_tokenizer.fit_on_texts(encoder_input_train) # 입력된 데이터로부터 단어 집합 생성"
      ],
      "metadata": {
        "id": "pX68-iYESGeE"
      },
      "execution_count": 27,
      "outputs": []
    },
    {
      "cell_type": "code",
      "source": [
        "# 등장 빈도수에 따른 데이터 분포\n",
        "threshold = 10\n",
        "total_cnt = len(src_tokenizer.word_index) # 단어의 수\n",
        "rare_cnt = 0 # 등장 빈도수가 threshold보다 작은 단어의 개수를 카운트\n",
        "total_freq = 0 # 훈련 데이터의 전체 단어 빈도수 총 합\n",
        "rare_freq = 0 # 등장 빈도수가 threshold보다 작은 단어의 등장 빈도수의 총 합\n",
        "\n",
        "# 단어와 빈도수의 쌍을 key와 value로 받는다.\n",
        "for key, value in src_tokenizer.word_counts.items():\n",
        "  total_freq = total_freq + value\n",
        "\n",
        "  # 단어의 등장 빈도수가 threshold보다 작으면\n",
        "  if(value < threshold):\n",
        "    rare_cnt = rare_cnt + 1\n",
        "    rare_freq = rare_freq + value\n",
        "\n",
        "print('단어 집합(vocabulary)의 크기 :', total_cnt)\n",
        "print('등장 빈도가 %s번 이하인 희귀 단어의 수: %s'%(threshold - 1, rare_cnt))\n",
        "print('단어 집합에서 희귀 단어를 제외시킬 경우의 단어 집합의 크기 %s'%(total_cnt - rare_cnt))\n",
        "print(\"단어 집합에서 희귀 단어의 비율:\", (rare_cnt / total_cnt)*100)\n",
        "print(\"전체 등장 빈도에서 희귀 단어 등장 빈도 비율:\", (rare_freq / total_freq)*100)\n",
        "\n",
        "# 세 번째 시도\n",
        "# 등장빈도가 즉 9회 이하인 단어들은 단어 집합에서 약 74%정도 차지한다.\n",
        "# 단어 집합에서 희귀 단어를 제외시킨 단어 집합의 크기는 15732개이다.\n",
        "# 이를 어림잡아 단어 집합의 크기를 15000개로 제한하기로 결정한다"
      ],
      "metadata": {
        "colab": {
          "base_uri": "https://localhost:8080/"
        },
        "id": "h0iYalPkSKt_",
        "outputId": "843562be-34d1-4fb7-d017-256e32e12312"
      },
      "execution_count": 28,
      "outputs": [
        {
          "output_type": "stream",
          "name": "stdout",
          "text": [
            "단어 집합(vocabulary)의 크기 : 60234\n",
            "등장 빈도가 9번 이하인 희귀 단어의 수: 44527\n",
            "단어 집합에서 희귀 단어를 제외시킬 경우의 단어 집합의 크기 15707\n",
            "단어 집합에서 희귀 단어의 비율: 73.92336554105655\n",
            "전체 등장 빈도에서 희귀 단어 등장 빈도 비율: 5.383904387436972\n"
          ]
        }
      ]
    },
    {
      "cell_type": "markdown",
      "source": [
        "등장 빈도수에 따른 train 데이터 분포\n",
        "1. 첫 번째 시도\n",
        "\n",
        "- 단어 집합(vocabulary)의 크기 : 69078\n",
        "- 등장 빈도가 9번 이하인 희귀 단어의 수: 50829\n",
        "- 단어 집합에서 희귀 단어를 제외시킬 경우의 단어 집합의 크기 18249\n",
        "- 단어 집합에서 희귀 단어의 비율: 73.58203769651698\n",
        "- 전체 등장 빈도에서 희귀 단어 등장 빈도 비율: 4.602950321415036\n",
        "\n",
        "2. 두 번째 시도\n",
        "\n",
        "- 단어 집합(vocabulary)의 크기 : 64671\n",
        "- 등장 빈도가 9번 이하인 희귀 단어의 수: 47635\n",
        "- 단어 집합에서 희귀 단어를 제외시킬 경우의 단어 집합의 크기 17036\n",
        "- 단어 집합에서 희귀 단어의 비율: 73.65743532649874\n",
        "- 전체 등장 빈도에서 희귀 단어 등장 빈도 비율: 4.956828223548855\n",
        "\n",
        "3. 세 번째 시도\n",
        "\n",
        "- 단어 집합(vocabulary)의 크기 : 60253\n",
        "- 등장 빈도가 9번 이하인 희귀 단어의 수: 44521\n",
        "- 단어 집합에서 희귀 단어를 제외시킬 경우의 단어 집합의 크기 15732\n",
        "- 단어 집합에서 희귀 단어의 비율: 73.89009675866762\n",
        "- 전체 등장 빈도에서 희귀 단어 등장 빈도 비율: 5.378231136163988"
      ],
      "metadata": {
        "id": "PVITIalx1S9f"
      }
    },
    {
      "cell_type": "code",
      "source": [
        "# 단어장 생성\n",
        "\n",
        "src_vocab = 15000\n",
        "src_tokenizer = Tokenizer(num_words = src_vocab) # 단어장 크기 17000으로 제한\n",
        "src_tokenizer.fit_on_texts(encoder_input_train) # 단어 집합 재생성"
      ],
      "metadata": {
        "id": "KlPO143hTC6_"
      },
      "execution_count": 29,
      "outputs": []
    },
    {
      "cell_type": "code",
      "source": [
        "# 텍스트 시퀀스를 정수 시퀀스로 변환\n",
        "encoder_input_train = src_tokenizer.texts_to_sequences(encoder_input_train)\n",
        "encoder_input_test = src_tokenizer.texts_to_sequences(encoder_input_test)\n",
        "\n",
        "# 잘 진행되었는지 샘플 출력\n",
        "print(encoder_input_train[:3])"
      ],
      "metadata": {
        "colab": {
          "base_uri": "https://localhost:8080/"
        },
        "id": "HPIeqp5ITHnn",
        "outputId": "e6527cd1-1519-4b63-c1b5-fcd746848e24"
      },
      "execution_count": 30,
      "outputs": [
        {
          "output_type": "stream",
          "name": "stdout",
          "text": [
            "[[502, 21, 578, 412, 580, 5713, 41, 786, 3815, 53, 7905, 27, 6, 37, 152, 55, 7, 559, 1363, 7905, 36, 66, 5489, 989, 6, 7906, 404, 438, 1631, 404, 99, 7905, 810, 129, 29, 3], [41, 19, 1252, 316, 67, 2508, 160, 149, 2225, 24, 2038, 39, 901, 5638, 455, 13564, 1078, 39, 377, 3378, 678, 1078, 2508, 160, 2225, 363, 2038, 8, 3010, 690, 1, 316], [39, 19, 253, 160, 5363, 948, 2156, 642, 5040, 100, 8, 3303, 245, 80, 1603, 6, 2373, 5040, 5363, 122, 665, 1978, 1335, 392, 160, 328, 82, 42, 423, 1889, 1549, 245]]\n"
          ]
        }
      ]
    },
    {
      "cell_type": "code",
      "source": [
        "# headlines 데이터도 동일하게 적용\n",
        "tar_tokenizer = Tokenizer()\n",
        "tar_tokenizer.fit_on_texts(decoder_input_train)"
      ],
      "metadata": {
        "id": "ApkHH267TMAV"
      },
      "execution_count": 31,
      "outputs": []
    },
    {
      "cell_type": "code",
      "source": [
        "threshold = 6\n",
        "total_cnt = len(tar_tokenizer.word_index) # 단어의 수\n",
        "rare_cnt = 0 # 등장 빈도수가 threshold보다 작은 단어의 개수를 카운트\n",
        "total_freq = 0 # 훈련 데이터의 전체 단어 빈도수 총 합\n",
        "rare_freq = 0 # 등장 빈도수가 threshold보다 작은 단어의 등장 빈도수의 총 합\n",
        "\n",
        "# 단어와 빈도수의 쌍(pair)을 key와 value로 받는다.\n",
        "for key, value in tar_tokenizer.word_counts.items():\n",
        "    total_freq = total_freq + value\n",
        "\n",
        "    # 단어의 등장 빈도수가 threshold보다 작으면\n",
        "    if(value < threshold):\n",
        "        rare_cnt = rare_cnt + 1\n",
        "        rare_freq = rare_freq + value\n",
        "\n",
        "print('단어 집합(vocabulary)의 크기 :', total_cnt)\n",
        "print('등장 빈도가 %s번 이하인 희귀 단어의 수: %s'%(threshold - 1, rare_cnt))\n",
        "print('단어 집합에서 희귀 단어를 제외시킬 경우의 단어 집합의 크기 %s'%(total_cnt - rare_cnt))\n",
        "print(\"단어 집합에서 희귀 단어의 비율:\", (rare_cnt / total_cnt)*100)\n",
        "print(\"전체 등장 빈도에서 희귀 단어 등장 빈도 비율:\", (rare_freq / total_freq)*100)\n",
        "\n",
        "# 세번째 시도\n",
        "# 등장빈도가 즉 5회 이하인 단어들은 단어 집합에서 약 66%정도 차지한다.\n",
        "# 단어 집하에서 희귀 단어를 제외시킨 단어 집합의 크기는 9058개이다.\n",
        "# 이를 어림잡아 단어 집합의 크기를 9000개로 제한하기로 결정한다."
      ],
      "metadata": {
        "colab": {
          "base_uri": "https://localhost:8080/"
        },
        "id": "ki3K5PFhTjam",
        "outputId": "84fb3238-1792-45da-9b93-cc8011116e7d"
      },
      "execution_count": 32,
      "outputs": [
        {
          "output_type": "stream",
          "name": "stdout",
          "text": [
            "단어 집합(vocabulary)의 크기 : 27022\n",
            "등장 빈도가 5번 이하인 희귀 단어의 수: 17969\n",
            "단어 집합에서 희귀 단어를 제외시킬 경우의 단어 집합의 크기 9053\n",
            "단어 집합에서 희귀 단어의 비율: 66.49766856635334\n",
            "전체 등장 빈도에서 희귀 단어 등장 빈도 비율: 5.5989400848062525\n"
          ]
        }
      ]
    },
    {
      "cell_type": "markdown",
      "source": [
        "등장 빈도수에 따른 target 데이터 분포\n",
        "1. 첫 번째 시도\n",
        "\n",
        "- 단어 집합(vocabulary)의 크기 : 69078\n",
        "- 등장 빈도가 9번 이하인 희귀 단어의 수: 50829\n",
        "- 단어 집합에서 희귀 단어를 제외시킬 경우의 단어 집합의 크기 18249\n",
        "- 단어 집합에서 희귀 단어의 비율: 73.58203769651698\n",
        "- 전체 등장 빈도에서 희귀 단어 등장 빈도 비율: 4.602950321415036\n",
        "\n",
        "2. 두 번째 시도\n",
        "\n",
        "- 단어 집합(vocabulary)의 크기 : 28471\n",
        "- 등장 빈도가 5번 이하인 희귀 단어의 수: 18737\n",
        "- 단어 집합에서 희귀 단어를 제외시킬 경우의 단어 집합의 크기 9734\n",
        "- 단어 집합에서 희귀 단어의 비율: 65.81082505005092\n",
        "- 전체 등장 빈도에서 희귀 단어 등장 빈도 비율: 5.167682532194644\n",
        "\n",
        "3. 세 번째 시도\n",
        "\n",
        "- 단어 집합(vocabulary)의 크기 : 27068\n",
        "- 등장 빈도가 5번 이하인 희귀 단어의 수: 18010\n",
        "- 단어 집합에서 희귀 단어를 제외시킬 경우의 단어 집합의 크기 9058\n",
        "- 단어 집합에서 희귀 단어의 비율: 66.5361312250628\n",
        "- 전체 등장 빈도에서 희귀 단어 등장 빈도 비율: 5.611303091177769"
      ],
      "metadata": {
        "id": "IT5dgDrU18ub"
      }
    },
    {
      "cell_type": "code",
      "source": [
        "# 단어크기 제한(9000개)\n",
        "\n",
        "tar_vocab = 9000\n",
        "tar_tokenizer = Tokenizer(num_words = tar_vocab)\n",
        "tar_tokenizer.fit_on_texts(decoder_input_train)\n",
        "tar_tokenizer.fit_on_texts(decoder_target_train)\n",
        "\n",
        "# 텍스트 시원스르 정수 시퀀스로 변환\n",
        "decoder_input_train = tar_tokenizer.texts_to_sequences(decoder_input_train)\n",
        "decoder_target_train = tar_tokenizer.texts_to_sequences(decoder_target_train)\n",
        "decoder_input_test = tar_tokenizer.texts_to_sequences(decoder_input_test)\n",
        "decoder_target_test = tar_tokenizer.texts_to_sequences(decoder_target_test)\n",
        "\n",
        "# 잘 변환되었는지 확인\n",
        "print('input')\n",
        "print('input ',decoder_input_train[:5])\n",
        "print('target')\n",
        "print('decoder ',decoder_target_train[:5])"
      ],
      "metadata": {
        "colab": {
          "base_uri": "https://localhost:8080/"
        },
        "id": "oTQVJiaMTy0O",
        "outputId": "2a182e5b-fbaf-474b-933c-57e4e336c5df"
      },
      "execution_count": 33,
      "outputs": [
        {
          "output_type": "stream",
          "name": "stdout",
          "text": [
            "input\n",
            "input  [[1, 273, 962, 122, 683, 37, 2999, 34, 276, 61], [1, 1011, 322, 7, 2778, 221], [1, 91, 221, 3290, 3523, 502, 4341, 16, 1151, 4, 279], [1, 3000, 3524, 180, 2044, 4518, 3090, 1778, 1262, 336], [1, 104, 72, 2275, 3, 21, 7554, 6, 1600, 119]]\n",
            "target\n",
            "decoder  [[273, 962, 122, 683, 37, 2999, 34, 276, 61, 2], [1011, 322, 7, 2778, 221, 2], [91, 221, 3290, 3523, 502, 4341, 16, 1151, 4, 279, 2], [3000, 3524, 180, 2044, 4518, 3090, 1778, 1262, 336, 2], [104, 72, 2275, 3, 21, 7554, 6, 1600, 119, 2]]\n"
          ]
        }
      ]
    },
    {
      "cell_type": "code",
      "source": [
        "# headlines의 길이가 1인 인덱스를 따로 저장해두기\n",
        "drop_train = [index for index, sentence in enumerate(decoder_input_train) if len(sentence) == 1]\n",
        "drop_test = [index for index, sentence in enumerate(decoder_input_test) if len(sentence) == 1]\n",
        "\n",
        "print('삭제할 훈련 데이터의 개수 :', len(drop_train))\n",
        "print('삭제할 테스트 데이터의 개수 :', len(drop_test))\n",
        "\n",
        "encoder_input_train = [sentence for index, sentence in enumerate(encoder_input_train) if index not in drop_train]\n",
        "decoder_input_train = [sentence for index, sentence in enumerate(decoder_input_train) if index not in drop_train]\n",
        "decoder_target_train = [sentence for index, sentence in enumerate(decoder_target_train) if index not in drop_train]\n",
        "\n",
        "encoder_input_test = [sentence for index, sentence in enumerate(encoder_input_test) if index not in drop_test]\n",
        "decoder_input_test = [sentence for index, sentence in enumerate(decoder_input_test) if index not in drop_test]\n",
        "decoder_target_test = [sentence for index, sentence in enumerate(decoder_target_test) if index not in drop_test]\n",
        "\n",
        "print('훈련 데이터의 개수 :', len(encoder_input_train))\n",
        "print('훈련 레이블의 개수 :', len(decoder_input_train))\n",
        "print('테스트 데이터의 개수 :', len(encoder_input_test))\n",
        "print('테스트 레이블의 개수 :', len(decoder_input_test))\n",
        "\n",
        "# 삭제할 훈련 데이터의 개수는 없는 것으로 나옴"
      ],
      "metadata": {
        "colab": {
          "base_uri": "https://localhost:8080/"
        },
        "id": "vSUZW1zDT5Pp",
        "outputId": "6e4497a8-f2a4-47fe-8a10-6bfea6fa03aa"
      },
      "execution_count": 34,
      "outputs": [
        {
          "output_type": "stream",
          "name": "stdout",
          "text": [
            "삭제할 훈련 데이터의 개수 : 1\n",
            "삭제할 테스트 데이터의 개수 : 0\n",
            "훈련 데이터의 개수 : 60603\n",
            "훈련 레이블의 개수 : 60603\n",
            "테스트 데이터의 개수 : 15150\n",
            "테스트 레이블의 개수 : 15150\n"
          ]
        }
      ]
    },
    {
      "cell_type": "code",
      "source": [
        "# padding 수행\n",
        "encoder_input_train = pad_sequences(encoder_input_train, maxlen=text_max_len, padding='post')\n",
        "encoder_input_test = pad_sequences(encoder_input_test, maxlen=text_max_len, padding='post')\n",
        "decoder_input_train = pad_sequences(decoder_input_train, maxlen=headlines_max_len, padding='post')\n",
        "decoder_target_train = pad_sequences(decoder_target_train, maxlen=headlines_max_len, padding='post')\n",
        "decoder_input_test = pad_sequences(decoder_input_test, maxlen=headlines_max_len, padding='post')\n",
        "decoder_target_test = pad_sequences(decoder_target_test, maxlen=headlines_max_len, padding='post')"
      ],
      "metadata": {
        "id": "jl1h5iJaUSn0"
      },
      "execution_count": 35,
      "outputs": []
    },
    {
      "cell_type": "markdown",
      "source": [
        "# Step 3. 어텐션 메커니즘 사용하기 (추상적 요약)\n",
        "\n",
        "- 어텐션 메커니즘을 사용한 seq2seq를 사용하는 것이 더 나은 성능을 얻을 수 있기 때문에 어텐션 매커니즘을 사용한다.\n",
        "\n",
        "- 추가적으로 BiLSTM으로 인코더를 설계하면 어떨까? 라는 의문이 들어 더 좋은 성능을 낼 수 있는지 관련 근거를 찾아보았다.\n",
        "\n",
        "[Bi-LSTM Hegemony](https://ratsgo.github.io/natural%20language%20processing/2017/10/22/manning/)\n",
        "\n",
        "[Bi-LSTM 인코더 설계 참고 1](https://wikidocs.net/48920)\n",
        "[Bi-LSTM 인코더 설계 참고 2](https://stackoverflow.com/questions/50815354/seq2seq-bidirectional-encoder-decoder-in-keras)\n",
        "\n",
        "이 블로그에서 어텐션과 bilstm이 적용된 모델이 nlp에서 좋은 성능을 내는 4가지 근거를 제시하였다.\n",
        "\n",
        "- 종단간(End-to-end) 학습 : 출력값(output)에 대한 손실을 최소화하는 과정에서 모든 파라미터들이 동시에 학습된다.\n",
        "\n",
        "- 분산표상(distributed representation) 사용 : 단어와 구(phrase) 간 유사성을 입력벡터에 내재화해 성능을 개선했다.\n",
        "\n",
        "- 개선된 문맥 탐색(exploitation) : LSTM, 어텐션 등 덕분에 문장 길이가 길어져도 성능 저하를 막는다.\n",
        "\n",
        "- 자연스런 문장생성 능력 : 다범주 분류에 좋은 성능을 내는 딥러닝 기법을 써서 문장 생성 능력이 큰 폭으로 개선됐다.\n"
      ],
      "metadata": {
        "id": "f04Jx4c6UV9c"
      }
    },
    {
      "cell_type": "code",
      "source": [
        "# lstm을 사용한 seq2seq\n",
        "from tensorflow.keras.layers import Input, LSTM, Embedding, Dense, Concatenate, TimeDistributed\n",
        "from tensorflow.keras.models import Model\n",
        "from tensorflow.keras.callbacks import EarlyStopping, ModelCheckpoint\n",
        "\n",
        "# 인코더 설계 시작\n",
        "embedding_dim = 128\n",
        "hidden_size = 256\n",
        "\n",
        "# 인코더\n",
        "encoder_inputs = Input(shape=(text_max_len,))\n",
        "\n",
        "# 인코더의 임베딩 층\n",
        "enc_emb = Embedding(src_vocab, embedding_dim)(encoder_inputs)\n",
        "\n",
        "# 인코더의 LSTM1\n",
        "encoder_lstm1 = LSTM(hidden_size, return_sequences=True, return_state=True ,dropout = 0.4)\n",
        "encoder_output1, state_h1, state_c1 = encoder_lstm1(enc_emb)\n",
        "\n",
        "# 인코더의 LSTM2\n",
        "encoder_lstm2 = LSTM(hidden_size, return_sequences=True, return_state=True, dropout=0.4)\n",
        "encoder_output2, state_h2, state_c2 = encoder_lstm2(encoder_output1)\n",
        "\n",
        "# 인코더의 LSTM3\n",
        "encoder_lstm3 = LSTM(hidden_size, return_state=True, return_sequences=True, dropout=0.4)\n",
        "encoder_outputs, state_h, state_c= encoder_lstm3(encoder_output2)"
      ],
      "metadata": {
        "id": "qSt0hwoj73u0"
      },
      "execution_count": 43,
      "outputs": []
    },
    {
      "cell_type": "code",
      "source": [
        "# Bilstm을 사용한 seq2seq\n",
        "from tensorflow.keras.layers import Input, Bidirectional, LSTM, Embedding, Dense, Concatenate, TimeDistributed\n",
        "from tensorflow.keras.models import Model\n",
        "from tensorflow.keras.callbacks import EarlyStopping, ModelCheckpoint\n",
        "\n",
        "# 인코더 설계 시작\n",
        "embedding_dim = 128\n",
        "hidden_size = 256\n",
        "\n",
        "# 인코더\n",
        "encoder_inputs = Input(shape=(text_max_len,))\n",
        "\n",
        "# 인코더의 임베딩 층\n",
        "enc_emb = Embedding(src_vocab, embedding_dim)(encoder_inputs)\n",
        "\n",
        "# 인코더의 BiLSTM1\n",
        "encoder_bilstm1 = Bidirectional(LSTM(hidden_size, return_sequences=True, return_state=True ,dropout = 0.5))\n",
        "encoder_output1, forward_h1, forward_c1, backward_h1, backward_c1 = encoder_bilstm1(enc_emb)\n",
        "state_h1 = Concatenate()([forward_h1, backward_h1]) # 은닉 상태\n",
        "state_c1 = Concatenate()([forward_c1, backward_c1]) # 셀 상태\n",
        "\n",
        "# 인코더의 BiLSTM2\n",
        "encoder_bilstm2 = Bidirectional(LSTM(hidden_size, return_sequences=True, return_state=True, dropout=0.5))\n",
        "encoder_output2, forward_h2, forward_c2, backward_h2, backward_c2 = encoder_bilstm2(encoder_output1)\n",
        "state_h2 = Concatenate()([forward_h2, backward_h2]) # 은닉 상태\n",
        "state_c2 = Concatenate()([forward_c2, backward_c2]) # 셀 상태\n",
        "\n",
        "# 인코더의 BiLSTM3\n",
        "encoder_bilstm3 = Bidirectional(LSTM(hidden_size, return_state=True, return_sequences=True, dropout=0.5))\n",
        "encoder_outputs, forward_h, forward_c, backward_h, backward_c = encoder_bilstm3(encoder_output2)\n",
        "state_h = Concatenate()([forward_h, backward_h]) # 은닉 상태\n",
        "state_c = Concatenate()([forward_c, backward_c]) # 셀 상태"
      ],
      "metadata": {
        "id": "rFmTVgrwmMAf"
      },
      "execution_count": 36,
      "outputs": []
    },
    {
      "cell_type": "code",
      "source": [
        "# LSTM 모델 디코더\n",
        "# 디코더 설계\n",
        "decoder_inputs = Input(shape=(None,))\n",
        "\n",
        "# 디코더의 임베딩 층\n",
        "dec_emb_layer = Embedding(tar_vocab, embedding_dim)\n",
        "dec_emb = dec_emb_layer(decoder_inputs)\n",
        "\n",
        "# 디코더의 LSTM\n",
        "decoder_lstm = LSTM(hidden_size, return_sequences=True, return_state=True, dropout=0.4)\n",
        "decoder_outputs, _, _ = decoder_lstm(dec_emb, initial_state=[state_h, state_c])"
      ],
      "metadata": {
        "id": "2hnXuUac85BO"
      },
      "execution_count": null,
      "outputs": []
    },
    {
      "cell_type": "code",
      "source": [
        "# Bi-LSTM 모델 디코더\n",
        "# 디코더 설계\n",
        "decoder_inputs = Input(shape=(None,))\n",
        "\n",
        "# 디코더의 임베딩 층\n",
        "dec_emb_layer = Embedding(tar_vocab, embedding_dim)\n",
        "dec_emb = dec_emb_layer(decoder_inputs)\n",
        "\n",
        "# 디코더의 LSTM\n",
        "decoder_lstm = LSTM(hidden_size*2, return_sequences=True, return_state=True, dropout=0.4)\n",
        "decoder_outputs, _, _ = decoder_lstm(dec_emb, initial_state=[state_h, state_c])\n",
        "\n",
        "#  An `initial_state` was passed that is not compatible with `cell.state_size`. Received `\n",
        "# state_spec`=ListWrapper([InputSpec(shape=(None, 512), ndim=2), InputSpec(shape=(None, 512), ndim=2)]); however `cell.state_size` is [256, 256]\n",
        "# Bi-LSTM을 적용하다보니 hidden_size가 2배로 커진것으로 예상되어 hidden_size * 2로 바꿔주었다."
      ],
      "metadata": {
        "id": "WTUuBRnhrlVe"
      },
      "execution_count": 37,
      "outputs": []
    },
    {
      "cell_type": "code",
      "source": [
        "# 디코더의 출력층\n",
        "decoder_softmax_layer = Dense(tar_vocab, activation='softmax')\n",
        "decoder_softmax_outputs = decoder_softmax_layer(decoder_outputs)\n",
        "\n",
        "# 모델 정의\n",
        "model = Model([encoder_inputs, decoder_inputs], decoder_softmax_outputs)\n",
        "model.summary()"
      ],
      "metadata": {
        "colab": {
          "base_uri": "https://localhost:8080/"
        },
        "id": "mPutRPpO9gN3",
        "outputId": "9921a8e4-b599-4cb0-df06-85d073da466b"
      },
      "execution_count": 45,
      "outputs": [
        {
          "output_type": "stream",
          "name": "stdout",
          "text": [
            "Model: \"model\"\n",
            "__________________________________________________________________________________________________\n",
            " Layer (type)                   Output Shape         Param #     Connected to                     \n",
            "==================================================================================================\n",
            " input_1 (InputLayer)           [(None, 38)]         0           []                               \n",
            "                                                                                                  \n",
            " embedding (Embedding)          (None, 38, 128)      1920000     ['input_1[0][0]']                \n",
            "                                                                                                  \n",
            " lstm (LSTM)                    [(None, 38, 256),    394240      ['embedding[0][0]']              \n",
            "                                 (None, 256),                                                     \n",
            "                                 (None, 256)]                                                     \n",
            "                                                                                                  \n",
            " input_2 (InputLayer)           [(None, None)]       0           []                               \n",
            "                                                                                                  \n",
            " lstm_1 (LSTM)                  [(None, 38, 256),    525312      ['lstm[0][0]']                   \n",
            "                                 (None, 256),                                                     \n",
            "                                 (None, 256)]                                                     \n",
            "                                                                                                  \n",
            " embedding_1 (Embedding)        (None, None, 128)    1152000     ['input_2[0][0]']                \n",
            "                                                                                                  \n",
            " lstm_2 (LSTM)                  [(None, 38, 256),    525312      ['lstm_1[0][0]']                 \n",
            "                                 (None, 256),                                                     \n",
            "                                 (None, 256)]                                                     \n",
            "                                                                                                  \n",
            " lstm_3 (LSTM)                  [(None, None, 256),  394240      ['embedding_1[0][0]',            \n",
            "                                 (None, 256),                     'lstm_2[0][1]',                 \n",
            "                                 (None, 256)]                     'lstm_2[0][2]']                 \n",
            "                                                                                                  \n",
            " dense (Dense)                  (None, None, 9000)   2313000     ['lstm_3[0][0]']                 \n",
            "                                                                                                  \n",
            "==================================================================================================\n",
            "Total params: 7,224,104\n",
            "Trainable params: 7,224,104\n",
            "Non-trainable params: 0\n",
            "__________________________________________________________________________________________________\n"
          ]
        }
      ]
    },
    {
      "cell_type": "code",
      "source": [
        "# Bi-LSTM 모델 디코더 출력층\n",
        "# 디코더의 출력층\n",
        "decoder_softmax_layer = Dense(tar_vocab, activation='softmax')\n",
        "decoder_softmax_outputs = decoder_softmax_layer(decoder_outputs)\n",
        "\n",
        "# 모델 정의\n",
        "model = Model([encoder_inputs, decoder_inputs], decoder_softmax_outputs)\n",
        "model.summary()"
      ],
      "metadata": {
        "colab": {
          "base_uri": "https://localhost:8080/"
        },
        "id": "lqgYPRE8sFCp",
        "outputId": "ff201179-1bc5-4b36-c539-06d180c98eeb"
      },
      "execution_count": 38,
      "outputs": [
        {
          "output_type": "stream",
          "name": "stdout",
          "text": [
            "Model: \"model\"\n",
            "__________________________________________________________________________________________________\n",
            " Layer (type)                   Output Shape         Param #     Connected to                     \n",
            "==================================================================================================\n",
            " input_1 (InputLayer)           [(None, 38)]         0           []                               \n",
            "                                                                                                  \n",
            " embedding (Embedding)          (None, 38, 128)      1920000     ['input_1[0][0]']                \n",
            "                                                                                                  \n",
            " bidirectional (Bidirectional)  [(None, 38, 512),    788480      ['embedding[0][0]']              \n",
            "                                 (None, 256),                                                     \n",
            "                                 (None, 256),                                                     \n",
            "                                 (None, 256),                                                     \n",
            "                                 (None, 256)]                                                     \n",
            "                                                                                                  \n",
            " bidirectional_1 (Bidirectional  [(None, 38, 512),   1574912     ['bidirectional[0][0]']          \n",
            " )                               (None, 256),                                                     \n",
            "                                 (None, 256),                                                     \n",
            "                                 (None, 256),                                                     \n",
            "                                 (None, 256)]                                                     \n",
            "                                                                                                  \n",
            " input_2 (InputLayer)           [(None, None)]       0           []                               \n",
            "                                                                                                  \n",
            " bidirectional_2 (Bidirectional  [(None, 38, 512),   1574912     ['bidirectional_1[0][0]']        \n",
            " )                               (None, 256),                                                     \n",
            "                                 (None, 256),                                                     \n",
            "                                 (None, 256),                                                     \n",
            "                                 (None, 256)]                                                     \n",
            "                                                                                                  \n",
            " embedding_1 (Embedding)        (None, None, 128)    1152000     ['input_2[0][0]']                \n",
            "                                                                                                  \n",
            " concatenate_4 (Concatenate)    (None, 512)          0           ['bidirectional_2[0][1]',        \n",
            "                                                                  'bidirectional_2[0][3]']        \n",
            "                                                                                                  \n",
            " concatenate_5 (Concatenate)    (None, 512)          0           ['bidirectional_2[0][2]',        \n",
            "                                                                  'bidirectional_2[0][4]']        \n",
            "                                                                                                  \n",
            " lstm_3 (LSTM)                  [(None, None, 512),  1312768     ['embedding_1[0][0]',            \n",
            "                                 (None, 512),                     'concatenate_4[0][0]',          \n",
            "                                 (None, 512)]                     'concatenate_5[0][0]']          \n",
            "                                                                                                  \n",
            " dense (Dense)                  (None, None, 9000)   4617000     ['lstm_3[0][0]']                 \n",
            "                                                                                                  \n",
            "==================================================================================================\n",
            "Total params: 12,940,072\n",
            "Trainable params: 12,940,072\n",
            "Non-trainable params: 0\n",
            "__________________________________________________________________________________________________\n"
          ]
        }
      ]
    },
    {
      "cell_type": "markdown",
      "source": [
        "# 어텐션 메커니즘"
      ],
      "metadata": {
        "id": "1MSDVcSq-BuO"
      }
    },
    {
      "cell_type": "code",
      "source": [
        "from tensorflow.keras.layers import AdditiveAttention\n",
        "\n",
        "# 어텐션 층(어텐션 함수)\n",
        "attn_layer = AdditiveAttention(name='attention_layer')\n",
        "\n",
        "# 인코더와 디코더의 모든 time step의 hidden state를 어텐션 층에 전달하고 결과를 리턴\n",
        "attn_out = attn_layer([decoder_outputs, encoder_outputs])\n",
        "\n",
        "# 어텐션의 결과와 디코더의 hidden state들을 연결\n",
        "decoder_concat_input = Concatenate(axis=-1, name='concat_layer')([decoder_outputs, attn_out])\n",
        "\n",
        "# 디코더의 출력층\n",
        "decoder_softmax_layer = Dense(tar_vocab, activation='softmax')\n",
        "decoder_softmax_outputs = decoder_softmax_layer(decoder_concat_input)\n",
        "\n",
        "# 모델 정의\n",
        "model = Model([encoder_inputs, decoder_inputs], decoder_softmax_outputs)\n",
        "model.summary()"
      ],
      "metadata": {
        "colab": {
          "base_uri": "https://localhost:8080/"
        },
        "id": "6xBUaFRh-I62",
        "outputId": "27a1641c-8052-41ef-da6f-23bfd3148918"
      },
      "execution_count": 39,
      "outputs": [
        {
          "output_type": "stream",
          "name": "stdout",
          "text": [
            "Model: \"model_1\"\n",
            "__________________________________________________________________________________________________\n",
            " Layer (type)                   Output Shape         Param #     Connected to                     \n",
            "==================================================================================================\n",
            " input_1 (InputLayer)           [(None, 38)]         0           []                               \n",
            "                                                                                                  \n",
            " embedding (Embedding)          (None, 38, 128)      1920000     ['input_1[0][0]']                \n",
            "                                                                                                  \n",
            " bidirectional (Bidirectional)  [(None, 38, 512),    788480      ['embedding[0][0]']              \n",
            "                                 (None, 256),                                                     \n",
            "                                 (None, 256),                                                     \n",
            "                                 (None, 256),                                                     \n",
            "                                 (None, 256)]                                                     \n",
            "                                                                                                  \n",
            " bidirectional_1 (Bidirectional  [(None, 38, 512),   1574912     ['bidirectional[0][0]']          \n",
            " )                               (None, 256),                                                     \n",
            "                                 (None, 256),                                                     \n",
            "                                 (None, 256),                                                     \n",
            "                                 (None, 256)]                                                     \n",
            "                                                                                                  \n",
            " input_2 (InputLayer)           [(None, None)]       0           []                               \n",
            "                                                                                                  \n",
            " bidirectional_2 (Bidirectional  [(None, 38, 512),   1574912     ['bidirectional_1[0][0]']        \n",
            " )                               (None, 256),                                                     \n",
            "                                 (None, 256),                                                     \n",
            "                                 (None, 256),                                                     \n",
            "                                 (None, 256)]                                                     \n",
            "                                                                                                  \n",
            " embedding_1 (Embedding)        (None, None, 128)    1152000     ['input_2[0][0]']                \n",
            "                                                                                                  \n",
            " concatenate_4 (Concatenate)    (None, 512)          0           ['bidirectional_2[0][1]',        \n",
            "                                                                  'bidirectional_2[0][3]']        \n",
            "                                                                                                  \n",
            " concatenate_5 (Concatenate)    (None, 512)          0           ['bidirectional_2[0][2]',        \n",
            "                                                                  'bidirectional_2[0][4]']        \n",
            "                                                                                                  \n",
            " lstm_3 (LSTM)                  [(None, None, 512),  1312768     ['embedding_1[0][0]',            \n",
            "                                 (None, 512),                     'concatenate_4[0][0]',          \n",
            "                                 (None, 512)]                     'concatenate_5[0][0]']          \n",
            "                                                                                                  \n",
            " attention_layer (AdditiveAtten  (None, None, 512)   512         ['lstm_3[0][0]',                 \n",
            " tion)                                                            'bidirectional_2[0][0]']        \n",
            "                                                                                                  \n",
            " concat_layer (Concatenate)     (None, None, 1024)   0           ['lstm_3[0][0]',                 \n",
            "                                                                  'attention_layer[0][0]']        \n",
            "                                                                                                  \n",
            " dense_1 (Dense)                (None, None, 9000)   9225000     ['concat_layer[0][0]']           \n",
            "                                                                                                  \n",
            "==================================================================================================\n",
            "Total params: 17,548,584\n",
            "Trainable params: 17,548,584\n",
            "Non-trainable params: 0\n",
            "__________________________________________________________________________________________________\n"
          ]
        }
      ]
    },
    {
      "cell_type": "code",
      "source": [
        "# Bi-LSTM 어텐션\n",
        "from tensorflow.keras.layers import AdditiveAttention\n",
        "\n",
        "# 어텐션 층(어텐션 함수)\n",
        "attn_layer = AdditiveAttention(name='attention_layer')\n",
        "\n",
        "# 인코더와 디코더의 모든 time step의 hidden state를 어텐션 층에 전달하고 결과를 리턴\n",
        "attn_out = attn_layer([decoder_outputs, encoder_outputs])\n",
        "\n",
        "# 어텐션의 결과와 디코더의 hidden state들을 연결\n",
        "decoder_concat_input = Concatenate(axis=-1, name='concat_layer')([decoder_outputs, attn_out])\n",
        "\n",
        "# 디코더의 출력층\n",
        "decoder_softmax_layer = Dense(tar_vocab, activation='softmax')\n",
        "decoder_softmax_outputs = decoder_softmax_layer(decoder_concat_input)\n",
        "\n",
        "# 모델 정의\n",
        "model = Model([encoder_inputs, decoder_inputs], decoder_softmax_outputs)\n",
        "model.summary()"
      ],
      "metadata": {
        "colab": {
          "base_uri": "https://localhost:8080/"
        },
        "id": "CKARSnnXsScv",
        "outputId": "ca068c78-0386-43e3-abc5-27ba54691cc9"
      },
      "execution_count": 40,
      "outputs": [
        {
          "output_type": "stream",
          "name": "stdout",
          "text": [
            "Model: \"model_2\"\n",
            "__________________________________________________________________________________________________\n",
            " Layer (type)                   Output Shape         Param #     Connected to                     \n",
            "==================================================================================================\n",
            " input_1 (InputLayer)           [(None, 38)]         0           []                               \n",
            "                                                                                                  \n",
            " embedding (Embedding)          (None, 38, 128)      1920000     ['input_1[0][0]']                \n",
            "                                                                                                  \n",
            " bidirectional (Bidirectional)  [(None, 38, 512),    788480      ['embedding[0][0]']              \n",
            "                                 (None, 256),                                                     \n",
            "                                 (None, 256),                                                     \n",
            "                                 (None, 256),                                                     \n",
            "                                 (None, 256)]                                                     \n",
            "                                                                                                  \n",
            " bidirectional_1 (Bidirectional  [(None, 38, 512),   1574912     ['bidirectional[0][0]']          \n",
            " )                               (None, 256),                                                     \n",
            "                                 (None, 256),                                                     \n",
            "                                 (None, 256),                                                     \n",
            "                                 (None, 256)]                                                     \n",
            "                                                                                                  \n",
            " input_2 (InputLayer)           [(None, None)]       0           []                               \n",
            "                                                                                                  \n",
            " bidirectional_2 (Bidirectional  [(None, 38, 512),   1574912     ['bidirectional_1[0][0]']        \n",
            " )                               (None, 256),                                                     \n",
            "                                 (None, 256),                                                     \n",
            "                                 (None, 256),                                                     \n",
            "                                 (None, 256)]                                                     \n",
            "                                                                                                  \n",
            " embedding_1 (Embedding)        (None, None, 128)    1152000     ['input_2[0][0]']                \n",
            "                                                                                                  \n",
            " concatenate_4 (Concatenate)    (None, 512)          0           ['bidirectional_2[0][1]',        \n",
            "                                                                  'bidirectional_2[0][3]']        \n",
            "                                                                                                  \n",
            " concatenate_5 (Concatenate)    (None, 512)          0           ['bidirectional_2[0][2]',        \n",
            "                                                                  'bidirectional_2[0][4]']        \n",
            "                                                                                                  \n",
            " lstm_3 (LSTM)                  [(None, None, 512),  1312768     ['embedding_1[0][0]',            \n",
            "                                 (None, 512),                     'concatenate_4[0][0]',          \n",
            "                                 (None, 512)]                     'concatenate_5[0][0]']          \n",
            "                                                                                                  \n",
            " attention_layer (AdditiveAtten  (None, None, 512)   512         ['lstm_3[0][0]',                 \n",
            " tion)                                                            'bidirectional_2[0][0]']        \n",
            "                                                                                                  \n",
            " concat_layer (Concatenate)     (None, None, 1024)   0           ['lstm_3[0][0]',                 \n",
            "                                                                  'attention_layer[0][0]']        \n",
            "                                                                                                  \n",
            " dense_2 (Dense)                (None, None, 9000)   9225000     ['concat_layer[0][0]']           \n",
            "                                                                                                  \n",
            "==================================================================================================\n",
            "Total params: 17,548,584\n",
            "Trainable params: 17,548,584\n",
            "Non-trainable params: 0\n",
            "__________________________________________________________________________________________________\n"
          ]
        }
      ]
    },
    {
      "cell_type": "code",
      "source": [
        "# 모델 훈련 - 1 (lstm + 어텐션)\n",
        "model.compile(optimizer='adam', loss='sparse_categorical_crossentropy', metrics = ['accuracy'])\n",
        "es = EarlyStopping(monitor='val_loss', patience=2, verbose=1)\n",
        "history1 = model.fit(x=[encoder_input_train, decoder_input_train], y=decoder_target_train, \\\n",
        "          validation_data=([encoder_input_test, decoder_input_test], decoder_target_test), \\\n",
        "          batch_size=256, callbacks=[es], epochs=50)"
      ],
      "metadata": {
        "colab": {
          "base_uri": "https://localhost:8080/"
        },
        "id": "1_IeBsn1U-ti",
        "outputId": "afc6aff5-7b4d-4f2f-a3b2-7cb61089fd2a"
      },
      "execution_count": 47,
      "outputs": [
        {
          "output_type": "stream",
          "name": "stdout",
          "text": [
            "Epoch 1/50\n",
            "237/237 [==============================] - 31s 84ms/step - loss: 6.1472 - val_loss: 5.7235\n",
            "Epoch 2/50\n",
            "237/237 [==============================] - 19s 79ms/step - loss: 5.6705 - val_loss: 5.5185\n",
            "Epoch 3/50\n",
            "237/237 [==============================] - 19s 81ms/step - loss: 5.3554 - val_loss: 5.1232\n",
            "Epoch 4/50\n",
            "237/237 [==============================] - 19s 82ms/step - loss: 4.9316 - val_loss: 4.7696\n",
            "Epoch 5/50\n",
            "237/237 [==============================] - 20s 83ms/step - loss: 4.5830 - val_loss: 4.5319\n",
            "Epoch 6/50\n",
            "237/237 [==============================] - 20s 84ms/step - loss: 4.3005 - val_loss: 4.3469\n",
            "Epoch 7/50\n",
            "237/237 [==============================] - 20s 85ms/step - loss: 4.0519 - val_loss: 4.1997\n",
            "Epoch 8/50\n",
            "237/237 [==============================] - 20s 85ms/step - loss: 3.8383 - val_loss: 4.1017\n",
            "Epoch 9/50\n",
            "237/237 [==============================] - 20s 85ms/step - loss: 3.6541 - val_loss: 4.0203\n",
            "Epoch 10/50\n",
            "237/237 [==============================] - 20s 85ms/step - loss: 3.4947 - val_loss: 3.9681\n",
            "Epoch 11/50\n",
            "237/237 [==============================] - 20s 85ms/step - loss: 3.3540 - val_loss: 3.9275\n",
            "Epoch 12/50\n",
            "237/237 [==============================] - 20s 85ms/step - loss: 3.2263 - val_loss: 3.8964\n",
            "Epoch 13/50\n",
            "237/237 [==============================] - 20s 85ms/step - loss: 3.1133 - val_loss: 3.8798\n",
            "Epoch 14/50\n",
            "237/237 [==============================] - 20s 85ms/step - loss: 3.0074 - val_loss: 3.8656\n",
            "Epoch 15/50\n",
            "237/237 [==============================] - 20s 85ms/step - loss: 2.9111 - val_loss: 3.8588\n",
            "Epoch 16/50\n",
            "237/237 [==============================] - 20s 85ms/step - loss: 2.8224 - val_loss: 3.8576\n",
            "Epoch 17/50\n",
            "237/237 [==============================] - 20s 85ms/step - loss: 2.7378 - val_loss: 3.8555\n",
            "Epoch 18/50\n",
            "237/237 [==============================] - 20s 85ms/step - loss: 2.6625 - val_loss: 3.8550\n",
            "Epoch 19/50\n",
            "237/237 [==============================] - 20s 85ms/step - loss: 2.5901 - val_loss: 3.8656\n",
            "Epoch 20/50\n",
            "237/237 [==============================] - 20s 85ms/step - loss: 2.5234 - val_loss: 3.8744\n",
            "Epoch 20: early stopping\n"
          ]
        }
      ]
    },
    {
      "cell_type": "code",
      "source": [
        "# 모델 훈련 - 2 (bi-lstm + 어텐션)\n",
        "model.compile(optimizer = 'adam', loss = 'sparse_categorical_crossentropy', metrics = ['accuracy'])\n",
        "es = EarlyStopping(monitor='val_loss', patience=2, verbose=1)\n",
        "history2 = model.fit(x=[encoder_input_train, decoder_input_train], y=decoder_target_train, \\\n",
        "          validation_data=([encoder_input_test, decoder_input_test], decoder_target_test), \\\n",
        "          batch_size=256, callbacks=[es], epochs=30)"
      ],
      "metadata": {
        "colab": {
          "base_uri": "https://localhost:8080/"
        },
        "id": "1SqQIgWIs_m5",
        "outputId": "a78ee6ea-688c-44b1-f365-17129b8a8029"
      },
      "execution_count": 41,
      "outputs": [
        {
          "output_type": "stream",
          "name": "stdout",
          "text": [
            "Epoch 1/30\n",
            "237/237 [==============================] - 58s 198ms/step - loss: 6.0466 - accuracy: 0.2346 - val_loss: 5.6693 - val_accuracy: 0.2623\n",
            "Epoch 2/30\n",
            "237/237 [==============================] - 48s 201ms/step - loss: 5.6135 - accuracy: 0.2625 - val_loss: 5.4464 - val_accuracy: 0.2756\n",
            "Epoch 3/30\n",
            "237/237 [==============================] - 48s 201ms/step - loss: 5.3297 - accuracy: 0.2744 - val_loss: 5.1305 - val_accuracy: 0.2881\n",
            "Epoch 4/30\n",
            "237/237 [==============================] - 48s 201ms/step - loss: 4.9592 - accuracy: 0.2898 - val_loss: 4.8306 - val_accuracy: 0.3019\n",
            "Epoch 5/30\n",
            "237/237 [==============================] - 48s 201ms/step - loss: 4.6499 - accuracy: 0.3048 - val_loss: 4.6424 - val_accuracy: 0.3141\n",
            "Epoch 6/30\n",
            "237/237 [==============================] - 48s 201ms/step - loss: 4.4097 - accuracy: 0.3189 - val_loss: 4.4988 - val_accuracy: 0.3233\n",
            "Epoch 7/30\n",
            "237/237 [==============================] - 48s 201ms/step - loss: 4.1974 - accuracy: 0.3319 - val_loss: 4.3883 - val_accuracy: 0.3324\n",
            "Epoch 8/30\n",
            "237/237 [==============================] - 48s 201ms/step - loss: 4.0026 - accuracy: 0.3446 - val_loss: 4.2960 - val_accuracy: 0.3414\n",
            "Epoch 9/30\n",
            "237/237 [==============================] - 48s 201ms/step - loss: 3.8368 - accuracy: 0.3560 - val_loss: 4.2360 - val_accuracy: 0.3453\n",
            "Epoch 10/30\n",
            "237/237 [==============================] - 48s 201ms/step - loss: 3.6589 - accuracy: 0.3689 - val_loss: 4.1713 - val_accuracy: 0.3528\n",
            "Epoch 11/30\n",
            "237/237 [==============================] - 48s 201ms/step - loss: 3.4953 - accuracy: 0.3814 - val_loss: 4.1291 - val_accuracy: 0.3573\n",
            "Epoch 12/30\n",
            "237/237 [==============================] - 48s 201ms/step - loss: 3.3432 - accuracy: 0.3948 - val_loss: 4.1036 - val_accuracy: 0.3593\n",
            "Epoch 13/30\n",
            "237/237 [==============================] - 48s 201ms/step - loss: 3.1990 - accuracy: 0.4078 - val_loss: 4.0876 - val_accuracy: 0.3615\n",
            "Epoch 14/30\n",
            "237/237 [==============================] - 48s 201ms/step - loss: 3.0636 - accuracy: 0.4213 - val_loss: 4.0787 - val_accuracy: 0.3647\n",
            "Epoch 15/30\n",
            "237/237 [==============================] - 48s 201ms/step - loss: 2.9351 - accuracy: 0.4356 - val_loss: 4.0767 - val_accuracy: 0.3663\n",
            "Epoch 16/30\n",
            "237/237 [==============================] - 48s 201ms/step - loss: 2.8124 - accuracy: 0.4500 - val_loss: 4.0834 - val_accuracy: 0.3662\n",
            "Epoch 17/30\n",
            "237/237 [==============================] - 48s 201ms/step - loss: 2.6982 - accuracy: 0.4644 - val_loss: 4.0921 - val_accuracy: 0.3674\n",
            "Epoch 17: early stopping\n"
          ]
        }
      ]
    },
    {
      "cell_type": "code",
      "source": [
        "# 세 번째 시도 그래프\n",
        "plt.plot(history.history['loss'], label='train')\n",
        "plt.plot(history.history['val_loss'], label='test')\n",
        "plt.legend()\n",
        "plt.show()"
      ],
      "metadata": {
        "colab": {
          "base_uri": "https://localhost:8080/",
          "height": 265
        },
        "id": "rBzSHk2Ba-ky",
        "outputId": "bcbf42ba-a407-4815-d1d1-ff8ab8f43a16"
      },
      "execution_count": 48,
      "outputs": [
        {
          "output_type": "display_data",
          "data": {
            "text/plain": [
              "<Figure size 432x288 with 1 Axes>"
            ],
            "image/png": "[encoded data removed]"
          },
          "metadata": {
            "needs_background": "light"
          }
        }
      ]
    },
    {
      "cell_type": "code",
      "source": [
        "# Bi-LSTM + 어텐션 그래프\n",
        "# 훈련 데이터의 손실과 검증 데이터의 손실이 줄어드는 과정을 시각화 \n",
        "plt.plot(history2.history['loss'], label='train')\n",
        "plt.plot(history2.history['val_loss'], label='test')\n",
        "plt.legend()\n",
        "plt.show()"
      ],
      "metadata": {
        "colab": {
          "base_uri": "https://localhost:8080/",
          "height": 265
        },
        "id": "ks_xABmOU8Oc",
        "outputId": "a01e7acf-48e6-46c8-c9ae-7b09fe2decc7"
      },
      "execution_count": 42,
      "outputs": [
        {
          "output_type": "display_data",
          "data": {
            "text/plain": [
              "<Figure size 432x288 with 1 Axes>"
            ],
            "image/png": "[encoded data removed]"
          },
          "metadata": {
            "needs_background": "light"
          }
        }
      ]
    },
    {
      "cell_type": "code",
      "source": [
        "# 인퍼런스 모델 구현\n",
        "src_index_to_word = src_tokenizer.index_word # 원문 단어 집합에서 정수 -> 단어를 얻음\n",
        "tar_word_to_index = tar_tokenizer.word_index # 요약 단어 집합에서 단어 -> 정수를 얻음\n",
        "tar_index_to_word = tar_tokenizer.index_word # 요약 단어 집합에서 정수 -> 단어를 얻음"
      ],
      "metadata": {
        "id": "9C0k-8tGbvCI"
      },
      "execution_count": 43,
      "outputs": []
    },
    {
      "cell_type": "code",
      "source": [
        "# 인코더 설계\n",
        "encoder_model = Model(inputs = encoder_inputs, outputs = [encoder_outputs, state_h, state_c])\n",
        "\n",
        "# 이전 시점의 상태들을 저장하는 텐서\n",
        "decoder_state_input_h = Input(shape=(hidden_size,))\n",
        "decoder_state_input_c = Input(shape=(hidden_size,))\n",
        "\n",
        "dec_emb2 = dec_emb_layer(decoder_inputs)\n",
        "\n",
        "# 문장의 다음 단어를 예측하기 위해서 초기 상태(initial_state)를 이전 시점의 상태로 사용. 이는 뒤의 함수 decode_sequence()에 구현\n",
        "# 훈련 과정에서와 달리 LSTM의 리턴하는 은닉 상태와 셀 상태인 state_h와 state_c를 버리지 않음.\n",
        "decoder_outputs2, state_h2, state_c2 = decoder_lstm(dec_emb2, initial_state=[decoder_state_input_h, decoder_state_input_c])"
      ],
      "metadata": {
        "id": "WsfGamRPzyCo"
      },
      "execution_count": null,
      "outputs": []
    },
    {
      "cell_type": "code",
      "source": [
        "# Bi-LSTM 인코더 설계\n",
        "# 인코더 설계\n",
        "encoder_model = Model(inputs = encoder_inputs, outputs = [encoder_outputs, state_h, state_c])\n",
        "\n",
        "# 이전 시점의 상태들을 저장하는 텐서\n",
        "decoder_state_input_h = Input(shape=(hidden_size*2,))\n",
        "decoder_state_input_c = Input(shape=(hidden_size*2,))\n",
        "decoder_state_input = [decoder_state_input_h,decoder_state_input_c]\n",
        "dec_emb2 = dec_emb_layer(decoder_inputs)\n",
        "\n",
        "# 문장의 다음 단어를 예측하기 위해서 초기 상태(initial_state)를 이전 시점의 상태로 사용. 이는 뒤의 함수 decode_sequence()에 구현\n",
        "# 훈련 과정에서와 달리 LSTM의 리턴하는 은닉 상태와 셀 상태인 state_h와 state_c를 버리지 않음.\n",
        "decoder_outputs2, state_h2, state_c2 =  decoder_lstm(dec_emb2, initial_state=decoder_state_input)\n",
        "\n",
        "# hidden_size * 2를 적용하였다. 이유는 Bi-LSTM를 적용하였기 때문이다."
      ],
      "metadata": {
        "id": "iLwskwfGBnP2"
      },
      "execution_count": 46,
      "outputs": []
    },
    {
      "cell_type": "code",
      "source": [
        "# 어텐션 함수\n",
        "decoder_hidden_state_input = Input(shape=(text_max_len, hidden_size*2))\n",
        "attn_out_inf = attn_layer([decoder_outputs2, decoder_hidden_state_input])\n",
        "decoder_inf_concat = Concatenate(axis=-1, name='concat')([decoder_outputs2, attn_out_inf])\n",
        "\n",
        "# 디코더의 출력층\n",
        "decoder_outputs2 = decoder_softmax_layer(decoder_inf_concat)\n",
        "\n",
        "# 최종 디코더 모델\n",
        "decoder_model = Model(\n",
        "    [decoder_inputs] + [decoder_hidden_state_input,decoder_state_input_h, decoder_state_input_c], \n",
        "    [decoder_outputs2] + [state_h2, state_c2]\n",
        ")"
      ],
      "metadata": {
        "id": "CUBSrQvmCFMl"
      },
      "execution_count": 47,
      "outputs": []
    },
    {
      "cell_type": "code",
      "source": [
        "def decode_sequence(input_seq):\n",
        "  # 입력으로부터 인코더의 상태를 얻음\n",
        "  e_out, e_h, e_c = encoder_model.predict(input_seq)\n",
        "\n",
        "  # 시작 토큰 생성\n",
        "  target_seq = np.zeros((1,1))\n",
        "  target_seq[0,0] = tar_word_to_index['sostoken']\n",
        "\n",
        "  stop_condition = False\n",
        "  decoded_sentence = ''\n",
        "  while not stop_condition: # stop_condition이 True가 될 때까지 루프 반복\n",
        "\n",
        "    output_tokens, h, c = decoder_model.predict([target_seq] + [e_out, e_h, e_c])\n",
        "    sampled_token_index = np.argmax(output_tokens[0, -1, :])\n",
        "    sampled_token = tar_index_to_word[sampled_token_index]\n",
        "\n",
        "    if (sampled_token != 'eostoken'):\n",
        "      decoded_sentence += ' '+sampled_token\n",
        "    \n",
        "    #  <eos>에 도달하거나 최대 길이를 넘으면 중단.\n",
        "    if (sampled_token == 'eostoken' or len(decoded_sentence.split()) >= (headlines_max_len-1)):\n",
        "       stop_condition = True\n",
        "     # 길이가 1인 타겟 시퀀스를 업데이트\n",
        "    target_seq = np.zeros((1,1))\n",
        "    target_seq[0, 0] = sampled_token_index\n",
        "\n",
        "    # 상태를 업데이트 합니다.\n",
        "    e_h, e_c = h, c\n",
        "\n",
        "  return decoded_sentence"
      ],
      "metadata": {
        "id": "LTb3gCWSEjHH"
      },
      "execution_count": 48,
      "outputs": []
    },
    {
      "cell_type": "markdown",
      "source": [
        "# Step 4. 실제 결과와 요약문 비교하기 (추상적 요약)"
      ],
      "metadata": {
        "id": "iOKcaKJ4b-zN"
      }
    },
    {
      "cell_type": "code",
      "source": [
        "# 원문의 정수 시퀀스를 텍스트 시퀀스로 변환\n",
        "\n",
        "def seq2text(input_seq):\n",
        "  temp=''\n",
        "  for i in input_seq:\n",
        "    if (i != 0):\n",
        "      temp = temp + src_index_to_word[i]+' '\n",
        "  return temp\n",
        "\n",
        "# 요약문의 정수 시퀀스를 텍스트 시퀀스로 변환\n",
        "def seq2summary(input_seq):\n",
        "    temp=''\n",
        "    for i in input_seq:\n",
        "      if ((i!=0 and i!=tar_word_to_index['sostoken']) and i!=tar_word_to_index['eostoken']):\n",
        "          temp = temp + tar_index_to_word[i] + ' '\n",
        "    return temp"
      ],
      "metadata": {
        "id": "ZRW4HZeqGjxX"
      },
      "execution_count": 49,
      "outputs": []
    },
    {
      "cell_type": "code",
      "source": [
        "# 학습 데이터 일부를 추출하여 실제 요약과 예측된 요약 비교\n",
        "for i in range(1, 30):\n",
        "  print(\"원문 :\", seq2text(encoder_input_train[i]))\n",
        "  print(\"실제 요약 :\", seq2summary(decoder_input_train[i]))\n",
        "  print(\"예측 요약 :\", decode_sequence(encoder_input_train[i].reshape(1, text_max_len)))\n",
        "  print(\"\\n\")"
      ],
      "metadata": {
        "colab": {
          "base_uri": "https://localhost:8080/"
        },
        "id": "EP_Ww1DdNztZ",
        "outputId": "73755b7b-2a49-4118-c261-b64b5dac4bf6"
      },
      "execution_count": 54,
      "outputs": [
        {
          "output_type": "stream",
          "name": "stdout",
          "text": [
            "원문 : part one collection virat kohli designed first sneaker launched today kohli says basket classic one classic elements cricket available neutral colours white black sneakers design reflection kohli personal style \n",
            "실제 요약 : st ever virat kohli designed launched by \n",
            "예측 요약 :  virat kohli shares video of him on amazon\n",
            "\n",
            "\n",
            "원문 : former jnu students union president kanhaiya kumar said environment fear india use patanjali face wash called anti national kanhaiya said various sections society including living fear demand reduction fee labelled anti national added \n",
            "실제 요약 : not using patanjali can make one anti national now kanhaiya \n",
            "예측 요약 :  not to make hindu universities jnu to ugc\n",
            "\n",
            "\n",
            "원문 : delhi chief minister arvind kejriwal blue car stolen near secretariat delhi thursday evening delhi police reportedly registered complaint investigating matter car dubbed used kejriwal since activist currently used aam aadmi party functionary \n",
            "실제 요약 : cm kejriwal car stolen near delhi secretariat \n",
            "예측 요약 :  delhi cm kejriwal to get stolen from car\n",
            "\n",
            "\n",
            "원문 : clip fa cup match park rangers manchester city voted worst seconds football italian magazine clip shows taking corner player jumping unable meet ball reaches city player box \n",
            "실제 요약 : man city match clip voted worst seconds of football \n",
            "예측 요약 :  man scores yard goal in seconds to reach goal\n",
            "\n",
            "\n",
            "원문 : year old girl jumped moving ambulance saturday driver tried rape odisha district incident occurred girl accompanying unwell sister private nursing home ambulance asked driver drop residence reports said critically injured \n",
            "실제 요약 : odisha teen jumps off ambulance after driver attempts rape \n",
            "예측 요약 :  year old girl jumps off moving to ambulance\n",
            "\n",
            "\n",
            "원문 : amid reports differences bjp jd allocation lok sabha seats bihar chief minister nitish kumar said problem two parties said rumours hot air adding issues relating lok sabha elections sorted due course time \n",
            "실제 요약 : all hot air nitish kumar denies problems between bjp jd \n",
            "예측 요약 :  nitish kumar is no trust motion against bjp bjp leader\n",
            "\n",
            "\n",
            "원문 : finance minister arun jaitley underwent successful kidney transplant surgery india institute medical sciences delhi monday stable condition hospital authorities said year old bjp leader undergoing past month reports said jaitley undergone bypass surgery manage diabetes \n",
            "실제 요약 : arun jaitley undergoes kidney transplant at aiims delhi \n",
            "예측 요약 :  arun jaitley undergoes surgery to aiims aiims\n",
            "\n",
            "\n",
            "원문 : jet airways flight attendant praised online saving life passenger suffered cardiac arrest recent bengaluru delhi flight jet airways said flight attendant took details medical history patient gave medication oxygen twitter user said heroes wear wear uniforms \n",
            "실제 요약 : flight attendant saves flyer who suffered cardiac arrest \n",
            "예측 요약 :  flyer attendant passenger grounded after flight gets cardiac arrest\n",
            "\n",
            "\n",
            "원문 : congress mp noor monday joined trinamool congress presence west bengal cm mamata banerjee inspired didi work guidance development state mp said said confident tmc win seats bengal upcoming polls \n",
            "실제 요약 : congress mp joins tmc ahead of lok sabha polls \n",
            "예측 요약 :  cong mp joins tmc for days after th day\n",
            "\n",
            "\n",
            "원문 : akshay kumar karan johar announced upcoming production kesari battle saragarhi akshay co presenting starring kesari tweeted film extremely excited personally emotionally johar called film exceptional brave story directed anurag singh film scheduled holi release \n",
            "실제 요약 : akshay johar announce film kesari on battle of \n",
            "예측 요약 :  akshay kumar to star in akshay kumar kesari report\n",
            "\n",
            "\n",
            "원문 : madhur bhandarkar recently released film indu sarkar open th annual bollywood film festival norway held september film based period prime minister indira gandhi declared state emergency country actors kirti neil nitin mukesh anupam kher starred film \n",
            "실제 요약 : indu sarkar to open annual bollywood festival norway \n",
            "예측 요약 :  indu sarkar to launch international web series in bollywood\n",
            "\n",
            "\n",
            "원문 : filmmaker sanjay leela bhansali launch actor son bollywood assisted bhansali film bajirao mastani said chosen role bhansali reportedly co producing film bhansali productions directed known directing marathi film \n",
            "실제 요약 : bhansali to launch son in bollywood \n",
            "예측 요약 :  bhansali to launch son in bollywood film reports\n",
            "\n",
            "\n",
            "원문 : russia treat us sanctions target banking operations currency trade declaration economic war respond accordingly pm dmitry medvedev warned medvedev comments came us announced new sanctions russia alleged poisoning former spy sergei skripal daughter uk \n",
            "실제 요약 : will treat further us sanctions as economic war russia \n",
            "예측 요약 :  us sanctions sanctions against us over sanctions russia\n",
            "\n",
            "\n",
            "원문 : suresh raina last played india february said coming back team india feels like playing first time indian jersey wait get back made tougher every lap ran training thinking added \n",
            "실제 요약 : it feels like am wearing india jersey for st time raina \n",
            "예측 요약 :  india should be in india after years\n",
            "\n",
            "\n",
            "원문 : rcb captain virat kohli sprinted left long put full length dive take catch dismiss kkr captain dinesh karthik th sunday kohli refused celebrate catch threw ball towards pitch going back position kkr match six wickets \n",
            "실제 요약 : kohli takes running catch against kkr does not celebrate \n",
            "예측 요약 :  virat kohli takes one handed catch to dismiss injury\n",
            "\n",
            "\n",
            "원문 : actor prakash raj slammed union minister karnataka bjp leader anantkumar hegde calling nationalism thing hindutva tweeting guys hitler wrote bring religion nationalism comments video hegde said islam cannot remove terrorism \n",
            "실제 요약 : are you of hitler prakash to bjp minister \n",
            "예측 요약 :  minister slams bjp for remark on tipu remark\n",
            "\n",
            "\n",
            "원문 : passive euthanasia withdrawal medical treatment intention death terminally ill patients like switching life support machines feeding tube living written document wherein patients give instructions advance treatment administered terminally ill unable express consent \n",
            "실제 요약 : what is euthanasia and living will \n",
            "예측 요약 :  medical health victim passed in hospital\n",
            "\n",
            "\n",
            "원문 : indian origin uk minister patel wednesday resigned cabinet post unauthorised secret meetings israeli officials breached diplomatic protocol comes summoned pm theresa may matter apologising meetings patel said actions meant best intentions actions fell standards transparency \n",
            "실제 요약 : indian origin uk minister resigns over secret israel meeting \n",
            "예측 요약 :  cabinet approves uk cabinet secretary\n",
            "\n",
            "\n",
            "원문 : several saudi princes current former ministers recently arrested kingdom anti corruption probe held five star hotel riyadh following arrest senior figures hotel asked guests leave premises accused princes include middle east wealthiest person net worth billion \n",
            "실제 요약 : arrested saudi princes ministers being held in star hotel \n",
            "예측 요약 :  saudi arrests man who detained over corruption charges\n",
            "\n",
            "\n",
            "원문 : taking dig lalu prasad yadav bjp leader sushil modi sunday tweeted rjd leader shocked yogi adityanath becoming cm know react yadav responded mocking modi invited swearing ceremony modi however later tweeted present ceremony \n",
            "실제 요약 : lalu sushil modi in twitter over up cm \n",
            "예측 요약 :  lalu sushil modi on lalu remark on his th birthday\n",
            "\n",
            "\n",
            "원문 : accusing prime minister narendra modi selling dreams poor congress vice president rahul gandhi said pm modi give every gujarati house moon mocked pm modi saying bring moon earth gandhi said last day tour poll bound gujarat \n",
            "실제 요약 : pm modi will give every gujarati house on moon rahul \n",
            "예측 요약 :  pm modi is the moon rahul gandhi on rahul gandhi\n",
            "\n",
            "\n",
            "원문 : one presidential nomination indian national congress elected without contest multiple candidates voting takes place winner needs votes otherwise members pradesh congress committees vote listing preferences clear majority candidates least votes eliminated second preferences counted \n",
            "실제 요약 : how does the indian national congress elect its president \n",
            "예측 요약 :  kovind elects its first candidate to elect presidential candidate\n",
            "\n",
            "\n",
            "원문 : opener prithvi shaw become youngest cricketer hit winning runs india test achieving feat windies sunday shaw aged years days smashed four complete india chase overall second youngest cricketer achieve feat australia pat cummins \n",
            "실제 요약 : prithvi shaw youngest to hit winning runs for india in tests \n",
            "예측 요약 :  sehwag youngest to score runs in test cricket\n",
            "\n",
            "\n",
            "원문 : women india ride consisting women bikers tuesday hoisted tricolour height feet sea level la pass ladakh highest pass world journey started gujarat surat july women covered kilometres days \n",
            "실제 요약 : women bikers hoist flag at world highest pass \n",
            "예측 요약 :  women hoist tricolour in ladakh on th day\n",
            "\n",
            "\n",
            "원문 : israeli prime minister benjamin netanyahu misspelled gandhi note left mahatma gandhi ashram visit gujarat inspiring visit one humanity great inspiration wrote note notably netanyahu first israeli prime minister visit india years \n",
            "실제 요약 : israeli pm netanyahu misspells gandhi as \n",
            "예측 요약 :  pm modi pays tribute to gandhiji in india\n",
            "\n",
            "\n",
            "원문 : following visit refugee camps rohingya muslims bangladesh un secretary general antonio guterres monday said facing humanitarian human rights nightmare guterres added heard accounts atrocities visit lakh rohingya muslims fled bangladesh following crackdown myanmar military last year \n",
            "실제 요약 : rohingya muslims facing human rights un chief \n",
            "예측 요약 :  myanmar myanmar myanmar to fight rohingyas\n",
            "\n",
            "\n",
            "원문 : showing support metoo movement writer director woody allen said poster boy movement worked hundreds actresses always wonderful record added said single ever suggested kind adding everyone wants justice done \n",
            "실제 요약 : should be poster boy for metoo movement allen \n",
            "예측 요약 :  metoo movement have been an actor\n",
            "\n",
            "\n",
            "원문 : google thursday announced integration hindi language assistant devices running android latest update users type queries give voice commands hindi language google also dedicated website list commands available hindi assistant spanning across apps including search maps youtube \n",
            "실제 요약 : google now allows hindi voice for its apps \n",
            "예측 요약 :  google to let users to let users\n",
            "\n",
            "\n",
            "원문 : reserve bank india unearthed hidden bad loans worth crore books sbi last fiscal central bank audit also showed biggest private lender hdfc bank bad loan crore fy difference bank reported bad loans rbi audit findings \n",
            "실제 요약 : rbi crore bad loans in sbi books for fy \n",
            "예측 요약 :  rbi imposes crore loan rates for fy\n",
            "\n",
            "\n"
          ]
        }
      ]
    },
    {
      "cell_type": "code",
      "source": [
        "# 학습 데이터 일부를 추출하여 실제 요약과 예측된 요약 비교\n",
        "for i in range(1, 50):\n",
        "  print(\"원문 :\", seq2text(encoder_input_train[i]))\n",
        "  print(\"실제 요약 :\", seq2summary(decoder_input_train[i]))\n",
        "  print(\"예측 요약 :\", decode_sequence(encoder_input_train[i].reshape(1, text_max_len)))\n",
        "  print(\"\\n\")"
      ],
      "metadata": {
        "colab": {
          "base_uri": "https://localhost:8080/"
        },
        "id": "IJ6oUwl2Cflv",
        "outputId": "bdce1d2a-2daf-41da-8fa8-20d7a03b0c98"
      },
      "execution_count": 51,
      "outputs": [
        {
          "output_type": "stream",
          "name": "stdout",
          "text": [
            "원문 : bjp president amit shah called mahatma gandhi saying knew would happen congress future hence wanted dismantle independence congress special purpose vehicle independence mahatma gandhi knew going happen people completing job said shah \n",
            "실제 요약 : amit shah on mahatma gandhi \n",
            "예측 요약 :  bjp leader amit shah to make his own statue\n",
            "\n",
            "\n",
            "원문 : congress president rahul gandhi convoy stopped shown black flags group people arrival karnataka sunday mob also threw flags convoy security personnel attempted clear area gandhi currently four day visit poll bound karnataka \n",
            "실제 요약 : rahul gandhi convoy shown black flags by mob in karnataka \n",
            "예측 요약 :  rahul gandhi convoy to visit srinagar hospital\n",
            "\n",
            "\n",
            "원문 : indonesian pop band named seventeen performing live near beach saturday struck tsunami wave triggered volcanic eruption want say bass player manager passed away band member said band wife missing incident \n",
            "실제 요약 : tsunami wave hits indonesian pop band concert members missing \n",
            "예측 요약 :  dolphin in indonesia cave dies after shark\n",
            "\n",
            "\n",
            "원문 : delhi high court sought congress leader sajjan kumar reply received cd letter claiming confession involvement anti sikh riots material presented court hearing cbi appeal kumar acquittal case relating murder least three sikhs \n",
            "실제 요약 : hc gets claiming to be confession of riots accused \n",
            "예측 요약 :  delhi hc orders probe into riots in riots case\n",
            "\n",
            "\n",
            "원문 : new poster upcoming film mubarakan released actor arjun kapoor seen double role star first time film uncle anil kapoor also starring ileana cruz athiya shetty film directed scheduled release july \n",
            "실제 요약 : new poster of anil kapoor arjun kapoor mubarakan released \n",
            "예측 요약 :  first look of salman khan from tiger unveiled\n",
            "\n",
            "\n",
            "원문 : juvenile justice board friday rejected bail plea filed juvenile accused ryan international school murder case hearing counsel central bureau investigation board acknowledged release year old might affect investigation case earlier board rejected plea treat juvenile minor \n",
            "실제 요약 : bail plea of ryan school murder accused rejected \n",
            "예측 요약 :  rape accused maharaj sent to aarushi talwar murder\n",
            "\n",
            "\n",
            "원문 : driver local train approaching mumbai andheri station applied emergency brakes stopping train metres away bridge collapsed tuesday morning saw bridge collapsing happened right front said western railways driver chandrashekhar sawant \n",
            "실제 요약 : driver stopped train from mumbai bridge that \n",
            "예측 요약 :  mumbai bridge collapse after collapse of\n",
            "\n",
            "\n",
            "원문 : many newspapers asean countries published prime minister narendra modi republic day opinion editorial languages external affairs ministry tweeted friday article titled shared values common destiny highlighted importance india ties asean countries common vision future pm modi wrote piece \n",
            "실제 요약 : newspapers in asean countries publish pm modi \n",
            "예측 요약 :  pm modi to visit india over catalonia disruptions summit\n",
            "\n",
            "\n",
            "원문 : samsung monday introduced connect tag smart tag track children pets seven days single charge centimetre wide waterproof device also allows users share location tag also notify user item person left pre defined zone \n",
            "실제 요약 : samsung introduces smart tag to track kids pets for week \n",
            "예측 요약 :  samsung to monitor smart with wearable sensors\n",
            "\n",
            "\n",
            "원문 : kashmiris uae organised ipl like league called kashmir super league second edition concluded recently league started january teams consisting kashmiri players inaugurated indian cricketer teams named different regions kashmir reportedly attracted worth \n",
            "실제 요약 : kashmiris in uae organise ipl like kashmir super league \n",
            "예측 요약 :  kashmiris in ipl organise super league\n",
            "\n",
            "\n",
            "원문 : constitution india environment forest development airports major ports country union transport minister nitin gadkari said friday law ministry soon issue notification regard added expected clearance process covers screening assessing environmental impact \n",
            "실제 요약 : ports do not need green clearance govt citing constitution \n",
            "예측 요약 :  govt to give up to scrap vehicles to\n",
            "\n",
            "\n",
            "원문 : villager jammu kashmir jhajjar claimed three terrorists broke house wednesday took biscuits apples since eaten five days asked car offered money left villager said one terrorists gunned thursday security personnel injured \n",
            "실제 요약 : terrorists took biscuits saying had not eaten for days man \n",
            "예측 요약 :  police officer who shot dead by armed forces in delhi\n",
            "\n",
            "\n",
            "원문 : actor comedian bill cosby referring movement sexual harassment metoo said please put metoo sexual assault case cosby ended trial based accusations andrea former temple university employee allegedly drugged sexually assaulted cosby \n",
            "실제 요약 : please do not put me on metoo says actor bill cosby \n",
            "예측 요약 :  sexual harassment at workplace is bad sex swara\n",
            "\n",
            "\n",
            "원문 : actor abhishek bachchan set star filmmaker upcoming film tentatively titled bachchan singh described something along lines mr india mask film written fantasy fiction film abhishek plays corrupt cop turns powers \n",
            "실제 요약 : abhishek to star in mr india like film bachchan singh \n",
            "예측 요약 :  abhishek bachchan to star in film with film report\n",
            "\n",
            "\n",
            "원문 : pass criteria class exams cbse exempted students mandatory separate criteria subjects marks internal assessment marks theory students need overall subject board said one time exemption exam made mandatory eight years \n",
            "실제 요약 : cbse exempts class students from separate pass criteria \n",
            "예측 요약 :  cbse class board exams to be used in class\n",
            "\n",
            "\n",
            "원문 : speaking india asian cup win thailand indian captain sunil chhetri wrote win special since win made country happy even day good small start bloody brilliant part way team went things part chhetri tweet read \n",
            "실제 요약 : it was special knowing we made india happy chhetri on win \n",
            "예측 요약 :  my career will be like enough for me chhetri\n",
            "\n",
            "\n",
            "원문 : harvard researchers investigating nearly climate change documents since claim found grave discrepancies oil giant internally acknowledged versus public denial internal documents acknowledge climate change real human caused yet instead expressing doubt researchers wrote \n",
            "실제 요약 : misled public on climate change for yrs study \n",
            "예측 요약 :  scientists claim of avoiding the mass\n",
            "\n",
            "\n",
            "원문 : firefighter caught baby thrown second floor burning building georgia united states firefighter robert said heard father help asked drop father later rescued nearby said one guy caught like football pass \n",
            "실제 요약 : catches baby dropped from burning building \n",
            "예측 요약 :  family of family die after being hit by by\n",
            "\n",
            "\n",
            "원문 : least commercial sex establishments mumbai provide minors sex trade report maharashtra state commission protection child rights international justice mission revealed report said minors aged years given injections make compliant birth control measures make \n",
            "실제 요약 : provide minors for sex in mumbai report \n",
            "예측 요약 :  minors among minors in delhi jails hc\n",
            "\n",
            "\n",
            "원문 : elon musk led space exploration startup spacex monday successfully launched th falcon rocket california rocket carried satellites orbit american communications company also returned floating drone ship pacific ocean launch marked spacex third mission \n",
            "실제 요약 : spacex successfully launches th falcon rocket in \n",
            "예측 요약 :  spacex rocket falcon rocket falcon satellite\n",
            "\n",
            "\n",
            "원문 : uttar pradesh police started drive tying bands horns stray cattle reduce road accidents caused tapes ensure long distance visibility especially helpful fog winters move comes winter season numerous cows lose lives coming vehicles contact \n",
            "실제 요약 : up stray cattle get to avoid accidents \n",
            "예측 요약 :  up villagers to deploy village for kumbh mela\n",
            "\n",
            "\n",
            "원문 : mumbai indians pacer lasith malinga become first bowler complete wickets ipl reached landmark match delhi daredevils saturday claimed two wickets malinga played mi since inception league playing matches recording four four wicket hauls one five \n",
            "실제 요약 : malinga becomes first to take wickets in ipl \n",
            "예측 요약 :  gl records most overs in ipl last wicket final\n",
            "\n",
            "\n",
            "원문 : schools offices run delhi government would remain shut november occasion children day deputy cm manish sisodia said government plans organise events across capital celebrate day children initiative aimed developing sense belonging delhi among children added \n",
            "실제 요약 : delhi govt schools offices to remain shut on children day \n",
            "예측 요약 :  centre to appoint doctors to stop kannada schools\n",
            "\n",
            "\n",
            "원문 : cricket legend sachin tendulkar turned tuesday batted india birthday year long career scored help india win odi tri series final australia sharjah april tired give gift wife birthday said sachin final \n",
            "실제 요약 : sachin just once on his birthday hit century on it \n",
            "예측 요약 :  sachin tendulkar takes wickets in his career\n",
            "\n",
            "\n",
            "원문 : meghalaya chief minister mukul sangma said yet enrol aadhaar since privacy concerns people state earlier written letter centre seeking exemption state aadhaar people registered aadhaar meghalaya uidai data revealed \n",
            "실제 요약 : yet to for aadhaar over right to privacy meghalaya cm \n",
            "예측 요약 :  aadhaar mandatory for registration registration\n",
            "\n",
            "\n",
            "원문 : wrestling federation india thrown four phogat sisters geeta babita ongoing national camp alleged indiscipline sisters skipped camp without informing federation following issued notices babita said missed camp due injury added information geeta \n",
            "실제 요약 : phogat sisters thrown out of national camp over \n",
            "예측 요약 :  phogat sisters thrown out of national anthem in india\n",
            "\n",
            "\n",
            "원문 : hearing case regarding medical admissions kerala supreme court said lawyers targeting everyone court destroying judicial institution spared court every judge targeted one arrow want kill institution destroyed people survive justice arun mishra said \n",
            "실제 요약 : you people are destroying this institution sc to lawyers \n",
            "예측 요약 :  sc orders notice to hc for filing convicts\n",
            "\n",
            "\n",
            "원문 : technology giant microsoft india born ceo satya nadella said choices people make define happens speaking recent event artificial intelligence also said societies path dependent ai empower us depending choices make designers ai \n",
            "실제 요약 : choices people make in will define microsoft ceo \n",
            "예측 요약 :  microsoft ceo satya nadella to be ready for ceo\n",
            "\n",
            "\n",
            "원문 : air india flight grounded catering van hit door aircraft delhi airport sunday morning according reports air india officials assessing damage said loss run lakhs flight delayed hour airport driving permit van driver seized \n",
            "실제 요약 : air india plane grounded after being hit by catering van \n",
            "예측 요약 :  indigo flight suffers wheel malfunction at delhi airport\n",
            "\n",
            "\n",
            "원문 : first ever spacewalk performed soviet cosmonaut march exited spacecraft climbing cylinder like object floated open space minutes interestingly soviet spacewalk made american spacewalk expected performed june \n",
            "실제 요약 : first spacewalk in history happened years ago \n",
            "예측 요약 :  world oldest spacewalk aged was sold for crore\n",
            "\n",
            "\n",
            "원문 : prime minister narendra modi monday said indian distress tweets anywhere world external affairs ministry even two night within minutes sushma swaraj replies praising using social media good governance said indians facing trouble abroad brought back home safely \n",
            "실제 요약 : sushma swaraj helps indians tweeting even at am modi \n",
            "예측 요약 :  pm modi greets india at rashtrapati bhavan in years\n",
            "\n",
            "\n",
            "원문 : year old girl died madhya pradesh allegedly due starvation father could buy food lost job labourer denied due wages sub divisional magistrate santosh tiwari said family food two days tiwari gave family compensation directed police take necessary action \n",
            "실제 요약 : yr old dies of after father denied wage in mp \n",
            "예측 요약 :  yr old dies after being denied treatment in up\n",
            "\n",
            "\n",
            "원문 : part assignment us university professor asked students mail twitter messages could send president donald trump get blocked micro blogging site tweet successfully gets account blocked receive five points final grade free absence professor added \n",
            "실제 요약 : us prof gives on how to get blocked by trump \n",
            "예측 요약 :  us prof hacked to block trump account for trump\n",
            "\n",
            "\n",
            "원문 : hyderabad police booked filmmaker ram gopal varma day release film god sex truth charges obscenity complaint filed social activist alleged varma posted obscene material social media filmmaker also booked making personal comments activist opposing film \n",
            "실제 요약 : ram gopal booked before god sex and truth release \n",
            "예측 요약 :  fir against nawazuddin for sexual harassment\n",
            "\n",
            "\n",
            "원문 : britain prince harry fianc meghan markle friday marked first joint royal visit couple visited english city attend world aids day charity fair buckingham palace announced engagement earlier week couple due married windsor castle may next year \n",
            "실제 요약 : prince harry meghan markle mark first joint royal visit \n",
            "예측 요약 :  prince harry meghan markle to meghan markle\n",
            "\n",
            "\n",
            "원문 : average age people forbes china rich list years average age wealthiest us years approximately china richest fall age compared america richest china rich list contains people age \n",
            "실제 요약 : average age of people on forbes china rich list is years \n",
            "예측 요약 :  indians are the biggest of the world biggest\n",
            "\n",
            "\n",
            "원문 : producer vinta nanda accused actor alok nath raping almost years ago tuesday said motivated tanushree dutta seeing speaking felt also speak women girls journalists speaking predators great admiration added \n",
            "실제 요약 : was by tanushree producer who accused alok nath of rape \n",
            "예측 요약 :  dileep sister denies rape accused alok nath\n",
            "\n",
            "\n",
            "원문 : five assistant sub inspectors delhi police caught nearly proclaimed offenders posted different locations officers went undercover one failed times managing arrest accused also assigned regular duties like night patrol maintaining law order among others \n",
            "실제 요약 : five delhi cops caught proclaimed offenders in \n",
            "예측 요약 :  men held for duping people in delhi\n",
            "\n",
            "\n",
            "원문 : punjab india share crimes narcotic drugs substances act declined according national crime records bureau statistics punjab also accounted convictions act however legal think tank report said act failed act deterrent punjab \n",
            "실제 요약 : punjab share of drug crimes down from to in yrs \n",
            "예측 요약 :  punjab to give crore to drug smugglers\n",
            "\n",
            "\n",
            "원문 : following announcement merger vodafone india idea kumar mangalam birla appointed entity chairman honoured chairman new company said new entity expected create india largest telecom operator merger reportedly values vodafone billion idea billion \n",
            "실제 요약 : kumar birla to be chairman of vodafone idea entity \n",
            "예측 요약 :  vodafone idea to be in years ambani\n",
            "\n",
            "\n",
            "원문 : defending india captain virat kohli field aggression ex pakistan pacer shoaib akhtar said virat kohli criticised kohli one modern game aggression part parcel competitive cricket specially playing long stays limit please cut added \n",
            "실제 요약 : please cut him some akhtar defends virat kohli aggression \n",
            "예측 요약 :  kohli will be tougher than kohli virat kohli aggression\n",
            "\n",
            "\n",
            "원문 : two women love around six years divorced husbands tied knot temple region two women ceremony however registrar refused recognise marriage saying government order sex marriages \n",
            "실제 요약 : up women in love for years divorce husbands marry each other \n",
            "예측 요약 :  women in the first ever marriage\n",
            "\n",
            "\n",
            "원문 : users reported certain forward messages circulated whatsapp crashing app globally android ios also freezing smartphones cases messages reportedly include invisible special characters responsible issue one messages reads interesting read tapping read app \n",
            "실제 요약 : whatsapp texts found to crash app phones globally \n",
            "예측 요약 :  whatsapp bug leaks users to prevent user photos\n",
            "\n",
            "\n",
            "원문 : uttar pradesh government decided set free prisoners monday occasion former prime minister atal bihari vajpayee rd birthday prisoners completed tenure could released due non payment fine imposed principal secretary arvind kumar said convicts picked random manner \n",
            "실제 요약 : prisoners set free in up on vajpayee birthday \n",
            "예측 요약 :  up govt to give up to ancestral for free\n",
            "\n",
            "\n",
            "원문 : youtuber kris shared video showing macbook pro modified run samsung software replaced internal parts macbook allowed run phone samsung allows galaxy plus users plug phones monitor boot desktop environment \n",
            "실제 요약 : man macbook pro into samsung laptop \n",
            "예측 요약 :  samsung galaxy phone with camera\n",
            "\n",
            "\n",
            "원문 : french presidential candidate jean recently spoke simultaneously seven rallies using technology physically present one rallies image projected crowds six locations time first round voting french presidential elections took place sunday \n",
            "실제 요약 : french prez candidate holds rallies at once using tech \n",
            "예측 요약 :  french prez macron to be auctioned for\n",
            "\n",
            "\n",
            "원문 : least two people killed others injured magnitude earthquake struck iran province sunday officials said earthquake struck nearly kilometre southwest city people killed earthquake november last year quake felt neighbouring iraq well \n",
            "실제 요약 : killed injured as magnitude earthquake hits iran \n",
            "예측 요약 :  killed injured in magnitude earthquake in\n",
            "\n",
            "\n",
            "원문 : actress janhvi kapoor shared childhood picture mother sridevi father boney kapoor first birth anniversary sridevi passed away earlier year sridevi known roles films like chandni sadma english among others last film film mom also th film \n",
            "실제 요약 : janhvi shares old pic on mother sridevi birth anniversary \n",
            "예측 요약 :  janhvi kapoor shares pic with sridevi at his wedding\n",
            "\n",
            "\n",
            "원문 : bombay high court thursday rejected plea seeking stay release upcoming kangana ranaut starrer manikarnika queen jhansi petition filed lawyer claimed fifth generation rani lakshmi bai petitioner accused film makers wrongly depicting historical facts queen \n",
            "실제 요약 : bombay hc refuses to grant stay on manikarnika release \n",
            "예측 요약 :  bombay hc stays manikarnika release of manikarnika\n",
            "\n",
            "\n"
          ]
        }
      ]
    },
    {
      "cell_type": "code",
      "source": [
        "# 테스트 데이터 일부를 추출하여 실제 요약과 예측된 요약 비교\n",
        "for i in range(1, 50):\n",
        "  print(\"원문 :\", seq2text(encoder_input_test[i]))\n",
        "  print(\"실제 요약 :\", seq2summary(decoder_input_test[i]))\n",
        "  print(\"예측 요약 :\", decode_sequence(encoder_input_test[i].reshape(1, text_max_len)))\n",
        "  print(\"\\n\")"
      ],
      "metadata": {
        "colab": {
          "base_uri": "https://localhost:8080/"
        },
        "id": "F9u7NQD8G6PB",
        "outputId": "26896ec3-8400-4178-b212-76f1f1123ae7"
      },
      "execution_count": 57,
      "outputs": [
        {
          "output_type": "stream",
          "name": "stdout",
          "text": [
            "원문 : elon musk led tunnelling startup boring company unveiled sale priced musk claims device world flames shorter feet legal per bureau sale company also offering branded fire \n",
            "실제 요약 : elon musk boring company unveils \n",
            "예측 요약 :  musk boring company to build mn to musk\n",
            "\n",
            "\n",
            "원문 : private lender icici bank duped lakh persons posing labour ministry employees police said saturday accused persons took loans amount submitting fake id cards ministry documents following discovery fraud bank employee registered complaint police \n",
            "실제 요약 : icici bank duped of by gang posing as ministry staff \n",
            "예측 요약 :  bank of directors of fake notes recovered from delhi\n",
            "\n",
            "\n",
            "원문 : actor bjp leader shatrughan sinha took twitter urge actor rajinikanth take politics tamil nadu shatrughan tweeted hope wish pray titanic people darling dear friend tn super hero rajinikanth rises tweeted right time rajinikanth reach people \n",
            "실제 요약 : shatrughan in his tweets urges rajinikanth to join politics \n",
            "예측 요약 :  paresh rawal to be screened at oscars film festival\n",
            "\n",
            "\n",
            "원문 : scientists analysing data nasa cassini spacecraft recently crashed saturn atmosphere suggest planet rings million years old relatively young compared solar system age billion years scientists currently rings formed due gravitational war moons collisions asteroid \n",
            "실제 요약 : saturn rings recent to solar system nasa study \n",
            "예측 요약 :  earth asteroid measured in past years study\n",
            "\n",
            "\n",
            "원문 : kerala high court decision college state expel two students love affair love blind individuals freedom court said added action cannot taken indiscipline absence evidence affected classes \n",
            "실제 요약 : hc quashes college move to expel students for love affair \n",
            "예측 요약 :  kerala hc slams muslim student over sex love jihad\n",
            "\n",
            "\n",
            "원문 : many newly elected mlas rajasthan assembly crorepatis according association democratic reforms congress crorepatis accounts maximum number crorepati legislators assembly congress followed bjp mlas possessing assets worth crore \n",
            "실제 요약 : out of new mlas in rajasthan are crorepatis report \n",
            "예측 요약 :  newly elected gujarat mlas to be held in dec\n",
            "\n",
            "\n",
            "원문 : year old man extra finger left hand struggled eight months get aadhaar card centres turned away due difficulty collecting fingerprints even meeting government officials help said system changed least people senior citizens added \n",
            "실제 요약 : man with fingers for months to get aadhaar \n",
            "예측 요약 :  man writes to pay for not giving aadhaar to\n",
            "\n",
            "\n",
            "원문 : world largest fine library book according guinness world records amount paid emily united states poetry book days checked public library april amount calculated two day years \n",
            "실제 요약 : the highest library book fine paid is \n",
            "예측 요약 :  world largest restaurant sold for crore\n",
            "\n",
            "\n",
            "원문 : satellite developed students university colorado made first direct detection electrons near inner edge earth radiation belt van allen radiation belts discovered interact cosmic rays exploding stars create potentially damaging electrons \n",
            "실제 요약 : year old space theory confirmed by student satellite \n",
            "예측 요약 :  scientists make new particles\n",
            "\n",
            "\n",
            "원문 : reportedly lost crore following india loss pakistan champions trophy final sunday per reports almost india nations including gulf countries placed money india indian bookies odds initially favour india paise every rupee \n",
            "실제 요약 : lost cr after india loss to pakistan report \n",
            "예측 요약 :  india to play pakistan in kashmir nations\n",
            "\n",
            "\n",
            "원문 : india council technical education recommended social sciences management engineering curriculum followed institutions next academic session students required study papers constitution essence indian traditional knowledge among topics theoretical classes reduced per week \n",
            "실제 요약 : new engineering may include constitution culture \n",
            "예측 요약 :  how is the rajya sabha elections\n",
            "\n",
            "\n",
            "원문 : karnataka cm siddaramaiah wednesday challenged pm narendra modi speak achievements bs yeddyurappa government karnataka minutes looking paper comes pm modi issued similar challenge congress president rahul gandhi asking speak party achievements minutes without reading paper \n",
            "실제 요약 : speak on bjp achievements for minutes taka cm to pm \n",
            "예측 요약 :  taka cm siddaramaiah is kumaraswamy on taka cm\n",
            "\n",
            "\n",
            "원문 : aam aadmi party today said convenor delhi cm arvind kejriwal contest upcoming lok sabha elections varanasi lost pm narendra modi lakh votes wants give special focus delhi party contest seats aap spokesperson sanjay singh said \n",
            "실제 요약 : kejriwal will not contest lok sabha elections from varanasi aap \n",
            "예측 요약 :  aap to contest seats in ls polls in mcd polls\n",
            "\n",
            "\n",
            "원문 : asked life american physicist predicted aliens peaceful view us like view forest animals also said neutral stance could shift get way added humans make contact alien civilisation within century \n",
            "실제 요약 : aliens will view us like we view forest animals \n",
            "예측 요약 :  external affairs ministry to be part of\n",
            "\n",
            "\n",
            "원문 : shiv sena said naseeruddin shah move pakistan india similar sentiments expressed aamir khan kiran rao second actor use language enjoying benefits country party added earlier shah said fears children cow death significant policeman \n",
            "실제 요약 : naseeruddin should go to pak if in india sena \n",
            "예측 요약 :  bjp is like in india shiv sena chief\n",
            "\n",
            "\n",
            "원문 : actor shahid kapoor speaking protests upcoming film padmavati said give film chance form respect whatever people think film see first added shahid said film team tried keep everyone feelings interests mind \n",
            "실제 요약 : give padmavati chance do not form any shahid \n",
            "예측 요약 :  bhansali is the of padmavati\n",
            "\n",
            "\n",
            "원문 : reacting actress gal gadot allegedly edited new trailer wonder woman user tweeted part wonder woman trailer clean new trailer wishing hair read another tweet meanwhile another person wrote believe people arguing wonder woman \n",
            "실제 요약 : twitter reacts to edited in wonder woman trailer \n",
            "예측 요약 :  wonder woman look from wonder woman gadot\n",
            "\n",
            "\n",
            "원문 : china recorded lowest birth rate last year nearly years data provided national bureau statistics revealed birth rate per thousand crore babies born year decline comes despite china ending one child policy allow couples two children \n",
            "실제 요약 : china records its lowest birth rate in years \n",
            "예측 요약 :  china launches its first ever internet in years\n",
            "\n",
            "\n",
            "원문 : canada mark bronze medal men event pyeongchang winter olympics sunday months involved near fatal accident broke bones besides suffering collapsed lung slamming tree march definitely miracle said winning medal \n",
            "실제 요약 : athlete who broke bones months ago wins olympic bronze \n",
            "예측 요약 :  olympic champion banned after being mistaken for rooms\n",
            "\n",
            "\n",
            "원문 : amazon reached highest level decade per official data released brazil government around square kilometres amazon destroyed august july data revealed citing satellite imagery brazil said illegal logging main factor behind increase \n",
            "실제 요약 : amazon hits highest level in yrs \n",
            "예측 요약 :  amazon to build world first ever local property centre\n",
            "\n",
            "\n",
            "원문 : taking dig congress finance minister arun jaitley said bjp always seen pro hindutva party original available one would prefer speaking gujarat surat ahead upcoming assembly elections jaitley said congress started making excuses defeat even results declared \n",
            "실제 요약 : bjp original pro hindutva party why prefer jaitley \n",
            "예측 요약 :  congress to observe party as karnataka president\n",
            "\n",
            "\n",
            "원문 : google submitted final plan build new london headquarters cost crore rooftop garden running track meter swimming pool massage rooms campus accommodate employees spread across square meters land also seat \n",
            "실제 요약 : new google headquarters to have rooftop park running track \n",
            "예측 요약 :  google to build robots to build its own store\n",
            "\n",
            "\n",
            "원문 : income tax department tuesday said quoting father name pan application forms mandatory cases applicant mother single parent new rules come effect december april department changed rules recognise transgenders independent category applicants obtaining pan \n",
            "실제 요약 : father name now not mandatory for getting pan in cases \n",
            "예측 요약 :  no right to privacy ministry to make pan pan minister\n",
            "\n",
            "\n",
            "원문 : bullet ridden body bsf jawan found international border pakistan near jammu yesterday reportedly showed throat slit bsf launched search operation body group eight personnel clearing area fired upon pakistani rangers denied knowledge jawan meeting \n",
            "실제 요약 : bsf jawan body found with throat slit at pakistan border report \n",
            "예측 요약 :  bsf jawan martyred in pakistan firing in pakistan\n",
            "\n",
            "\n",
            "원문 : aiadmk sat statewide hunger strike tamil nadu tuesday protest centre failure set cauvery management board despite supreme court order last date set march aiadmk alleged bjp acting karnataka favour ahead assembly elections board formation \n",
            "실제 요약 : aiadmk sits on hunger strike over cauvery issue \n",
            "예측 요약 :  tamil nadu govt suspends ayodhya for cauvery quota issue\n",
            "\n",
            "\n",
            "원문 : elon musk led tesla announced electric carmaker aims produce model cars per week startup said majority production lines would ready volume end tesla also plans produce model vehicles per week late august year \n",
            "실제 요약 : tesla aims to produce model cars per week in \n",
            "예측 요약 :  tesla cars to be controlled by tesla model\n",
            "\n",
            "\n",
            "원문 : election commission barred madhya pradesh minister mishra contesting elections three years paid news allegations assembly polls complaint filed former congress mla rajendra bharti april mishra earlier approached mp high court seeking inquiry ec plea rejected \n",
            "실제 요약 : ec imposes year poll ban on mp minister over paid news \n",
            "예측 요약 :  ec rejects plea to contest ls polls over triple talaq\n",
            "\n",
            "\n",
            "원문 : apps across apple app store google play store programmed listen audio phone microphone according report new york times using software company called apps would listen audio tv target advertisements however said software record personal conversations \n",
            "실제 요약 : over apps user for ad targeting report \n",
            "예측 요약 :  google removes apps that can steal iphones in app\n",
            "\n",
            "\n",
            "원문 : amid diplomatic row two countries saudi arabia transfer citizens receiving medical treatment canada north american country earlier saudi suspended scholarship education programmes students canada saudi suspended ties canada north american nation criticised arrest human rights activists kingdom \n",
            "실제 요약 : saudi patients in canada to be amid diplomatic row \n",
            "예측 요약 :  saudi arabia allows women to allow consulate to saudi\n",
            "\n",
            "\n",
            "원문 : bjp candidate gujarat cm vijay rupani initially trailing behind congress rajkot west votes monday parties need least seats form government member gujarat assembly notably bjp announced chief ministerial candidate gujarat \n",
            "실제 요약 : gujarat cm vijay rupani wins from west \n",
            "예측 요약 :  bjp wins bypoll in tripura assembly elections\n",
            "\n",
            "\n",
            "원문 : twitter urged million users change passwords micro blogging site discovered bug internally stored passwords plain text company said removed passwords investigations showed indication breach misuse however cautioned users change passwords services twitter password used \n",
            "실제 요약 : twitter urges all its million users to change passwords \n",
            "예측 요약 :  facebook flaw lets users send deleted to gmail users\n",
            "\n",
            "\n",
            "원문 : daughters taught good touch bad touch madhya pradesh chief minister shivraj singh chouhan said thursday found cases close relatives added cm led cabinet november approved death penalty rapists involved cases victims girls age years \n",
            "실제 요약 : daughters should be taught about good bad touch mp cm \n",
            "예측 요약 :  ias officer transferred for swine flu in madhya pradesh\n",
            "\n",
            "\n",
            "원문 : kangana ranaut earlier called karan johar flag bearer nepotism said compared hrithik roshan father rakesh roshan actress also revealed terrible time sets film produced johar dharma productions work johar missing anything added \n",
            "실제 요약 : johar is compared to hrithik and his dad kangana \n",
            "예측 요약 :  kangana ranaut starrer chef hits the theatres\n",
            "\n",
            "\n",
            "원문 : indian cricketer gautam gambhir offered bear life long education expenses daughter assistant sub inspector abdul jammu kashmir martyred anantnag thanked cricketer gesture saying thank gautam sir family happy gesture want become doctor \n",
            "실제 요약 : gambhir offers to bear education cost of martyr daughter \n",
            "예측 요약 :  gambhir ias officer to pay dsp for underprivileged kids\n",
            "\n",
            "\n",
            "원문 : investigation launched human foot washed canada british columbia making th time incident occurred since authorities ruled foul play prior incidents saying individuals either killed died accidentally feet naturally came apart bodies \n",
            "실제 요약 : th human foot washes up on of canadian province \n",
            "예측 요약 :  over lakh fish found in swiss alps\n",
            "\n",
            "\n",
            "원문 : municipal corporation gurugram wednesday said commercial building owners decided pay property tax instead providing free parking public notably mcg earlier offered property tax waiver building used provide free parking however owners allegedly said revenues parking \n",
            "실제 요약 : gurugram buildings to pay property tax over free parking \n",
            "예측 요약 :  gurugram civic body to revive noida civic body\n",
            "\n",
            "\n",
            "원문 : swara bhasker talking response received scene veere di wedding said expecting shock recalling time shot scene swara added nervous asked closed set swara said thing told director ghosh let make scene funny vulgar \n",
            "실제 요약 : was expecting the shock swara on veere masturbation scene \n",
            "예측 요약 :  swara slams swara for posting pic of her on pole\n",
            "\n",
            "\n",
            "원문 : actress soni razdan addressing rumours daughter alia bhatt dating sidharth malhotra asked alia cannot nice social life nobody saying wasting time sidharth coming late sets going early added soni said alia free choice spends time \n",
            "실제 요약 : why cannot she have social life soni on alia and sidharth \n",
            "예측 요약 :  alia bhatt to star in alia bhatt brahm stra\n",
            "\n",
            "\n",
            "원문 : sourav ganguly wife event said former captain shirt waving act lord india natwest series win fantastic gesture talking ganguly said would never lot satisfaction added name lord honours board remain lot special \n",
            "실제 요약 : ganguly shirt waving at lord was fantastic gesture wife \n",
            "예측 요약 :  ganguly shares throwback picture of his hairstyle\n",
            "\n",
            "\n",
            "원문 : bombay high court monday slammed maharashtra police holding press conference arrests five activists connection bhima koregaon violence court questioned police hold press conference case sub hearing petition demanding national investigation agency probe case \n",
            "실제 요약 : bombay hc slams cops over bhima koregaon press conference \n",
            "예측 요약 :  hc orders fir against bhima koregaon case against kanhaiya kumar\n",
            "\n",
            "\n",
            "원문 : nagaland chief minister vote confidence state assembly friday support mlas appointed cm former cm sacked appearing floor test cm forced resign protest tribals \n",
            "실제 요약 : nagaland cm wins vote of confidence in assembly \n",
            "예측 요약 :  will not be part of taka assembly polls minister\n",
            "\n",
            "\n",
            "원문 : padma shri awardee helped deliver babies free charge rural karnataka passed away aged bengaluru tuesday suffered chronic lung disease placed ventilator support five days survived four sons three daughters many grandchildren great grandchildren \n",
            "실제 요약 : padma shri winner who helped deliver babies for free dies at \n",
            "예측 요약 :  doctors perform yoga day at mumbai zoo\n",
            "\n",
            "\n",
            "원문 : india leading carmaker maruti suzuki said recalling units new swift models possible fault airbag controller units recall take place models manufactured may july include latest versions cars faulty parts replaced free \n",
            "실제 요약 : maruti recalls swift cars over faulty \n",
            "예측 요약 :  maruti suzuki to replace electric cars with\n",
            "\n",
            "\n",
            "원문 : team india batsman kl rahul said former captain ms dhoni gives lot heart attacks opposition great see back captain ipl absolutely enjoyed watching hit sixes rahul added big year rahul said performance ipl \n",
            "실제 요약 : dhoni gives lot of heart attacks to the opposition rahul \n",
            "예측 요약 :  dhoni should not be automatic of chappell chappell\n",
            "\n",
            "\n",
            "원문 : us police charged man murdering wife fitness tracker showed lied man claimed intruder entered house shot woman around however data woman proved still active inside house till \n",
            "실제 요약 : data used as proof to charge man with killing wife \n",
            "예측 요약 :  man jailed for yrs for putting maid in rectum\n",
            "\n",
            "\n",
            "원문 : woman england th century worth ticket six bedroom features cinema room wood burning parking six cars winner marie purchased tickets also receive title lady \n",
            "실제 요약 : woman wins crore with ticket \n",
            "예측 요약 :  man wins cr for selling fish in the world\n",
            "\n",
            "\n",
            "원문 : isis released image threatening launch terror attacks fifa world cup russia image shows rifle carrying isis fighter along bomb front football stadium also includes tournament official logo tournament played across cities russia june july \n",
            "실제 요약 : isis threatens attack during fifa world cup in russia \n",
            "예측 요약 :  iran prez bodyguards breaks into iran nuclear attack\n",
            "\n",
            "\n",
            "원문 : man arrested uttar pradesh video surfaced wherein men seen beating people defecating open people also made hold keep pockets went bank river relieve police said accused absconding \n",
            "실제 요약 : held in up for beating up people for in open \n",
            "예측 요약 :  man arrested for selling liquor in dry bihar\n",
            "\n",
            "\n",
            "원문 : freedom fighter bhagat singh born september participated mahatma gandhi non cooperation movement age burnt books hanged march along much trial killing british police officer \n",
            "실제 요약 : bhagat singh was born years ago on this day \n",
            "예측 요약 :  yoga day celebrated on day day\n",
            "\n",
            "\n"
          ]
        }
      ]
    },
    {
      "cell_type": "markdown",
      "source": [
        "# Rouge score 사용해보기\n",
        "\n",
        "가끔 NLP 분석을하고 이런 의문이 들었다.\n",
        "\n",
        "accuracy말고 다른 평가지표도 분명 있지 않을까?\n",
        "\n",
        "내가 한 시도들이 과연 개선된 결과를 가져오는지 매우 궁금하였다.\n",
        "\n",
        "![고민하는 페페.png](data:image/png;base64,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)\n",
        "\n",
        "그래서 NLP에서 사용하는 평가 지표를 찾아보았고 BELU와 Rouge score를 찾았다.\n",
        "\n",
        "문장 요약에서 사용하는 지표는 Rouge score이기 때문에 적용해보려한다.\n",
        "\n",
        "[Rouge score 이론1](https://velog.io/@crosstar1228/NLPRouge-score-Summarization%EC%9D%98-%ED%8F%89%EA%B0%80-Metric#4-rouge-score%EC%9D%98-%EB%8B%A8%EC%A0%90)\n",
        "\n",
        "[Rouge score 이론2](https://huffon.github.io/2019/12/07/rouge/)\n",
        "\n",
        "[Rouge score 결과 해석 참고](https://pypi.org/project/rouge/)"
      ],
      "metadata": {
        "id": "RN8HV31UP73K"
      }
    },
    {
      "cell_type": "markdown",
      "source": [
        "1. ROUGE-N\n",
        "\n",
        "N-gram의 개수가 기준\n",
        "\n",
        "Rouge-1은 unigram, Rouge-2 는 bigram\n",
        "\n",
        "Recall : output과 겹치는 N-gram의 수 / label의 N-gram의수\n",
        "\n",
        "precision : label과 겹치는 N-gram의 수 / output의 N-gram의수\n",
        "\n",
        "![images_crosstar1228_post_ad8bf35e-3154-4040-9c73-2460f95a3337_image.png](data:image/png;base64,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)"
      ],
      "metadata": {
        "id": "SLiTXj8VVNO2"
      }
    },
    {
      "cell_type": "markdown",
      "source": [
        "2. ROUGE-L\n",
        "LCS(longest common sequence) between model output\n",
        "\n",
        "말 그대로 common sequence 중에서 가장 긴 것을 매칭함\n",
        "\n",
        "n-gram과 달리 순서나 위치관계를 고려한 알고리즘\n",
        "\n",
        "Recall : LCS 길이 / label의 N-gram의수\n",
        "Precision : LCS 길이 / output의 N-gram의수"
      ],
      "metadata": {
        "id": "ipyX2I9UVimF"
      }
    },
    {
      "cell_type": "code",
      "source": [
        "# 라이브러리 설치\n",
        "!pip install rouge-score"
      ],
      "metadata": {
        "colab": {
          "base_uri": "https://localhost:8080/"
        },
        "id": "1UO6x51AD4-L",
        "outputId": "d0687998-f65e-46fa-cbd0-23e1eff86f9b"
      },
      "execution_count": 53,
      "outputs": [
        {
          "output_type": "stream",
          "name": "stdout",
          "text": [
            "Looking in indexes: https://pypi.org/simple, https://us-python.pkg.dev/colab-wheels/public/simple/\n",
            "Collecting rouge-score\n",
            "  Downloading rouge_score-0.1.2.tar.gz (17 kB)\n",
            "Requirement already satisfied: absl-py in /usr/local/lib/python3.7/dist-packages (from rouge-score) (1.2.0)\n",
            "Requirement already satisfied: nltk in /usr/local/lib/python3.7/dist-packages (from rouge-score) (3.7)\n",
            "Requirement already satisfied: numpy in /usr/local/lib/python3.7/dist-packages (from rouge-score) (1.21.6)\n",
            "Requirement already satisfied: six>=1.14.0 in /usr/local/lib/python3.7/dist-packages (from rouge-score) (1.15.0)\n",
            "Requirement already satisfied: click in /usr/local/lib/python3.7/dist-packages (from nltk->rouge-score) (7.1.2)\n",
            "Requirement already satisfied: joblib in /usr/local/lib/python3.7/dist-packages (from nltk->rouge-score) (1.1.0)\n",
            "Requirement already satisfied: regex>=2021.8.3 in /usr/local/lib/python3.7/dist-packages (from nltk->rouge-score) (2022.6.2)\n",
            "Requirement already satisfied: tqdm in /usr/local/lib/python3.7/dist-packages (from nltk->rouge-score) (4.64.0)\n",
            "Building wheels for collected packages: rouge-score\n",
            "  Building wheel for rouge-score (setup.py) ... \u001b[?25l\u001b[?25hdone\n",
            "  Created wheel for rouge-score: filename=rouge_score-0.1.2-py3-none-any.whl size=24955 sha256=0aebe9d752a25a4e2637a0d8065b2ad7c3b2a9e5f05829494e53c8860eb8a806\n",
            "  Stored in directory: /root/.cache/pip/wheels/84/ac/6b/38096e3c5bf1dc87911e3585875e21a3ac610348e740409c76\n",
            "Successfully built rouge-score\n",
            "Installing collected packages: rouge-score\n",
            "Successfully installed rouge-score-0.1.2\n"
          ]
        }
      ]
    },
    {
      "cell_type": "code",
      "source": [
        "# 라이브러리 설치\n",
        "!pip install rouge"
      ],
      "metadata": {
        "colab": {
          "base_uri": "https://localhost:8080/"
        },
        "id": "SzLdi3yOOgIR",
        "outputId": "fdfbe63f-e5a8-402e-8153-2234ae130bbc"
      },
      "execution_count": 91,
      "outputs": [
        {
          "output_type": "stream",
          "name": "stdout",
          "text": [
            "Looking in indexes: https://pypi.org/simple, https://us-python.pkg.dev/colab-wheels/public/simple/\n",
            "Collecting rouge\n",
            "  Downloading rouge-1.0.1-py3-none-any.whl (13 kB)\n",
            "Requirement already satisfied: six in /usr/local/lib/python3.7/dist-packages (from rouge) (1.15.0)\n",
            "Installing collected packages: rouge\n",
            "Successfully installed rouge-1.0.1\n"
          ]
        }
      ]
    },
    {
      "cell_type": "code",
      "source": [
        "# 라이브러리 불러오기\n",
        "from rouge import Rouge"
      ],
      "metadata": {
        "id": "QmT-7C07OZ3S"
      },
      "execution_count": 92,
      "outputs": []
    },
    {
      "cell_type": "code",
      "source": [
        "# model_out 문장 추출 (input_train)\n",
        "# 모델로부터 추론된 data를 output\n",
        "model_out = []\n",
        "for i in range(1, 1000):\n",
        "  summary = decode_sequence(encoder_input_train[i].reshape(1, text_max_len))\n",
        "  model_out.append(summary)\n",
        "\n",
        "# 아쉬운 점은 랜덤추출을 하고싶었으나 코드적으로 구현하지못해 999개까지만 추출하여 비교해보았다."
      ],
      "metadata": {
        "id": "_D5GlWzJHGyW"
      },
      "execution_count": 78,
      "outputs": []
    },
    {
      "cell_type": "code",
      "source": [
        "# model_out 문장 추출 (input_test)\n",
        "# 모델로부터 추론된 data를 output\n",
        "model_out2 = []\n",
        "for i in range(1, 1000):\n",
        "  summary2 = decode_sequence(encoder_input_test[i].reshape(1, text_max_len))\n",
        "  model_out2.append(summary2)"
      ],
      "metadata": {
        "id": "mzLgcFYhSnme"
      },
      "execution_count": 98,
      "outputs": []
    },
    {
      "cell_type": "code",
      "source": [
        "# label 문장 추출 (input_test)\n",
        "# 사람이 요약한 Reference 정보를 label\n",
        "label = []\n",
        "for i in range(1, 1000):\n",
        "  headline = seq2summary(decoder_input_train[i])\n",
        "  label.append(headline)"
      ],
      "metadata": {
        "id": "ERRGKqroI4ln"
      },
      "execution_count": 79,
      "outputs": []
    },
    {
      "cell_type": "code",
      "source": [
        "# label 문장 추출 (input_train)\n",
        "# 사람이 요약한 Reference 정보를 label\n",
        "label2 = []\n",
        "for i in range(1, 1000):\n",
        "  headline2 = seq2summary(decoder_input_test[i])\n",
        "  label2.append(headline2)"
      ],
      "metadata": {
        "id": "II--jpDsSoOy"
      },
      "execution_count": 99,
      "outputs": []
    },
    {
      "cell_type": "code",
      "source": [
        "# 문장 개수 확인\n",
        "print(len(model_out), len(label))"
      ],
      "metadata": {
        "colab": {
          "base_uri": "https://localhost:8080/"
        },
        "id": "Zqi3OcaUL-tT",
        "outputId": "e5b45f7f-557c-4d01-ad50-b0dcd64c858b"
      },
      "execution_count": 80,
      "outputs": [
        {
          "output_type": "stream",
          "name": "stdout",
          "text": [
            "999 999\n"
          ]
        }
      ]
    },
    {
      "cell_type": "code",
      "source": [
        "# 문장 개수 확인\n",
        "print(len(model_out2), len(label2))"
      ],
      "metadata": {
        "colab": {
          "base_uri": "https://localhost:8080/"
        },
        "id": "E-QtX7eMU4CO",
        "outputId": "fd007fab-1997-4c5b-86e2-a597a0f4908e"
      },
      "execution_count": 100,
      "outputs": [
        {
          "output_type": "stream",
          "name": "stdout",
          "text": [
            "999 999\n"
          ]
        }
      ]
    },
    {
      "cell_type": "code",
      "source": [
        "# Rouge score 출력 (input_train)\n",
        "# get.scores를 사용하면 Rouge-1, Rouge-2, Rouge-l score 확인 가능\n",
        "rouge = Rouge()\n",
        "rouge.get_scores(model_out, label, avg=True)\n",
        "\n",
        "# 오류메시지 : 'list' object has no attribute 'lower'\n",
        "# 해결방법 : pip install rouge를 설치하여 문제 해결\n",
        "# \"f\"는 f1_score, \"p\"는 정밀도, \"r\"은 재현율"
      ],
      "metadata": {
        "colab": {
          "base_uri": "https://localhost:8080/"
        },
        "id": "jdSIORRxEug0",
        "outputId": "732ad4be-4e81-481f-e6e2-4f8a09a5ab1e"
      },
      "execution_count": 94,
      "outputs": [
        {
          "output_type": "execute_result",
          "data": {
            "text/plain": [
              "{'rouge-1': {'r': 0.24168255557144502,\n",
              "  'p': 0.27429492985048504,\n",
              "  'f': 0.25314853783128355},\n",
              " 'rouge-2': {'r': 0.07682007404229639,\n",
              "  'p': 0.0833178416511751,\n",
              "  'f': 0.07877579343197068},\n",
              " 'rouge-l': {'r': 0.22416016304905237,\n",
              "  'p': 0.2542332014554233,\n",
              "  'f': 0.2347196569755021}}"
            ]
          },
          "metadata": {},
          "execution_count": 94
        }
      ]
    },
    {
      "cell_type": "code",
      "source": [
        "# Rouge score 출력 (input_test)\n",
        "# get.scores를 사용하면 Rouge-1, Rouge-2, Rouge-l score 확인 가능\n",
        "rouge = Rouge()\n",
        "rouge.get_scores(model_out2, label2, avg=True)\n",
        "\n",
        "# 전체적으로 input_train 보다 input_output이 더 낮은 score를 보여주었다.\n",
        "# 대부분 test가 train보다 정확도가 떨어지는 경향이있으므로 당연한 수치라고 생각한다.\n",
        "# \"f\"는 f1_score, \"p\"는 정밀도, \"r\"은 재현율"
      ],
      "metadata": {
        "colab": {
          "base_uri": "https://localhost:8080/"
        },
        "id": "UdshL1WAShOW",
        "outputId": "1909a925-6e90-4750-ab0d-88945673987a"
      },
      "execution_count": 101,
      "outputs": [
        {
          "output_type": "execute_result",
          "data": {
            "text/plain": [
              "{'rouge-1': {'r': 0.16197460086349014,\n",
              "  'p': 0.18532381587937136,\n",
              "  'f': 0.17016831604527302},\n",
              " 'rouge-2': {'r': 0.03135119246230355,\n",
              "  'p': 0.03401615901615902,\n",
              "  'f': 0.032060189028602755},\n",
              " 'rouge-l': {'r': 0.15113822336044594,\n",
              "  'p': 0.1730111063444396,\n",
              "  'f': 0.15879446927410945}}"
            ]
          },
          "metadata": {},
          "execution_count": 101
        }
      ]
    },
    {
      "cell_type": "markdown",
      "source": [
        "결과를 출력하는 건 성공하였다.\n",
        "\n",
        "![기쁜 페페.png](data:image/png;base64,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)\n",
        "\n",
        "다만 만족스러운 수치는 아니다....\n",
        "\n",
        "![img.png](data:image/png;base64,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)"
      ],
      "metadata": {
        "id": "VYNMrQJoQVVf"
      }
    },
    {
      "cell_type": "markdown",
      "source": [
        "# Step 5. Summa을 이용해서 추출적 요약해보기\n",
        "\n",
        "- 추출적 요약은 추상적 요약보다는 난이도가 낮다. 왜냐하면 기존 문장에서 문장을 꺼내오는 것이므로 잘못된 요약이 나올 가능성이 낮다."
      ],
      "metadata": {
        "id": "JUsEBTmYcoRv"
      }
    },
    {
      "cell_type": "code",
      "source": [
        "!pip install summa"
      ],
      "metadata": {
        "colab": {
          "base_uri": "https://localhost:8080/"
        },
        "id": "2u_5wX4Zc0x6",
        "outputId": "f586594f-19e6-48f4-d2f5-7dcb554c12e7"
      },
      "execution_count": 4,
      "outputs": [
        {
          "output_type": "stream",
          "name": "stdout",
          "text": [
            "Looking in indexes: https://pypi.org/simple, https://us-python.pkg.dev/colab-wheels/public/simple/\n",
            "Collecting summa\n",
            "  Downloading summa-1.2.0.tar.gz (54 kB)\n",
            "\u001b[K     |████████████████████████████████| 54 kB 2.5 MB/s \n",
            "\u001b[?25hRequirement already satisfied: scipy>=0.19 in /usr/local/lib/python3.7/dist-packages (from summa) (1.7.3)\n",
            "Requirement already satisfied: numpy<1.23.0,>=1.16.5 in /usr/local/lib/python3.7/dist-packages (from scipy>=0.19->summa) (1.21.6)\n",
            "Building wheels for collected packages: summa\n",
            "  Building wheel for summa (setup.py) ... \u001b[?25l\u001b[?25hdone\n",
            "  Created wheel for summa: filename=summa-1.2.0-py3-none-any.whl size=54412 sha256=0c4d0e619e6715b9ea235cf5c70be952e81e4d4fcef804df88ba7a87626ebf99\n",
            "  Stored in directory: /root/.cache/pip/wheels/29/64/ac/7b443477588d365ef37ada30d456bdf5f07dc5be9f6324cb6e\n",
            "Successfully built summa\n",
            "Installing collected packages: summa\n",
            "Successfully installed summa-1.2.0\n"
          ]
        }
      ]
    },
    {
      "cell_type": "code",
      "source": [
        "import requests\n",
        "from summa.summarizer import summarize"
      ],
      "metadata": {
        "id": "1QRj1SCPeBjl"
      },
      "execution_count": null,
      "outputs": []
    },
    {
      "cell_type": "code",
      "source": [
        "# 데이터 불러오기\n",
        "urllib.request.urlretrieve(\"https://raw.githubusercontent.com/sunnysai12345/News_Summary/master/news_summary_more.csv\", filename=\"news_summary_more.csv\")\n",
        "data = pd.read_csv('news_summary_more.csv', encoding='iso-8859-1')\n",
        "data.sample(10)"
      ],
      "metadata": {
        "colab": {
          "base_uri": "https://localhost:8080/",
          "height": 363
        },
        "id": "rZ_mPu6hdJkK",
        "outputId": "04fecdc6-f057-44ba-8c47-d96367635322"
      },
      "execution_count": null,
      "outputs": [
        {
          "output_type": "execute_result",
          "data": {
            "text/plain": [
              "                                               headlines  \\\n",
              "74310  UAE envoy calls Saudi 'f***in coo coo' in leak...   \n",
              "22793  Elon Musk-backed startup's AI beats humans at ...   \n",
              "50507  Had found Delhi more conservative than Kabul: ...   \n",
              "98190  Baahubali 2 trailer leak due to Facebook glitc...   \n",
              "24612  Junior doctors of 5 MP medical colleges collec...   \n",
              "18946  Samsung plans to stop TV production in India: ...   \n",
              "16942  Jenifer Lewis wears Nike at Emmys in support o...   \n",
              "58304  World's largest propeller plane lands at UK ai...   \n",
              "72450  Statue depicts Telangana IAS officer as mother...   \n",
              "96349  Sehwag awards Smith 'Tubelight' in #ViruGharel...   \n",
              "\n",
              "                                                    text  \n",
              "74310  UAE's envoy to the US Yousef Otaiba has report...  \n",
              "22793  Elon Musk-backed startup OpenAI's bot team Ope...  \n",
              "50507  Ex-Afghanistan President Hamid Karzai has said...  \n",
              "98190  'Baahubali 2' director SS Rajamouli said that ...  \n",
              "24612  Junior doctors at five medical colleges in Mad...  \n",
              "18946  South Korean electronics giant Samsung is repo...  \n",
              "16942  Jenifer Lewis wore a Nike sweater with the bra...  \n",
              "58304  The world's largest propeller plane, Antonov A...  \n",
              "72450  A statue depicting Urban collector of Telangan...  \n",
              "96349  Virender Sehwag announced #ViruGhareluAwards o...  "
            ],
            "text/html": [
              "\n",
              "  <div id=\"df-121728e4-27f5-477d-a729-507676a550cd\">\n",
              "    <div class=\"colab-df-container\">\n",
              "      <div>\n",
              "<style scoped>\n",
              "    .dataframe tbody tr th:only-of-type {\n",
              "        vertical-align: middle;\n",
              "    }\n",
              "\n",
              "    .dataframe tbody tr th {\n",
              "        vertical-align: top;\n",
              "    }\n",
              "\n",
              "    .dataframe thead th {\n",
              "        text-align: right;\n",
              "    }\n",
              "</style>\n",
              "<table border=\"1\" class=\"dataframe\">\n",
              "  <thead>\n",
              "    <tr style=\"text-align: right;\">\n",
              "      <th></th>\n",
              "      <th>headlines</th>\n",
              "      <th>text</th>\n",
              "    </tr>\n",
              "  </thead>\n",
              "  <tbody>\n",
              "    <tr>\n",
              "      <th>74310</th>\n",
              "      <td>UAE envoy calls Saudi 'f***in coo coo' in leak...</td>\n",
              "      <td>UAE's envoy to the US Yousef Otaiba has report...</td>\n",
              "    </tr>\n",
              "    <tr>\n",
              "      <th>22793</th>\n",
              "      <td>Elon Musk-backed startup's AI beats humans at ...</td>\n",
              "      <td>Elon Musk-backed startup OpenAI's bot team Ope...</td>\n",
              "    </tr>\n",
              "    <tr>\n",
              "      <th>50507</th>\n",
              "      <td>Had found Delhi more conservative than Kabul: ...</td>\n",
              "      <td>Ex-Afghanistan President Hamid Karzai has said...</td>\n",
              "    </tr>\n",
              "    <tr>\n",
              "      <th>98190</th>\n",
              "      <td>Baahubali 2 trailer leak due to Facebook glitc...</td>\n",
              "      <td>'Baahubali 2' director SS Rajamouli said that ...</td>\n",
              "    </tr>\n",
              "    <tr>\n",
              "      <th>24612</th>\n",
              "      <td>Junior doctors of 5 MP medical colleges collec...</td>\n",
              "      <td>Junior doctors at five medical colleges in Mad...</td>\n",
              "    </tr>\n",
              "    <tr>\n",
              "      <th>18946</th>\n",
              "      <td>Samsung plans to stop TV production in India: ...</td>\n",
              "      <td>South Korean electronics giant Samsung is repo...</td>\n",
              "    </tr>\n",
              "    <tr>\n",
              "      <th>16942</th>\n",
              "      <td>Jenifer Lewis wears Nike at Emmys in support o...</td>\n",
              "      <td>Jenifer Lewis wore a Nike sweater with the bra...</td>\n",
              "    </tr>\n",
              "    <tr>\n",
              "      <th>58304</th>\n",
              "      <td>World's largest propeller plane lands at UK ai...</td>\n",
              "      <td>The world's largest propeller plane, Antonov A...</td>\n",
              "    </tr>\n",
              "    <tr>\n",
              "      <th>72450</th>\n",
              "      <td>Statue depicts Telangana IAS officer as mother...</td>\n",
              "      <td>A statue depicting Urban collector of Telangan...</td>\n",
              "    </tr>\n",
              "    <tr>\n",
              "      <th>96349</th>\n",
              "      <td>Sehwag awards Smith 'Tubelight' in #ViruGharel...</td>\n",
              "      <td>Virender Sehwag announced #ViruGhareluAwards o...</td>\n",
              "    </tr>\n",
              "  </tbody>\n",
              "</table>\n",
              "</div>\n",
              "      <button class=\"colab-df-convert\" onclick=\"convertToInteractive('df-121728e4-27f5-477d-a729-507676a550cd')\"\n",
              "              title=\"Convert this dataframe to an interactive table.\"\n",
              "              style=\"display:none;\">\n",
              "        \n",
              "  <svg xmlns=\"http://www.w3.org/2000/svg\" height=\"24px\"viewBox=\"0 0 24 24\"\n",
              "       width=\"24px\">\n",
              "    <path d=\"M0 0h24v24H0V0z\" fill=\"none\"/>\n",
              "    <path d=\"M18.56 5.44l.94 2.06.94-2.06 2.06-.94-2.06-.94-.94-2.06-.94 2.06-2.06.94zm-11 1L8.5 8.5l.94-2.06 2.06-.94-2.06-.94L8.5 2.5l-.94 2.06-2.06.94zm10 10l.94 2.06.94-2.06 2.06-.94-2.06-.94-.94-2.06-.94 2.06-2.06.94z\"/><path d=\"M17.41 7.96l-1.37-1.37c-.4-.4-.92-.59-1.43-.59-.52 0-1.04.2-1.43.59L10.3 9.45l-7.72 7.72c-.78.78-.78 2.05 0 2.83L4 21.41c.39.39.9.59 1.41.59.51 0 1.02-.2 1.41-.59l7.78-7.78 2.81-2.81c.8-.78.8-2.07 0-2.86zM5.41 20L4 18.59l7.72-7.72 1.47 1.35L5.41 20z\"/>\n",
              "  </svg>\n",
              "      </button>\n",
              "      \n",
              "  <style>\n",
              "    .colab-df-container {\n",
              "      display:flex;\n",
              "      flex-wrap:wrap;\n",
              "      gap: 12px;\n",
              "    }\n",
              "\n",
              "    .colab-df-convert {\n",
              "      background-color: #E8F0FE;\n",
              "      border: none;\n",
              "      border-radius: 50%;\n",
              "      cursor: pointer;\n",
              "      display: none;\n",
              "      fill: #1967D2;\n",
              "      height: 32px;\n",
              "      padding: 0 0 0 0;\n",
              "      width: 32px;\n",
              "    }\n",
              "\n",
              "    .colab-df-convert:hover {\n",
              "      background-color: #E2EBFA;\n",
              "      box-shadow: 0px 1px 2px rgba(60, 64, 67, 0.3), 0px 1px 3px 1px rgba(60, 64, 67, 0.15);\n",
              "      fill: #174EA6;\n",
              "    }\n",
              "\n",
              "    [theme=dark] .colab-df-convert {\n",
              "      background-color: #3B4455;\n",
              "      fill: #D2E3FC;\n",
              "    }\n",
              "\n",
              "    [theme=dark] .colab-df-convert:hover {\n",
              "      background-color: #434B5C;\n",
              "      box-shadow: 0px 1px 3px 1px rgba(0, 0, 0, 0.15);\n",
              "      filter: drop-shadow(0px 1px 2px rgba(0, 0, 0, 0.3));\n",
              "      fill: #FFFFFF;\n",
              "    }\n",
              "  </style>\n",
              "\n",
              "      <script>\n",
              "        const buttonEl =\n",
              "          document.querySelector('#df-121728e4-27f5-477d-a729-507676a550cd button.colab-df-convert');\n",
              "        buttonEl.style.display =\n",
              "          google.colab.kernel.accessAllowed ? 'block' : 'none';\n",
              "\n",
              "        async function convertToInteractive(key) {\n",
              "          const element = document.querySelector('#df-121728e4-27f5-477d-a729-507676a550cd');\n",
              "          const dataTable =\n",
              "            await google.colab.kernel.invokeFunction('convertToInteractive',\n",
              "                                                     [key], {});\n",
              "          if (!dataTable) return;\n",
              "\n",
              "          const docLinkHtml = 'Like what you see? Visit the ' +\n",
              "            '<a target=\"_blank\" href=https://colab.research.google.com/notebooks/data_table.ipynb>data table notebook</a>'\n",
              "            + ' to learn more about interactive tables.';\n",
              "          element.innerHTML = '';\n",
              "          dataTable['output_type'] = 'display_data';\n",
              "          await google.colab.output.renderOutput(dataTable, element);\n",
              "          const docLink = document.createElement('div');\n",
              "          docLink.innerHTML = docLinkHtml;\n",
              "          element.appendChild(docLink);\n",
              "        }\n",
              "      </script>\n",
              "    </div>\n",
              "  </div>\n",
              "  "
            ]
          },
          "metadata": {},
          "execution_count": 54
        }
      ]
    },
    {
      "cell_type": "markdown",
      "source": [
        "# summarize 사용하기\n",
        "\n",
        "text (str) : 요약할 테스트.\n",
        "\n",
        "ratio (float, optional) – 요약문에서 원본에서 선택되는 문장 비율. 0~1 사이값\n",
        "\n",
        "words (int or None, optional) – 출력에 포함할 단어 수.\n",
        "만약, ratio와 함께 두 파라미터가 모두 제공되는 경우 ratio는 무시한다.\n",
        "\n",
        "split (bool, optional) – True면 문장 list / False는 조인(join)된 문자열을 반환"
      ],
      "metadata": {
        "id": "PoBpUsgZeKgt"
      }
    },
    {
      "cell_type": "code",
      "source": [
        "for idx, (head, text) in enumerate(zip(data['headlines'], data['text'])):\n",
        "    if idx == 30:\n",
        "        break\n",
        "    print(\"원문 :\", text)\n",
        "    print(\"실제 요약 :\", head)\n",
        "    print(\"추출적 요약 :\", summarize(text, ratio=0.5))\n",
        "    print(\"\\n\")"
      ],
      "metadata": {
        "colab": {
          "base_uri": "https://localhost:8080/"
        },
        "id": "SnGjZRCXdNQD",
        "outputId": "8a560489-dfb7-4d28-b35d-dabb70276c19"
      },
      "execution_count": null,
      "outputs": [
        {
          "output_type": "stream",
          "name": "stdout",
          "text": [
            "원문 : Saurav Kant, an alumnus of upGrad and IIIT-B's PG Program in Machine learning and Artificial Intelligence, was a Sr Systems Engineer at Infosys with almost 5 years of work experience. The program and upGrad's 360-degree career support helped him transition to a Data Scientist at Tech Mahindra with 90% salary hike. upGrad's Online Power Learning has powered 3 lakh+ careers.\n",
            "실제 요약 : upGrad learner switches to career in ML & Al with 90% salary hike\n",
            "추출적 요약 : upGrad's Online Power Learning has powered 3 lakh+ careers.\n",
            "\n",
            "\n",
            "원문 : Kunal Shah's credit card bill payment platform, CRED, gave users a chance to win free food from Swiggy for one year. Pranav Kaushik, a Delhi techie, bagged this reward after spending 2000 CRED coins. Users get one CRED coin per rupee of bill paid, which can be used to avail rewards from brands like Ixigo, BookMyShow, UberEats, Cult.Fit and more.\n",
            "실제 요약 : Delhi techie wins free food from Swiggy for one year on CRED\n",
            "추출적 요약 : Users get one CRED coin per rupee of bill paid, which can be used to avail rewards from brands like Ixigo, BookMyShow, UberEats, Cult.Fit and more.\n",
            "\n",
            "\n",
            "원문 : New Zealand defeated India by 8 wickets in the fourth ODI at Hamilton on Thursday to win their first match of the five-match ODI series. India lost an international match under Rohit Sharma's captaincy after 12 consecutive victories dating back to March 2018. The match witnessed India getting all out for 92, their seventh lowest total in ODI cricket history.\n",
            "실제 요약 : New Zealand end Rohit Sharma-led India's 12-match winning streak\n",
            "추출적 요약 : The match witnessed India getting all out for 92, their seventh lowest total in ODI cricket history.\n",
            "\n",
            "\n",
            "원문 : With Aegon Life iTerm Insurance plan, customers can enjoy tax benefits on your premiums paid and save up to Ã¢ÂÂ¹46,800^ on taxes. The plan provides life cover up to the age of 100 years. Also, customers have options to insure against Critical Illnesses, Disability and Accidental Death Benefit Rider with a life cover up to the age of 80 years.\n",
            "실제 요약 : Aegon life iTerm insurance plan helps customers save tax\n",
            "추출적 요약 : Also, customers have options to insure against Critical Illnesses, Disability and Accidental Death Benefit Rider with a life cover up to the age of 80 years.\n",
            "\n",
            "\n",
            "원문 : Speaking about the sexual harassment allegations against Rajkumar Hirani, Sonam Kapoor said, \"I've known Hirani for many years...What if it's not true, the [#MeToo] movement will get derailed.\" \"In the #MeToo movement, I always believe a woman. But in this case, we need to reserve our judgment,\" she added. Hirani has been accused by an assistant who worked in 'Sanju'.\n",
            "실제 요약 : Have known Hirani for yrs, what if MeToo claims are not true: Sonam\n",
            "추출적 요약 : Speaking about the sexual harassment allegations against Rajkumar Hirani, Sonam Kapoor said, \"I've known Hirani for many years...What if it's not true, the [#MeToo] movement will get derailed.\" \"In the #MeToo movement, I always believe a woman.\n",
            "\n",
            "\n",
            "원문 : Pakistani singer Rahat Fateh Ali Khan has denied receiving any notice from the Enforcement Directorate over allegedly smuggling foreign currency out of India. \"It would have been better if the authorities would have served the notice first if any and then publicised this,\" reads a press release issued on behalf of Rahat. The statement further called the allegation \"bizarre\".\n",
            "실제 요약 : Rahat Fateh Ali Khan denies getting notice for smuggling currency\n",
            "추출적 요약 : Pakistani singer Rahat Fateh Ali Khan has denied receiving any notice from the Enforcement Directorate over allegedly smuggling foreign currency out of India.\n",
            "\n",
            "\n",
            "원문 : India recorded their lowest ODI total in New Zealand after getting all out for 92 runs in 30.5 overs in the fourth ODI at Hamilton on Thursday. Seven of India's batsmen were dismissed for single-digit scores, while their number ten batsman Yuzvendra Chahal top-scored with 18*(37). India's previous lowest ODI total in New Zealand was 108.\n",
            "실제 요약 : India get all out for 92, their lowest ODI total in New Zealand\n",
            "추출적 요약 : India's previous lowest ODI total in New Zealand was 108.\n",
            "\n",
            "\n",
            "원문 : Weeks after ex-CBI Director Alok Verma told the Department of Personnel and Training to consider him retired, the Home Ministry asked him to join work on the last day of his fixed tenure as Director on Thursday. The ministry directed him to immediately join as DG, Fire Services, the post he was transferred to after his removal as CBI chief.\n",
            "실제 요약 : Govt directs Alok Verma to join work 1 day before his retirement\n",
            "추출적 요약 : Weeks after ex-CBI Director Alok Verma told the Department of Personnel and Training to consider him retired, the Home Ministry asked him to join work on the last day of his fixed tenure as Director on Thursday.\n",
            "\n",
            "\n",
            "원문 : Andhra Pradesh CM N Chandrababu Naidu has said, \"When I met then US President Bill Clinton, I addressed him as Mr Clinton, not as 'sir'. (PM Narendra) Modi is my junior in politics...I addressed him as sir 10 times.\" \"I did this...to satisfy his ego in the hope that he will do justice to the state,\" he added.\n",
            "실제 요약 : Called PM Modi 'sir' 10 times to satisfy his ego: Andhra CM\n",
            "추출적 요약 : Andhra Pradesh CM N Chandrababu Naidu has said, \"When I met then US President Bill Clinton, I addressed him as Mr Clinton, not as 'sir'.\n",
            "\n",
            "\n",
            "원문 : Congress candidate Shafia Zubair won the Ramgarh Assembly seat in Rajasthan, by defeating BJP's Sukhwant Singh with a margin of 12,228 votes in the bypoll. With this victory, Congress has taken its total to 100 seats in the 200-member assembly. The election to the Ramgarh seat was delayed due to the death of sitting MLA and BSP candidate Laxman Singh.\n",
            "실제 요약 : Cong wins Ramgarh bypoll in Rajasthan, takes total to 100 seats\n",
            "추출적 요약 : Congress candidate Shafia Zubair won the Ramgarh Assembly seat in Rajasthan, by defeating BJP's Sukhwant Singh with a margin of 12,228 votes in the bypoll.\n",
            "\n",
            "\n",
            "원문 : Two minor cousins in Uttar Pradesh's Gorakhpur were allegedly repeatedly burnt with tongs and forced to eat human excreta by their family for being friends with two boys from the same school. The cousins revealed their ordeal to the police and Child Welfare Committee after being brought back to Gorakhpur from Nepal, where they had fled to escape the torture.\n",
            "실제 요약 : UP cousins fed human excreta for friendship with boys\n",
            "추출적 요약 : Two minor cousins in Uttar Pradesh's Gorakhpur were allegedly repeatedly burnt with tongs and forced to eat human excreta by their family for being friends with two boys from the same school.\n",
            "\n",
            "\n",
            "원문 : Isha Ghosh, an 81-year-old member of Bharat Scouts and Guides (BSG), has been imparting physical and mental training to schoolchildren in Jharkhand for several decades. Chaibasa-based Ghosh reportedly walks seven kilometres daily and spends eight hours conducting physical training, apart from climbing and yoga sessions. She says, \"One should do something for society till one's last breath.\"\n",
            "실제 요약 : 81-yr-old woman conducts physical training in J'khand schools\n",
            "추출적 요약 : Isha Ghosh, an 81-year-old member of Bharat Scouts and Guides (BSG), has been imparting physical and mental training to schoolchildren in Jharkhand for several decades.\n",
            "\n",
            "\n",
            "원문 : Urging saints and seers at the Kumbh Mela to quit smoking, Yoga guru Ramdev said, \"We follow Ram and Krishna who never smoked in their life then why should we?\" Making them take a pledge to quit tobacco, he collected chillum (clay pipe) from several sadhus. He said he will deposit the chillums for display at a museum he'll build.\n",
            "실제 요약 : Ram, Krishna didn't smoke, why should we: Ramdev to sadhus at Kumbh\n",
            "추출적 요약 : Urging saints and seers at the Kumbh Mela to quit smoking, Yoga guru Ramdev said, \"We follow Ram and Krishna who never smoked in their life then why should we?\" Making them take a pledge to quit tobacco, he collected chillum (clay pipe) from several sadhus.\n",
            "\n",
            "\n",
            "원문 : Former stripper and regional sales director of a pharmaceutical company, Sunrise Lee, gave a doctor a lap dance in a nightclub to persuade him to prescribe an addictive fentanyl spray in 2012, the company's sales representative told a US court. She said she saw Lee \"sitting on [doctor's] lap, kind of bouncing around.\" Lee has been accused of bribing doctors.\n",
            "실제 요약 : Pharma exec gave doctor a lap dance to sell medicine in US: Witness\n",
            "추출적 요약 : Former stripper and regional sales director of a pharmaceutical company, Sunrise Lee, gave a doctor a lap dance in a nightclub to persuade him to prescribe an addictive fentanyl spray in 2012, the company's sales representative told a US court.\n",
            "\n",
            "\n",
            "원문 : Reliance Industries' Chairman Mukesh Ambani's daughter Isha Ambani, who got married last month, said she only cried at her 'bidaai' because she felt peer pressure as everyone was crying, especially her parents. \"I was emotional too but everyone around me would cry all the time,\" she added. \"It was a very emotional affair for everyone in my family,\" said Isha.\n",
            "실제 요약 :  I only cried at my 'bidaai' as I felt peer pressure: Isha Ambani\n",
            "추출적 요약 : \"It was a very emotional affair for everyone in my family,\" said Isha.\n",
            "\n",
            "\n",
            "원문 : Louis Vuitton owner LVMH, which makes high-end beverages like MoÃÂ«t & Chandon champagne and Hennessy cognac, said it's stockpiling four months' worth of wine and spirits in UK in preparation for Brexit. \"We're ready for worst case scenario if there are difficulties with deliveries,\" the French luxury giant said. The UK is scheduled to leave the EU on March 29.\n",
            "실제 요약 : Louis Vuitton owner to stockpile 4 months of wine, spirits in UK\n",
            "추출적 요약 : Louis Vuitton owner LVMH, which makes high-end beverages like MoÃÂ«t & Chandon champagne and Hennessy cognac, said it's stockpiling four months' worth of wine and spirits in UK in preparation for Brexit.\n",
            "\n",
            "\n",
            "원문 : Filmmaker Karan Johar and actress Tabu turned showstoppers for Gaurav Gupta on the opening night of LakmÃÂ© Fashion Week Summer/ Resort 2019. While Johar wore a red sequinned jacket with black pants, Tabu walked the ramp in a grey embellished gown. The fashion show, which began on January 29, will continue till February 3.\n",
            "실제 요약 : Karan Johar, Tabu turn showstoppers on opening night of LFW\n",
            "추출적 요약 : Filmmaker Karan Johar and actress Tabu turned showstoppers for Gaurav Gupta on the opening night of LakmÃÂ© Fashion Week Summer/ Resort 2019.\n",
            "\n",
            "\n",
            "원문 : In a jibe at Congress President Rahul Gandhi, PM Narendra Modi on Wednesday said those on \"bail will have to go to jail.\" PM Modi added, \"He is out on bail and his associates too are facing charges...I know they will be convicted one day.\" The PM claimed he'd waged a war on corruption because he's from a common household. \n",
            "실제 요약 : Those on bail will go to jail: PM Modi takes jibe at Rahul\n",
            "추출적 요약 : \n",
            "\n",
            "\n",
            "원문 : Days after he threatened to step down from his post if Congress MLAs continue \"crossing the line,\" Karnataka Chief Minister HD Kumaraswamy accused them of taking potshots and asked, \"How many more days can I tolerate such stuff?\" Kumaraswamy, who made the statements after a Congress MLA demanded that Siddaramaiah be made CM again, said, \"Power is ephemeral.\"\n",
            "실제 요약 : How long can I tolerate Congress leaders' potshots: K'taka CM\n",
            "추출적 요약 : \n",
            "\n",
            "\n",
            "원문 : Union Minister Dharmendra Pradhan on Wednesday claimed the illegal mining mafia in Odisha operates under the control of CM Naveen Patnaik and state Congress chief Niranjan Patnaik. He added, \"The time has come for the people of Odisha to put a full stop to their activities...The time has come for us to ask for an explanation from this corrupt government.\"\n",
            "실제 요약 : Odisha CM Patnaik controls mining mafia: Union Minister\n",
            "추출적 요약 : Union Minister Dharmendra Pradhan on Wednesday claimed the illegal mining mafia in Odisha operates under the control of CM Naveen Patnaik and state Congress chief Niranjan Patnaik.\n",
            "\n",
            "\n",
            "원문 : Claiming there is a dearth of ideas among opposition parties, Prime Minister Narendra Modi on Wednesday said, \"The opposition talks only about Modi the whole day, I suspect they even dream about me.\" PM Modi, who was addressing the New India Youth Conclave inÃ¢ÂÂ Surat, added that the opposition parties have only one agenda which is \"Modi\". \n",
            "실제 요약 : I think the opposition even dreams about me: PM Modi\n",
            "추출적 요약 : \n",
            "\n",
            "\n",
            "원문 : The Indian Space Research Organisation on Wednesday unveiled Human Space Flight Centre in Bengaluru for its Ã¢ÂÂ¹10,000-crore manned space mission 'Gaganyaan' scheduled for 2021. ISRO said the centre will be responsible for development of engineering systems for crew survival in space and crew selection and training. It'll also pursue activities for sustained human space flight missions, ISRO added.\n",
            "실제 요약 : ISRO unveils Bengaluru centre for manned space mission \n",
            "추출적 요약 : It'll also pursue activities for sustained human space flight missions, ISRO added.\n",
            "\n",
            "\n",
            "원문 : At least 12 people have been killed and 170 others have been injured in Saudi Arabia this week due to flooding from heavy rain. The emergency services rescued 271 people from the flooded areas, more than half of them in Tabuk. Heavy rains hit mainly western and northwestern parts of Saudi Arabia, near its border with Jordan.\n",
            "실제 요약 : 12 killed, 170 injured in Saudi Arabia floods\n",
            "추출적 요약 : At least 12 people have been killed and 170 others have been injured in Saudi Arabia this week due to flooding from heavy rain.\n",
            "\n",
            "\n",
            "원문 : Reliance Industries' Chairman Mukesh Ambani's daughter Isha Ambani has featured on the cover of the February edition of Vogue India. She's dressed in a white shirt dress and black ruffled skirt by Australian designer Toni Maticevski, while accessorising her look with a Misho ring. In the cover story on her, Isha has spoken about her work and life after marriage.\n",
            " \n",
            "실제 요약 : Isha Ambani features on February cover of Vogue magazine\n",
            "추출적 요약 : Reliance Industries' Chairman Mukesh Ambani's daughter Isha Ambani has featured on the cover of the February edition of Vogue India.\n",
            "\n",
            "\n",
            "원문 : Indian Oil Corporation on Wednesday said it's looking for an annual deal to buy US crude as it seeks to broaden oil purchasing options. This comes amid uncertainties over Iran imports. The US had in November granted a six-month waiver to India from sanctions against Iran and restricted the country's monthly intake of Iranian oil to 3,00,000 barrels per day.\n",
            "\n",
            "\n",
            "실제 요약 : Indian Oil looking for annual deal to buy crude from US\n",
            "추출적 요약 : The US had in November granted a six-month waiver to India from sanctions against Iran and restricted the country's monthly intake of Iranian oil to 3,00,000 barrels per day.\n",
            "\n",
            "\n",
            "원문 : Former Windies fast bowler Curtly Ambrose dismissed seven Australian batsmen within a span of 32 balls giving away just one run, in a Test match on January 30, 1993. Ambrose's spell helped his team bowl out Australia for 119 in the first innings, after being 85 for 2 at one point. Ambrose ended with first-innings figures of 18-9-25-7.\n",
            "실제 요약 : Pacer once took 7 wickets for just 1 run in 32 balls in a Test\n",
            "추출적 요약 : Ambrose ended with first-innings figures of 18-9-25-7.\n",
            "\n",
            "\n",
            "원문 : A London zoo is offering people to name a cockroach after their exes on Valentine's Day for ÃÂ£1.50 (nearly Ã¢ÂÂ¹140). \"For those that don't quite require revenge, there's another way to make you feel better about getting back at your ex,\" the zoo said in a statement. The names will appear on zoo's 'roach board' on February 14. \n",
            "실제 요약 : UK zoo offers people to name cockroach after their ex on Valentine's\n",
            "추출적 요약 : The names will appear on zoo's 'roach board' on February 14.\n",
            "\n",
            "\n",
            "원문 : Stand-in captain Rohit Sharma has become the 14th Indian cricketer to play 200 ODIs, achieving the feat after taking the field against New Zealand in fourth ODI at Hamilton on Thursday. The 31-year-old had made his ODI debut on June 23, 2007, against Ireland in Belfast. Rohit scored 7,799 runs in his first 199 ODIs at an average of 48.14.\n",
            "실제 요약 : Rohit Sharma becomes 14th Indian cricketer to play 200 ODIs\n",
            "추출적 요약 : Rohit scored 7,799 runs in his first 199 ODIs at an average of 48.14.\n",
            "\n",
            "\n",
            "원문 : Batsman Shubman Gill has become the 227th cricketer to represent India in ODI cricket, achieving the feat against New Zealand in the fourth ODI at Hamilton on Thursday. The 19-year-old received his maiden ODI cap from former captain MS Dhoni. Notably, Shubman was named Player of the Under-19 World Cup in New Zealand last year.\n",
            "실제 요약 : 19-year-old Shubman Gill becomes India's 227th ODI cricketer\n",
            "추출적 요약 : Notably, Shubman was named Player of the Under-19 World Cup in New Zealand last year.\n",
            "\n",
            "\n",
            "원문 : Investigators searching for a lost plane carrying Argentine forward Emiliano Sala found two seat cushions on French coast that \"likely\" belonged to the aircraft. The investigators said they'll now launch an underwater seabed search for aircraft wreckage. The Cardiff City footballer was travelling from France's Nantes to Wales' Cardiff when his plane disappeared over English Channel on January 21.\n",
            "실제 요약 : 2 seat cushions from 'missing plane carrying footballer' found\n",
            "추출적 요약 : Investigators searching for a lost plane carrying Argentine forward Emiliano Sala found two seat cushions on French coast that \"likely\" belonged to the aircraft.\n",
            "\n",
            "\n"
          ]
        }
      ]
    },
    {
      "cell_type": "markdown",
      "source": [
        "# 회고"
      ],
      "metadata": {
        "id": "lX7qGW4XKysW"
      }
    },
    {
      "cell_type": "markdown",
      "source": [
        "1. 이번 프로젝트에서 어려웠던 점\n",
        " \n",
        " (1) 추상적 요약에서 실제 원문의 내용까지 알아보기 힘들다는 느낌이 들었습니다. 전처리가 너무 과다하게 들어간 것이 아닐까? 라는 생각이 들었습니다.\n",
        "\n",
        " (2) 기존 lstm  + 어텐션에서 Bi-LSTM + 어텐션을 도전하려다보니 학습시키기까지 과정이 너무 힘들었습니다\n",
        "\n",
        " (3) 새로운 평가지표를 사용하기 위해서 실제 요약문과 모델이 요약한 결과를 출력할 때도 많은 어려움이 있었다. 하지만 잘 추출할 수 있었다.!!!\n",
        " "
      ],
      "metadata": {
        "id": "ojmxzLRyK1cS"
      }
    },
    {
      "cell_type": "markdown",
      "source": [
        "2. 프로젝트를 진행하면서 알게된 부분 또는 아직 이해하지 못한 부분\n",
        "\n",
        "(1) NLP에서 사용하는 평가지표가 있다는 것을 알게되었습니다.\n",
        "\n",
        "- BLEU\n",
        "\n",
        "- ROUGE\n",
        "\n",
        "Recall-Oriented Understudy for Gisting Evaluation\n",
        "\n",
        "label(사람이 만든 요약문)과 summary(모델이 생성한 inference)을 비교해서 성능 계산\n",
        "\n",
        "ROUGE-N, ROUGE-L, ROUGE-W, ROUGE-S 등 다양한 지표가 있음\n",
        "\n",
        "Recall : label을 구성하는 단어 중 몇개가 inference와 겹치는가?\n",
        "- 우선적으로 필요한 정보들이 다 담겨있는지 체크\n",
        "\n",
        "precision : inference를 구성하는 단어 중 몇개가 label과 겹치는가?\n",
        "- 요약된 문장에 필요한 정보만을 얼마나 담고있는지를 체크\n",
        "\n",
        "\n",
        "\n"
      ],
      "metadata": {
        "id": "cMgNvnfQLhyy"
      }
    },
    {
      "cell_type": "markdown",
      "source": [
        "참조\n",
        "\n",
        "(1) [Rouge score](https://velog.io/@crosstar1228/NLPRouge-score-Summarization%EC%9D%98-%ED%8F%89%EA%B0%80-Metric#4-rouge-score%EC%9D%98-%EB%8B%A8%EC%A0%90)\n",
        "\n",
        "(2) [Rouge score 이론2](https://huffon.github.io/2019/12/07/rouge/)\n",
        "\n",
        "(3) [Rouge score 결과 해석 참고](https://pypi.org/project/rouge/)\n",
        "\n",
        "(4) [BLEU Score(Bilingual Evaluation Understudy Score)](https://wikidocs.net/31695)\n",
        "\n",
        "(5) [Bi-LSTM Hegemony](https://ratsgo.github.io/natural%20language%20processing/2017/10/22/manning/)\n",
        "\n",
        "(6) [Bi-LSTM 인코더 설계 참고 1](https://wikidocs.net/48920)\n",
        "\n",
        "(7) [Bi-LSTM 인코더 설계 참고 2](https://stackoverflow.com/questions/50815354/seq2seq-bidirectional-encoder-decoder-in-keras)\n",
        "\n"
      ],
      "metadata": {
        "id": "xWtviva-f2gG"
      }
    }
  ]
}