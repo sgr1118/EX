{
  "nbformat": 4,
  "nbformat_minor": 0,
  "metadata": {
    "colab": {
      "provenance": [],
      "collapsed_sections": [],
      "machine_shape": "hm",
      "authorship_tag": "ABX9TyMVZeROGo+CNvAi43AyynUe",
      "include_colab_link": true
    },
    "kernelspec": {
      "name": "python3",
      "display_name": "Python 3"
    },
    "language_info": {
      "name": "python"
    },
    "accelerator": "GPU",
    "gpuClass": "standard"
  },
  "cells": [
    {
      "cell_type": "markdown",
      "metadata": {
        "id": "view-in-github",
        "colab_type": "text"
      },
      "source": [
        "<a href=\"https://colab.research.google.com/github/sgr1118/EX/blob/main/%5BExp_12%5D_Abstractive_summarization.ipynb\" target=\"_parent\"><img src=\"https://colab.research.google.com/assets/colab-badge.svg\" alt=\"Open In Colab\"/></a>"
      ]
    },
    {
      "cell_type": "markdown",
      "source": [
        "# 12-13. 프로젝트: 뉴스기사 요약해보기"
      ],
      "metadata": {
        "id": "BX4jc0TsCG6-"
      }
    },
    {
      "cell_type": "code",
      "source": [
        "# 필요한 라이브러리 불러오기\n",
        "import nltk\n",
        "nltk.download('stopwords')\n",
        "\n",
        "import numpy as np\n",
        "import pandas as pd\n",
        "import os\n",
        "import re\n",
        "import matplotlib.pyplot as plt\n",
        "from nltk.corpus import stopwords\n",
        "from bs4 import BeautifulSoup \n",
        "from tensorflow.keras.preprocessing.text import Tokenizer \n",
        "from tensorflow.keras.preprocessing.sequence import pad_sequences\n",
        "import urllib.request\n",
        "import warnings\n",
        "warnings.filterwarnings(\"ignore\", category=UserWarning, module='bs4')"
      ],
      "metadata": {
        "colab": {
          "base_uri": "https://localhost:8080/"
        },
        "id": "Y3fq-wViCNQ5",
        "outputId": "7c2eb6a1-8fc7-4c2d-c4a9-6819ef7a39d0"
      },
      "execution_count": 1,
      "outputs": [
        {
          "output_type": "stream",
          "name": "stderr",
          "text": [
            "[nltk_data] Downloading package stopwords to /root/nltk_data...\n",
            "[nltk_data]   Package stopwords is already up-to-date!\n"
          ]
        }
      ]
    },
    {
      "cell_type": "markdown",
      "source": [
        "# Step 1. 데이터 수집하기\n",
        "\n",
        "- 뉴스 기사 링크 불러오기"
      ],
      "metadata": {
        "id": "i14TZEa2Ci4Q"
      }
    },
    {
      "cell_type": "code",
      "execution_count": 2,
      "metadata": {
        "id": "KQgMe3RpI3DA"
      },
      "outputs": [],
      "source": [
        "# 데이터 불러오기\n",
        "import urllib.request\n",
        "urllib.request.urlretrieve(\"https://raw.githubusercontent.com/sunnysai12345/News_Summary/master/news_summary_more.csv\", filename=\"news_summary_more.csv\")\n",
        "data = pd.read_csv('news_summary_more.csv', encoding='iso-8859-1')"
      ]
    },
    {
      "cell_type": "code",
      "source": [
        "# 데이터 확인\n",
        "print(data.shape)\n",
        "data.sample(10)\n",
        "\n",
        "# 98401개의 row와 2개의 columns를 가짐\n",
        "# 데이터의 columns는 'headlines'과 'text'로 되었이다. 제목과 본문으로 생각하면 될거같다.\n",
        "# 추상적 요약을 하는경우 text를 본문, headline을 요약된 데이터로 삼아서 학습\n",
        "# 추출적 요약을 하는경우 오직 text열만을 사용"
      ],
      "metadata": {
        "colab": {
          "base_uri": "https://localhost:8080/",
          "height": 381
        },
        "id": "bIOgGplMDDCZ",
        "outputId": "f75590ca-e10f-4dfc-e988-2086ec5af142"
      },
      "execution_count": 3,
      "outputs": [
        {
          "output_type": "stream",
          "name": "stdout",
          "text": [
            "(98401, 2)\n"
          ]
        },
        {
          "output_type": "execute_result",
          "data": {
            "text/plain": [
              "                                               headlines  \\\n",
              "30002  If talent was appreciated, I'd have been a sta...   \n",
              "50084  Liberia Prez cuts his salary by 1/4th due to e...   \n",
              "67809  YouTube deletes footage of US-led coalition ai...   \n",
              "35362  UCO Bank stock falls to 12-yr low as ex-CMD bo...   \n",
              "56467  Israel closes Gaza border crossings over rocke...   \n",
              "8242   Sidhu gets more love in Pakistan than India: H...   \n",
              "78982  We won't allow driverless cars in India: Gover...   \n",
              "16528  Seeing Ivanka improves my mood: Russian cosmon...   \n",
              "79620   Southern Russia hit by massive plague of locusts   \n",
              "39083  Zoya Zinda Hai to be Tiger Zinda Hai's sequel,...   \n",
              "\n",
              "                                                    text  \n",
              "30002  Actor Annu Kapoor has said if content and tale...  \n",
              "50084   Liberia's newly sworn-in President George Wea...  \n",
              "67809  YouTube has reportedly taken down or applied r...  \n",
              "35362  Shares of state-run UCO Bank slumped to a near...  \n",
              "56467  Israel on Thursday announced the closure of it...  \n",
              "8242   Union Minister Harsimrat Kaur Badal on Wednesd...  \n",
              "78982  Minister of Road Transport and Highways Nitin ...  \n",
              "16528  Oleg Artemyev, a Russian cosmonaut aboard the ...  \n",
              "79620  A video showing a swarm of locusts travelling ...  \n",
              "39083  Salman Khan has jokingly said that the film 'T...  "
            ],
            "text/html": [
              "\n",
              "  <div id=\"df-16289124-e4d5-47b2-bf07-dc0757a0fbf7\">\n",
              "    <div class=\"colab-df-container\">\n",
              "      <div>\n",
              "<style scoped>\n",
              "    .dataframe tbody tr th:only-of-type {\n",
              "        vertical-align: middle;\n",
              "    }\n",
              "\n",
              "    .dataframe tbody tr th {\n",
              "        vertical-align: top;\n",
              "    }\n",
              "\n",
              "    .dataframe thead th {\n",
              "        text-align: right;\n",
              "    }\n",
              "</style>\n",
              "<table border=\"1\" class=\"dataframe\">\n",
              "  <thead>\n",
              "    <tr style=\"text-align: right;\">\n",
              "      <th></th>\n",
              "      <th>headlines</th>\n",
              "      <th>text</th>\n",
              "    </tr>\n",
              "  </thead>\n",
              "  <tbody>\n",
              "    <tr>\n",
              "      <th>30002</th>\n",
              "      <td>If talent was appreciated, I'd have been a sta...</td>\n",
              "      <td>Actor Annu Kapoor has said if content and tale...</td>\n",
              "    </tr>\n",
              "    <tr>\n",
              "      <th>50084</th>\n",
              "      <td>Liberia Prez cuts his salary by 1/4th due to e...</td>\n",
              "      <td>Liberia's newly sworn-in President George Wea...</td>\n",
              "    </tr>\n",
              "    <tr>\n",
              "      <th>67809</th>\n",
              "      <td>YouTube deletes footage of US-led coalition ai...</td>\n",
              "      <td>YouTube has reportedly taken down or applied r...</td>\n",
              "    </tr>\n",
              "    <tr>\n",
              "      <th>35362</th>\n",
              "      <td>UCO Bank stock falls to 12-yr low as ex-CMD bo...</td>\n",
              "      <td>Shares of state-run UCO Bank slumped to a near...</td>\n",
              "    </tr>\n",
              "    <tr>\n",
              "      <th>56467</th>\n",
              "      <td>Israel closes Gaza border crossings over rocke...</td>\n",
              "      <td>Israel on Thursday announced the closure of it...</td>\n",
              "    </tr>\n",
              "    <tr>\n",
              "      <th>8242</th>\n",
              "      <td>Sidhu gets more love in Pakistan than India: H...</td>\n",
              "      <td>Union Minister Harsimrat Kaur Badal on Wednesd...</td>\n",
              "    </tr>\n",
              "    <tr>\n",
              "      <th>78982</th>\n",
              "      <td>We won't allow driverless cars in India: Gover...</td>\n",
              "      <td>Minister of Road Transport and Highways Nitin ...</td>\n",
              "    </tr>\n",
              "    <tr>\n",
              "      <th>16528</th>\n",
              "      <td>Seeing Ivanka improves my mood: Russian cosmon...</td>\n",
              "      <td>Oleg Artemyev, a Russian cosmonaut aboard the ...</td>\n",
              "    </tr>\n",
              "    <tr>\n",
              "      <th>79620</th>\n",
              "      <td>Southern Russia hit by massive plague of locusts</td>\n",
              "      <td>A video showing a swarm of locusts travelling ...</td>\n",
              "    </tr>\n",
              "    <tr>\n",
              "      <th>39083</th>\n",
              "      <td>Zoya Zinda Hai to be Tiger Zinda Hai's sequel,...</td>\n",
              "      <td>Salman Khan has jokingly said that the film 'T...</td>\n",
              "    </tr>\n",
              "  </tbody>\n",
              "</table>\n",
              "</div>\n",
              "      <button class=\"colab-df-convert\" onclick=\"convertToInteractive('df-16289124-e4d5-47b2-bf07-dc0757a0fbf7')\"\n",
              "              title=\"Convert this dataframe to an interactive table.\"\n",
              "              style=\"display:none;\">\n",
              "        \n",
              "  <svg xmlns=\"http://www.w3.org/2000/svg\" height=\"24px\"viewBox=\"0 0 24 24\"\n",
              "       width=\"24px\">\n",
              "    <path d=\"M0 0h24v24H0V0z\" fill=\"none\"/>\n",
              "    <path d=\"M18.56 5.44l.94 2.06.94-2.06 2.06-.94-2.06-.94-.94-2.06-.94 2.06-2.06.94zm-11 1L8.5 8.5l.94-2.06 2.06-.94-2.06-.94L8.5 2.5l-.94 2.06-2.06.94zm10 10l.94 2.06.94-2.06 2.06-.94-2.06-.94-.94-2.06-.94 2.06-2.06.94z\"/><path d=\"M17.41 7.96l-1.37-1.37c-.4-.4-.92-.59-1.43-.59-.52 0-1.04.2-1.43.59L10.3 9.45l-7.72 7.72c-.78.78-.78 2.05 0 2.83L4 21.41c.39.39.9.59 1.41.59.51 0 1.02-.2 1.41-.59l7.78-7.78 2.81-2.81c.8-.78.8-2.07 0-2.86zM5.41 20L4 18.59l7.72-7.72 1.47 1.35L5.41 20z\"/>\n",
              "  </svg>\n",
              "      </button>\n",
              "      \n",
              "  <style>\n",
              "    .colab-df-container {\n",
              "      display:flex;\n",
              "      flex-wrap:wrap;\n",
              "      gap: 12px;\n",
              "    }\n",
              "\n",
              "    .colab-df-convert {\n",
              "      background-color: #E8F0FE;\n",
              "      border: none;\n",
              "      border-radius: 50%;\n",
              "      cursor: pointer;\n",
              "      display: none;\n",
              "      fill: #1967D2;\n",
              "      height: 32px;\n",
              "      padding: 0 0 0 0;\n",
              "      width: 32px;\n",
              "    }\n",
              "\n",
              "    .colab-df-convert:hover {\n",
              "      background-color: #E2EBFA;\n",
              "      box-shadow: 0px 1px 2px rgba(60, 64, 67, 0.3), 0px 1px 3px 1px rgba(60, 64, 67, 0.15);\n",
              "      fill: #174EA6;\n",
              "    }\n",
              "\n",
              "    [theme=dark] .colab-df-convert {\n",
              "      background-color: #3B4455;\n",
              "      fill: #D2E3FC;\n",
              "    }\n",
              "\n",
              "    [theme=dark] .colab-df-convert:hover {\n",
              "      background-color: #434B5C;\n",
              "      box-shadow: 0px 1px 3px 1px rgba(0, 0, 0, 0.15);\n",
              "      filter: drop-shadow(0px 1px 2px rgba(0, 0, 0, 0.3));\n",
              "      fill: #FFFFFF;\n",
              "    }\n",
              "  </style>\n",
              "\n",
              "      <script>\n",
              "        const buttonEl =\n",
              "          document.querySelector('#df-16289124-e4d5-47b2-bf07-dc0757a0fbf7 button.colab-df-convert');\n",
              "        buttonEl.style.display =\n",
              "          google.colab.kernel.accessAllowed ? 'block' : 'none';\n",
              "\n",
              "        async function convertToInteractive(key) {\n",
              "          const element = document.querySelector('#df-16289124-e4d5-47b2-bf07-dc0757a0fbf7');\n",
              "          const dataTable =\n",
              "            await google.colab.kernel.invokeFunction('convertToInteractive',\n",
              "                                                     [key], {});\n",
              "          if (!dataTable) return;\n",
              "\n",
              "          const docLinkHtml = 'Like what you see? Visit the ' +\n",
              "            '<a target=\"_blank\" href=https://colab.research.google.com/notebooks/data_table.ipynb>data table notebook</a>'\n",
              "            + ' to learn more about interactive tables.';\n",
              "          element.innerHTML = '';\n",
              "          dataTable['output_type'] = 'display_data';\n",
              "          await google.colab.output.renderOutput(dataTable, element);\n",
              "          const docLink = document.createElement('div');\n",
              "          docLink.innerHTML = docLinkHtml;\n",
              "          element.appendChild(docLink);\n",
              "        }\n",
              "      </script>\n",
              "    </div>\n",
              "  </div>\n",
              "  "
            ]
          },
          "metadata": {},
          "execution_count": 3
        }
      ]
    },
    {
      "cell_type": "markdown",
      "source": [
        "# Step 2. 데이터 전처리하기 (추상적 요약)\n",
        "\n",
        "- 실습에 사용된 전처리 이외에 더 필요한 전처리를 수행하여 텍스트를 정규화 or 정제한다.\n",
        "\n",
        "- 불용어 제거를 선택한다면 길이가 짧은 요약 데이터에 대해서도 불용어를 제거할 것인지 고민해보기"
      ],
      "metadata": {
        "id": "QsCsMslQDqc7"
      }
    },
    {
      "cell_type": "code",
      "source": [
        "# 중복과 null 값 확인 후 제거하기\n",
        "print('text 열에서 중복을 배제한 유일한 샘플의 수 :', data['text'].nunique())\n",
        "print('headlines 열에서 중복을 배제한 유일한 샘플의 수 :', data['headlines'].nunique())\n",
        "\n",
        "# text열은 총 row개수에서 41개를 배제하고, headlines열은 총 row개수에서 121개를 배제한다."
      ],
      "metadata": {
        "colab": {
          "base_uri": "https://localhost:8080/"
        },
        "id": "-ie5YD_REhMZ",
        "outputId": "940674b6-d435-46a0-80d5-8f2899e4de38"
      },
      "execution_count": 4,
      "outputs": [
        {
          "output_type": "stream",
          "name": "stdout",
          "text": [
            "text 열에서 중복을 배제한 유일한 샘플의 수 : 98360\n",
            "headlines 열에서 중복을 배제한 유일한 샘플의 수 : 98280\n"
          ]
        }
      ]
    },
    {
      "cell_type": "code",
      "source": [
        "# 중복제거 시행\n",
        "data.drop_duplicates(subset=['text'], inplace=True)\n",
        "print('전체 샘플수 :', (len(data)))\n",
        "\n",
        "# 위에서 배제한 결과와 똑같이 처리되었다."
      ],
      "metadata": {
        "colab": {
          "base_uri": "https://localhost:8080/"
        },
        "id": "qtp22pJPFv3b",
        "outputId": "82508214-f22d-4c58-e159-bf537472d76b"
      },
      "execution_count": 5,
      "outputs": [
        {
          "output_type": "stream",
          "name": "stdout",
          "text": [
            "전체 샘플수 : 98360\n"
          ]
        }
      ]
    },
    {
      "cell_type": "code",
      "source": [
        "# 결측값 확인하기\n",
        "data.isnull().sum()\n",
        "\n",
        "# 다행히 두 컬럼에는 결측치는 존재하지않았다."
      ],
      "metadata": {
        "colab": {
          "base_uri": "https://localhost:8080/"
        },
        "id": "gWd8dQv8GkkU",
        "outputId": "019a8a30-1199-4e20-b710-e353387c50ce"
      },
      "execution_count": 6,
      "outputs": [
        {
          "output_type": "execute_result",
          "data": {
            "text/plain": [
              "headlines    0\n",
              "text         0\n",
              "dtype: int64"
            ]
          },
          "metadata": {},
          "execution_count": 6
        }
      ]
    },
    {
      "cell_type": "code",
      "source": [
        "# 텍스트 정규화 수행\n",
        "# 같은 의미지만 다른 표현으로 쓰이는 경우도 있다. 연산량을 줄이기 위해 정규화 과정이 필요하다.\n",
        "\n",
        "contractions = {\"ain't\": \"is not\", \"aren't\": \"are not\",\"can't\": \"cannot\", \"'cause\": \"because\", \"could've\": \"could have\", \"couldn't\": \"could not\",\n",
        "                           \"didn't\": \"did not\",  \"doesn't\": \"does not\", \"don't\": \"do not\", \"hadn't\": \"had not\", \"hasn't\": \"has not\", \"haven't\": \"have not\",\n",
        "                           \"he'd\": \"he would\",\"he'll\": \"he will\", \"he's\": \"he is\", \"how'd\": \"how did\", \"how'd'y\": \"how do you\", \"how'll\": \"how will\", \"how's\": \"how is\",\n",
        "                           \"I'd\": \"I would\", \"I'd've\": \"I would have\", \"I'll\": \"I will\", \"I'll've\": \"I will have\",\"I'm\": \"I am\", \"I've\": \"I have\", \"i'd\": \"i would\",\n",
        "                           \"i'd've\": \"i would have\", \"i'll\": \"i will\",  \"i'll've\": \"i will have\",\"i'm\": \"i am\", \"i've\": \"i have\", \"isn't\": \"is not\", \"it'd\": \"it would\",\n",
        "                           \"it'd've\": \"it would have\", \"it'll\": \"it will\", \"it'll've\": \"it will have\",\"it's\": \"it is\", \"let's\": \"let us\", \"ma'am\": \"madam\",\n",
        "                           \"mayn't\": \"may not\", \"might've\": \"might have\",\"mightn't\": \"might not\",\"mightn't've\": \"might not have\", \"must've\": \"must have\",\n",
        "                           \"mustn't\": \"must not\", \"mustn't've\": \"must not have\", \"needn't\": \"need not\", \"needn't've\": \"need not have\",\"o'clock\": \"of the clock\",\n",
        "                           \"oughtn't\": \"ought not\", \"oughtn't've\": \"ought not have\", \"shan't\": \"shall not\", \"sha'n't\": \"shall not\", \"shan't've\": \"shall not have\",\n",
        "                           \"she'd\": \"she would\", \"she'd've\": \"she would have\", \"she'll\": \"she will\", \"she'll've\": \"she will have\", \"she's\": \"she is\",\n",
        "                           \"should've\": \"should have\", \"shouldn't\": \"should not\", \"shouldn't've\": \"should not have\", \"so've\": \"so have\",\"so's\": \"so as\",\n",
        "                           \"this's\": \"this is\",\"that'd\": \"that would\", \"that'd've\": \"that would have\", \"that's\": \"that is\", \"there'd\": \"there would\",\n",
        "                           \"there'd've\": \"there would have\", \"there's\": \"there is\", \"here's\": \"here is\",\"they'd\": \"they would\", \"they'd've\": \"they would have\",\n",
        "                           \"they'll\": \"they will\", \"they'll've\": \"they will have\", \"they're\": \"they are\", \"they've\": \"they have\", \"to've\": \"to have\",\n",
        "                           \"wasn't\": \"was not\", \"we'd\": \"we would\", \"we'd've\": \"we would have\", \"we'll\": \"we will\", \"we'll've\": \"we will have\", \"we're\": \"we are\",\n",
        "                           \"we've\": \"we have\", \"weren't\": \"were not\", \"what'll\": \"what will\", \"what'll've\": \"what will have\", \"what're\": \"what are\",\n",
        "                           \"what's\": \"what is\", \"what've\": \"what have\", \"when's\": \"when is\", \"when've\": \"when have\", \"where'd\": \"where did\", \"where's\": \"where is\",\n",
        "                           \"where've\": \"where have\", \"who'll\": \"who will\", \"who'll've\": \"who will have\", \"who's\": \"who is\", \"who've\": \"who have\",\n",
        "                           \"why's\": \"why is\", \"why've\": \"why have\", \"will've\": \"will have\", \"won't\": \"will not\", \"won't've\": \"will not have\",\n",
        "                           \"would've\": \"would have\", \"wouldn't\": \"would not\", \"wouldn't've\": \"would not have\", \"y'all\": \"you all\",\n",
        "                           \"y'all'd\": \"you all would\",\"y'all'd've\": \"you all would have\",\"y'all're\": \"you all are\",\"y'all've\": \"you all have\",\n",
        "                           \"you'd\": \"you would\", \"you'd've\": \"you would have\", \"you'll\": \"you will\", \"you'll've\": \"you will have\",\n",
        "                           \"you're\": \"you are\", \"you've\": \"you have\"}\n",
        "\n",
        "print(\"정규화 사전의 수: \", len(contractions))"
      ],
      "metadata": {
        "colab": {
          "base_uri": "https://localhost:8080/"
        },
        "id": "zhudpgp_Hdys",
        "outputId": "143e8a46-9d30-4f40-ad2d-700dcba50d9e"
      },
      "execution_count": 7,
      "outputs": [
        {
          "output_type": "stream",
          "name": "stdout",
          "text": [
            "정규화 사전의 수:  120\n"
          ]
        }
      ]
    },
    {
      "cell_type": "code",
      "source": [
        "# 불용어 확인\n",
        "# NLTK에서 미리 정의하여 제공하고 있는 불용어는 총 179개\n",
        "print('불용어 개수 :', len(stopwords.words('english')))\n",
        "print(stopwords.words('english'))"
      ],
      "metadata": {
        "colab": {
          "base_uri": "https://localhost:8080/"
        },
        "id": "7JN8qWnrISLb",
        "outputId": "cb3165f0-b56e-4ea9-8cd9-a1f1f8cca3d9"
      },
      "execution_count": 8,
      "outputs": [
        {
          "output_type": "stream",
          "name": "stdout",
          "text": [
            "불용어 개수 : 179\n",
            "['i', 'me', 'my', 'myself', 'we', 'our', 'ours', 'ourselves', 'you', \"you're\", \"you've\", \"you'll\", \"you'd\", 'your', 'yours', 'yourself', 'yourselves', 'he', 'him', 'his', 'himself', 'she', \"she's\", 'her', 'hers', 'herself', 'it', \"it's\", 'its', 'itself', 'they', 'them', 'their', 'theirs', 'themselves', 'what', 'which', 'who', 'whom', 'this', 'that', \"that'll\", 'these', 'those', 'am', 'is', 'are', 'was', 'were', 'be', 'been', 'being', 'have', 'has', 'had', 'having', 'do', 'does', 'did', 'doing', 'a', 'an', 'the', 'and', 'but', 'if', 'or', 'because', 'as', 'until', 'while', 'of', 'at', 'by', 'for', 'with', 'about', 'against', 'between', 'into', 'through', 'during', 'before', 'after', 'above', 'below', 'to', 'from', 'up', 'down', 'in', 'out', 'on', 'off', 'over', 'under', 'again', 'further', 'then', 'once', 'here', 'there', 'when', 'where', 'why', 'how', 'all', 'any', 'both', 'each', 'few', 'more', 'most', 'other', 'some', 'such', 'no', 'nor', 'not', 'only', 'own', 'same', 'so', 'than', 'too', 'very', 's', 't', 'can', 'will', 'just', 'don', \"don't\", 'should', \"should've\", 'now', 'd', 'll', 'm', 'o', 're', 've', 'y', 'ain', 'aren', \"aren't\", 'couldn', \"couldn't\", 'didn', \"didn't\", 'doesn', \"doesn't\", 'hadn', \"hadn't\", 'hasn', \"hasn't\", 'haven', \"haven't\", 'isn', \"isn't\", 'ma', 'mightn', \"mightn't\", 'mustn', \"mustn't\", 'needn', \"needn't\", 'shan', \"shan't\", 'shouldn', \"shouldn't\", 'wasn', \"wasn't\", 'weren', \"weren't\", 'won', \"won't\", 'wouldn', \"wouldn't\"]\n"
          ]
        }
      ]
    },
    {
      "cell_type": "code",
      "source": [
        "# 데이터 전처리 함수 구현\n",
        "def preprocess_sentence(sentence, remove_stopwords=True):\n",
        "    sentence = sentence.lower() # 텍스트 소문자화\n",
        "    sentence = BeautifulSoup(sentence, \"lxml\").text # <br />, <a href = ...> 등의 html 태그 제거\n",
        "    sentence = re.sub(r'\\([^)]*\\)', '', sentence) # 괄호로 닫힌 문자열 (...) 제거 Ex) my husband (and myself!) for => my husband for\n",
        "    sentence = re.sub('\"','', sentence) # 쌍따옴표 \" 제거\n",
        "    sentence = ' '.join([contractions[t] if t in contractions else t for t in sentence.split(\" \")]) # 약어 정규화\n",
        "    sentence = re.sub(r\"'s\\b\",\"\", sentence) # 소유격 제거. Ex) roland's -> roland\n",
        "    sentence = re.sub(\"[^a-zA-Z]\", \" \", sentence) # 영어 외 문자(숫자, 특수문자 등) 공백으로 변환\n",
        "    sentence = re.sub('[m]{2,}', 'mm', sentence) # m이 3개 이상이면 2개로 변경. Ex) ummmmmmm yeah -> umm yeah\n",
        "    \n",
        "    # 불용어 제거 (Text)\n",
        "    if remove_stopwords:\n",
        "        tokens = ' '.join(word for word in sentence.split() if not word in stopwords.words('english') if len(word) > 1)\n",
        "    # 불용어 미제거 (Summary)\n",
        "    else:\n",
        "        tokens = ' '.join(word for word in sentence.split() if len(word) > 1)\n",
        "    return tokens"
      ],
      "metadata": {
        "id": "71r0kpA9IpwB"
      },
      "execution_count": 9,
      "outputs": []
    },
    {
      "cell_type": "code",
      "source": [
        "# 전처리 전, 후의 결과 확인\n",
        "temp_text = 'Everything I bought was great, infact I ordered twice and the third ordered was<br />for my mother and father.'\n",
        "temp_summary = 'our Great way to start (or finish) the day!!!'\n",
        "\n",
        "print(\"text: \", preprocess_sentence(temp_text))\n",
        "print(\"headlines:\", preprocess_sentence(temp_summary, False))  # 불용어를 제거하지 않습니다.\n",
        "\n",
        "# 결과를 보면 불용어를 제거하지 않은 것이 확인된다."
      ],
      "metadata": {
        "colab": {
          "base_uri": "https://localhost:8080/"
        },
        "id": "A37vg8VKI07P",
        "outputId": "78cfba58-4950-4bde-e802-1afc7fc5c7b4"
      },
      "execution_count": 10,
      "outputs": [
        {
          "output_type": "stream",
          "name": "stdout",
          "text": [
            "text:  everything bought great infact ordered twice third ordered wasfor mother father\n",
            "headlines: our great way to start the day\n"
          ]
        }
      ]
    },
    {
      "cell_type": "code",
      "source": [
        "# 전체 Text 데이터에 대한 전처리\n",
        "from tqdm import tqdm\n",
        "clean_text = []\n",
        "\n",
        "for s in tqdm(data['text']):\n",
        "  clean_text.append(preprocess_sentence(s))\n",
        "\n",
        "# 전처리 후 출력\n",
        "print(\"text 전처리 후 결과: \", clean_text[:5])"
      ],
      "metadata": {
        "colab": {
          "base_uri": "https://localhost:8080/"
        },
        "id": "_WSDsZEjJSJ7",
        "outputId": "54e25e5e-714b-4eda-a0c8-1a72e5bb9334"
      },
      "execution_count": 11,
      "outputs": [
        {
          "output_type": "stream",
          "name": "stderr",
          "text": [
            "100%|██████████| 98360/98360 [09:02<00:00, 181.40it/s]"
          ]
        },
        {
          "output_type": "stream",
          "name": "stdout",
          "text": [
            "text 전처리 후 결과:  ['saurav kant alumnus upgrad iiit pg program machine learning artificial intelligence sr systems engineer infosys almost years work experience program upgrad degree career support helped transition data scientist tech mahindra salary hike upgrad online power learning powered lakh careers', 'kunal shah credit card bill payment platform cred gave users chance win free food swiggy one year pranav kaushik delhi techie bagged reward spending cred coins users get one cred coin per rupee bill paid used avail rewards brands like ixigo bookmyshow ubereats cult fit', 'new zealand defeated india wickets fourth odi hamilton thursday win first match five match odi series india lost international match rohit sharma captaincy consecutive victories dating back march match witnessed india getting seventh lowest total odi cricket history', 'aegon life iterm insurance plan customers enjoy tax benefits premiums paid save taxes plan provides life cover age years also customers options insure critical illnesses disability accidental death benefit rider life cover age years', 'speaking sexual harassment allegations rajkumar hirani sonam kapoor said known hirani many years true metoo movement get derailed metoo movement always believe woman case need reserve judgment added hirani accused assistant worked sanju']\n"
          ]
        },
        {
          "output_type": "stream",
          "name": "stderr",
          "text": [
            "\n"
          ]
        }
      ]
    },
    {
      "cell_type": "code",
      "source": [
        "# 전체 headlines 데이터에 대한 전처리 \n",
        "clean_headlines = []\n",
        "\n",
        "for s in tqdm(data['headlines']):\n",
        "  clean_headlines.append(preprocess_sentence(s, False))\n",
        "\n",
        "print(\"headlines 전처리 후 결과: \", clean_headlines[:5])"
      ],
      "metadata": {
        "colab": {
          "base_uri": "https://localhost:8080/"
        },
        "id": "knrCnTefLjlA",
        "outputId": "65c38dbc-0f66-4e8d-80eb-8219215de77f"
      },
      "execution_count": 15,
      "outputs": [
        {
          "output_type": "stream",
          "name": "stderr",
          "text": [
            "100%|██████████| 98360/98360 [00:18<00:00, 5318.52it/s]"
          ]
        },
        {
          "output_type": "stream",
          "name": "stdout",
          "text": [
            "headlines 전처리 후 결과:  ['upgrad learner switches to career in ml al with salary hike', 'delhi techie wins free food from swiggy for one year on cred', 'new zealand end rohit sharma led india match winning streak', 'aegon life iterm insurance plan helps customers save tax', 'have known hirani for yrs what if metoo claims are not true sonam']\n"
          ]
        },
        {
          "output_type": "stream",
          "name": "stderr",
          "text": [
            "\n"
          ]
        }
      ]
    },
    {
      "cell_type": "code",
      "source": [
        "# 빈 샘플이 있는지 재확인\n",
        "# 전처리 후의 결과를 다시 데이터프레임에 저장\n",
        "data['text'] = clean_text\n",
        "data['headlines'] = clean_headlines\n",
        "\n",
        "# 빈 값은 ''으로 변환\n",
        "data.replace('', np.nan, inplace=True)"
      ],
      "metadata": {
        "id": "vkC5FXDJMdlC"
      },
      "execution_count": 17,
      "outputs": []
    },
    {
      "cell_type": "code",
      "source": [
        "# # 결측치 확인\n",
        "data.isnull().sum()\n",
        "\n",
        "# 결측치 없는 것으로 확인됨."
      ],
      "metadata": {
        "colab": {
          "base_uri": "https://localhost:8080/"
        },
        "id": "YyaHk3tEMmGz",
        "outputId": "a1fe6bba-4924-4ac6-803a-3ef9031ab339"
      },
      "execution_count": 18,
      "outputs": [
        {
          "output_type": "execute_result",
          "data": {
            "text/plain": [
              "headlines    0\n",
              "text         0\n",
              "dtype: int64"
            ]
          },
          "metadata": {},
          "execution_count": 18
        }
      ]
    },
    {
      "cell_type": "code",
      "source": [
        "# 데이터 분리를 위한 sample의 최대 길이 정하기\n",
        "\n",
        "# 길이 분포 출력\n",
        "import matplotlib.pyplot as plt\n",
        "\n",
        "text_len = [len(s.split()) for s in data['text']]\n",
        "headlines_len = [len(s.split()) for s in data['headlines']]\n",
        "\n",
        "print('텍스트의 최소 길이 : {}'.format(np.min(text_len)))\n",
        "print('텍스트의 최대 길이 : {}'.format(np.max(text_len)))\n",
        "print('텍스트의 평균 길이 : {}'.format(np.mean(text_len)))\n",
        "print('헤드라인의 최소 길이 : {}'.format(np.min(headlines_len)))\n",
        "print('헤드라인의 최대 길이 : {}'.format(np.max(headlines_len)))\n",
        "print('헤드라인의 평균 길이 : {}'.format(np.mean(headlines_len)))\n",
        "\n",
        "plt.subplot(1,2,1)\n",
        "plt.boxplot(text_len)\n",
        "plt.title('text')\n",
        "plt.subplot(1,2,2)\n",
        "plt.boxplot(headlines_len)\n",
        "plt.title('headlines')\n",
        "plt.tight_layout()\n",
        "plt.show()\n",
        "\n",
        "plt.title('text')\n",
        "plt.hist(text_len, bins = 40)\n",
        "plt.xlabel('length of samples')\n",
        "plt.ylabel('number of samples')\n",
        "plt.show()\n",
        "\n",
        "plt.title('headlines')\n",
        "plt.hist(headlines_len, bins = 40)\n",
        "plt.xlabel('length of samples')\n",
        "plt.ylabel('number of samples')\n",
        "plt.show()\n",
        "\n",
        "# 본문과 헤드라인의 길이 분포를 확인하고 적절한 max_len을 지정해야한다."
      ],
      "metadata": {
        "colab": {
          "base_uri": "https://localhost:8080/",
          "height": 961
        },
        "id": "mRGAVmNTMwx2",
        "outputId": "ece33f0e-eb2d-443a-bd63-efe133a3f9b2"
      },
      "execution_count": 19,
      "outputs": [
        {
          "output_type": "stream",
          "name": "stdout",
          "text": [
            "텍스트의 최소 길이 : 1\n",
            "텍스트의 최대 길이 : 60\n",
            "텍스트의 평균 길이 : 35.09968483123221\n",
            "헤드라인의 최소 길이 : 1\n",
            "헤드라인의 최대 길이 : 16\n",
            "헤드라인의 평균 길이 : 9.299532330215534\n"
          ]
        },
        {
          "output_type": "display_data",
          "data": {
            "text/plain": [
              "<Figure size 432x288 with 2 Axes>"
            ],
            "image/png": "[encoded data removed]"
          },
          "metadata": {
            "needs_background": "light"
          }
        },
        {
          "output_type": "display_data",
          "data": {
            "text/plain": [
              "<Figure size 432x288 with 1 Axes>"
            ],
            "image/png": "[encoded data removed]"
          },
          "metadata": {
            "needs_background": "light"
          }
        },
        {
          "output_type": "display_data",
          "data": {
            "text/plain": [
              "<Figure size 432x288 with 1 Axes>"
            ],
            "image/png": "[encoded data removed]"
          },
          "metadata": {
            "needs_background": "light"
          }
        }
      ]
    },
    {
      "cell_type": "code",
      "source": [
        "# 첫 번째 시도\n",
        "# Text 최대 길이\n",
        "# 위 그래프를 참고할때 본문은 45, 헤드라인은 12로 결정하였다\n",
        "text_max_len = 45\n",
        "headlines_max_len = 12"
      ],
      "metadata": {
        "id": "jhdiDvENOXq0"
      },
      "execution_count": null,
      "outputs": []
    },
    {
      "cell_type": "code",
      "source": [
        "# 두 번째 시도\n",
        "# Text 최대 길이\n",
        "# 위 그래프를 참고할때 본문은 45, 헤드라인은 12로 결정하였다\n",
        "text_max_len = 40\n",
        "headlines_max_len = 11"
      ],
      "metadata": {
        "id": "2F0mqVVS026z"
      },
      "execution_count": null,
      "outputs": []
    },
    {
      "cell_type": "code",
      "source": [
        "# 샘플 길이에따른 데이터 분포 확인\n",
        "def below_threshold_len(max_len, nested_list):\n",
        "  cnt = 0\n",
        "  for s in nested_list:\n",
        "    if(len(s.split()) <= max_len):\n",
        "      cnt = cnt + 1\n",
        "  print('전체 샘플 중 길이가 %s 이하인 샘플의 비율: %s'%(max_len, (cnt / len(nested_list))))"
      ],
      "metadata": {
        "id": "wz4LFYEROm57"
      },
      "execution_count": 21,
      "outputs": []
    },
    {
      "cell_type": "code",
      "source": [
        "# 두 번째 시도\n",
        "below_threshold_len(text_max_len, data['text'])\n",
        "below_threshold_len(headlines_max_len, data['headlines'])\n",
        "\n",
        "# 각각 45과 11로 패딩을 하게 되면 해당 길이보다 긴 샘플들은 내용이 잘리게 되는데, \n",
        "# Text 열의 경우에는 약 8%의 샘플들이 내용이 망가지게 된다고 한다."
      ],
      "metadata": {
        "colab": {
          "base_uri": "https://localhost:8080/"
        },
        "id": "wXbxy58qOpJq",
        "outputId": "c1f7c6de-643f-4eb5-acb5-f4c6de5cc74e"
      },
      "execution_count": null,
      "outputs": [
        {
          "output_type": "stream",
          "name": "stdout",
          "text": [
            "전체 샘플 중 길이가 40 이하인 샘플의 비율: 0.9238714924766165\n",
            "전체 샘플 중 길이가 11 이하인 샘플의 비율: 0.9449877999186661\n"
          ]
        }
      ]
    },
    {
      "cell_type": "code",
      "source": [
        "# max_len 길이를 초과하는 데이터 제외시키기\n",
        "data = data[data['text'].apply(lambda x: len(x.split()) <= text_max_len)]\n",
        "data = data[data['headlines'].apply(lambda x: len(x.split()) <= headlines_max_len)]\n",
        "print('전체 샘플수 :', (len(data)))\n",
        "\n",
        "# 첫 번째 시도에서 기존의 98360 sample에서 96871개로 줄어들었다.\n",
        "# 두 번째 시도에서 기존의 98360 sample에서 85843개로 줄어들었다.\n",
        "# 세 번째 시도에서 기존의 98360 sample에서 75754개로 줄어들었다."
      ],
      "metadata": {
        "colab": {
          "base_uri": "https://localhost:8080/"
        },
        "id": "Ojy3fkv1QJEq",
        "outputId": "0113ce1f-d498-4341-fc72-05edb1fa8813"
      },
      "execution_count": 24,
      "outputs": [
        {
          "output_type": "stream",
          "name": "stdout",
          "text": [
            "전체 샘플수 : 75754\n"
          ]
        }
      ]
    },
    {
      "cell_type": "code",
      "source": [
        "# data sample 확인\n",
        "data.sample(5)"
      ],
      "metadata": {
        "colab": {
          "base_uri": "https://localhost:8080/",
          "height": 206
        },
        "id": "c1HArk-kQgR0",
        "outputId": "3db1ba7e-fd74-4526-85fd-c765fac15bbb"
      },
      "execution_count": 25,
      "outputs": [
        {
          "output_type": "execute_result",
          "data": {
            "text/plain": [
              "                                               headlines  \\\n",
              "84741  elon musk shares video of spacex falcon rocket...   \n",
              "48904  strong demand for iphone replacement batteries...   \n",
              "85466    virat gives me freedom to express myself bumrah   \n",
              "94701  misbah responds to pak decline with punjabi ph...   \n",
              "92395  hdfc bank cuts jobs in march quarter over digi...   \n",
              "\n",
              "                                                    text  \n",
              "84741  aerospace startup spacex ceo elon musk friday ...  \n",
              "48904  apple said seen strong demand iphone battery r...  \n",
              "85466  indian pacer jasprit bumrah said indian captai...  \n",
              "94701  pakistani captain misbah ul haq announced reti...  \n",
              "92395  india second largest private sector lender hdf...  "
            ],
            "text/html": [
              "\n",
              "  <div id=\"df-bb43d4e4-a3f7-4313-b56f-9575cfe3220a\">\n",
              "    <div class=\"colab-df-container\">\n",
              "      <div>\n",
              "<style scoped>\n",
              "    .dataframe tbody tr th:only-of-type {\n",
              "        vertical-align: middle;\n",
              "    }\n",
              "\n",
              "    .dataframe tbody tr th {\n",
              "        vertical-align: top;\n",
              "    }\n",
              "\n",
              "    .dataframe thead th {\n",
              "        text-align: right;\n",
              "    }\n",
              "</style>\n",
              "<table border=\"1\" class=\"dataframe\">\n",
              "  <thead>\n",
              "    <tr style=\"text-align: right;\">\n",
              "      <th></th>\n",
              "      <th>headlines</th>\n",
              "      <th>text</th>\n",
              "    </tr>\n",
              "  </thead>\n",
              "  <tbody>\n",
              "    <tr>\n",
              "      <th>84741</th>\n",
              "      <td>elon musk shares video of spacex falcon rocket...</td>\n",
              "      <td>aerospace startup spacex ceo elon musk friday ...</td>\n",
              "    </tr>\n",
              "    <tr>\n",
              "      <th>48904</th>\n",
              "      <td>strong demand for iphone replacement batteries...</td>\n",
              "      <td>apple said seen strong demand iphone battery r...</td>\n",
              "    </tr>\n",
              "    <tr>\n",
              "      <th>85466</th>\n",
              "      <td>virat gives me freedom to express myself bumrah</td>\n",
              "      <td>indian pacer jasprit bumrah said indian captai...</td>\n",
              "    </tr>\n",
              "    <tr>\n",
              "      <th>94701</th>\n",
              "      <td>misbah responds to pak decline with punjabi ph...</td>\n",
              "      <td>pakistani captain misbah ul haq announced reti...</td>\n",
              "    </tr>\n",
              "    <tr>\n",
              "      <th>92395</th>\n",
              "      <td>hdfc bank cuts jobs in march quarter over digi...</td>\n",
              "      <td>india second largest private sector lender hdf...</td>\n",
              "    </tr>\n",
              "  </tbody>\n",
              "</table>\n",
              "</div>\n",
              "      <button class=\"colab-df-convert\" onclick=\"convertToInteractive('df-bb43d4e4-a3f7-4313-b56f-9575cfe3220a')\"\n",
              "              title=\"Convert this dataframe to an interactive table.\"\n",
              "              style=\"display:none;\">\n",
              "        \n",
              "  <svg xmlns=\"http://www.w3.org/2000/svg\" height=\"24px\"viewBox=\"0 0 24 24\"\n",
              "       width=\"24px\">\n",
              "    <path d=\"M0 0h24v24H0V0z\" fill=\"none\"/>\n",
              "    <path d=\"M18.56 5.44l.94 2.06.94-2.06 2.06-.94-2.06-.94-.94-2.06-.94 2.06-2.06.94zm-11 1L8.5 8.5l.94-2.06 2.06-.94-2.06-.94L8.5 2.5l-.94 2.06-2.06.94zm10 10l.94 2.06.94-2.06 2.06-.94-2.06-.94-.94-2.06-.94 2.06-2.06.94z\"/><path d=\"M17.41 7.96l-1.37-1.37c-.4-.4-.92-.59-1.43-.59-.52 0-1.04.2-1.43.59L10.3 9.45l-7.72 7.72c-.78.78-.78 2.05 0 2.83L4 21.41c.39.39.9.59 1.41.59.51 0 1.02-.2 1.41-.59l7.78-7.78 2.81-2.81c.8-.78.8-2.07 0-2.86zM5.41 20L4 18.59l7.72-7.72 1.47 1.35L5.41 20z\"/>\n",
              "  </svg>\n",
              "      </button>\n",
              "      \n",
              "  <style>\n",
              "    .colab-df-container {\n",
              "      display:flex;\n",
              "      flex-wrap:wrap;\n",
              "      gap: 12px;\n",
              "    }\n",
              "\n",
              "    .colab-df-convert {\n",
              "      background-color: #E8F0FE;\n",
              "      border: none;\n",
              "      border-radius: 50%;\n",
              "      cursor: pointer;\n",
              "      display: none;\n",
              "      fill: #1967D2;\n",
              "      height: 32px;\n",
              "      padding: 0 0 0 0;\n",
              "      width: 32px;\n",
              "    }\n",
              "\n",
              "    .colab-df-convert:hover {\n",
              "      background-color: #E2EBFA;\n",
              "      box-shadow: 0px 1px 2px rgba(60, 64, 67, 0.3), 0px 1px 3px 1px rgba(60, 64, 67, 0.15);\n",
              "      fill: #174EA6;\n",
              "    }\n",
              "\n",
              "    [theme=dark] .colab-df-convert {\n",
              "      background-color: #3B4455;\n",
              "      fill: #D2E3FC;\n",
              "    }\n",
              "\n",
              "    [theme=dark] .colab-df-convert:hover {\n",
              "      background-color: #434B5C;\n",
              "      box-shadow: 0px 1px 3px 1px rgba(0, 0, 0, 0.15);\n",
              "      filter: drop-shadow(0px 1px 2px rgba(0, 0, 0, 0.3));\n",
              "      fill: #FFFFFF;\n",
              "    }\n",
              "  </style>\n",
              "\n",
              "      <script>\n",
              "        const buttonEl =\n",
              "          document.querySelector('#df-bb43d4e4-a3f7-4313-b56f-9575cfe3220a button.colab-df-convert');\n",
              "        buttonEl.style.display =\n",
              "          google.colab.kernel.accessAllowed ? 'block' : 'none';\n",
              "\n",
              "        async function convertToInteractive(key) {\n",
              "          const element = document.querySelector('#df-bb43d4e4-a3f7-4313-b56f-9575cfe3220a');\n",
              "          const dataTable =\n",
              "            await google.colab.kernel.invokeFunction('convertToInteractive',\n",
              "                                                     [key], {});\n",
              "          if (!dataTable) return;\n",
              "\n",
              "          const docLinkHtml = 'Like what you see? Visit the ' +\n",
              "            '<a target=\"_blank\" href=https://colab.research.google.com/notebooks/data_table.ipynb>data table notebook</a>'\n",
              "            + ' to learn more about interactive tables.';\n",
              "          element.innerHTML = '';\n",
              "          dataTable['output_type'] = 'display_data';\n",
              "          await google.colab.output.renderOutput(dataTable, element);\n",
              "          const docLink = document.createElement('div');\n",
              "          docLink.innerHTML = docLinkHtml;\n",
              "          element.appendChild(docLink);\n",
              "        }\n",
              "      </script>\n",
              "    </div>\n",
              "  </div>\n",
              "  "
            ]
          },
          "metadata": {},
          "execution_count": 25
        }
      ]
    },
    {
      "cell_type": "code",
      "source": [
        "# 시작 토큰과 종료 토큰 추가하기\n",
        "\n",
        "data['decoder_input'] = data['headlines'].apply(lambda x: 'sostoken ' + x)\n",
        "data['decoder_target'] = data['headlines'].apply(lambda x: x + ' eostoken')\n",
        "data.head()"
      ],
      "metadata": {
        "colab": {
          "base_uri": "https://localhost:8080/",
          "height": 337
        },
        "id": "HXLTcZUXQpDp",
        "outputId": "1fd70371-562e-4c85-83f9-22151659dda7"
      },
      "execution_count": 26,
      "outputs": [
        {
          "output_type": "execute_result",
          "data": {
            "text/plain": [
              "                                           headlines  \\\n",
              "2  new zealand end rohit sharma led india match w...   \n",
              "3  aegon life iterm insurance plan helps customer...   \n",
              "5  rahat fateh ali khan denies getting notice for...   \n",
              "7  govt directs alok verma to join work day befor...   \n",
              "8  called pm modi sir times to satisfy his ego an...   \n",
              "\n",
              "                                                text  \\\n",
              "2  new zealand defeated india wickets fourth odi ...   \n",
              "3  aegon life iterm insurance plan customers enjo...   \n",
              "5  pakistani singer rahat fateh ali khan denied r...   \n",
              "7  weeks ex cbi director alok verma told departme...   \n",
              "8  andhra pradesh cm chandrababu naidu said met u...   \n",
              "\n",
              "                                       decoder_input  \\\n",
              "2  sostoken new zealand end rohit sharma led indi...   \n",
              "3  sostoken aegon life iterm insurance plan helps...   \n",
              "5  sostoken rahat fateh ali khan denies getting n...   \n",
              "7  sostoken govt directs alok verma to join work ...   \n",
              "8  sostoken called pm modi sir times to satisfy h...   \n",
              "\n",
              "                                      decoder_target  \n",
              "2  new zealand end rohit sharma led india match w...  \n",
              "3  aegon life iterm insurance plan helps customer...  \n",
              "5  rahat fateh ali khan denies getting notice for...  \n",
              "7  govt directs alok verma to join work day befor...  \n",
              "8  called pm modi sir times to satisfy his ego an...  "
            ],
            "text/html": [
              "\n",
              "  <div id=\"df-66a430e9-3908-4c1c-98cf-4267e332db13\">\n",
              "    <div class=\"colab-df-container\">\n",
              "      <div>\n",
              "<style scoped>\n",
              "    .dataframe tbody tr th:only-of-type {\n",
              "        vertical-align: middle;\n",
              "    }\n",
              "\n",
              "    .dataframe tbody tr th {\n",
              "        vertical-align: top;\n",
              "    }\n",
              "\n",
              "    .dataframe thead th {\n",
              "        text-align: right;\n",
              "    }\n",
              "</style>\n",
              "<table border=\"1\" class=\"dataframe\">\n",
              "  <thead>\n",
              "    <tr style=\"text-align: right;\">\n",
              "      <th></th>\n",
              "      <th>headlines</th>\n",
              "      <th>text</th>\n",
              "      <th>decoder_input</th>\n",
              "      <th>decoder_target</th>\n",
              "    </tr>\n",
              "  </thead>\n",
              "  <tbody>\n",
              "    <tr>\n",
              "      <th>2</th>\n",
              "      <td>new zealand end rohit sharma led india match w...</td>\n",
              "      <td>new zealand defeated india wickets fourth odi ...</td>\n",
              "      <td>sostoken new zealand end rohit sharma led indi...</td>\n",
              "      <td>new zealand end rohit sharma led india match w...</td>\n",
              "    </tr>\n",
              "    <tr>\n",
              "      <th>3</th>\n",
              "      <td>aegon life iterm insurance plan helps customer...</td>\n",
              "      <td>aegon life iterm insurance plan customers enjo...</td>\n",
              "      <td>sostoken aegon life iterm insurance plan helps...</td>\n",
              "      <td>aegon life iterm insurance plan helps customer...</td>\n",
              "    </tr>\n",
              "    <tr>\n",
              "      <th>5</th>\n",
              "      <td>rahat fateh ali khan denies getting notice for...</td>\n",
              "      <td>pakistani singer rahat fateh ali khan denied r...</td>\n",
              "      <td>sostoken rahat fateh ali khan denies getting n...</td>\n",
              "      <td>rahat fateh ali khan denies getting notice for...</td>\n",
              "    </tr>\n",
              "    <tr>\n",
              "      <th>7</th>\n",
              "      <td>govt directs alok verma to join work day befor...</td>\n",
              "      <td>weeks ex cbi director alok verma told departme...</td>\n",
              "      <td>sostoken govt directs alok verma to join work ...</td>\n",
              "      <td>govt directs alok verma to join work day befor...</td>\n",
              "    </tr>\n",
              "    <tr>\n",
              "      <th>8</th>\n",
              "      <td>called pm modi sir times to satisfy his ego an...</td>\n",
              "      <td>andhra pradesh cm chandrababu naidu said met u...</td>\n",
              "      <td>sostoken called pm modi sir times to satisfy h...</td>\n",
              "      <td>called pm modi sir times to satisfy his ego an...</td>\n",
              "    </tr>\n",
              "  </tbody>\n",
              "</table>\n",
              "</div>\n",
              "      <button class=\"colab-df-convert\" onclick=\"convertToInteractive('df-66a430e9-3908-4c1c-98cf-4267e332db13')\"\n",
              "              title=\"Convert this dataframe to an interactive table.\"\n",
              "              style=\"display:none;\">\n",
              "        \n",
              "  <svg xmlns=\"http://www.w3.org/2000/svg\" height=\"24px\"viewBox=\"0 0 24 24\"\n",
              "       width=\"24px\">\n",
              "    <path d=\"M0 0h24v24H0V0z\" fill=\"none\"/>\n",
              "    <path d=\"M18.56 5.44l.94 2.06.94-2.06 2.06-.94-2.06-.94-.94-2.06-.94 2.06-2.06.94zm-11 1L8.5 8.5l.94-2.06 2.06-.94-2.06-.94L8.5 2.5l-.94 2.06-2.06.94zm10 10l.94 2.06.94-2.06 2.06-.94-2.06-.94-.94-2.06-.94 2.06-2.06.94z\"/><path d=\"M17.41 7.96l-1.37-1.37c-.4-.4-.92-.59-1.43-.59-.52 0-1.04.2-1.43.59L10.3 9.45l-7.72 7.72c-.78.78-.78 2.05 0 2.83L4 21.41c.39.39.9.59 1.41.59.51 0 1.02-.2 1.41-.59l7.78-7.78 2.81-2.81c.8-.78.8-2.07 0-2.86zM5.41 20L4 18.59l7.72-7.72 1.47 1.35L5.41 20z\"/>\n",
              "  </svg>\n",
              "      </button>\n",
              "      \n",
              "  <style>\n",
              "    .colab-df-container {\n",
              "      display:flex;\n",
              "      flex-wrap:wrap;\n",
              "      gap: 12px;\n",
              "    }\n",
              "\n",
              "    .colab-df-convert {\n",
              "      background-color: #E8F0FE;\n",
              "      border: none;\n",
              "      border-radius: 50%;\n",
              "      cursor: pointer;\n",
              "      display: none;\n",
              "      fill: #1967D2;\n",
              "      height: 32px;\n",
              "      padding: 0 0 0 0;\n",
              "      width: 32px;\n",
              "    }\n",
              "\n",
              "    .colab-df-convert:hover {\n",
              "      background-color: #E2EBFA;\n",
              "      box-shadow: 0px 1px 2px rgba(60, 64, 67, 0.3), 0px 1px 3px 1px rgba(60, 64, 67, 0.15);\n",
              "      fill: #174EA6;\n",
              "    }\n",
              "\n",
              "    [theme=dark] .colab-df-convert {\n",
              "      background-color: #3B4455;\n",
              "      fill: #D2E3FC;\n",
              "    }\n",
              "\n",
              "    [theme=dark] .colab-df-convert:hover {\n",
              "      background-color: #434B5C;\n",
              "      box-shadow: 0px 1px 3px 1px rgba(0, 0, 0, 0.15);\n",
              "      filter: drop-shadow(0px 1px 2px rgba(0, 0, 0, 0.3));\n",
              "      fill: #FFFFFF;\n",
              "    }\n",
              "  </style>\n",
              "\n",
              "      <script>\n",
              "        const buttonEl =\n",
              "          document.querySelector('#df-66a430e9-3908-4c1c-98cf-4267e332db13 button.colab-df-convert');\n",
              "        buttonEl.style.display =\n",
              "          google.colab.kernel.accessAllowed ? 'block' : 'none';\n",
              "\n",
              "        async function convertToInteractive(key) {\n",
              "          const element = document.querySelector('#df-66a430e9-3908-4c1c-98cf-4267e332db13');\n",
              "          const dataTable =\n",
              "            await google.colab.kernel.invokeFunction('convertToInteractive',\n",
              "                                                     [key], {});\n",
              "          if (!dataTable) return;\n",
              "\n",
              "          const docLinkHtml = 'Like what you see? Visit the ' +\n",
              "            '<a target=\"_blank\" href=https://colab.research.google.com/notebooks/data_table.ipynb>data table notebook</a>'\n",
              "            + ' to learn more about interactive tables.';\n",
              "          element.innerHTML = '';\n",
              "          dataTable['output_type'] = 'display_data';\n",
              "          await google.colab.output.renderOutput(dataTable, element);\n",
              "          const docLink = document.createElement('div');\n",
              "          docLink.innerHTML = docLinkHtml;\n",
              "          element.appendChild(docLink);\n",
              "        }\n",
              "      </script>\n",
              "    </div>\n",
              "  </div>\n",
              "  "
            ]
          },
          "metadata": {},
          "execution_count": 26
        }
      ]
    },
    {
      "cell_type": "code",
      "source": [
        "# numpy 타입 변환\n",
        "encoder_input = np.array(data['text']) # 인코더의 입력\n",
        "decoder_input = np.array(data['decoder_input']) # 디코더의 입력\n",
        "decoder_target = np.array(data['decoder_target']) # 디코더의 레이블"
      ],
      "metadata": {
        "id": "NMmBz8mNRCXj"
      },
      "execution_count": 27,
      "outputs": []
    },
    {
      "cell_type": "code",
      "source": [
        "# 데이터 분리\n",
        "# 순서가 섞인 정수 시퀀스를 만들어줍니다.\n",
        "indices = np.arange(encoder_input.shape[0])\n",
        "np.random.shuffle(indices)\n",
        "print(indices)"
      ],
      "metadata": {
        "colab": {
          "base_uri": "https://localhost:8080/"
        },
        "id": "1tOgwYGSRlsR",
        "outputId": "bd0becc1-9938-45bc-8a5a-36ae2e5f1179"
      },
      "execution_count": 28,
      "outputs": [
        {
          "output_type": "stream",
          "name": "stdout",
          "text": [
            "[54310  9031 71969 ... 12422 46181 40174]\n"
          ]
        }
      ]
    },
    {
      "cell_type": "code",
      "source": [
        "# 정수시퀀스를 사용하여 샘플 순서 정의\n",
        "encoder_input = encoder_input[indices]\n",
        "decoder_input = decoder_input[indices]\n",
        "decoder_target = decoder_target[indices]"
      ],
      "metadata": {
        "id": "6kT3rBQmRs4U"
      },
      "execution_count": 29,
      "outputs": []
    },
    {
      "cell_type": "code",
      "source": [
        "# 훈련 / 테스트 데이터 분리\n",
        "n_of_val = int(len(encoder_input)*0.2)\n",
        "print('테스트 데이터의 수 :', n_of_val)"
      ],
      "metadata": {
        "colab": {
          "base_uri": "https://localhost:8080/"
        },
        "id": "KL13DnYjRvk-",
        "outputId": "19ebc02d-fd73-4dc0-bec7-c8ee1cf08dc7"
      },
      "execution_count": 30,
      "outputs": [
        {
          "output_type": "stream",
          "name": "stdout",
          "text": [
            "테스트 데이터의 수 : 15150\n"
          ]
        }
      ]
    },
    {
      "cell_type": "code",
      "source": [
        "encoder_input_train = encoder_input[:-n_of_val]\n",
        "decoder_input_train = decoder_input[:-n_of_val]\n",
        "decoder_target_train = decoder_target[:-n_of_val]\n",
        "\n",
        "encoder_input_test = encoder_input[-n_of_val:]\n",
        "decoder_input_test = decoder_input[-n_of_val:]\n",
        "decoder_target_test = decoder_target[-n_of_val:]\n",
        "\n",
        "print('훈련 데이터의 개수 :', len(encoder_input_train))\n",
        "print('훈련 레이블의 개수 :', len(decoder_input_train))\n",
        "print('테스트 데이터의 개수 :', len(encoder_input_test))\n",
        "print('테스트 레이블의 개수 :', len(decoder_input_test))"
      ],
      "metadata": {
        "colab": {
          "base_uri": "https://localhost:8080/"
        },
        "id": "P16CLhQ9RzJ-",
        "outputId": "1e8447a7-2708-46b2-8a02-245eb5edd81c"
      },
      "execution_count": 32,
      "outputs": [
        {
          "output_type": "stream",
          "name": "stdout",
          "text": [
            "훈련 데이터의 개수 : 60604\n",
            "훈련 레이블의 개수 : 60604\n",
            "테스트 데이터의 개수 : 15150\n",
            "테스트 레이블의 개수 : 15150\n"
          ]
        }
      ]
    },
    {
      "cell_type": "code",
      "source": [
        "# 단어 집합(vocabulary) 만들기 및 정수 인코딩\n",
        "# 훈련 / 테스트 데이터의 단어들을 모두 정수로 바꿔주고 각 단어에 고유한 정수를 맵핑\n",
        "# 이 과정을 단어 집합을 만든다고 표현\n",
        "\n",
        "src_tokenizer = Tokenizer() # 토크나이저 정의\n",
        "src_tokenizer.fit_on_texts(encoder_input_train) # 입력된 데이터로부터 단어 집합 생성"
      ],
      "metadata": {
        "id": "pX68-iYESGeE"
      },
      "execution_count": 33,
      "outputs": []
    },
    {
      "cell_type": "code",
      "source": [
        "# 등장 빈도수에 따른 데이터 분포\n",
        "threshold = 10\n",
        "total_cnt = len(src_tokenizer.word_index) # 단어의 수\n",
        "rare_cnt = 0 # 등장 빈도수가 threshold보다 작은 단어의 개수를 카운트\n",
        "total_freq = 0 # 훈련 데이터의 전체 단어 빈도수 총 합\n",
        "rare_freq = 0 # 등장 빈도수가 threshold보다 작은 단어의 등장 빈도수의 총 합\n",
        "\n",
        "# 단어와 빈도수의 쌍을 key와 value로 받는다.\n",
        "for key, value in src_tokenizer.word_counts.items():\n",
        "  total_freq = total_freq + value\n",
        "\n",
        "  # 단어의 등장 빈도수가 threshold보다 작으면\n",
        "  if(value < threshold):\n",
        "    rare_cnt = rare_cnt + 1\n",
        "    rare_freq = rare_freq + value\n",
        "\n",
        "print('단어 집합(vocabulary)의 크기 :', total_cnt)\n",
        "print('등장 빈도가 %s번 이하인 희귀 단어의 수: %s'%(threshold - 1, rare_cnt))\n",
        "print('단어 집합에서 희귀 단어를 제외시킬 경우의 단어 집합의 크기 %s'%(total_cnt - rare_cnt))\n",
        "print(\"단어 집합에서 희귀 단어의 비율:\", (rare_cnt / total_cnt)*100)\n",
        "print(\"전체 등장 빈도에서 희귀 단어 등장 빈도 비율:\", (rare_freq / total_freq)*100)\n",
        "\n",
        "# 세 번째 시도\n",
        "# 등장빈도가 즉 9회 이하인 단어들은 단어 집합에서 약 74%정도 차지한다.\n",
        "# 단어 집합에서 희귀 단어를 제외시킨 단어 집합의 크기는 15732개이다.\n",
        "# 이를 어림잡아 단어 집합의 크기를 15000개로 제한하기로 결정한다"
      ],
      "metadata": {
        "colab": {
          "base_uri": "https://localhost:8080/"
        },
        "id": "h0iYalPkSKt_",
        "outputId": "fc15ac9a-33fb-4062-ed02-e6ebe3b93fff"
      },
      "execution_count": 35,
      "outputs": [
        {
          "output_type": "stream",
          "name": "stdout",
          "text": [
            "단어 집합(vocabulary)의 크기 : 60253\n",
            "등장 빈도가 9번 이하인 희귀 단어의 수: 44521\n",
            "단어 집합에서 희귀 단어를 제외시킬 경우의 단어 집합의 크기 15732\n",
            "단어 집합에서 희귀 단어의 비율: 73.89009675866762\n",
            "전체 등장 빈도에서 희귀 단어 등장 빈도 비율: 5.378231136163988\n"
          ]
        }
      ]
    },
    {
      "cell_type": "markdown",
      "source": [
        "등장 빈도수에 따른 train 데이터 분포\n",
        "1. 첫 번째 시도\n",
        "\n",
        "- 단어 집합(vocabulary)의 크기 : 69078\n",
        "- 등장 빈도가 9번 이하인 희귀 단어의 수: 50829\n",
        "- 단어 집합에서 희귀 단어를 제외시킬 경우의 단어 집합의 크기 18249\n",
        "- 단어 집합에서 희귀 단어의 비율: 73.58203769651698\n",
        "- 전체 등장 빈도에서 희귀 단어 등장 빈도 비율: 4.602950321415036\n",
        "\n",
        "2. 두 번째 시도\n",
        "\n",
        "- 단어 집합(vocabulary)의 크기 : 64671\n",
        "- 등장 빈도가 9번 이하인 희귀 단어의 수: 47635\n",
        "- 단어 집합에서 희귀 단어를 제외시킬 경우의 단어 집합의 크기 17036\n",
        "- 단어 집합에서 희귀 단어의 비율: 73.65743532649874\n",
        "- 전체 등장 빈도에서 희귀 단어 등장 빈도 비율: 4.956828223548855\n",
        "\n",
        "3. 세 번째 시도\n",
        "\n",
        "- 단어 집합(vocabulary)의 크기 : 60253\n",
        "- 등장 빈도가 9번 이하인 희귀 단어의 수: 44521\n",
        "- 단어 집합에서 희귀 단어를 제외시킬 경우의 단어 집합의 크기 15732\n",
        "- 단어 집합에서 희귀 단어의 비율: 73.89009675866762\n",
        "- 전체 등장 빈도에서 희귀 단어 등장 빈도 비율: 5.378231136163988"
      ],
      "metadata": {
        "id": "PVITIalx1S9f"
      }
    },
    {
      "cell_type": "code",
      "source": [
        "# 단어장 생성\n",
        "\n",
        "src_vocab = 15000\n",
        "src_tokenizer = Tokenizer(num_words = src_vocab) # 단어장 크기 17000으로 제한\n",
        "src_tokenizer.fit_on_texts(encoder_input_train) # 단어 집합 재생성"
      ],
      "metadata": {
        "id": "KlPO143hTC6_"
      },
      "execution_count": 36,
      "outputs": []
    },
    {
      "cell_type": "code",
      "source": [
        "# 텍스트 시퀀스를 정수 시퀀스로 변환\n",
        "encoder_input_train = src_tokenizer.texts_to_sequences(encoder_input_train)\n",
        "encoder_input_test = src_tokenizer.texts_to_sequences(encoder_input_test)\n",
        "\n",
        "# 잘 진행되었는지 샘플 출력\n",
        "print(encoder_input_train[:3])"
      ],
      "metadata": {
        "colab": {
          "base_uri": "https://localhost:8080/"
        },
        "id": "HPIeqp5ITHnn",
        "outputId": "f6ce199b-8a3c-41b3-a93c-7e516c6f443b"
      },
      "execution_count": 37,
      "outputs": [
        {
          "output_type": "stream",
          "name": "stdout",
          "text": [
            "[[76, 983, 2430, 808, 1556, 226, 10, 3201, 4211, 1723, 97, 6018, 3433, 6492, 678, 5888, 983, 755, 1256, 178, 12, 22, 2744, 21, 2355, 135, 10186, 326, 1723, 6, 6123, 273], [105, 17, 1598, 451, 239, 1392, 10, 14913, 204, 294, 239, 1478, 14187, 7307, 17, 7307, 4308, 117, 859, 6396, 5819, 555, 660, 13548, 1910, 10852, 239, 646, 2831], [32, 4873, 141, 187, 19, 11243, 190, 1, 1429, 2314, 4, 246, 3139, 371, 10187, 65, 477, 79, 11243, 1, 777, 3455, 1131, 96, 977, 2314, 1119, 3917, 1830, 5820, 477, 79, 2]]\n"
          ]
        }
      ]
    },
    {
      "cell_type": "code",
      "source": [
        "# headlines 데이터도 동일하게 적용\n",
        "tar_tokenizer = Tokenizer()\n",
        "tar_tokenizer.fit_on_texts(decoder_input_train)"
      ],
      "metadata": {
        "id": "ApkHH267TMAV"
      },
      "execution_count": 38,
      "outputs": []
    },
    {
      "cell_type": "code",
      "source": [
        "threshold = 6\n",
        "total_cnt = len(tar_tokenizer.word_index) # 단어의 수\n",
        "rare_cnt = 0 # 등장 빈도수가 threshold보다 작은 단어의 개수를 카운트\n",
        "total_freq = 0 # 훈련 데이터의 전체 단어 빈도수 총 합\n",
        "rare_freq = 0 # 등장 빈도수가 threshold보다 작은 단어의 등장 빈도수의 총 합\n",
        "\n",
        "# 단어와 빈도수의 쌍(pair)을 key와 value로 받는다.\n",
        "for key, value in tar_tokenizer.word_counts.items():\n",
        "    total_freq = total_freq + value\n",
        "\n",
        "    # 단어의 등장 빈도수가 threshold보다 작으면\n",
        "    if(value < threshold):\n",
        "        rare_cnt = rare_cnt + 1\n",
        "        rare_freq = rare_freq + value\n",
        "\n",
        "print('단어 집합(vocabulary)의 크기 :', total_cnt)\n",
        "print('등장 빈도가 %s번 이하인 희귀 단어의 수: %s'%(threshold - 1, rare_cnt))\n",
        "print('단어 집합에서 희귀 단어를 제외시킬 경우의 단어 집합의 크기 %s'%(total_cnt - rare_cnt))\n",
        "print(\"단어 집합에서 희귀 단어의 비율:\", (rare_cnt / total_cnt)*100)\n",
        "print(\"전체 등장 빈도에서 희귀 단어 등장 빈도 비율:\", (rare_freq / total_freq)*100)\n",
        "\n",
        "# 세번째 시도\n",
        "# 등장빈도가 즉 5회 이하인 단어들은 단어 집합에서 약 66%정도 차지한다.\n",
        "# 단어 집하에서 희귀 단어를 제외시킨 단어 집합의 크기는 9058개이다.\n",
        "# 이를 어림잡아 단어 집합의 크기를 9000개로 제한하기로 결정한다."
      ],
      "metadata": {
        "colab": {
          "base_uri": "https://localhost:8080/"
        },
        "id": "ki3K5PFhTjam",
        "outputId": "6f3a6177-3fd1-4aad-cbc1-3523f9a9105f"
      },
      "execution_count": 39,
      "outputs": [
        {
          "output_type": "stream",
          "name": "stdout",
          "text": [
            "단어 집합(vocabulary)의 크기 : 27068\n",
            "등장 빈도가 5번 이하인 희귀 단어의 수: 18010\n",
            "단어 집합에서 희귀 단어를 제외시킬 경우의 단어 집합의 크기 9058\n",
            "단어 집합에서 희귀 단어의 비율: 66.5361312250628\n",
            "전체 등장 빈도에서 희귀 단어 등장 빈도 비율: 5.611303091177769\n"
          ]
        }
      ]
    },
    {
      "cell_type": "markdown",
      "source": [
        "등장 빈도수에 따른 target 데이터 분포\n",
        "1. 첫 번째 시도\n",
        "\n",
        "- 단어 집합(vocabulary)의 크기 : 69078\n",
        "- 등장 빈도가 9번 이하인 희귀 단어의 수: 50829\n",
        "- 단어 집합에서 희귀 단어를 제외시킬 경우의 단어 집합의 크기 18249\n",
        "- 단어 집합에서 희귀 단어의 비율: 73.58203769651698\n",
        "- 전체 등장 빈도에서 희귀 단어 등장 빈도 비율: 4.602950321415036\n",
        "\n",
        "2. 두 번째 시도\n",
        "\n",
        "- 단어 집합(vocabulary)의 크기 : 28471\n",
        "- 등장 빈도가 5번 이하인 희귀 단어의 수: 18737\n",
        "- 단어 집합에서 희귀 단어를 제외시킬 경우의 단어 집합의 크기 9734\n",
        "- 단어 집합에서 희귀 단어의 비율: 65.81082505005092\n",
        "- 전체 등장 빈도에서 희귀 단어 등장 빈도 비율: 5.167682532194644\n",
        "\n",
        "3. 세 번째 시도\n",
        "\n",
        "- 단어 집합(vocabulary)의 크기 : 27068\n",
        "- 등장 빈도가 5번 이하인 희귀 단어의 수: 18010\n",
        "- 단어 집합에서 희귀 단어를 제외시킬 경우의 단어 집합의 크기 9058\n",
        "- 단어 집합에서 희귀 단어의 비율: 66.5361312250628\n",
        "- 전체 등장 빈도에서 희귀 단어 등장 빈도 비율: 5.611303091177769"
      ],
      "metadata": {
        "id": "IT5dgDrU18ub"
      }
    },
    {
      "cell_type": "code",
      "source": [
        "# 단어크기 제한(9000개)\n",
        "\n",
        "tar_vocab = 9000\n",
        "tar_tokenizer = Tokenizer(num_words = tar_vocab)\n",
        "tar_tokenizer.fit_on_texts(decoder_input_train)\n",
        "tar_tokenizer.fit_on_texts(decoder_target_train)\n",
        "\n",
        "# 텍스트 시원스르 정수 시퀀스로 변환\n",
        "decoder_input_train = tar_tokenizer.texts_to_sequences(decoder_input_train)\n",
        "decoder_target_train = tar_tokenizer.texts_to_sequences(decoder_target_train)\n",
        "decoder_input_test = tar_tokenizer.texts_to_sequences(decoder_input_test)\n",
        "decoder_target_test = tar_tokenizer.texts_to_sequences(decoder_target_test)\n",
        "\n",
        "# 잘 변환되었는지 확인\n",
        "print('input')\n",
        "print('input ',decoder_input_train[:5])\n",
        "print('target')\n",
        "print('decoder ',decoder_target_train[:5])"
      ],
      "metadata": {
        "colab": {
          "base_uri": "https://localhost:8080/"
        },
        "id": "oTQVJiaMTy0O",
        "outputId": "720fe6c6-89de-4a50-be3e-2f90d386325b"
      },
      "execution_count": 40,
      "outputs": [
        {
          "output_type": "stream",
          "name": "stdout",
          "text": [
            "input\n",
            "input  [[1, 50, 472, 64, 78, 42, 2175, 2775, 1804], [1, 45, 237, 464, 118, 3868, 1059, 16], [1, 12, 240, 1720, 87, 128, 140, 304, 307, 224, 6540], [1, 38, 568, 130, 828, 419, 25, 5178], [1, 20, 501, 172, 2776, 4949, 1292, 1779, 6, 521]]\n",
            "target\n",
            "decoder  [[50, 472, 64, 78, 42, 2175, 2775, 1804, 2], [45, 237, 464, 118, 3868, 1059, 16, 2], [12, 240, 1720, 87, 128, 140, 304, 307, 224, 6540, 2], [38, 568, 130, 828, 419, 25, 5178, 2], [20, 501, 172, 2776, 4949, 1292, 1779, 6, 521, 2]]\n"
          ]
        }
      ]
    },
    {
      "cell_type": "code",
      "source": [
        "# headlines의 길이가 1인 인덱스를 따로 저장해두기\n",
        "drop_train = [index for index, sentence in enumerate(decoder_input_train) if len(sentence) == 1]\n",
        "drop_test = [index for index, sentence in enumerate(decoder_input_test) if len(sentence) == 1]\n",
        "\n",
        "print('삭제할 훈련 데이터의 개수 :', len(drop_train))\n",
        "print('삭제할 테스트 데이터의 개수 :', len(drop_test))\n",
        "\n",
        "encoder_input_train = [sentence for index, sentence in enumerate(encoder_input_train) if index not in drop_train]\n",
        "decoder_input_train = [sentence for index, sentence in enumerate(decoder_input_train) if index not in drop_train]\n",
        "decoder_target_train = [sentence for index, sentence in enumerate(decoder_target_train) if index not in drop_train]\n",
        "\n",
        "encoder_input_test = [sentence for index, sentence in enumerate(encoder_input_test) if index not in drop_test]\n",
        "decoder_input_test = [sentence for index, sentence in enumerate(decoder_input_test) if index not in drop_test]\n",
        "decoder_target_test = [sentence for index, sentence in enumerate(decoder_target_test) if index not in drop_test]\n",
        "\n",
        "print('훈련 데이터의 개수 :', len(encoder_input_train))\n",
        "print('훈련 레이블의 개수 :', len(decoder_input_train))\n",
        "print('테스트 데이터의 개수 :', len(encoder_input_test))\n",
        "print('테스트 레이블의 개수 :', len(decoder_input_test))\n",
        "\n",
        "# 삭제할 훈련 데이터의 개수가 1개로 나옴"
      ],
      "metadata": {
        "colab": {
          "base_uri": "https://localhost:8080/"
        },
        "id": "vSUZW1zDT5Pp",
        "outputId": "bb854541-e312-4d24-b5cf-8833dfe3e7d8"
      },
      "execution_count": 41,
      "outputs": [
        {
          "output_type": "stream",
          "name": "stdout",
          "text": [
            "삭제할 훈련 데이터의 개수 : 1\n",
            "삭제할 테스트 데이터의 개수 : 0\n",
            "훈련 데이터의 개수 : 60603\n",
            "훈련 레이블의 개수 : 60603\n",
            "테스트 데이터의 개수 : 15150\n",
            "테스트 레이블의 개수 : 15150\n"
          ]
        }
      ]
    },
    {
      "cell_type": "code",
      "source": [
        "# padding 수행\n",
        "\n",
        "encoder_input_train = pad_sequences(encoder_input_train, maxlen=text_max_len, padding='post')\n",
        "encoder_input_test = pad_sequences(encoder_input_test, maxlen=text_max_len, padding='post')\n",
        "decoder_input_train = pad_sequences(decoder_input_train, maxlen=headlines_max_len, padding='post')\n",
        "decoder_target_train = pad_sequences(decoder_target_train, maxlen=headlines_max_len, padding='post')\n",
        "decoder_input_test = pad_sequences(decoder_input_test, maxlen=headlines_max_len, padding='post')\n",
        "decoder_target_test = pad_sequences(decoder_target_test, maxlen=headlines_max_len, padding='post')"
      ],
      "metadata": {
        "id": "jl1h5iJaUSn0"
      },
      "execution_count": 42,
      "outputs": []
    },
    {
      "cell_type": "markdown",
      "source": [
        "# Step 3. 어텐션 메커니즘 사용하기 (추상적 요약)\n",
        "\n",
        "- 어텐션 메커니즘을 사용한 seq2seq를 사용하는 것이 더 나은 성능을 얻을 수 있기 때문에 어텐션 매커니즘을 사용한다."
      ],
      "metadata": {
        "id": "f04Jx4c6UV9c"
      }
    },
    {
      "cell_type": "code",
      "source": [
        "from tensorflow.keras.layers import Input, LSTM, Embedding, Dense, Concatenate, TimeDistributed\n",
        "from tensorflow.keras.models import Model\n",
        "from tensorflow.keras.callbacks import EarlyStopping, ModelCheckpoint\n",
        "\n",
        "# 인코더 설계 시작\n",
        "embedding_dim = 128\n",
        "hidden_size = 256\n",
        "\n",
        "# 인코더\n",
        "encoder_inputs = Input(shape=(text_max_len,))\n",
        "\n",
        "# 인코더의 임베딩 층\n",
        "enc_emb = Embedding(src_vocab, embedding_dim)(encoder_inputs)\n",
        "\n",
        "# 인코더의 LSTM1\n",
        "encoder_lstm1 = LSTM(hidden_size, return_sequences=True, return_state=True ,dropout = 0.4)\n",
        "encoder_output1, state_h1, state_c1 = encoder_lstm1(enc_emb)\n",
        "\n",
        "# 인코더의 LSTM2\n",
        "encoder_lstm2 = LSTM(hidden_size, return_sequences=True, return_state=True, dropout=0.4)\n",
        "encoder_output2, state_h2, state_c2 = encoder_lstm2(encoder_output1)\n",
        "\n",
        "# 인코더의 LSTM3\n",
        "encoder_lstm3 = LSTM(hidden_size, return_state=True, return_sequences=True, dropout=0.4)\n",
        "encoder_outputs, state_h, state_c= encoder_lstm3(encoder_output2)"
      ],
      "metadata": {
        "id": "qSt0hwoj73u0"
      },
      "execution_count": 43,
      "outputs": []
    },
    {
      "cell_type": "code",
      "source": [
        "# 디코더 설계\n",
        "decoder_inputs = Input(shape=(None,))\n",
        "\n",
        "# 디코더의 임베딩 층\n",
        "dec_emb_layer = Embedding(tar_vocab, embedding_dim)\n",
        "dec_emb = dec_emb_layer(decoder_inputs)\n",
        "\n",
        "# 디코더의 LSTM\n",
        "decoder_lstm = LSTM(hidden_size, return_sequences=True, return_state=True, dropout=0.4)\n",
        "decoder_outputs, _, _ = decoder_lstm(dec_emb, initial_state=[state_h, state_c])"
      ],
      "metadata": {
        "id": "2hnXuUac85BO"
      },
      "execution_count": 44,
      "outputs": []
    },
    {
      "cell_type": "code",
      "source": [
        "# 디코더의 출력층\n",
        "decoder_softmax_layer = Dense(tar_vocab, activation='softmax')\n",
        "decoder_softmax_outputs = decoder_softmax_layer(decoder_outputs)\n",
        "\n",
        "# 모델 정의\n",
        "model = Model([encoder_inputs, decoder_inputs], decoder_softmax_outputs)\n",
        "model.summary()"
      ],
      "metadata": {
        "colab": {
          "base_uri": "https://localhost:8080/"
        },
        "id": "mPutRPpO9gN3",
        "outputId": "9921a8e4-b599-4cb0-df06-85d073da466b"
      },
      "execution_count": 45,
      "outputs": [
        {
          "output_type": "stream",
          "name": "stdout",
          "text": [
            "Model: \"model\"\n",
            "__________________________________________________________________________________________________\n",
            " Layer (type)                   Output Shape         Param #     Connected to                     \n",
            "==================================================================================================\n",
            " input_1 (InputLayer)           [(None, 38)]         0           []                               \n",
            "                                                                                                  \n",
            " embedding (Embedding)          (None, 38, 128)      1920000     ['input_1[0][0]']                \n",
            "                                                                                                  \n",
            " lstm (LSTM)                    [(None, 38, 256),    394240      ['embedding[0][0]']              \n",
            "                                 (None, 256),                                                     \n",
            "                                 (None, 256)]                                                     \n",
            "                                                                                                  \n",
            " input_2 (InputLayer)           [(None, None)]       0           []                               \n",
            "                                                                                                  \n",
            " lstm_1 (LSTM)                  [(None, 38, 256),    525312      ['lstm[0][0]']                   \n",
            "                                 (None, 256),                                                     \n",
            "                                 (None, 256)]                                                     \n",
            "                                                                                                  \n",
            " embedding_1 (Embedding)        (None, None, 128)    1152000     ['input_2[0][0]']                \n",
            "                                                                                                  \n",
            " lstm_2 (LSTM)                  [(None, 38, 256),    525312      ['lstm_1[0][0]']                 \n",
            "                                 (None, 256),                                                     \n",
            "                                 (None, 256)]                                                     \n",
            "                                                                                                  \n",
            " lstm_3 (LSTM)                  [(None, None, 256),  394240      ['embedding_1[0][0]',            \n",
            "                                 (None, 256),                     'lstm_2[0][1]',                 \n",
            "                                 (None, 256)]                     'lstm_2[0][2]']                 \n",
            "                                                                                                  \n",
            " dense (Dense)                  (None, None, 9000)   2313000     ['lstm_3[0][0]']                 \n",
            "                                                                                                  \n",
            "==================================================================================================\n",
            "Total params: 7,224,104\n",
            "Trainable params: 7,224,104\n",
            "Non-trainable params: 0\n",
            "__________________________________________________________________________________________________\n"
          ]
        }
      ]
    },
    {
      "cell_type": "markdown",
      "source": [
        "# 어텐션 메커니즘"
      ],
      "metadata": {
        "id": "1MSDVcSq-BuO"
      }
    },
    {
      "cell_type": "code",
      "source": [
        "from tensorflow.keras.layers import AdditiveAttention\n",
        "\n",
        "# 어텐션 층(어텐션 함수)\n",
        "attn_layer = AdditiveAttention(name='attention_layer')\n",
        "\n",
        "# 인코더와 디코더의 모든 time step의 hidden state를 어텐션 층에 전달하고 결과를 리턴\n",
        "attn_out = attn_layer([decoder_outputs, encoder_outputs])\n",
        "\n",
        "# 어텐션의 결과와 디코더의 hidden state들을 연결\n",
        "decoder_concat_input = Concatenate(axis=-1, name='concat_layer')([decoder_outputs, attn_out])\n",
        "\n",
        "# 디코더의 출력층\n",
        "decoder_softmax_layer = Dense(tar_vocab, activation='softmax')\n",
        "decoder_softmax_outputs = decoder_softmax_layer(decoder_concat_input)\n",
        "\n",
        "# 모델 정의\n",
        "model = Model([encoder_inputs, decoder_inputs], decoder_softmax_outputs)\n",
        "model.summary()"
      ],
      "metadata": {
        "colab": {
          "base_uri": "https://localhost:8080/"
        },
        "id": "6xBUaFRh-I62",
        "outputId": "df33f4d4-9e94-4df2-abe1-a9d802990af0"
      },
      "execution_count": 46,
      "outputs": [
        {
          "output_type": "stream",
          "name": "stdout",
          "text": [
            "Model: \"model_1\"\n",
            "__________________________________________________________________________________________________\n",
            " Layer (type)                   Output Shape         Param #     Connected to                     \n",
            "==================================================================================================\n",
            " input_1 (InputLayer)           [(None, 38)]         0           []                               \n",
            "                                                                                                  \n",
            " embedding (Embedding)          (None, 38, 128)      1920000     ['input_1[0][0]']                \n",
            "                                                                                                  \n",
            " lstm (LSTM)                    [(None, 38, 256),    394240      ['embedding[0][0]']              \n",
            "                                 (None, 256),                                                     \n",
            "                                 (None, 256)]                                                     \n",
            "                                                                                                  \n",
            " input_2 (InputLayer)           [(None, None)]       0           []                               \n",
            "                                                                                                  \n",
            " lstm_1 (LSTM)                  [(None, 38, 256),    525312      ['lstm[0][0]']                   \n",
            "                                 (None, 256),                                                     \n",
            "                                 (None, 256)]                                                     \n",
            "                                                                                                  \n",
            " embedding_1 (Embedding)        (None, None, 128)    1152000     ['input_2[0][0]']                \n",
            "                                                                                                  \n",
            " lstm_2 (LSTM)                  [(None, 38, 256),    525312      ['lstm_1[0][0]']                 \n",
            "                                 (None, 256),                                                     \n",
            "                                 (None, 256)]                                                     \n",
            "                                                                                                  \n",
            " lstm_3 (LSTM)                  [(None, None, 256),  394240      ['embedding_1[0][0]',            \n",
            "                                 (None, 256),                     'lstm_2[0][1]',                 \n",
            "                                 (None, 256)]                     'lstm_2[0][2]']                 \n",
            "                                                                                                  \n",
            " attention_layer (AdditiveAtten  (None, None, 256)   256         ['lstm_3[0][0]',                 \n",
            " tion)                                                            'lstm_2[0][0]']                 \n",
            "                                                                                                  \n",
            " concat_layer (Concatenate)     (None, None, 512)    0           ['lstm_3[0][0]',                 \n",
            "                                                                  'attention_layer[0][0]']        \n",
            "                                                                                                  \n",
            " dense_1 (Dense)                (None, None, 9000)   4617000     ['concat_layer[0][0]']           \n",
            "                                                                                                  \n",
            "==================================================================================================\n",
            "Total params: 9,528,360\n",
            "Trainable params: 9,528,360\n",
            "Non-trainable params: 0\n",
            "__________________________________________________________________________________________________\n"
          ]
        }
      ]
    },
    {
      "cell_type": "code",
      "source": [
        "# 모델 훈련 - 1\n",
        "model.compile(optimizer='adam', loss='sparse_categorical_crossentropy')\n",
        "es = EarlyStopping(monitor='val_loss', patience=2, verbose=1)\n",
        "history = model.fit(x=[encoder_input_train, decoder_input_train], y=decoder_target_train, \\\n",
        "          validation_data=([encoder_input_test, decoder_input_test], decoder_target_test), \\\n",
        "          batch_size=256, callbacks=[es], epochs=50)"
      ],
      "metadata": {
        "colab": {
          "base_uri": "https://localhost:8080/"
        },
        "id": "1_IeBsn1U-ti",
        "outputId": "afc6aff5-7b4d-4f2f-a3b2-7cb61089fd2a"
      },
      "execution_count": 47,
      "outputs": [
        {
          "output_type": "stream",
          "name": "stdout",
          "text": [
            "Epoch 1/50\n",
            "237/237 [==============================] - 31s 84ms/step - loss: 6.1472 - val_loss: 5.7235\n",
            "Epoch 2/50\n",
            "237/237 [==============================] - 19s 79ms/step - loss: 5.6705 - val_loss: 5.5185\n",
            "Epoch 3/50\n",
            "237/237 [==============================] - 19s 81ms/step - loss: 5.3554 - val_loss: 5.1232\n",
            "Epoch 4/50\n",
            "237/237 [==============================] - 19s 82ms/step - loss: 4.9316 - val_loss: 4.7696\n",
            "Epoch 5/50\n",
            "237/237 [==============================] - 20s 83ms/step - loss: 4.5830 - val_loss: 4.5319\n",
            "Epoch 6/50\n",
            "237/237 [==============================] - 20s 84ms/step - loss: 4.3005 - val_loss: 4.3469\n",
            "Epoch 7/50\n",
            "237/237 [==============================] - 20s 85ms/step - loss: 4.0519 - val_loss: 4.1997\n",
            "Epoch 8/50\n",
            "237/237 [==============================] - 20s 85ms/step - loss: 3.8383 - val_loss: 4.1017\n",
            "Epoch 9/50\n",
            "237/237 [==============================] - 20s 85ms/step - loss: 3.6541 - val_loss: 4.0203\n",
            "Epoch 10/50\n",
            "237/237 [==============================] - 20s 85ms/step - loss: 3.4947 - val_loss: 3.9681\n",
            "Epoch 11/50\n",
            "237/237 [==============================] - 20s 85ms/step - loss: 3.3540 - val_loss: 3.9275\n",
            "Epoch 12/50\n",
            "237/237 [==============================] - 20s 85ms/step - loss: 3.2263 - val_loss: 3.8964\n",
            "Epoch 13/50\n",
            "237/237 [==============================] - 20s 85ms/step - loss: 3.1133 - val_loss: 3.8798\n",
            "Epoch 14/50\n",
            "237/237 [==============================] - 20s 85ms/step - loss: 3.0074 - val_loss: 3.8656\n",
            "Epoch 15/50\n",
            "237/237 [==============================] - 20s 85ms/step - loss: 2.9111 - val_loss: 3.8588\n",
            "Epoch 16/50\n",
            "237/237 [==============================] - 20s 85ms/step - loss: 2.8224 - val_loss: 3.8576\n",
            "Epoch 17/50\n",
            "237/237 [==============================] - 20s 85ms/step - loss: 2.7378 - val_loss: 3.8555\n",
            "Epoch 18/50\n",
            "237/237 [==============================] - 20s 85ms/step - loss: 2.6625 - val_loss: 3.8550\n",
            "Epoch 19/50\n",
            "237/237 [==============================] - 20s 85ms/step - loss: 2.5901 - val_loss: 3.8656\n",
            "Epoch 20/50\n",
            "237/237 [==============================] - 20s 85ms/step - loss: 2.5234 - val_loss: 3.8744\n",
            "Epoch 20: early stopping\n"
          ]
        }
      ]
    },
    {
      "cell_type": "markdown",
      "source": [
        " 만약에 EarlyStopping을 하지 않는다면 출력 결과에 영향을 줄 것인지 시도해보자"
      ],
      "metadata": {
        "id": "DETTch_BdTpt"
      }
    },
    {
      "cell_type": "code",
      "source": [
        "# 모델 훈련 - 2\n",
        "model.compile(optimizer='adam', loss='sparse_categorical_crossentropy')\n",
        "#es = EarlyStopping(monitor='val_loss', patience=2, verbose=1)\n",
        "history = model.fit(x=[encoder_input_train, decoder_input_train], y=decoder_target_train, \\\n",
        "          validation_data=([encoder_input_test, decoder_input_test], decoder_target_test), \\\n",
        "          batch_size=256, epochs=30)"
      ],
      "metadata": {
        "colab": {
          "base_uri": "https://localhost:8080/",
          "height": 1000
        },
        "id": "KMW4Iq6cdQAy",
        "outputId": "909779d1-2400-4009-ce28-7eaa3c344100"
      },
      "execution_count": 56,
      "outputs": [
        {
          "output_type": "stream",
          "name": "stdout",
          "text": [
            "Epoch 1/50\n",
            "237/237 [==============================] - 27s 91ms/step - loss: 2.4838 - val_loss: 3.8756\n",
            "Epoch 2/50\n",
            "237/237 [==============================] - 20s 86ms/step - loss: 2.3975 - val_loss: 3.8859\n",
            "Epoch 3/50\n",
            "237/237 [==============================] - 21s 87ms/step - loss: 2.3429 - val_loss: 3.9024\n",
            "Epoch 4/50\n",
            "237/237 [==============================] - 20s 85ms/step - loss: 2.2905 - val_loss: 3.9213\n",
            "Epoch 5/50\n",
            "237/237 [==============================] - 20s 85ms/step - loss: 2.2400 - val_loss: 3.9308\n",
            "Epoch 6/50\n",
            "237/237 [==============================] - 20s 85ms/step - loss: 2.1908 - val_loss: 3.9515\n",
            "Epoch 7/50\n",
            "237/237 [==============================] - 20s 85ms/step - loss: 2.1452 - val_loss: 3.9658\n",
            "Epoch 8/50\n",
            "237/237 [==============================] - 20s 86ms/step - loss: 2.1045 - val_loss: 3.9818\n",
            "Epoch 9/50\n",
            "237/237 [==============================] - 20s 85ms/step - loss: 2.0635 - val_loss: 3.9987\n",
            "Epoch 10/50\n",
            "237/237 [==============================] - 20s 85ms/step - loss: 2.0240 - val_loss: 4.0141\n",
            "Epoch 11/50\n",
            "237/237 [==============================] - 20s 85ms/step - loss: 1.9879 - val_loss: 4.0347\n",
            "Epoch 12/50\n",
            "237/237 [==============================] - 20s 85ms/step - loss: 1.9532 - val_loss: 4.0521\n",
            "Epoch 13/50\n",
            "237/237 [==============================] - 20s 85ms/step - loss: 1.9206 - val_loss: 4.0692\n",
            "Epoch 14/50\n",
            "237/237 [==============================] - 20s 85ms/step - loss: 1.8871 - val_loss: 4.0867\n",
            "Epoch 15/50\n",
            "237/237 [==============================] - 20s 85ms/step - loss: 1.8574 - val_loss: 4.1027\n",
            "Epoch 16/50\n",
            "237/237 [==============================] - 20s 85ms/step - loss: 1.8288 - val_loss: 4.1254\n",
            "Epoch 17/50\n",
            "237/237 [==============================] - 20s 85ms/step - loss: 1.8011 - val_loss: 4.1434\n",
            "Epoch 18/50\n",
            "237/237 [==============================] - 20s 85ms/step - loss: 1.7727 - val_loss: 4.1601\n",
            "Epoch 19/50\n",
            "237/237 [==============================] - 20s 85ms/step - loss: 1.7463 - val_loss: 4.1775\n",
            "Epoch 20/50\n",
            "237/237 [==============================] - 20s 85ms/step - loss: 1.7222 - val_loss: 4.1963\n",
            "Epoch 21/50\n",
            "237/237 [==============================] - 20s 85ms/step - loss: 1.6973 - val_loss: 4.2177\n",
            "Epoch 22/50\n",
            "237/237 [==============================] - 20s 85ms/step - loss: 1.6757 - val_loss: 4.2363\n",
            "Epoch 23/50\n",
            "225/237 [===========================>..] - ETA: 0s - loss: 1.6493"
          ]
        },
        {
          "output_type": "error",
          "ename": "KeyboardInterrupt",
          "evalue": "ignored",
          "traceback": [
            "\u001b[0;31m---------------------------------------------------------------------------\u001b[0m",
            "\u001b[0;31mKeyboardInterrupt\u001b[0m                         Traceback (most recent call last)",
            "\u001b[0;32m<ipython-input-56-76ae4ea864b8>\u001b[0m in \u001b[0;36m<module>\u001b[0;34m\u001b[0m\n\u001b[1;32m      4\u001b[0m history = model.fit(x=[encoder_input_train, decoder_input_train], y=decoder_target_train, \\\n\u001b[1;32m      5\u001b[0m           \u001b[0mvalidation_data\u001b[0m\u001b[0;34m=\u001b[0m\u001b[0;34m(\u001b[0m\u001b[0;34m[\u001b[0m\u001b[0mencoder_input_test\u001b[0m\u001b[0;34m,\u001b[0m \u001b[0mdecoder_input_test\u001b[0m\u001b[0;34m]\u001b[0m\u001b[0;34m,\u001b[0m \u001b[0mdecoder_target_test\u001b[0m\u001b[0;34m)\u001b[0m\u001b[0;34m,\u001b[0m\u001b[0;31m \u001b[0m\u001b[0;31m\\\u001b[0m\u001b[0;34m\u001b[0m\u001b[0;34m\u001b[0m\u001b[0m\n\u001b[0;32m----> 6\u001b[0;31m           batch_size=256, epochs=50)\n\u001b[0m",
            "\u001b[0;32m/usr/local/lib/python3.7/dist-packages/keras/utils/traceback_utils.py\u001b[0m in \u001b[0;36merror_handler\u001b[0;34m(*args, **kwargs)\u001b[0m\n\u001b[1;32m     62\u001b[0m     \u001b[0mfiltered_tb\u001b[0m \u001b[0;34m=\u001b[0m \u001b[0;32mNone\u001b[0m\u001b[0;34m\u001b[0m\u001b[0;34m\u001b[0m\u001b[0m\n\u001b[1;32m     63\u001b[0m     \u001b[0;32mtry\u001b[0m\u001b[0;34m:\u001b[0m\u001b[0;34m\u001b[0m\u001b[0;34m\u001b[0m\u001b[0m\n\u001b[0;32m---> 64\u001b[0;31m       \u001b[0;32mreturn\u001b[0m \u001b[0mfn\u001b[0m\u001b[0;34m(\u001b[0m\u001b[0;34m*\u001b[0m\u001b[0margs\u001b[0m\u001b[0;34m,\u001b[0m \u001b[0;34m**\u001b[0m\u001b[0mkwargs\u001b[0m\u001b[0;34m)\u001b[0m\u001b[0;34m\u001b[0m\u001b[0;34m\u001b[0m\u001b[0m\n\u001b[0m\u001b[1;32m     65\u001b[0m     \u001b[0;32mexcept\u001b[0m \u001b[0mException\u001b[0m \u001b[0;32mas\u001b[0m \u001b[0me\u001b[0m\u001b[0;34m:\u001b[0m  \u001b[0;31m# pylint: disable=broad-except\u001b[0m\u001b[0;34m\u001b[0m\u001b[0;34m\u001b[0m\u001b[0m\n\u001b[1;32m     66\u001b[0m       \u001b[0mfiltered_tb\u001b[0m \u001b[0;34m=\u001b[0m \u001b[0m_process_traceback_frames\u001b[0m\u001b[0;34m(\u001b[0m\u001b[0me\u001b[0m\u001b[0;34m.\u001b[0m\u001b[0m__traceback__\u001b[0m\u001b[0;34m)\u001b[0m\u001b[0;34m\u001b[0m\u001b[0;34m\u001b[0m\u001b[0m\n",
            "\u001b[0;32m/usr/local/lib/python3.7/dist-packages/keras/engine/training.py\u001b[0m in \u001b[0;36mfit\u001b[0;34m(self, x, y, batch_size, epochs, verbose, callbacks, validation_split, validation_data, shuffle, class_weight, sample_weight, initial_epoch, steps_per_epoch, validation_steps, validation_batch_size, validation_freq, max_queue_size, workers, use_multiprocessing)\u001b[0m\n\u001b[1;32m   1387\u001b[0m               \u001b[0mlogs\u001b[0m \u001b[0;34m=\u001b[0m \u001b[0mtmp_logs\u001b[0m  \u001b[0;31m# No error, now safe to assign to logs.\u001b[0m\u001b[0;34m\u001b[0m\u001b[0;34m\u001b[0m\u001b[0m\n\u001b[1;32m   1388\u001b[0m               \u001b[0mend_step\u001b[0m \u001b[0;34m=\u001b[0m \u001b[0mstep\u001b[0m \u001b[0;34m+\u001b[0m \u001b[0mdata_handler\u001b[0m\u001b[0;34m.\u001b[0m\u001b[0mstep_increment\u001b[0m\u001b[0;34m\u001b[0m\u001b[0;34m\u001b[0m\u001b[0m\n\u001b[0;32m-> 1389\u001b[0;31m               \u001b[0mcallbacks\u001b[0m\u001b[0;34m.\u001b[0m\u001b[0mon_train_batch_end\u001b[0m\u001b[0;34m(\u001b[0m\u001b[0mend_step\u001b[0m\u001b[0;34m,\u001b[0m \u001b[0mlogs\u001b[0m\u001b[0;34m)\u001b[0m\u001b[0;34m\u001b[0m\u001b[0;34m\u001b[0m\u001b[0m\n\u001b[0m\u001b[1;32m   1390\u001b[0m               \u001b[0;32mif\u001b[0m \u001b[0mself\u001b[0m\u001b[0;34m.\u001b[0m\u001b[0mstop_training\u001b[0m\u001b[0;34m:\u001b[0m\u001b[0;34m\u001b[0m\u001b[0;34m\u001b[0m\u001b[0m\n\u001b[1;32m   1391\u001b[0m                 \u001b[0;32mbreak\u001b[0m\u001b[0;34m\u001b[0m\u001b[0;34m\u001b[0m\u001b[0m\n",
            "\u001b[0;32m/usr/local/lib/python3.7/dist-packages/keras/callbacks.py\u001b[0m in \u001b[0;36mon_train_batch_end\u001b[0;34m(self, batch, logs)\u001b[0m\n\u001b[1;32m    436\u001b[0m     \"\"\"\n\u001b[1;32m    437\u001b[0m     \u001b[0;32mif\u001b[0m \u001b[0mself\u001b[0m\u001b[0;34m.\u001b[0m\u001b[0m_should_call_train_batch_hooks\u001b[0m\u001b[0;34m:\u001b[0m\u001b[0;34m\u001b[0m\u001b[0;34m\u001b[0m\u001b[0m\n\u001b[0;32m--> 438\u001b[0;31m       \u001b[0mself\u001b[0m\u001b[0;34m.\u001b[0m\u001b[0m_call_batch_hook\u001b[0m\u001b[0;34m(\u001b[0m\u001b[0mModeKeys\u001b[0m\u001b[0;34m.\u001b[0m\u001b[0mTRAIN\u001b[0m\u001b[0;34m,\u001b[0m \u001b[0;34m'end'\u001b[0m\u001b[0;34m,\u001b[0m \u001b[0mbatch\u001b[0m\u001b[0;34m,\u001b[0m \u001b[0mlogs\u001b[0m\u001b[0;34m=\u001b[0m\u001b[0mlogs\u001b[0m\u001b[0;34m)\u001b[0m\u001b[0;34m\u001b[0m\u001b[0;34m\u001b[0m\u001b[0m\n\u001b[0m\u001b[1;32m    439\u001b[0m \u001b[0;34m\u001b[0m\u001b[0m\n\u001b[1;32m    440\u001b[0m   \u001b[0;32mdef\u001b[0m \u001b[0mon_test_batch_begin\u001b[0m\u001b[0;34m(\u001b[0m\u001b[0mself\u001b[0m\u001b[0;34m,\u001b[0m \u001b[0mbatch\u001b[0m\u001b[0;34m,\u001b[0m \u001b[0mlogs\u001b[0m\u001b[0;34m=\u001b[0m\u001b[0;32mNone\u001b[0m\u001b[0;34m)\u001b[0m\u001b[0;34m:\u001b[0m\u001b[0;34m\u001b[0m\u001b[0;34m\u001b[0m\u001b[0m\n",
            "\u001b[0;32m/usr/local/lib/python3.7/dist-packages/keras/callbacks.py\u001b[0m in \u001b[0;36m_call_batch_hook\u001b[0;34m(self, mode, hook, batch, logs)\u001b[0m\n\u001b[1;32m    295\u001b[0m       \u001b[0mself\u001b[0m\u001b[0;34m.\u001b[0m\u001b[0m_call_batch_begin_hook\u001b[0m\u001b[0;34m(\u001b[0m\u001b[0mmode\u001b[0m\u001b[0;34m,\u001b[0m \u001b[0mbatch\u001b[0m\u001b[0;34m,\u001b[0m \u001b[0mlogs\u001b[0m\u001b[0;34m)\u001b[0m\u001b[0;34m\u001b[0m\u001b[0;34m\u001b[0m\u001b[0m\n\u001b[1;32m    296\u001b[0m     \u001b[0;32melif\u001b[0m \u001b[0mhook\u001b[0m \u001b[0;34m==\u001b[0m \u001b[0;34m'end'\u001b[0m\u001b[0;34m:\u001b[0m\u001b[0;34m\u001b[0m\u001b[0;34m\u001b[0m\u001b[0m\n\u001b[0;32m--> 297\u001b[0;31m       \u001b[0mself\u001b[0m\u001b[0;34m.\u001b[0m\u001b[0m_call_batch_end_hook\u001b[0m\u001b[0;34m(\u001b[0m\u001b[0mmode\u001b[0m\u001b[0;34m,\u001b[0m \u001b[0mbatch\u001b[0m\u001b[0;34m,\u001b[0m \u001b[0mlogs\u001b[0m\u001b[0;34m)\u001b[0m\u001b[0;34m\u001b[0m\u001b[0;34m\u001b[0m\u001b[0m\n\u001b[0m\u001b[1;32m    298\u001b[0m     \u001b[0;32melse\u001b[0m\u001b[0;34m:\u001b[0m\u001b[0;34m\u001b[0m\u001b[0;34m\u001b[0m\u001b[0m\n\u001b[1;32m    299\u001b[0m       raise ValueError(\n",
            "\u001b[0;32m/usr/local/lib/python3.7/dist-packages/keras/callbacks.py\u001b[0m in \u001b[0;36m_call_batch_end_hook\u001b[0;34m(self, mode, batch, logs)\u001b[0m\n\u001b[1;32m    316\u001b[0m       \u001b[0mself\u001b[0m\u001b[0;34m.\u001b[0m\u001b[0m_batch_times\u001b[0m\u001b[0;34m.\u001b[0m\u001b[0mappend\u001b[0m\u001b[0;34m(\u001b[0m\u001b[0mbatch_time\u001b[0m\u001b[0;34m)\u001b[0m\u001b[0;34m\u001b[0m\u001b[0;34m\u001b[0m\u001b[0m\n\u001b[1;32m    317\u001b[0m \u001b[0;34m\u001b[0m\u001b[0m\n\u001b[0;32m--> 318\u001b[0;31m     \u001b[0mself\u001b[0m\u001b[0;34m.\u001b[0m\u001b[0m_call_batch_hook_helper\u001b[0m\u001b[0;34m(\u001b[0m\u001b[0mhook_name\u001b[0m\u001b[0;34m,\u001b[0m \u001b[0mbatch\u001b[0m\u001b[0;34m,\u001b[0m \u001b[0mlogs\u001b[0m\u001b[0;34m)\u001b[0m\u001b[0;34m\u001b[0m\u001b[0;34m\u001b[0m\u001b[0m\n\u001b[0m\u001b[1;32m    319\u001b[0m \u001b[0;34m\u001b[0m\u001b[0m\n\u001b[1;32m    320\u001b[0m     \u001b[0;32mif\u001b[0m \u001b[0mlen\u001b[0m\u001b[0;34m(\u001b[0m\u001b[0mself\u001b[0m\u001b[0;34m.\u001b[0m\u001b[0m_batch_times\u001b[0m\u001b[0;34m)\u001b[0m \u001b[0;34m>=\u001b[0m \u001b[0mself\u001b[0m\u001b[0;34m.\u001b[0m\u001b[0m_num_batches_for_timing_check\u001b[0m\u001b[0;34m:\u001b[0m\u001b[0;34m\u001b[0m\u001b[0;34m\u001b[0m\u001b[0m\n",
            "\u001b[0;32m/usr/local/lib/python3.7/dist-packages/keras/callbacks.py\u001b[0m in \u001b[0;36m_call_batch_hook_helper\u001b[0;34m(self, hook_name, batch, logs)\u001b[0m\n\u001b[1;32m    354\u001b[0m     \u001b[0;32mfor\u001b[0m \u001b[0mcallback\u001b[0m \u001b[0;32min\u001b[0m \u001b[0mself\u001b[0m\u001b[0;34m.\u001b[0m\u001b[0mcallbacks\u001b[0m\u001b[0;34m:\u001b[0m\u001b[0;34m\u001b[0m\u001b[0;34m\u001b[0m\u001b[0m\n\u001b[1;32m    355\u001b[0m       \u001b[0mhook\u001b[0m \u001b[0;34m=\u001b[0m \u001b[0mgetattr\u001b[0m\u001b[0;34m(\u001b[0m\u001b[0mcallback\u001b[0m\u001b[0;34m,\u001b[0m \u001b[0mhook_name\u001b[0m\u001b[0;34m)\u001b[0m\u001b[0;34m\u001b[0m\u001b[0;34m\u001b[0m\u001b[0m\n\u001b[0;32m--> 356\u001b[0;31m       \u001b[0mhook\u001b[0m\u001b[0;34m(\u001b[0m\u001b[0mbatch\u001b[0m\u001b[0;34m,\u001b[0m \u001b[0mlogs\u001b[0m\u001b[0;34m)\u001b[0m\u001b[0;34m\u001b[0m\u001b[0;34m\u001b[0m\u001b[0m\n\u001b[0m\u001b[1;32m    357\u001b[0m \u001b[0;34m\u001b[0m\u001b[0m\n\u001b[1;32m    358\u001b[0m     \u001b[0;32mif\u001b[0m \u001b[0mself\u001b[0m\u001b[0;34m.\u001b[0m\u001b[0m_check_timing\u001b[0m\u001b[0;34m:\u001b[0m\u001b[0;34m\u001b[0m\u001b[0;34m\u001b[0m\u001b[0m\n",
            "\u001b[0;32m/usr/local/lib/python3.7/dist-packages/keras/callbacks.py\u001b[0m in \u001b[0;36mon_train_batch_end\u001b[0;34m(self, batch, logs)\u001b[0m\n\u001b[1;32m   1032\u001b[0m \u001b[0;34m\u001b[0m\u001b[0m\n\u001b[1;32m   1033\u001b[0m   \u001b[0;32mdef\u001b[0m \u001b[0mon_train_batch_end\u001b[0m\u001b[0;34m(\u001b[0m\u001b[0mself\u001b[0m\u001b[0;34m,\u001b[0m \u001b[0mbatch\u001b[0m\u001b[0;34m,\u001b[0m \u001b[0mlogs\u001b[0m\u001b[0;34m=\u001b[0m\u001b[0;32mNone\u001b[0m\u001b[0;34m)\u001b[0m\u001b[0;34m:\u001b[0m\u001b[0;34m\u001b[0m\u001b[0;34m\u001b[0m\u001b[0m\n\u001b[0;32m-> 1034\u001b[0;31m     \u001b[0mself\u001b[0m\u001b[0;34m.\u001b[0m\u001b[0m_batch_update_progbar\u001b[0m\u001b[0;34m(\u001b[0m\u001b[0mbatch\u001b[0m\u001b[0;34m,\u001b[0m \u001b[0mlogs\u001b[0m\u001b[0;34m)\u001b[0m\u001b[0;34m\u001b[0m\u001b[0;34m\u001b[0m\u001b[0m\n\u001b[0m\u001b[1;32m   1035\u001b[0m \u001b[0;34m\u001b[0m\u001b[0m\n\u001b[1;32m   1036\u001b[0m   \u001b[0;32mdef\u001b[0m \u001b[0mon_test_batch_end\u001b[0m\u001b[0;34m(\u001b[0m\u001b[0mself\u001b[0m\u001b[0;34m,\u001b[0m \u001b[0mbatch\u001b[0m\u001b[0;34m,\u001b[0m \u001b[0mlogs\u001b[0m\u001b[0;34m=\u001b[0m\u001b[0;32mNone\u001b[0m\u001b[0;34m)\u001b[0m\u001b[0;34m:\u001b[0m\u001b[0;34m\u001b[0m\u001b[0;34m\u001b[0m\u001b[0m\n",
            "\u001b[0;32m/usr/local/lib/python3.7/dist-packages/keras/callbacks.py\u001b[0m in \u001b[0;36m_batch_update_progbar\u001b[0;34m(self, batch, logs)\u001b[0m\n\u001b[1;32m   1104\u001b[0m     \u001b[0;32mif\u001b[0m \u001b[0mself\u001b[0m\u001b[0;34m.\u001b[0m\u001b[0mverbose\u001b[0m \u001b[0;34m==\u001b[0m \u001b[0;36m1\u001b[0m\u001b[0;34m:\u001b[0m\u001b[0;34m\u001b[0m\u001b[0;34m\u001b[0m\u001b[0m\n\u001b[1;32m   1105\u001b[0m       \u001b[0;31m# Only block async when verbose = 1.\u001b[0m\u001b[0;34m\u001b[0m\u001b[0;34m\u001b[0m\u001b[0;34m\u001b[0m\u001b[0m\n\u001b[0;32m-> 1106\u001b[0;31m       \u001b[0mlogs\u001b[0m \u001b[0;34m=\u001b[0m \u001b[0mtf_utils\u001b[0m\u001b[0;34m.\u001b[0m\u001b[0msync_to_numpy_or_python_type\u001b[0m\u001b[0;34m(\u001b[0m\u001b[0mlogs\u001b[0m\u001b[0;34m)\u001b[0m\u001b[0;34m\u001b[0m\u001b[0;34m\u001b[0m\u001b[0m\n\u001b[0m\u001b[1;32m   1107\u001b[0m       \u001b[0mself\u001b[0m\u001b[0;34m.\u001b[0m\u001b[0mprogbar\u001b[0m\u001b[0;34m.\u001b[0m\u001b[0mupdate\u001b[0m\u001b[0;34m(\u001b[0m\u001b[0mself\u001b[0m\u001b[0;34m.\u001b[0m\u001b[0mseen\u001b[0m\u001b[0;34m,\u001b[0m \u001b[0mlist\u001b[0m\u001b[0;34m(\u001b[0m\u001b[0mlogs\u001b[0m\u001b[0;34m.\u001b[0m\u001b[0mitems\u001b[0m\u001b[0;34m(\u001b[0m\u001b[0;34m)\u001b[0m\u001b[0;34m)\u001b[0m\u001b[0;34m,\u001b[0m \u001b[0mfinalize\u001b[0m\u001b[0;34m=\u001b[0m\u001b[0;32mFalse\u001b[0m\u001b[0;34m)\u001b[0m\u001b[0;34m\u001b[0m\u001b[0;34m\u001b[0m\u001b[0m\n\u001b[1;32m   1108\u001b[0m \u001b[0;34m\u001b[0m\u001b[0m\n",
            "\u001b[0;32m/usr/local/lib/python3.7/dist-packages/keras/utils/tf_utils.py\u001b[0m in \u001b[0;36msync_to_numpy_or_python_type\u001b[0;34m(tensors)\u001b[0m\n\u001b[1;32m    561\u001b[0m     \u001b[0;32mreturn\u001b[0m \u001b[0mt\u001b[0m\u001b[0;34m.\u001b[0m\u001b[0mitem\u001b[0m\u001b[0;34m(\u001b[0m\u001b[0;34m)\u001b[0m \u001b[0;32mif\u001b[0m \u001b[0mnp\u001b[0m\u001b[0;34m.\u001b[0m\u001b[0mndim\u001b[0m\u001b[0;34m(\u001b[0m\u001b[0mt\u001b[0m\u001b[0;34m)\u001b[0m \u001b[0;34m==\u001b[0m \u001b[0;36m0\u001b[0m \u001b[0;32melse\u001b[0m \u001b[0mt\u001b[0m\u001b[0;34m\u001b[0m\u001b[0;34m\u001b[0m\u001b[0m\n\u001b[1;32m    562\u001b[0m \u001b[0;34m\u001b[0m\u001b[0m\n\u001b[0;32m--> 563\u001b[0;31m   \u001b[0;32mreturn\u001b[0m \u001b[0mtf\u001b[0m\u001b[0;34m.\u001b[0m\u001b[0mnest\u001b[0m\u001b[0;34m.\u001b[0m\u001b[0mmap_structure\u001b[0m\u001b[0;34m(\u001b[0m\u001b[0m_to_single_numpy_or_python_type\u001b[0m\u001b[0;34m,\u001b[0m \u001b[0mtensors\u001b[0m\u001b[0;34m)\u001b[0m\u001b[0;34m\u001b[0m\u001b[0;34m\u001b[0m\u001b[0m\n\u001b[0m\u001b[1;32m    564\u001b[0m \u001b[0;34m\u001b[0m\u001b[0m\n\u001b[1;32m    565\u001b[0m \u001b[0;34m\u001b[0m\u001b[0m\n",
            "\u001b[0;32m/usr/local/lib/python3.7/dist-packages/tensorflow/python/util/nest.py\u001b[0m in \u001b[0;36mmap_structure\u001b[0;34m(func, *structure, **kwargs)\u001b[0m\n\u001b[1;32m    912\u001b[0m \u001b[0;34m\u001b[0m\u001b[0m\n\u001b[1;32m    913\u001b[0m   return pack_sequence_as(\n\u001b[0;32m--> 914\u001b[0;31m       \u001b[0mstructure\u001b[0m\u001b[0;34m[\u001b[0m\u001b[0;36m0\u001b[0m\u001b[0;34m]\u001b[0m\u001b[0;34m,\u001b[0m \u001b[0;34m[\u001b[0m\u001b[0mfunc\u001b[0m\u001b[0;34m(\u001b[0m\u001b[0;34m*\u001b[0m\u001b[0mx\u001b[0m\u001b[0;34m)\u001b[0m \u001b[0;32mfor\u001b[0m \u001b[0mx\u001b[0m \u001b[0;32min\u001b[0m \u001b[0mentries\u001b[0m\u001b[0;34m]\u001b[0m\u001b[0;34m,\u001b[0m\u001b[0;34m\u001b[0m\u001b[0;34m\u001b[0m\u001b[0m\n\u001b[0m\u001b[1;32m    915\u001b[0m       expand_composites=expand_composites)\n\u001b[1;32m    916\u001b[0m \u001b[0;34m\u001b[0m\u001b[0m\n",
            "\u001b[0;32m/usr/local/lib/python3.7/dist-packages/tensorflow/python/util/nest.py\u001b[0m in \u001b[0;36m<listcomp>\u001b[0;34m(.0)\u001b[0m\n\u001b[1;32m    912\u001b[0m \u001b[0;34m\u001b[0m\u001b[0m\n\u001b[1;32m    913\u001b[0m   return pack_sequence_as(\n\u001b[0;32m--> 914\u001b[0;31m       \u001b[0mstructure\u001b[0m\u001b[0;34m[\u001b[0m\u001b[0;36m0\u001b[0m\u001b[0;34m]\u001b[0m\u001b[0;34m,\u001b[0m \u001b[0;34m[\u001b[0m\u001b[0mfunc\u001b[0m\u001b[0;34m(\u001b[0m\u001b[0;34m*\u001b[0m\u001b[0mx\u001b[0m\u001b[0;34m)\u001b[0m \u001b[0;32mfor\u001b[0m \u001b[0mx\u001b[0m \u001b[0;32min\u001b[0m \u001b[0mentries\u001b[0m\u001b[0;34m]\u001b[0m\u001b[0;34m,\u001b[0m\u001b[0;34m\u001b[0m\u001b[0;34m\u001b[0m\u001b[0m\n\u001b[0m\u001b[1;32m    915\u001b[0m       expand_composites=expand_composites)\n\u001b[1;32m    916\u001b[0m \u001b[0;34m\u001b[0m\u001b[0m\n",
            "\u001b[0;32m/usr/local/lib/python3.7/dist-packages/keras/utils/tf_utils.py\u001b[0m in \u001b[0;36m_to_single_numpy_or_python_type\u001b[0;34m(t)\u001b[0m\n\u001b[1;32m    555\u001b[0m     \u001b[0;31m# Don't turn ragged or sparse tensors to NumPy.\u001b[0m\u001b[0;34m\u001b[0m\u001b[0;34m\u001b[0m\u001b[0;34m\u001b[0m\u001b[0m\n\u001b[1;32m    556\u001b[0m     \u001b[0;32mif\u001b[0m \u001b[0misinstance\u001b[0m\u001b[0;34m(\u001b[0m\u001b[0mt\u001b[0m\u001b[0;34m,\u001b[0m \u001b[0mtf\u001b[0m\u001b[0;34m.\u001b[0m\u001b[0mTensor\u001b[0m\u001b[0;34m)\u001b[0m\u001b[0;34m:\u001b[0m\u001b[0;34m\u001b[0m\u001b[0;34m\u001b[0m\u001b[0m\n\u001b[0;32m--> 557\u001b[0;31m       \u001b[0mt\u001b[0m \u001b[0;34m=\u001b[0m \u001b[0mt\u001b[0m\u001b[0;34m.\u001b[0m\u001b[0mnumpy\u001b[0m\u001b[0;34m(\u001b[0m\u001b[0;34m)\u001b[0m\u001b[0;34m\u001b[0m\u001b[0;34m\u001b[0m\u001b[0m\n\u001b[0m\u001b[1;32m    558\u001b[0m     \u001b[0;31m# Strings, ragged and sparse tensors don't have .item(). Return them as-is.\u001b[0m\u001b[0;34m\u001b[0m\u001b[0;34m\u001b[0m\u001b[0;34m\u001b[0m\u001b[0m\n\u001b[1;32m    559\u001b[0m     \u001b[0;32mif\u001b[0m \u001b[0;32mnot\u001b[0m \u001b[0misinstance\u001b[0m\u001b[0;34m(\u001b[0m\u001b[0mt\u001b[0m\u001b[0;34m,\u001b[0m \u001b[0;34m(\u001b[0m\u001b[0mnp\u001b[0m\u001b[0;34m.\u001b[0m\u001b[0mndarray\u001b[0m\u001b[0;34m,\u001b[0m \u001b[0mnp\u001b[0m\u001b[0;34m.\u001b[0m\u001b[0mgeneric\u001b[0m\u001b[0;34m)\u001b[0m\u001b[0;34m)\u001b[0m\u001b[0;34m:\u001b[0m\u001b[0;34m\u001b[0m\u001b[0;34m\u001b[0m\u001b[0m\n",
            "\u001b[0;32m/usr/local/lib/python3.7/dist-packages/tensorflow/python/framework/ops.py\u001b[0m in \u001b[0;36mnumpy\u001b[0;34m(self)\u001b[0m\n\u001b[1;32m   1221\u001b[0m     \"\"\"\n\u001b[1;32m   1222\u001b[0m     \u001b[0;31m# TODO(slebedev): Consider avoiding a copy for non-CPU or remote tensors.\u001b[0m\u001b[0;34m\u001b[0m\u001b[0;34m\u001b[0m\u001b[0;34m\u001b[0m\u001b[0m\n\u001b[0;32m-> 1223\u001b[0;31m     \u001b[0mmaybe_arr\u001b[0m \u001b[0;34m=\u001b[0m \u001b[0mself\u001b[0m\u001b[0;34m.\u001b[0m\u001b[0m_numpy\u001b[0m\u001b[0;34m(\u001b[0m\u001b[0;34m)\u001b[0m  \u001b[0;31m# pylint: disable=protected-access\u001b[0m\u001b[0;34m\u001b[0m\u001b[0;34m\u001b[0m\u001b[0m\n\u001b[0m\u001b[1;32m   1224\u001b[0m     \u001b[0;32mreturn\u001b[0m \u001b[0mmaybe_arr\u001b[0m\u001b[0;34m.\u001b[0m\u001b[0mcopy\u001b[0m\u001b[0;34m(\u001b[0m\u001b[0;34m)\u001b[0m \u001b[0;32mif\u001b[0m \u001b[0misinstance\u001b[0m\u001b[0;34m(\u001b[0m\u001b[0mmaybe_arr\u001b[0m\u001b[0;34m,\u001b[0m \u001b[0mnp\u001b[0m\u001b[0;34m.\u001b[0m\u001b[0mndarray\u001b[0m\u001b[0;34m)\u001b[0m \u001b[0;32melse\u001b[0m \u001b[0mmaybe_arr\u001b[0m\u001b[0;34m\u001b[0m\u001b[0;34m\u001b[0m\u001b[0m\n\u001b[1;32m   1225\u001b[0m \u001b[0;34m\u001b[0m\u001b[0m\n",
            "\u001b[0;32m/usr/local/lib/python3.7/dist-packages/tensorflow/python/framework/ops.py\u001b[0m in \u001b[0;36m_numpy\u001b[0;34m(self)\u001b[0m\n\u001b[1;32m   1187\u001b[0m   \u001b[0;32mdef\u001b[0m \u001b[0m_numpy\u001b[0m\u001b[0;34m(\u001b[0m\u001b[0mself\u001b[0m\u001b[0;34m)\u001b[0m\u001b[0;34m:\u001b[0m\u001b[0;34m\u001b[0m\u001b[0;34m\u001b[0m\u001b[0m\n\u001b[1;32m   1188\u001b[0m     \u001b[0;32mtry\u001b[0m\u001b[0;34m:\u001b[0m\u001b[0;34m\u001b[0m\u001b[0;34m\u001b[0m\u001b[0m\n\u001b[0;32m-> 1189\u001b[0;31m       \u001b[0;32mreturn\u001b[0m \u001b[0mself\u001b[0m\u001b[0;34m.\u001b[0m\u001b[0m_numpy_internal\u001b[0m\u001b[0;34m(\u001b[0m\u001b[0;34m)\u001b[0m\u001b[0;34m\u001b[0m\u001b[0;34m\u001b[0m\u001b[0m\n\u001b[0m\u001b[1;32m   1190\u001b[0m     \u001b[0;32mexcept\u001b[0m \u001b[0mcore\u001b[0m\u001b[0;34m.\u001b[0m\u001b[0m_NotOkStatusException\u001b[0m \u001b[0;32mas\u001b[0m \u001b[0me\u001b[0m\u001b[0;34m:\u001b[0m  \u001b[0;31m# pylint: disable=protected-access\u001b[0m\u001b[0;34m\u001b[0m\u001b[0;34m\u001b[0m\u001b[0m\n\u001b[1;32m   1191\u001b[0m       \u001b[0;32mraise\u001b[0m \u001b[0mcore\u001b[0m\u001b[0;34m.\u001b[0m\u001b[0m_status_to_exception\u001b[0m\u001b[0;34m(\u001b[0m\u001b[0me\u001b[0m\u001b[0;34m)\u001b[0m \u001b[0;32mfrom\u001b[0m \u001b[0;32mNone\u001b[0m  \u001b[0;31m# pylint: disable=protected-access\u001b[0m\u001b[0;34m\u001b[0m\u001b[0;34m\u001b[0m\u001b[0m\n",
            "\u001b[0;31mKeyboardInterrupt\u001b[0m: "
          ]
        }
      ]
    },
    {
      "cell_type": "code",
      "source": [
        "# 두 번째 시도 그래프\n",
        "# 훈련 데이터의 손실과 검증 데이터의 손실이 줄어드는 과정을 시각화 \n",
        "plt.plot(history.history['loss'], label='train')\n",
        "plt.plot(history.history['val_loss'], label='test')\n",
        "plt.legend()\n",
        "plt.show()"
      ],
      "metadata": {
        "colab": {
          "base_uri": "https://localhost:8080/",
          "height": 265
        },
        "id": "ks_xABmOU8Oc",
        "outputId": "69694515-636f-4bf8-ffde-64f82a967051"
      },
      "execution_count": null,
      "outputs": [
        {
          "output_type": "display_data",
          "data": {
            "text/plain": [
              "<Figure size 432x288 with 1 Axes>"
            ],
            "image/png": "[encoded data removed]"
          },
          "metadata": {
            "needs_background": "light"
          }
        }
      ]
    },
    {
      "cell_type": "code",
      "source": [
        "# 세 번째 시도 그래프\n",
        "plt.plot(history.history['loss'], label='train')\n",
        "plt.plot(history.history['val_loss'], label='test')\n",
        "plt.legend()\n",
        "plt.show()"
      ],
      "metadata": {
        "colab": {
          "base_uri": "https://localhost:8080/",
          "height": 265
        },
        "id": "rBzSHk2Ba-ky",
        "outputId": "bcbf42ba-a407-4815-d1d1-ff8ab8f43a16"
      },
      "execution_count": 48,
      "outputs": [
        {
          "output_type": "display_data",
          "data": {
            "text/plain": [
              "<Figure size 432x288 with 1 Axes>"
            ],
            "image/png": "[encoded data removed]"
          },
          "metadata": {
            "needs_background": "light"
          }
        }
      ]
    },
    {
      "cell_type": "code",
      "source": [
        "# 인퍼런스 모델 구현\n",
        "src_index_to_word = src_tokenizer.index_word # 원문 단어 집합에서 정수 -> 단어를 얻음\n",
        "tar_word_to_index = tar_tokenizer.word_index # 요약 단어 집합에서 단어 -> 정수를 얻음\n",
        "tar_index_to_word = tar_tokenizer.index_word # 요약 단어 집합에서 정수 -> 단어를 얻음"
      ],
      "metadata": {
        "id": "9C0k-8tGbvCI"
      },
      "execution_count": 49,
      "outputs": []
    },
    {
      "cell_type": "code",
      "source": [
        "# 인코더 설계\n",
        "encoder_model = Model(inputs = encoder_inputs, outputs = [encoder_outputs, state_h, state_c])\n",
        "\n",
        "# 이전 시점의 상태들을 저장하는 텐서\n",
        "decoder_state_input_h = Input(shape=(hidden_size,))\n",
        "decoder_state_input_c = Input(shape=(hidden_size,))\n",
        "\n",
        "dec_emb2 = dec_emb_layer(decoder_inputs)\n",
        "\n",
        "# 문장의 다음 단어를 예측하기 위해서 초기 상태(initial_state)를 이전 시점의 상태로 사용. 이는 뒤의 함수 decode_sequence()에 구현\n",
        "# 훈련 과정에서와 달리 LSTM의 리턴하는 은닉 상태와 셀 상태인 state_h와 state_c를 버리지 않음.\n",
        "decoder_outputs2, state_h2, state_c2 = decoder_lstm(dec_emb2, initial_state=[decoder_state_input_h, decoder_state_input_c])"
      ],
      "metadata": {
        "id": "iLwskwfGBnP2"
      },
      "execution_count": 50,
      "outputs": []
    },
    {
      "cell_type": "code",
      "source": [
        "# 어텐션 함수\n",
        "decoder_hidden_state_input = Input(shape=(text_max_len, hidden_size))\n",
        "attn_out_inf = attn_layer([decoder_outputs2, decoder_hidden_state_input])\n",
        "decoder_inf_concat = Concatenate(axis=-1, name='concat')([decoder_outputs2, attn_out_inf])\n",
        "\n",
        "# 디코더의 출력층\n",
        "decoder_outputs2 = decoder_softmax_layer(decoder_inf_concat)\n",
        "\n",
        "# 최종 디코더 모델\n",
        "decoder_model = Model(\n",
        "    [decoder_inputs] + [decoder_hidden_state_input,decoder_state_input_h, decoder_state_input_c], \n",
        "    [decoder_outputs2] + [state_h2, state_c2]\n",
        ")"
      ],
      "metadata": {
        "id": "CUBSrQvmCFMl"
      },
      "execution_count": 51,
      "outputs": []
    },
    {
      "cell_type": "code",
      "source": [
        "def decode_sequence(input_seq):\n",
        "  # 입력으로부터 인코더의 상태를 얻음\n",
        "  e_out, e_h, e_c = encoder_model.predict(input_seq)\n",
        "\n",
        "  # 시작 토큰 생성\n",
        "  target_seq = np.zeros((1,1))\n",
        "  target_seq[0,0] = tar_word_to_index['sostoken']\n",
        "\n",
        "  stop_condition = False\n",
        "  decoded_sentence = ''\n",
        "  while not stop_condition: # stop_condition이 True가 될 때까지 루프 반복\n",
        "\n",
        "    output_tokens, h, c = decoder_model.predict([target_seq] + [e_out, e_h, e_c])\n",
        "    sampled_token_index = np.argmax(output_tokens[0, -1, :])\n",
        "    sampled_token = tar_index_to_word[sampled_token_index]\n",
        "\n",
        "    if (sampled_token != 'eostoken'):\n",
        "      decoded_sentence += ' '+sampled_token\n",
        "    \n",
        "    #  <eos>에 도달하거나 최대 길이를 넘으면 중단.\n",
        "    if (sampled_token == 'eostoken' or len(decoded_sentence.split()) >= (headlines_max_len-1)):\n",
        "       stop_condition = True\n",
        "     # 길이가 1인 타겟 시퀀스를 업데이트\n",
        "    target_seq = np.zeros((1,1))\n",
        "    target_seq[0, 0] = sampled_token_index\n",
        "\n",
        "    # 상태를 업데이트 합니다.\n",
        "    e_h, e_c = h, c\n",
        "\n",
        "  return decoded_sentence"
      ],
      "metadata": {
        "id": "LTb3gCWSEjHH"
      },
      "execution_count": 52,
      "outputs": []
    },
    {
      "cell_type": "markdown",
      "source": [
        "# Step 4. 실제 결과와 요약문 비교하기 (추상적 요약)"
      ],
      "metadata": {
        "id": "iOKcaKJ4b-zN"
      }
    },
    {
      "cell_type": "code",
      "source": [
        "# 원문의 정수 시퀀스를 텍스트 시퀀스로 변환\n",
        "\n",
        "def seq2text(input_seq):\n",
        "  temp=''\n",
        "  for i in input_seq:\n",
        "    if (i != 0):\n",
        "      temp = temp + src_index_to_word[i]+' '\n",
        "  return temp\n",
        "\n",
        "# 요약문의 정수 시퀀스를 텍스트 시퀀스로 변환\n",
        "def seq2summary(input_seq):\n",
        "    temp=''\n",
        "    for i in input_seq:\n",
        "      if ((i!=0 and i!=tar_word_to_index['sostoken']) and i!=tar_word_to_index['eostoken']):\n",
        "          temp = temp + tar_index_to_word[i] + ' '\n",
        "    return temp"
      ],
      "metadata": {
        "id": "ZRW4HZeqGjxX"
      },
      "execution_count": 53,
      "outputs": []
    },
    {
      "cell_type": "code",
      "source": [
        "# 학습 데이터 일부를 추출하여 실제 요약과 예측된 요약 비교\n",
        "for i in range(1, 30):\n",
        "  print(\"원문 :\", seq2text(encoder_input_train[i]))\n",
        "  print(\"실제 요약 :\", seq2summary(decoder_input_train[i]))\n",
        "  print(\"예측 요약 :\", decode_sequence(encoder_input_train[i].reshape(1, text_max_len)))\n",
        "  print(\"\\n\")"
      ],
      "metadata": {
        "colab": {
          "base_uri": "https://localhost:8080/"
        },
        "id": "EP_Ww1DdNztZ",
        "outputId": "73755b7b-2a49-4118-c261-b64b5dac4bf6"
      },
      "execution_count": 54,
      "outputs": [
        {
          "output_type": "stream",
          "name": "stdout",
          "text": [
            "원문 : part one collection virat kohli designed first sneaker launched today kohli says basket classic one classic elements cricket available neutral colours white black sneakers design reflection kohli personal style \n",
            "실제 요약 : st ever virat kohli designed launched by \n",
            "예측 요약 :  virat kohli shares video of him on amazon\n",
            "\n",
            "\n",
            "원문 : former jnu students union president kanhaiya kumar said environment fear india use patanjali face wash called anti national kanhaiya said various sections society including living fear demand reduction fee labelled anti national added \n",
            "실제 요약 : not using patanjali can make one anti national now kanhaiya \n",
            "예측 요약 :  not to make hindu universities jnu to ugc\n",
            "\n",
            "\n",
            "원문 : delhi chief minister arvind kejriwal blue car stolen near secretariat delhi thursday evening delhi police reportedly registered complaint investigating matter car dubbed used kejriwal since activist currently used aam aadmi party functionary \n",
            "실제 요약 : cm kejriwal car stolen near delhi secretariat \n",
            "예측 요약 :  delhi cm kejriwal to get stolen from car\n",
            "\n",
            "\n",
            "원문 : clip fa cup match park rangers manchester city voted worst seconds football italian magazine clip shows taking corner player jumping unable meet ball reaches city player box \n",
            "실제 요약 : man city match clip voted worst seconds of football \n",
            "예측 요약 :  man scores yard goal in seconds to reach goal\n",
            "\n",
            "\n",
            "원문 : year old girl jumped moving ambulance saturday driver tried rape odisha district incident occurred girl accompanying unwell sister private nursing home ambulance asked driver drop residence reports said critically injured \n",
            "실제 요약 : odisha teen jumps off ambulance after driver attempts rape \n",
            "예측 요약 :  year old girl jumps off moving to ambulance\n",
            "\n",
            "\n",
            "원문 : amid reports differences bjp jd allocation lok sabha seats bihar chief minister nitish kumar said problem two parties said rumours hot air adding issues relating lok sabha elections sorted due course time \n",
            "실제 요약 : all hot air nitish kumar denies problems between bjp jd \n",
            "예측 요약 :  nitish kumar is no trust motion against bjp bjp leader\n",
            "\n",
            "\n",
            "원문 : finance minister arun jaitley underwent successful kidney transplant surgery india institute medical sciences delhi monday stable condition hospital authorities said year old bjp leader undergoing past month reports said jaitley undergone bypass surgery manage diabetes \n",
            "실제 요약 : arun jaitley undergoes kidney transplant at aiims delhi \n",
            "예측 요약 :  arun jaitley undergoes surgery to aiims aiims\n",
            "\n",
            "\n",
            "원문 : jet airways flight attendant praised online saving life passenger suffered cardiac arrest recent bengaluru delhi flight jet airways said flight attendant took details medical history patient gave medication oxygen twitter user said heroes wear wear uniforms \n",
            "실제 요약 : flight attendant saves flyer who suffered cardiac arrest \n",
            "예측 요약 :  flyer attendant passenger grounded after flight gets cardiac arrest\n",
            "\n",
            "\n",
            "원문 : congress mp noor monday joined trinamool congress presence west bengal cm mamata banerjee inspired didi work guidance development state mp said said confident tmc win seats bengal upcoming polls \n",
            "실제 요약 : congress mp joins tmc ahead of lok sabha polls \n",
            "예측 요약 :  cong mp joins tmc for days after th day\n",
            "\n",
            "\n",
            "원문 : akshay kumar karan johar announced upcoming production kesari battle saragarhi akshay co presenting starring kesari tweeted film extremely excited personally emotionally johar called film exceptional brave story directed anurag singh film scheduled holi release \n",
            "실제 요약 : akshay johar announce film kesari on battle of \n",
            "예측 요약 :  akshay kumar to star in akshay kumar kesari report\n",
            "\n",
            "\n",
            "원문 : madhur bhandarkar recently released film indu sarkar open th annual bollywood film festival norway held september film based period prime minister indira gandhi declared state emergency country actors kirti neil nitin mukesh anupam kher starred film \n",
            "실제 요약 : indu sarkar to open annual bollywood festival norway \n",
            "예측 요약 :  indu sarkar to launch international web series in bollywood\n",
            "\n",
            "\n",
            "원문 : filmmaker sanjay leela bhansali launch actor son bollywood assisted bhansali film bajirao mastani said chosen role bhansali reportedly co producing film bhansali productions directed known directing marathi film \n",
            "실제 요약 : bhansali to launch son in bollywood \n",
            "예측 요약 :  bhansali to launch son in bollywood film reports\n",
            "\n",
            "\n",
            "원문 : russia treat us sanctions target banking operations currency trade declaration economic war respond accordingly pm dmitry medvedev warned medvedev comments came us announced new sanctions russia alleged poisoning former spy sergei skripal daughter uk \n",
            "실제 요약 : will treat further us sanctions as economic war russia \n",
            "예측 요약 :  us sanctions sanctions against us over sanctions russia\n",
            "\n",
            "\n",
            "원문 : suresh raina last played india february said coming back team india feels like playing first time indian jersey wait get back made tougher every lap ran training thinking added \n",
            "실제 요약 : it feels like am wearing india jersey for st time raina \n",
            "예측 요약 :  india should be in india after years\n",
            "\n",
            "\n",
            "원문 : rcb captain virat kohli sprinted left long put full length dive take catch dismiss kkr captain dinesh karthik th sunday kohli refused celebrate catch threw ball towards pitch going back position kkr match six wickets \n",
            "실제 요약 : kohli takes running catch against kkr does not celebrate \n",
            "예측 요약 :  virat kohli takes one handed catch to dismiss injury\n",
            "\n",
            "\n",
            "원문 : actor prakash raj slammed union minister karnataka bjp leader anantkumar hegde calling nationalism thing hindutva tweeting guys hitler wrote bring religion nationalism comments video hegde said islam cannot remove terrorism \n",
            "실제 요약 : are you of hitler prakash to bjp minister \n",
            "예측 요약 :  minister slams bjp for remark on tipu remark\n",
            "\n",
            "\n",
            "원문 : passive euthanasia withdrawal medical treatment intention death terminally ill patients like switching life support machines feeding tube living written document wherein patients give instructions advance treatment administered terminally ill unable express consent \n",
            "실제 요약 : what is euthanasia and living will \n",
            "예측 요약 :  medical health victim passed in hospital\n",
            "\n",
            "\n",
            "원문 : indian origin uk minister patel wednesday resigned cabinet post unauthorised secret meetings israeli officials breached diplomatic protocol comes summoned pm theresa may matter apologising meetings patel said actions meant best intentions actions fell standards transparency \n",
            "실제 요약 : indian origin uk minister resigns over secret israel meeting \n",
            "예측 요약 :  cabinet approves uk cabinet secretary\n",
            "\n",
            "\n",
            "원문 : several saudi princes current former ministers recently arrested kingdom anti corruption probe held five star hotel riyadh following arrest senior figures hotel asked guests leave premises accused princes include middle east wealthiest person net worth billion \n",
            "실제 요약 : arrested saudi princes ministers being held in star hotel \n",
            "예측 요약 :  saudi arrests man who detained over corruption charges\n",
            "\n",
            "\n",
            "원문 : taking dig lalu prasad yadav bjp leader sushil modi sunday tweeted rjd leader shocked yogi adityanath becoming cm know react yadav responded mocking modi invited swearing ceremony modi however later tweeted present ceremony \n",
            "실제 요약 : lalu sushil modi in twitter over up cm \n",
            "예측 요약 :  lalu sushil modi on lalu remark on his th birthday\n",
            "\n",
            "\n",
            "원문 : accusing prime minister narendra modi selling dreams poor congress vice president rahul gandhi said pm modi give every gujarati house moon mocked pm modi saying bring moon earth gandhi said last day tour poll bound gujarat \n",
            "실제 요약 : pm modi will give every gujarati house on moon rahul \n",
            "예측 요약 :  pm modi is the moon rahul gandhi on rahul gandhi\n",
            "\n",
            "\n",
            "원문 : one presidential nomination indian national congress elected without contest multiple candidates voting takes place winner needs votes otherwise members pradesh congress committees vote listing preferences clear majority candidates least votes eliminated second preferences counted \n",
            "실제 요약 : how does the indian national congress elect its president \n",
            "예측 요약 :  kovind elects its first candidate to elect presidential candidate\n",
            "\n",
            "\n",
            "원문 : opener prithvi shaw become youngest cricketer hit winning runs india test achieving feat windies sunday shaw aged years days smashed four complete india chase overall second youngest cricketer achieve feat australia pat cummins \n",
            "실제 요약 : prithvi shaw youngest to hit winning runs for india in tests \n",
            "예측 요약 :  sehwag youngest to score runs in test cricket\n",
            "\n",
            "\n",
            "원문 : women india ride consisting women bikers tuesday hoisted tricolour height feet sea level la pass ladakh highest pass world journey started gujarat surat july women covered kilometres days \n",
            "실제 요약 : women bikers hoist flag at world highest pass \n",
            "예측 요약 :  women hoist tricolour in ladakh on th day\n",
            "\n",
            "\n",
            "원문 : israeli prime minister benjamin netanyahu misspelled gandhi note left mahatma gandhi ashram visit gujarat inspiring visit one humanity great inspiration wrote note notably netanyahu first israeli prime minister visit india years \n",
            "실제 요약 : israeli pm netanyahu misspells gandhi as \n",
            "예측 요약 :  pm modi pays tribute to gandhiji in india\n",
            "\n",
            "\n",
            "원문 : following visit refugee camps rohingya muslims bangladesh un secretary general antonio guterres monday said facing humanitarian human rights nightmare guterres added heard accounts atrocities visit lakh rohingya muslims fled bangladesh following crackdown myanmar military last year \n",
            "실제 요약 : rohingya muslims facing human rights un chief \n",
            "예측 요약 :  myanmar myanmar myanmar to fight rohingyas\n",
            "\n",
            "\n",
            "원문 : showing support metoo movement writer director woody allen said poster boy movement worked hundreds actresses always wonderful record added said single ever suggested kind adding everyone wants justice done \n",
            "실제 요약 : should be poster boy for metoo movement allen \n",
            "예측 요약 :  metoo movement have been an actor\n",
            "\n",
            "\n",
            "원문 : google thursday announced integration hindi language assistant devices running android latest update users type queries give voice commands hindi language google also dedicated website list commands available hindi assistant spanning across apps including search maps youtube \n",
            "실제 요약 : google now allows hindi voice for its apps \n",
            "예측 요약 :  google to let users to let users\n",
            "\n",
            "\n",
            "원문 : reserve bank india unearthed hidden bad loans worth crore books sbi last fiscal central bank audit also showed biggest private lender hdfc bank bad loan crore fy difference bank reported bad loans rbi audit findings \n",
            "실제 요약 : rbi crore bad loans in sbi books for fy \n",
            "예측 요약 :  rbi imposes crore loan rates for fy\n",
            "\n",
            "\n"
          ]
        }
      ]
    },
    {
      "cell_type": "code",
      "source": [
        "# 테스트 데이터 일부를 추출하여 실제 요약과 예측된 요약 비교\n",
        "for i in range(1, 30):\n",
        "  print(\"원문 :\", seq2text(encoder_input_test[i]))\n",
        "  print(\"실제 요약 :\", seq2summary(decoder_input_test[i]))\n",
        "  print(\"예측 요약 :\", decode_sequence(encoder_input_test[i].reshape(1, text_max_len)))\n",
        "  print(\"\\n\")"
      ],
      "metadata": {
        "colab": {
          "base_uri": "https://localhost:8080/"
        },
        "id": "F9u7NQD8G6PB",
        "outputId": "8f679fb5-519f-497c-e2ef-ecede6d3c1c5"
      },
      "execution_count": 55,
      "outputs": [
        {
          "output_type": "stream",
          "name": "stdout",
          "text": [
            "원문 : afghanistan cricketers including tuesday centurion mohammad shahzad met indian kid seen crying tuesday tied india afghanistan odi match cricketers also posed selfies kid earlier seen father stands india harbhajan singh later posted words tweet \n",
            "실제 요약 : afghan players indian kid who cried after tied match \n",
            "예측 요약 :  afghanistan captain shahzad plays afghan jersey in sa\n",
            "\n",
            "\n",
            "원문 : australian police released cctv footage man broke building stole chocolates electronic goods including iphone wearing lion costume cctv footage shows accompanied suspect wearing jacket said uber back police appealed public information \n",
            "실제 요약 : man dressed as lion breaks into building steals \n",
            "예측 요약 :  video shows iphone phone explodes in us\n",
            "\n",
            "\n",
            "원문 : spanish foreign minister revealed us president donald trump suggested spanish government deal mediterranean migration crisis building wall across sahara desert notably spain holds two small north africa wall would built foreign territory \n",
            "실제 요약 : trump told spain to build wall across sahara desert \n",
            "예측 요약 :  trump threatens to withdraw from cuba amid embargo\n",
            "\n",
            "\n",
            "원문 : computer utility software owned cybersecurity company hacked spread malware users malware gave hackers unauthorised access infected computer personal information owned runs software later solved issue claimed malware harm user \n",
            "실제 요약 : owned software hacked to spread malware \n",
            "예측 요약 :  microsoft bug hacked to malware passwords\n",
            "\n",
            "\n",
            "원문 : model actress malaika arora took instagram share picture lunch family along ex husband arbaaz khan son malaika sister amrita arora also seen picture couple married years filed divorce november mutual consent \n",
            "실제 요약 : malaika ex husband arbaaz spotted together at family lunch \n",
            "예측 요약 :  esha deol shares pic with daughter with her son\n",
            "\n",
            "\n",
            "원문 : reacting us president donald trump sitting former british prime minister winston churchill chair user tweeted think may bucket list item twitter users wrote pretty sure churchill rolling grave must chair immediately \n",
            "실제 요약 : twitter users react to trump sitting on chair \n",
            "예측 요약 :  trump misspells twitter for misspelling\n",
            "\n",
            "\n",
            "원문 : congress rjd single largest parties goa bihar appealed states governors seeking form government citing situation karnataka bjp allies invited form goa government proved majority bihar congress rjd jd alliance ended year allowing bjp jd form government \n",
            "실제 요약 : single largest parties in goa bihar seek to form govts \n",
            "예측 요약 :  bjp jd jd alliance with jd for polls jd\n",
            "\n",
            "\n",
            "원문 : district court chandigarh rejected year old rape victim abortion plea confirmed girl weeks pregnant girl repeatedly raped maternal uncle doctors advised full term pregnancy also ruling caesarean section court allows medical termination pregnancy weeks \n",
            "실제 요약 : chandigarh court refuses abortion to year old rape victim \n",
            "예측 요약 :  court acquits rape victim for raping minor rapists\n",
            "\n",
            "\n",
            "원문 : islamic state claimed responsibility car bomb explosion killed least people injured others monday iraq capital explosive laden car went market city district militant group said bombing meant target shi muslims \n",
            "실제 요약 : isis claims responsibility for car bomb explosion in iraq \n",
            "예측 요약 :  isis attack on syrian bomb attack\n",
            "\n",
            "\n",
            "원문 : uk seized properties belonging india wanted gangster world second richest criminal ever dawood ibrahim according reports assets reportedly worth crore comes uk named dawood indian national list financial sanctions august year released \n",
            "실제 요약 : uk seizes dawood ibrahim assets worth over crore \n",
            "예측 요약 :  uk seizes crore seized in hong kong\n",
            "\n",
            "\n",
            "원문 : chinese authorities launched investigation firm accused data related manufacture human vaccine firm ordered stop production authorities recalled unused vaccines produced company thousands children feared injected faulty vaccines \n",
            "실제 요약 : china launches probe into faulty vaccine scandal \n",
            "예측 요약 :  china installs airbag with axe\n",
            "\n",
            "\n",
            "원문 : congress vice president rahul gandhi likely announced party president october taking mother sonia gandhi post last years congress announce presidential election month one nomination filed president post several reports claimed \n",
            "실제 요약 : rahul likely to take over as congress president by oct \n",
            "예측 요약 :  rahul gandhi elected to attend party\n",
            "\n",
            "\n",
            "원문 : india defeated australia runs second odi thursday become number one ranked odi side australia kuldeep yadav becoming third indian bowler take odi hat trick india tied south africa points odi rankings claim top spot points \n",
            "실제 요약 : india beat australia to become number ranked odi team \n",
            "예측 요약 :  india odi odi odi odi series came against india\n",
            "\n",
            "\n",
            "원문 : hyderabad based mallikarjun reddy arrested killing sister mentally challenged twins reddy killed want sister suffer looking children reportedly told police crime brought children hyderabad hometown pretext swimming classes \n",
            "실제 요약 : man kills sister mentally challenged twins in hyderabad \n",
            "예측 요약 :  man kills self for opposing his wife in his home\n",
            "\n",
            "\n",
            "원문 : speaking interview actor aamir khan indian cricket team captain virat kohli revealed pakistan mohammad amir one toughest bowlers ever faced kohli earlier praised amir bowling spell asia cup following amir session twitter called kohli best batsman world \n",
            "실제 요약 : mohammad amir one of the bowlers have faced kohli \n",
            "예측 요약 :  virat kohli is the greatest wicket gavaskar on kohli\n",
            "\n",
            "\n",
            "원문 : indian fielder kl rahul took catch running backwards register th catch series equalling rahul dravid record number catches indian fielder test series rahul took seven catches trent bridge test also holds record catches series england \n",
            "실제 요약 : rahul takes catch running to equal dravid record \n",
            "예측 요약 :  rahul hits gujarat as indian spinner in gujarat\n",
            "\n",
            "\n",
            "원문 : india captain virat kohli leave field middle afternoon session suffering injury right shoulder indian skipper landed heavily shoulder chasing ball mid th kohli seen using ice pack injured shoulder dressing room \n",
            "실제 요약 : virat kohli walks off the field with an injured shoulder \n",
            "예측 요약 :  virat kohli carries teammate for dropping him\n",
            "\n",
            "\n",
            "원문 : man wife two friends odisha village thrashed molested mob armed sticks knives stopping beating cattle per reports man also took videos clicked pictures distressed animals called police control room senior officials however reportedly arrive \n",
            "실제 요약 : man wife assaulted for stopping mob from beating cattle \n",
            "예측 요약 :  man thrashed for stealing tribal tribal woman at tribal village\n",
            "\n",
            "\n",
            "원문 : three terrorists ploughed van pedestrians stabbed nearby people knives killing eight injuring others last week london initially tried hire tonne truck police revealed however terrorists could get truck failed provide payment details police added \n",
            "실제 요약 : london bridge attackers had tried to hire tonne truck \n",
            "예측 요약 :  terrorists killed in shooting van van in us\n",
            "\n",
            "\n",
            "원문 : alia bhatt met accident stairs sets upcoming film kalank hurt foot per reports resting shots injury aggravated reports stated earlier alia reportedly injured right shoulder arm sets brahm stra \n",
            "실제 요약 : alia bhatt injures her foot on sets of kalank report \n",
            "예측 요약 :  alia bhatt to shoot in kalank reports\n",
            "\n",
            "\n",
            "원문 : deepika padukone rumoured boyfriend ranveer singh getting married november italy lake como according reports personalised invites reportedly go select guest list earlier reports claimed guests specifically told carry cell phones inside venue avoid pictures videos leaked social media \n",
            "실제 요약 : deepika ranveer to marry on november in italy report \n",
            "예측 요약 :  deepika ranveer to star in ranveer singh reports\n",
            "\n",
            "\n",
            "원문 : french court ordered mallika boyfriend evicted apartment paris non payment rent owner apartment said made single payment although couple lawyer said financial difficulty apartment owner dismissed argument claiming earned millions rental period \n",
            "실제 요약 : mallika boyfriend evicted from paris flat over unpaid rent \n",
            "예측 요약 :  german court fines for cr for jewellery ring\n",
            "\n",
            "\n",
            "원문 : fighter pilot killed aircraft indian air force crashed himachal pradesh district wednesday jet took pathankot punjab crashed around pm village around km dharamshala earlier june another pilot killed indian air force fighter jet crashed gujarat \n",
            "실제 요약 : pilot killed after iaf fighter jet crashes in himachal \n",
            "예측 요약 :  pilot killed as chopper crashes in odisha\n",
            "\n",
            "\n",
            "원문 : bengaluru highest paying city india average cost company lakh per annum insights report revealed pune delhi ncr second third list average lakh lakh respectively meanwhile pharma healthcare highest paying industry \n",
            "실제 요약 : bengaluru highest paying city in india pune second report \n",
            "예측 요약 :  bengaluru to get cr revenue in revenue\n",
            "\n",
            "\n",
            "원문 : television actor reddy gone nude upcoming short film targeted international audience made agree scene said best known tv serials like pyaar tune kya kiya featuring reality television show \n",
            "실제 요약 : tv actor reddy goes nude for short film \n",
            "예측 요약 :  tv actress to be part of tv show\n",
            "\n",
            "\n",
            "원문 : pm narendra modi monday urged indian scientists use languages promote understanding love science youths added language barrier task pm modi addressing event commemorate scientist nath bose th birth anniversary \n",
            "실제 요약 : use local languages to communicate science pm to scientists \n",
            "예측 요약 :  pm modi launches word of word in the language\n",
            "\n",
            "\n",
            "원문 : indian hockey team defeated hosts new zealand reach final four nations tournament saturday india ranked sixth world saw goals harmanpreet singh dilpreet singh singh india face third ranked team world belgium earlier handed india loss tournament \n",
            "실제 요약 : india beat hosts nz to reach four nations tournament final \n",
            "예측 요약 :  india beat india to win asian championship\n",
            "\n",
            "\n",
            "원문 : independent senator island state australia announced resignation tuesday issue dual citizenship became eighth mp resign issue said recently learned british nationality per australia constitution dual citizens allowed run federal office \n",
            "실제 요약 : australian mp resigns amid dual citizenship crisis \n",
            "예측 요약 :  france to replace mps as members of parliament\n",
            "\n",
            "\n",
            "원문 : fugitive businessman vijay mallya whose extradition india ordered uk court monday days appeal order would forwarded uk home secretary decide extradition earlier mallya challenged extradition grounds human rights conditions indian jails added case politically motivated \n",
            "실제 요약 : vijay mallya has days to appeal against extradition order \n",
            "예측 요약 :  mallya to be probed mallya to mallya in uk\n",
            "\n",
            "\n"
          ]
        }
      ]
    },
    {
      "cell_type": "markdown",
      "source": [
        "# Step 5. Summa을 이용해서 추출적 요약해보기\n",
        "\n",
        "- 추출적 요약은 추상적 요약보다는 난이도가 낮다. 왜냐하면 기존 문장에서 문장을 꺼내오는 것이므로 잘못된 요약이 나올 가능성이 낮다."
      ],
      "metadata": {
        "id": "JUsEBTmYcoRv"
      }
    },
    {
      "cell_type": "code",
      "source": [
        "!pip install summa"
      ],
      "metadata": {
        "colab": {
          "base_uri": "https://localhost:8080/"
        },
        "id": "2u_5wX4Zc0x6",
        "outputId": "f586594f-19e6-48f4-d2f5-7dcb554c12e7"
      },
      "execution_count": 4,
      "outputs": [
        {
          "output_type": "stream",
          "name": "stdout",
          "text": [
            "Looking in indexes: https://pypi.org/simple, https://us-python.pkg.dev/colab-wheels/public/simple/\n",
            "Collecting summa\n",
            "  Downloading summa-1.2.0.tar.gz (54 kB)\n",
            "\u001b[K     |████████████████████████████████| 54 kB 2.5 MB/s \n",
            "\u001b[?25hRequirement already satisfied: scipy>=0.19 in /usr/local/lib/python3.7/dist-packages (from summa) (1.7.3)\n",
            "Requirement already satisfied: numpy<1.23.0,>=1.16.5 in /usr/local/lib/python3.7/dist-packages (from scipy>=0.19->summa) (1.21.6)\n",
            "Building wheels for collected packages: summa\n",
            "  Building wheel for summa (setup.py) ... \u001b[?25l\u001b[?25hdone\n",
            "  Created wheel for summa: filename=summa-1.2.0-py3-none-any.whl size=54412 sha256=0c4d0e619e6715b9ea235cf5c70be952e81e4d4fcef804df88ba7a87626ebf99\n",
            "  Stored in directory: /root/.cache/pip/wheels/29/64/ac/7b443477588d365ef37ada30d456bdf5f07dc5be9f6324cb6e\n",
            "Successfully built summa\n",
            "Installing collected packages: summa\n",
            "Successfully installed summa-1.2.0\n"
          ]
        }
      ]
    },
    {
      "cell_type": "code",
      "source": [
        "import requests\n",
        "from summa.summarizer import summarize"
      ],
      "metadata": {
        "id": "1QRj1SCPeBjl"
      },
      "execution_count": null,
      "outputs": []
    },
    {
      "cell_type": "code",
      "source": [
        "# 데이터 불러오기\n",
        "urllib.request.urlretrieve(\"https://raw.githubusercontent.com/sunnysai12345/News_Summary/master/news_summary_more.csv\", filename=\"news_summary_more.csv\")\n",
        "data = pd.read_csv('news_summary_more.csv', encoding='iso-8859-1')\n",
        "data.sample(10)"
      ],
      "metadata": {
        "colab": {
          "base_uri": "https://localhost:8080/",
          "height": 363
        },
        "id": "rZ_mPu6hdJkK",
        "outputId": "04fecdc6-f057-44ba-8c47-d96367635322"
      },
      "execution_count": null,
      "outputs": [
        {
          "output_type": "execute_result",
          "data": {
            "text/plain": [
              "                                               headlines  \\\n",
              "74310  UAE envoy calls Saudi 'f***in coo coo' in leak...   \n",
              "22793  Elon Musk-backed startup's AI beats humans at ...   \n",
              "50507  Had found Delhi more conservative than Kabul: ...   \n",
              "98190  Baahubali 2 trailer leak due to Facebook glitc...   \n",
              "24612  Junior doctors of 5 MP medical colleges collec...   \n",
              "18946  Samsung plans to stop TV production in India: ...   \n",
              "16942  Jenifer Lewis wears Nike at Emmys in support o...   \n",
              "58304  World's largest propeller plane lands at UK ai...   \n",
              "72450  Statue depicts Telangana IAS officer as mother...   \n",
              "96349  Sehwag awards Smith 'Tubelight' in #ViruGharel...   \n",
              "\n",
              "                                                    text  \n",
              "74310  UAE's envoy to the US Yousef Otaiba has report...  \n",
              "22793  Elon Musk-backed startup OpenAI's bot team Ope...  \n",
              "50507  Ex-Afghanistan President Hamid Karzai has said...  \n",
              "98190  'Baahubali 2' director SS Rajamouli said that ...  \n",
              "24612  Junior doctors at five medical colleges in Mad...  \n",
              "18946  South Korean electronics giant Samsung is repo...  \n",
              "16942  Jenifer Lewis wore a Nike sweater with the bra...  \n",
              "58304  The world's largest propeller plane, Antonov A...  \n",
              "72450  A statue depicting Urban collector of Telangan...  \n",
              "96349  Virender Sehwag announced #ViruGhareluAwards o...  "
            ],
            "text/html": [
              "\n",
              "  <div id=\"df-121728e4-27f5-477d-a729-507676a550cd\">\n",
              "    <div class=\"colab-df-container\">\n",
              "      <div>\n",
              "<style scoped>\n",
              "    .dataframe tbody tr th:only-of-type {\n",
              "        vertical-align: middle;\n",
              "    }\n",
              "\n",
              "    .dataframe tbody tr th {\n",
              "        vertical-align: top;\n",
              "    }\n",
              "\n",
              "    .dataframe thead th {\n",
              "        text-align: right;\n",
              "    }\n",
              "</style>\n",
              "<table border=\"1\" class=\"dataframe\">\n",
              "  <thead>\n",
              "    <tr style=\"text-align: right;\">\n",
              "      <th></th>\n",
              "      <th>headlines</th>\n",
              "      <th>text</th>\n",
              "    </tr>\n",
              "  </thead>\n",
              "  <tbody>\n",
              "    <tr>\n",
              "      <th>74310</th>\n",
              "      <td>UAE envoy calls Saudi 'f***in coo coo' in leak...</td>\n",
              "      <td>UAE's envoy to the US Yousef Otaiba has report...</td>\n",
              "    </tr>\n",
              "    <tr>\n",
              "      <th>22793</th>\n",
              "      <td>Elon Musk-backed startup's AI beats humans at ...</td>\n",
              "      <td>Elon Musk-backed startup OpenAI's bot team Ope...</td>\n",
              "    </tr>\n",
              "    <tr>\n",
              "      <th>50507</th>\n",
              "      <td>Had found Delhi more conservative than Kabul: ...</td>\n",
              "      <td>Ex-Afghanistan President Hamid Karzai has said...</td>\n",
              "    </tr>\n",
              "    <tr>\n",
              "      <th>98190</th>\n",
              "      <td>Baahubali 2 trailer leak due to Facebook glitc...</td>\n",
              "      <td>'Baahubali 2' director SS Rajamouli said that ...</td>\n",
              "    </tr>\n",
              "    <tr>\n",
              "      <th>24612</th>\n",
              "      <td>Junior doctors of 5 MP medical colleges collec...</td>\n",
              "      <td>Junior doctors at five medical colleges in Mad...</td>\n",
              "    </tr>\n",
              "    <tr>\n",
              "      <th>18946</th>\n",
              "      <td>Samsung plans to stop TV production in India: ...</td>\n",
              "      <td>South Korean electronics giant Samsung is repo...</td>\n",
              "    </tr>\n",
              "    <tr>\n",
              "      <th>16942</th>\n",
              "      <td>Jenifer Lewis wears Nike at Emmys in support o...</td>\n",
              "      <td>Jenifer Lewis wore a Nike sweater with the bra...</td>\n",
              "    </tr>\n",
              "    <tr>\n",
              "      <th>58304</th>\n",
              "      <td>World's largest propeller plane lands at UK ai...</td>\n",
              "      <td>The world's largest propeller plane, Antonov A...</td>\n",
              "    </tr>\n",
              "    <tr>\n",
              "      <th>72450</th>\n",
              "      <td>Statue depicts Telangana IAS officer as mother...</td>\n",
              "      <td>A statue depicting Urban collector of Telangan...</td>\n",
              "    </tr>\n",
              "    <tr>\n",
              "      <th>96349</th>\n",
              "      <td>Sehwag awards Smith 'Tubelight' in #ViruGharel...</td>\n",
              "      <td>Virender Sehwag announced #ViruGhareluAwards o...</td>\n",
              "    </tr>\n",
              "  </tbody>\n",
              "</table>\n",
              "</div>\n",
              "      <button class=\"colab-df-convert\" onclick=\"convertToInteractive('df-121728e4-27f5-477d-a729-507676a550cd')\"\n",
              "              title=\"Convert this dataframe to an interactive table.\"\n",
              "              style=\"display:none;\">\n",
              "        \n",
              "  <svg xmlns=\"http://www.w3.org/2000/svg\" height=\"24px\"viewBox=\"0 0 24 24\"\n",
              "       width=\"24px\">\n",
              "    <path d=\"M0 0h24v24H0V0z\" fill=\"none\"/>\n",
              "    <path d=\"M18.56 5.44l.94 2.06.94-2.06 2.06-.94-2.06-.94-.94-2.06-.94 2.06-2.06.94zm-11 1L8.5 8.5l.94-2.06 2.06-.94-2.06-.94L8.5 2.5l-.94 2.06-2.06.94zm10 10l.94 2.06.94-2.06 2.06-.94-2.06-.94-.94-2.06-.94 2.06-2.06.94z\"/><path d=\"M17.41 7.96l-1.37-1.37c-.4-.4-.92-.59-1.43-.59-.52 0-1.04.2-1.43.59L10.3 9.45l-7.72 7.72c-.78.78-.78 2.05 0 2.83L4 21.41c.39.39.9.59 1.41.59.51 0 1.02-.2 1.41-.59l7.78-7.78 2.81-2.81c.8-.78.8-2.07 0-2.86zM5.41 20L4 18.59l7.72-7.72 1.47 1.35L5.41 20z\"/>\n",
              "  </svg>\n",
              "      </button>\n",
              "      \n",
              "  <style>\n",
              "    .colab-df-container {\n",
              "      display:flex;\n",
              "      flex-wrap:wrap;\n",
              "      gap: 12px;\n",
              "    }\n",
              "\n",
              "    .colab-df-convert {\n",
              "      background-color: #E8F0FE;\n",
              "      border: none;\n",
              "      border-radius: 50%;\n",
              "      cursor: pointer;\n",
              "      display: none;\n",
              "      fill: #1967D2;\n",
              "      height: 32px;\n",
              "      padding: 0 0 0 0;\n",
              "      width: 32px;\n",
              "    }\n",
              "\n",
              "    .colab-df-convert:hover {\n",
              "      background-color: #E2EBFA;\n",
              "      box-shadow: 0px 1px 2px rgba(60, 64, 67, 0.3), 0px 1px 3px 1px rgba(60, 64, 67, 0.15);\n",
              "      fill: #174EA6;\n",
              "    }\n",
              "\n",
              "    [theme=dark] .colab-df-convert {\n",
              "      background-color: #3B4455;\n",
              "      fill: #D2E3FC;\n",
              "    }\n",
              "\n",
              "    [theme=dark] .colab-df-convert:hover {\n",
              "      background-color: #434B5C;\n",
              "      box-shadow: 0px 1px 3px 1px rgba(0, 0, 0, 0.15);\n",
              "      filter: drop-shadow(0px 1px 2px rgba(0, 0, 0, 0.3));\n",
              "      fill: #FFFFFF;\n",
              "    }\n",
              "  </style>\n",
              "\n",
              "      <script>\n",
              "        const buttonEl =\n",
              "          document.querySelector('#df-121728e4-27f5-477d-a729-507676a550cd button.colab-df-convert');\n",
              "        buttonEl.style.display =\n",
              "          google.colab.kernel.accessAllowed ? 'block' : 'none';\n",
              "\n",
              "        async function convertToInteractive(key) {\n",
              "          const element = document.querySelector('#df-121728e4-27f5-477d-a729-507676a550cd');\n",
              "          const dataTable =\n",
              "            await google.colab.kernel.invokeFunction('convertToInteractive',\n",
              "                                                     [key], {});\n",
              "          if (!dataTable) return;\n",
              "\n",
              "          const docLinkHtml = 'Like what you see? Visit the ' +\n",
              "            '<a target=\"_blank\" href=https://colab.research.google.com/notebooks/data_table.ipynb>data table notebook</a>'\n",
              "            + ' to learn more about interactive tables.';\n",
              "          element.innerHTML = '';\n",
              "          dataTable['output_type'] = 'display_data';\n",
              "          await google.colab.output.renderOutput(dataTable, element);\n",
              "          const docLink = document.createElement('div');\n",
              "          docLink.innerHTML = docLinkHtml;\n",
              "          element.appendChild(docLink);\n",
              "        }\n",
              "      </script>\n",
              "    </div>\n",
              "  </div>\n",
              "  "
            ]
          },
          "metadata": {},
          "execution_count": 54
        }
      ]
    },
    {
      "cell_type": "markdown",
      "source": [
        "# summarize 사용하기\n",
        "\n",
        "text (str) : 요약할 테스트.\n",
        "\n",
        "ratio (float, optional) – 요약문에서 원본에서 선택되는 문장 비율. 0~1 사이값\n",
        "\n",
        "words (int or None, optional) – 출력에 포함할 단어 수.\n",
        "만약, ratio와 함께 두 파라미터가 모두 제공되는 경우 ratio는 무시한다.\n",
        "\n",
        "split (bool, optional) – True면 문장 list / False는 조인(join)된 문자열을 반환"
      ],
      "metadata": {
        "id": "PoBpUsgZeKgt"
      }
    },
    {
      "cell_type": "code",
      "source": [
        "for idx, (head, text) in enumerate(zip(data['headlines'], data['text'])):\n",
        "    if idx == 30:\n",
        "        break\n",
        "    print(\"원문 :\", text)\n",
        "    print(\"실제 요약 :\", head)\n",
        "    print(\"추출적 요약 :\", summarize(text, ratio=0.5))\n",
        "    print(\"\\n\")"
      ],
      "metadata": {
        "colab": {
          "base_uri": "https://localhost:8080/"
        },
        "id": "SnGjZRCXdNQD",
        "outputId": "8a560489-dfb7-4d28-b35d-dabb70276c19"
      },
      "execution_count": null,
      "outputs": [
        {
          "output_type": "stream",
          "name": "stdout",
          "text": [
            "원문 : Saurav Kant, an alumnus of upGrad and IIIT-B's PG Program in Machine learning and Artificial Intelligence, was a Sr Systems Engineer at Infosys with almost 5 years of work experience. The program and upGrad's 360-degree career support helped him transition to a Data Scientist at Tech Mahindra with 90% salary hike. upGrad's Online Power Learning has powered 3 lakh+ careers.\n",
            "실제 요약 : upGrad learner switches to career in ML & Al with 90% salary hike\n",
            "추출적 요약 : upGrad's Online Power Learning has powered 3 lakh+ careers.\n",
            "\n",
            "\n",
            "원문 : Kunal Shah's credit card bill payment platform, CRED, gave users a chance to win free food from Swiggy for one year. Pranav Kaushik, a Delhi techie, bagged this reward after spending 2000 CRED coins. Users get one CRED coin per rupee of bill paid, which can be used to avail rewards from brands like Ixigo, BookMyShow, UberEats, Cult.Fit and more.\n",
            "실제 요약 : Delhi techie wins free food from Swiggy for one year on CRED\n",
            "추출적 요약 : Users get one CRED coin per rupee of bill paid, which can be used to avail rewards from brands like Ixigo, BookMyShow, UberEats, Cult.Fit and more.\n",
            "\n",
            "\n",
            "원문 : New Zealand defeated India by 8 wickets in the fourth ODI at Hamilton on Thursday to win their first match of the five-match ODI series. India lost an international match under Rohit Sharma's captaincy after 12 consecutive victories dating back to March 2018. The match witnessed India getting all out for 92, their seventh lowest total in ODI cricket history.\n",
            "실제 요약 : New Zealand end Rohit Sharma-led India's 12-match winning streak\n",
            "추출적 요약 : The match witnessed India getting all out for 92, their seventh lowest total in ODI cricket history.\n",
            "\n",
            "\n",
            "원문 : With Aegon Life iTerm Insurance plan, customers can enjoy tax benefits on your premiums paid and save up to Ã¢ÂÂ¹46,800^ on taxes. The plan provides life cover up to the age of 100 years. Also, customers have options to insure against Critical Illnesses, Disability and Accidental Death Benefit Rider with a life cover up to the age of 80 years.\n",
            "실제 요약 : Aegon life iTerm insurance plan helps customers save tax\n",
            "추출적 요약 : Also, customers have options to insure against Critical Illnesses, Disability and Accidental Death Benefit Rider with a life cover up to the age of 80 years.\n",
            "\n",
            "\n",
            "원문 : Speaking about the sexual harassment allegations against Rajkumar Hirani, Sonam Kapoor said, \"I've known Hirani for many years...What if it's not true, the [#MeToo] movement will get derailed.\" \"In the #MeToo movement, I always believe a woman. But in this case, we need to reserve our judgment,\" she added. Hirani has been accused by an assistant who worked in 'Sanju'.\n",
            "실제 요약 : Have known Hirani for yrs, what if MeToo claims are not true: Sonam\n",
            "추출적 요약 : Speaking about the sexual harassment allegations against Rajkumar Hirani, Sonam Kapoor said, \"I've known Hirani for many years...What if it's not true, the [#MeToo] movement will get derailed.\" \"In the #MeToo movement, I always believe a woman.\n",
            "\n",
            "\n",
            "원문 : Pakistani singer Rahat Fateh Ali Khan has denied receiving any notice from the Enforcement Directorate over allegedly smuggling foreign currency out of India. \"It would have been better if the authorities would have served the notice first if any and then publicised this,\" reads a press release issued on behalf of Rahat. The statement further called the allegation \"bizarre\".\n",
            "실제 요약 : Rahat Fateh Ali Khan denies getting notice for smuggling currency\n",
            "추출적 요약 : Pakistani singer Rahat Fateh Ali Khan has denied receiving any notice from the Enforcement Directorate over allegedly smuggling foreign currency out of India.\n",
            "\n",
            "\n",
            "원문 : India recorded their lowest ODI total in New Zealand after getting all out for 92 runs in 30.5 overs in the fourth ODI at Hamilton on Thursday. Seven of India's batsmen were dismissed for single-digit scores, while their number ten batsman Yuzvendra Chahal top-scored with 18*(37). India's previous lowest ODI total in New Zealand was 108.\n",
            "실제 요약 : India get all out for 92, their lowest ODI total in New Zealand\n",
            "추출적 요약 : India's previous lowest ODI total in New Zealand was 108.\n",
            "\n",
            "\n",
            "원문 : Weeks after ex-CBI Director Alok Verma told the Department of Personnel and Training to consider him retired, the Home Ministry asked him to join work on the last day of his fixed tenure as Director on Thursday. The ministry directed him to immediately join as DG, Fire Services, the post he was transferred to after his removal as CBI chief.\n",
            "실제 요약 : Govt directs Alok Verma to join work 1 day before his retirement\n",
            "추출적 요약 : Weeks after ex-CBI Director Alok Verma told the Department of Personnel and Training to consider him retired, the Home Ministry asked him to join work on the last day of his fixed tenure as Director on Thursday.\n",
            "\n",
            "\n",
            "원문 : Andhra Pradesh CM N Chandrababu Naidu has said, \"When I met then US President Bill Clinton, I addressed him as Mr Clinton, not as 'sir'. (PM Narendra) Modi is my junior in politics...I addressed him as sir 10 times.\" \"I did this...to satisfy his ego in the hope that he will do justice to the state,\" he added.\n",
            "실제 요약 : Called PM Modi 'sir' 10 times to satisfy his ego: Andhra CM\n",
            "추출적 요약 : Andhra Pradesh CM N Chandrababu Naidu has said, \"When I met then US President Bill Clinton, I addressed him as Mr Clinton, not as 'sir'.\n",
            "\n",
            "\n",
            "원문 : Congress candidate Shafia Zubair won the Ramgarh Assembly seat in Rajasthan, by defeating BJP's Sukhwant Singh with a margin of 12,228 votes in the bypoll. With this victory, Congress has taken its total to 100 seats in the 200-member assembly. The election to the Ramgarh seat was delayed due to the death of sitting MLA and BSP candidate Laxman Singh.\n",
            "실제 요약 : Cong wins Ramgarh bypoll in Rajasthan, takes total to 100 seats\n",
            "추출적 요약 : Congress candidate Shafia Zubair won the Ramgarh Assembly seat in Rajasthan, by defeating BJP's Sukhwant Singh with a margin of 12,228 votes in the bypoll.\n",
            "\n",
            "\n",
            "원문 : Two minor cousins in Uttar Pradesh's Gorakhpur were allegedly repeatedly burnt with tongs and forced to eat human excreta by their family for being friends with two boys from the same school. The cousins revealed their ordeal to the police and Child Welfare Committee after being brought back to Gorakhpur from Nepal, where they had fled to escape the torture.\n",
            "실제 요약 : UP cousins fed human excreta for friendship with boys\n",
            "추출적 요약 : Two minor cousins in Uttar Pradesh's Gorakhpur were allegedly repeatedly burnt with tongs and forced to eat human excreta by their family for being friends with two boys from the same school.\n",
            "\n",
            "\n",
            "원문 : Isha Ghosh, an 81-year-old member of Bharat Scouts and Guides (BSG), has been imparting physical and mental training to schoolchildren in Jharkhand for several decades. Chaibasa-based Ghosh reportedly walks seven kilometres daily and spends eight hours conducting physical training, apart from climbing and yoga sessions. She says, \"One should do something for society till one's last breath.\"\n",
            "실제 요약 : 81-yr-old woman conducts physical training in J'khand schools\n",
            "추출적 요약 : Isha Ghosh, an 81-year-old member of Bharat Scouts and Guides (BSG), has been imparting physical and mental training to schoolchildren in Jharkhand for several decades.\n",
            "\n",
            "\n",
            "원문 : Urging saints and seers at the Kumbh Mela to quit smoking, Yoga guru Ramdev said, \"We follow Ram and Krishna who never smoked in their life then why should we?\" Making them take a pledge to quit tobacco, he collected chillum (clay pipe) from several sadhus. He said he will deposit the chillums for display at a museum he'll build.\n",
            "실제 요약 : Ram, Krishna didn't smoke, why should we: Ramdev to sadhus at Kumbh\n",
            "추출적 요약 : Urging saints and seers at the Kumbh Mela to quit smoking, Yoga guru Ramdev said, \"We follow Ram and Krishna who never smoked in their life then why should we?\" Making them take a pledge to quit tobacco, he collected chillum (clay pipe) from several sadhus.\n",
            "\n",
            "\n",
            "원문 : Former stripper and regional sales director of a pharmaceutical company, Sunrise Lee, gave a doctor a lap dance in a nightclub to persuade him to prescribe an addictive fentanyl spray in 2012, the company's sales representative told a US court. She said she saw Lee \"sitting on [doctor's] lap, kind of bouncing around.\" Lee has been accused of bribing doctors.\n",
            "실제 요약 : Pharma exec gave doctor a lap dance to sell medicine in US: Witness\n",
            "추출적 요약 : Former stripper and regional sales director of a pharmaceutical company, Sunrise Lee, gave a doctor a lap dance in a nightclub to persuade him to prescribe an addictive fentanyl spray in 2012, the company's sales representative told a US court.\n",
            "\n",
            "\n",
            "원문 : Reliance Industries' Chairman Mukesh Ambani's daughter Isha Ambani, who got married last month, said she only cried at her 'bidaai' because she felt peer pressure as everyone was crying, especially her parents. \"I was emotional too but everyone around me would cry all the time,\" she added. \"It was a very emotional affair for everyone in my family,\" said Isha.\n",
            "실제 요약 :  I only cried at my 'bidaai' as I felt peer pressure: Isha Ambani\n",
            "추출적 요약 : \"It was a very emotional affair for everyone in my family,\" said Isha.\n",
            "\n",
            "\n",
            "원문 : Louis Vuitton owner LVMH, which makes high-end beverages like MoÃÂ«t & Chandon champagne and Hennessy cognac, said it's stockpiling four months' worth of wine and spirits in UK in preparation for Brexit. \"We're ready for worst case scenario if there are difficulties with deliveries,\" the French luxury giant said. The UK is scheduled to leave the EU on March 29.\n",
            "실제 요약 : Louis Vuitton owner to stockpile 4 months of wine, spirits in UK\n",
            "추출적 요약 : Louis Vuitton owner LVMH, which makes high-end beverages like MoÃÂ«t & Chandon champagne and Hennessy cognac, said it's stockpiling four months' worth of wine and spirits in UK in preparation for Brexit.\n",
            "\n",
            "\n",
            "원문 : Filmmaker Karan Johar and actress Tabu turned showstoppers for Gaurav Gupta on the opening night of LakmÃÂ© Fashion Week Summer/ Resort 2019. While Johar wore a red sequinned jacket with black pants, Tabu walked the ramp in a grey embellished gown. The fashion show, which began on January 29, will continue till February 3.\n",
            "실제 요약 : Karan Johar, Tabu turn showstoppers on opening night of LFW\n",
            "추출적 요약 : Filmmaker Karan Johar and actress Tabu turned showstoppers for Gaurav Gupta on the opening night of LakmÃÂ© Fashion Week Summer/ Resort 2019.\n",
            "\n",
            "\n",
            "원문 : In a jibe at Congress President Rahul Gandhi, PM Narendra Modi on Wednesday said those on \"bail will have to go to jail.\" PM Modi added, \"He is out on bail and his associates too are facing charges...I know they will be convicted one day.\" The PM claimed he'd waged a war on corruption because he's from a common household. \n",
            "실제 요약 : Those on bail will go to jail: PM Modi takes jibe at Rahul\n",
            "추출적 요약 : \n",
            "\n",
            "\n",
            "원문 : Days after he threatened to step down from his post if Congress MLAs continue \"crossing the line,\" Karnataka Chief Minister HD Kumaraswamy accused them of taking potshots and asked, \"How many more days can I tolerate such stuff?\" Kumaraswamy, who made the statements after a Congress MLA demanded that Siddaramaiah be made CM again, said, \"Power is ephemeral.\"\n",
            "실제 요약 : How long can I tolerate Congress leaders' potshots: K'taka CM\n",
            "추출적 요약 : \n",
            "\n",
            "\n",
            "원문 : Union Minister Dharmendra Pradhan on Wednesday claimed the illegal mining mafia in Odisha operates under the control of CM Naveen Patnaik and state Congress chief Niranjan Patnaik. He added, \"The time has come for the people of Odisha to put a full stop to their activities...The time has come for us to ask for an explanation from this corrupt government.\"\n",
            "실제 요약 : Odisha CM Patnaik controls mining mafia: Union Minister\n",
            "추출적 요약 : Union Minister Dharmendra Pradhan on Wednesday claimed the illegal mining mafia in Odisha operates under the control of CM Naveen Patnaik and state Congress chief Niranjan Patnaik.\n",
            "\n",
            "\n",
            "원문 : Claiming there is a dearth of ideas among opposition parties, Prime Minister Narendra Modi on Wednesday said, \"The opposition talks only about Modi the whole day, I suspect they even dream about me.\" PM Modi, who was addressing the New India Youth Conclave inÃ¢ÂÂ Surat, added that the opposition parties have only one agenda which is \"Modi\". \n",
            "실제 요약 : I think the opposition even dreams about me: PM Modi\n",
            "추출적 요약 : \n",
            "\n",
            "\n",
            "원문 : The Indian Space Research Organisation on Wednesday unveiled Human Space Flight Centre in Bengaluru for its Ã¢ÂÂ¹10,000-crore manned space mission 'Gaganyaan' scheduled for 2021. ISRO said the centre will be responsible for development of engineering systems for crew survival in space and crew selection and training. It'll also pursue activities for sustained human space flight missions, ISRO added.\n",
            "실제 요약 : ISRO unveils Bengaluru centre for manned space mission \n",
            "추출적 요약 : It'll also pursue activities for sustained human space flight missions, ISRO added.\n",
            "\n",
            "\n",
            "원문 : At least 12 people have been killed and 170 others have been injured in Saudi Arabia this week due to flooding from heavy rain. The emergency services rescued 271 people from the flooded areas, more than half of them in Tabuk. Heavy rains hit mainly western and northwestern parts of Saudi Arabia, near its border with Jordan.\n",
            "실제 요약 : 12 killed, 170 injured in Saudi Arabia floods\n",
            "추출적 요약 : At least 12 people have been killed and 170 others have been injured in Saudi Arabia this week due to flooding from heavy rain.\n",
            "\n",
            "\n",
            "원문 : Reliance Industries' Chairman Mukesh Ambani's daughter Isha Ambani has featured on the cover of the February edition of Vogue India. She's dressed in a white shirt dress and black ruffled skirt by Australian designer Toni Maticevski, while accessorising her look with a Misho ring. In the cover story on her, Isha has spoken about her work and life after marriage.\n",
            " \n",
            "실제 요약 : Isha Ambani features on February cover of Vogue magazine\n",
            "추출적 요약 : Reliance Industries' Chairman Mukesh Ambani's daughter Isha Ambani has featured on the cover of the February edition of Vogue India.\n",
            "\n",
            "\n",
            "원문 : Indian Oil Corporation on Wednesday said it's looking for an annual deal to buy US crude as it seeks to broaden oil purchasing options. This comes amid uncertainties over Iran imports. The US had in November granted a six-month waiver to India from sanctions against Iran and restricted the country's monthly intake of Iranian oil to 3,00,000 barrels per day.\n",
            "\n",
            "\n",
            "실제 요약 : Indian Oil looking for annual deal to buy crude from US\n",
            "추출적 요약 : The US had in November granted a six-month waiver to India from sanctions against Iran and restricted the country's monthly intake of Iranian oil to 3,00,000 barrels per day.\n",
            "\n",
            "\n",
            "원문 : Former Windies fast bowler Curtly Ambrose dismissed seven Australian batsmen within a span of 32 balls giving away just one run, in a Test match on January 30, 1993. Ambrose's spell helped his team bowl out Australia for 119 in the first innings, after being 85 for 2 at one point. Ambrose ended with first-innings figures of 18-9-25-7.\n",
            "실제 요약 : Pacer once took 7 wickets for just 1 run in 32 balls in a Test\n",
            "추출적 요약 : Ambrose ended with first-innings figures of 18-9-25-7.\n",
            "\n",
            "\n",
            "원문 : A London zoo is offering people to name a cockroach after their exes on Valentine's Day for ÃÂ£1.50 (nearly Ã¢ÂÂ¹140). \"For those that don't quite require revenge, there's another way to make you feel better about getting back at your ex,\" the zoo said in a statement. The names will appear on zoo's 'roach board' on February 14. \n",
            "실제 요약 : UK zoo offers people to name cockroach after their ex on Valentine's\n",
            "추출적 요약 : The names will appear on zoo's 'roach board' on February 14.\n",
            "\n",
            "\n",
            "원문 : Stand-in captain Rohit Sharma has become the 14th Indian cricketer to play 200 ODIs, achieving the feat after taking the field against New Zealand in fourth ODI at Hamilton on Thursday. The 31-year-old had made his ODI debut on June 23, 2007, against Ireland in Belfast. Rohit scored 7,799 runs in his first 199 ODIs at an average of 48.14.\n",
            "실제 요약 : Rohit Sharma becomes 14th Indian cricketer to play 200 ODIs\n",
            "추출적 요약 : Rohit scored 7,799 runs in his first 199 ODIs at an average of 48.14.\n",
            "\n",
            "\n",
            "원문 : Batsman Shubman Gill has become the 227th cricketer to represent India in ODI cricket, achieving the feat against New Zealand in the fourth ODI at Hamilton on Thursday. The 19-year-old received his maiden ODI cap from former captain MS Dhoni. Notably, Shubman was named Player of the Under-19 World Cup in New Zealand last year.\n",
            "실제 요약 : 19-year-old Shubman Gill becomes India's 227th ODI cricketer\n",
            "추출적 요약 : Notably, Shubman was named Player of the Under-19 World Cup in New Zealand last year.\n",
            "\n",
            "\n",
            "원문 : Investigators searching for a lost plane carrying Argentine forward Emiliano Sala found two seat cushions on French coast that \"likely\" belonged to the aircraft. The investigators said they'll now launch an underwater seabed search for aircraft wreckage. The Cardiff City footballer was travelling from France's Nantes to Wales' Cardiff when his plane disappeared over English Channel on January 21.\n",
            "실제 요약 : 2 seat cushions from 'missing plane carrying footballer' found\n",
            "추출적 요약 : Investigators searching for a lost plane carrying Argentine forward Emiliano Sala found two seat cushions on French coast that \"likely\" belonged to the aircraft.\n",
            "\n",
            "\n"
          ]
        }
      ]
    },
    {
      "cell_type": "markdown",
      "source": [
        "# 회고"
      ],
      "metadata": {
        "id": "lX7qGW4XKysW"
      }
    },
    {
      "cell_type": "markdown",
      "source": [
        "1. 이번 프로젝트에서 어려웠던 점\n",
        " \n",
        " (1) 추상적 요약에서 실제 원문의 내용까지 알아보기 힘들다는 느낌이 들었습니다. 전처리가 너무 과다하게 들어간 것이 아닐까? 라는 생각이 들었습니다.\n",
        "\n",
        " (2) \n",
        "\n",
        " (3) \n",
        " "
      ],
      "metadata": {
        "id": "ojmxzLRyK1cS"
      }
    },
    {
      "cell_type": "markdown",
      "source": [
        "2. 프로젝트를 진행하면서 알게된 부분 또는 아직 이해하지 못한 부분\n",
        "\n",
        "(1) NLP에서 사용하는 평가지표가 있다는 것을 알게되었습니다.\n",
        "\n",
        "- BLEU\n",
        "\n",
        "- ROUGE\n",
        "\n",
        "Recall-Oriented Understudy for Gisting Evaluation\n",
        "\n",
        "label(사람이 만든 요약문)과 summary(모델이 생성한 inference)을 비교해서 성능 계산\n",
        "\n",
        "ROUGE-N, ROUGE-L, ROUGE-W, ROUGE-S 등 다양한 지표가 있음\n",
        "\n",
        "\n",
        "\n"
      ],
      "metadata": {
        "id": "cMgNvnfQLhyy"
      }
    },
    {
      "cell_type": "markdown",
      "source": [
        "참조\n",
        "\n",
        "(1) [Rouge score](https://velog.io/@crosstar1228/NLPRouge-score-Summarization%EC%9D%98-%ED%8F%89%EA%B0%80-Metric#4-rouge-score%EC%9D%98-%EB%8B%A8%EC%A0%90)\n",
        "\n",
        "(2) [BLEU Score(Bilingual Evaluation Understudy Score)](https://wikidocs.net/31695)\n"
      ],
      "metadata": {
        "id": "xWtviva-f2gG"
      }
    }
  ]
}