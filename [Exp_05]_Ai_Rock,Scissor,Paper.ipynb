{
  "cells": [
    {
      "cell_type": "markdown",
      "metadata": {
        "id": "view-in-github",
        "colab_type": "text"
      },
      "source": [
        "<a href=\"https://colab.research.google.com/github/sgr1118/EX/blob/main/%5BExp_05%5D_Ai_Rock%2CScissor%2CPaper.ipynb\" target=\"_parent\"><img src=\"https://colab.research.google.com/assets/colab-badge.svg\" alt=\"Open In Colab\"/></a>"
      ]
    },
    {
      "cell_type": "markdown",
      "metadata": {
        "id": "9vtXuVUvnpNo"
      },
      "source": [
        "# 5-7. 미니 프로젝트 : 가위바위보 분류기를 만들자"
      ]
    },
    {
      "cell_type": "code",
      "execution_count": null,
      "metadata": {
        "colab": {
          "base_uri": "https://localhost:8080/"
        },
        "id": "FY4Eszf8ih0X",
        "outputId": "cc64353e-08eb-4eb6-bd54-8286e342cb7c"
      },
      "outputs": [
        {
          "name": "stdout",
          "output_type": "stream",
          "text": [
            "Mounted at /content/drive\n"
          ]
        }
      ],
      "source": [
        "#  구글 드라이브 마운트\n",
        "from google.colab import drive\n",
        "drive.mount('/content/drive')"
      ]
    },
    {
      "cell_type": "code",
      "execution_count": null,
      "metadata": {
        "colab": {
          "base_uri": "https://localhost:8080/"
        },
        "id": "yhyOzhibhfZd",
        "outputId": "db43d959-6a25-4812-da14-ccf8da41816e"
      },
      "outputs": [
        {
          "output_type": "stream",
          "name": "stdout",
          "text": [
            "/content/drive/MyDrive/Aiffel/EX/image\n"
          ]
        }
      ],
      "source": [
        "# 데이터 파일 알집 압축해제\n",
        "%cd /content/drive/MyDrive/Aiffel/EX/image/\n",
        "!unzip -qq \"/content/drive/MyDrive/Aiffel/EX/image/data.zip\""
      ]
    },
    {
      "cell_type": "code",
      "execution_count": null,
      "metadata": {
        "id": "UzHWSDQYnoqw"
      },
      "outputs": [],
      "source": [
        "# 모듈 불러오기\n",
        "from PIL import Image\n",
        "import matplotlib.pyplot as plt\n",
        "import glob\n",
        "import os\n",
        "import tensorflow as tf\n",
        "from tensorflow import keras"
      ]
    },
    {
      "cell_type": "code",
      "execution_count": null,
      "metadata": {
        "colab": {
          "base_uri": "https://localhost:8080/"
        },
        "id": "V0VV4x7coEPb",
        "outputId": "6466d1eb-4b38-4251-af03-819e64010fbe"
      },
      "outputs": [
        {
          "output_type": "stream",
          "name": "stdout",
          "text": [
            "900  images to be resized.\n",
            "900  images resized.\n",
            "가위 이미지 resize 완료!\n",
            "900  images to be resized.\n",
            "900  images resized.\n",
            "바위 이미지 resize 완료!\n",
            "900  images to be resized.\n",
            "900  images resized.\n",
            "보 이미지 resize 완료!\n"
          ]
        }
      ],
      "source": [
        "# 1. 데이터 불러오기 + Resize\n",
        "def resize_images(img_path):\n",
        "\timages=glob.glob(img_path + \"/*.jpg\")  \n",
        "    \n",
        "\tprint(len(images), \" images to be resized.\")\n",
        "\n",
        "    # 파일마다 모두 28x28 사이즈로 바꾸어 저장합니다.\n",
        "\ttarget_size=(28,28)\n",
        "\tfor img in images:\n",
        "\t\told_img=Image.open(img)\n",
        "\t\tnew_img=old_img.resize(target_size,Image.ANTIALIAS)\n",
        "\t\tnew_img.save(img, \"JPEG\")\n",
        "    \n",
        "\tprint(len(images), \" images resized.\")\n",
        "\t\n",
        "# 가위 이미지가 저장된 디렉토리 아래의 모든 jpg 파일을 읽어들이기\n",
        "image_dir_path0 = \"/content/drive/MyDrive/Aiffel/EX/image/scissor\"\n",
        "resize_images(image_dir_path0)\n",
        "print(\"가위 이미지 resize 완료!\")\n",
        "\n",
        "image_dir_path1 = \"/content/drive/MyDrive/Aiffel/EX/image/rock\"\n",
        "resize_images(image_dir_path1)\n",
        "print(\"바위 이미지 resize 완료!\")\n",
        "\n",
        "image_dir_path2 = \"/content/drive/MyDrive/Aiffel/EX/image/paper\"\n",
        "resize_images(image_dir_path2)\n",
        "print(\"보 이미지 resize 완료!\")"
      ]
    },
    {
      "cell_type": "code",
      "execution_count": null,
      "metadata": {
        "colab": {
          "base_uri": "https://localhost:8080/"
        },
        "id": "5HpkiyLsrsGJ",
        "outputId": "995c49a9-449f-42d3-aa42-4f7e5395b068"
      },
      "outputs": [
        {
          "output_type": "stream",
          "name": "stdout",
          "text": [
            "학습데이터(x_train)의 이미지 개수는 2700 입니다.\n",
            "x_train shape: (2700, 28, 28, 3)\n",
            "y_train shape: (2700,)\n",
            "최소값: 0 최대값: 255\n",
            "최소값: 0.0 최대값: 1.0\n"
          ]
        }
      ],
      "source": [
        "import numpy as np\n",
        "\n",
        "def load_data(img_path, number_of_data=2700):  # 가위바위보 이미지 개수 총합에 주의하세요.\n",
        "    # 가위 : 0, 바위 : 1, 보 : 2\n",
        "    img_size=28\n",
        "    color=3\n",
        "    #이미지 데이터와 라벨(가위 : 0, 바위 : 1, 보 : 2) 데이터를 담을 행렬(matrix) 영역을 생성합니다.\n",
        "    imgs=np.zeros(number_of_data*img_size*img_size*color,dtype=np.int32).reshape(number_of_data,img_size,img_size,color)\n",
        "    labels=np.zeros(number_of_data,dtype=np.int32)\n",
        "\n",
        "    idx=0\n",
        "    for file in glob.iglob(img_path+'/scissor/*.jpg'):\n",
        "        img = np.array(Image.open(file),dtype=np.int32)\n",
        "        imgs[idx,:,:,:]=img    # 데이터 영역에 이미지 행렬을 복사\n",
        "        labels[idx]=0   # 가위 : 0\n",
        "        idx=idx+1\n",
        "\n",
        "    for file in glob.iglob(img_path+'/rock/*.jpg'):\n",
        "        img = np.array(Image.open(file),dtype=np.int32)\n",
        "        imgs[idx,:,:,:]=img    # 데이터 영역에 이미지 행렬을 복사\n",
        "        labels[idx]=1   # 바위 : 1\n",
        "        idx=idx+1  \n",
        "    \n",
        "    for file in glob.iglob(img_path+'/paper/*.jpg'):\n",
        "        img = np.array(Image.open(file),dtype=np.int32)\n",
        "        imgs[idx,:,:,:]=img    # 데이터 영역에 이미지 행렬을 복사\n",
        "        labels[idx]=2   # 보 : 2\n",
        "        idx=idx+1\n",
        "        \n",
        "    print(\"학습데이터(x_train)의 이미지 개수는\", idx,\"입니다.\")\n",
        "    return imgs, labels\n",
        "\n",
        "image_dir_path = '/content/drive/MyDrive/Aiffel/EX/image'\n",
        "\n",
        "(x_train, y_train)=load_data(image_dir_path)\n",
        "\n",
        "x_train_norm = x_train/255.0   # 입력은 0~1 사이의 값으로 정규화\n",
        "\n",
        "print(\"x_train shape: {}\".format(x_train.shape))\n",
        "print(\"y_train shape: {}\".format(y_train.shape))\n",
        "\n",
        "# train 데이터 정규화 확인\n",
        "print('최소값:',np.min(x_train), '최대값:',np.max(x_train))\n",
        "print('최소값:',np.min(x_train_norm), '최대값:',np.max(x_train_norm))"
      ]
    },
    {
      "cell_type": "code",
      "execution_count": null,
      "metadata": {
        "colab": {
          "base_uri": "https://localhost:8080/",
          "height": 283
        },
        "id": "kkE3xqgpCOwR",
        "outputId": "d08de945-8a2e-444e-9f73-0959f3d379e1"
      },
      "outputs": [
        {
          "output_type": "stream",
          "name": "stdout",
          "text": [
            "라벨:  2\n"
          ]
        },
        {
          "output_type": "display_data",
          "data": {
            "text/plain": [
              "<Figure size 432x288 with 1 Axes>"
            ],
            "image/png": "[encoded data removed]"
          },
          "metadata": {
            "needs_background": "light"
          }
        }
      ],
      "source": [
        "# 임의로 이미지 출력\n",
        "plt.imshow(x_train[2500])\n",
        "print('라벨: ', y_train[2500])"
      ]
    },
    {
      "cell_type": "code",
      "execution_count": null,
      "metadata": {
        "colab": {
          "base_uri": "https://localhost:8080/"
        },
        "id": "2rNmFqsfLHvT",
        "outputId": "1c99deff-3bdf-435b-9e6e-0cbaecfcc29d"
      },
      "outputs": [
        {
          "output_type": "stream",
          "name": "stdout",
          "text": [
            "200  images to be resized.\n",
            "200  images resized.\n",
            "가위 이미지 resize 완료!\n",
            "200  images to be resized.\n",
            "200  images resized.\n",
            "바위 이미지 resize 완료!\n",
            "200  images to be resized.\n",
            "200  images resized.\n",
            "보 이미지 resize 완료!\n"
          ]
        }
      ],
      "source": [
        "# 1. test 데이터 불러오기 + Resize\n",
        "def resize_images(img_path):\n",
        "\timages=glob.glob(img_path + \"/*.jpg\")  \n",
        "    \n",
        "\tprint(len(images), \" images to be resized.\")\n",
        "\n",
        "    # 파일마다 모두 28x28 사이즈로 바꾸어 저장합니다.\n",
        "\ttarget_size=(28,28)\n",
        "\tfor img in images:\n",
        "\t\told_img=Image.open(img)\n",
        "\t\tnew_img=old_img.resize(target_size,Image.ANTIALIAS)\n",
        "\t\tnew_img.save(img, \"JPEG\")\n",
        "    \n",
        "\tprint(len(images), \" images resized.\")\n",
        "\t\n",
        "# 가위 이미지가 저장된 디렉토리 아래의 모든 jpg 파일을 읽어들이기\n",
        "image_dir_path0_t = \"/content/drive/MyDrive/Aiffel/EX/image/scissor_t\"\n",
        "resize_images(image_dir_path0_t)\n",
        "print(\"가위 이미지 resize 완료!\")\n",
        "\n",
        "image_dir_path1_t = \"/content/drive/MyDrive/Aiffel/EX/image/rock_t\"\n",
        "resize_images(image_dir_path1_t)\n",
        "print(\"바위 이미지 resize 완료!\")\n",
        "\n",
        "image_dir_path2_t = \"/content/drive/MyDrive/Aiffel/EX/image/paper_t\"\n",
        "resize_images(image_dir_path2_t)\n",
        "print(\"보 이미지 resize 완료!\")"
      ]
    },
    {
      "cell_type": "code",
      "execution_count": null,
      "metadata": {
        "colab": {
          "base_uri": "https://localhost:8080/"
        },
        "id": "W4eGPzuuKDhs",
        "outputId": "fa8ade0e-1881-4394-e613-55f6f2050e16"
      },
      "outputs": [
        {
          "output_type": "stream",
          "name": "stdout",
          "text": [
            "테스트데이터(x_test)의 이미지 개수는 600 입니다.\n",
            "x_test shape: (600, 28, 28, 3)\n",
            "y_test shape: (600,)\n",
            "최소값: 0 최대값: 255\n",
            "최소값: 0.0 최대값: 1.0\n"
          ]
        }
      ],
      "source": [
        "# test 데이터셋 준비하기\n",
        "import numpy as np\n",
        "\n",
        "def load_data(img_path, number_of_data=600):  # 가위바위보 이미지 개수 총합에 주의하세요.\n",
        "    # 가위 : 0, 바위 : 1, 보 : 2\n",
        "    img_size=28\n",
        "    color=3\n",
        "    #이미지 데이터와 라벨(가위 : 0, 바위 : 1, 보 : 2) 데이터를 담을 행렬(matrix) 영역을 생성합니다.\n",
        "    imgs=np.zeros(number_of_data*img_size*img_size*color,dtype=np.int32).reshape(number_of_data,img_size,img_size,color)\n",
        "    labels=np.zeros(number_of_data,dtype=np.int32)\n",
        "\n",
        "    idx=0\n",
        "    for file in glob.iglob(img_path+'/scissor_t/*.jpg'):\n",
        "        img = np.array(Image.open(file),dtype=np.int32)\n",
        "        imgs[idx,:,:,:]=img    # 데이터 영역에 이미지 행렬을 복사\n",
        "        labels[idx]=0   # 가위 : 0\n",
        "        idx=idx+1\n",
        "\n",
        "    for file in glob.iglob(img_path+'/rock_t/*.jpg'):\n",
        "        img = np.array(Image.open(file),dtype=np.int32)\n",
        "        imgs[idx,:,:,:]=img    # 데이터 영역에 이미지 행렬을 복사\n",
        "        labels[idx]=1   # 바위 : 1\n",
        "        idx=idx+1  \n",
        "    \n",
        "    for file in glob.iglob(img_path+'/paper_t/*.jpg'):\n",
        "        img = np.array(Image.open(file),dtype=np.int32)\n",
        "        imgs[idx,:,:,:]=img    # 데이터 영역에 이미지 행렬을 복사\n",
        "        labels[idx]=2   # 보 : 2\n",
        "        idx=idx+1\n",
        "        \n",
        "    print(\"테스트데이터(x_test)의 이미지 개수는\", idx,\"입니다.\")\n",
        "    return imgs, labels\n",
        "\n",
        "image_dir_path = '/content/drive/MyDrive/Aiffel/EX/image'\n",
        "\n",
        "(x_test, y_test)=load_data(image_dir_path)\n",
        "\n",
        "x_test_norm = x_test/255.0   # 입력은 0~1 사이의 값으로 정규화\n",
        "\n",
        "print(\"x_test shape: {}\".format(x_test.shape))\n",
        "print(\"y_test shape: {}\".format(y_test.shape))\n",
        "\n",
        "# train 데이터 정규화 확인\n",
        "print('최소값:',np.min(x_test), '최대값:',np.max(x_test))\n",
        "print('최소값:',np.min(x_test_norm), '최대값:',np.max(x_test_norm))"
      ]
    },
    {
      "cell_type": "code",
      "execution_count": null,
      "metadata": {
        "colab": {
          "base_uri": "https://localhost:8080/"
        },
        "id": "iFoxkgD3RpvG",
        "outputId": "60343574-7ee0-4d8b-a1c7-ce52c04e84f1"
      },
      "outputs": [
        {
          "output_type": "stream",
          "name": "stdout",
          "text": [
            "Model: \"sequential_2\"\n",
            "_________________________________________________________________\n",
            " Layer (type)                Output Shape              Param #   \n",
            "=================================================================\n",
            " conv2d_4 (Conv2D)           (None, 28, 28, 32)        896       \n",
            "                                                                 \n",
            " max_pooling2d_4 (MaxPooling  (None, 14, 14, 32)       0         \n",
            " 2D)                                                             \n",
            "                                                                 \n",
            " conv2d_5 (Conv2D)           (None, 12, 12, 64)        18496     \n",
            "                                                                 \n",
            " max_pooling2d_5 (MaxPooling  (None, 6, 6, 64)         0         \n",
            " 2D)                                                             \n",
            "                                                                 \n",
            " flatten_2 (Flatten)         (None, 2304)              0         \n",
            "                                                                 \n",
            " dropout_2 (Dropout)         (None, 2304)              0         \n",
            "                                                                 \n",
            " dense_4 (Dense)             (None, 50)                115250    \n",
            "                                                                 \n",
            " dense_5 (Dense)             (None, 3)                 153       \n",
            "                                                                 \n",
            "=================================================================\n",
            "Total params: 134,795\n",
            "Trainable params: 134,795\n",
            "Non-trainable params: 0\n",
            "_________________________________________________________________\n",
            "Epoch 1/10\n",
            "85/85 [==============================] - 1s 8ms/step - loss: 1.0675 - accuracy: 0.4119\n",
            "Epoch 2/10\n",
            "85/85 [==============================] - 1s 9ms/step - loss: 0.8648 - accuracy: 0.6081\n",
            "Epoch 3/10\n",
            "85/85 [==============================] - 1s 9ms/step - loss: 0.6419 - accuracy: 0.7293\n",
            "Epoch 4/10\n",
            "85/85 [==============================] - 1s 9ms/step - loss: 0.5085 - accuracy: 0.8041\n",
            "Epoch 5/10\n",
            "85/85 [==============================] - 1s 9ms/step - loss: 0.4237 - accuracy: 0.8411\n",
            "Epoch 6/10\n",
            "85/85 [==============================] - 1s 8ms/step - loss: 0.3641 - accuracy: 0.8578\n",
            "Epoch 7/10\n",
            "85/85 [==============================] - 1s 9ms/step - loss: 0.2893 - accuracy: 0.8904\n",
            "Epoch 8/10\n",
            "85/85 [==============================] - 1s 9ms/step - loss: 0.2588 - accuracy: 0.9015\n",
            "Epoch 9/10\n",
            "85/85 [==============================] - 1s 9ms/step - loss: 0.2134 - accuracy: 0.9267\n",
            "Epoch 10/10\n",
            "85/85 [==============================] - 1s 9ms/step - loss: 0.1978 - accuracy: 0.9270\n",
            "test_loss: 1.1447 \n",
            "test_accuracy: 0.7133\n"
          ]
        }
      ],
      "source": [
        "# 딥러닝 네트워크 설계\n",
        "import tensorflow as tf\n",
        "from tensorflow import keras\n",
        "import numpy as np\n",
        "from tensorflow.keras.layers import Dropout # Dropout 추가\n",
        "\n",
        "n_channel_1=32\n",
        "n_channel_2=64\n",
        "n_dense=50\n",
        "n_train_epoch=10\n",
        "\n",
        "model=keras.models.Sequential()\n",
        "model.add(keras.layers.Conv2D(n_channel_1, (3,3), activation='relu', padding='same',input_shape=(28,28,3)))\n",
        "model.add(keras.layers.MaxPool2D(2,2))\n",
        "model.add(keras.layers.Conv2D(n_channel_2, (3,3), activation='relu'))\n",
        "model.add(keras.layers.MaxPooling2D((2,2)))\n",
        "model.add(keras.layers.Flatten())\n",
        "model.add(keras.layers.Dropout(0.5))\n",
        "model.add(keras.layers.Dense(n_dense, activation='relu'))\n",
        "model.add(keras.layers.Dense(3, activation='softmax'))\n",
        "\n",
        "model.summary()\n",
        "\n",
        "# x_train을 딥러닝 네트워크로 학습\n",
        "model.compile(optimizer='adam',\n",
        "             loss='sparse_categorical_crossentropy',\n",
        "             metrics=['accuracy'])\n",
        "\n",
        "cnn=model.fit(x_train_norm, y_train, epochs=n_train_epoch)\n",
        "\n",
        "# test 데이터를 활용하여 시험\n",
        "test_loss, test_accuracy = model.evaluate(x_test_norm, y_test, batch_size = 32, verbose = 0)\n",
        "print(\"test_loss: {:.4f} \".format(test_loss))\n",
        "print(\"test_accuracy: {:.4f}\".format(test_accuracy))"
      ]
    },
    {
      "cell_type": "markdown",
      "source": [
        "# model.summary() 결과 해석\n",
        "\n",
        "- 합성곱층(Cconv2D)의 출력 크기는 배치 차원을 제외하고 28*28*32이다. 합성곱 커널은 32개를 사용했으므로 마지막 차원이 32입니다. 모델 파라미터의 개수는 전체 가중치의 크기와 커널마다 하나씩 절편을 추가하면 3*3*3*32+32 = 896개이다\n",
        "\n",
        "- 풀링층(MaxPooling2D)과 특성 맵을 완전 연결층에 펼쳐서 주입하기 위해 추가된 Flatten 층에는 가중치가 없습니다.\n",
        "\n",
        "- 첫 번째 완전 연결층(Dense) 가중치 개수는 115250개에 비하여 합성곱층 가중치 개수가 적다. 그래서 합성곱층을 여러개 추가해도 학습할 파라미터의 개수가 크게 증가하지 않기 때문에 계산 효율성이 좋다.\n",
        "\n"
      ],
      "metadata": {
        "id": "PFpUNRjB31-H"
      }
    },
    {
      "cell_type": "code",
      "execution_count": null,
      "metadata": {
        "id": "H1n0S00Az0tR"
      },
      "outputs": [],
      "source": [
        "# train : 2100, test: 600 결과\n",
        "test_loss: 3.4944941997528076 \n",
        "test_accuracy: 0.5483333468437195\n",
        "\n",
        "# train : 2400, test: 600 결과\n",
        "test_loss: 1.300899624824524 \n",
        "test_accuracy: 0.6800000071525574\n",
        "\n",
        "# train : 2700, test : 600 결과\n",
        "# Dropout 미적용\n",
        "Epoch 10/10 loss: 0.0408 - accuracy: 0.9926\n",
        "test_loss: 2.8948752880096436 \n",
        "test_accuracy: 0.6483333110809326\n",
        "\n",
        "#Dropout 적용\n",
        "Epoch 10/10 loss: 0.1978 - accuracy: 0.9270\n",
        "test_loss: 1.1447 \n",
        "test_accuracy: 0.7133\n",
        "\n",
        "# # train : 3000, test : 600 결과\n",
        "test_loss: 1.4020864963531494 \n",
        "test_accuracy: 0.6466666460037231\n",
        "\n",
        "# train 데이터가 2700을 초과하면서부터 다시 test_accuracy가 감소하여 최종 결과는 train : 2700개, test : 600개로하였다.\n",
        "# 데이터를 계속 추가하는 것도 방법으로 정확도를 더 올릴수있겠지만 CNN의 파라미터와 원리를 이해하는 것이 중요하다고 생각하였다.\n",
        "# Dropout을 사용한 결과가 정확도가 더 높게 나온것으로보아 Dropout을 분석에 사용하는 것이 좋다고 생각합니다."
      ]
    },
    {
      "cell_type": "code",
      "execution_count": null,
      "metadata": {
        "colab": {
          "base_uri": "https://localhost:8080/",
          "height": 297
        },
        "id": "3_63js1jszil",
        "outputId": "9143973e-a0b6-4bcd-aa49-4276117db0c4"
      },
      "outputs": [
        {
          "output_type": "display_data",
          "data": {
            "text/plain": [
              "<Figure size 432x288 with 1 Axes>"
            ],
            "image/png": "[encoded data removed]"
          },
          "metadata": {
            "needs_background": "light"
          }
        },
        {
          "output_type": "display_data",
          "data": {
            "text/plain": [
              "<Figure size 432x288 with 0 Axes>"
            ]
          },
          "metadata": {}
        }
      ],
      "source": [
        "# 손실그래프와 정확도 출력\n",
        "plt.plot(cnn.history['loss'])\n",
        "plt.plot(cnn.history['accuracy'])\n",
        "plt.ylabel('Loss')\n",
        "plt.xlabel('Epoch')\n",
        "plt.legend(['train_loss', 'train_accuracy'])\n",
        "plt.show()\n",
        "plt.tight_layout()"
      ]
    },
    {
      "cell_type": "code",
      "execution_count": null,
      "metadata": {
        "colab": {
          "base_uri": "https://localhost:8080/"
        },
        "id": "kqkL4xmwYdk8",
        "outputId": "77030b8f-b802-49b3-a7a2-c7094ed8de27"
      },
      "outputs": [
        {
          "output_type": "stream",
          "name": "stdout",
          "text": [
            "model.predict() 결과 :  [4.4908598e-01 7.7368201e-09 5.5091399e-01]\n",
            "model이 추론한 가장 가능성이 높은 결과 :  2\n",
            "실제 데이터의 라벨 :  0\n"
          ]
        }
      ],
      "source": [
        "# 잘못 추출된 데이터 확인\n",
        "predicted_result = model.predict(x_test_norm) # model이 추론한 확률값\n",
        "predicted_labels = np.argmax(predicted_result, axis=1)\n",
        "\n",
        "idx = 5 #6번째 x_test를 살펴보자.\n",
        "print('model.predict() 결과 : ',predicted_result[idx])\n",
        "print('model이 추론한 가장 가능성이 높은 결과 : ',predicted_labels[idx])\n",
        "print('실제 데이터의 라벨 : ', y_test[idx])"
      ]
    },
    {
      "cell_type": "code",
      "execution_count": null,
      "metadata": {
        "colab": {
          "base_uri": "https://localhost:8080/",
          "height": 265
        },
        "id": "XAmKpmrdnAey",
        "outputId": "8db3b5e5-766c-4f0d-b15a-37137e9a6120"
      },
      "outputs": [
        {
          "output_type": "display_data",
          "data": {
            "text/plain": [
              "<Figure size 432x288 with 1 Axes>"
            ],
            "image/png": "[encoded data removed]"
          },
          "metadata": {
            "needs_background": "light"
          }
        }
      ],
      "source": [
        "plt.imshow(x_test[idx], cmap=plt.cm.binary)\n",
        "plt.show()"
      ]
    },
    {
      "cell_type": "code",
      "execution_count": null,
      "metadata": {
        "colab": {
          "base_uri": "https://localhost:8080/",
          "height": 1000
        },
        "id": "eiWWIq_qYxK2",
        "outputId": "1b399172-268b-455a-8aab-37bbeeb6c8c9"
      },
      "outputs": [
        {
          "output_type": "stream",
          "name": "stdout",
          "text": [
            "예측확률분포: [6.6739845e-04 3.5164170e-11 9.9933261e-01]\n",
            "라벨: 0, 예측결과: 2\n"
          ]
        },
        {
          "output_type": "display_data",
          "data": {
            "text/plain": [
              "<Figure size 432x288 with 1 Axes>"
            ],
            "image/png": "[encoded data removed]"
          },
          "metadata": {
            "needs_background": "light"
          }
        },
        {
          "output_type": "stream",
          "name": "stdout",
          "text": [
            "예측확률분포: [0.22893134 0.7373781  0.03369061]\n",
            "라벨: 0, 예측결과: 1\n"
          ]
        },
        {
          "output_type": "display_data",
          "data": {
            "text/plain": [
              "<Figure size 432x288 with 1 Axes>"
            ],
            "image/png": "[encoded data removed]"
          },
          "metadata": {
            "needs_background": "light"
          }
        },
        {
          "output_type": "stream",
          "name": "stdout",
          "text": [
            "예측확률분포: [0.191428   0.05312352 0.7554484 ]\n",
            "라벨: 0, 예측결과: 2\n"
          ]
        },
        {
          "output_type": "display_data",
          "data": {
            "text/plain": [
              "<Figure size 432x288 with 1 Axes>"
            ],
            "image/png": "[encoded data removed]"
          },
          "metadata": {
            "needs_background": "light"
          }
        },
        {
          "output_type": "stream",
          "name": "stdout",
          "text": [
            "예측확률분포: [0.01820708 0.01924011 0.9625528 ]\n",
            "라벨: 0, 예측결과: 2\n"
          ]
        },
        {
          "output_type": "display_data",
          "data": {
            "text/plain": [
              "<Figure size 432x288 with 1 Axes>"
            ],
            "image/png": "[encoded data removed]"
          },
          "metadata": {
            "needs_background": "light"
          }
        },
        {
          "output_type": "stream",
          "name": "stdout",
          "text": [
            "예측확률분포: [2.839390e-06 7.862426e-06 9.999893e-01]\n",
            "라벨: 1, 예측결과: 2\n"
          ]
        },
        {
          "output_type": "display_data",
          "data": {
            "text/plain": [
              "<Figure size 432x288 with 1 Axes>"
            ],
            "image/png": "[encoded data removed]"
          },
          "metadata": {
            "needs_background": "light"
          }
        }
      ],
      "source": [
        "import random\n",
        "wrong_predict_list = []\n",
        "for i, _ in enumerate(predicted_labels):\n",
        "  # i번째 test_labels 와 y_test가 가른 경우만 모아보기\n",
        "  if predicted_labels[i] != y_test[i]:\n",
        "    wrong_predict_list.append(i)\n",
        "\n",
        "# wrong_predict_list 에서 랜덤하게 5개만 뽑아봅시다.\n",
        "samples = random.choices(population = wrong_predict_list, k = 5)\n",
        "\n",
        "for n in samples:\n",
        "  print('예측확률분포: ' + str(predicted_result[n]))\n",
        "  print(\"라벨: \" + str(y_test[n]) + \", 예측결과: \" + str(predicted_labels[n]))\n",
        "  plt.imshow(x_test[n], cmap=plt.cm.binary)\n",
        "  plt.show()"
      ]
    },
    {
      "cell_type": "markdown",
      "source": [
        "# 회고"
      ],
      "metadata": {
        "id": "lX7qGW4XKysW"
      }
    },
    {
      "cell_type": "markdown",
      "source": [
        "1. 이번 프로젝트에서 어려웠던 점\n",
        " \n",
        " (1) 합성곱신경망의 summary 결과를 해석할 때 각 층 파라미터 결과를 해석하기 힘들었습니다.\n",
        "\n",
        " (2) Conv2D의 각 출력층에 채널의 개수를 임의로 넣었습니다. 이 기준을 명확하게 알지못했습니다.\n",
        " "
      ],
      "metadata": {
        "id": "ojmxzLRyK1cS"
      }
    },
    {
      "cell_type": "markdown",
      "source": [
        "2. 프로젝트를 진행하면서 알게된 부분 또는 아직 이해하지 못한 부분\n",
        "\n",
        "(1) [CNN 구조 구현](https://github.com/sgr1118/Do-it-Deep-Learning/blob/main/8ch_CNN.ipynb)\n",
        "\n",
        "- CNN의 구조를 함수를 통하여 구현하여 작동원리를 학습했습니다.\n",
        "\n",
        "(2) CNN에서 Dropout으로 test_accuracy가 높아진다는 것을 알 수 있었습니다.\n",
        "- 드롭아웃을 사용하는 이유 \n",
        "\n",
        "(2-1) 과적합 방지 (테스트 셋 오류 감소), \n",
        "\n",
        "(2-2) 컴퓨팅 자원 절약\n",
        "\n",
        "(2-3) Dropout이란?\n",
        "- 신경망에서 과대 적합을 줄이는 방법 중 한가지\n",
        "- 무작위로 일부 뉴런을 비활성화시켜 특정 뉴런에 과도하게 의존하여 훈련하는 것을 막아줍니다.\n",
        "\n",
        "\n",
        "\n"
      ],
      "metadata": {
        "id": "cMgNvnfQLhyy"
      }
    },
    {
      "cell_type": "markdown",
      "source": [
        "참조\n",
        "\n",
        "(1) [Dropout 참고](https://velog.io/@convin305/%EB%85%BC%EB%AC%B8%EB%A6%AC%EB%B7%B0-dropout%EC%9D%84-%ED%86%B5%ED%95%9C-CNN%EB%AA%A8%EB%8D%B8-%ED%96%A5%EC%83%81%EC%8B%9C%ED%82%A4%EA%B8%B0)\n",
        "\n",
        "(2) [Do it! 딥러닝 입문](http://www.kyobobook.co.kr/product/detailViewKor.laf?ejkGb=KOR&mallGb=KOR&barcode=9791163031093&orderClick=LAG&Kc=) (저자 : 박해선 / 참고한 내용 :CNN-합성곱연산 이론 및 코드 / 참고한 페이지 : 234~278p)\n",
        "\n",
        "(3) [batch_size 기준 참고](https://deep-learning-study.tistory.com/647)\n"
      ],
      "metadata": {
        "id": "xWtviva-f2gG"
      }
    }
  ],
  "metadata": {
    "accelerator": "TPU",
    "colab": {
      "collapsed_sections": [],
      "machine_shape": "hm",
      "name": "[Exp-05] Ai Rock,Scissor,Paper.ipynb",
      "provenance": [],
      "mount_file_id": "14uTnyqTdCy11ypRYoq6WecOY9kODjBrT",
      "authorship_tag": "ABX9TyNj1ENVLbdB4p6UII/VBSIW",
      "include_colab_link": true
    },
    "gpuClass": "standard",
    "kernelspec": {
      "display_name": "Python 3",
      "name": "python3"
    },
    "language_info": {
      "name": "python"
    }
  },
  "nbformat": 4,
  "nbformat_minor": 0
}