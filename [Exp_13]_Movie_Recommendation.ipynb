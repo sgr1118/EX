{
  "nbformat": 4,
  "nbformat_minor": 0,
  "metadata": {
    "colab": {
      "provenance": [],
      "collapsed_sections": [],
      "machine_shape": "hm",
      "mount_file_id": "1qPoX3A4rKnrSyJ3xQ-ooy-X3debuPuoJ",
      "authorship_tag": "ABX9TyMgevlS2E3l/mvuj5iDgnPR",
      "include_colab_link": true
    },
    "kernelspec": {
      "name": "python3",
      "display_name": "Python 3"
    },
    "language_info": {
      "name": "python"
    },
    "gpuClass": "standard",
    "accelerator": "GPU",
    "widgets": {
      "application/vnd.jupyter.widget-state+json": {
        "e2c20d560c9f43679009fc02ff6ad00d": {
          "model_module": "@jupyter-widgets/controls",
          "model_name": "HBoxModel",
          "model_module_version": "1.5.0",
          "state": {
            "_dom_classes": [],
            "_model_module": "@jupyter-widgets/controls",
            "_model_module_version": "1.5.0",
            "_model_name": "HBoxModel",
            "_view_count": null,
            "_view_module": "@jupyter-widgets/controls",
            "_view_module_version": "1.5.0",
            "_view_name": "HBoxView",
            "box_style": "",
            "children": [
              "IPY_MODEL_714760a7135d448db9776296c0a7fe2e",
              "IPY_MODEL_2af77a7e7a59444bbd9f6bf47df15112",
              "IPY_MODEL_c5cb34a9ebe941ff8550a09e85884544"
            ],
            "layout": "IPY_MODEL_fef3d58db08e464ca82dac641b3f7767"
          }
        },
        "714760a7135d448db9776296c0a7fe2e": {
          "model_module": "@jupyter-widgets/controls",
          "model_name": "HTMLModel",
          "model_module_version": "1.5.0",
          "state": {
            "_dom_classes": [],
            "_model_module": "@jupyter-widgets/controls",
            "_model_module_version": "1.5.0",
            "_model_name": "HTMLModel",
            "_view_count": null,
            "_view_module": "@jupyter-widgets/controls",
            "_view_module_version": "1.5.0",
            "_view_name": "HTMLView",
            "description": "",
            "description_tooltip": null,
            "layout": "IPY_MODEL_51d8d4442de24d76beaac66199575d83",
            "placeholder": "​",
            "style": "IPY_MODEL_a6bcbf1624014617af892445396e6175",
            "value": "100%"
          }
        },
        "2af77a7e7a59444bbd9f6bf47df15112": {
          "model_module": "@jupyter-widgets/controls",
          "model_name": "FloatProgressModel",
          "model_module_version": "1.5.0",
          "state": {
            "_dom_classes": [],
            "_model_module": "@jupyter-widgets/controls",
            "_model_module_version": "1.5.0",
            "_model_name": "FloatProgressModel",
            "_view_count": null,
            "_view_module": "@jupyter-widgets/controls",
            "_view_module_version": "1.5.0",
            "_view_name": "ProgressView",
            "bar_style": "success",
            "description": "",
            "description_tooltip": null,
            "layout": "IPY_MODEL_1d959462dd9842899cd3af4d1ec8c5b6",
            "max": 15,
            "min": 0,
            "orientation": "horizontal",
            "style": "IPY_MODEL_a31375d0f25748cc96607225a92e6f28",
            "value": 15
          }
        },
        "c5cb34a9ebe941ff8550a09e85884544": {
          "model_module": "@jupyter-widgets/controls",
          "model_name": "HTMLModel",
          "model_module_version": "1.5.0",
          "state": {
            "_dom_classes": [],
            "_model_module": "@jupyter-widgets/controls",
            "_model_module_version": "1.5.0",
            "_model_name": "HTMLModel",
            "_view_count": null,
            "_view_module": "@jupyter-widgets/controls",
            "_view_module_version": "1.5.0",
            "_view_name": "HTMLView",
            "description": "",
            "description_tooltip": null,
            "layout": "IPY_MODEL_56b638fdee6444328b0368f7a18c1d5e",
            "placeholder": "​",
            "style": "IPY_MODEL_f8395d61de32483d816fea3846bd737f",
            "value": " 15/15 [00:12&lt;00:00,  1.26it/s]"
          }
        },
        "fef3d58db08e464ca82dac641b3f7767": {
          "model_module": "@jupyter-widgets/base",
          "model_name": "LayoutModel",
          "model_module_version": "1.2.0",
          "state": {
            "_model_module": "@jupyter-widgets/base",
            "_model_module_version": "1.2.0",
            "_model_name": "LayoutModel",
            "_view_count": null,
            "_view_module": "@jupyter-widgets/base",
            "_view_module_version": "1.2.0",
            "_view_name": "LayoutView",
            "align_content": null,
            "align_items": null,
            "align_self": null,
            "border": null,
            "bottom": null,
            "display": null,
            "flex": null,
            "flex_flow": null,
            "grid_area": null,
            "grid_auto_columns": null,
            "grid_auto_flow": null,
            "grid_auto_rows": null,
            "grid_column": null,
            "grid_gap": null,
            "grid_row": null,
            "grid_template_areas": null,
            "grid_template_columns": null,
            "grid_template_rows": null,
            "height": null,
            "justify_content": null,
            "justify_items": null,
            "left": null,
            "margin": null,
            "max_height": null,
            "max_width": null,
            "min_height": null,
            "min_width": null,
            "object_fit": null,
            "object_position": null,
            "order": null,
            "overflow": null,
            "overflow_x": null,
            "overflow_y": null,
            "padding": null,
            "right": null,
            "top": null,
            "visibility": null,
            "width": null
          }
        },
        "51d8d4442de24d76beaac66199575d83": {
          "model_module": "@jupyter-widgets/base",
          "model_name": "LayoutModel",
          "model_module_version": "1.2.0",
          "state": {
            "_model_module": "@jupyter-widgets/base",
            "_model_module_version": "1.2.0",
            "_model_name": "LayoutModel",
            "_view_count": null,
            "_view_module": "@jupyter-widgets/base",
            "_view_module_version": "1.2.0",
            "_view_name": "LayoutView",
            "align_content": null,
            "align_items": null,
            "align_self": null,
            "border": null,
            "bottom": null,
            "display": null,
            "flex": null,
            "flex_flow": null,
            "grid_area": null,
            "grid_auto_columns": null,
            "grid_auto_flow": null,
            "grid_auto_rows": null,
            "grid_column": null,
            "grid_gap": null,
            "grid_row": null,
            "grid_template_areas": null,
            "grid_template_columns": null,
            "grid_template_rows": null,
            "height": null,
            "justify_content": null,
            "justify_items": null,
            "left": null,
            "margin": null,
            "max_height": null,
            "max_width": null,
            "min_height": null,
            "min_width": null,
            "object_fit": null,
            "object_position": null,
            "order": null,
            "overflow": null,
            "overflow_x": null,
            "overflow_y": null,
            "padding": null,
            "right": null,
            "top": null,
            "visibility": null,
            "width": null
          }
        },
        "a6bcbf1624014617af892445396e6175": {
          "model_module": "@jupyter-widgets/controls",
          "model_name": "DescriptionStyleModel",
          "model_module_version": "1.5.0",
          "state": {
            "_model_module": "@jupyter-widgets/controls",
            "_model_module_version": "1.5.0",
            "_model_name": "DescriptionStyleModel",
            "_view_count": null,
            "_view_module": "@jupyter-widgets/base",
            "_view_module_version": "1.2.0",
            "_view_name": "StyleView",
            "description_width": ""
          }
        },
        "1d959462dd9842899cd3af4d1ec8c5b6": {
          "model_module": "@jupyter-widgets/base",
          "model_name": "LayoutModel",
          "model_module_version": "1.2.0",
          "state": {
            "_model_module": "@jupyter-widgets/base",
            "_model_module_version": "1.2.0",
            "_model_name": "LayoutModel",
            "_view_count": null,
            "_view_module": "@jupyter-widgets/base",
            "_view_module_version": "1.2.0",
            "_view_name": "LayoutView",
            "align_content": null,
            "align_items": null,
            "align_self": null,
            "border": null,
            "bottom": null,
            "display": null,
            "flex": null,
            "flex_flow": null,
            "grid_area": null,
            "grid_auto_columns": null,
            "grid_auto_flow": null,
            "grid_auto_rows": null,
            "grid_column": null,
            "grid_gap": null,
            "grid_row": null,
            "grid_template_areas": null,
            "grid_template_columns": null,
            "grid_template_rows": null,
            "height": null,
            "justify_content": null,
            "justify_items": null,
            "left": null,
            "margin": null,
            "max_height": null,
            "max_width": null,
            "min_height": null,
            "min_width": null,
            "object_fit": null,
            "object_position": null,
            "order": null,
            "overflow": null,
            "overflow_x": null,
            "overflow_y": null,
            "padding": null,
            "right": null,
            "top": null,
            "visibility": null,
            "width": null
          }
        },
        "a31375d0f25748cc96607225a92e6f28": {
          "model_module": "@jupyter-widgets/controls",
          "model_name": "ProgressStyleModel",
          "model_module_version": "1.5.0",
          "state": {
            "_model_module": "@jupyter-widgets/controls",
            "_model_module_version": "1.5.0",
            "_model_name": "ProgressStyleModel",
            "_view_count": null,
            "_view_module": "@jupyter-widgets/base",
            "_view_module_version": "1.2.0",
            "_view_name": "StyleView",
            "bar_color": null,
            "description_width": ""
          }
        },
        "56b638fdee6444328b0368f7a18c1d5e": {
          "model_module": "@jupyter-widgets/base",
          "model_name": "LayoutModel",
          "model_module_version": "1.2.0",
          "state": {
            "_model_module": "@jupyter-widgets/base",
            "_model_module_version": "1.2.0",
            "_model_name": "LayoutModel",
            "_view_count": null,
            "_view_module": "@jupyter-widgets/base",
            "_view_module_version": "1.2.0",
            "_view_name": "LayoutView",
            "align_content": null,
            "align_items": null,
            "align_self": null,
            "border": null,
            "bottom": null,
            "display": null,
            "flex": null,
            "flex_flow": null,
            "grid_area": null,
            "grid_auto_columns": null,
            "grid_auto_flow": null,
            "grid_auto_rows": null,
            "grid_column": null,
            "grid_gap": null,
            "grid_row": null,
            "grid_template_areas": null,
            "grid_template_columns": null,
            "grid_template_rows": null,
            "height": null,
            "justify_content": null,
            "justify_items": null,
            "left": null,
            "margin": null,
            "max_height": null,
            "max_width": null,
            "min_height": null,
            "min_width": null,
            "object_fit": null,
            "object_position": null,
            "order": null,
            "overflow": null,
            "overflow_x": null,
            "overflow_y": null,
            "padding": null,
            "right": null,
            "top": null,
            "visibility": null,
            "width": null
          }
        },
        "f8395d61de32483d816fea3846bd737f": {
          "model_module": "@jupyter-widgets/controls",
          "model_name": "DescriptionStyleModel",
          "model_module_version": "1.5.0",
          "state": {
            "_model_module": "@jupyter-widgets/controls",
            "_model_module_version": "1.5.0",
            "_model_name": "DescriptionStyleModel",
            "_view_count": null,
            "_view_module": "@jupyter-widgets/base",
            "_view_module_version": "1.2.0",
            "_view_name": "StyleView",
            "description_width": ""
          }
        }
      }
    }
  },
  "cells": [
    {
      "cell_type": "markdown",
      "metadata": {
        "id": "view-in-github",
        "colab_type": "text"
      },
      "source": [
        "<a href=\"https://colab.research.google.com/github/sgr1118/EX/blob/main/%5BExp_13%5D_Movie_Recommendation.ipynb\" target=\"_parent\"><img src=\"https://colab.research.google.com/assets/colab-badge.svg\" alt=\"Open In Colab\"/></a>"
      ]
    },
    {
      "cell_type": "markdown",
      "source": [
        "# 13-9. 프로젝트 - Movielens 영화 추천 실습\n",
        "\n",
        "- 사용 data : MovieLens 1M Dataset\n",
        "\n",
        "- 별점 데이터는 대표적인 explicit 데이터입니다. 하지만 implicit 데이터로 간주하고 테스트해 볼 수 있습니다.\n",
        "\n",
        "- 별점을 시청횟수로 해석해서 생각\n",
        "\n",
        "- 또한 유저가 3점 미만으로 준 데이터는 선호하지 않는다고 가정하고 제외"
      ],
      "metadata": {
        "id": "wFYxLouqkoHZ"
      }
    },
    {
      "cell_type": "code",
      "source": [
        "# 라이브러리 환경 구축\n",
        "import os, sys\n",
        "\n",
        "my_path = '/content/notebooks'\n",
        "# Colab Notebooks 안에 my_env2 폴더에 패키지 저장\n",
        "os.symlink('/content/drive/MyDrive/Colab Notebooks/my_env3', my_path)\n",
        "sys.path.insert(0, my_path)"
      ],
      "metadata": {
        "id": "EjfJitfew8oS"
      },
      "execution_count": 1,
      "outputs": []
    },
    {
      "cell_type": "code",
      "source": [
        "!pip install --target=$my_path implicit"
      ],
      "metadata": {
        "colab": {
          "base_uri": "https://localhost:8080/",
          "height": 380
        },
        "id": "wfmkhJqCw_Kz",
        "outputId": "2f541ff4-a10d-4296-98dd-a633481cf417"
      },
      "execution_count": null,
      "outputs": [
        {
          "output_type": "stream",
          "name": "stdout",
          "text": [
            "Looking in indexes: https://pypi.org/simple, https://us-python.pkg.dev/colab-wheels/public/simple/\n",
            "Collecting implicit\n",
            "  Downloading implicit-0.6.0-cp37-cp37m-manylinux2014_x86_64.whl (18.6 MB)\n",
            "\u001b[K     |████████████████████████████████| 18.6 MB 1.4 MB/s \n",
            "\u001b[?25hCollecting numpy\n",
            "  Downloading numpy-1.21.6-cp37-cp37m-manylinux_2_12_x86_64.manylinux2010_x86_64.whl (15.7 MB)\n",
            "\u001b[K     |████████████████████████████████| 15.7 MB 30.3 MB/s \n",
            "\u001b[?25hCollecting tqdm>=4.27\n",
            "  Downloading tqdm-4.64.0-py2.py3-none-any.whl (78 kB)\n",
            "\u001b[K     |████████████████████████████████| 78 kB 7.3 MB/s \n",
            "\u001b[?25hCollecting scipy>=0.16\n",
            "  Downloading scipy-1.7.3-cp37-cp37m-manylinux_2_12_x86_64.manylinux2010_x86_64.whl (38.1 MB)\n",
            "\u001b[K     |████████████████████████████████| 38.1 MB 1.2 MB/s \n",
            "\u001b[?25hInstalling collected packages: numpy, tqdm, scipy, implicit\n",
            "Successfully installed implicit-0.6.0 numpy-1.21.6 scipy-1.7.3 tqdm-4.64.0\n"
          ]
        },
        {
          "output_type": "display_data",
          "data": {
            "application/vnd.colab-display-data+json": {
              "pip_warning": {
                "packages": [
                  "numpy"
                ]
              }
            }
          },
          "metadata": {}
        }
      ]
    },
    {
      "cell_type": "markdown",
      "source": [
        "# 1) 데이터 준비와 전처리"
      ],
      "metadata": {
        "id": "txAaid0Jp25B"
      }
    },
    {
      "cell_type": "code",
      "source": [
        "import numpy as np\n",
        "import pandas as pd\n",
        "import scipy\n",
        "import implicit\n",
        "print(np.__version__)\n",
        "print(pd.__version__)\n",
        "print(scipy.__version__)\n",
        "print(implicit.__version__)"
      ],
      "metadata": {
        "colab": {
          "base_uri": "https://localhost:8080/"
        },
        "id": "_S_7Vbwxw6lr",
        "outputId": "6efd80c1-ced0-48ce-8ffc-31c94f1b5325"
      },
      "execution_count": 2,
      "outputs": [
        {
          "output_type": "stream",
          "name": "stdout",
          "text": [
            "1.21.6\n",
            "1.3.5\n",
            "1.7.3\n",
            "0.6.0\n"
          ]
        }
      ]
    },
    {
      "cell_type": "code",
      "source": [
        "# 데이터 불러오기\n",
        "rating_file_path = '/content/drive/MyDrive/Aiffel/EX/EX13_file/ml-1m/ratings.dat'\n",
        "ratings_cols = ['user_id', 'movie_id', 'ratings', 'timestamp']\n",
        "ratings = pd.read_csv(rating_file_path, sep='::', names=ratings_cols, engine='python', encoding = \"ISO-8859-1\")\n",
        "orginal_data_size = len(ratings)\n",
        "ratings.head()\n",
        "\n",
        "# 전처리가 필요해 보이는 columns은 tomestamp이다."
      ],
      "metadata": {
        "colab": {
          "base_uri": "https://localhost:8080/",
          "height": 206
        },
        "id": "zLn1hTBNyu_K",
        "outputId": "7c896a7d-1ece-4b70-d6b7-89c72c42bee8"
      },
      "execution_count": 90,
      "outputs": [
        {
          "output_type": "execute_result",
          "data": {
            "text/plain": [
              "   user_id  movie_id  ratings  timestamp\n",
              "0        1      1193        5  978300760\n",
              "1        1       661        3  978302109\n",
              "2        1       914        3  978301968\n",
              "3        1      3408        4  978300275\n",
              "4        1      2355        5  978824291"
            ],
            "text/html": [
              "\n",
              "  <div id=\"df-6d8879e2-556f-4939-bab3-8bb05b2e0a23\">\n",
              "    <div class=\"colab-df-container\">\n",
              "      <div>\n",
              "<style scoped>\n",
              "    .dataframe tbody tr th:only-of-type {\n",
              "        vertical-align: middle;\n",
              "    }\n",
              "\n",
              "    .dataframe tbody tr th {\n",
              "        vertical-align: top;\n",
              "    }\n",
              "\n",
              "    .dataframe thead th {\n",
              "        text-align: right;\n",
              "    }\n",
              "</style>\n",
              "<table border=\"1\" class=\"dataframe\">\n",
              "  <thead>\n",
              "    <tr style=\"text-align: right;\">\n",
              "      <th></th>\n",
              "      <th>user_id</th>\n",
              "      <th>movie_id</th>\n",
              "      <th>ratings</th>\n",
              "      <th>timestamp</th>\n",
              "    </tr>\n",
              "  </thead>\n",
              "  <tbody>\n",
              "    <tr>\n",
              "      <th>0</th>\n",
              "      <td>1</td>\n",
              "      <td>1193</td>\n",
              "      <td>5</td>\n",
              "      <td>978300760</td>\n",
              "    </tr>\n",
              "    <tr>\n",
              "      <th>1</th>\n",
              "      <td>1</td>\n",
              "      <td>661</td>\n",
              "      <td>3</td>\n",
              "      <td>978302109</td>\n",
              "    </tr>\n",
              "    <tr>\n",
              "      <th>2</th>\n",
              "      <td>1</td>\n",
              "      <td>914</td>\n",
              "      <td>3</td>\n",
              "      <td>978301968</td>\n",
              "    </tr>\n",
              "    <tr>\n",
              "      <th>3</th>\n",
              "      <td>1</td>\n",
              "      <td>3408</td>\n",
              "      <td>4</td>\n",
              "      <td>978300275</td>\n",
              "    </tr>\n",
              "    <tr>\n",
              "      <th>4</th>\n",
              "      <td>1</td>\n",
              "      <td>2355</td>\n",
              "      <td>5</td>\n",
              "      <td>978824291</td>\n",
              "    </tr>\n",
              "  </tbody>\n",
              "</table>\n",
              "</div>\n",
              "      <button class=\"colab-df-convert\" onclick=\"convertToInteractive('df-6d8879e2-556f-4939-bab3-8bb05b2e0a23')\"\n",
              "              title=\"Convert this dataframe to an interactive table.\"\n",
              "              style=\"display:none;\">\n",
              "        \n",
              "  <svg xmlns=\"http://www.w3.org/2000/svg\" height=\"24px\"viewBox=\"0 0 24 24\"\n",
              "       width=\"24px\">\n",
              "    <path d=\"M0 0h24v24H0V0z\" fill=\"none\"/>\n",
              "    <path d=\"M18.56 5.44l.94 2.06.94-2.06 2.06-.94-2.06-.94-.94-2.06-.94 2.06-2.06.94zm-11 1L8.5 8.5l.94-2.06 2.06-.94-2.06-.94L8.5 2.5l-.94 2.06-2.06.94zm10 10l.94 2.06.94-2.06 2.06-.94-2.06-.94-.94-2.06-.94 2.06-2.06.94z\"/><path d=\"M17.41 7.96l-1.37-1.37c-.4-.4-.92-.59-1.43-.59-.52 0-1.04.2-1.43.59L10.3 9.45l-7.72 7.72c-.78.78-.78 2.05 0 2.83L4 21.41c.39.39.9.59 1.41.59.51 0 1.02-.2 1.41-.59l7.78-7.78 2.81-2.81c.8-.78.8-2.07 0-2.86zM5.41 20L4 18.59l7.72-7.72 1.47 1.35L5.41 20z\"/>\n",
              "  </svg>\n",
              "      </button>\n",
              "      \n",
              "  <style>\n",
              "    .colab-df-container {\n",
              "      display:flex;\n",
              "      flex-wrap:wrap;\n",
              "      gap: 12px;\n",
              "    }\n",
              "\n",
              "    .colab-df-convert {\n",
              "      background-color: #E8F0FE;\n",
              "      border: none;\n",
              "      border-radius: 50%;\n",
              "      cursor: pointer;\n",
              "      display: none;\n",
              "      fill: #1967D2;\n",
              "      height: 32px;\n",
              "      padding: 0 0 0 0;\n",
              "      width: 32px;\n",
              "    }\n",
              "\n",
              "    .colab-df-convert:hover {\n",
              "      background-color: #E2EBFA;\n",
              "      box-shadow: 0px 1px 2px rgba(60, 64, 67, 0.3), 0px 1px 3px 1px rgba(60, 64, 67, 0.15);\n",
              "      fill: #174EA6;\n",
              "    }\n",
              "\n",
              "    [theme=dark] .colab-df-convert {\n",
              "      background-color: #3B4455;\n",
              "      fill: #D2E3FC;\n",
              "    }\n",
              "\n",
              "    [theme=dark] .colab-df-convert:hover {\n",
              "      background-color: #434B5C;\n",
              "      box-shadow: 0px 1px 3px 1px rgba(0, 0, 0, 0.15);\n",
              "      filter: drop-shadow(0px 1px 2px rgba(0, 0, 0, 0.3));\n",
              "      fill: #FFFFFF;\n",
              "    }\n",
              "  </style>\n",
              "\n",
              "      <script>\n",
              "        const buttonEl =\n",
              "          document.querySelector('#df-6d8879e2-556f-4939-bab3-8bb05b2e0a23 button.colab-df-convert');\n",
              "        buttonEl.style.display =\n",
              "          google.colab.kernel.accessAllowed ? 'block' : 'none';\n",
              "\n",
              "        async function convertToInteractive(key) {\n",
              "          const element = document.querySelector('#df-6d8879e2-556f-4939-bab3-8bb05b2e0a23');\n",
              "          const dataTable =\n",
              "            await google.colab.kernel.invokeFunction('convertToInteractive',\n",
              "                                                     [key], {});\n",
              "          if (!dataTable) return;\n",
              "\n",
              "          const docLinkHtml = 'Like what you see? Visit the ' +\n",
              "            '<a target=\"_blank\" href=https://colab.research.google.com/notebooks/data_table.ipynb>data table notebook</a>'\n",
              "            + ' to learn more about interactive tables.';\n",
              "          element.innerHTML = '';\n",
              "          dataTable['output_type'] = 'display_data';\n",
              "          await google.colab.output.renderOutput(dataTable, element);\n",
              "          const docLink = document.createElement('div');\n",
              "          docLink.innerHTML = docLinkHtml;\n",
              "          element.appendChild(docLink);\n",
              "        }\n",
              "      </script>\n",
              "    </div>\n",
              "  </div>\n",
              "  "
            ]
          },
          "metadata": {},
          "execution_count": 90
        }
      ]
    },
    {
      "cell_type": "code",
      "source": [
        "# 암묵적 데이터 해석 기준\n",
        "# 3점 이상만 남깁니다.\n",
        "ratings = ratings[ratings['ratings']>=3]\n",
        "filtered_data_size = len(ratings)\n",
        "\n",
        "print(f'orginal_data_size: {orginal_data_size}, filtered_data_size: {filtered_data_size}')\n",
        "print(f'Ratio of Remaining Data is {filtered_data_size / orginal_data_size:.2%}')\n",
        "\n",
        "# 3점 이상 data는 전체의 83.63%다."
      ],
      "metadata": {
        "colab": {
          "base_uri": "https://localhost:8080/"
        },
        "id": "4UC0gCFGHu98",
        "outputId": "f386354e-6a3b-4ca9-f94f-fbacce2c44bc"
      },
      "execution_count": 91,
      "outputs": [
        {
          "output_type": "stream",
          "name": "stdout",
          "text": [
            "orginal_data_size: 1000209, filtered_data_size: 836478\n",
            "Ratio of Remaining Data is 83.63%\n"
          ]
        }
      ]
    },
    {
      "cell_type": "markdown",
      "source": [
        "[pandas datetime](https://pandas.pydata.org/docs/reference/api/pandas.to_datetime.html)"
      ],
      "metadata": {
        "id": "w34g8CiVSW6B"
      }
    },
    {
      "cell_type": "code",
      "source": [
        "# timestamp 시간 변환\n",
        "ratings['timestamp'] = pd.to_datetime(ratings['timestamp'], unit='s')\n",
        "ratings"
      ],
      "metadata": {
        "colab": {
          "base_uri": "https://localhost:8080/",
          "height": 424
        },
        "id": "9xHNNFOrR2k9",
        "outputId": "983af83b-9994-4b7e-c510-e17123af98ad"
      },
      "execution_count": 92,
      "outputs": [
        {
          "output_type": "execute_result",
          "data": {
            "text/plain": [
              "         user_id  movie_id  ratings           timestamp\n",
              "0              1      1193        5 2000-12-31 22:12:40\n",
              "1              1       661        3 2000-12-31 22:35:09\n",
              "2              1       914        3 2000-12-31 22:32:48\n",
              "3              1      3408        4 2000-12-31 22:04:35\n",
              "4              1      2355        5 2001-01-06 23:38:11\n",
              "...          ...       ...      ...                 ...\n",
              "1000203     6040      1090        3 2000-04-26 02:18:38\n",
              "1000205     6040      1094        5 2000-04-25 23:21:27\n",
              "1000206     6040       562        5 2000-04-25 23:19:06\n",
              "1000207     6040      1096        4 2000-04-26 02:20:48\n",
              "1000208     6040      1097        4 2000-04-26 02:19:29\n",
              "\n",
              "[836478 rows x 4 columns]"
            ],
            "text/html": [
              "\n",
              "  <div id=\"df-351c0879-19f9-4f33-a3ce-c151526136e8\">\n",
              "    <div class=\"colab-df-container\">\n",
              "      <div>\n",
              "<style scoped>\n",
              "    .dataframe tbody tr th:only-of-type {\n",
              "        vertical-align: middle;\n",
              "    }\n",
              "\n",
              "    .dataframe tbody tr th {\n",
              "        vertical-align: top;\n",
              "    }\n",
              "\n",
              "    .dataframe thead th {\n",
              "        text-align: right;\n",
              "    }\n",
              "</style>\n",
              "<table border=\"1\" class=\"dataframe\">\n",
              "  <thead>\n",
              "    <tr style=\"text-align: right;\">\n",
              "      <th></th>\n",
              "      <th>user_id</th>\n",
              "      <th>movie_id</th>\n",
              "      <th>ratings</th>\n",
              "      <th>timestamp</th>\n",
              "    </tr>\n",
              "  </thead>\n",
              "  <tbody>\n",
              "    <tr>\n",
              "      <th>0</th>\n",
              "      <td>1</td>\n",
              "      <td>1193</td>\n",
              "      <td>5</td>\n",
              "      <td>2000-12-31 22:12:40</td>\n",
              "    </tr>\n",
              "    <tr>\n",
              "      <th>1</th>\n",
              "      <td>1</td>\n",
              "      <td>661</td>\n",
              "      <td>3</td>\n",
              "      <td>2000-12-31 22:35:09</td>\n",
              "    </tr>\n",
              "    <tr>\n",
              "      <th>2</th>\n",
              "      <td>1</td>\n",
              "      <td>914</td>\n",
              "      <td>3</td>\n",
              "      <td>2000-12-31 22:32:48</td>\n",
              "    </tr>\n",
              "    <tr>\n",
              "      <th>3</th>\n",
              "      <td>1</td>\n",
              "      <td>3408</td>\n",
              "      <td>4</td>\n",
              "      <td>2000-12-31 22:04:35</td>\n",
              "    </tr>\n",
              "    <tr>\n",
              "      <th>4</th>\n",
              "      <td>1</td>\n",
              "      <td>2355</td>\n",
              "      <td>5</td>\n",
              "      <td>2001-01-06 23:38:11</td>\n",
              "    </tr>\n",
              "    <tr>\n",
              "      <th>...</th>\n",
              "      <td>...</td>\n",
              "      <td>...</td>\n",
              "      <td>...</td>\n",
              "      <td>...</td>\n",
              "    </tr>\n",
              "    <tr>\n",
              "      <th>1000203</th>\n",
              "      <td>6040</td>\n",
              "      <td>1090</td>\n",
              "      <td>3</td>\n",
              "      <td>2000-04-26 02:18:38</td>\n",
              "    </tr>\n",
              "    <tr>\n",
              "      <th>1000205</th>\n",
              "      <td>6040</td>\n",
              "      <td>1094</td>\n",
              "      <td>5</td>\n",
              "      <td>2000-04-25 23:21:27</td>\n",
              "    </tr>\n",
              "    <tr>\n",
              "      <th>1000206</th>\n",
              "      <td>6040</td>\n",
              "      <td>562</td>\n",
              "      <td>5</td>\n",
              "      <td>2000-04-25 23:19:06</td>\n",
              "    </tr>\n",
              "    <tr>\n",
              "      <th>1000207</th>\n",
              "      <td>6040</td>\n",
              "      <td>1096</td>\n",
              "      <td>4</td>\n",
              "      <td>2000-04-26 02:20:48</td>\n",
              "    </tr>\n",
              "    <tr>\n",
              "      <th>1000208</th>\n",
              "      <td>6040</td>\n",
              "      <td>1097</td>\n",
              "      <td>4</td>\n",
              "      <td>2000-04-26 02:19:29</td>\n",
              "    </tr>\n",
              "  </tbody>\n",
              "</table>\n",
              "<p>836478 rows × 4 columns</p>\n",
              "</div>\n",
              "      <button class=\"colab-df-convert\" onclick=\"convertToInteractive('df-351c0879-19f9-4f33-a3ce-c151526136e8')\"\n",
              "              title=\"Convert this dataframe to an interactive table.\"\n",
              "              style=\"display:none;\">\n",
              "        \n",
              "  <svg xmlns=\"http://www.w3.org/2000/svg\" height=\"24px\"viewBox=\"0 0 24 24\"\n",
              "       width=\"24px\">\n",
              "    <path d=\"M0 0h24v24H0V0z\" fill=\"none\"/>\n",
              "    <path d=\"M18.56 5.44l.94 2.06.94-2.06 2.06-.94-2.06-.94-.94-2.06-.94 2.06-2.06.94zm-11 1L8.5 8.5l.94-2.06 2.06-.94-2.06-.94L8.5 2.5l-.94 2.06-2.06.94zm10 10l.94 2.06.94-2.06 2.06-.94-2.06-.94-.94-2.06-.94 2.06-2.06.94z\"/><path d=\"M17.41 7.96l-1.37-1.37c-.4-.4-.92-.59-1.43-.59-.52 0-1.04.2-1.43.59L10.3 9.45l-7.72 7.72c-.78.78-.78 2.05 0 2.83L4 21.41c.39.39.9.59 1.41.59.51 0 1.02-.2 1.41-.59l7.78-7.78 2.81-2.81c.8-.78.8-2.07 0-2.86zM5.41 20L4 18.59l7.72-7.72 1.47 1.35L5.41 20z\"/>\n",
              "  </svg>\n",
              "      </button>\n",
              "      \n",
              "  <style>\n",
              "    .colab-df-container {\n",
              "      display:flex;\n",
              "      flex-wrap:wrap;\n",
              "      gap: 12px;\n",
              "    }\n",
              "\n",
              "    .colab-df-convert {\n",
              "      background-color: #E8F0FE;\n",
              "      border: none;\n",
              "      border-radius: 50%;\n",
              "      cursor: pointer;\n",
              "      display: none;\n",
              "      fill: #1967D2;\n",
              "      height: 32px;\n",
              "      padding: 0 0 0 0;\n",
              "      width: 32px;\n",
              "    }\n",
              "\n",
              "    .colab-df-convert:hover {\n",
              "      background-color: #E2EBFA;\n",
              "      box-shadow: 0px 1px 2px rgba(60, 64, 67, 0.3), 0px 1px 3px 1px rgba(60, 64, 67, 0.15);\n",
              "      fill: #174EA6;\n",
              "    }\n",
              "\n",
              "    [theme=dark] .colab-df-convert {\n",
              "      background-color: #3B4455;\n",
              "      fill: #D2E3FC;\n",
              "    }\n",
              "\n",
              "    [theme=dark] .colab-df-convert:hover {\n",
              "      background-color: #434B5C;\n",
              "      box-shadow: 0px 1px 3px 1px rgba(0, 0, 0, 0.15);\n",
              "      filter: drop-shadow(0px 1px 2px rgba(0, 0, 0, 0.3));\n",
              "      fill: #FFFFFF;\n",
              "    }\n",
              "  </style>\n",
              "\n",
              "      <script>\n",
              "        const buttonEl =\n",
              "          document.querySelector('#df-351c0879-19f9-4f33-a3ce-c151526136e8 button.colab-df-convert');\n",
              "        buttonEl.style.display =\n",
              "          google.colab.kernel.accessAllowed ? 'block' : 'none';\n",
              "\n",
              "        async function convertToInteractive(key) {\n",
              "          const element = document.querySelector('#df-351c0879-19f9-4f33-a3ce-c151526136e8');\n",
              "          const dataTable =\n",
              "            await google.colab.kernel.invokeFunction('convertToInteractive',\n",
              "                                                     [key], {});\n",
              "          if (!dataTable) return;\n",
              "\n",
              "          const docLinkHtml = 'Like what you see? Visit the ' +\n",
              "            '<a target=\"_blank\" href=https://colab.research.google.com/notebooks/data_table.ipynb>data table notebook</a>'\n",
              "            + ' to learn more about interactive tables.';\n",
              "          element.innerHTML = '';\n",
              "          dataTable['output_type'] = 'display_data';\n",
              "          await google.colab.output.renderOutput(dataTable, element);\n",
              "          const docLink = document.createElement('div');\n",
              "          docLink.innerHTML = docLinkHtml;\n",
              "          element.appendChild(docLink);\n",
              "        }\n",
              "      </script>\n",
              "    </div>\n",
              "  </div>\n",
              "  "
            ]
          },
          "metadata": {},
          "execution_count": 92
        }
      ]
    },
    {
      "cell_type": "code",
      "source": [
        "# ratings 컬럼의 이름을 counts로 바꿉니다.\n",
        "ratings.rename(columns={'ratings':'counts'}, inplace=True)\n",
        "ratings.head()"
      ],
      "metadata": {
        "colab": {
          "base_uri": "https://localhost:8080/",
          "height": 206
        },
        "id": "Lb39a2pIIA9m",
        "outputId": "f76b2e8b-0412-40c9-f8b9-ef3019910f0f"
      },
      "execution_count": 93,
      "outputs": [
        {
          "output_type": "execute_result",
          "data": {
            "text/plain": [
              "   user_id  movie_id  counts           timestamp\n",
              "0        1      1193       5 2000-12-31 22:12:40\n",
              "1        1       661       3 2000-12-31 22:35:09\n",
              "2        1       914       3 2000-12-31 22:32:48\n",
              "3        1      3408       4 2000-12-31 22:04:35\n",
              "4        1      2355       5 2001-01-06 23:38:11"
            ],
            "text/html": [
              "\n",
              "  <div id=\"df-74382d0f-1043-44e6-84b7-447a2bcabe85\">\n",
              "    <div class=\"colab-df-container\">\n",
              "      <div>\n",
              "<style scoped>\n",
              "    .dataframe tbody tr th:only-of-type {\n",
              "        vertical-align: middle;\n",
              "    }\n",
              "\n",
              "    .dataframe tbody tr th {\n",
              "        vertical-align: top;\n",
              "    }\n",
              "\n",
              "    .dataframe thead th {\n",
              "        text-align: right;\n",
              "    }\n",
              "</style>\n",
              "<table border=\"1\" class=\"dataframe\">\n",
              "  <thead>\n",
              "    <tr style=\"text-align: right;\">\n",
              "      <th></th>\n",
              "      <th>user_id</th>\n",
              "      <th>movie_id</th>\n",
              "      <th>counts</th>\n",
              "      <th>timestamp</th>\n",
              "    </tr>\n",
              "  </thead>\n",
              "  <tbody>\n",
              "    <tr>\n",
              "      <th>0</th>\n",
              "      <td>1</td>\n",
              "      <td>1193</td>\n",
              "      <td>5</td>\n",
              "      <td>2000-12-31 22:12:40</td>\n",
              "    </tr>\n",
              "    <tr>\n",
              "      <th>1</th>\n",
              "      <td>1</td>\n",
              "      <td>661</td>\n",
              "      <td>3</td>\n",
              "      <td>2000-12-31 22:35:09</td>\n",
              "    </tr>\n",
              "    <tr>\n",
              "      <th>2</th>\n",
              "      <td>1</td>\n",
              "      <td>914</td>\n",
              "      <td>3</td>\n",
              "      <td>2000-12-31 22:32:48</td>\n",
              "    </tr>\n",
              "    <tr>\n",
              "      <th>3</th>\n",
              "      <td>1</td>\n",
              "      <td>3408</td>\n",
              "      <td>4</td>\n",
              "      <td>2000-12-31 22:04:35</td>\n",
              "    </tr>\n",
              "    <tr>\n",
              "      <th>4</th>\n",
              "      <td>1</td>\n",
              "      <td>2355</td>\n",
              "      <td>5</td>\n",
              "      <td>2001-01-06 23:38:11</td>\n",
              "    </tr>\n",
              "  </tbody>\n",
              "</table>\n",
              "</div>\n",
              "      <button class=\"colab-df-convert\" onclick=\"convertToInteractive('df-74382d0f-1043-44e6-84b7-447a2bcabe85')\"\n",
              "              title=\"Convert this dataframe to an interactive table.\"\n",
              "              style=\"display:none;\">\n",
              "        \n",
              "  <svg xmlns=\"http://www.w3.org/2000/svg\" height=\"24px\"viewBox=\"0 0 24 24\"\n",
              "       width=\"24px\">\n",
              "    <path d=\"M0 0h24v24H0V0z\" fill=\"none\"/>\n",
              "    <path d=\"M18.56 5.44l.94 2.06.94-2.06 2.06-.94-2.06-.94-.94-2.06-.94 2.06-2.06.94zm-11 1L8.5 8.5l.94-2.06 2.06-.94-2.06-.94L8.5 2.5l-.94 2.06-2.06.94zm10 10l.94 2.06.94-2.06 2.06-.94-2.06-.94-.94-2.06-.94 2.06-2.06.94z\"/><path d=\"M17.41 7.96l-1.37-1.37c-.4-.4-.92-.59-1.43-.59-.52 0-1.04.2-1.43.59L10.3 9.45l-7.72 7.72c-.78.78-.78 2.05 0 2.83L4 21.41c.39.39.9.59 1.41.59.51 0 1.02-.2 1.41-.59l7.78-7.78 2.81-2.81c.8-.78.8-2.07 0-2.86zM5.41 20L4 18.59l7.72-7.72 1.47 1.35L5.41 20z\"/>\n",
              "  </svg>\n",
              "      </button>\n",
              "      \n",
              "  <style>\n",
              "    .colab-df-container {\n",
              "      display:flex;\n",
              "      flex-wrap:wrap;\n",
              "      gap: 12px;\n",
              "    }\n",
              "\n",
              "    .colab-df-convert {\n",
              "      background-color: #E8F0FE;\n",
              "      border: none;\n",
              "      border-radius: 50%;\n",
              "      cursor: pointer;\n",
              "      display: none;\n",
              "      fill: #1967D2;\n",
              "      height: 32px;\n",
              "      padding: 0 0 0 0;\n",
              "      width: 32px;\n",
              "    }\n",
              "\n",
              "    .colab-df-convert:hover {\n",
              "      background-color: #E2EBFA;\n",
              "      box-shadow: 0px 1px 2px rgba(60, 64, 67, 0.3), 0px 1px 3px 1px rgba(60, 64, 67, 0.15);\n",
              "      fill: #174EA6;\n",
              "    }\n",
              "\n",
              "    [theme=dark] .colab-df-convert {\n",
              "      background-color: #3B4455;\n",
              "      fill: #D2E3FC;\n",
              "    }\n",
              "\n",
              "    [theme=dark] .colab-df-convert:hover {\n",
              "      background-color: #434B5C;\n",
              "      box-shadow: 0px 1px 3px 1px rgba(0, 0, 0, 0.15);\n",
              "      filter: drop-shadow(0px 1px 2px rgba(0, 0, 0, 0.3));\n",
              "      fill: #FFFFFF;\n",
              "    }\n",
              "  </style>\n",
              "\n",
              "      <script>\n",
              "        const buttonEl =\n",
              "          document.querySelector('#df-74382d0f-1043-44e6-84b7-447a2bcabe85 button.colab-df-convert');\n",
              "        buttonEl.style.display =\n",
              "          google.colab.kernel.accessAllowed ? 'block' : 'none';\n",
              "\n",
              "        async function convertToInteractive(key) {\n",
              "          const element = document.querySelector('#df-74382d0f-1043-44e6-84b7-447a2bcabe85');\n",
              "          const dataTable =\n",
              "            await google.colab.kernel.invokeFunction('convertToInteractive',\n",
              "                                                     [key], {});\n",
              "          if (!dataTable) return;\n",
              "\n",
              "          const docLinkHtml = 'Like what you see? Visit the ' +\n",
              "            '<a target=\"_blank\" href=https://colab.research.google.com/notebooks/data_table.ipynb>data table notebook</a>'\n",
              "            + ' to learn more about interactive tables.';\n",
              "          element.innerHTML = '';\n",
              "          dataTable['output_type'] = 'display_data';\n",
              "          await google.colab.output.renderOutput(dataTable, element);\n",
              "          const docLink = document.createElement('div');\n",
              "          docLink.innerHTML = docLinkHtml;\n",
              "          element.appendChild(docLink);\n",
              "        }\n",
              "      </script>\n",
              "    </div>\n",
              "  </div>\n",
              "  "
            ]
          },
          "metadata": {},
          "execution_count": 93
        }
      ]
    },
    {
      "cell_type": "code",
      "source": [
        "ratings.shape"
      ],
      "metadata": {
        "colab": {
          "base_uri": "https://localhost:8080/"
        },
        "id": "0M5Un6d3Nin_",
        "outputId": "89f68727-7faa-4d71-93a6-eff0770e11ed"
      },
      "execution_count": null,
      "outputs": [
        {
          "output_type": "execute_result",
          "data": {
            "text/plain": [
              "(836478, 4)"
            ]
          },
          "metadata": {},
          "execution_count": 82
        }
      ]
    },
    {
      "cell_type": "code",
      "source": [
        "# 영화 제목을 보기 위해 메타 데이터를 읽어옵니다.\n",
        "movie_file_path = '/content/drive/MyDrive/Aiffel/EX/EX13_file/ml-1m/movies.dat'\n",
        "cols = ['movie_id', 'title', 'genre'] \n",
        "movies = pd.read_csv(movie_file_path, sep='::', names=cols, engine='python', encoding='ISO-8859-1')\n",
        "movies"
      ],
      "metadata": {
        "colab": {
          "base_uri": "https://localhost:8080/",
          "height": 424
        },
        "id": "nRkr7-wCILgX",
        "outputId": "f191e784-c437-416d-f7d7-e9a169067102"
      },
      "execution_count": 172,
      "outputs": [
        {
          "output_type": "execute_result",
          "data": {
            "text/plain": [
              "      movie_id                               title  \\\n",
              "0            1                    Toy Story (1995)   \n",
              "1            2                      Jumanji (1995)   \n",
              "2            3             Grumpier Old Men (1995)   \n",
              "3            4            Waiting to Exhale (1995)   \n",
              "4            5  Father of the Bride Part II (1995)   \n",
              "...        ...                                 ...   \n",
              "3878      3948             Meet the Parents (2000)   \n",
              "3879      3949          Requiem for a Dream (2000)   \n",
              "3880      3950                    Tigerland (2000)   \n",
              "3881      3951             Two Family House (2000)   \n",
              "3882      3952               Contender, The (2000)   \n",
              "\n",
              "                             genre  \n",
              "0      Animation|Children's|Comedy  \n",
              "1     Adventure|Children's|Fantasy  \n",
              "2                   Comedy|Romance  \n",
              "3                     Comedy|Drama  \n",
              "4                           Comedy  \n",
              "...                            ...  \n",
              "3878                        Comedy  \n",
              "3879                         Drama  \n",
              "3880                         Drama  \n",
              "3881                         Drama  \n",
              "3882                Drama|Thriller  \n",
              "\n",
              "[3883 rows x 3 columns]"
            ],
            "text/html": [
              "\n",
              "  <div id=\"df-3dfe2ed1-7195-4ceb-a81e-6d48b68bd367\">\n",
              "    <div class=\"colab-df-container\">\n",
              "      <div>\n",
              "<style scoped>\n",
              "    .dataframe tbody tr th:only-of-type {\n",
              "        vertical-align: middle;\n",
              "    }\n",
              "\n",
              "    .dataframe tbody tr th {\n",
              "        vertical-align: top;\n",
              "    }\n",
              "\n",
              "    .dataframe thead th {\n",
              "        text-align: right;\n",
              "    }\n",
              "</style>\n",
              "<table border=\"1\" class=\"dataframe\">\n",
              "  <thead>\n",
              "    <tr style=\"text-align: right;\">\n",
              "      <th></th>\n",
              "      <th>movie_id</th>\n",
              "      <th>title</th>\n",
              "      <th>genre</th>\n",
              "    </tr>\n",
              "  </thead>\n",
              "  <tbody>\n",
              "    <tr>\n",
              "      <th>0</th>\n",
              "      <td>1</td>\n",
              "      <td>Toy Story (1995)</td>\n",
              "      <td>Animation|Children's|Comedy</td>\n",
              "    </tr>\n",
              "    <tr>\n",
              "      <th>1</th>\n",
              "      <td>2</td>\n",
              "      <td>Jumanji (1995)</td>\n",
              "      <td>Adventure|Children's|Fantasy</td>\n",
              "    </tr>\n",
              "    <tr>\n",
              "      <th>2</th>\n",
              "      <td>3</td>\n",
              "      <td>Grumpier Old Men (1995)</td>\n",
              "      <td>Comedy|Romance</td>\n",
              "    </tr>\n",
              "    <tr>\n",
              "      <th>3</th>\n",
              "      <td>4</td>\n",
              "      <td>Waiting to Exhale (1995)</td>\n",
              "      <td>Comedy|Drama</td>\n",
              "    </tr>\n",
              "    <tr>\n",
              "      <th>4</th>\n",
              "      <td>5</td>\n",
              "      <td>Father of the Bride Part II (1995)</td>\n",
              "      <td>Comedy</td>\n",
              "    </tr>\n",
              "    <tr>\n",
              "      <th>...</th>\n",
              "      <td>...</td>\n",
              "      <td>...</td>\n",
              "      <td>...</td>\n",
              "    </tr>\n",
              "    <tr>\n",
              "      <th>3878</th>\n",
              "      <td>3948</td>\n",
              "      <td>Meet the Parents (2000)</td>\n",
              "      <td>Comedy</td>\n",
              "    </tr>\n",
              "    <tr>\n",
              "      <th>3879</th>\n",
              "      <td>3949</td>\n",
              "      <td>Requiem for a Dream (2000)</td>\n",
              "      <td>Drama</td>\n",
              "    </tr>\n",
              "    <tr>\n",
              "      <th>3880</th>\n",
              "      <td>3950</td>\n",
              "      <td>Tigerland (2000)</td>\n",
              "      <td>Drama</td>\n",
              "    </tr>\n",
              "    <tr>\n",
              "      <th>3881</th>\n",
              "      <td>3951</td>\n",
              "      <td>Two Family House (2000)</td>\n",
              "      <td>Drama</td>\n",
              "    </tr>\n",
              "    <tr>\n",
              "      <th>3882</th>\n",
              "      <td>3952</td>\n",
              "      <td>Contender, The (2000)</td>\n",
              "      <td>Drama|Thriller</td>\n",
              "    </tr>\n",
              "  </tbody>\n",
              "</table>\n",
              "<p>3883 rows × 3 columns</p>\n",
              "</div>\n",
              "      <button class=\"colab-df-convert\" onclick=\"convertToInteractive('df-3dfe2ed1-7195-4ceb-a81e-6d48b68bd367')\"\n",
              "              title=\"Convert this dataframe to an interactive table.\"\n",
              "              style=\"display:none;\">\n",
              "        \n",
              "  <svg xmlns=\"http://www.w3.org/2000/svg\" height=\"24px\"viewBox=\"0 0 24 24\"\n",
              "       width=\"24px\">\n",
              "    <path d=\"M0 0h24v24H0V0z\" fill=\"none\"/>\n",
              "    <path d=\"M18.56 5.44l.94 2.06.94-2.06 2.06-.94-2.06-.94-.94-2.06-.94 2.06-2.06.94zm-11 1L8.5 8.5l.94-2.06 2.06-.94-2.06-.94L8.5 2.5l-.94 2.06-2.06.94zm10 10l.94 2.06.94-2.06 2.06-.94-2.06-.94-.94-2.06-.94 2.06-2.06.94z\"/><path d=\"M17.41 7.96l-1.37-1.37c-.4-.4-.92-.59-1.43-.59-.52 0-1.04.2-1.43.59L10.3 9.45l-7.72 7.72c-.78.78-.78 2.05 0 2.83L4 21.41c.39.39.9.59 1.41.59.51 0 1.02-.2 1.41-.59l7.78-7.78 2.81-2.81c.8-.78.8-2.07 0-2.86zM5.41 20L4 18.59l7.72-7.72 1.47 1.35L5.41 20z\"/>\n",
              "  </svg>\n",
              "      </button>\n",
              "      \n",
              "  <style>\n",
              "    .colab-df-container {\n",
              "      display:flex;\n",
              "      flex-wrap:wrap;\n",
              "      gap: 12px;\n",
              "    }\n",
              "\n",
              "    .colab-df-convert {\n",
              "      background-color: #E8F0FE;\n",
              "      border: none;\n",
              "      border-radius: 50%;\n",
              "      cursor: pointer;\n",
              "      display: none;\n",
              "      fill: #1967D2;\n",
              "      height: 32px;\n",
              "      padding: 0 0 0 0;\n",
              "      width: 32px;\n",
              "    }\n",
              "\n",
              "    .colab-df-convert:hover {\n",
              "      background-color: #E2EBFA;\n",
              "      box-shadow: 0px 1px 2px rgba(60, 64, 67, 0.3), 0px 1px 3px 1px rgba(60, 64, 67, 0.15);\n",
              "      fill: #174EA6;\n",
              "    }\n",
              "\n",
              "    [theme=dark] .colab-df-convert {\n",
              "      background-color: #3B4455;\n",
              "      fill: #D2E3FC;\n",
              "    }\n",
              "\n",
              "    [theme=dark] .colab-df-convert:hover {\n",
              "      background-color: #434B5C;\n",
              "      box-shadow: 0px 1px 3px 1px rgba(0, 0, 0, 0.15);\n",
              "      filter: drop-shadow(0px 1px 2px rgba(0, 0, 0, 0.3));\n",
              "      fill: #FFFFFF;\n",
              "    }\n",
              "  </style>\n",
              "\n",
              "      <script>\n",
              "        const buttonEl =\n",
              "          document.querySelector('#df-3dfe2ed1-7195-4ceb-a81e-6d48b68bd367 button.colab-df-convert');\n",
              "        buttonEl.style.display =\n",
              "          google.colab.kernel.accessAllowed ? 'block' : 'none';\n",
              "\n",
              "        async function convertToInteractive(key) {\n",
              "          const element = document.querySelector('#df-3dfe2ed1-7195-4ceb-a81e-6d48b68bd367');\n",
              "          const dataTable =\n",
              "            await google.colab.kernel.invokeFunction('convertToInteractive',\n",
              "                                                     [key], {});\n",
              "          if (!dataTable) return;\n",
              "\n",
              "          const docLinkHtml = 'Like what you see? Visit the ' +\n",
              "            '<a target=\"_blank\" href=https://colab.research.google.com/notebooks/data_table.ipynb>data table notebook</a>'\n",
              "            + ' to learn more about interactive tables.';\n",
              "          element.innerHTML = '';\n",
              "          dataTable['output_type'] = 'display_data';\n",
              "          await google.colab.output.renderOutput(dataTable, element);\n",
              "          const docLink = document.createElement('div');\n",
              "          docLink.innerHTML = docLinkHtml;\n",
              "          element.appendChild(docLink);\n",
              "        }\n",
              "      </script>\n",
              "    </div>\n",
              "  </div>\n",
              "  "
            ]
          },
          "metadata": {},
          "execution_count": 172
        }
      ]
    },
    {
      "cell_type": "markdown",
      "source": [
        "# 여러가지 전처리 시행\n",
        "\n",
        "(1) title, genre 소문자화\n",
        "\n",
        "(2) title 연도 삭제\n",
        "\n",
        "(3) genre에서 '|' 기호 삭제 후 띄어쓰기 추가\n",
        "\n",
        "(4) 필요없는 공백 삭제 (양측 공백)\n",
        "\n",
        "(5) , the, a, an 등 title 오른쪽 끝에 공백 삭제\n",
        "\n",
        "(6) 장르 단어가 최대한 훼손되지 않는 방향으로 시행\n",
        "\n",
        "[정규표현식 연습 사이트](https://regexr.com/)"
      ],
      "metadata": {
        "id": "crDMR45BI6pg"
      }
    },
    {
      "cell_type": "code",
      "source": [
        "import re\n",
        "def preprocess_sentence_genre(sentence):\n",
        "  sentence = sentence.str.replace(pat= r'([?.!,¿|])', repl=r' \\1', regex=True) #  구두점 분리\n",
        "  sentence = sentence.str.lower() #  소문자로 바꿔준다.\n",
        "  sentence = sentence.str.replace(pat=r\"[^a-zA-Z!.?'-]+\", repl =\" \",regex=True) # ^a-zA-Z!.?'- 가 아닌 모든 문자를 하나의 공백으로 바꿉니다\n",
        "  sentence = sentence.str.replace(pat= r'[\" \"]+',repl=r\" \", regex=True) # 여러개의 공백은 하나의 공백으로 바꿉니다\n",
        "  return sentence"
      ],
      "metadata": {
        "id": "-7MdZlUGI3uI"
      },
      "execution_count": 173,
      "outputs": []
    },
    {
      "cell_type": "code",
      "source": [
        "def preprocess_sentence_title(sentence, remove_stopwords=True):\n",
        "  sentence = sentence.str.lower() # 소문자로 바꿔준다.\n",
        "  sentence = sentence.str.replace(pat=r\"[(]\\d\\d\\d\\d[)]+\", repl =\"\",regex=True) # title 에서 연도 삭제\n",
        "  sentence = sentence.str.replace(pat= r', the(?= ) +',repl=r\" \", regex=True) # 문장 끝에, the 삭제\n",
        "  sentence = sentence.str.replace(pat= r', an(?= ) +',repl=r\" \", regex=True) # 문장 끝에, the 삭제\n",
        "  sentence = sentence.str.replace(pat= r', a(?= ) +',repl=r\" \", regex=True) # 문장 끝에, the 삭제\n",
        "  sentence = sentence.str.replace(pat= r'[\" \"]+',repl=r\" \", regex=True) # 여러개의 공백은 하나의 공백으로 바꿉니다\n",
        "  sentence = sentence.str.strip()\n",
        "  return sentence"
      ],
      "metadata": {
        "id": "_Y1r-ij4ffZL"
      },
      "execution_count": 174,
      "outputs": []
    },
    {
      "cell_type": "code",
      "source": [
        "movies['genre'] = preprocess_sentence_genre(movies['genre'])"
      ],
      "metadata": {
        "id": "oXBhcAkWKbNF"
      },
      "execution_count": 175,
      "outputs": []
    },
    {
      "cell_type": "code",
      "source": [
        "movies['title'] = preprocess_sentence_title(movies['title'])"
      ],
      "metadata": {
        "id": "XmzS9zUSw6o7"
      },
      "execution_count": 176,
      "outputs": []
    },
    {
      "cell_type": "markdown",
      "source": [
        "[]()"
      ],
      "metadata": {
        "id": "R0meTeEuTLQd"
      }
    },
    {
      "cell_type": "code",
      "source": [
        "movies[movies['title'].str.contains(', the')]"
      ],
      "metadata": {
        "colab": {
          "base_uri": "https://localhost:8080/",
          "height": 81
        },
        "id": "yeU40QUpgr3j",
        "outputId": "916fb703-095e-46e2-e9f5-479c59a1a65c"
      },
      "execution_count": 57,
      "outputs": [
        {
          "output_type": "execute_result",
          "data": {
            "text/plain": [
              "      movie_id                           title                  genre\n",
              "1939      2008  this world, then the fireworks  crime drama film-noir"
            ],
            "text/html": [
              "\n",
              "  <div id=\"df-6d78544f-5712-4ff2-99e8-5ca1421335b0\">\n",
              "    <div class=\"colab-df-container\">\n",
              "      <div>\n",
              "<style scoped>\n",
              "    .dataframe tbody tr th:only-of-type {\n",
              "        vertical-align: middle;\n",
              "    }\n",
              "\n",
              "    .dataframe tbody tr th {\n",
              "        vertical-align: top;\n",
              "    }\n",
              "\n",
              "    .dataframe thead th {\n",
              "        text-align: right;\n",
              "    }\n",
              "</style>\n",
              "<table border=\"1\" class=\"dataframe\">\n",
              "  <thead>\n",
              "    <tr style=\"text-align: right;\">\n",
              "      <th></th>\n",
              "      <th>movie_id</th>\n",
              "      <th>title</th>\n",
              "      <th>genre</th>\n",
              "    </tr>\n",
              "  </thead>\n",
              "  <tbody>\n",
              "    <tr>\n",
              "      <th>1939</th>\n",
              "      <td>2008</td>\n",
              "      <td>this world, then the fireworks</td>\n",
              "      <td>crime drama film-noir</td>\n",
              "    </tr>\n",
              "  </tbody>\n",
              "</table>\n",
              "</div>\n",
              "      <button class=\"colab-df-convert\" onclick=\"convertToInteractive('df-6d78544f-5712-4ff2-99e8-5ca1421335b0')\"\n",
              "              title=\"Convert this dataframe to an interactive table.\"\n",
              "              style=\"display:none;\">\n",
              "        \n",
              "  <svg xmlns=\"http://www.w3.org/2000/svg\" height=\"24px\"viewBox=\"0 0 24 24\"\n",
              "       width=\"24px\">\n",
              "    <path d=\"M0 0h24v24H0V0z\" fill=\"none\"/>\n",
              "    <path d=\"M18.56 5.44l.94 2.06.94-2.06 2.06-.94-2.06-.94-.94-2.06-.94 2.06-2.06.94zm-11 1L8.5 8.5l.94-2.06 2.06-.94-2.06-.94L8.5 2.5l-.94 2.06-2.06.94zm10 10l.94 2.06.94-2.06 2.06-.94-2.06-.94-.94-2.06-.94 2.06-2.06.94z\"/><path d=\"M17.41 7.96l-1.37-1.37c-.4-.4-.92-.59-1.43-.59-.52 0-1.04.2-1.43.59L10.3 9.45l-7.72 7.72c-.78.78-.78 2.05 0 2.83L4 21.41c.39.39.9.59 1.41.59.51 0 1.02-.2 1.41-.59l7.78-7.78 2.81-2.81c.8-.78.8-2.07 0-2.86zM5.41 20L4 18.59l7.72-7.72 1.47 1.35L5.41 20z\"/>\n",
              "  </svg>\n",
              "      </button>\n",
              "      \n",
              "  <style>\n",
              "    .colab-df-container {\n",
              "      display:flex;\n",
              "      flex-wrap:wrap;\n",
              "      gap: 12px;\n",
              "    }\n",
              "\n",
              "    .colab-df-convert {\n",
              "      background-color: #E8F0FE;\n",
              "      border: none;\n",
              "      border-radius: 50%;\n",
              "      cursor: pointer;\n",
              "      display: none;\n",
              "      fill: #1967D2;\n",
              "      height: 32px;\n",
              "      padding: 0 0 0 0;\n",
              "      width: 32px;\n",
              "    }\n",
              "\n",
              "    .colab-df-convert:hover {\n",
              "      background-color: #E2EBFA;\n",
              "      box-shadow: 0px 1px 2px rgba(60, 64, 67, 0.3), 0px 1px 3px 1px rgba(60, 64, 67, 0.15);\n",
              "      fill: #174EA6;\n",
              "    }\n",
              "\n",
              "    [theme=dark] .colab-df-convert {\n",
              "      background-color: #3B4455;\n",
              "      fill: #D2E3FC;\n",
              "    }\n",
              "\n",
              "    [theme=dark] .colab-df-convert:hover {\n",
              "      background-color: #434B5C;\n",
              "      box-shadow: 0px 1px 3px 1px rgba(0, 0, 0, 0.15);\n",
              "      filter: drop-shadow(0px 1px 2px rgba(0, 0, 0, 0.3));\n",
              "      fill: #FFFFFF;\n",
              "    }\n",
              "  </style>\n",
              "\n",
              "      <script>\n",
              "        const buttonEl =\n",
              "          document.querySelector('#df-6d78544f-5712-4ff2-99e8-5ca1421335b0 button.colab-df-convert');\n",
              "        buttonEl.style.display =\n",
              "          google.colab.kernel.accessAllowed ? 'block' : 'none';\n",
              "\n",
              "        async function convertToInteractive(key) {\n",
              "          const element = document.querySelector('#df-6d78544f-5712-4ff2-99e8-5ca1421335b0');\n",
              "          const dataTable =\n",
              "            await google.colab.kernel.invokeFunction('convertToInteractive',\n",
              "                                                     [key], {});\n",
              "          if (!dataTable) return;\n",
              "\n",
              "          const docLinkHtml = 'Like what you see? Visit the ' +\n",
              "            '<a target=\"_blank\" href=https://colab.research.google.com/notebooks/data_table.ipynb>data table notebook</a>'\n",
              "            + ' to learn more about interactive tables.';\n",
              "          element.innerHTML = '';\n",
              "          dataTable['output_type'] = 'display_data';\n",
              "          await google.colab.output.renderOutput(dataTable, element);\n",
              "          const docLink = document.createElement('div');\n",
              "          docLink.innerHTML = docLinkHtml;\n",
              "          element.appendChild(docLink);\n",
              "        }\n",
              "      </script>\n",
              "    </div>\n",
              "  </div>\n",
              "  "
            ]
          },
          "metadata": {},
          "execution_count": 57
        }
      ]
    },
    {
      "cell_type": "code",
      "source": [
        "movies[movies['title'].str.contains(', a')]"
      ],
      "metadata": {
        "colab": {
          "base_uri": "https://localhost:8080/",
          "height": 143
        },
        "id": "vjcNiGq4mV85",
        "outputId": "ddb00950-16dc-4b45-a180-35624fb2ad8b"
      },
      "execution_count": 179,
      "outputs": [
        {
          "output_type": "execute_result",
          "data": {
            "text/plain": [
              "      movie_id                                      title           genre\n",
              "1169      1186                   sex, lies, and videotape           drama\n",
              "2820      2889                            mystery, alaska          comedy\n",
              "2883      2952  hard 8 (a.k.a. sydney, a.k.a. hard eight)  crime thriller"
            ],
            "text/html": [
              "\n",
              "  <div id=\"df-ec5aa4c5-7d57-4b4e-b1c6-a3366036b7d6\">\n",
              "    <div class=\"colab-df-container\">\n",
              "      <div>\n",
              "<style scoped>\n",
              "    .dataframe tbody tr th:only-of-type {\n",
              "        vertical-align: middle;\n",
              "    }\n",
              "\n",
              "    .dataframe tbody tr th {\n",
              "        vertical-align: top;\n",
              "    }\n",
              "\n",
              "    .dataframe thead th {\n",
              "        text-align: right;\n",
              "    }\n",
              "</style>\n",
              "<table border=\"1\" class=\"dataframe\">\n",
              "  <thead>\n",
              "    <tr style=\"text-align: right;\">\n",
              "      <th></th>\n",
              "      <th>movie_id</th>\n",
              "      <th>title</th>\n",
              "      <th>genre</th>\n",
              "    </tr>\n",
              "  </thead>\n",
              "  <tbody>\n",
              "    <tr>\n",
              "      <th>1169</th>\n",
              "      <td>1186</td>\n",
              "      <td>sex, lies, and videotape</td>\n",
              "      <td>drama</td>\n",
              "    </tr>\n",
              "    <tr>\n",
              "      <th>2820</th>\n",
              "      <td>2889</td>\n",
              "      <td>mystery, alaska</td>\n",
              "      <td>comedy</td>\n",
              "    </tr>\n",
              "    <tr>\n",
              "      <th>2883</th>\n",
              "      <td>2952</td>\n",
              "      <td>hard 8 (a.k.a. sydney, a.k.a. hard eight)</td>\n",
              "      <td>crime thriller</td>\n",
              "    </tr>\n",
              "  </tbody>\n",
              "</table>\n",
              "</div>\n",
              "      <button class=\"colab-df-convert\" onclick=\"convertToInteractive('df-ec5aa4c5-7d57-4b4e-b1c6-a3366036b7d6')\"\n",
              "              title=\"Convert this dataframe to an interactive table.\"\n",
              "              style=\"display:none;\">\n",
              "        \n",
              "  <svg xmlns=\"http://www.w3.org/2000/svg\" height=\"24px\"viewBox=\"0 0 24 24\"\n",
              "       width=\"24px\">\n",
              "    <path d=\"M0 0h24v24H0V0z\" fill=\"none\"/>\n",
              "    <path d=\"M18.56 5.44l.94 2.06.94-2.06 2.06-.94-2.06-.94-.94-2.06-.94 2.06-2.06.94zm-11 1L8.5 8.5l.94-2.06 2.06-.94-2.06-.94L8.5 2.5l-.94 2.06-2.06.94zm10 10l.94 2.06.94-2.06 2.06-.94-2.06-.94-.94-2.06-.94 2.06-2.06.94z\"/><path d=\"M17.41 7.96l-1.37-1.37c-.4-.4-.92-.59-1.43-.59-.52 0-1.04.2-1.43.59L10.3 9.45l-7.72 7.72c-.78.78-.78 2.05 0 2.83L4 21.41c.39.39.9.59 1.41.59.51 0 1.02-.2 1.41-.59l7.78-7.78 2.81-2.81c.8-.78.8-2.07 0-2.86zM5.41 20L4 18.59l7.72-7.72 1.47 1.35L5.41 20z\"/>\n",
              "  </svg>\n",
              "      </button>\n",
              "      \n",
              "  <style>\n",
              "    .colab-df-container {\n",
              "      display:flex;\n",
              "      flex-wrap:wrap;\n",
              "      gap: 12px;\n",
              "    }\n",
              "\n",
              "    .colab-df-convert {\n",
              "      background-color: #E8F0FE;\n",
              "      border: none;\n",
              "      border-radius: 50%;\n",
              "      cursor: pointer;\n",
              "      display: none;\n",
              "      fill: #1967D2;\n",
              "      height: 32px;\n",
              "      padding: 0 0 0 0;\n",
              "      width: 32px;\n",
              "    }\n",
              "\n",
              "    .colab-df-convert:hover {\n",
              "      background-color: #E2EBFA;\n",
              "      box-shadow: 0px 1px 2px rgba(60, 64, 67, 0.3), 0px 1px 3px 1px rgba(60, 64, 67, 0.15);\n",
              "      fill: #174EA6;\n",
              "    }\n",
              "\n",
              "    [theme=dark] .colab-df-convert {\n",
              "      background-color: #3B4455;\n",
              "      fill: #D2E3FC;\n",
              "    }\n",
              "\n",
              "    [theme=dark] .colab-df-convert:hover {\n",
              "      background-color: #434B5C;\n",
              "      box-shadow: 0px 1px 3px 1px rgba(0, 0, 0, 0.15);\n",
              "      filter: drop-shadow(0px 1px 2px rgba(0, 0, 0, 0.3));\n",
              "      fill: #FFFFFF;\n",
              "    }\n",
              "  </style>\n",
              "\n",
              "      <script>\n",
              "        const buttonEl =\n",
              "          document.querySelector('#df-ec5aa4c5-7d57-4b4e-b1c6-a3366036b7d6 button.colab-df-convert');\n",
              "        buttonEl.style.display =\n",
              "          google.colab.kernel.accessAllowed ? 'block' : 'none';\n",
              "\n",
              "        async function convertToInteractive(key) {\n",
              "          const element = document.querySelector('#df-ec5aa4c5-7d57-4b4e-b1c6-a3366036b7d6');\n",
              "          const dataTable =\n",
              "            await google.colab.kernel.invokeFunction('convertToInteractive',\n",
              "                                                     [key], {});\n",
              "          if (!dataTable) return;\n",
              "\n",
              "          const docLinkHtml = 'Like what you see? Visit the ' +\n",
              "            '<a target=\"_blank\" href=https://colab.research.google.com/notebooks/data_table.ipynb>data table notebook</a>'\n",
              "            + ' to learn more about interactive tables.';\n",
              "          element.innerHTML = '';\n",
              "          dataTable['output_type'] = 'display_data';\n",
              "          await google.colab.output.renderOutput(dataTable, element);\n",
              "          const docLink = document.createElement('div');\n",
              "          docLink.innerHTML = docLinkHtml;\n",
              "          element.appendChild(docLink);\n",
              "        }\n",
              "      </script>\n",
              "    </div>\n",
              "  </div>\n",
              "  "
            ]
          },
          "metadata": {},
          "execution_count": 179
        }
      ]
    },
    {
      "cell_type": "code",
      "source": [
        "movies[movies['title'].str.contains(', an')]"
      ],
      "metadata": {
        "colab": {
          "base_uri": "https://localhost:8080/",
          "height": 81
        },
        "id": "A-9QGTp8mY3d",
        "outputId": "0564dd62-612e-49a6-d2c4-dfe796e820d2"
      },
      "execution_count": 59,
      "outputs": [
        {
          "output_type": "execute_result",
          "data": {
            "text/plain": [
              "      movie_id                     title  genre\n",
              "1169      1186  sex, lies, and videotape  drama"
            ],
            "text/html": [
              "\n",
              "  <div id=\"df-e08f7cc0-1667-4ab2-8892-b75299eda27c\">\n",
              "    <div class=\"colab-df-container\">\n",
              "      <div>\n",
              "<style scoped>\n",
              "    .dataframe tbody tr th:only-of-type {\n",
              "        vertical-align: middle;\n",
              "    }\n",
              "\n",
              "    .dataframe tbody tr th {\n",
              "        vertical-align: top;\n",
              "    }\n",
              "\n",
              "    .dataframe thead th {\n",
              "        text-align: right;\n",
              "    }\n",
              "</style>\n",
              "<table border=\"1\" class=\"dataframe\">\n",
              "  <thead>\n",
              "    <tr style=\"text-align: right;\">\n",
              "      <th></th>\n",
              "      <th>movie_id</th>\n",
              "      <th>title</th>\n",
              "      <th>genre</th>\n",
              "    </tr>\n",
              "  </thead>\n",
              "  <tbody>\n",
              "    <tr>\n",
              "      <th>1169</th>\n",
              "      <td>1186</td>\n",
              "      <td>sex, lies, and videotape</td>\n",
              "      <td>drama</td>\n",
              "    </tr>\n",
              "  </tbody>\n",
              "</table>\n",
              "</div>\n",
              "      <button class=\"colab-df-convert\" onclick=\"convertToInteractive('df-e08f7cc0-1667-4ab2-8892-b75299eda27c')\"\n",
              "              title=\"Convert this dataframe to an interactive table.\"\n",
              "              style=\"display:none;\">\n",
              "        \n",
              "  <svg xmlns=\"http://www.w3.org/2000/svg\" height=\"24px\"viewBox=\"0 0 24 24\"\n",
              "       width=\"24px\">\n",
              "    <path d=\"M0 0h24v24H0V0z\" fill=\"none\"/>\n",
              "    <path d=\"M18.56 5.44l.94 2.06.94-2.06 2.06-.94-2.06-.94-.94-2.06-.94 2.06-2.06.94zm-11 1L8.5 8.5l.94-2.06 2.06-.94-2.06-.94L8.5 2.5l-.94 2.06-2.06.94zm10 10l.94 2.06.94-2.06 2.06-.94-2.06-.94-.94-2.06-.94 2.06-2.06.94z\"/><path d=\"M17.41 7.96l-1.37-1.37c-.4-.4-.92-.59-1.43-.59-.52 0-1.04.2-1.43.59L10.3 9.45l-7.72 7.72c-.78.78-.78 2.05 0 2.83L4 21.41c.39.39.9.59 1.41.59.51 0 1.02-.2 1.41-.59l7.78-7.78 2.81-2.81c.8-.78.8-2.07 0-2.86zM5.41 20L4 18.59l7.72-7.72 1.47 1.35L5.41 20z\"/>\n",
              "  </svg>\n",
              "      </button>\n",
              "      \n",
              "  <style>\n",
              "    .colab-df-container {\n",
              "      display:flex;\n",
              "      flex-wrap:wrap;\n",
              "      gap: 12px;\n",
              "    }\n",
              "\n",
              "    .colab-df-convert {\n",
              "      background-color: #E8F0FE;\n",
              "      border: none;\n",
              "      border-radius: 50%;\n",
              "      cursor: pointer;\n",
              "      display: none;\n",
              "      fill: #1967D2;\n",
              "      height: 32px;\n",
              "      padding: 0 0 0 0;\n",
              "      width: 32px;\n",
              "    }\n",
              "\n",
              "    .colab-df-convert:hover {\n",
              "      background-color: #E2EBFA;\n",
              "      box-shadow: 0px 1px 2px rgba(60, 64, 67, 0.3), 0px 1px 3px 1px rgba(60, 64, 67, 0.15);\n",
              "      fill: #174EA6;\n",
              "    }\n",
              "\n",
              "    [theme=dark] .colab-df-convert {\n",
              "      background-color: #3B4455;\n",
              "      fill: #D2E3FC;\n",
              "    }\n",
              "\n",
              "    [theme=dark] .colab-df-convert:hover {\n",
              "      background-color: #434B5C;\n",
              "      box-shadow: 0px 1px 3px 1px rgba(0, 0, 0, 0.15);\n",
              "      filter: drop-shadow(0px 1px 2px rgba(0, 0, 0, 0.3));\n",
              "      fill: #FFFFFF;\n",
              "    }\n",
              "  </style>\n",
              "\n",
              "      <script>\n",
              "        const buttonEl =\n",
              "          document.querySelector('#df-e08f7cc0-1667-4ab2-8892-b75299eda27c button.colab-df-convert');\n",
              "        buttonEl.style.display =\n",
              "          google.colab.kernel.accessAllowed ? 'block' : 'none';\n",
              "\n",
              "        async function convertToInteractive(key) {\n",
              "          const element = document.querySelector('#df-e08f7cc0-1667-4ab2-8892-b75299eda27c');\n",
              "          const dataTable =\n",
              "            await google.colab.kernel.invokeFunction('convertToInteractive',\n",
              "                                                     [key], {});\n",
              "          if (!dataTable) return;\n",
              "\n",
              "          const docLinkHtml = 'Like what you see? Visit the ' +\n",
              "            '<a target=\"_blank\" href=https://colab.research.google.com/notebooks/data_table.ipynb>data table notebook</a>'\n",
              "            + ' to learn more about interactive tables.';\n",
              "          element.innerHTML = '';\n",
              "          dataTable['output_type'] = 'display_data';\n",
              "          await google.colab.output.renderOutput(dataTable, element);\n",
              "          const docLink = document.createElement('div');\n",
              "          docLink.innerHTML = docLinkHtml;\n",
              "          element.appendChild(docLink);\n",
              "        }\n",
              "      </script>\n",
              "    </div>\n",
              "  </div>\n",
              "  "
            ]
          },
          "metadata": {},
          "execution_count": 59
        }
      ]
    },
    {
      "cell_type": "code",
      "source": [
        "# 샘플 추출 후 전처리 결과 확인\n",
        "movies.iloc[2241]\t"
      ],
      "metadata": {
        "colab": {
          "base_uri": "https://localhost:8080/"
        },
        "id": "m_PU-nIAYEQt",
        "outputId": "325b98d1-3e54-4a3d-9154-c9db43afedfc"
      },
      "execution_count": 60,
      "outputs": [
        {
          "output_type": "execute_result",
          "data": {
            "text/plain": [
              "movie_id      2310\n",
              "title       mighty\n",
              "genre        drama\n",
              "Name: 2241, dtype: object"
            ]
          },
          "metadata": {},
          "execution_count": 60
        }
      ]
    },
    {
      "cell_type": "code",
      "source": [
        "# ratings 와 movies 데이터 프레임 합치기\n",
        "ratings = ratings.join(movies.set_index('movie_id'), on='movie_id')\n",
        "ratings.head(10)"
      ],
      "metadata": {
        "colab": {
          "base_uri": "https://localhost:8080/",
          "height": 363
        },
        "id": "b5XXyHCVTIII",
        "outputId": "da1b2438-94e0-4c02-8eeb-20762df7927e"
      },
      "execution_count": 180,
      "outputs": [
        {
          "output_type": "execute_result",
          "data": {
            "text/plain": [
              "   user_id  movie_id  counts           timestamp  \\\n",
              "0        1      1193       5 2000-12-31 22:12:40   \n",
              "1        1       661       3 2000-12-31 22:35:09   \n",
              "2        1       914       3 2000-12-31 22:32:48   \n",
              "3        1      3408       4 2000-12-31 22:04:35   \n",
              "4        1      2355       5 2001-01-06 23:38:11   \n",
              "5        1      1197       3 2000-12-31 22:37:48   \n",
              "6        1      1287       5 2000-12-31 22:33:59   \n",
              "7        1      2804       5 2000-12-31 22:11:59   \n",
              "8        1       594       4 2000-12-31 22:37:48   \n",
              "9        1       919       4 2000-12-31 22:22:48   \n",
              "\n",
              "                             title                               genre  \n",
              "0  one flew over the cuckoo's nest                               drama  \n",
              "1        james and the giant peach        animation children's musical  \n",
              "2                     my fair lady                     musical romance  \n",
              "3                  erin brockovich                               drama  \n",
              "4                       bug's life         animation children's comedy  \n",
              "5                   princess bride     action adventure comedy romance  \n",
              "6                          ben-hur              action adventure drama  \n",
              "7                  christmas story                        comedy drama  \n",
              "8  snow white and the seven dwarfs        animation children's musical  \n",
              "9                     wizard of oz  adventure children's drama musical  "
            ],
            "text/html": [
              "\n",
              "  <div id=\"df-df9dfa68-757b-4129-a702-226a10ae4830\">\n",
              "    <div class=\"colab-df-container\">\n",
              "      <div>\n",
              "<style scoped>\n",
              "    .dataframe tbody tr th:only-of-type {\n",
              "        vertical-align: middle;\n",
              "    }\n",
              "\n",
              "    .dataframe tbody tr th {\n",
              "        vertical-align: top;\n",
              "    }\n",
              "\n",
              "    .dataframe thead th {\n",
              "        text-align: right;\n",
              "    }\n",
              "</style>\n",
              "<table border=\"1\" class=\"dataframe\">\n",
              "  <thead>\n",
              "    <tr style=\"text-align: right;\">\n",
              "      <th></th>\n",
              "      <th>user_id</th>\n",
              "      <th>movie_id</th>\n",
              "      <th>counts</th>\n",
              "      <th>timestamp</th>\n",
              "      <th>title</th>\n",
              "      <th>genre</th>\n",
              "    </tr>\n",
              "  </thead>\n",
              "  <tbody>\n",
              "    <tr>\n",
              "      <th>0</th>\n",
              "      <td>1</td>\n",
              "      <td>1193</td>\n",
              "      <td>5</td>\n",
              "      <td>2000-12-31 22:12:40</td>\n",
              "      <td>one flew over the cuckoo's nest</td>\n",
              "      <td>drama</td>\n",
              "    </tr>\n",
              "    <tr>\n",
              "      <th>1</th>\n",
              "      <td>1</td>\n",
              "      <td>661</td>\n",
              "      <td>3</td>\n",
              "      <td>2000-12-31 22:35:09</td>\n",
              "      <td>james and the giant peach</td>\n",
              "      <td>animation children's musical</td>\n",
              "    </tr>\n",
              "    <tr>\n",
              "      <th>2</th>\n",
              "      <td>1</td>\n",
              "      <td>914</td>\n",
              "      <td>3</td>\n",
              "      <td>2000-12-31 22:32:48</td>\n",
              "      <td>my fair lady</td>\n",
              "      <td>musical romance</td>\n",
              "    </tr>\n",
              "    <tr>\n",
              "      <th>3</th>\n",
              "      <td>1</td>\n",
              "      <td>3408</td>\n",
              "      <td>4</td>\n",
              "      <td>2000-12-31 22:04:35</td>\n",
              "      <td>erin brockovich</td>\n",
              "      <td>drama</td>\n",
              "    </tr>\n",
              "    <tr>\n",
              "      <th>4</th>\n",
              "      <td>1</td>\n",
              "      <td>2355</td>\n",
              "      <td>5</td>\n",
              "      <td>2001-01-06 23:38:11</td>\n",
              "      <td>bug's life</td>\n",
              "      <td>animation children's comedy</td>\n",
              "    </tr>\n",
              "    <tr>\n",
              "      <th>5</th>\n",
              "      <td>1</td>\n",
              "      <td>1197</td>\n",
              "      <td>3</td>\n",
              "      <td>2000-12-31 22:37:48</td>\n",
              "      <td>princess bride</td>\n",
              "      <td>action adventure comedy romance</td>\n",
              "    </tr>\n",
              "    <tr>\n",
              "      <th>6</th>\n",
              "      <td>1</td>\n",
              "      <td>1287</td>\n",
              "      <td>5</td>\n",
              "      <td>2000-12-31 22:33:59</td>\n",
              "      <td>ben-hur</td>\n",
              "      <td>action adventure drama</td>\n",
              "    </tr>\n",
              "    <tr>\n",
              "      <th>7</th>\n",
              "      <td>1</td>\n",
              "      <td>2804</td>\n",
              "      <td>5</td>\n",
              "      <td>2000-12-31 22:11:59</td>\n",
              "      <td>christmas story</td>\n",
              "      <td>comedy drama</td>\n",
              "    </tr>\n",
              "    <tr>\n",
              "      <th>8</th>\n",
              "      <td>1</td>\n",
              "      <td>594</td>\n",
              "      <td>4</td>\n",
              "      <td>2000-12-31 22:37:48</td>\n",
              "      <td>snow white and the seven dwarfs</td>\n",
              "      <td>animation children's musical</td>\n",
              "    </tr>\n",
              "    <tr>\n",
              "      <th>9</th>\n",
              "      <td>1</td>\n",
              "      <td>919</td>\n",
              "      <td>4</td>\n",
              "      <td>2000-12-31 22:22:48</td>\n",
              "      <td>wizard of oz</td>\n",
              "      <td>adventure children's drama musical</td>\n",
              "    </tr>\n",
              "  </tbody>\n",
              "</table>\n",
              "</div>\n",
              "      <button class=\"colab-df-convert\" onclick=\"convertToInteractive('df-df9dfa68-757b-4129-a702-226a10ae4830')\"\n",
              "              title=\"Convert this dataframe to an interactive table.\"\n",
              "              style=\"display:none;\">\n",
              "        \n",
              "  <svg xmlns=\"http://www.w3.org/2000/svg\" height=\"24px\"viewBox=\"0 0 24 24\"\n",
              "       width=\"24px\">\n",
              "    <path d=\"M0 0h24v24H0V0z\" fill=\"none\"/>\n",
              "    <path d=\"M18.56 5.44l.94 2.06.94-2.06 2.06-.94-2.06-.94-.94-2.06-.94 2.06-2.06.94zm-11 1L8.5 8.5l.94-2.06 2.06-.94-2.06-.94L8.5 2.5l-.94 2.06-2.06.94zm10 10l.94 2.06.94-2.06 2.06-.94-2.06-.94-.94-2.06-.94 2.06-2.06.94z\"/><path d=\"M17.41 7.96l-1.37-1.37c-.4-.4-.92-.59-1.43-.59-.52 0-1.04.2-1.43.59L10.3 9.45l-7.72 7.72c-.78.78-.78 2.05 0 2.83L4 21.41c.39.39.9.59 1.41.59.51 0 1.02-.2 1.41-.59l7.78-7.78 2.81-2.81c.8-.78.8-2.07 0-2.86zM5.41 20L4 18.59l7.72-7.72 1.47 1.35L5.41 20z\"/>\n",
              "  </svg>\n",
              "      </button>\n",
              "      \n",
              "  <style>\n",
              "    .colab-df-container {\n",
              "      display:flex;\n",
              "      flex-wrap:wrap;\n",
              "      gap: 12px;\n",
              "    }\n",
              "\n",
              "    .colab-df-convert {\n",
              "      background-color: #E8F0FE;\n",
              "      border: none;\n",
              "      border-radius: 50%;\n",
              "      cursor: pointer;\n",
              "      display: none;\n",
              "      fill: #1967D2;\n",
              "      height: 32px;\n",
              "      padding: 0 0 0 0;\n",
              "      width: 32px;\n",
              "    }\n",
              "\n",
              "    .colab-df-convert:hover {\n",
              "      background-color: #E2EBFA;\n",
              "      box-shadow: 0px 1px 2px rgba(60, 64, 67, 0.3), 0px 1px 3px 1px rgba(60, 64, 67, 0.15);\n",
              "      fill: #174EA6;\n",
              "    }\n",
              "\n",
              "    [theme=dark] .colab-df-convert {\n",
              "      background-color: #3B4455;\n",
              "      fill: #D2E3FC;\n",
              "    }\n",
              "\n",
              "    [theme=dark] .colab-df-convert:hover {\n",
              "      background-color: #434B5C;\n",
              "      box-shadow: 0px 1px 3px 1px rgba(0, 0, 0, 0.15);\n",
              "      filter: drop-shadow(0px 1px 2px rgba(0, 0, 0, 0.3));\n",
              "      fill: #FFFFFF;\n",
              "    }\n",
              "  </style>\n",
              "\n",
              "      <script>\n",
              "        const buttonEl =\n",
              "          document.querySelector('#df-df9dfa68-757b-4129-a702-226a10ae4830 button.colab-df-convert');\n",
              "        buttonEl.style.display =\n",
              "          google.colab.kernel.accessAllowed ? 'block' : 'none';\n",
              "\n",
              "        async function convertToInteractive(key) {\n",
              "          const element = document.querySelector('#df-df9dfa68-757b-4129-a702-226a10ae4830');\n",
              "          const dataTable =\n",
              "            await google.colab.kernel.invokeFunction('convertToInteractive',\n",
              "                                                     [key], {});\n",
              "          if (!dataTable) return;\n",
              "\n",
              "          const docLinkHtml = 'Like what you see? Visit the ' +\n",
              "            '<a target=\"_blank\" href=https://colab.research.google.com/notebooks/data_table.ipynb>data table notebook</a>'\n",
              "            + ' to learn more about interactive tables.';\n",
              "          element.innerHTML = '';\n",
              "          dataTable['output_type'] = 'display_data';\n",
              "          await google.colab.output.renderOutput(dataTable, element);\n",
              "          const docLink = document.createElement('div');\n",
              "          docLink.innerHTML = docLinkHtml;\n",
              "          element.appendChild(docLink);\n",
              "        }\n",
              "      </script>\n",
              "    </div>\n",
              "  </div>\n",
              "  "
            ]
          },
          "metadata": {},
          "execution_count": 180
        }
      ]
    },
    {
      "cell_type": "code",
      "source": [
        "# 결측치 확인\n",
        "ratings.info()\n",
        "print(ratings.isnull().sum())\n",
        "\n",
        "# 결측치가 없음을 확인하였다."
      ],
      "metadata": {
        "colab": {
          "base_uri": "https://localhost:8080/"
        },
        "id": "tqrf5TL7Tbh7",
        "outputId": "cc589162-0d5c-4938-8c76-43d60be00137"
      },
      "execution_count": 181,
      "outputs": [
        {
          "output_type": "stream",
          "name": "stdout",
          "text": [
            "<class 'pandas.core.frame.DataFrame'>\n",
            "Int64Index: 836478 entries, 0 to 1000208\n",
            "Data columns (total 6 columns):\n",
            " #   Column     Non-Null Count   Dtype         \n",
            "---  ------     --------------   -----         \n",
            " 0   user_id    836478 non-null  int64         \n",
            " 1   movie_id   836478 non-null  int64         \n",
            " 2   counts     836478 non-null  int64         \n",
            " 3   timestamp  836478 non-null  datetime64[ns]\n",
            " 4   title      836478 non-null  object        \n",
            " 5   genre      836478 non-null  object        \n",
            "dtypes: datetime64[ns](1), int64(3), object(2)\n",
            "memory usage: 44.7+ MB\n",
            "user_id      0\n",
            "movie_id     0\n",
            "counts       0\n",
            "timestamp    0\n",
            "title        0\n",
            "genre        0\n",
            "dtype: int64\n"
          ]
        }
      ]
    },
    {
      "cell_type": "markdown",
      "source": [
        "# 2) 분석해 봅시다.\n",
        "\n",
        "- ratings에 있는 유니크한 영화 개수\n",
        "- ratings에 있는 유니크한 사용자 수\n",
        "- 가장 인기 있는 영화 30개(인기순)"
      ],
      "metadata": {
        "id": "SjqcKjnKp5Or"
      }
    },
    {
      "cell_type": "code",
      "source": [
        "# ratings에 있는 유니크한 영화 개수\n",
        "print(ratings['movie_id'].nunique())\n",
        "\n",
        "# 총 3628개의 영화가 있다."
      ],
      "metadata": {
        "colab": {
          "base_uri": "https://localhost:8080/"
        },
        "id": "u1iqX1HkLh-J",
        "outputId": "b3cdd22c-7c3d-4f72-b981-a0044555b85e"
      },
      "execution_count": null,
      "outputs": [
        {
          "output_type": "stream",
          "name": "stdout",
          "text": [
            "3628\n"
          ]
        }
      ]
    },
    {
      "cell_type": "code",
      "source": [
        "# ratings에 있는 유니크한 사용자 수\n",
        "print(ratings['user_id'].nunique())\n",
        "\n",
        "# 총 6039명의 사용자가 있다."
      ],
      "metadata": {
        "colab": {
          "base_uri": "https://localhost:8080/"
        },
        "id": "dDdwU7ilMBAs",
        "outputId": "1de7a4b2-7858-44b7-f405-23abc365d606"
      },
      "execution_count": null,
      "outputs": [
        {
          "output_type": "stream",
          "name": "stdout",
          "text": [
            "6039\n"
          ]
        }
      ]
    },
    {
      "cell_type": "code",
      "source": [
        "# 가장 인기 있는 영화 30개(인기순)\n",
        "movies_count = ratings.groupby(by = ['movie_id', 'title'])['user_id'].count()\n",
        "movies_count.sort_values(ascending=False).head(30)"
      ],
      "metadata": {
        "colab": {
          "base_uri": "https://localhost:8080/"
        },
        "id": "tTsSxGpGMxqs",
        "outputId": "c44529a0-04c3-47e0-9235-76756409f27e"
      },
      "execution_count": 182,
      "outputs": [
        {
          "output_type": "execute_result",
          "data": {
            "text/plain": [
              "movie_id  title                                         \n",
              "2858      american beauty                                   3211\n",
              "260       star wars: episode iv - a new hope                2910\n",
              "1196      star wars: episode v - the empire strikes back    2885\n",
              "1210      star wars: episode vi - return of the jedi        2716\n",
              "2028      saving private ryan                               2561\n",
              "589       terminator 2: judgment day                        2509\n",
              "593       silence of the lambs                              2498\n",
              "1198      raiders of the lost ark                           2473\n",
              "1270      back to the future                                2460\n",
              "2571      matrix                                            2434\n",
              "480       jurassic park                                     2413\n",
              "2762      sixth sense                                       2385\n",
              "608       fargo                                             2371\n",
              "110       braveheart                                        2314\n",
              "1580      men in black                                      2297\n",
              "527       schindler's list                                  2257\n",
              "1197      princess bride                                    2252\n",
              "2396      shakespeare in love                               2213\n",
              "1617      l.a. confidential                                 2210\n",
              "318       shawshank redemption                              2194\n",
              "858       godfather                                         2167\n",
              "1265      groundhog day                                     2121\n",
              "1097      e.t. the extra-terrestrial                        2102\n",
              "2997      being john malkovich                              2066\n",
              "2716      ghostbusters                                      2051\n",
              "296       pulp fiction                                      2030\n",
              "356       forrest gump                                      2022\n",
              "1240      terminator                                        2019\n",
              "1         toy story                                         2000\n",
              "457       fugitive                                          1941\n",
              "Name: user_id, dtype: int64"
            ]
          },
          "metadata": {},
          "execution_count": 182
        }
      ]
    },
    {
      "cell_type": "markdown",
      "source": [
        "# 3) 내가 선호하는 영화를 5가지 골라서 ratings에 추가해 줍시다."
      ],
      "metadata": {
        "id": "zZAmJf8Hp7gQ"
      }
    },
    {
      "cell_type": "code",
      "source": [
        "# 내가 좋아하는 영화 목록 딕셔너리 만들기\n",
        "my_favorite = {2571:'matrix', 1580:'men in black', 2716:'ghostbusters', 1240:'terminator', 1:'toy story'}"
      ],
      "metadata": {
        "id": "5bB2_094zTRX"
      },
      "execution_count": 183,
      "outputs": []
    },
    {
      "cell_type": "markdown",
      "source": [
        "(1) [extend 사용 이유](https://m.blog.naver.com/wideeyed/221541104629)"
      ],
      "metadata": {
        "id": "D3hpQqpCzDVF"
      }
    },
    {
      "cell_type": "code",
      "source": [
        "# 영화 제목으로 장르 추출하는 함수\n",
        "# my_favorite에서 value값을 가져와 타이틀과 일치하면 장르를 추출하여 genres_of_my_favorite에 리스트로 저장\n",
        "\n",
        "def get_genre_of_movie(my_favorite):\n",
        "    genres_of_my_favorite = []\n",
        "    for k, v in my_favorite.items():\n",
        "        genres_of_my_favorite.extend(movies[movies['title'] == v]['genre'].to_list())\n",
        "    return genres_of_my_favorite"
      ],
      "metadata": {
        "id": "D2UYj5leuX6W"
      },
      "execution_count": 184,
      "outputs": []
    },
    {
      "cell_type": "code",
      "source": [
        "# my_favorite의 장르 확인\n",
        "get_genre_of_movie(my_favorite)"
      ],
      "metadata": {
        "colab": {
          "base_uri": "https://localhost:8080/"
        },
        "id": "giA3t0kV05rD",
        "outputId": "fdf45b59-4499-4609-dfda-a309d1b07c53"
      },
      "execution_count": 191,
      "outputs": [
        {
          "output_type": "execute_result",
          "data": {
            "text/plain": [
              "['action sci-fi thriller',\n",
              " 'action adventure comedy sci-fi',\n",
              " 'comedy horror',\n",
              " 'action sci-fi thriller',\n",
              " \"animation children's comedy\"]"
            ]
          },
          "metadata": {},
          "execution_count": 191
        }
      ]
    },
    {
      "cell_type": "code",
      "source": [
        "# 오류 1\n",
        "# my_favorite의 장르 확인에서 장르가 5개의 문자열이 추출되어야하는데 6개가 추출되었다.\n",
        "# 이는 다른 영화였지만 전처리를 거치면서 같은 이름으로 전처리가 되었을 가능성이 높다.\n",
        "# 실제로 위에서 예상한 것처럼 Toy Story라는 영화가 전처리를 거친 후 전부 toy story가 된것이다.\n",
        "movies[movies['title'].str.contains('Toy')]"
      ],
      "metadata": {
        "colab": {
          "base_uri": "https://localhost:8080/",
          "height": 206
        },
        "id": "a0XH_1wT19nU",
        "outputId": "d9d564d7-b612-43ed-bc34-a1d32f7ec816"
      },
      "execution_count": 88,
      "outputs": [
        {
          "output_type": "execute_result",
          "data": {
            "text/plain": [
              "      movie_id                                              title  \\\n",
              "0            1                                   Toy Story (1995)   \n",
              "1948      2017                            Babes in Toyland (1961)   \n",
              "2184      2253                                        Toys (1992)   \n",
              "3017      3086  March of the Wooden Soldiers (a.k.a. Laurel & ...   \n",
              "3045      3114                                 Toy Story 2 (1999)   \n",
              "\n",
              "                            genre  \n",
              "0     Animation|Children's|Comedy  \n",
              "1948   Children's|Fantasy|Musical  \n",
              "2184        Action|Comedy|Fantasy  \n",
              "3017                       Comedy  \n",
              "3045  Animation|Children's|Comedy  "
            ],
            "text/html": [
              "\n",
              "  <div id=\"df-3c518b3d-26b5-46a0-b697-b3ff0c4c1e43\">\n",
              "    <div class=\"colab-df-container\">\n",
              "      <div>\n",
              "<style scoped>\n",
              "    .dataframe tbody tr th:only-of-type {\n",
              "        vertical-align: middle;\n",
              "    }\n",
              "\n",
              "    .dataframe tbody tr th {\n",
              "        vertical-align: top;\n",
              "    }\n",
              "\n",
              "    .dataframe thead th {\n",
              "        text-align: right;\n",
              "    }\n",
              "</style>\n",
              "<table border=\"1\" class=\"dataframe\">\n",
              "  <thead>\n",
              "    <tr style=\"text-align: right;\">\n",
              "      <th></th>\n",
              "      <th>movie_id</th>\n",
              "      <th>title</th>\n",
              "      <th>genre</th>\n",
              "    </tr>\n",
              "  </thead>\n",
              "  <tbody>\n",
              "    <tr>\n",
              "      <th>0</th>\n",
              "      <td>1</td>\n",
              "      <td>Toy Story (1995)</td>\n",
              "      <td>Animation|Children's|Comedy</td>\n",
              "    </tr>\n",
              "    <tr>\n",
              "      <th>1948</th>\n",
              "      <td>2017</td>\n",
              "      <td>Babes in Toyland (1961)</td>\n",
              "      <td>Children's|Fantasy|Musical</td>\n",
              "    </tr>\n",
              "    <tr>\n",
              "      <th>2184</th>\n",
              "      <td>2253</td>\n",
              "      <td>Toys (1992)</td>\n",
              "      <td>Action|Comedy|Fantasy</td>\n",
              "    </tr>\n",
              "    <tr>\n",
              "      <th>3017</th>\n",
              "      <td>3086</td>\n",
              "      <td>March of the Wooden Soldiers (a.k.a. Laurel &amp; ...</td>\n",
              "      <td>Comedy</td>\n",
              "    </tr>\n",
              "    <tr>\n",
              "      <th>3045</th>\n",
              "      <td>3114</td>\n",
              "      <td>Toy Story 2 (1999)</td>\n",
              "      <td>Animation|Children's|Comedy</td>\n",
              "    </tr>\n",
              "  </tbody>\n",
              "</table>\n",
              "</div>\n",
              "      <button class=\"colab-df-convert\" onclick=\"convertToInteractive('df-3c518b3d-26b5-46a0-b697-b3ff0c4c1e43')\"\n",
              "              title=\"Convert this dataframe to an interactive table.\"\n",
              "              style=\"display:none;\">\n",
              "        \n",
              "  <svg xmlns=\"http://www.w3.org/2000/svg\" height=\"24px\"viewBox=\"0 0 24 24\"\n",
              "       width=\"24px\">\n",
              "    <path d=\"M0 0h24v24H0V0z\" fill=\"none\"/>\n",
              "    <path d=\"M18.56 5.44l.94 2.06.94-2.06 2.06-.94-2.06-.94-.94-2.06-.94 2.06-2.06.94zm-11 1L8.5 8.5l.94-2.06 2.06-.94-2.06-.94L8.5 2.5l-.94 2.06-2.06.94zm10 10l.94 2.06.94-2.06 2.06-.94-2.06-.94-.94-2.06-.94 2.06-2.06.94z\"/><path d=\"M17.41 7.96l-1.37-1.37c-.4-.4-.92-.59-1.43-.59-.52 0-1.04.2-1.43.59L10.3 9.45l-7.72 7.72c-.78.78-.78 2.05 0 2.83L4 21.41c.39.39.9.59 1.41.59.51 0 1.02-.2 1.41-.59l7.78-7.78 2.81-2.81c.8-.78.8-2.07 0-2.86zM5.41 20L4 18.59l7.72-7.72 1.47 1.35L5.41 20z\"/>\n",
              "  </svg>\n",
              "      </button>\n",
              "      \n",
              "  <style>\n",
              "    .colab-df-container {\n",
              "      display:flex;\n",
              "      flex-wrap:wrap;\n",
              "      gap: 12px;\n",
              "    }\n",
              "\n",
              "    .colab-df-convert {\n",
              "      background-color: #E8F0FE;\n",
              "      border: none;\n",
              "      border-radius: 50%;\n",
              "      cursor: pointer;\n",
              "      display: none;\n",
              "      fill: #1967D2;\n",
              "      height: 32px;\n",
              "      padding: 0 0 0 0;\n",
              "      width: 32px;\n",
              "    }\n",
              "\n",
              "    .colab-df-convert:hover {\n",
              "      background-color: #E2EBFA;\n",
              "      box-shadow: 0px 1px 2px rgba(60, 64, 67, 0.3), 0px 1px 3px 1px rgba(60, 64, 67, 0.15);\n",
              "      fill: #174EA6;\n",
              "    }\n",
              "\n",
              "    [theme=dark] .colab-df-convert {\n",
              "      background-color: #3B4455;\n",
              "      fill: #D2E3FC;\n",
              "    }\n",
              "\n",
              "    [theme=dark] .colab-df-convert:hover {\n",
              "      background-color: #434B5C;\n",
              "      box-shadow: 0px 1px 3px 1px rgba(0, 0, 0, 0.15);\n",
              "      filter: drop-shadow(0px 1px 2px rgba(0, 0, 0, 0.3));\n",
              "      fill: #FFFFFF;\n",
              "    }\n",
              "  </style>\n",
              "\n",
              "      <script>\n",
              "        const buttonEl =\n",
              "          document.querySelector('#df-3c518b3d-26b5-46a0-b697-b3ff0c4c1e43 button.colab-df-convert');\n",
              "        buttonEl.style.display =\n",
              "          google.colab.kernel.accessAllowed ? 'block' : 'none';\n",
              "\n",
              "        async function convertToInteractive(key) {\n",
              "          const element = document.querySelector('#df-3c518b3d-26b5-46a0-b697-b3ff0c4c1e43');\n",
              "          const dataTable =\n",
              "            await google.colab.kernel.invokeFunction('convertToInteractive',\n",
              "                                                     [key], {});\n",
              "          if (!dataTable) return;\n",
              "\n",
              "          const docLinkHtml = 'Like what you see? Visit the ' +\n",
              "            '<a target=\"_blank\" href=https://colab.research.google.com/notebooks/data_table.ipynb>data table notebook</a>'\n",
              "            + ' to learn more about interactive tables.';\n",
              "          element.innerHTML = '';\n",
              "          dataTable['output_type'] = 'display_data';\n",
              "          await google.colab.output.renderOutput(dataTable, element);\n",
              "          const docLink = document.createElement('div');\n",
              "          docLink.innerHTML = docLinkHtml;\n",
              "          element.appendChild(docLink);\n",
              "        }\n",
              "      </script>\n",
              "    </div>\n",
              "  </div>\n",
              "  "
            ]
          },
          "metadata": {},
          "execution_count": 88
        }
      ]
    },
    {
      "cell_type": "code",
      "source": [
        "# 이 title을 가진 영화는 존재하지 않는 것으로 판단된다.\n",
        "ratings[ratings['title'] == 'toy story 2']"
      ],
      "metadata": {
        "colab": {
          "base_uri": "https://localhost:8080/",
          "height": 49
        },
        "id": "n6aoAx801kCR",
        "outputId": "618df44a-a5fe-4736-98e8-44b852861c5d"
      },
      "execution_count": 89,
      "outputs": [
        {
          "output_type": "execute_result",
          "data": {
            "text/plain": [
              "Empty DataFrame\n",
              "Columns: [user_id, movie_id, counts, timestamp, title, genre]\n",
              "Index: []"
            ],
            "text/html": [
              "\n",
              "  <div id=\"df-689ee038-3920-455c-8282-873a1b159c59\">\n",
              "    <div class=\"colab-df-container\">\n",
              "      <div>\n",
              "<style scoped>\n",
              "    .dataframe tbody tr th:only-of-type {\n",
              "        vertical-align: middle;\n",
              "    }\n",
              "\n",
              "    .dataframe tbody tr th {\n",
              "        vertical-align: top;\n",
              "    }\n",
              "\n",
              "    .dataframe thead th {\n",
              "        text-align: right;\n",
              "    }\n",
              "</style>\n",
              "<table border=\"1\" class=\"dataframe\">\n",
              "  <thead>\n",
              "    <tr style=\"text-align: right;\">\n",
              "      <th></th>\n",
              "      <th>user_id</th>\n",
              "      <th>movie_id</th>\n",
              "      <th>counts</th>\n",
              "      <th>timestamp</th>\n",
              "      <th>title</th>\n",
              "      <th>genre</th>\n",
              "    </tr>\n",
              "  </thead>\n",
              "  <tbody>\n",
              "  </tbody>\n",
              "</table>\n",
              "</div>\n",
              "      <button class=\"colab-df-convert\" onclick=\"convertToInteractive('df-689ee038-3920-455c-8282-873a1b159c59')\"\n",
              "              title=\"Convert this dataframe to an interactive table.\"\n",
              "              style=\"display:none;\">\n",
              "        \n",
              "  <svg xmlns=\"http://www.w3.org/2000/svg\" height=\"24px\"viewBox=\"0 0 24 24\"\n",
              "       width=\"24px\">\n",
              "    <path d=\"M0 0h24v24H0V0z\" fill=\"none\"/>\n",
              "    <path d=\"M18.56 5.44l.94 2.06.94-2.06 2.06-.94-2.06-.94-.94-2.06-.94 2.06-2.06.94zm-11 1L8.5 8.5l.94-2.06 2.06-.94-2.06-.94L8.5 2.5l-.94 2.06-2.06.94zm10 10l.94 2.06.94-2.06 2.06-.94-2.06-.94-.94-2.06-.94 2.06-2.06.94z\"/><path d=\"M17.41 7.96l-1.37-1.37c-.4-.4-.92-.59-1.43-.59-.52 0-1.04.2-1.43.59L10.3 9.45l-7.72 7.72c-.78.78-.78 2.05 0 2.83L4 21.41c.39.39.9.59 1.41.59.51 0 1.02-.2 1.41-.59l7.78-7.78 2.81-2.81c.8-.78.8-2.07 0-2.86zM5.41 20L4 18.59l7.72-7.72 1.47 1.35L5.41 20z\"/>\n",
              "  </svg>\n",
              "      </button>\n",
              "      \n",
              "  <style>\n",
              "    .colab-df-container {\n",
              "      display:flex;\n",
              "      flex-wrap:wrap;\n",
              "      gap: 12px;\n",
              "    }\n",
              "\n",
              "    .colab-df-convert {\n",
              "      background-color: #E8F0FE;\n",
              "      border: none;\n",
              "      border-radius: 50%;\n",
              "      cursor: pointer;\n",
              "      display: none;\n",
              "      fill: #1967D2;\n",
              "      height: 32px;\n",
              "      padding: 0 0 0 0;\n",
              "      width: 32px;\n",
              "    }\n",
              "\n",
              "    .colab-df-convert:hover {\n",
              "      background-color: #E2EBFA;\n",
              "      box-shadow: 0px 1px 2px rgba(60, 64, 67, 0.3), 0px 1px 3px 1px rgba(60, 64, 67, 0.15);\n",
              "      fill: #174EA6;\n",
              "    }\n",
              "\n",
              "    [theme=dark] .colab-df-convert {\n",
              "      background-color: #3B4455;\n",
              "      fill: #D2E3FC;\n",
              "    }\n",
              "\n",
              "    [theme=dark] .colab-df-convert:hover {\n",
              "      background-color: #434B5C;\n",
              "      box-shadow: 0px 1px 3px 1px rgba(0, 0, 0, 0.15);\n",
              "      filter: drop-shadow(0px 1px 2px rgba(0, 0, 0, 0.3));\n",
              "      fill: #FFFFFF;\n",
              "    }\n",
              "  </style>\n",
              "\n",
              "      <script>\n",
              "        const buttonEl =\n",
              "          document.querySelector('#df-689ee038-3920-455c-8282-873a1b159c59 button.colab-df-convert');\n",
              "        buttonEl.style.display =\n",
              "          google.colab.kernel.accessAllowed ? 'block' : 'none';\n",
              "\n",
              "        async function convertToInteractive(key) {\n",
              "          const element = document.querySelector('#df-689ee038-3920-455c-8282-873a1b159c59');\n",
              "          const dataTable =\n",
              "            await google.colab.kernel.invokeFunction('convertToInteractive',\n",
              "                                                     [key], {});\n",
              "          if (!dataTable) return;\n",
              "\n",
              "          const docLinkHtml = 'Like what you see? Visit the ' +\n",
              "            '<a target=\"_blank\" href=https://colab.research.google.com/notebooks/data_table.ipynb>data table notebook</a>'\n",
              "            + ' to learn more about interactive tables.';\n",
              "          element.innerHTML = '';\n",
              "          dataTable['output_type'] = 'display_data';\n",
              "          await google.colab.output.renderOutput(dataTable, element);\n",
              "          const docLink = document.createElement('div');\n",
              "          docLink.innerHTML = docLinkHtml;\n",
              "          element.appendChild(docLink);\n",
              "        }\n",
              "      </script>\n",
              "    </div>\n",
              "  </div>\n",
              "  "
            ]
          },
          "metadata": {},
          "execution_count": 89
        }
      ]
    },
    {
      "cell_type": "code",
      "source": [
        "# # 오류 1 문제 해결\n",
        "movies[movies['title'].str.contains('toy s')]"
      ],
      "metadata": {
        "colab": {
          "base_uri": "https://localhost:8080/",
          "height": 112
        },
        "id": "9LsfiARr4vJe",
        "outputId": "a15075d0-3a4b-42a9-a349-cabca9d9ecbb"
      },
      "execution_count": 178,
      "outputs": [
        {
          "output_type": "execute_result",
          "data": {
            "text/plain": [
              "      movie_id        title                        genre\n",
              "0            1    toy story  animation children's comedy\n",
              "3045      3114  toy story 2  animation children's comedy"
            ],
            "text/html": [
              "\n",
              "  <div id=\"df-ca584e93-36c8-40b1-83ba-13c09fe84a90\">\n",
              "    <div class=\"colab-df-container\">\n",
              "      <div>\n",
              "<style scoped>\n",
              "    .dataframe tbody tr th:only-of-type {\n",
              "        vertical-align: middle;\n",
              "    }\n",
              "\n",
              "    .dataframe tbody tr th {\n",
              "        vertical-align: top;\n",
              "    }\n",
              "\n",
              "    .dataframe thead th {\n",
              "        text-align: right;\n",
              "    }\n",
              "</style>\n",
              "<table border=\"1\" class=\"dataframe\">\n",
              "  <thead>\n",
              "    <tr style=\"text-align: right;\">\n",
              "      <th></th>\n",
              "      <th>movie_id</th>\n",
              "      <th>title</th>\n",
              "      <th>genre</th>\n",
              "    </tr>\n",
              "  </thead>\n",
              "  <tbody>\n",
              "    <tr>\n",
              "      <th>0</th>\n",
              "      <td>1</td>\n",
              "      <td>toy story</td>\n",
              "      <td>animation children's comedy</td>\n",
              "    </tr>\n",
              "    <tr>\n",
              "      <th>3045</th>\n",
              "      <td>3114</td>\n",
              "      <td>toy story 2</td>\n",
              "      <td>animation children's comedy</td>\n",
              "    </tr>\n",
              "  </tbody>\n",
              "</table>\n",
              "</div>\n",
              "      <button class=\"colab-df-convert\" onclick=\"convertToInteractive('df-ca584e93-36c8-40b1-83ba-13c09fe84a90')\"\n",
              "              title=\"Convert this dataframe to an interactive table.\"\n",
              "              style=\"display:none;\">\n",
              "        \n",
              "  <svg xmlns=\"http://www.w3.org/2000/svg\" height=\"24px\"viewBox=\"0 0 24 24\"\n",
              "       width=\"24px\">\n",
              "    <path d=\"M0 0h24v24H0V0z\" fill=\"none\"/>\n",
              "    <path d=\"M18.56 5.44l.94 2.06.94-2.06 2.06-.94-2.06-.94-.94-2.06-.94 2.06-2.06.94zm-11 1L8.5 8.5l.94-2.06 2.06-.94-2.06-.94L8.5 2.5l-.94 2.06-2.06.94zm10 10l.94 2.06.94-2.06 2.06-.94-2.06-.94-.94-2.06-.94 2.06-2.06.94z\"/><path d=\"M17.41 7.96l-1.37-1.37c-.4-.4-.92-.59-1.43-.59-.52 0-1.04.2-1.43.59L10.3 9.45l-7.72 7.72c-.78.78-.78 2.05 0 2.83L4 21.41c.39.39.9.59 1.41.59.51 0 1.02-.2 1.41-.59l7.78-7.78 2.81-2.81c.8-.78.8-2.07 0-2.86zM5.41 20L4 18.59l7.72-7.72 1.47 1.35L5.41 20z\"/>\n",
              "  </svg>\n",
              "      </button>\n",
              "      \n",
              "  <style>\n",
              "    .colab-df-container {\n",
              "      display:flex;\n",
              "      flex-wrap:wrap;\n",
              "      gap: 12px;\n",
              "    }\n",
              "\n",
              "    .colab-df-convert {\n",
              "      background-color: #E8F0FE;\n",
              "      border: none;\n",
              "      border-radius: 50%;\n",
              "      cursor: pointer;\n",
              "      display: none;\n",
              "      fill: #1967D2;\n",
              "      height: 32px;\n",
              "      padding: 0 0 0 0;\n",
              "      width: 32px;\n",
              "    }\n",
              "\n",
              "    .colab-df-convert:hover {\n",
              "      background-color: #E2EBFA;\n",
              "      box-shadow: 0px 1px 2px rgba(60, 64, 67, 0.3), 0px 1px 3px 1px rgba(60, 64, 67, 0.15);\n",
              "      fill: #174EA6;\n",
              "    }\n",
              "\n",
              "    [theme=dark] .colab-df-convert {\n",
              "      background-color: #3B4455;\n",
              "      fill: #D2E3FC;\n",
              "    }\n",
              "\n",
              "    [theme=dark] .colab-df-convert:hover {\n",
              "      background-color: #434B5C;\n",
              "      box-shadow: 0px 1px 3px 1px rgba(0, 0, 0, 0.15);\n",
              "      filter: drop-shadow(0px 1px 2px rgba(0, 0, 0, 0.3));\n",
              "      fill: #FFFFFF;\n",
              "    }\n",
              "  </style>\n",
              "\n",
              "      <script>\n",
              "        const buttonEl =\n",
              "          document.querySelector('#df-ca584e93-36c8-40b1-83ba-13c09fe84a90 button.colab-df-convert');\n",
              "        buttonEl.style.display =\n",
              "          google.colab.kernel.accessAllowed ? 'block' : 'none';\n",
              "\n",
              "        async function convertToInteractive(key) {\n",
              "          const element = document.querySelector('#df-ca584e93-36c8-40b1-83ba-13c09fe84a90');\n",
              "          const dataTable =\n",
              "            await google.colab.kernel.invokeFunction('convertToInteractive',\n",
              "                                                     [key], {});\n",
              "          if (!dataTable) return;\n",
              "\n",
              "          const docLinkHtml = 'Like what you see? Visit the ' +\n",
              "            '<a target=\"_blank\" href=https://colab.research.google.com/notebooks/data_table.ipynb>data table notebook</a>'\n",
              "            + ' to learn more about interactive tables.';\n",
              "          element.innerHTML = '';\n",
              "          dataTable['output_type'] = 'display_data';\n",
              "          await google.colab.output.renderOutput(dataTable, element);\n",
              "          const docLink = document.createElement('div');\n",
              "          docLink.innerHTML = docLinkHtml;\n",
              "          element.appendChild(docLink);\n",
              "        }\n",
              "      </script>\n",
              "    </div>\n",
              "  </div>\n",
              "  "
            ]
          },
          "metadata": {},
          "execution_count": 178
        }
      ]
    },
    {
      "cell_type": "markdown",
      "source": [
        "ValueError: All arrays must be of the same length 오류가 뜨는 원인\n",
        "\n",
        "- title에서 연도만 전처리를 하길 원했으나 [(0-9)]는 모든 숫자를 전처리해버렸다. 그래서 [(]\\d\\d\\d\\d[)]로 조건을 주어 () 안에 숫자를 1개씩 지우는데 성공하였다.\n",
        "\n",
        "![캡처.PNG](data:image/png;base64,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)\n"
      ],
      "metadata": {
        "id": "IiIRwKm52xnx"
      }
    },
    {
      "cell_type": "code",
      "source": [
        "# 현재 시간\n",
        "from datetime import datetime\n",
        "now = datetime.now().strftime('%Y-%m-%d %H:%M:%S')\n",
        "\n",
        "# 영화 데이터의 이름은 반드시 데이터셋이랑 일치해야한다.\n",
        "# user_id의 마지막이 6040이므로 6041로 추가해준다\n",
        "\n",
        "my_list = pd.DataFrame({\n",
        "    'user_id': [6041]*5,\n",
        "    'movie_id': my_favorite.keys(),\n",
        "    'counts': [3,4,4,5,5],\n",
        "    'timestamp': [now]*5,\n",
        "    'title': my_favorite.values(),\n",
        "    'genre': get_genre_of_movie(my_favorite)})\n",
        "\n",
        "if not ratings.isin({'user_id':[6041]})['user_id'].any():\n",
        "  ratings = ratings.append(my_list)  \n",
        "# # user_id에 '6041'이라는 데이터가 없다면  위에 임의로 만든 my_favorite 데이터를 추가해 줍니다. \n",
        "\n",
        "ratings.tail(10)"
      ],
      "metadata": {
        "colab": {
          "base_uri": "https://localhost:8080/",
          "height": 363
        },
        "id": "rNO6y13lUEZs",
        "outputId": "bf4d8941-aadc-413c-cbaa-013b1792ddf2"
      },
      "execution_count": 186,
      "outputs": [
        {
          "output_type": "execute_result",
          "data": {
            "text/plain": [
              "         user_id  movie_id  counts            timestamp  \\\n",
              "1000203     6040      1090       3  2000-04-26 02:18:38   \n",
              "1000205     6040      1094       5  2000-04-25 23:21:27   \n",
              "1000206     6040       562       5  2000-04-25 23:19:06   \n",
              "1000207     6040      1096       4  2000-04-26 02:20:48   \n",
              "1000208     6040      1097       4  2000-04-26 02:19:29   \n",
              "0           6041      2571       3  2022-09-05 14:28:27   \n",
              "1           6041      1580       4  2022-09-05 14:28:27   \n",
              "2           6041      2716       4  2022-09-05 14:28:27   \n",
              "3           6041      1240       5  2022-09-05 14:28:27   \n",
              "4           6041         1       5  2022-09-05 14:28:27   \n",
              "\n",
              "                              title                            genre  \n",
              "1000203                     platoon                        drama war  \n",
              "1000205                 crying game                drama romance war  \n",
              "1000206    welcome to the dollhouse                     comedy drama  \n",
              "1000207             sophie's choice                            drama  \n",
              "1000208  e.t. the extra-terrestrial  children's drama fantasy sci-fi  \n",
              "0                            matrix           action sci-fi thriller  \n",
              "1                      men in black   action adventure comedy sci-fi  \n",
              "2                      ghostbusters                    comedy horror  \n",
              "3                        terminator           action sci-fi thriller  \n",
              "4                         toy story      animation children's comedy  "
            ],
            "text/html": [
              "\n",
              "  <div id=\"df-82a5952f-904d-4d0f-b328-ac2f6540d61d\">\n",
              "    <div class=\"colab-df-container\">\n",
              "      <div>\n",
              "<style scoped>\n",
              "    .dataframe tbody tr th:only-of-type {\n",
              "        vertical-align: middle;\n",
              "    }\n",
              "\n",
              "    .dataframe tbody tr th {\n",
              "        vertical-align: top;\n",
              "    }\n",
              "\n",
              "    .dataframe thead th {\n",
              "        text-align: right;\n",
              "    }\n",
              "</style>\n",
              "<table border=\"1\" class=\"dataframe\">\n",
              "  <thead>\n",
              "    <tr style=\"text-align: right;\">\n",
              "      <th></th>\n",
              "      <th>user_id</th>\n",
              "      <th>movie_id</th>\n",
              "      <th>counts</th>\n",
              "      <th>timestamp</th>\n",
              "      <th>title</th>\n",
              "      <th>genre</th>\n",
              "    </tr>\n",
              "  </thead>\n",
              "  <tbody>\n",
              "    <tr>\n",
              "      <th>1000203</th>\n",
              "      <td>6040</td>\n",
              "      <td>1090</td>\n",
              "      <td>3</td>\n",
              "      <td>2000-04-26 02:18:38</td>\n",
              "      <td>platoon</td>\n",
              "      <td>drama war</td>\n",
              "    </tr>\n",
              "    <tr>\n",
              "      <th>1000205</th>\n",
              "      <td>6040</td>\n",
              "      <td>1094</td>\n",
              "      <td>5</td>\n",
              "      <td>2000-04-25 23:21:27</td>\n",
              "      <td>crying game</td>\n",
              "      <td>drama romance war</td>\n",
              "    </tr>\n",
              "    <tr>\n",
              "      <th>1000206</th>\n",
              "      <td>6040</td>\n",
              "      <td>562</td>\n",
              "      <td>5</td>\n",
              "      <td>2000-04-25 23:19:06</td>\n",
              "      <td>welcome to the dollhouse</td>\n",
              "      <td>comedy drama</td>\n",
              "    </tr>\n",
              "    <tr>\n",
              "      <th>1000207</th>\n",
              "      <td>6040</td>\n",
              "      <td>1096</td>\n",
              "      <td>4</td>\n",
              "      <td>2000-04-26 02:20:48</td>\n",
              "      <td>sophie's choice</td>\n",
              "      <td>drama</td>\n",
              "    </tr>\n",
              "    <tr>\n",
              "      <th>1000208</th>\n",
              "      <td>6040</td>\n",
              "      <td>1097</td>\n",
              "      <td>4</td>\n",
              "      <td>2000-04-26 02:19:29</td>\n",
              "      <td>e.t. the extra-terrestrial</td>\n",
              "      <td>children's drama fantasy sci-fi</td>\n",
              "    </tr>\n",
              "    <tr>\n",
              "      <th>0</th>\n",
              "      <td>6041</td>\n",
              "      <td>2571</td>\n",
              "      <td>3</td>\n",
              "      <td>2022-09-05 14:28:27</td>\n",
              "      <td>matrix</td>\n",
              "      <td>action sci-fi thriller</td>\n",
              "    </tr>\n",
              "    <tr>\n",
              "      <th>1</th>\n",
              "      <td>6041</td>\n",
              "      <td>1580</td>\n",
              "      <td>4</td>\n",
              "      <td>2022-09-05 14:28:27</td>\n",
              "      <td>men in black</td>\n",
              "      <td>action adventure comedy sci-fi</td>\n",
              "    </tr>\n",
              "    <tr>\n",
              "      <th>2</th>\n",
              "      <td>6041</td>\n",
              "      <td>2716</td>\n",
              "      <td>4</td>\n",
              "      <td>2022-09-05 14:28:27</td>\n",
              "      <td>ghostbusters</td>\n",
              "      <td>comedy horror</td>\n",
              "    </tr>\n",
              "    <tr>\n",
              "      <th>3</th>\n",
              "      <td>6041</td>\n",
              "      <td>1240</td>\n",
              "      <td>5</td>\n",
              "      <td>2022-09-05 14:28:27</td>\n",
              "      <td>terminator</td>\n",
              "      <td>action sci-fi thriller</td>\n",
              "    </tr>\n",
              "    <tr>\n",
              "      <th>4</th>\n",
              "      <td>6041</td>\n",
              "      <td>1</td>\n",
              "      <td>5</td>\n",
              "      <td>2022-09-05 14:28:27</td>\n",
              "      <td>toy story</td>\n",
              "      <td>animation children's comedy</td>\n",
              "    </tr>\n",
              "  </tbody>\n",
              "</table>\n",
              "</div>\n",
              "      <button class=\"colab-df-convert\" onclick=\"convertToInteractive('df-82a5952f-904d-4d0f-b328-ac2f6540d61d')\"\n",
              "              title=\"Convert this dataframe to an interactive table.\"\n",
              "              style=\"display:none;\">\n",
              "        \n",
              "  <svg xmlns=\"http://www.w3.org/2000/svg\" height=\"24px\"viewBox=\"0 0 24 24\"\n",
              "       width=\"24px\">\n",
              "    <path d=\"M0 0h24v24H0V0z\" fill=\"none\"/>\n",
              "    <path d=\"M18.56 5.44l.94 2.06.94-2.06 2.06-.94-2.06-.94-.94-2.06-.94 2.06-2.06.94zm-11 1L8.5 8.5l.94-2.06 2.06-.94-2.06-.94L8.5 2.5l-.94 2.06-2.06.94zm10 10l.94 2.06.94-2.06 2.06-.94-2.06-.94-.94-2.06-.94 2.06-2.06.94z\"/><path d=\"M17.41 7.96l-1.37-1.37c-.4-.4-.92-.59-1.43-.59-.52 0-1.04.2-1.43.59L10.3 9.45l-7.72 7.72c-.78.78-.78 2.05 0 2.83L4 21.41c.39.39.9.59 1.41.59.51 0 1.02-.2 1.41-.59l7.78-7.78 2.81-2.81c.8-.78.8-2.07 0-2.86zM5.41 20L4 18.59l7.72-7.72 1.47 1.35L5.41 20z\"/>\n",
              "  </svg>\n",
              "      </button>\n",
              "      \n",
              "  <style>\n",
              "    .colab-df-container {\n",
              "      display:flex;\n",
              "      flex-wrap:wrap;\n",
              "      gap: 12px;\n",
              "    }\n",
              "\n",
              "    .colab-df-convert {\n",
              "      background-color: #E8F0FE;\n",
              "      border: none;\n",
              "      border-radius: 50%;\n",
              "      cursor: pointer;\n",
              "      display: none;\n",
              "      fill: #1967D2;\n",
              "      height: 32px;\n",
              "      padding: 0 0 0 0;\n",
              "      width: 32px;\n",
              "    }\n",
              "\n",
              "    .colab-df-convert:hover {\n",
              "      background-color: #E2EBFA;\n",
              "      box-shadow: 0px 1px 2px rgba(60, 64, 67, 0.3), 0px 1px 3px 1px rgba(60, 64, 67, 0.15);\n",
              "      fill: #174EA6;\n",
              "    }\n",
              "\n",
              "    [theme=dark] .colab-df-convert {\n",
              "      background-color: #3B4455;\n",
              "      fill: #D2E3FC;\n",
              "    }\n",
              "\n",
              "    [theme=dark] .colab-df-convert:hover {\n",
              "      background-color: #434B5C;\n",
              "      box-shadow: 0px 1px 3px 1px rgba(0, 0, 0, 0.15);\n",
              "      filter: drop-shadow(0px 1px 2px rgba(0, 0, 0, 0.3));\n",
              "      fill: #FFFFFF;\n",
              "    }\n",
              "  </style>\n",
              "\n",
              "      <script>\n",
              "        const buttonEl =\n",
              "          document.querySelector('#df-82a5952f-904d-4d0f-b328-ac2f6540d61d button.colab-df-convert');\n",
              "        buttonEl.style.display =\n",
              "          google.colab.kernel.accessAllowed ? 'block' : 'none';\n",
              "\n",
              "        async function convertToInteractive(key) {\n",
              "          const element = document.querySelector('#df-82a5952f-904d-4d0f-b328-ac2f6540d61d');\n",
              "          const dataTable =\n",
              "            await google.colab.kernel.invokeFunction('convertToInteractive',\n",
              "                                                     [key], {});\n",
              "          if (!dataTable) return;\n",
              "\n",
              "          const docLinkHtml = 'Like what you see? Visit the ' +\n",
              "            '<a target=\"_blank\" href=https://colab.research.google.com/notebooks/data_table.ipynb>data table notebook</a>'\n",
              "            + ' to learn more about interactive tables.';\n",
              "          element.innerHTML = '';\n",
              "          dataTable['output_type'] = 'display_data';\n",
              "          await google.colab.output.renderOutput(dataTable, element);\n",
              "          const docLink = document.createElement('div');\n",
              "          docLink.innerHTML = docLinkHtml;\n",
              "          element.appendChild(docLink);\n",
              "        }\n",
              "      </script>\n",
              "    </div>\n",
              "  </div>\n",
              "  "
            ]
          },
          "metadata": {},
          "execution_count": 186
        }
      ]
    },
    {
      "cell_type": "markdown",
      "source": [
        "모델에 활용하기 위한 전처리 \n",
        "\n",
        "user_id와 movie 각각에 번호를 붙이는 indexing 진행"
      ],
      "metadata": {
        "id": "AmYNtiUhEiq8"
      }
    },
    {
      "cell_type": "code",
      "source": [
        "# 고유한 유저, 영화를 찾아내는 코드\n",
        "user_unique = ratings['user_id'].unique()\n",
        "# movie_unique = ratings['movie_id'].unique()\n",
        "movie_unique = ratings['title'].unique()\n",
        "\n",
        "# 유저, 영화 indexing 하는 코드 idx는 index의 약자입니다.\n",
        "user_to_idx = {v:k for k,v in enumerate(user_unique)}\n",
        "movie_to_idx = {v:k for k,v in enumerate(movie_unique)}"
      ],
      "metadata": {
        "id": "OSaOaVZDErau"
      },
      "execution_count": 187,
      "outputs": []
    },
    {
      "cell_type": "code",
      "source": [
        "# indexing 결과 확인\n",
        "print(user_to_idx[6041]) \n",
        "print(movie_to_idx['terminator'])\n",
        "\n",
        "# 6040명의 유저 중 마지막으로 추가된 유저이니 6039가 나와야 합니다."
      ],
      "metadata": {
        "colab": {
          "base_uri": "https://localhost:8080/"
        },
        "id": "SDwnfQbfEzFq",
        "outputId": "034b0654-d3fa-48bc-f91e-226bb4fa8635"
      },
      "execution_count": 189,
      "outputs": [
        {
          "output_type": "stream",
          "name": "stdout",
          "text": [
            "6039\n",
            "200\n"
          ]
        }
      ]
    },
    {
      "cell_type": "code",
      "source": [
        "# indexing을 통해 데이터 컬럼 내 값을 바꾸는 코드\n",
        "\n",
        "# user_to_idx.get을 통해 user_id 컬럼의 모든 값을 인덱싱한 Series를 구해 봅시다. \n",
        "# 혹시 정상적으로 인덱싱되지 않은 row가 있다면 인덱스가 NaN이 될 테니 dropna()로 제거합니다. \n",
        "\n",
        "temp_user_ratings = ratings['user_id'].map(user_to_idx.get).dropna()\n",
        "if len(temp_user_ratings) == len(ratings):   # 모든 row가 정상적으로 인덱싱되었다면\n",
        "    print('user_id column indexing OK!!')\n",
        "    ratings['user_id'] = temp_user_ratings   # data['user_id']을 인덱싱된 Series로 교체해 줍니다. \n",
        "else:\n",
        "    print('user_id column indexing Fail!!')\n",
        "\n",
        "# artist_to_idx을 통해 artist 컬럼도 동일한 방식으로 인덱싱해 줍니다. \n",
        "temp_movie_ratings = ratings['title'].map(movie_to_idx.get).dropna()\n",
        "if len(temp_movie_ratings) == len(ratings):\n",
        "    print('movie column indexing OK!!')\n",
        "    ratings['movie_id'] = temp_movie_ratings\n",
        "else:\n",
        "    print('movie column indexing Fail!!')\n",
        "ratings"
      ],
      "metadata": {
        "colab": {
          "base_uri": "https://localhost:8080/",
          "height": 460
        },
        "id": "YpgYL3YxFYSr",
        "outputId": "d4c5c3c0-78cd-4b35-dace-879ed4799e4d"
      },
      "execution_count": 190,
      "outputs": [
        {
          "output_type": "stream",
          "name": "stdout",
          "text": [
            "user_id column indexing OK!!\n",
            "movie column indexing OK!!\n"
          ]
        },
        {
          "output_type": "execute_result",
          "data": {
            "text/plain": [
              "    user_id  movie_id  counts            timestamp  \\\n",
              "0         0         0       5  2000-12-31 22:12:40   \n",
              "1         0         1       3  2000-12-31 22:35:09   \n",
              "2         0         2       3  2000-12-31 22:32:48   \n",
              "3         0         3       4  2000-12-31 22:04:35   \n",
              "4         0         4       5  2001-01-06 23:38:11   \n",
              "..      ...       ...     ...                  ...   \n",
              "0      6039       124       3  2022-09-05 14:28:27   \n",
              "1      6039       175       4  2022-09-05 14:28:27   \n",
              "2      6039       243       4  2022-09-05 14:28:27   \n",
              "3      6039       200       5  2022-09-05 14:28:27   \n",
              "4      6039        40       5  2022-09-05 14:28:27   \n",
              "\n",
              "                              title                           genre  \n",
              "0   one flew over the cuckoo's nest                           drama  \n",
              "1         james and the giant peach    animation children's musical  \n",
              "2                      my fair lady                 musical romance  \n",
              "3                   erin brockovich                           drama  \n",
              "4                        bug's life     animation children's comedy  \n",
              "..                              ...                             ...  \n",
              "0                            matrix          action sci-fi thriller  \n",
              "1                      men in black  action adventure comedy sci-fi  \n",
              "2                      ghostbusters                   comedy horror  \n",
              "3                        terminator          action sci-fi thriller  \n",
              "4                         toy story     animation children's comedy  \n",
              "\n",
              "[836483 rows x 6 columns]"
            ],
            "text/html": [
              "\n",
              "  <div id=\"df-82b09a0a-6a02-4100-907f-899fcc4c7d20\">\n",
              "    <div class=\"colab-df-container\">\n",
              "      <div>\n",
              "<style scoped>\n",
              "    .dataframe tbody tr th:only-of-type {\n",
              "        vertical-align: middle;\n",
              "    }\n",
              "\n",
              "    .dataframe tbody tr th {\n",
              "        vertical-align: top;\n",
              "    }\n",
              "\n",
              "    .dataframe thead th {\n",
              "        text-align: right;\n",
              "    }\n",
              "</style>\n",
              "<table border=\"1\" class=\"dataframe\">\n",
              "  <thead>\n",
              "    <tr style=\"text-align: right;\">\n",
              "      <th></th>\n",
              "      <th>user_id</th>\n",
              "      <th>movie_id</th>\n",
              "      <th>counts</th>\n",
              "      <th>timestamp</th>\n",
              "      <th>title</th>\n",
              "      <th>genre</th>\n",
              "    </tr>\n",
              "  </thead>\n",
              "  <tbody>\n",
              "    <tr>\n",
              "      <th>0</th>\n",
              "      <td>0</td>\n",
              "      <td>0</td>\n",
              "      <td>5</td>\n",
              "      <td>2000-12-31 22:12:40</td>\n",
              "      <td>one flew over the cuckoo's nest</td>\n",
              "      <td>drama</td>\n",
              "    </tr>\n",
              "    <tr>\n",
              "      <th>1</th>\n",
              "      <td>0</td>\n",
              "      <td>1</td>\n",
              "      <td>3</td>\n",
              "      <td>2000-12-31 22:35:09</td>\n",
              "      <td>james and the giant peach</td>\n",
              "      <td>animation children's musical</td>\n",
              "    </tr>\n",
              "    <tr>\n",
              "      <th>2</th>\n",
              "      <td>0</td>\n",
              "      <td>2</td>\n",
              "      <td>3</td>\n",
              "      <td>2000-12-31 22:32:48</td>\n",
              "      <td>my fair lady</td>\n",
              "      <td>musical romance</td>\n",
              "    </tr>\n",
              "    <tr>\n",
              "      <th>3</th>\n",
              "      <td>0</td>\n",
              "      <td>3</td>\n",
              "      <td>4</td>\n",
              "      <td>2000-12-31 22:04:35</td>\n",
              "      <td>erin brockovich</td>\n",
              "      <td>drama</td>\n",
              "    </tr>\n",
              "    <tr>\n",
              "      <th>4</th>\n",
              "      <td>0</td>\n",
              "      <td>4</td>\n",
              "      <td>5</td>\n",
              "      <td>2001-01-06 23:38:11</td>\n",
              "      <td>bug's life</td>\n",
              "      <td>animation children's comedy</td>\n",
              "    </tr>\n",
              "    <tr>\n",
              "      <th>...</th>\n",
              "      <td>...</td>\n",
              "      <td>...</td>\n",
              "      <td>...</td>\n",
              "      <td>...</td>\n",
              "      <td>...</td>\n",
              "      <td>...</td>\n",
              "    </tr>\n",
              "    <tr>\n",
              "      <th>0</th>\n",
              "      <td>6039</td>\n",
              "      <td>124</td>\n",
              "      <td>3</td>\n",
              "      <td>2022-09-05 14:28:27</td>\n",
              "      <td>matrix</td>\n",
              "      <td>action sci-fi thriller</td>\n",
              "    </tr>\n",
              "    <tr>\n",
              "      <th>1</th>\n",
              "      <td>6039</td>\n",
              "      <td>175</td>\n",
              "      <td>4</td>\n",
              "      <td>2022-09-05 14:28:27</td>\n",
              "      <td>men in black</td>\n",
              "      <td>action adventure comedy sci-fi</td>\n",
              "    </tr>\n",
              "    <tr>\n",
              "      <th>2</th>\n",
              "      <td>6039</td>\n",
              "      <td>243</td>\n",
              "      <td>4</td>\n",
              "      <td>2022-09-05 14:28:27</td>\n",
              "      <td>ghostbusters</td>\n",
              "      <td>comedy horror</td>\n",
              "    </tr>\n",
              "    <tr>\n",
              "      <th>3</th>\n",
              "      <td>6039</td>\n",
              "      <td>200</td>\n",
              "      <td>5</td>\n",
              "      <td>2022-09-05 14:28:27</td>\n",
              "      <td>terminator</td>\n",
              "      <td>action sci-fi thriller</td>\n",
              "    </tr>\n",
              "    <tr>\n",
              "      <th>4</th>\n",
              "      <td>6039</td>\n",
              "      <td>40</td>\n",
              "      <td>5</td>\n",
              "      <td>2022-09-05 14:28:27</td>\n",
              "      <td>toy story</td>\n",
              "      <td>animation children's comedy</td>\n",
              "    </tr>\n",
              "  </tbody>\n",
              "</table>\n",
              "<p>836483 rows × 6 columns</p>\n",
              "</div>\n",
              "      <button class=\"colab-df-convert\" onclick=\"convertToInteractive('df-82b09a0a-6a02-4100-907f-899fcc4c7d20')\"\n",
              "              title=\"Convert this dataframe to an interactive table.\"\n",
              "              style=\"display:none;\">\n",
              "        \n",
              "  <svg xmlns=\"http://www.w3.org/2000/svg\" height=\"24px\"viewBox=\"0 0 24 24\"\n",
              "       width=\"24px\">\n",
              "    <path d=\"M0 0h24v24H0V0z\" fill=\"none\"/>\n",
              "    <path d=\"M18.56 5.44l.94 2.06.94-2.06 2.06-.94-2.06-.94-.94-2.06-.94 2.06-2.06.94zm-11 1L8.5 8.5l.94-2.06 2.06-.94-2.06-.94L8.5 2.5l-.94 2.06-2.06.94zm10 10l.94 2.06.94-2.06 2.06-.94-2.06-.94-.94-2.06-.94 2.06-2.06.94z\"/><path d=\"M17.41 7.96l-1.37-1.37c-.4-.4-.92-.59-1.43-.59-.52 0-1.04.2-1.43.59L10.3 9.45l-7.72 7.72c-.78.78-.78 2.05 0 2.83L4 21.41c.39.39.9.59 1.41.59.51 0 1.02-.2 1.41-.59l7.78-7.78 2.81-2.81c.8-.78.8-2.07 0-2.86zM5.41 20L4 18.59l7.72-7.72 1.47 1.35L5.41 20z\"/>\n",
              "  </svg>\n",
              "      </button>\n",
              "      \n",
              "  <style>\n",
              "    .colab-df-container {\n",
              "      display:flex;\n",
              "      flex-wrap:wrap;\n",
              "      gap: 12px;\n",
              "    }\n",
              "\n",
              "    .colab-df-convert {\n",
              "      background-color: #E8F0FE;\n",
              "      border: none;\n",
              "      border-radius: 50%;\n",
              "      cursor: pointer;\n",
              "      display: none;\n",
              "      fill: #1967D2;\n",
              "      height: 32px;\n",
              "      padding: 0 0 0 0;\n",
              "      width: 32px;\n",
              "    }\n",
              "\n",
              "    .colab-df-convert:hover {\n",
              "      background-color: #E2EBFA;\n",
              "      box-shadow: 0px 1px 2px rgba(60, 64, 67, 0.3), 0px 1px 3px 1px rgba(60, 64, 67, 0.15);\n",
              "      fill: #174EA6;\n",
              "    }\n",
              "\n",
              "    [theme=dark] .colab-df-convert {\n",
              "      background-color: #3B4455;\n",
              "      fill: #D2E3FC;\n",
              "    }\n",
              "\n",
              "    [theme=dark] .colab-df-convert:hover {\n",
              "      background-color: #434B5C;\n",
              "      box-shadow: 0px 1px 3px 1px rgba(0, 0, 0, 0.15);\n",
              "      filter: drop-shadow(0px 1px 2px rgba(0, 0, 0, 0.3));\n",
              "      fill: #FFFFFF;\n",
              "    }\n",
              "  </style>\n",
              "\n",
              "      <script>\n",
              "        const buttonEl =\n",
              "          document.querySelector('#df-82b09a0a-6a02-4100-907f-899fcc4c7d20 button.colab-df-convert');\n",
              "        buttonEl.style.display =\n",
              "          google.colab.kernel.accessAllowed ? 'block' : 'none';\n",
              "\n",
              "        async function convertToInteractive(key) {\n",
              "          const element = document.querySelector('#df-82b09a0a-6a02-4100-907f-899fcc4c7d20');\n",
              "          const dataTable =\n",
              "            await google.colab.kernel.invokeFunction('convertToInteractive',\n",
              "                                                     [key], {});\n",
              "          if (!dataTable) return;\n",
              "\n",
              "          const docLinkHtml = 'Like what you see? Visit the ' +\n",
              "            '<a target=\"_blank\" href=https://colab.research.google.com/notebooks/data_table.ipynb>data table notebook</a>'\n",
              "            + ' to learn more about interactive tables.';\n",
              "          element.innerHTML = '';\n",
              "          dataTable['output_type'] = 'display_data';\n",
              "          await google.colab.output.renderOutput(dataTable, element);\n",
              "          const docLink = document.createElement('div');\n",
              "          docLink.innerHTML = docLinkHtml;\n",
              "          element.appendChild(docLink);\n",
              "        }\n",
              "      </script>\n",
              "    </div>\n",
              "  </div>\n",
              "  "
            ]
          },
          "metadata": {},
          "execution_count": 190
        }
      ]
    },
    {
      "cell_type": "markdown",
      "source": [
        "# 4) CSR matrix를 직접 만들어 봅시다.\n",
        "\n",
        "- 매우 커진 평가행렬 용량은 CSR matrix를 사용하면 최소한의 사용량으로 Sparse한 matrix와 동일한 행렬을 표현 가능하다."
      ],
      "metadata": {
        "id": "NoMn3eAep9y4"
      }
    },
    {
      "cell_type": "code",
      "source": [
        "from scipy.sparse import csr_matrix\n",
        "\n",
        "num_user = ratings['user_id'].nunique()\n",
        "num_movie = ratings['movie_id'].nunique()\n",
        "\n",
        "csr_data = csr_matrix((ratings.counts, (ratings.user_id, ratings.movie_id)), shape= (num_user, num_movie))\n",
        "csr_data"
      ],
      "metadata": {
        "colab": {
          "base_uri": "https://localhost:8080/"
        },
        "id": "_Ksadzm8JuWt",
        "outputId": "8841002b-69f2-4949-a5d8-df84cdd241c1"
      },
      "execution_count": 196,
      "outputs": [
        {
          "output_type": "execute_result",
          "data": {
            "text/plain": [
              "<6040x3579 sparse matrix of type '<class 'numpy.int64'>'\n",
              "\twith 833986 stored elements in Compressed Sparse Row format>"
            ]
          },
          "metadata": {},
          "execution_count": 196
        }
      ]
    },
    {
      "cell_type": "markdown",
      "source": [
        "# 5) als_model = AlternatingLeastSquares 모델을 직접 구성하여 훈련시켜 봅시다.\n",
        "\n",
        "[implicit](https://github.com/benfred/implicit)\n",
        "\n",
        "- implicit 패키지는 이전 스텝에서 설명한 암묵적(implicit) dataset을 사용하는 다양한 모델을 굉장히 빠르게 학습할 수 있는 패키지\n",
        "\n",
        "- 이 패키지에 구현된 als\n",
        "(AlternatingLeastSquares) 모델을 사용\n",
        "\n",
        "- Matrix Factorization에서 쪼개진 두 Feature Matrix를 한꺼번에 훈련하는 것은 잘 수렴하지 않기 때문에, 한쪽을 고정시키고 다른 쪽을 학습하는 방식을 번갈아 수행하는 AlternatingLeastSquares 방식이 효과적인 것으로 알려져 있습니다."
      ],
      "metadata": {
        "id": "-2cod0dRp_Yj"
      }
    },
    {
      "cell_type": "code",
      "source": [
        "# als 모델 불러오기\n",
        "from implicit.als import AlternatingLeastSquares\n",
        "import os\n",
        "import numpy as np\n",
        "\n",
        "# implicit 라이브러리에서 권장하고 있는 부분입니다. 학습 내용과는 무관합니다.\n",
        "os.environ['OPENBLAS_NUM_THREADS']='1'\n",
        "os.environ['KMP_DUPLICATE_LIB_OK']='True'\n",
        "os.environ['MKL_NUM_THREADS']='1'"
      ],
      "metadata": {
        "id": "vC3CrissKGBi"
      },
      "execution_count": 197,
      "outputs": []
    },
    {
      "cell_type": "markdown",
      "source": [
        "AlternatingLeastSquares 클래스의 __init__ 파라미터를 살펴보겠습니다.\n",
        "\n",
        "(1) factors : 유저와 아이템의 벡터를 몇 차원으로 할 것인지\n",
        "\n",
        "(2) regularization : 과적합을 방지하기 위해 정규화 값을 얼마나 사용할 것인지\n",
        "\n",
        "(3) use_gpu : GPU를 사용할 것인지\n",
        "\n",
        "(4) iterations : epochs와 같은 의미입니다. 데이터를 몇 번 반복해서 학습할 것인지"
      ],
      "metadata": {
        "id": "_s5GRysfKOrv"
      }
    },
    {
      "cell_type": "code",
      "source": [
        "# Implicit AlternatingLeastSquares 모델의 선언\n",
        "als_model = AlternatingLeastSquares(factors=200, regularization=0.01, use_gpu=False, iterations=15, dtype=np.float32)"
      ],
      "metadata": {
        "id": "XTILx96EKRA9"
      },
      "execution_count": 198,
      "outputs": []
    },
    {
      "cell_type": "code",
      "source": [
        "als_model.fit(csr_data)"
      ],
      "metadata": {
        "colab": {
          "base_uri": "https://localhost:8080/",
          "height": 49,
          "referenced_widgets": [
            "e2c20d560c9f43679009fc02ff6ad00d",
            "714760a7135d448db9776296c0a7fe2e",
            "2af77a7e7a59444bbd9f6bf47df15112",
            "c5cb34a9ebe941ff8550a09e85884544",
            "fef3d58db08e464ca82dac641b3f7767",
            "51d8d4442de24d76beaac66199575d83",
            "a6bcbf1624014617af892445396e6175",
            "1d959462dd9842899cd3af4d1ec8c5b6",
            "a31375d0f25748cc96607225a92e6f28",
            "56b638fdee6444328b0368f7a18c1d5e",
            "f8395d61de32483d816fea3846bd737f"
          ]
        },
        "id": "s1QwIUOqKeiP",
        "outputId": "0c357ee0-9ce7-46d5-922e-8d10e6d50f83"
      },
      "execution_count": 199,
      "outputs": [
        {
          "output_type": "display_data",
          "data": {
            "text/plain": [
              "  0%|          | 0/15 [00:00<?, ?it/s]"
            ],
            "application/vnd.jupyter.widget-view+json": {
              "version_major": 2,
              "version_minor": 0,
              "model_id": "e2c20d560c9f43679009fc02ff6ad00d"
            }
          },
          "metadata": {}
        }
      ]
    },
    {
      "cell_type": "markdown",
      "source": [
        "# 6) 내가 선호하는 5가지 영화 중 하나와 그 외의 영화 하나를 골라 훈련된 모델이 예측한 나의 선호도를 파악해 보세요."
      ],
      "metadata": {
        "id": "-YMghtp-qBDT"
      }
    },
    {
      "cell_type": "code",
      "source": [
        "# user와 movie의 벡터 구하기\n",
        "user, terminator = user_to_idx[6041], movie_to_idx['terminator']\n",
        "user_vector, terminator_vector = als_model.user_factors[user], als_model.item_factors[terminator]"
      ],
      "metadata": {
        "id": "va7KxapiLxTt"
      },
      "execution_count": 203,
      "outputs": []
    },
    {
      "cell_type": "code",
      "source": [
        "# user와 movie를 내적하는 코드\n",
        "np.dot(user_vector, terminator_vector)\n",
        "\n",
        "# 0.57352877 \n",
        "# 'terminator'는 선호하는 영화였지만 수치가 약 0.57이 나왔다. \n",
        "# 1에 가깝게 나와야했으나 학습 결과가 아깝다.\n",
        "# factors를 늘리거나 iterations를 늘려야 할 것 같습니다."
      ],
      "metadata": {
        "colab": {
          "base_uri": "https://localhost:8080/"
        },
        "id": "amHDeQeGMp8t",
        "outputId": "abc7214f-7d12-4bcc-fe0b-a4999dc4e71d"
      },
      "execution_count": 204,
      "outputs": [
        {
          "output_type": "execute_result",
          "data": {
            "text/plain": [
              "0.57352877"
            ]
          },
          "metadata": {},
          "execution_count": 204
        }
      ]
    },
    {
      "cell_type": "code",
      "source": [
        "# 한번 더 선호도 비교해보기\n",
        "toystory = movie_to_idx['toy story']\n",
        "toystory_vector = als_model.item_factors[toystory]\n",
        "np.dot(user_vector, toystory_vector)\n",
        "\n",
        "# 0.6752075\n",
        "# 'terminator' 보다는 보다 좀 더 높게 나왔다."
      ],
      "metadata": {
        "colab": {
          "base_uri": "https://localhost:8080/"
        },
        "id": "yygyaT8WNea9",
        "outputId": "af0ce3cb-6d1e-4725-e7e8-43ab0336dc9a"
      },
      "execution_count": 206,
      "outputs": [
        {
          "output_type": "execute_result",
          "data": {
            "text/plain": [
              "0.6752075"
            ]
          },
          "metadata": {},
          "execution_count": 206
        }
      ]
    },
    {
      "cell_type": "markdown",
      "source": [
        "내적 벡터의 수치는 모델을 만드는 사람이 어느 정도 수치를 긍정적으로 볼 것인지에 따라 다르다. 추천 시스템은 다른 머신러닝 분석보다 객관적인 평가를 하기 힘들다."
      ],
      "metadata": {
        "id": "0kZPUBqBOAvw"
      }
    },
    {
      "cell_type": "markdown",
      "source": [
        "# 7) 내가 좋아하는 영화와 비슷한 영화를 추천받아 봅시다.\n",
        "\n",
        "- - similar_items 메서드를 통하여 내가 좋아하는 영화와 비슷한 영화를 찾습니다.\n",
        "\n"
      ],
      "metadata": {
        "id": "8qIs5KXTqDRp"
      }
    },
    {
      "cell_type": "code",
      "source": [
        "favorite_movie = 'terminator'\n",
        "movie_title = movie_to_idx[favorite_movie]\n",
        "similar_movie_idx, similar_movie = als_model.similar_items(movie_title, N=15)\n",
        " # lms에서는 그냥 튜플로 나오지만 이 버전에서는 리턴이 두개로 나옵니다 :)\n",
        "print(similar_movie_idx)\n",
        "print(similar_movie)\n",
        "tuple_similar_movie = [(similar_movie_idx[i], similar_movie[i]) for i in range(15)]"
      ],
      "metadata": {
        "colab": {
          "base_uri": "https://localhost:8080/"
        },
        "id": "aF4g_MWAPkiu",
        "outputId": "108a3b52-121e-4aa9-a888-fd3c2d53b6ec"
      },
      "execution_count": 223,
      "outputs": [
        {
          "output_type": "stream",
          "name": "stdout",
          "text": [
            "[ 200  647   92  194  193  858  124  921   62  676  875  117  172 2068\n",
            " 2921]\n",
            "[1.0000001  0.65415037 0.6250364  0.59156525 0.52558225 0.52020043\n",
            " 0.44011515 0.43303365 0.39247212 0.37215436 0.36350393 0.36131033\n",
            " 0.3601549  0.3560355  0.3518998 ]\n"
          ]
        }
      ]
    },
    {
      "cell_type": "code",
      "source": [
        "# movie_to_idx 를 뒤집어, index로부터 artist 이름을 얻는 dict를 생성합니다. \n",
        "idx_to_movie = {v:k for k,v in movie_to_idx.items()}\n",
        "[idx_to_movie[i[0]] for i in tuple_similar_movie]\n",
        "\n",
        "# 선호하는 유형과 유사한 영화 : terminator, aliens, terminator 2: judgment day, alien, predator, matrix\n",
        "# 꽤 유사하게 나온것을 알 수 있음."
      ],
      "metadata": {
        "colab": {
          "base_uri": "https://localhost:8080/"
        },
        "id": "b-xplueIQJ6V",
        "outputId": "8b4f96b6-7b15-488f-e91c-d12b87a5bc7d"
      },
      "execution_count": 224,
      "outputs": [
        {
          "output_type": "execute_result",
          "data": {
            "text/plain": [
              "['terminator',\n",
              " 'aliens',\n",
              " 'terminator 2: judgment day',\n",
              " 'die hard',\n",
              " 'alien',\n",
              " 'predator',\n",
              " 'matrix',\n",
              " 'robocop',\n",
              " 'total recall',\n",
              " 'blade runner',\n",
              " 'mad max 2 (a.k.a. the road warrior)',\n",
              " 'star wars: episode v - the empire strikes back',\n",
              " 'indiana jones and the last crusade',\n",
              " 'career girls',\n",
              " 'shattered image']"
            ]
          },
          "metadata": {},
          "execution_count": 224
        }
      ]
    },
    {
      "cell_type": "code",
      "source": [
        "# 반복적인 확인을 위해 함수 구현\n",
        "def get_similar_movie(movie_name: str):\n",
        "    movie_title = movie_to_idx[movie_name]\n",
        "    similar_movie_idx, similar_movie = als_model.similar_items(movie_title, N=15)\n",
        "    similar_movie = [idx_to_movie[i] for i in similar_movie_idx]\n",
        "    return similar_movie"
      ],
      "metadata": {
        "id": "OuJDW7_ZQowH"
      },
      "execution_count": 256,
      "outputs": []
    },
    {
      "cell_type": "code",
      "source": [
        "get_similar_movie('terminator')"
      ],
      "metadata": {
        "colab": {
          "base_uri": "https://localhost:8080/"
        },
        "id": "cEUya0mRRRuY",
        "outputId": "4ff73b0e-8885-413b-c47d-550b9977fb66"
      },
      "execution_count": 261,
      "outputs": [
        {
          "output_type": "execute_result",
          "data": {
            "text/plain": [
              "['terminator',\n",
              " 'aliens',\n",
              " 'terminator 2: judgment day',\n",
              " 'die hard',\n",
              " 'alien',\n",
              " 'predator',\n",
              " 'matrix',\n",
              " 'robocop',\n",
              " 'total recall',\n",
              " 'blade runner',\n",
              " 'mad max 2 (a.k.a. the road warrior)',\n",
              " 'star wars: episode v - the empire strikes back',\n",
              " 'indiana jones and the last crusade',\n",
              " 'career girls',\n",
              " 'shattered image']"
            ]
          },
          "metadata": {},
          "execution_count": 261
        }
      ]
    },
    {
      "cell_type": "markdown",
      "source": [
        "# 8) 내가 가장 좋아할 만한 영화들을 추천받아 봅시다.\n",
        "\n",
        "- recommend 메서드를 통하여 제가 좋아할 만한 아티스트를 추천받습니다. filter_already_liked_items 는 유저가 이미 평가한 아이템은 제외하는 Argument입니다."
      ],
      "metadata": {
        "id": "PVQHzCdxqFLl"
      }
    },
    {
      "cell_type": "code",
      "source": [
        "user = user_to_idx[6041]\n",
        "movie_recommended_idx, movie_recommended = als_model.recommend(user, csr_data[user], N=15, filter_already_liked_items=True)\n",
        "tuple_movie_recommended = [(movie_recommended_idx[i], movie_recommended[i]) for i in range(15)]\n",
        "tuple_movie_recommended"
      ],
      "metadata": {
        "id": "xOMxYgwvp7Mc",
        "colab": {
          "base_uri": "https://localhost:8080/"
        },
        "outputId": "8c1d168f-e195-4c3d-ed53-ba68d2cf8fb9"
      },
      "execution_count": 262,
      "outputs": [
        {
          "output_type": "execute_result",
          "data": {
            "text/plain": [
              "[(92, 0.70401835),\n",
              " (62, 0.39430207),\n",
              " (107, 0.331925),\n",
              " (50, 0.3178971),\n",
              " (647, 0.2921992),\n",
              " (22, 0.28704047),\n",
              " (4, 0.25424233),\n",
              " (38, 0.2468125),\n",
              " (193, 0.23300958),\n",
              " (141, 0.23028316),\n",
              " (666, 0.21198219),\n",
              " (117, 0.20620136),\n",
              " (985, 0.19806173),\n",
              " (194, 0.1950492),\n",
              " (145, 0.19079298)]"
            ]
          },
          "metadata": {},
          "execution_count": 262
        }
      ]
    },
    {
      "cell_type": "code",
      "execution_count": 263,
      "metadata": {
        "id": "8jWQi08rklnK",
        "colab": {
          "base_uri": "https://localhost:8080/"
        },
        "outputId": "7cf1170a-1ead-4beb-f6a1-870c082f379b"
      },
      "outputs": [
        {
          "output_type": "execute_result",
          "data": {
            "text/plain": [
              "['terminator 2: judgment day',\n",
              " 'total recall',\n",
              " 'jurassic park',\n",
              " 'toy story 2',\n",
              " 'aliens',\n",
              " 'back to the future',\n",
              " \"bug's life\",\n",
              " 'sixth sense',\n",
              " 'alien',\n",
              " 'fugitive',\n",
              " 'galaxy quest',\n",
              " 'star wars: episode v - the empire strikes back',\n",
              " 'shining',\n",
              " 'die hard',\n",
              " 'fifth element']"
            ]
          },
          "metadata": {},
          "execution_count": 263
        }
      ],
      "source": [
        "[idx_to_movie[i[0]] for i in tuple_movie_recommended]\n",
        "\n",
        "# 가장 추천을 해주고 있는것은 'terminator 2: judgment day'이다."
      ]
    },
    {
      "cell_type": "code",
      "source": [
        "# 'terminator 2: judgment day'가 추천에 기여한 정도를 확인해보기\n",
        "# 이 method는 추천한 콘텐츠의 점수에 기여한 다른 콘텐츠와 기여도(합이 콘텐츠의 점수가 됩니다.)를 반환합니다.\n",
        "\n",
        "terminator2 = movie_to_idx['terminator 2: judgment day']\n",
        "explain = als_model.explain(user, csr_data, itemid=terminator2)\n",
        "\n",
        "[(idx_to_movie[i[0]], i[1]) for i in explain[1]]"
      ],
      "metadata": {
        "colab": {
          "base_uri": "https://localhost:8080/"
        },
        "id": "f_Xzp_1bW8Zp",
        "outputId": "d6b85ae0-25a6-49bd-ea80-8ffeb8870615"
      },
      "execution_count": 265,
      "outputs": [
        {
          "output_type": "execute_result",
          "data": {
            "text/plain": [
              "[('terminator', 0.32060944915755096),\n",
              " ('matrix', 0.21981300995186617),\n",
              " ('men in black', 0.13291993309756622),\n",
              " ('toy story', 0.0256587843729875),\n",
              " ('ghostbusters', -0.004531121999265157)]"
            ]
          },
          "metadata": {},
          "execution_count": 265
        }
      ]
    },
    {
      "cell_type": "markdown",
      "source": [
        "# 회고"
      ],
      "metadata": {
        "id": "lX7qGW4XKysW"
      }
    },
    {
      "cell_type": "markdown",
      "source": [
        "1. 이번 프로젝트에서 어려웠던 점\n",
        " \n",
        " (1) movie 파일에서 title과 genre의 문자 전처리가 쉽지 않았습니다. 사실 전처리가 필요한 프로젝트가 아니었지만 만약 필요하다면 어땠을까? 라는 생각을하여 진행하였습니다.\n",
        "\n",
        " (2) 전처리 후 예상하지 못한 변수가 많았습니다. 예를들어 Toy Story (1995)와 Toy Story 2 (1998)이 있을때 전처리 후 둘 다 toy story가 되어버려 데이터 분석에서 계속 오류가 발생했습니다."
      ],
      "metadata": {
        "id": "ojmxzLRyK1cS"
      }
    },
    {
      "cell_type": "markdown",
      "source": [
        "2. 프로젝트를 진행하면서 알게된 부분 또는 아직 이해하지 못한 부분\n",
        "\n",
        "(1) 낯설었던 정규표현식 사용법에 조금 더 다가가게되었습니다.\n",
        "\n",
        "- 문자, 기호, 숫자가 혼합된 Data를 전처리 해본 경우가 처음이라 예상치 못한 오류가 많았으나 정규표현식 적용을 연습 할 수 있는 사이트에서 연습하여 잘 완료 할 수 있었습니다.\n",
        "\n",
        "\n",
        "\n"
      ],
      "metadata": {
        "id": "cMgNvnfQLhyy"
      }
    },
    {
      "cell_type": "markdown",
      "source": [
        "참조\n",
        "\n",
        "(1) [정규표현식 참조](http://pythonstudy.xyz/python/article/401-%EC%A0%95%EA%B7%9C-%ED%91%9C%ED%98%84%EC%8B%9D-Regex)\n",
        "\n",
        "(2) [정규표현식 연습](https://regexr.com/)\n",
        "\n"
      ],
      "metadata": {
        "id": "xWtviva-f2gG"
      }
    }
  ]
}